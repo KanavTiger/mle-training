{
 "cells": [
  {
   "attachments": {},
   "cell_type": "markdown",
   "metadata": {},
   "source": [
    "# Purpose\n",
    "This notebook describes the typical activities carried out  at the beginning to a project / thread when customer shares new data. We will be trying to understand the tables, columns and information flow. Typically we also look for data issues and confirm with respective owners for resolution. At the end of this activity, the data sources and their treatment is finalized. Code in this notebook will not be part of the production code.\n",
    "\n",
    "This data can be downloaded from\n",
    "[here](https://drive.google.com/file/d/11DqcBxxEcn3QA4YvPQmmExBm-m6AgUQ_/view?usp=sharing)\n",
    "\n",
    "**NOTE**:\n",
    "Download the data from the above link, and copy the extracted csv files to the path `data/raw/sales/` (relative to root of the code archive folder). Make sure to copy the files before continuing on with the rest of the notebook.\n",
    "\n",
    "# Initialization"
   ]
  },
  {
   "cell_type": "code",
   "execution_count": 23,
   "metadata": {},
   "outputs": [
    {
     "name": "stdout",
     "output_type": "stream",
     "text": [
      "The autoreload extension is already loaded. To reload it, use:\n",
      "  %reload_ext autoreload\n"
     ]
    }
   ],
   "source": [
    "%load_ext autoreload\n",
    "%autoreload 2"
   ]
  },
  {
   "cell_type": "markdown",
   "metadata": {},
   "source": [
    "use python 3.8 to re-create ta-lib-dev."
   ]
  },
  {
   "cell_type": "code",
   "execution_count": 24,
   "metadata": {},
   "outputs": [
    {
     "name": "stdout",
     "output_type": "stream",
     "text": [
      "CPU times: user 928 µs, sys: 660 µs, total: 1.59 ms\n",
      "Wall time: 1.63 ms\n"
     ]
    }
   ],
   "source": [
    "%%time\n",
    "\n",
    "# Third-party imports\n",
    "import os.path as op\n",
    "import pandas as pd\n",
    "import great_expectations as ge\n",
    "\n",
    "# Project imports\n",
    "from ta_lib.core.api import display_as_tabs, initialize_environment\n",
    "\n",
    "# Initialization\n",
    "initialize_environment(debug=False, hide_warnings=True)"
   ]
  },
  {
   "attachments": {},
   "cell_type": "markdown",
   "metadata": {},
   "source": [
    "# Data\n",
    "\n",
    "## Background\n",
    "\n",
    "Customer is a distributor of electronic devices. They partner with manufacturers, carriers and refurbishers and sell across to  retailers. The selling price is the outcome of negotiation between sales representatives and retailers. Customer wants to understand the selling price variation and determine  optimal pricing with Machine Learning."
   ]
  },
  {
   "cell_type": "code",
   "execution_count": 25,
   "metadata": {},
   "outputs": [],
   "source": [
    "from ta_lib.core.api import create_context, list_datasets, load_dataset"
   ]
  },
  {
   "cell_type": "code",
   "execution_count": null,
   "metadata": {},
   "outputs": [],
   "source": [
    "config_path = op.join('conf', 'config.yml') # type: ignore\n",
    "context = create_context(config_path)"
   ]
  },
  {
   "cell_type": "code",
   "execution_count": 27,
   "metadata": {},
   "outputs": [
    {
     "data": {
      "text/plain": [
       "['/raw/orders',\n",
       " '/raw/product',\n",
       " '/cleaned/orders',\n",
       " '/cleaned/product',\n",
       " '/cleaned/sales',\n",
       " '/processed/sales',\n",
       " '/train/sales/features',\n",
       " '/train/sales/target',\n",
       " '/test/sales/features',\n",
       " '/test/sales/target',\n",
       " '/score/sales/output']"
      ]
     },
     "execution_count": 27,
     "metadata": {},
     "output_type": "execute_result"
    }
   ],
   "source": [
    "list_datasets(context)"
   ]
  },
  {
   "cell_type": "code",
   "execution_count": 28,
   "metadata": {},
   "outputs": [],
   "source": [
    "# load datasets\n",
    "orders_df = load_dataset(context, 'raw/orders') # getting the error.\n",
    "prod_df = load_dataset(context, 'raw/product')"
   ]
  },
  {
   "attachments": {},
   "cell_type": "markdown",
   "metadata": {},
   "source": [
    "# Exploratory Analysis\n",
    "\n",
    "Given the raw data from data ingestion, we would now like to explore and learn more details about the data.\n",
    "\n",
    "\n",
    "The output of the step would be a summary report and discussion of any pertinent findings.\n"
   ]
  },
  {
   "cell_type": "code",
   "execution_count": 29,
   "metadata": {},
   "outputs": [],
   "source": [
    "# Import the eda API\n",
    "import ta_lib.eda.api as eda"
   ]
  },
  {
   "attachments": {},
   "cell_type": "markdown",
   "metadata": {},
   "source": [
    "## Variable summary"
   ]
  },
  {
   "cell_type": "code",
   "execution_count": 30,
   "metadata": {},
   "outputs": [
    {
     "data": {},
     "metadata": {},
     "output_type": "display_data"
    },
    {
     "data": {
      "application/vnd.holoviews_exec.v0+json": "",
      "text/html": [
       "<div id='1109'>\n",
       "  <div class=\"bk-root\" id=\"e28c13a0-d7c0-4d70-a3d4-2e8c18beb125\" data-root-id=\"1109\"></div>\n",
       "</div>\n",
       "<script type=\"application/javascript\">(function(root) {\n",
       "  function embed_document(root) {\n",
       "    var docs_json = {\"06d47239-f6e6-401c-90cb-7f6e9f9063cb\":{\"defs\":[{\"extends\":null,\"module\":null,\"name\":\"ReactiveHTML1\",\"overrides\":[],\"properties\":[]},{\"extends\":null,\"module\":null,\"name\":\"FlexBox1\",\"overrides\":[],\"properties\":[{\"default\":\"flex-start\",\"kind\":null,\"name\":\"align_content\"},{\"default\":\"flex-start\",\"kind\":null,\"name\":\"align_items\"},{\"default\":\"row\",\"kind\":null,\"name\":\"flex_direction\"},{\"default\":\"wrap\",\"kind\":null,\"name\":\"flex_wrap\"},{\"default\":\"flex-start\",\"kind\":null,\"name\":\"justify_content\"}]},{\"extends\":null,\"module\":null,\"name\":\"GridStack1\",\"overrides\":[],\"properties\":[{\"default\":\"warn\",\"kind\":null,\"name\":\"mode\"},{\"default\":null,\"kind\":null,\"name\":\"ncols\"},{\"default\":null,\"kind\":null,\"name\":\"nrows\"},{\"default\":true,\"kind\":null,\"name\":\"allow_resize\"},{\"default\":true,\"kind\":null,\"name\":\"allow_drag\"},{\"default\":[],\"kind\":null,\"name\":\"state\"}]},{\"extends\":null,\"module\":null,\"name\":\"click1\",\"overrides\":[],\"properties\":[{\"default\":\"\",\"kind\":null,\"name\":\"terminal_output\"},{\"default\":\"\",\"kind\":null,\"name\":\"debug_name\"},{\"default\":0,\"kind\":null,\"name\":\"clears\"}]},{\"extends\":null,\"module\":null,\"name\":\"NotificationAreaBase1\",\"overrides\":[],\"properties\":[{\"default\":\"bottom-right\",\"kind\":null,\"name\":\"position\"},{\"default\":0,\"kind\":null,\"name\":\"_clear\"}]},{\"extends\":null,\"module\":null,\"name\":\"NotificationArea1\",\"overrides\":[],\"properties\":[{\"default\":[],\"kind\":null,\"name\":\"notifications\"},{\"default\":\"bottom-right\",\"kind\":null,\"name\":\"position\"},{\"default\":0,\"kind\":null,\"name\":\"_clear\"},{\"default\":[{\"background\":\"#ffc107\",\"icon\":{\"className\":\"fas fa-exclamation-triangle\",\"color\":\"white\",\"tagName\":\"i\"},\"type\":\"warning\"},{\"background\":\"#007bff\",\"icon\":{\"className\":\"fas fa-info-circle\",\"color\":\"white\",\"tagName\":\"i\"},\"type\":\"info\"}],\"kind\":null,\"name\":\"types\"}]},{\"extends\":null,\"module\":null,\"name\":\"Notification\",\"overrides\":[],\"properties\":[{\"default\":null,\"kind\":null,\"name\":\"background\"},{\"default\":3000,\"kind\":null,\"name\":\"duration\"},{\"default\":null,\"kind\":null,\"name\":\"icon\"},{\"default\":\"\",\"kind\":null,\"name\":\"message\"},{\"default\":null,\"kind\":null,\"name\":\"notification_type\"},{\"default\":false,\"kind\":null,\"name\":\"_destroyed\"}]},{\"extends\":null,\"module\":null,\"name\":\"TemplateActions1\",\"overrides\":[],\"properties\":[{\"default\":0,\"kind\":null,\"name\":\"open_modal\"},{\"default\":0,\"kind\":null,\"name\":\"close_modal\"}]},{\"extends\":null,\"module\":null,\"name\":\"MaterialTemplateActions1\",\"overrides\":[],\"properties\":[{\"default\":0,\"kind\":null,\"name\":\"open_modal\"},{\"default\":0,\"kind\":null,\"name\":\"close_modal\"}]}],\"roots\":{\"references\":[{\"attributes\":{\"child\":{\"id\":\"1110\"},\"name\":\"orders\",\"title\":\"orders\"},\"id\":\"1111\",\"type\":\"Panel\"},{\"attributes\":{\"margin\":[0,0,0,0],\"tabs\":[{\"id\":\"1111\"},{\"id\":\"1113\"}]},\"id\":\"1109\",\"type\":\"panel.models.tabs.Tabs\"},{\"attributes\":{\"client_comm_id\":\"12d2863e6c854d2aad29c6236f111e99\",\"comm_id\":\"8f769fbe25644a0ab21c83965717600d\",\"plot_id\":\"1109\"},\"id\":\"1114\",\"type\":\"panel.models.comm_manager.CommManager\"},{\"attributes\":{\"child\":{\"id\":\"1112\"},\"name\":\"product\",\"title\":\"product\"},\"id\":\"1113\",\"type\":\"Panel\"},{\"attributes\":{\"margin\":[5,5,5,5],\"name\":\"product\",\"text\":\"&lt;pre&gt;(13545, 9)&lt;/pre&gt;\"},\"id\":\"1112\",\"type\":\"panel.models.markup.HTML\"},{\"attributes\":{\"margin\":[5,5,5,5],\"name\":\"orders\",\"text\":\"&lt;pre&gt;(174813, 25)&lt;/pre&gt;\"},\"id\":\"1110\",\"type\":\"panel.models.markup.HTML\"}],\"root_ids\":[\"1109\",\"1114\"]},\"title\":\"Bokeh Application\",\"version\":\"2.4.3\"}};\n",
       "    var render_items = [{\"docid\":\"06d47239-f6e6-401c-90cb-7f6e9f9063cb\",\"root_ids\":[\"1109\"],\"roots\":{\"1109\":\"e28c13a0-d7c0-4d70-a3d4-2e8c18beb125\"}}];\n",
       "    root.Bokeh.embed.embed_items_notebook(docs_json, render_items);\n",
       "  }\n",
       "  if (root.Bokeh !== undefined && root.Bokeh.Panel !== undefined) {\n",
       "    embed_document(root);\n",
       "  } else {\n",
       "    var attempts = 0;\n",
       "    var timer = setInterval(function(root) {\n",
       "      if (root.Bokeh !== undefined && root.Bokeh.Panel !== undefined) {\n",
       "        clearInterval(timer);\n",
       "        embed_document(root);\n",
       "      } else if (document.readyState == \"complete\") {\n",
       "        attempts++;\n",
       "        if (attempts > 200) {\n",
       "          clearInterval(timer);\n",
       "          console.log(\"Bokeh: ERROR: Unable to run BokehJS code because BokehJS library is missing\");\n",
       "        }\n",
       "      }\n",
       "    }, 25, root)\n",
       "  }\n",
       "})(window);</script>"
      ],
      "text/plain": [
       "Tabs\n",
       "    [0] Str(tuple, name='orders')\n",
       "    [1] Str(tuple, name='product')"
      ]
     },
     "execution_count": 30,
     "metadata": {
      "application/vnd.holoviews_exec.v0+json": {
       "id": "1109"
      }
     },
     "output_type": "execute_result"
    }
   ],
   "source": [
    "display_as_tabs([('orders', orders_df.shape), ('product', prod_df.shape)]) # type: ignore"
   ]
  },
  {
   "cell_type": "code",
   "execution_count": 31,
   "metadata": {},
   "outputs": [
    {
     "name": "stderr",
     "output_type": "stream",
     "text": [
      "tzname GB identified but not understood.  Pass `tzinfos` argument in order to correctly return a timezone-aware datetime.  In a future version, this will raise an exception.\n",
      "\n"
     ]
    },
    {
     "data": {},
     "metadata": {},
     "output_type": "display_data"
    },
    {
     "data": {
      "application/vnd.holoviews_exec.v0+json": "",
      "text/html": [
       "<div id='1115'>\n",
       "  <div class=\"bk-root\" id=\"dcbd67de-7158-4e7e-9b8d-731d91203b36\" data-root-id=\"1115\"></div>\n",
       "</div>\n",
       "<script type=\"application/javascript\">(function(root) {\n",
       "  function embed_document(root) {\n",
       "    var docs_json = {\"53693f23-250e-4d5b-ba3f-ef055f5e6320\":{\"defs\":[{\"extends\":null,\"module\":null,\"name\":\"ReactiveHTML1\",\"overrides\":[],\"properties\":[]},{\"extends\":null,\"module\":null,\"name\":\"FlexBox1\",\"overrides\":[],\"properties\":[{\"default\":\"flex-start\",\"kind\":null,\"name\":\"align_content\"},{\"default\":\"flex-start\",\"kind\":null,\"name\":\"align_items\"},{\"default\":\"row\",\"kind\":null,\"name\":\"flex_direction\"},{\"default\":\"wrap\",\"kind\":null,\"name\":\"flex_wrap\"},{\"default\":\"flex-start\",\"kind\":null,\"name\":\"justify_content\"}]},{\"extends\":null,\"module\":null,\"name\":\"GridStack1\",\"overrides\":[],\"properties\":[{\"default\":\"warn\",\"kind\":null,\"name\":\"mode\"},{\"default\":null,\"kind\":null,\"name\":\"ncols\"},{\"default\":null,\"kind\":null,\"name\":\"nrows\"},{\"default\":true,\"kind\":null,\"name\":\"allow_resize\"},{\"default\":true,\"kind\":null,\"name\":\"allow_drag\"},{\"default\":[],\"kind\":null,\"name\":\"state\"}]},{\"extends\":null,\"module\":null,\"name\":\"click1\",\"overrides\":[],\"properties\":[{\"default\":\"\",\"kind\":null,\"name\":\"terminal_output\"},{\"default\":\"\",\"kind\":null,\"name\":\"debug_name\"},{\"default\":0,\"kind\":null,\"name\":\"clears\"}]},{\"extends\":null,\"module\":null,\"name\":\"NotificationAreaBase1\",\"overrides\":[],\"properties\":[{\"default\":\"bottom-right\",\"kind\":null,\"name\":\"position\"},{\"default\":0,\"kind\":null,\"name\":\"_clear\"}]},{\"extends\":null,\"module\":null,\"name\":\"NotificationArea1\",\"overrides\":[],\"properties\":[{\"default\":[],\"kind\":null,\"name\":\"notifications\"},{\"default\":\"bottom-right\",\"kind\":null,\"name\":\"position\"},{\"default\":0,\"kind\":null,\"name\":\"_clear\"},{\"default\":[{\"background\":\"#ffc107\",\"icon\":{\"className\":\"fas fa-exclamation-triangle\",\"color\":\"white\",\"tagName\":\"i\"},\"type\":\"warning\"},{\"background\":\"#007bff\",\"icon\":{\"className\":\"fas fa-info-circle\",\"color\":\"white\",\"tagName\":\"i\"},\"type\":\"info\"}],\"kind\":null,\"name\":\"types\"}]},{\"extends\":null,\"module\":null,\"name\":\"Notification\",\"overrides\":[],\"properties\":[{\"default\":null,\"kind\":null,\"name\":\"background\"},{\"default\":3000,\"kind\":null,\"name\":\"duration\"},{\"default\":null,\"kind\":null,\"name\":\"icon\"},{\"default\":\"\",\"kind\":null,\"name\":\"message\"},{\"default\":null,\"kind\":null,\"name\":\"notification_type\"},{\"default\":false,\"kind\":null,\"name\":\"_destroyed\"}]},{\"extends\":null,\"module\":null,\"name\":\"TemplateActions1\",\"overrides\":[],\"properties\":[{\"default\":0,\"kind\":null,\"name\":\"open_modal\"},{\"default\":0,\"kind\":null,\"name\":\"close_modal\"}]},{\"extends\":null,\"module\":null,\"name\":\"MaterialTemplateActions1\",\"overrides\":[],\"properties\":[{\"default\":0,\"kind\":null,\"name\":\"open_modal\"},{\"default\":0,\"kind\":null,\"name\":\"close_modal\"}]}],\"roots\":{\"references\":[{\"attributes\":{\"editor\":{\"id\":\"1120\"},\"field\":\"index\",\"formatter\":{\"id\":\"1118\"},\"title\":\"index\",\"width\":0},\"id\":\"1121\",\"type\":\"TableColumn\"},{\"attributes\":{\"indices\":[]},\"id\":\"1117\",\"type\":\"Selection\"},{\"attributes\":{},\"id\":\"1167\",\"type\":\"StringFormatter\"},{\"attributes\":{\"editor\":{\"id\":\"1173\"},\"field\":\"Samples\",\"formatter\":{\"id\":\"1172\"},\"title\":\"Samples\",\"width\":0},\"id\":\"1174\",\"type\":\"TableColumn\"},{\"attributes\":{},\"id\":\"1158\",\"type\":\"StringEditor\"},{\"attributes\":{\"child\":{\"id\":\"1177\"},\"name\":\"product\",\"title\":\"product\"},\"id\":\"1181\",\"type\":\"Panel\"},{\"attributes\":{},\"id\":\"1135\",\"type\":\"StringEditor\"},{\"attributes\":{\"data\":{\"Datatype\":[\"object\",\"object\",\"object\",\"object\",\"object\",\"object\",\"object\",\"object\",\"object\"],\"No of Unique\":[\"13544\",\"242\",\"38\",\"12\",\"37\",\"7\",\"12\",\"5\",\"3\"],\"Samples\":[\"['APL 616GB GLD ESTK UNL', 'APL 732GB SLV B2STK UNL', 'APL 8P256G SLV CSTK UNL', 'APL AWG1 38MM STNSTL CST', 'APL AWG1 42MM STNSTL CST']\",\"['616GB ', '732GB ', '8P256G', 'AWG1  ', 'AWS1AL']\",\"['GOLD  ', 'SILVER', 'STNSTL', 'GRAY  ', 'ROSGLD']\",\"['16GB      ', '32GB      ', '64GB      ', '38MM      ', '42MM      ']\",\"['GOLD  ', 'SILVER', 'STAINLESS STEEL', 'GRAY  ', 'ROSGLD']\",\"['16GB', '32GB', '64GB', '128GB', '256GB']\",\"['APPLE', 'SAMSUNG', 'TCT/ALCATEL', 'ASUS', 'GOOGLE']\",\"['BBTI', 'APPLE BBTI', 'ASIS', 'CPO', 'FPC']\",\"['UNTESTED', 'TESTED', 'REVIEW']\"],\"Variable Name\":[\"SKU\",\"ModelFamily\",\"color\",\"MemorySize\",\"Ext_Color\",\"Ext_memorySize\",\"Brand\",\"SourceChannel\",\"FunctionalStatus\"],\"index\":[\"SKU\",\"ModelFamily\",\"color\",\"MemorySize\",\"Ext_Color\",\"Ext_memorySize\",\"Brand\",\"SourceChannel\",\"FunctionalStatus\"]},\"selected\":{\"id\":\"1150\"},\"selection_policy\":{\"id\":\"1184\"}},\"id\":\"1149\",\"type\":\"ColumnDataSource\"},{\"attributes\":{\"margin\":[0,0,0,0],\"tabs\":[{\"id\":\"1148\"},{\"id\":\"1181\"}]},\"id\":\"1115\",\"type\":\"panel.models.tabs.Tabs\"},{\"attributes\":{\"editor\":{\"id\":\"1130\"},\"field\":\"Datatype\",\"formatter\":{\"id\":\"1129\"},\"title\":\"Datatype\",\"width\":0},\"id\":\"1131\",\"type\":\"TableColumn\"},{\"attributes\":{\"editor\":{\"id\":\"1140\"},\"field\":\"Samples\",\"formatter\":{\"id\":\"1139\"},\"title\":\"Samples\",\"width\":0},\"id\":\"1141\",\"type\":\"TableColumn\"},{\"attributes\":{},\"id\":\"1151\",\"type\":\"StringFormatter\"},{\"attributes\":{\"source\":{\"id\":\"1149\"}},\"id\":\"1179\",\"type\":\"CDSView\"},{\"attributes\":{},\"id\":\"1140\",\"type\":\"StringEditor\"},{\"attributes\":{\"columns\":[{\"id\":\"1154\"},{\"id\":\"1159\"},{\"id\":\"1164\"},{\"id\":\"1169\"},{\"id\":\"1174\"}],\"editable\":true,\"height\":300,\"index_position\":null,\"margin\":[5,10,5,10],\"name\":\"product\",\"row_height\":40,\"sizing_mode\":\"fixed\",\"source\":{\"id\":\"1149\"},\"view\":{\"id\":\"1179\"},\"width\":800},\"id\":\"1177\",\"type\":\"DataTable\"},{\"attributes\":{},\"id\":\"1118\",\"type\":\"StringFormatter\"},{\"attributes\":{\"source\":{\"id\":\"1116\"}},\"id\":\"1146\",\"type\":\"CDSView\"},{\"attributes\":{},\"id\":\"1130\",\"type\":\"StringEditor\"},{\"attributes\":{},\"id\":\"1172\",\"type\":\"StringFormatter\"},{\"attributes\":{},\"id\":\"1153\",\"type\":\"CellEditor\"},{\"attributes\":{\"editor\":{\"id\":\"1135\"},\"field\":\"No of Unique\",\"formatter\":{\"id\":\"1134\"},\"title\":\"No of Unique\",\"width\":0},\"id\":\"1136\",\"type\":\"TableColumn\"},{\"attributes\":{\"editor\":{\"id\":\"1153\"},\"field\":\"index\",\"formatter\":{\"id\":\"1151\"},\"title\":\"index\",\"width\":0},\"id\":\"1154\",\"type\":\"TableColumn\"},{\"attributes\":{},\"id\":\"1184\",\"type\":\"UnionRenderers\"},{\"attributes\":{\"child\":{\"id\":\"1144\"},\"name\":\"orders\",\"title\":\"orders\"},\"id\":\"1148\",\"type\":\"Panel\"},{\"attributes\":{},\"id\":\"1120\",\"type\":\"CellEditor\"},{\"attributes\":{},\"id\":\"1124\",\"type\":\"StringFormatter\"},{\"attributes\":{\"columns\":[{\"id\":\"1121\"},{\"id\":\"1126\"},{\"id\":\"1131\"},{\"id\":\"1136\"},{\"id\":\"1141\"}],\"editable\":true,\"height\":300,\"index_position\":null,\"margin\":[5,10,5,10],\"name\":\"orders\",\"row_height\":40,\"sizing_mode\":\"fixed\",\"source\":{\"id\":\"1116\"},\"view\":{\"id\":\"1146\"},\"width\":800},\"id\":\"1144\",\"type\":\"DataTable\"},{\"attributes\":{\"client_comm_id\":\"acd0a64c110e408b8a52616f94e2f041\",\"comm_id\":\"1f40180e26f8421cad872573fa87267d\",\"plot_id\":\"1115\"},\"id\":\"1194\",\"type\":\"panel.models.comm_manager.CommManager\"},{\"attributes\":{},\"id\":\"1173\",\"type\":\"StringEditor\"},{\"attributes\":{\"editor\":{\"id\":\"1125\"},\"field\":\"Variable Name\",\"formatter\":{\"id\":\"1124\"},\"title\":\"Variable Name\",\"width\":0},\"id\":\"1126\",\"type\":\"TableColumn\"},{\"attributes\":{},\"id\":\"1157\",\"type\":\"StringFormatter\"},{\"attributes\":{\"editor\":{\"id\":\"1168\"},\"field\":\"No of Unique\",\"formatter\":{\"id\":\"1167\"},\"title\":\"No of Unique\",\"width\":0},\"id\":\"1169\",\"type\":\"TableColumn\"},{\"attributes\":{},\"id\":\"1129\",\"type\":\"StringFormatter\"},{\"attributes\":{},\"id\":\"1162\",\"type\":\"StringFormatter\"},{\"attributes\":{},\"id\":\"1168\",\"type\":\"StringEditor\"},{\"attributes\":{},\"id\":\"1163\",\"type\":\"StringEditor\"},{\"attributes\":{\"data\":{\"Datatype\":[\"object\",\"datetime64[ns]\",\"int64\",\"object\",\"int64\",\"object\",\"object\",\"object\",\"object\",\"int64\",\"int64\",\"object\",\"object\",\"object\",\"object\",\"int64\",\"float64\",\"float64\",\"float64\",\"float64\",\"float64\",\"object\",\"object\",\"object\",\"object\"],\"No of Unique\":[\"12\",\"227\",\"8903\",\"211\",\"8798\",\"4\",\"16\",\"13850\",\"13549\",\"16\",\"1017\",\"15\",\"210\",\"15\",\"3\",\"929\",\"45616\",\"1872\",\"12557\",\"68029\",\"54734\",\"25\",\"6\",\"135\",\"10\"],\"Samples\":[\"['apple', 'online', 'airtel', 'fpc', 'corporate']\",\"[numpy.datetime64('2019-11-04T00:00:00.000000000'), numpy.datetime64('2019-11-05T00:00:00.000000000'), numpy.datetime64('2019-01-14T00:00:00.000000000'), numpy.datetime64('2019-06-28T00:00:00.000000000'), numpy.datetime64('2019-07-24T00:00:00.000000000')]\",\"[54746876, 54746877, 54746886, 54746879, 54746884]\",\"['Compal Electronics', 'Miniwiz', 'Hsin Tung Yang', 'Apacer', 'E.SUN Commercial Bank']\",\"[31336494, 31343067, 31585791, 31421952, 31579640]\",\"['SO  ', 'CR  ', 'SP  ', 'S1  ']\",\"['LMB   ', 'BMI   ', 'CCE   ', 'IYE   ', 'JFO   ']\",\"['IPMI464G000WF14G40', 'amlIR32S000WF80610', 'UIP864GCUM415TSPTG30', 'UIP732CUM415T000R10', 'UIP6SC32UC655aml000R40']\",\"['APL IPDM4 GLD 64G A1538 EST', 'APL IPDAR SLV 32G WIFI BSTK', 'APL IP8 GLD 64G A1863 DST', 'APL IP7 RGLD 32G A1660 BST', 'APL IP6S RGLD 32G A1688 EST']\",\"[900, 904, 135, 922, 513]\",\"[30000, 14000, 64000, 1000, 61000]\",\"['APL   ', 'SMS   ', 'GOO   ', 'LGH   ', 'SNY   ']\",\"['A1538 ', '      ', 'A1863 ', 'A1660 ', 'A1688 ']\",\"['0', 'BLM   ', 'RGW   ', 'TMO   ', 'TEL   ']\",\"['ULD', 'LKD', '   ']\",\"[3, 126, 1, 11, 2]\",\"[91.304, 65.377, 160.571, 127.777, 55.499]\",\"[95.0, 105.0, 190.0, 150.0, 56.0]\",\"[285.0, 315.0, 23940.0, 450.0, 56.0]\",\"[273.91, 196.13, 20232.02, 383.33, 55.5]\",\"[11.09, 118.87, 3707.98, 66.67, 0.5]\",\"['Emerch', 'Bmerch', 'Dmerch', 'CcommodRC', 'Cmerch']\",\"['WFI', 'MM ', 'GSM', 'NA ', 'LTE']\",\"['IPAD MINI 4', 'IPAD AIR', 'IPHONE 8', 'IPHONE 7', 'IPHONE 6S']\",\"['GRADE E', 'GRADE B', 'GRADE D', 'GRADE C', 'GRADE B2']\"],\"Variable Name\":[\"Channel\",\"LedgerDate\",\"InvoiceNo\",\"Customername\",\"Orderno\",\"OrderType\",\"SalesPerson\",\"InventoryID\",\"SKU\",\"BusinessUnit\",\"Line\",\"Manufacturer\",\"Platforms\",\"Carrier\",\"LockStatus\",\"Quantity\",\"UnitCost\",\"UnitPrice\",\"SellingPrice\",\"SellingCost\",\"GP\",\"Condition\",\"Technology\",\"Ext_ModelFamily\",\"Ext_Grade\"],\"index\":[\"Channel\",\"LedgerDate\",\"InvoiceNo\",\"Customername\",\"Orderno\",\"OrderType\",\"SalesPerson\",\"InventoryID\",\"SKU\",\"BusinessUnit\",\"Line\",\"Manufacturer\",\"Platforms\",\"Carrier\",\"LockStatus\",\"Quantity\",\"UnitCost\",\"UnitPrice\",\"SellingPrice\",\"SellingCost\",\"GP\",\"Condition\",\"Technology\",\"Ext_ModelFamily\",\"Ext_Grade\"]},\"selected\":{\"id\":\"1117\"},\"selection_policy\":{\"id\":\"1182\"}},\"id\":\"1116\",\"type\":\"ColumnDataSource\"},{\"attributes\":{\"editor\":{\"id\":\"1158\"},\"field\":\"Variable Name\",\"formatter\":{\"id\":\"1157\"},\"title\":\"Variable Name\",\"width\":0},\"id\":\"1159\",\"type\":\"TableColumn\"},{\"attributes\":{\"editor\":{\"id\":\"1163\"},\"field\":\"Datatype\",\"formatter\":{\"id\":\"1162\"},\"title\":\"Datatype\",\"width\":0},\"id\":\"1164\",\"type\":\"TableColumn\"},{\"attributes\":{},\"id\":\"1125\",\"type\":\"StringEditor\"},{\"attributes\":{\"indices\":[]},\"id\":\"1150\",\"type\":\"Selection\"},{\"attributes\":{},\"id\":\"1139\",\"type\":\"StringFormatter\"},{\"attributes\":{},\"id\":\"1134\",\"type\":\"StringFormatter\"},{\"attributes\":{},\"id\":\"1182\",\"type\":\"UnionRenderers\"}],\"root_ids\":[\"1115\",\"1194\"]},\"title\":\"Bokeh Application\",\"version\":\"2.4.3\"}};\n",
       "    var render_items = [{\"docid\":\"53693f23-250e-4d5b-ba3f-ef055f5e6320\",\"root_ids\":[\"1115\"],\"roots\":{\"1115\":\"dcbd67de-7158-4e7e-9b8d-731d91203b36\"}}];\n",
       "    root.Bokeh.embed.embed_items_notebook(docs_json, render_items);\n",
       "  }\n",
       "  if (root.Bokeh !== undefined && root.Bokeh.Panel !== undefined) {\n",
       "    embed_document(root);\n",
       "  } else {\n",
       "    var attempts = 0;\n",
       "    var timer = setInterval(function(root) {\n",
       "      if (root.Bokeh !== undefined && root.Bokeh.Panel !== undefined) {\n",
       "        clearInterval(timer);\n",
       "        embed_document(root);\n",
       "      } else if (document.readyState == \"complete\") {\n",
       "        attempts++;\n",
       "        if (attempts > 200) {\n",
       "          clearInterval(timer);\n",
       "          console.log(\"Bokeh: ERROR: Unable to run BokehJS code because BokehJS library is missing\");\n",
       "        }\n",
       "      }\n",
       "    }, 25, root)\n",
       "  }\n",
       "})(window);</script>"
      ],
      "text/plain": [
       "Tabs\n",
       "    [0] DataFrame(height=300, name='orders', sizing_mode='fixed', value=                   Variabl..., width=800)\n",
       "    [1] DataFrame(height=300, name='product', sizing_mode='fixed', value=                     Varia..., width=800)"
      ]
     },
     "execution_count": 31,
     "metadata": {
      "application/vnd.holoviews_exec.v0+json": {
       "id": "1115"
      }
     },
     "output_type": "execute_result"
    }
   ],
   "source": [
    "sum1 = eda.get_variable_summary(orders_df)\n",
    "sum2 = eda.get_variable_summary(prod_df)\n",
    "\n",
    "display_as_tabs([('orders', sum1), ('product', sum2)]) # type: ignore"
   ]
  },
  {
   "cell_type": "code",
   "execution_count": 32,
   "metadata": {},
   "outputs": [
    {
     "data": {
      "text/plain": [
       "Channel             0\n",
       "LedgerDate          0\n",
       "InvoiceNo           0\n",
       "Customername        0\n",
       "Orderno             0\n",
       "OrderType           0\n",
       "SalesPerson         0\n",
       "InventoryID         0\n",
       "SKU                 0\n",
       "BusinessUnit        0\n",
       "Line                0\n",
       "Manufacturer        0\n",
       "Platforms           0\n",
       "Carrier             0\n",
       "LockStatus          0\n",
       "Quantity            0\n",
       "UnitCost            0\n",
       "UnitPrice           0\n",
       "SellingPrice        0\n",
       "SellingCost         0\n",
       "GP                  0\n",
       "Condition           0\n",
       "Technology          0\n",
       "Ext_ModelFamily    87\n",
       "Ext_Grade           1\n",
       "dtype: int64"
      ]
     },
     "execution_count": 32,
     "metadata": {},
     "output_type": "execute_result"
    }
   ],
   "source": [
    "orders_df.isna().sum()"
   ]
  },
  {
   "attachments": {},
   "cell_type": "markdown",
   "metadata": {},
   "source": [
    "**Dev NOTES**\n",
    "\n",
    "<details>\n",
    "1. Datatypes : We have both numeric and other types. The bulk of them seem to be numeric. `Numeric` is defined to be one of [float|int|date] and the rest are categorized as `Others`. A column is assumed to have `date` values if it has the string `date` in the column name.\n"
   ]
  },
  {
   "attachments": {},
   "cell_type": "markdown",
   "metadata": {},
   "source": [
    "## Merging\n",
    "\n",
    "We can merge orders table with prod table on SKU. Let us check first-cut cardinality issues. \n",
    "\n",
    "### Expected data validation rules"
   ]
  },
  {
   "attachments": {},
   "cell_type": "markdown",
   "metadata": {},
   "source": [
    "1. Quantity should be an integer\n",
    "2. Quantity * UnitCost = SellingCost\n",
    "3. Quantity * UnitPrice = SellingPrice"
   ]
  },
  {
   "cell_type": "code",
   "execution_count": null,
   "metadata": {},
   "outputs": [],
   "source": [
    "verification_dict = {}\n",
    "orders_df = ge.from_pandas(orders_df) # type: ignore"
   ]
  },
  {
   "attachments": {},
   "cell_type": "markdown",
   "metadata": {},
   "source": [
    "#### Rule 1 verification"
   ]
  },
  {
   "cell_type": "code",
   "execution_count": 34,
   "metadata": {},
   "outputs": [
    {
     "name": "stdout",
     "output_type": "stream",
     "text": [
      "Rule 1 passed\n"
     ]
    }
   ],
   "source": [
    "verification_dict[\"rule_1_check\"] = orders_df.expect_column_values_to_be_of_type(\"Quantity\", \"int64\", mostly=None,\n",
    "                                             result_format=\"BASIC\", include_config=True).to_json_dict()\n",
    "\n",
    "if verification_dict[\"rule_1_check\"][\"success\"]:\n",
    "    print(\"Rule 1 passed\")\n",
    "else:\n",
    "    print(\"Rule 1 failed\")"
   ]
  },
  {
   "attachments": {},
   "cell_type": "markdown",
   "metadata": {},
   "source": [
    "#### Rule 2 verification"
   ]
  },
  {
   "cell_type": "code",
   "execution_count": 35,
   "metadata": {},
   "outputs": [
    {
     "name": "stdout",
     "output_type": "stream",
     "text": [
      "Rule 2 failed\n"
     ]
    }
   ],
   "source": [
    "orders_df[\"selling_cal\"] = orders_df[\"Quantity\"] * orders_df[\"UnitCost\"]\n",
    "orders_df.selling_cal = orders_df.selling_cal.round()\n",
    "orders_df[\"act_selling_round\"] = orders_df.SellingCost.round()\n",
    "verification_dict[\"rule_2_check\"] = orders_df.expect_column_pair_values_to_be_equal(\"selling_cal\", \"act_selling_round\", mostly=None,\n",
    "                                             result_format=\"BASIC\", include_config=True).to_json_dict()\n",
    "\n",
    "if verification_dict[\"rule_2_check\"][\"success\"]:\n",
    "    print(\"Rule 2 passed\")\n",
    "else:\n",
    "    print(\"Rule 2 failed\")"
   ]
  },
  {
   "attachments": {},
   "cell_type": "markdown",
   "metadata": {},
   "source": [
    "#### Rule 3 verification"
   ]
  },
  {
   "cell_type": "code",
   "execution_count": 36,
   "metadata": {},
   "outputs": [
    {
     "name": "stdout",
     "output_type": "stream",
     "text": [
      "Rule 3 failed\n"
     ]
    }
   ],
   "source": [
    "orders_df[\"selling_cal\"] = orders_df[\"Quantity\"] * orders_df[\"UnitPrice\"]\n",
    "orders_df.selling_cal = orders_df.selling_cal.round()\n",
    "orders_df[\"act_selling_round\"] = orders_df.SellingPrice.round()\n",
    "verification_dict[\"rule_3_check\"] = orders_df.expect_column_pair_values_to_be_equal(\"selling_cal\", \"act_selling_round\", mostly=None,\n",
    "                                             result_format=\"BASIC\", include_config=True).to_json_dict()\n",
    "\n",
    "if verification_dict[\"rule_3_check\"][\"success\"]:\n",
    "    print(\"Rule 3 passed\")\n",
    "else:\n",
    "    print(\"Rule 3 failed\")"
   ]
  },
  {
   "attachments": {},
   "cell_type": "markdown",
   "metadata": {},
   "source": [
    "#### Rule 2,3"
   ]
  },
  {
   "attachments": {},
   "cell_type": "markdown",
   "metadata": {},
   "source": [
    "Ideally by logic cost * units should give the total cost, however there are some orders where this condition is not matching. We should confirm these condition from client.\n",
    "\n",
    "Similar goes for Price * units"
   ]
  },
  {
   "cell_type": "code",
   "execution_count": 37,
   "metadata": {},
   "outputs": [],
   "source": [
    "# Back to Pandas\n",
    "orders_df = orders_df.drop('selling_cal', axis=1)\n",
    "orders_df = orders_df.drop('act_selling_round', axis=1)\n",
    "orders_df = pd.DataFrame(orders_df) # type: ignore"
   ]
  },
  {
   "attachments": {},
   "cell_type": "markdown",
   "metadata": {},
   "source": [
    "### Table cardinality"
   ]
  },
  {
   "cell_type": "code",
   "execution_count": 38,
   "metadata": {},
   "outputs": [
    {
     "data": {
      "text/plain": [
       "{'A-B': 5, 'B-A': 0, 'AuB': 13549, 'A^B': 13544}"
      ]
     },
     "execution_count": 38,
     "metadata": {},
     "output_type": "execute_result"
    }
   ],
   "source": [
    "from  ta_lib.core.api import setanalyse\n",
    "\n",
    "setanalyse(orders_df.SKU.tolist(),prod_df.SKU.tolist())"
   ]
  },
  {
   "attachments": {},
   "cell_type": "markdown",
   "metadata": {},
   "source": [
    "This represents a venn diagram on two lists. Left list is `A` & right one is `B`. `A-B` implies that are five SKUs in orders_df missing in product master. We can find them using unsimplied version.\n",
    "\n",
    "Let us look at the set `A-B`."
   ]
  },
  {
   "cell_type": "code",
   "execution_count": 39,
   "metadata": {},
   "outputs": [
    {
     "data": {
      "text/plain": [
       "{'APL AWS3AL(G) 42MM GLD CST',\n",
       " 'APL AWS3AL(G+C) 38MM GRY CST',\n",
       " 'SP3 SMS N920 NOTE5 32G GLD DST',\n",
       " 'SP3 SMS S8+ G955 BLK BER SPT',\n",
       " 'UNLKD SONY XPERIA XZS BLK 32GB'}"
      ]
     },
     "execution_count": 39,
     "metadata": {},
     "output_type": "execute_result"
    }
   ],
   "source": [
    "missings_master_skus = setanalyse(orders_df.SKU.tolist(),prod_df.SKU.tolist(),simplify=False)['A-B']\n",
    "missings_master_skus"
   ]
  },
  {
   "cell_type": "code",
   "execution_count": 40,
   "metadata": {},
   "outputs": [
    {
     "name": "stdout",
     "output_type": "stream",
     "text": [
      "Records affected due to missing keys are 402 accounting to 0.23% of orders\n"
     ]
    }
   ],
   "source": [
    "import numpy as np\n",
    "print(('Records affected due to missing keys are {0} accounting to {1}% of orders').format(\n",
    "    orders_df.SKU.isin(missings_master_skus).sum(),np.round(orders_df.SKU.isin(missings_master_skus).mean()*100,2)))"
   ]
  },
  {
   "attachments": {},
   "cell_type": "markdown",
   "metadata": {},
   "source": [
    "**Since missing keys are very less we can proceed with inner join**"
   ]
  },
  {
   "attachments": {},
   "cell_type": "markdown",
   "metadata": {},
   "source": [
    "**Dev NOTES**\n",
    "\n",
    "<details>\n",
    "1. Cardinality with mulitple keys: If you have more than one key use setanalyse_df. You can pass dataframes instead of lists and the key columns\n",
    "2. Excess master data (if `B-A` >0 in above example) will not be concern\n",
    "3. If the `A-B` is larger, please check with client for alternative data sources. In case of left join keep a stragey for imputing.\n"
   ]
  },
  {
   "attachments": {},
   "cell_type": "markdown",
   "metadata": {},
   "source": [
    "### Master uniqueness\n",
    "\n",
    "Product master is expected to have non duplicate primary keys. Let us verify them."
   ]
  },
  {
   "cell_type": "code",
   "execution_count": 41,
   "metadata": {},
   "outputs": [
    {
     "name": "stdout",
     "output_type": "stream",
     "text": [
      "Found 1 duplicates in master. Sample duplicates are:\n",
      "                              SKU  Frequency\n",
      "0  UNLKD SONY XPERIA XZS BLUE 32G          2\n"
     ]
    }
   ],
   "source": [
    "# Snippet\n",
    "df_freq = prod_df.SKU.value_counts().reset_index()\n",
    "df_freq.columns = ['SKU','Frequency']\n",
    "fil_ = df_freq.Frequency>1\n",
    "if fil_.sum() > 0:\n",
    "    print((\"Found {0} duplicates in master. Sample duplicates are:\").format(fil_.sum()))\n",
    "    print(df_freq[fil_].head())\n",
    "else:\n",
    "    print(\"No duplciates in primary key\")"
   ]
  },
  {
   "cell_type": "code",
   "execution_count": 42,
   "metadata": {},
   "outputs": [
    {
     "data": {
      "text/plain": [
       "13545"
      ]
     },
     "execution_count": 42,
     "metadata": {},
     "output_type": "execute_result"
    }
   ],
   "source": [
    "len(prod_df)"
   ]
  },
  {
   "cell_type": "code",
   "execution_count": 43,
   "metadata": {},
   "outputs": [
    {
     "name": "stdout",
     "output_type": "stream",
     "text": [
      "No. of rows before dropping duplicate SKUs: 13545\n",
      "No. of rows after dropping duplicate SKUs: 13544\n"
     ]
    }
   ],
   "source": [
    "# Dropping inconsistent records\n",
    "print((\"No. of rows before dropping duplicate SKUs: {0}\".format(prod_df.shape[0])))\n",
    "fil_ = (prod_df.SKU == 'UNLKD SONY XPERIA XZS BLUE 32G') & (prod_df.color.str.strip() == 'BLACK')\n",
    "prod_df = prod_df[~fil_]\n",
    "print((\"No. of rows after dropping duplicate SKUs: {0}\".format(prod_df.shape[0])))"
   ]
  },
  {
   "attachments": {},
   "cell_type": "markdown",
   "metadata": {},
   "source": [
    "## Health Analysis"
   ]
  },
  {
   "attachments": {},
   "cell_type": "markdown",
   "metadata": {},
   "source": [
    "Get an overview of the overall health of the dataset. This is usually quick to compute and hopefully highlights some problems to focus on.\n",
    "\n"
   ]
  },
  {
   "attachments": {},
   "cell_type": "markdown",
   "metadata": {},
   "source": [
    "### Summary Plot\n",
    "\n",
    "Provides a high level summary of the dataset health.\n",
    "\n",
    "**Watch out for:**\n",
    "\n",
    "* too few numeric values\n",
    "* high % of missing values\n",
    "* high % of duplicate values\n",
    "* high % of duplicate columns "
   ]
  },
  {
   "cell_type": "code",
   "execution_count": 49,
   "metadata": {},
   "outputs": [
    {
     "name": "stderr",
     "output_type": "stream",
     "text": [
      "tzname GB identified but not understood.  Pass `tzinfos` argument in order to correctly return a timezone-aware datetime.  In a future version, this will raise an exception.\n",
      "\n",
      "`np.bool` is a deprecated alias for the builtin `bool`. To silence this warning, use `bool` by itself. Doing this will not modify any behavior and is safe. If you specifically wanted the numpy scalar type, use `np.bool_` here.\n",
      "Deprecated in NumPy 1.20; for more details and guidance: https://numpy.org/devdocs/release/1.20.0-notes.html#deprecations\n",
      "\n",
      "`np.bool` is a deprecated alias for the builtin `bool`. To silence this warning, use `bool` by itself. Doing this will not modify any behavior and is safe. If you specifically wanted the numpy scalar type, use `np.bool_` here.\n",
      "Deprecated in NumPy 1.20; for more details and guidance: https://numpy.org/devdocs/release/1.20.0-notes.html#deprecations\n",
      "\n",
      "`np.bool` is a deprecated alias for the builtin `bool`. To silence this warning, use `bool` by itself. Doing this will not modify any behavior and is safe. If you specifically wanted the numpy scalar type, use `np.bool_` here.\n",
      "Deprecated in NumPy 1.20; for more details and guidance: https://numpy.org/devdocs/release/1.20.0-notes.html#deprecations\n",
      "\n",
      "`np.bool` is a deprecated alias for the builtin `bool`. To silence this warning, use `bool` by itself. Doing this will not modify any behavior and is safe. If you specifically wanted the numpy scalar type, use `np.bool_` here.\n",
      "Deprecated in NumPy 1.20; for more details and guidance: https://numpy.org/devdocs/release/1.20.0-notes.html#deprecations\n",
      "\n",
      "`np.bool` is a deprecated alias for the builtin `bool`. To silence this warning, use `bool` by itself. Doing this will not modify any behavior and is safe. If you specifically wanted the numpy scalar type, use `np.bool_` here.\n",
      "Deprecated in NumPy 1.20; for more details and guidance: https://numpy.org/devdocs/release/1.20.0-notes.html#deprecations\n",
      "\n",
      "`np.bool` is a deprecated alias for the builtin `bool`. To silence this warning, use `bool` by itself. Doing this will not modify any behavior and is safe. If you specifically wanted the numpy scalar type, use `np.bool_` here.\n",
      "Deprecated in NumPy 1.20; for more details and guidance: https://numpy.org/devdocs/release/1.20.0-notes.html#deprecations\n",
      "\n",
      "`np.bool` is a deprecated alias for the builtin `bool`. To silence this warning, use `bool` by itself. Doing this will not modify any behavior and is safe. If you specifically wanted the numpy scalar type, use `np.bool_` here.\n",
      "Deprecated in NumPy 1.20; for more details and guidance: https://numpy.org/devdocs/release/1.20.0-notes.html#deprecations\n",
      "\n",
      "`np.bool` is a deprecated alias for the builtin `bool`. To silence this warning, use `bool` by itself. Doing this will not modify any behavior and is safe. If you specifically wanted the numpy scalar type, use `np.bool_` here.\n",
      "Deprecated in NumPy 1.20; for more details and guidance: https://numpy.org/devdocs/release/1.20.0-notes.html#deprecations\n",
      "\n",
      "`np.bool` is a deprecated alias for the builtin `bool`. To silence this warning, use `bool` by itself. Doing this will not modify any behavior and is safe. If you specifically wanted the numpy scalar type, use `np.bool_` here.\n",
      "Deprecated in NumPy 1.20; for more details and guidance: https://numpy.org/devdocs/release/1.20.0-notes.html#deprecations\n",
      "\n",
      "`np.bool` is a deprecated alias for the builtin `bool`. To silence this warning, use `bool` by itself. Doing this will not modify any behavior and is safe. If you specifically wanted the numpy scalar type, use `np.bool_` here.\n",
      "Deprecated in NumPy 1.20; for more details and guidance: https://numpy.org/devdocs/release/1.20.0-notes.html#deprecations\n",
      "\n",
      "`np.bool` is a deprecated alias for the builtin `bool`. To silence this warning, use `bool` by itself. Doing this will not modify any behavior and is safe. If you specifically wanted the numpy scalar type, use `np.bool_` here.\n",
      "Deprecated in NumPy 1.20; for more details and guidance: https://numpy.org/devdocs/release/1.20.0-notes.html#deprecations\n",
      "\n",
      "`np.bool` is a deprecated alias for the builtin `bool`. To silence this warning, use `bool` by itself. Doing this will not modify any behavior and is safe. If you specifically wanted the numpy scalar type, use `np.bool_` here.\n",
      "Deprecated in NumPy 1.20; for more details and guidance: https://numpy.org/devdocs/release/1.20.0-notes.html#deprecations\n",
      "\n",
      "`np.bool` is a deprecated alias for the builtin `bool`. To silence this warning, use `bool` by itself. Doing this will not modify any behavior and is safe. If you specifically wanted the numpy scalar type, use `np.bool_` here.\n",
      "Deprecated in NumPy 1.20; for more details and guidance: https://numpy.org/devdocs/release/1.20.0-notes.html#deprecations\n",
      "\n",
      "`np.bool` is a deprecated alias for the builtin `bool`. To silence this warning, use `bool` by itself. Doing this will not modify any behavior and is safe. If you specifically wanted the numpy scalar type, use `np.bool_` here.\n",
      "Deprecated in NumPy 1.20; for more details and guidance: https://numpy.org/devdocs/release/1.20.0-notes.html#deprecations\n",
      "\n",
      "`np.bool` is a deprecated alias for the builtin `bool`. To silence this warning, use `bool` by itself. Doing this will not modify any behavior and is safe. If you specifically wanted the numpy scalar type, use `np.bool_` here.\n",
      "Deprecated in NumPy 1.20; for more details and guidance: https://numpy.org/devdocs/release/1.20.0-notes.html#deprecations\n",
      "\n",
      "`np.bool` is a deprecated alias for the builtin `bool`. To silence this warning, use `bool` by itself. Doing this will not modify any behavior and is safe. If you specifically wanted the numpy scalar type, use `np.bool_` here.\n",
      "Deprecated in NumPy 1.20; for more details and guidance: https://numpy.org/devdocs/release/1.20.0-notes.html#deprecations\n",
      "\n",
      "`np.bool` is a deprecated alias for the builtin `bool`. To silence this warning, use `bool` by itself. Doing this will not modify any behavior and is safe. If you specifically wanted the numpy scalar type, use `np.bool_` here.\n",
      "Deprecated in NumPy 1.20; for more details and guidance: https://numpy.org/devdocs/release/1.20.0-notes.html#deprecations\n",
      "\n",
      "`np.bool` is a deprecated alias for the builtin `bool`. To silence this warning, use `bool` by itself. Doing this will not modify any behavior and is safe. If you specifically wanted the numpy scalar type, use `np.bool_` here.\n",
      "Deprecated in NumPy 1.20; for more details and guidance: https://numpy.org/devdocs/release/1.20.0-notes.html#deprecations\n",
      "\n",
      "`np.bool` is a deprecated alias for the builtin `bool`. To silence this warning, use `bool` by itself. Doing this will not modify any behavior and is safe. If you specifically wanted the numpy scalar type, use `np.bool_` here.\n",
      "Deprecated in NumPy 1.20; for more details and guidance: https://numpy.org/devdocs/release/1.20.0-notes.html#deprecations\n",
      "\n",
      "`np.bool` is a deprecated alias for the builtin `bool`. To silence this warning, use `bool` by itself. Doing this will not modify any behavior and is safe. If you specifically wanted the numpy scalar type, use `np.bool_` here.\n",
      "Deprecated in NumPy 1.20; for more details and guidance: https://numpy.org/devdocs/release/1.20.0-notes.html#deprecations\n",
      "\n",
      "`np.bool` is a deprecated alias for the builtin `bool`. To silence this warning, use `bool` by itself. Doing this will not modify any behavior and is safe. If you specifically wanted the numpy scalar type, use `np.bool_` here.\n",
      "Deprecated in NumPy 1.20; for more details and guidance: https://numpy.org/devdocs/release/1.20.0-notes.html#deprecations\n",
      "\n",
      "`np.bool` is a deprecated alias for the builtin `bool`. To silence this warning, use `bool` by itself. Doing this will not modify any behavior and is safe. If you specifically wanted the numpy scalar type, use `np.bool_` here.\n",
      "Deprecated in NumPy 1.20; for more details and guidance: https://numpy.org/devdocs/release/1.20.0-notes.html#deprecations\n",
      "\n",
      "`np.bool` is a deprecated alias for the builtin `bool`. To silence this warning, use `bool` by itself. Doing this will not modify any behavior and is safe. If you specifically wanted the numpy scalar type, use `np.bool_` here.\n",
      "Deprecated in NumPy 1.20; for more details and guidance: https://numpy.org/devdocs/release/1.20.0-notes.html#deprecations\n",
      "\n",
      "`np.bool` is a deprecated alias for the builtin `bool`. To silence this warning, use `bool` by itself. Doing this will not modify any behavior and is safe. If you specifically wanted the numpy scalar type, use `np.bool_` here.\n",
      "Deprecated in NumPy 1.20; for more details and guidance: https://numpy.org/devdocs/release/1.20.0-notes.html#deprecations\n",
      "\n"
     ]
    },
    {
     "data": {},
     "metadata": {},
     "output_type": "display_data"
    },
    {
     "name": "stderr",
     "output_type": "stream",
     "text": [
      "`np.bool` is a deprecated alias for the builtin `bool`. To silence this warning, use `bool` by itself. Doing this will not modify any behavior and is safe. If you specifically wanted the numpy scalar type, use `np.bool_` here.\n",
      "Deprecated in NumPy 1.20; for more details and guidance: https://numpy.org/devdocs/release/1.20.0-notes.html#deprecations\n",
      "\n",
      "`np.bool` is a deprecated alias for the builtin `bool`. To silence this warning, use `bool` by itself. Doing this will not modify any behavior and is safe. If you specifically wanted the numpy scalar type, use `np.bool_` here.\n",
      "Deprecated in NumPy 1.20; for more details and guidance: https://numpy.org/devdocs/release/1.20.0-notes.html#deprecations\n",
      "\n",
      "`np.bool` is a deprecated alias for the builtin `bool`. To silence this warning, use `bool` by itself. Doing this will not modify any behavior and is safe. If you specifically wanted the numpy scalar type, use `np.bool_` here.\n",
      "Deprecated in NumPy 1.20; for more details and guidance: https://numpy.org/devdocs/release/1.20.0-notes.html#deprecations\n",
      "\n",
      "`np.bool` is a deprecated alias for the builtin `bool`. To silence this warning, use `bool` by itself. Doing this will not modify any behavior and is safe. If you specifically wanted the numpy scalar type, use `np.bool_` here.\n",
      "Deprecated in NumPy 1.20; for more details and guidance: https://numpy.org/devdocs/release/1.20.0-notes.html#deprecations\n",
      "\n",
      "`np.bool` is a deprecated alias for the builtin `bool`. To silence this warning, use `bool` by itself. Doing this will not modify any behavior and is safe. If you specifically wanted the numpy scalar type, use `np.bool_` here.\n",
      "Deprecated in NumPy 1.20; for more details and guidance: https://numpy.org/devdocs/release/1.20.0-notes.html#deprecations\n",
      "\n",
      "`np.bool` is a deprecated alias for the builtin `bool`. To silence this warning, use `bool` by itself. Doing this will not modify any behavior and is safe. If you specifically wanted the numpy scalar type, use `np.bool_` here.\n",
      "Deprecated in NumPy 1.20; for more details and guidance: https://numpy.org/devdocs/release/1.20.0-notes.html#deprecations\n",
      "\n",
      "`np.bool` is a deprecated alias for the builtin `bool`. To silence this warning, use `bool` by itself. Doing this will not modify any behavior and is safe. If you specifically wanted the numpy scalar type, use `np.bool_` here.\n",
      "Deprecated in NumPy 1.20; for more details and guidance: https://numpy.org/devdocs/release/1.20.0-notes.html#deprecations\n",
      "\n",
      "`np.bool` is a deprecated alias for the builtin `bool`. To silence this warning, use `bool` by itself. Doing this will not modify any behavior and is safe. If you specifically wanted the numpy scalar type, use `np.bool_` here.\n",
      "Deprecated in NumPy 1.20; for more details and guidance: https://numpy.org/devdocs/release/1.20.0-notes.html#deprecations\n",
      "\n",
      "`np.bool` is a deprecated alias for the builtin `bool`. To silence this warning, use `bool` by itself. Doing this will not modify any behavior and is safe. If you specifically wanted the numpy scalar type, use `np.bool_` here.\n",
      "Deprecated in NumPy 1.20; for more details and guidance: https://numpy.org/devdocs/release/1.20.0-notes.html#deprecations\n",
      "\n",
      "`np.bool` is a deprecated alias for the builtin `bool`. To silence this warning, use `bool` by itself. Doing this will not modify any behavior and is safe. If you specifically wanted the numpy scalar type, use `np.bool_` here.\n",
      "Deprecated in NumPy 1.20; for more details and guidance: https://numpy.org/devdocs/release/1.20.0-notes.html#deprecations\n",
      "\n",
      "`np.bool` is a deprecated alias for the builtin `bool`. To silence this warning, use `bool` by itself. Doing this will not modify any behavior and is safe. If you specifically wanted the numpy scalar type, use `np.bool_` here.\n",
      "Deprecated in NumPy 1.20; for more details and guidance: https://numpy.org/devdocs/release/1.20.0-notes.html#deprecations\n",
      "\n",
      "`np.bool` is a deprecated alias for the builtin `bool`. To silence this warning, use `bool` by itself. Doing this will not modify any behavior and is safe. If you specifically wanted the numpy scalar type, use `np.bool_` here.\n",
      "Deprecated in NumPy 1.20; for more details and guidance: https://numpy.org/devdocs/release/1.20.0-notes.html#deprecations\n",
      "\n",
      "`np.bool` is a deprecated alias for the builtin `bool`. To silence this warning, use `bool` by itself. Doing this will not modify any behavior and is safe. If you specifically wanted the numpy scalar type, use `np.bool_` here.\n",
      "Deprecated in NumPy 1.20; for more details and guidance: https://numpy.org/devdocs/release/1.20.0-notes.html#deprecations\n",
      "\n",
      "`np.bool` is a deprecated alias for the builtin `bool`. To silence this warning, use `bool` by itself. Doing this will not modify any behavior and is safe. If you specifically wanted the numpy scalar type, use `np.bool_` here.\n",
      "Deprecated in NumPy 1.20; for more details and guidance: https://numpy.org/devdocs/release/1.20.0-notes.html#deprecations\n",
      "\n",
      "`np.bool` is a deprecated alias for the builtin `bool`. To silence this warning, use `bool` by itself. Doing this will not modify any behavior and is safe. If you specifically wanted the numpy scalar type, use `np.bool_` here.\n",
      "Deprecated in NumPy 1.20; for more details and guidance: https://numpy.org/devdocs/release/1.20.0-notes.html#deprecations\n",
      "\n",
      "`np.bool` is a deprecated alias for the builtin `bool`. To silence this warning, use `bool` by itself. Doing this will not modify any behavior and is safe. If you specifically wanted the numpy scalar type, use `np.bool_` here.\n",
      "Deprecated in NumPy 1.20; for more details and guidance: https://numpy.org/devdocs/release/1.20.0-notes.html#deprecations\n",
      "\n",
      "`np.bool` is a deprecated alias for the builtin `bool`. To silence this warning, use `bool` by itself. Doing this will not modify any behavior and is safe. If you specifically wanted the numpy scalar type, use `np.bool_` here.\n",
      "Deprecated in NumPy 1.20; for more details and guidance: https://numpy.org/devdocs/release/1.20.0-notes.html#deprecations\n",
      "\n",
      "`np.bool` is a deprecated alias for the builtin `bool`. To silence this warning, use `bool` by itself. Doing this will not modify any behavior and is safe. If you specifically wanted the numpy scalar type, use `np.bool_` here.\n",
      "Deprecated in NumPy 1.20; for more details and guidance: https://numpy.org/devdocs/release/1.20.0-notes.html#deprecations\n",
      "\n",
      "`np.bool` is a deprecated alias for the builtin `bool`. To silence this warning, use `bool` by itself. Doing this will not modify any behavior and is safe. If you specifically wanted the numpy scalar type, use `np.bool_` here.\n",
      "Deprecated in NumPy 1.20; for more details and guidance: https://numpy.org/devdocs/release/1.20.0-notes.html#deprecations\n",
      "\n",
      "`np.bool` is a deprecated alias for the builtin `bool`. To silence this warning, use `bool` by itself. Doing this will not modify any behavior and is safe. If you specifically wanted the numpy scalar type, use `np.bool_` here.\n",
      "Deprecated in NumPy 1.20; for more details and guidance: https://numpy.org/devdocs/release/1.20.0-notes.html#deprecations\n",
      "\n",
      "`np.bool` is a deprecated alias for the builtin `bool`. To silence this warning, use `bool` by itself. Doing this will not modify any behavior and is safe. If you specifically wanted the numpy scalar type, use `np.bool_` here.\n",
      "Deprecated in NumPy 1.20; for more details and guidance: https://numpy.org/devdocs/release/1.20.0-notes.html#deprecations\n",
      "\n",
      "`np.bool` is a deprecated alias for the builtin `bool`. To silence this warning, use `bool` by itself. Doing this will not modify any behavior and is safe. If you specifically wanted the numpy scalar type, use `np.bool_` here.\n",
      "Deprecated in NumPy 1.20; for more details and guidance: https://numpy.org/devdocs/release/1.20.0-notes.html#deprecations\n",
      "\n",
      "`np.bool` is a deprecated alias for the builtin `bool`. To silence this warning, use `bool` by itself. Doing this will not modify any behavior and is safe. If you specifically wanted the numpy scalar type, use `np.bool_` here.\n",
      "Deprecated in NumPy 1.20; for more details and guidance: https://numpy.org/devdocs/release/1.20.0-notes.html#deprecations\n",
      "\n",
      "`np.bool` is a deprecated alias for the builtin `bool`. To silence this warning, use `bool` by itself. Doing this will not modify any behavior and is safe. If you specifically wanted the numpy scalar type, use `np.bool_` here.\n",
      "Deprecated in NumPy 1.20; for more details and guidance: https://numpy.org/devdocs/release/1.20.0-notes.html#deprecations\n",
      "\n"
     ]
    },
    {
     "data": {},
     "metadata": {},
     "output_type": "display_data"
    },
    {
     "data": {
      "application/vnd.holoviews_exec.v0+json": "",
      "text/html": [
       "<div id='4909'>\n",
       "  <div class=\"bk-root\" id=\"aabdfc83-95b7-4616-b731-bb7936bbbdf8\" data-root-id=\"4909\"></div>\n",
       "</div>\n",
       "<script type=\"application/javascript\">(function(root) {\n",
       "  function embed_document(root) {\n",
       "    var docs_json = {\"4a517daa-0152-4199-9c0d-562941b3d8c3\":{\"defs\":[{\"extends\":null,\"module\":null,\"name\":\"ReactiveHTML1\",\"overrides\":[],\"properties\":[]},{\"extends\":null,\"module\":null,\"name\":\"FlexBox1\",\"overrides\":[],\"properties\":[{\"default\":\"flex-start\",\"kind\":null,\"name\":\"align_content\"},{\"default\":\"flex-start\",\"kind\":null,\"name\":\"align_items\"},{\"default\":\"row\",\"kind\":null,\"name\":\"flex_direction\"},{\"default\":\"wrap\",\"kind\":null,\"name\":\"flex_wrap\"},{\"default\":\"flex-start\",\"kind\":null,\"name\":\"justify_content\"}]},{\"extends\":null,\"module\":null,\"name\":\"GridStack1\",\"overrides\":[],\"properties\":[{\"default\":\"warn\",\"kind\":null,\"name\":\"mode\"},{\"default\":null,\"kind\":null,\"name\":\"ncols\"},{\"default\":null,\"kind\":null,\"name\":\"nrows\"},{\"default\":true,\"kind\":null,\"name\":\"allow_resize\"},{\"default\":true,\"kind\":null,\"name\":\"allow_drag\"},{\"default\":[],\"kind\":null,\"name\":\"state\"}]},{\"extends\":null,\"module\":null,\"name\":\"click1\",\"overrides\":[],\"properties\":[{\"default\":\"\",\"kind\":null,\"name\":\"terminal_output\"},{\"default\":\"\",\"kind\":null,\"name\":\"debug_name\"},{\"default\":0,\"kind\":null,\"name\":\"clears\"}]},{\"extends\":null,\"module\":null,\"name\":\"NotificationAreaBase1\",\"overrides\":[],\"properties\":[{\"default\":\"bottom-right\",\"kind\":null,\"name\":\"position\"},{\"default\":0,\"kind\":null,\"name\":\"_clear\"}]},{\"extends\":null,\"module\":null,\"name\":\"NotificationArea1\",\"overrides\":[],\"properties\":[{\"default\":[],\"kind\":null,\"name\":\"notifications\"},{\"default\":\"bottom-right\",\"kind\":null,\"name\":\"position\"},{\"default\":0,\"kind\":null,\"name\":\"_clear\"},{\"default\":[{\"background\":\"#ffc107\",\"icon\":{\"className\":\"fas fa-exclamation-triangle\",\"color\":\"white\",\"tagName\":\"i\"},\"type\":\"warning\"},{\"background\":\"#007bff\",\"icon\":{\"className\":\"fas fa-info-circle\",\"color\":\"white\",\"tagName\":\"i\"},\"type\":\"info\"}],\"kind\":null,\"name\":\"types\"}]},{\"extends\":null,\"module\":null,\"name\":\"Notification\",\"overrides\":[],\"properties\":[{\"default\":null,\"kind\":null,\"name\":\"background\"},{\"default\":3000,\"kind\":null,\"name\":\"duration\"},{\"default\":null,\"kind\":null,\"name\":\"icon\"},{\"default\":\"\",\"kind\":null,\"name\":\"message\"},{\"default\":null,\"kind\":null,\"name\":\"notification_type\"},{\"default\":false,\"kind\":null,\"name\":\"_destroyed\"}]},{\"extends\":null,\"module\":null,\"name\":\"TemplateActions1\",\"overrides\":[],\"properties\":[{\"default\":0,\"kind\":null,\"name\":\"open_modal\"},{\"default\":0,\"kind\":null,\"name\":\"close_modal\"}]},{\"extends\":null,\"module\":null,\"name\":\"MaterialTemplateActions1\",\"overrides\":[],\"properties\":[{\"default\":0,\"kind\":null,\"name\":\"open_modal\"},{\"default\":0,\"kind\":null,\"name\":\"close_modal\"}]}],\"roots\":{\"references\":[{\"attributes\":{\"callback\":null,\"renderers\":[{\"id\":\"5657\"}],\"tags\":[\"hv_created\"],\"tooltips\":[[\"index\",\"@{index}\"],[\"labels\",\"@{labels}\"],[\"value\",\"@{value}\"]]},\"id\":\"5620\",\"type\":\"HoverTool\"},{\"attributes\":{},\"id\":\"5590\",\"type\":\"Selection\"},{\"attributes\":{\"coordinates\":null,\"group\":null,\"text\":\"Missing Values\",\"text_color\":\"black\",\"text_font_size\":\"12pt\"},\"id\":\"5560\",\"type\":\"Title\"},{\"attributes\":{\"fill_alpha\":{\"value\":0.1},\"fill_color\":{\"field\":\"labels\",\"transform\":{\"id\":\"5588\"}},\"hatch_alpha\":{\"value\":0.1},\"hatch_color\":{\"field\":\"labels\",\"transform\":{\"id\":\"5588\"}},\"height\":{\"value\":0.8},\"left\":{\"field\":\"bottom\"},\"line_alpha\":{\"value\":0.1},\"right\":{\"field\":\"top\"},\"y\":{\"field\":\"index\"}},\"id\":\"5593\",\"type\":\"HBar\"},{\"attributes\":{\"data\":{\"bottom\":{\"__ndarray__\":\"AAAAAAAAAAAXsm4C3/9YQA==\",\"dtype\":\"float64\",\"order\":\"little\",\"shape\":[2]},\"index\":[\"values\",\"values\"],\"labels\":[\"Available\",\"Missing\"],\"top\":{\"__ndarray__\":\"F7JuAt//WEAAAAAAAABZQA==\",\"dtype\":\"float64\",\"order\":\"little\",\"shape\":[2]},\"value\":{\"__ndarray__\":\"F7JuAt//WEC1sPSmyH5gPw==\",\"dtype\":\"float64\",\"order\":\"little\",\"shape\":[2]}},\"selected\":{\"id\":\"5006\"},\"selection_policy\":{\"id\":\"5020\"}},\"id\":\"5005\",\"type\":\"ColumnDataSource\"},{\"attributes\":{\"fill_alpha\":{\"value\":1.0},\"fill_color\":{\"field\":\"labels\",\"transform\":{\"id\":\"5004\"}},\"hatch_alpha\":{\"value\":1.0},\"hatch_color\":{\"field\":\"labels\",\"transform\":{\"id\":\"5004\"}},\"hatch_scale\":{\"value\":12.0},\"hatch_weight\":{\"value\":1.0},\"height\":{\"value\":0.8},\"left\":{\"field\":\"bottom\"},\"line_alpha\":{\"value\":1.0},\"line_cap\":{\"value\":\"butt\"},\"line_color\":{\"value\":\"black\"},\"line_dash\":{\"value\":[]},\"line_dash_offset\":{\"value\":0},\"line_join\":{\"value\":\"bevel\"},\"line_width\":{\"value\":1},\"right\":{\"field\":\"top\"},\"y\":{\"field\":\"index\"}},\"id\":\"5025\",\"type\":\"HBar\"},{\"attributes\":{\"source\":{\"id\":\"4943\"}},\"id\":\"4950\",\"type\":\"CDSView\"},{\"attributes\":{\"bottom_units\":\"screen\",\"coordinates\":null,\"fill_alpha\":0.5,\"fill_color\":\"lightgrey\",\"group\":null,\"left_units\":\"screen\",\"level\":\"overlay\",\"line_alpha\":1.0,\"line_color\":\"black\",\"line_dash\":[4,4],\"line_width\":2,\"right_units\":\"screen\",\"syncable\":false,\"top_units\":\"screen\"},\"id\":\"5642\",\"type\":\"BoxAnnotation\"},{\"attributes\":{\"below\":[{\"id\":\"5568\"}],\"center\":[{\"id\":\"5571\"},{\"id\":\"5574\"},{\"id\":\"5607\"}],\"height\":100,\"left\":[{\"id\":\"5572\"}],\"margin\":null,\"min_border_bottom\":10,\"min_border_left\":10,\"min_border_right\":10,\"min_border_top\":10,\"renderers\":[{\"id\":\"5595\"}],\"right\":[{\"id\":\"5607\"}],\"sizing_mode\":\"fixed\",\"title\":{\"id\":\"5560\"},\"toolbar\":{\"id\":\"5581\"},\"toolbar_location\":null,\"width\":700,\"x_range\":{\"id\":\"4910\"},\"x_scale\":{\"id\":\"5564\"},\"y_range\":{\"id\":\"4911\"},\"y_scale\":{\"id\":\"5566\"}},\"id\":\"5559\",\"subtype\":\"Figure\",\"type\":\"Plot\"},{\"attributes\":{},\"id\":\"5504\",\"type\":\"CategoricalScale\"},{\"attributes\":{},\"id\":\"4982\",\"type\":\"CategoricalScale\"},{\"attributes\":{\"fill_alpha\":{\"value\":0.2},\"fill_color\":{\"field\":\"labels\",\"transform\":{\"id\":\"4942\"}},\"hatch_alpha\":{\"value\":0.2},\"hatch_color\":{\"field\":\"labels\",\"transform\":{\"id\":\"4942\"}},\"height\":{\"value\":0.8},\"left\":{\"field\":\"bottom\"},\"line_alpha\":{\"value\":0.2},\"right\":{\"field\":\"top\"},\"y\":{\"field\":\"index\"}},\"id\":\"4948\",\"type\":\"HBar\"},{\"attributes\":{\"callback\":null,\"renderers\":[{\"id\":\"5719\"}],\"tags\":[\"hv_created\"],\"tooltips\":[[\"index\",\"@{index}\"],[\"labels\",\"@{labels}\"],[\"value\",\"@{value}\"]]},\"id\":\"5682\",\"type\":\"HoverTool\"},{\"attributes\":{\"coordinates\":null,\"data_source\":{\"id\":\"5067\"},\"glyph\":{\"id\":\"5070\"},\"group\":null,\"hover_glyph\":null,\"muted_glyph\":{\"id\":\"5072\"},\"nonselection_glyph\":{\"id\":\"5071\"},\"selection_glyph\":{\"id\":\"5087\"},\"view\":{\"id\":\"5074\"}},\"id\":\"5073\",\"type\":\"GlyphRenderer\"},{\"attributes\":{},\"id\":\"5515\",\"type\":\"WheelZoomTool\"},{\"attributes\":{},\"id\":\"5639\",\"type\":\"WheelZoomTool\"},{\"attributes\":{\"coordinates\":null,\"group\":null,\"items\":[{\"id\":\"5086\"}],\"location\":[0,0]},\"id\":\"5085\",\"type\":\"Legend\"},{\"attributes\":{\"coordinates\":null,\"group\":null,\"text\":\"Duplicate Values\",\"text_color\":\"black\",\"text_font_size\":\"12pt\"},\"id\":\"5622\",\"type\":\"Title\"},{\"attributes\":{\"coordinates\":null,\"group\":null,\"items\":[{\"id\":\"5148\"}],\"location\":[0,0]},\"id\":\"5147\",\"type\":\"Legend\"},{\"attributes\":{\"margin\":[0,0,0,0],\"tabs\":[{\"id\":\"5493\"},{\"id\":\"6077\"}]},\"id\":\"4909\",\"type\":\"panel.models.tabs.Tabs\"},{\"attributes\":{\"label\":{\"field\":\"labels\"},\"renderers\":[{\"id\":\"4949\"}]},\"id\":\"4962\",\"type\":\"LegendItem\"},{\"attributes\":{\"coordinates\":null,\"group\":null,\"items\":[{\"id\":\"5608\"}],\"location\":[0,0]},\"id\":\"5607\",\"type\":\"Legend\"},{\"attributes\":{},\"id\":\"5513\",\"type\":\"SaveTool\"},{\"attributes\":{\"data\":{\"bottom\":{\"__ndarray__\":\"AAAAAAAAAABxuvsohv9YQA==\",\"dtype\":\"float64\",\"order\":\"little\",\"shape\":[2]},\"index\":[\"values\",\"values\"],\"labels\":[\"Unique\",\"Duplicate\"],\"top\":{\"__ndarray__\":\"cbr7KIb/WEAAAAAAAABZQA==\",\"dtype\":\"float64\",\"order\":\"little\",\"shape\":[2]},\"value\":{\"__ndarray__\":\"cbr7KIb/WEDE12MRwXV+Pw==\",\"dtype\":\"float64\",\"order\":\"little\",\"shape\":[2]}},\"selected\":{\"id\":\"5068\"},\"selection_policy\":{\"id\":\"5082\"}},\"id\":\"5067\",\"type\":\"ColumnDataSource\"},{\"attributes\":{\"overlay\":{\"id\":\"5642\"}},\"id\":\"5640\",\"type\":\"BoxZoomTool\"},{\"attributes\":{},\"id\":\"5638\",\"type\":\"PanTool\"},{\"attributes\":{\"fill_alpha\":{\"value\":0.1},\"fill_color\":{\"field\":\"labels\",\"transform\":{\"id\":\"4942\"}},\"hatch_alpha\":{\"value\":0.1},\"hatch_color\":{\"field\":\"labels\",\"transform\":{\"id\":\"4942\"}},\"height\":{\"value\":0.8},\"left\":{\"field\":\"bottom\"},\"line_alpha\":{\"value\":0.1},\"right\":{\"field\":\"top\"},\"y\":{\"field\":\"index\"}},\"id\":\"4947\",\"type\":\"HBar\"},{\"attributes\":{\"below\":[{\"id\":\"5630\"}],\"center\":[{\"id\":\"5633\"},{\"id\":\"5636\"},{\"id\":\"5669\"}],\"height\":100,\"left\":[{\"id\":\"5634\"}],\"margin\":null,\"min_border_bottom\":10,\"min_border_left\":10,\"min_border_right\":10,\"min_border_top\":10,\"renderers\":[{\"id\":\"5657\"}],\"right\":[{\"id\":\"5669\"}],\"sizing_mode\":\"fixed\",\"title\":{\"id\":\"5622\"},\"toolbar\":{\"id\":\"5643\"},\"toolbar_location\":null,\"width\":700,\"x_range\":{\"id\":\"4910\"},\"x_scale\":{\"id\":\"5626\"},\"y_range\":{\"id\":\"4911\"},\"y_scale\":{\"id\":\"5628\"}},\"id\":\"5621\",\"subtype\":\"Figure\",\"type\":\"Plot\"},{\"attributes\":{\"toolbar\":{\"id\":\"5784\"},\"toolbar_location\":\"above\"},\"id\":\"5785\",\"type\":\"ToolbarBox\"},{\"attributes\":{},\"id\":\"5652\",\"type\":\"Selection\"},{\"attributes\":{\"bottom_units\":\"screen\",\"coordinates\":null,\"fill_alpha\":0.5,\"fill_color\":\"lightgrey\",\"group\":null,\"left_units\":\"screen\",\"level\":\"overlay\",\"line_alpha\":1.0,\"line_color\":\"black\",\"line_dash\":[4,4],\"line_width\":2,\"right_units\":\"screen\",\"syncable\":false,\"top_units\":\"screen\"},\"id\":\"5518\",\"type\":\"BoxAnnotation\"},{\"attributes\":{},\"id\":\"5080\",\"type\":\"BasicTickFormatter\"},{\"attributes\":{\"tools\":[{\"id\":\"5036\"},{\"id\":\"5053\"},{\"id\":\"5054\"},{\"id\":\"5055\"},{\"id\":\"5056\"},{\"id\":\"5057\"}]},\"id\":\"5059\",\"type\":\"Toolbar\"},{\"attributes\":{},\"id\":\"5082\",\"type\":\"UnionRenderers\"},{\"attributes\":{\"fill_color\":{\"field\":\"labels\",\"transform\":{\"id\":\"5650\"}},\"hatch_color\":{\"field\":\"labels\",\"transform\":{\"id\":\"5650\"}},\"height\":{\"value\":0.8},\"left\":{\"field\":\"bottom\"},\"right\":{\"field\":\"top\"},\"y\":{\"field\":\"index\"}},\"id\":\"5654\",\"type\":\"HBar\"},{\"attributes\":{\"axis\":{\"id\":\"5634\"},\"coordinates\":null,\"dimension\":1,\"grid_line_color\":null,\"group\":null,\"ticker\":null},\"id\":\"5636\",\"type\":\"Grid\"},{\"attributes\":{\"fill_alpha\":{\"value\":0.1},\"fill_color\":{\"field\":\"labels\",\"transform\":{\"id\":\"5526\"}},\"hatch_alpha\":{\"value\":0.1},\"hatch_color\":{\"field\":\"labels\",\"transform\":{\"id\":\"5526\"}},\"height\":{\"value\":0.8},\"left\":{\"field\":\"bottom\"},\"line_alpha\":{\"value\":0.1},\"right\":{\"field\":\"top\"},\"y\":{\"field\":\"index\"}},\"id\":\"5531\",\"type\":\"HBar\"},{\"attributes\":{},\"id\":\"4930\",\"type\":\"PanTool\"},{\"attributes\":{\"axis\":{\"id\":\"4926\"},\"coordinates\":null,\"dimension\":1,\"grid_line_color\":null,\"group\":null,\"ticker\":null},\"id\":\"4928\",\"type\":\"Grid\"},{\"attributes\":{},\"id\":\"5626\",\"type\":\"LinearScale\"},{\"attributes\":{\"data\":{\"bottom\":{\"__ndarray__\":\"AAAAAAAAAAAAAAAAAABZQA==\",\"dtype\":\"float64\",\"order\":\"little\",\"shape\":[2]},\"index\":[\"values\",\"values\"],\"labels\":[\"Unique\",\"Duplicate\"],\"top\":{\"__ndarray__\":\"AAAAAAAAWUAAAAAAAABZQA==\",\"dtype\":\"float64\",\"order\":\"little\",\"shape\":[2]},\"value\":{\"__ndarray__\":\"AAAAAAAAWUAAAAAAAAAAAA==\",\"dtype\":\"float64\",\"order\":\"little\",\"shape\":[2]}},\"selected\":{\"id\":\"5714\"},\"selection_policy\":{\"id\":\"5728\"}},\"id\":\"5713\",\"type\":\"ColumnDataSource\"},{\"attributes\":{\"label\":{\"field\":\"labels\"},\"renderers\":[{\"id\":\"5135\"}]},\"id\":\"5148\",\"type\":\"LegendItem\"},{\"attributes\":{\"fill_alpha\":{\"value\":1.0},\"fill_color\":{\"field\":\"labels\",\"transform\":{\"id\":\"5588\"}},\"hatch_alpha\":{\"value\":1.0},\"hatch_color\":{\"field\":\"labels\",\"transform\":{\"id\":\"5588\"}},\"hatch_scale\":{\"value\":12.0},\"hatch_weight\":{\"value\":1.0},\"height\":{\"value\":0.8},\"left\":{\"field\":\"bottom\"},\"line_alpha\":{\"value\":1.0},\"line_cap\":{\"value\":\"butt\"},\"line_color\":{\"value\":\"black\"},\"line_dash\":{\"value\":[]},\"line_dash_offset\":{\"value\":0},\"line_join\":{\"value\":\"bevel\"},\"line_width\":{\"value\":1},\"right\":{\"field\":\"top\"},\"y\":{\"field\":\"index\"}},\"id\":\"5609\",\"type\":\"HBar\"},{\"attributes\":{\"tools\":[{\"id\":\"4974\"},{\"id\":\"4991\"},{\"id\":\"4992\"},{\"id\":\"4993\"},{\"id\":\"4994\"},{\"id\":\"4995\"}]},\"id\":\"4997\",\"type\":\"Toolbar\"},{\"attributes\":{},\"id\":\"4980\",\"type\":\"LinearScale\"},{\"attributes\":{},\"id\":\"5540\",\"type\":\"BasicTickFormatter\"},{\"attributes\":{\"axis\":{\"id\":\"5630\"},\"coordinates\":null,\"grid_line_color\":null,\"group\":null,\"ticker\":null},\"id\":\"5633\",\"type\":\"Grid\"},{\"attributes\":{\"factors\":[\"Unique\",\"Duplicate\"],\"palette\":[\"#30a2da\",\"#fc4f30\"]},\"id\":\"5066\",\"type\":\"CategoricalColorMapper\"},{\"attributes\":{\"below\":[{\"id\":\"5046\"}],\"center\":[{\"id\":\"5049\"},{\"id\":\"5052\"},{\"id\":\"5085\"}],\"height\":100,\"left\":[{\"id\":\"5050\"}],\"margin\":null,\"min_border_bottom\":10,\"min_border_left\":10,\"min_border_right\":10,\"min_border_top\":10,\"renderers\":[{\"id\":\"5073\"}],\"right\":[{\"id\":\"5085\"}],\"sizing_mode\":\"fixed\",\"title\":{\"id\":\"5038\"},\"toolbar\":{\"id\":\"5059\"},\"toolbar_location\":null,\"width\":700,\"x_range\":{\"id\":\"4910\"},\"x_scale\":{\"id\":\"5042\"},\"y_range\":{\"id\":\"4911\"},\"y_scale\":{\"id\":\"5044\"}},\"id\":\"5037\",\"subtype\":\"Figure\",\"type\":\"Plot\"},{\"attributes\":{\"label\":{\"field\":\"labels\"},\"renderers\":[{\"id\":\"5073\"}]},\"id\":\"5086\",\"type\":\"LegendItem\"},{\"attributes\":{\"data\":{\"bottom\":{\"__ndarray__\":\"AAAAAAAAAAAAAAAAAAAAAA==\",\"dtype\":\"float64\",\"order\":\"little\",\"shape\":[2]},\"index\":[\"values\",\"values\"],\"labels\":[\"Numeric\",\"Others\"],\"top\":{\"__ndarray__\":\"AAAAAAAAAAAAAAAAAABZQA==\",\"dtype\":\"float64\",\"order\":\"little\",\"shape\":[2]},\"value\":{\"__ndarray__\":\"AAAAAAAAAAAAAAAAAABZQA==\",\"dtype\":\"float64\",\"order\":\"little\",\"shape\":[2]}},\"selected\":{\"id\":\"5528\"},\"selection_policy\":{\"id\":\"5542\"}},\"id\":\"5527\",\"type\":\"ColumnDataSource\"},{\"attributes\":{\"toolbars\":[{\"id\":\"5519\"},{\"id\":\"5581\"},{\"id\":\"5643\"},{\"id\":\"5705\"}],\"tools\":[{\"id\":\"5496\"},{\"id\":\"5513\"},{\"id\":\"5514\"},{\"id\":\"5515\"},{\"id\":\"5516\"},{\"id\":\"5517\"},{\"id\":\"5558\"},{\"id\":\"5575\"},{\"id\":\"5576\"},{\"id\":\"5577\"},{\"id\":\"5578\"},{\"id\":\"5579\"},{\"id\":\"5620\"},{\"id\":\"5637\"},{\"id\":\"5638\"},{\"id\":\"5639\"},{\"id\":\"5640\"},{\"id\":\"5641\"},{\"id\":\"5682\"},{\"id\":\"5699\"},{\"id\":\"5700\"},{\"id\":\"5701\"},{\"id\":\"5702\"},{\"id\":\"5703\"}]},\"id\":\"5784\",\"type\":\"ProxyToolbar\"},{\"attributes\":{},\"id\":\"5054\",\"type\":\"PanTool\"},{\"attributes\":{\"tools\":[{\"id\":\"5620\"},{\"id\":\"5637\"},{\"id\":\"5638\"},{\"id\":\"5639\"},{\"id\":\"5640\"},{\"id\":\"5641\"}]},\"id\":\"5643\",\"type\":\"Toolbar\"},{\"attributes\":{\"fill_alpha\":{\"value\":0.2},\"fill_color\":{\"field\":\"labels\",\"transform\":{\"id\":\"5526\"}},\"hatch_alpha\":{\"value\":0.2},\"hatch_color\":{\"field\":\"labels\",\"transform\":{\"id\":\"5526\"}},\"height\":{\"value\":0.8},\"left\":{\"field\":\"bottom\"},\"line_alpha\":{\"value\":0.2},\"right\":{\"field\":\"top\"},\"y\":{\"field\":\"index\"}},\"id\":\"5532\",\"type\":\"HBar\"},{\"attributes\":{},\"id\":\"5511\",\"type\":\"CategoricalTicker\"},{\"attributes\":{\"label\":{\"field\":\"labels\"},\"renderers\":[{\"id\":\"5657\"}]},\"id\":\"5670\",\"type\":\"LegendItem\"},{\"attributes\":{},\"id\":\"5081\",\"type\":\"AllLabels\"},{\"attributes\":{},\"id\":\"4920\",\"type\":\"CategoricalScale\"},{\"attributes\":{},\"id\":\"5537\",\"type\":\"CategoricalTickFormatter\"},{\"attributes\":{\"fill_alpha\":{\"value\":0.1},\"fill_color\":{\"field\":\"labels\",\"transform\":{\"id\":\"5066\"}},\"hatch_alpha\":{\"value\":0.1},\"hatch_color\":{\"field\":\"labels\",\"transform\":{\"id\":\"5066\"}},\"height\":{\"value\":0.8},\"left\":{\"field\":\"bottom\"},\"line_alpha\":{\"value\":0.1},\"right\":{\"field\":\"top\"},\"y\":{\"field\":\"index\"}},\"id\":\"5071\",\"type\":\"HBar\"},{\"attributes\":{\"overlay\":{\"id\":\"5704\"}},\"id\":\"5702\",\"type\":\"BoxZoomTool\"},{\"attributes\":{},\"id\":\"5602\",\"type\":\"BasicTickFormatter\"},{\"attributes\":{\"source\":{\"id\":\"5067\"}},\"id\":\"5074\",\"type\":\"CDSView\"},{\"attributes\":{\"fill_alpha\":{\"value\":1.0},\"fill_color\":{\"field\":\"labels\",\"transform\":{\"id\":\"5066\"}},\"hatch_alpha\":{\"value\":1.0},\"hatch_color\":{\"field\":\"labels\",\"transform\":{\"id\":\"5066\"}},\"hatch_scale\":{\"value\":12.0},\"hatch_weight\":{\"value\":1.0},\"height\":{\"value\":0.8},\"left\":{\"field\":\"bottom\"},\"line_alpha\":{\"value\":1.0},\"line_cap\":{\"value\":\"butt\"},\"line_color\":{\"value\":\"black\"},\"line_dash\":{\"value\":[]},\"line_dash_offset\":{\"value\":0},\"line_join\":{\"value\":\"bevel\"},\"line_width\":{\"value\":1},\"right\":{\"field\":\"top\"},\"y\":{\"field\":\"index\"}},\"id\":\"5087\",\"type\":\"HBar\"},{\"attributes\":{\"callback\":null,\"renderers\":[{\"id\":\"4949\"}],\"tags\":[\"hv_created\"],\"tooltips\":[[\"index\",\"@{index}\"],[\"labels\",\"@{labels}\"],[\"value\",\"@{value}\"]]},\"id\":\"4912\",\"type\":\"HoverTool\"},{\"attributes\":{},\"id\":\"5517\",\"type\":\"ResetTool\"},{\"attributes\":{},\"id\":\"5514\",\"type\":\"PanTool\"},{\"attributes\":{\"coordinates\":null,\"group\":null,\"items\":[{\"id\":\"4962\"}],\"location\":[0,0]},\"id\":\"4961\",\"type\":\"Legend\"},{\"attributes\":{},\"id\":\"5143\",\"type\":\"AllLabels\"},{\"attributes\":{},\"id\":\"5664\",\"type\":\"BasicTickFormatter\"},{\"attributes\":{\"axis_label\":\"\",\"coordinates\":null,\"formatter\":{\"id\":\"5077\"},\"group\":null,\"major_label_policy\":{\"id\":\"5078\"},\"ticker\":{\"id\":\"5051\"}},\"id\":\"5050\",\"type\":\"CategoricalAxis\"},{\"attributes\":{\"tools\":[{\"id\":\"4912\"},{\"id\":\"4929\"},{\"id\":\"4930\"},{\"id\":\"4931\"},{\"id\":\"4932\"},{\"id\":\"4933\"}]},\"id\":\"4935\",\"type\":\"Toolbar\"},{\"attributes\":{\"overlay\":{\"id\":\"5058\"}},\"id\":\"5056\",\"type\":\"BoxZoomTool\"},{\"attributes\":{\"coordinates\":null,\"group\":null,\"text\":\"Datatypes\",\"text_color\":\"black\",\"text_font_size\":\"12pt\"},\"id\":\"5498\",\"type\":\"Title\"},{\"attributes\":{\"coordinates\":null,\"group\":null,\"text\":\"Duplicate Columns\",\"text_color\":\"black\",\"text_font_size\":\"12pt\"},\"id\":\"5684\",\"type\":\"Title\"},{\"attributes\":{\"fill_color\":{\"field\":\"labels\",\"transform\":{\"id\":\"5066\"}},\"hatch_color\":{\"field\":\"labels\",\"transform\":{\"id\":\"5066\"}},\"height\":{\"value\":0.8},\"left\":{\"field\":\"bottom\"},\"right\":{\"field\":\"top\"},\"y\":{\"field\":\"index\"}},\"id\":\"5070\",\"type\":\"HBar\"},{\"attributes\":{\"overlay\":{\"id\":\"4934\"}},\"id\":\"4932\",\"type\":\"BoxZoomTool\"},{\"attributes\":{\"coordinates\":null,\"group\":null,\"text\":\"Duplicate Values\",\"text_color\":\"black\",\"text_font_size\":\"12pt\"},\"id\":\"5038\",\"type\":\"Title\"},{\"attributes\":{},\"id\":\"4944\",\"type\":\"Selection\"},{\"attributes\":{},\"id\":\"5727\",\"type\":\"AllLabels\"},{\"attributes\":{\"coordinates\":null,\"group\":null,\"items\":[{\"id\":\"5670\"}],\"location\":[0,0]},\"id\":\"5669\",\"type\":\"Legend\"},{\"attributes\":{\"bottom_units\":\"screen\",\"coordinates\":null,\"fill_alpha\":0.5,\"fill_color\":\"lightgrey\",\"group\":null,\"left_units\":\"screen\",\"level\":\"overlay\",\"line_alpha\":1.0,\"line_color\":\"black\",\"line_dash\":[4,4],\"line_width\":2,\"right_units\":\"screen\",\"syncable\":false,\"top_units\":\"screen\"},\"id\":\"5704\",\"type\":\"BoxAnnotation\"},{\"attributes\":{\"toolbar\":{\"id\":\"5200\"},\"toolbar_location\":\"above\"},\"id\":\"5201\",\"type\":\"ToolbarBox\"},{\"attributes\":{\"axis\":{\"id\":\"5050\"},\"coordinates\":null,\"dimension\":1,\"grid_line_color\":null,\"group\":null,\"ticker\":null},\"id\":\"5052\",\"type\":\"Grid\"},{\"attributes\":{\"fill_alpha\":{\"value\":0.1},\"fill_color\":{\"field\":\"labels\",\"transform\":{\"id\":\"5650\"}},\"hatch_alpha\":{\"value\":0.1},\"hatch_color\":{\"field\":\"labels\",\"transform\":{\"id\":\"5650\"}},\"height\":{\"value\":0.8},\"left\":{\"field\":\"bottom\"},\"line_alpha\":{\"value\":0.1},\"right\":{\"field\":\"top\"},\"y\":{\"field\":\"index\"}},\"id\":\"5655\",\"type\":\"HBar\"},{\"attributes\":{\"fill_color\":{\"field\":\"labels\",\"transform\":{\"id\":\"5004\"}},\"hatch_color\":{\"field\":\"labels\",\"transform\":{\"id\":\"5004\"}},\"height\":{\"value\":0.8},\"left\":{\"field\":\"bottom\"},\"right\":{\"field\":\"top\"},\"y\":{\"field\":\"index\"}},\"id\":\"5008\",\"type\":\"HBar\"},{\"attributes\":{},\"id\":\"4929\",\"type\":\"SaveTool\"},{\"attributes\":{\"ticks\":[0]},\"id\":\"4964\",\"type\":\"FixedTicker\"},{\"attributes\":{\"axis\":{\"id\":\"4922\"},\"coordinates\":null,\"grid_line_color\":null,\"group\":null,\"ticker\":null},\"id\":\"4925\",\"type\":\"Grid\"},{\"attributes\":{\"coordinates\":null,\"data_source\":{\"id\":\"5527\"},\"glyph\":{\"id\":\"5530\"},\"group\":null,\"hover_glyph\":null,\"muted_glyph\":{\"id\":\"5532\"},\"nonselection_glyph\":{\"id\":\"5531\"},\"selection_glyph\":{\"id\":\"5547\"},\"view\":{\"id\":\"5534\"}},\"id\":\"5533\",\"type\":\"GlyphRenderer\"},{\"attributes\":{\"below\":[{\"id\":\"4984\"}],\"center\":[{\"id\":\"4987\"},{\"id\":\"4990\"},{\"id\":\"5023\"}],\"height\":100,\"left\":[{\"id\":\"4988\"}],\"margin\":null,\"min_border_bottom\":10,\"min_border_left\":10,\"min_border_right\":10,\"min_border_top\":10,\"renderers\":[{\"id\":\"5011\"}],\"right\":[{\"id\":\"5023\"}],\"sizing_mode\":\"fixed\",\"title\":{\"id\":\"4976\"},\"toolbar\":{\"id\":\"4997\"},\"toolbar_location\":null,\"width\":700,\"x_range\":{\"id\":\"4910\"},\"x_scale\":{\"id\":\"4980\"},\"y_range\":{\"id\":\"4911\"},\"y_scale\":{\"id\":\"4982\"}},\"id\":\"4975\",\"subtype\":\"Figure\",\"type\":\"Plot\"},{\"attributes\":{},\"id\":\"5697\",\"type\":\"CategoricalTicker\"},{\"attributes\":{\"overlay\":{\"id\":\"4996\"}},\"id\":\"4994\",\"type\":\"BoxZoomTool\"},{\"attributes\":{},\"id\":\"5057\",\"type\":\"ResetTool\"},{\"attributes\":{\"source\":{\"id\":\"5713\"}},\"id\":\"5720\",\"type\":\"CDSView\"},{\"attributes\":{},\"id\":\"5042\",\"type\":\"LinearScale\"},{\"attributes\":{\"factors\":[\"Numeric\",\"Others\"],\"palette\":[\"#30a2da\",\"#fc4f30\"]},\"id\":\"5526\",\"type\":\"CategoricalColorMapper\"},{\"attributes\":{\"fill_alpha\":{\"value\":1.0},\"fill_color\":{\"field\":\"labels\",\"transform\":{\"id\":\"5650\"}},\"hatch_alpha\":{\"value\":1.0},\"hatch_color\":{\"field\":\"labels\",\"transform\":{\"id\":\"5650\"}},\"hatch_scale\":{\"value\":12.0},\"hatch_weight\":{\"value\":1.0},\"height\":{\"value\":0.8},\"left\":{\"field\":\"bottom\"},\"line_alpha\":{\"value\":1.0},\"line_cap\":{\"value\":\"butt\"},\"line_color\":{\"value\":\"black\"},\"line_dash\":{\"value\":[]},\"line_dash_offset\":{\"value\":0},\"line_join\":{\"value\":\"bevel\"},\"line_width\":{\"value\":1},\"right\":{\"field\":\"top\"},\"y\":{\"field\":\"index\"}},\"id\":\"5671\",\"type\":\"HBar\"},{\"attributes\":{},\"id\":\"5600\",\"type\":\"AllLabels\"},{\"attributes\":{\"label\":{\"field\":\"labels\"},\"renderers\":[{\"id\":\"5595\"}]},\"id\":\"5608\",\"type\":\"LegendItem\"},{\"attributes\":{},\"id\":\"5130\",\"type\":\"Selection\"},{\"attributes\":{\"tools\":[{\"id\":\"5098\"},{\"id\":\"5115\"},{\"id\":\"5116\"},{\"id\":\"5117\"},{\"id\":\"5118\"},{\"id\":\"5119\"}]},\"id\":\"5121\",\"type\":\"Toolbar\"},{\"attributes\":{},\"id\":\"5603\",\"type\":\"AllLabels\"},{\"attributes\":{},\"id\":\"5688\",\"type\":\"LinearScale\"},{\"attributes\":{},\"id\":\"5699\",\"type\":\"SaveTool\"},{\"attributes\":{},\"id\":\"5077\",\"type\":\"CategoricalTickFormatter\"},{\"attributes\":{\"source\":{\"id\":\"5527\"}},\"id\":\"5534\",\"type\":\"CDSView\"},{\"attributes\":{},\"id\":\"4995\",\"type\":\"ResetTool\"},{\"attributes\":{\"fill_alpha\":{\"value\":0.1},\"fill_color\":{\"field\":\"labels\",\"transform\":{\"id\":\"5128\"}},\"hatch_alpha\":{\"value\":0.1},\"hatch_color\":{\"field\":\"labels\",\"transform\":{\"id\":\"5128\"}},\"height\":{\"value\":0.8},\"left\":{\"field\":\"bottom\"},\"line_alpha\":{\"value\":0.1},\"right\":{\"field\":\"top\"},\"y\":{\"field\":\"index\"}},\"id\":\"5133\",\"type\":\"HBar\"},{\"attributes\":{},\"id\":\"5528\",\"type\":\"Selection\"},{\"attributes\":{},\"id\":\"5502\",\"type\":\"LinearScale\"},{\"attributes\":{},\"id\":\"5628\",\"type\":\"CategoricalScale\"},{\"attributes\":{},\"id\":\"5113\",\"type\":\"CategoricalTicker\"},{\"attributes\":{},\"id\":\"5117\",\"type\":\"WheelZoomTool\"},{\"attributes\":{\"callback\":null,\"renderers\":[{\"id\":\"5533\"}],\"tags\":[\"hv_created\"],\"tooltips\":[[\"index\",\"@{index}\"],[\"labels\",\"@{labels}\"],[\"value\",\"@{value}\"]]},\"id\":\"5496\",\"type\":\"HoverTool\"},{\"attributes\":{\"coordinates\":null,\"data_source\":{\"id\":\"5005\"},\"glyph\":{\"id\":\"5008\"},\"group\":null,\"hover_glyph\":null,\"muted_glyph\":{\"id\":\"5010\"},\"nonselection_glyph\":{\"id\":\"5009\"},\"selection_glyph\":{\"id\":\"5025\"},\"view\":{\"id\":\"5012\"}},\"id\":\"5011\",\"type\":\"GlyphRenderer\"},{\"attributes\":{},\"id\":\"5599\",\"type\":\"CategoricalTickFormatter\"},{\"attributes\":{},\"id\":\"5019\",\"type\":\"AllLabels\"},{\"attributes\":{\"overlay\":{\"id\":\"5518\"}},\"id\":\"5516\",\"type\":\"BoxZoomTool\"},{\"attributes\":{\"factors\":[\"Unique\",\"Duplicate\"],\"palette\":[\"#30a2da\",\"#fc4f30\"]},\"id\":\"5128\",\"type\":\"CategoricalColorMapper\"},{\"attributes\":{\"below\":[{\"id\":\"5108\"}],\"center\":[{\"id\":\"5111\"},{\"id\":\"5114\"},{\"id\":\"5147\"}],\"height\":100,\"left\":[{\"id\":\"5112\"}],\"margin\":null,\"min_border_bottom\":10,\"min_border_left\":10,\"min_border_right\":10,\"min_border_top\":10,\"renderers\":[{\"id\":\"5135\"}],\"right\":[{\"id\":\"5147\"}],\"sizing_mode\":\"fixed\",\"title\":{\"id\":\"5100\"},\"toolbar\":{\"id\":\"5121\"},\"toolbar_location\":null,\"width\":700,\"x_range\":{\"id\":\"4910\"},\"x_scale\":{\"id\":\"5104\"},\"y_range\":{\"id\":\"4911\"},\"y_scale\":{\"id\":\"5106\"}},\"id\":\"5099\",\"subtype\":\"Figure\",\"type\":\"Plot\"},{\"attributes\":{\"coordinates\":null,\"data_source\":{\"id\":\"5129\"},\"glyph\":{\"id\":\"5132\"},\"group\":null,\"hover_glyph\":null,\"muted_glyph\":{\"id\":\"5134\"},\"nonselection_glyph\":{\"id\":\"5133\"},\"selection_glyph\":{\"id\":\"5149\"},\"view\":{\"id\":\"5136\"}},\"id\":\"5135\",\"type\":\"GlyphRenderer\"},{\"attributes\":{\"fill_alpha\":{\"value\":0.1},\"fill_color\":{\"field\":\"labels\",\"transform\":{\"id\":\"5712\"}},\"hatch_alpha\":{\"value\":0.1},\"hatch_color\":{\"field\":\"labels\",\"transform\":{\"id\":\"5712\"}},\"height\":{\"value\":0.8},\"left\":{\"field\":\"bottom\"},\"line_alpha\":{\"value\":0.1},\"right\":{\"field\":\"top\"},\"y\":{\"field\":\"index\"}},\"id\":\"5717\",\"type\":\"HBar\"},{\"attributes\":{},\"id\":\"5119\",\"type\":\"ResetTool\"},{\"attributes\":{},\"id\":\"5541\",\"type\":\"AllLabels\"},{\"attributes\":{},\"id\":\"5724\",\"type\":\"AllLabels\"},{\"attributes\":{\"factors\":[\"Unique\",\"Duplicate\"],\"palette\":[\"#30a2da\",\"#fc4f30\"]},\"id\":\"5712\",\"type\":\"CategoricalColorMapper\"},{\"attributes\":{\"data\":{\"bottom\":{\"__ndarray__\":\"AAAAAAAAAAAgbW0DpOZYQA==\",\"dtype\":\"float64\",\"order\":\"little\",\"shape\":[2]},\"index\":[\"values\",\"values\"],\"labels\":[\"Available\",\"Missing\"],\"top\":{\"__ndarray__\":\"IG1tA6TmWEAAAAAAAABZQA==\",\"dtype\":\"float64\",\"order\":\"little\",\"shape\":[2]},\"value\":{\"__ndarray__\":\"IG1tA6TmWEBM4JKS/FvZPw==\",\"dtype\":\"float64\",\"order\":\"little\",\"shape\":[2]}},\"selected\":{\"id\":\"5590\"},\"selection_policy\":{\"id\":\"5604\"}},\"id\":\"5589\",\"type\":\"ColumnDataSource\"},{\"attributes\":{\"factors\":[\"Available\",\"Missing\"],\"palette\":[\"#30a2da\",\"#fc4f30\"]},\"id\":\"5588\",\"type\":\"CategoricalColorMapper\"},{\"attributes\":{\"axis_label\":\"\",\"coordinates\":null,\"formatter\":{\"id\":\"5723\"},\"group\":null,\"major_label_policy\":{\"id\":\"5724\"},\"ticker\":{\"id\":\"5697\"}},\"id\":\"5696\",\"type\":\"CategoricalAxis\"},{\"attributes\":{\"callback\":null,\"renderers\":[{\"id\":\"5135\"}],\"tags\":[\"hv_created\"],\"tooltips\":[[\"index\",\"@{index}\"],[\"labels\",\"@{labels}\"],[\"value\",\"@{value}\"]]},\"id\":\"5098\",\"type\":\"HoverTool\"},{\"attributes\":{\"axis_label\":\"\",\"coordinates\":null,\"formatter\":{\"id\":\"4956\"},\"group\":null,\"major_label_policy\":{\"id\":\"4957\"},\"ticker\":{\"id\":\"4964\"}},\"id\":\"4922\",\"type\":\"LinearAxis\"},{\"attributes\":{\"ticks\":[0]},\"id\":\"5026\",\"type\":\"FixedTicker\"},{\"attributes\":{\"axis_label\":\"\",\"coordinates\":null,\"formatter\":{\"id\":\"5139\"},\"group\":null,\"major_label_policy\":{\"id\":\"5140\"},\"ticker\":{\"id\":\"5113\"}},\"id\":\"5112\",\"type\":\"CategoricalAxis\"},{\"attributes\":{\"axis_label\":\"\",\"coordinates\":null,\"formatter\":{\"id\":\"5726\"},\"group\":null,\"major_label_policy\":{\"id\":\"5727\"},\"ticker\":{\"id\":\"5734\"}},\"id\":\"5692\",\"type\":\"LinearAxis\"},{\"attributes\":{\"fill_color\":{\"field\":\"labels\",\"transform\":{\"id\":\"5588\"}},\"hatch_color\":{\"field\":\"labels\",\"transform\":{\"id\":\"5588\"}},\"height\":{\"value\":0.8},\"left\":{\"field\":\"bottom\"},\"right\":{\"field\":\"top\"},\"y\":{\"field\":\"index\"}},\"id\":\"5592\",\"type\":\"HBar\"},{\"attributes\":{\"bottom_units\":\"screen\",\"coordinates\":null,\"fill_alpha\":0.5,\"fill_color\":\"lightgrey\",\"group\":null,\"left_units\":\"screen\",\"level\":\"overlay\",\"line_alpha\":1.0,\"line_color\":\"black\",\"line_dash\":[4,4],\"line_width\":2,\"right_units\":\"screen\",\"syncable\":false,\"top_units\":\"screen\"},\"id\":\"5058\",\"type\":\"BoxAnnotation\"},{\"attributes\":{\"coordinates\":null,\"data_source\":{\"id\":\"4943\"},\"glyph\":{\"id\":\"4946\"},\"group\":null,\"hover_glyph\":null,\"muted_glyph\":{\"id\":\"4948\"},\"nonselection_glyph\":{\"id\":\"4947\"},\"selection_glyph\":{\"id\":\"4963\"},\"view\":{\"id\":\"4950\"}},\"id\":\"4949\",\"type\":\"GlyphRenderer\"},{\"attributes\":{},\"id\":\"5703\",\"type\":\"ResetTool\"},{\"attributes\":{},\"id\":\"5140\",\"type\":\"AllLabels\"},{\"attributes\":{\"children\":[[{\"id\":\"5497\"},0,0],[{\"id\":\"5559\"},1,0],[{\"id\":\"5621\"},2,0],[{\"id\":\"5683\"},3,0]]},\"id\":\"5783\",\"type\":\"GridBox\"},{\"attributes\":{},\"id\":\"5139\",\"type\":\"CategoricalTickFormatter\"},{\"attributes\":{\"children\":[{\"id\":\"5785\"},{\"id\":\"5783\"}]},\"id\":\"5786\",\"type\":\"Column\"},{\"attributes\":{\"coordinates\":null,\"group\":null,\"text\":\"Duplicate Columns\",\"text_color\":\"black\",\"text_font_size\":\"12pt\"},\"id\":\"5100\",\"type\":\"Title\"},{\"attributes\":{\"source\":{\"id\":\"5589\"}},\"id\":\"5596\",\"type\":\"CDSView\"},{\"attributes\":{},\"id\":\"5604\",\"type\":\"UnionRenderers\"},{\"attributes\":{\"axis_label\":\"\",\"coordinates\":null,\"formatter\":{\"id\":\"5018\"},\"group\":null,\"major_label_policy\":{\"id\":\"5019\"},\"ticker\":{\"id\":\"5026\"}},\"id\":\"4984\",\"type\":\"LinearAxis\"},{\"attributes\":{},\"id\":\"5701\",\"type\":\"WheelZoomTool\"},{\"attributes\":{\"overlay\":{\"id\":\"5580\"}},\"id\":\"5578\",\"type\":\"BoxZoomTool\"},{\"attributes\":{\"coordinates\":null,\"data_source\":{\"id\":\"5713\"},\"glyph\":{\"id\":\"5716\"},\"group\":null,\"hover_glyph\":null,\"muted_glyph\":{\"id\":\"5718\"},\"nonselection_glyph\":{\"id\":\"5717\"},\"selection_glyph\":{\"id\":\"5733\"},\"view\":{\"id\":\"5720\"}},\"id\":\"5719\",\"type\":\"GlyphRenderer\"},{\"attributes\":{\"data\":{\"bottom\":{\"__ndarray__\":\"AAAAAAAAAAAAAAAAAABZQA==\",\"dtype\":\"float64\",\"order\":\"little\",\"shape\":[2]},\"index\":[\"values\",\"values\"],\"labels\":[\"Unique\",\"Duplicate\"],\"top\":{\"__ndarray__\":\"AAAAAAAAWUAAAAAAAABZQA==\",\"dtype\":\"float64\",\"order\":\"little\",\"shape\":[2]},\"value\":{\"__ndarray__\":\"AAAAAAAAWUAAAAAAAAAAAA==\",\"dtype\":\"float64\",\"order\":\"little\",\"shape\":[2]}},\"selected\":{\"id\":\"5652\"},\"selection_policy\":{\"id\":\"5666\"}},\"id\":\"5651\",\"type\":\"ColumnDataSource\"},{\"attributes\":{},\"id\":\"4991\",\"type\":\"SaveTool\"},{\"attributes\":{\"ticks\":[0]},\"id\":\"5734\",\"type\":\"FixedTicker\"},{\"attributes\":{\"data\":{\"bottom\":{\"__ndarray__\":\"AAAAAAAAAAAAAAAAAAAQQAAAAAAAAEZA\",\"dtype\":\"float64\",\"order\":\"little\",\"shape\":[3]},\"index\":[\"values\",\"values\",\"values\"],\"labels\":[\"Date\",\"Numeric\",\"Others\"],\"top\":{\"__ndarray__\":\"AAAAAAAAEEAAAAAAAABGQAAAAAAAAFlA\",\"dtype\":\"float64\",\"order\":\"little\",\"shape\":[3]},\"value\":{\"__ndarray__\":\"AAAAAAAAEEAAAAAAAABEQAEAAAAAAExA\",\"dtype\":\"float64\",\"order\":\"little\",\"shape\":[3]}},\"selected\":{\"id\":\"4944\"},\"selection_policy\":{\"id\":\"4958\"}},\"id\":\"4943\",\"type\":\"ColumnDataSource\"},{\"attributes\":{},\"id\":\"5053\",\"type\":\"SaveTool\"},{\"attributes\":{\"axis_label\":\"\",\"coordinates\":null,\"formatter\":{\"id\":\"5602\"},\"group\":null,\"major_label_policy\":{\"id\":\"5603\"},\"ticker\":{\"id\":\"5610\"}},\"id\":\"5568\",\"type\":\"LinearAxis\"},{\"attributes\":{},\"id\":\"5723\",\"type\":\"CategoricalTickFormatter\"},{\"attributes\":{\"below\":[{\"id\":\"5506\"}],\"center\":[{\"id\":\"5509\"},{\"id\":\"5512\"},{\"id\":\"5545\"}],\"height\":100,\"left\":[{\"id\":\"5510\"}],\"margin\":null,\"min_border_bottom\":10,\"min_border_left\":10,\"min_border_right\":10,\"min_border_top\":10,\"renderers\":[{\"id\":\"5533\"}],\"right\":[{\"id\":\"5545\"}],\"sizing_mode\":\"fixed\",\"title\":{\"id\":\"5498\"},\"toolbar\":{\"id\":\"5519\"},\"toolbar_location\":null,\"width\":700,\"x_range\":{\"id\":\"4910\"},\"x_scale\":{\"id\":\"5502\"},\"y_range\":{\"id\":\"4911\"},\"y_scale\":{\"id\":\"5504\"}},\"id\":\"5497\",\"subtype\":\"Figure\",\"type\":\"Plot\"},{\"attributes\":{},\"id\":\"5115\",\"type\":\"SaveTool\"},{\"attributes\":{\"axis\":{\"id\":\"5568\"},\"coordinates\":null,\"grid_line_color\":null,\"group\":null,\"ticker\":null},\"id\":\"5571\",\"type\":\"Grid\"},{\"attributes\":{\"tools\":[{\"id\":\"5682\"},{\"id\":\"5699\"},{\"id\":\"5700\"},{\"id\":\"5701\"},{\"id\":\"5702\"},{\"id\":\"5703\"}]},\"id\":\"5705\",\"type\":\"Toolbar\"},{\"attributes\":{\"fill_alpha\":{\"value\":0.2},\"fill_color\":{\"field\":\"labels\",\"transform\":{\"id\":\"5128\"}},\"hatch_alpha\":{\"value\":0.2},\"hatch_color\":{\"field\":\"labels\",\"transform\":{\"id\":\"5128\"}},\"height\":{\"value\":0.8},\"left\":{\"field\":\"bottom\"},\"line_alpha\":{\"value\":0.2},\"right\":{\"field\":\"top\"},\"y\":{\"field\":\"index\"}},\"id\":\"5134\",\"type\":\"HBar\"},{\"attributes\":{},\"id\":\"5116\",\"type\":\"PanTool\"},{\"attributes\":{\"coordinates\":null,\"group\":null,\"items\":[{\"id\":\"5732\"}],\"location\":[0,0]},\"id\":\"5731\",\"type\":\"Legend\"},{\"attributes\":{\"fill_alpha\":{\"value\":0.2},\"fill_color\":{\"field\":\"labels\",\"transform\":{\"id\":\"5004\"}},\"hatch_alpha\":{\"value\":0.2},\"hatch_color\":{\"field\":\"labels\",\"transform\":{\"id\":\"5004\"}},\"height\":{\"value\":0.8},\"left\":{\"field\":\"bottom\"},\"line_alpha\":{\"value\":0.2},\"right\":{\"field\":\"top\"},\"y\":{\"field\":\"index\"}},\"id\":\"5010\",\"type\":\"HBar\"},{\"attributes\":{\"ticks\":[0]},\"id\":\"5150\",\"type\":\"FixedTicker\"},{\"attributes\":{\"ticks\":[0]},\"id\":\"5548\",\"type\":\"FixedTicker\"},{\"attributes\":{\"overlay\":{\"id\":\"5120\"}},\"id\":\"5118\",\"type\":\"BoxZoomTool\"},{\"attributes\":{\"axis\":{\"id\":\"5510\"},\"coordinates\":null,\"dimension\":1,\"grid_line_color\":null,\"group\":null,\"ticker\":null},\"id\":\"5512\",\"type\":\"Grid\"},{\"attributes\":{\"label\":{\"field\":\"labels\"},\"renderers\":[{\"id\":\"5533\"}]},\"id\":\"5546\",\"type\":\"LegendItem\"},{\"attributes\":{\"axis\":{\"id\":\"5112\"},\"coordinates\":null,\"dimension\":1,\"grid_line_color\":null,\"group\":null,\"ticker\":null},\"id\":\"5114\",\"type\":\"Grid\"},{\"attributes\":{},\"id\":\"5573\",\"type\":\"CategoricalTicker\"},{\"attributes\":{},\"id\":\"5142\",\"type\":\"BasicTickFormatter\"},{\"attributes\":{\"axis_label\":\"\",\"coordinates\":null,\"formatter\":{\"id\":\"4953\"},\"group\":null,\"major_label_policy\":{\"id\":\"4954\"},\"ticker\":{\"id\":\"4927\"}},\"id\":\"4926\",\"type\":\"CategoricalAxis\"},{\"attributes\":{\"axis\":{\"id\":\"4984\"},\"coordinates\":null,\"grid_line_color\":null,\"group\":null,\"ticker\":null},\"id\":\"4987\",\"type\":\"Grid\"},{\"attributes\":{\"fill_alpha\":{\"value\":1.0},\"fill_color\":{\"field\":\"labels\",\"transform\":{\"id\":\"5526\"}},\"hatch_alpha\":{\"value\":1.0},\"hatch_color\":{\"field\":\"labels\",\"transform\":{\"id\":\"5526\"}},\"hatch_scale\":{\"value\":12.0},\"hatch_weight\":{\"value\":1.0},\"height\":{\"value\":0.8},\"left\":{\"field\":\"bottom\"},\"line_alpha\":{\"value\":1.0},\"line_cap\":{\"value\":\"butt\"},\"line_color\":{\"value\":\"black\"},\"line_dash\":{\"value\":[]},\"line_dash_offset\":{\"value\":0},\"line_join\":{\"value\":\"bevel\"},\"line_width\":{\"value\":1},\"right\":{\"field\":\"top\"},\"y\":{\"field\":\"index\"}},\"id\":\"5547\",\"type\":\"HBar\"},{\"attributes\":{\"style\":{\"white-space\":\"nowrap\"},\"text\":\"<span style=\\\"color:black;font-family:Arial;font-style:bold;font-weight:bold;font-size:12pt\\\">Data Shape:(13544, 9)</span>\",\"width\":450},\"id\":\"5787\",\"type\":\"Div\"},{\"attributes\":{},\"id\":\"5055\",\"type\":\"WheelZoomTool\"},{\"attributes\":{\"ticks\":[0]},\"id\":\"5672\",\"type\":\"FixedTicker\"},{\"attributes\":{},\"id\":\"4918\",\"type\":\"LinearScale\"},{\"attributes\":{},\"id\":\"4958\",\"type\":\"UnionRenderers\"},{\"attributes\":{},\"id\":\"5020\",\"type\":\"UnionRenderers\"},{\"attributes\":{\"children\":[[{\"id\":\"4913\"},0,0],[{\"id\":\"4975\"},1,0],[{\"id\":\"5037\"},2,0],[{\"id\":\"5099\"},3,0]]},\"id\":\"5199\",\"type\":\"GridBox\"},{\"attributes\":{\"coordinates\":null,\"group\":null,\"text\":\"Datatypes\",\"text_color\":\"black\",\"text_font_size\":\"12pt\"},\"id\":\"4914\",\"type\":\"Title\"},{\"attributes\":{\"axis_label\":\"\",\"coordinates\":null,\"formatter\":{\"id\":\"5599\"},\"group\":null,\"major_label_policy\":{\"id\":\"5600\"},\"ticker\":{\"id\":\"5573\"}},\"id\":\"5572\",\"type\":\"CategoricalAxis\"},{\"attributes\":{\"bottom_units\":\"screen\",\"coordinates\":null,\"fill_alpha\":0.5,\"fill_color\":\"lightgrey\",\"group\":null,\"left_units\":\"screen\",\"level\":\"overlay\",\"line_alpha\":1.0,\"line_color\":\"black\",\"line_dash\":[4,4],\"line_width\":2,\"right_units\":\"screen\",\"syncable\":false,\"top_units\":\"screen\"},\"id\":\"4934\",\"type\":\"BoxAnnotation\"},{\"attributes\":{},\"id\":\"4933\",\"type\":\"ResetTool\"},{\"attributes\":{\"fill_alpha\":{\"value\":1.0},\"fill_color\":{\"field\":\"labels\",\"transform\":{\"id\":\"5128\"}},\"hatch_alpha\":{\"value\":1.0},\"hatch_color\":{\"field\":\"labels\",\"transform\":{\"id\":\"5128\"}},\"hatch_scale\":{\"value\":12.0},\"hatch_weight\":{\"value\":1.0},\"height\":{\"value\":0.8},\"left\":{\"field\":\"bottom\"},\"line_alpha\":{\"value\":1.0},\"line_cap\":{\"value\":\"butt\"},\"line_color\":{\"value\":\"black\"},\"line_dash\":{\"value\":[]},\"line_dash_offset\":{\"value\":0},\"line_join\":{\"value\":\"bevel\"},\"line_width\":{\"value\":1},\"right\":{\"field\":\"top\"},\"y\":{\"field\":\"index\"}},\"id\":\"5149\",\"type\":\"HBar\"},{\"attributes\":{},\"id\":\"4956\",\"type\":\"BasicTickFormatter\"},{\"attributes\":{\"end\":100.0,\"reset_end\":100.0,\"reset_start\":0.0,\"tags\":[[[\"value\",\"value\",null]]]},\"id\":\"4910\",\"type\":\"Range1d\"},{\"attributes\":{\"axis_label\":\"\",\"coordinates\":null,\"formatter\":{\"id\":\"5540\"},\"group\":null,\"major_label_policy\":{\"id\":\"5541\"},\"ticker\":{\"id\":\"5548\"}},\"id\":\"5506\",\"type\":\"LinearAxis\"},{\"attributes\":{\"client_comm_id\":\"1216f277944a4565862e201295ff9b13\",\"comm_id\":\"169f5ab3d36f464fbe1e0f99b4c60048\",\"plot_id\":\"4909\"},\"id\":\"6294\",\"type\":\"panel.models.comm_manager.CommManager\"},{\"attributes\":{\"children\":[{\"id\":\"5201\"},{\"id\":\"5199\"}]},\"id\":\"5202\",\"type\":\"Column\"},{\"attributes\":{\"factors\":[\"values\"],\"tags\":[[[\"index\",\"index\",null]]]},\"id\":\"4911\",\"type\":\"FactorRange\"},{\"attributes\":{},\"id\":\"4931\",\"type\":\"WheelZoomTool\"},{\"attributes\":{\"fill_alpha\":{\"value\":1.0},\"fill_color\":{\"field\":\"labels\",\"transform\":{\"id\":\"5712\"}},\"hatch_alpha\":{\"value\":1.0},\"hatch_color\":{\"field\":\"labels\",\"transform\":{\"id\":\"5712\"}},\"hatch_scale\":{\"value\":12.0},\"hatch_weight\":{\"value\":1.0},\"height\":{\"value\":0.8},\"left\":{\"field\":\"bottom\"},\"line_alpha\":{\"value\":1.0},\"line_cap\":{\"value\":\"butt\"},\"line_color\":{\"value\":\"black\"},\"line_dash\":{\"value\":[]},\"line_dash_offset\":{\"value\":0},\"line_join\":{\"value\":\"bevel\"},\"line_width\":{\"value\":1},\"right\":{\"field\":\"top\"},\"y\":{\"field\":\"index\"}},\"id\":\"5733\",\"type\":\"HBar\"},{\"attributes\":{},\"id\":\"5104\",\"type\":\"LinearScale\"},{\"attributes\":{},\"id\":\"4927\",\"type\":\"CategoricalTicker\"},{\"attributes\":{\"factors\":[\"Date\",\"Numeric\",\"Others\"],\"palette\":[\"#30a2da\",\"#fc4f30\",\"#e5ae38\"]},\"id\":\"4942\",\"type\":\"CategoricalColorMapper\"},{\"attributes\":{\"ticks\":[0]},\"id\":\"5088\",\"type\":\"FixedTicker\"},{\"attributes\":{\"axis\":{\"id\":\"5046\"},\"coordinates\":null,\"grid_line_color\":null,\"group\":null,\"ticker\":null},\"id\":\"5049\",\"type\":\"Grid\"},{\"attributes\":{},\"id\":\"5700\",\"type\":\"PanTool\"},{\"attributes\":{\"axis_label\":\"\",\"coordinates\":null,\"formatter\":{\"id\":\"5664\"},\"group\":null,\"major_label_policy\":{\"id\":\"5665\"},\"ticker\":{\"id\":\"5672\"}},\"id\":\"5630\",\"type\":\"LinearAxis\"},{\"attributes\":{},\"id\":\"5637\",\"type\":\"SaveTool\"},{\"attributes\":{},\"id\":\"5726\",\"type\":\"BasicTickFormatter\"},{\"attributes\":{\"fill_color\":{\"field\":\"labels\",\"transform\":{\"id\":\"4942\"}},\"hatch_color\":{\"field\":\"labels\",\"transform\":{\"id\":\"4942\"}},\"height\":{\"value\":0.8},\"left\":{\"field\":\"bottom\"},\"right\":{\"field\":\"top\"},\"y\":{\"field\":\"index\"}},\"id\":\"4946\",\"type\":\"HBar\"},{\"attributes\":{\"ticks\":[0]},\"id\":\"5610\",\"type\":\"FixedTicker\"},{\"attributes\":{},\"id\":\"5538\",\"type\":\"AllLabels\"},{\"attributes\":{},\"id\":\"5068\",\"type\":\"Selection\"},{\"attributes\":{\"bottom_units\":\"screen\",\"coordinates\":null,\"fill_alpha\":0.5,\"fill_color\":\"lightgrey\",\"group\":null,\"left_units\":\"screen\",\"level\":\"overlay\",\"line_alpha\":1.0,\"line_color\":\"black\",\"line_dash\":[4,4],\"line_width\":2,\"right_units\":\"screen\",\"syncable\":false,\"top_units\":\"screen\"},\"id\":\"4996\",\"type\":\"BoxAnnotation\"},{\"attributes\":{\"fill_color\":{\"field\":\"labels\",\"transform\":{\"id\":\"5712\"}},\"hatch_color\":{\"field\":\"labels\",\"transform\":{\"id\":\"5712\"}},\"height\":{\"value\":0.8},\"left\":{\"field\":\"bottom\"},\"right\":{\"field\":\"top\"},\"y\":{\"field\":\"index\"}},\"id\":\"5716\",\"type\":\"HBar\"},{\"attributes\":{\"fill_color\":{\"field\":\"labels\",\"transform\":{\"id\":\"5128\"}},\"hatch_color\":{\"field\":\"labels\",\"transform\":{\"id\":\"5128\"}},\"height\":{\"value\":0.8},\"left\":{\"field\":\"bottom\"},\"right\":{\"field\":\"top\"},\"y\":{\"field\":\"index\"}},\"id\":\"5132\",\"type\":\"HBar\"},{\"attributes\":{},\"id\":\"5044\",\"type\":\"CategoricalScale\"},{\"attributes\":{\"children\":[{\"id\":\"5203\"},{\"id\":\"5202\"}]},\"id\":\"5204\",\"type\":\"Column\"},{\"attributes\":{\"fill_alpha\":{\"value\":0.1},\"fill_color\":{\"field\":\"labels\",\"transform\":{\"id\":\"5004\"}},\"hatch_alpha\":{\"value\":0.1},\"hatch_color\":{\"field\":\"labels\",\"transform\":{\"id\":\"5004\"}},\"height\":{\"value\":0.8},\"left\":{\"field\":\"bottom\"},\"line_alpha\":{\"value\":0.1},\"right\":{\"field\":\"top\"},\"y\":{\"field\":\"index\"}},\"id\":\"5009\",\"type\":\"HBar\"},{\"attributes\":{\"child\":{\"id\":\"5788\"},\"name\":\"product\",\"title\":\"product\"},\"id\":\"6077\",\"type\":\"Panel\"},{\"attributes\":{\"tools\":[{\"id\":\"5496\"},{\"id\":\"5513\"},{\"id\":\"5514\"},{\"id\":\"5515\"},{\"id\":\"5516\"},{\"id\":\"5517\"}]},\"id\":\"5519\",\"type\":\"Toolbar\"},{\"attributes\":{\"coordinates\":null,\"data_source\":{\"id\":\"5651\"},\"glyph\":{\"id\":\"5654\"},\"group\":null,\"hover_glyph\":null,\"muted_glyph\":{\"id\":\"5656\"},\"nonselection_glyph\":{\"id\":\"5655\"},\"selection_glyph\":{\"id\":\"5671\"},\"view\":{\"id\":\"5658\"}},\"id\":\"5657\",\"type\":\"GlyphRenderer\"},{\"attributes\":{\"bottom_units\":\"screen\",\"coordinates\":null,\"fill_alpha\":0.5,\"fill_color\":\"lightgrey\",\"group\":null,\"left_units\":\"screen\",\"level\":\"overlay\",\"line_alpha\":1.0,\"line_color\":\"black\",\"line_dash\":[4,4],\"line_width\":2,\"right_units\":\"screen\",\"syncable\":false,\"top_units\":\"screen\"},\"id\":\"5120\",\"type\":\"BoxAnnotation\"},{\"attributes\":{\"axis_label\":\"\",\"coordinates\":null,\"formatter\":{\"id\":\"5537\"},\"group\":null,\"major_label_policy\":{\"id\":\"5538\"},\"ticker\":{\"id\":\"5511\"}},\"id\":\"5510\",\"type\":\"CategoricalAxis\"},{\"attributes\":{\"axis\":{\"id\":\"4988\"},\"coordinates\":null,\"dimension\":1,\"grid_line_color\":null,\"group\":null,\"ticker\":null},\"id\":\"4990\",\"type\":\"Grid\"},{\"attributes\":{},\"id\":\"5690\",\"type\":\"CategoricalScale\"},{\"attributes\":{\"fill_alpha\":{\"value\":0.2},\"fill_color\":{\"field\":\"labels\",\"transform\":{\"id\":\"5650\"}},\"hatch_alpha\":{\"value\":0.2},\"hatch_color\":{\"field\":\"labels\",\"transform\":{\"id\":\"5650\"}},\"height\":{\"value\":0.8},\"left\":{\"field\":\"bottom\"},\"line_alpha\":{\"value\":0.2},\"right\":{\"field\":\"top\"},\"y\":{\"field\":\"index\"}},\"id\":\"5656\",\"type\":\"HBar\"},{\"attributes\":{\"coordinates\":null,\"group\":null,\"items\":[{\"id\":\"5546\"}],\"location\":[0,0]},\"id\":\"5545\",\"type\":\"Legend\"},{\"attributes\":{},\"id\":\"4992\",\"type\":\"PanTool\"},{\"attributes\":{\"factors\":[\"Available\",\"Missing\"],\"palette\":[\"#30a2da\",\"#fc4f30\"]},\"id\":\"5004\",\"type\":\"CategoricalColorMapper\"},{\"attributes\":{\"coordinates\":null,\"group\":null,\"items\":[{\"id\":\"5024\"}],\"location\":[0,0]},\"id\":\"5023\",\"type\":\"Legend\"},{\"attributes\":{\"children\":[{\"id\":\"5787\"},{\"id\":\"5786\"}]},\"id\":\"5788\",\"type\":\"Column\"},{\"attributes\":{\"axis_label\":\"\",\"coordinates\":null,\"formatter\":{\"id\":\"5015\"},\"group\":null,\"major_label_policy\":{\"id\":\"5016\"},\"ticker\":{\"id\":\"4989\"}},\"id\":\"4988\",\"type\":\"CategoricalAxis\"},{\"attributes\":{\"axis\":{\"id\":\"5108\"},\"coordinates\":null,\"grid_line_color\":null,\"group\":null,\"ticker\":null},\"id\":\"5111\",\"type\":\"Grid\"},{\"attributes\":{\"axis\":{\"id\":\"5696\"},\"coordinates\":null,\"dimension\":1,\"grid_line_color\":null,\"group\":null,\"ticker\":null},\"id\":\"5698\",\"type\":\"Grid\"},{\"attributes\":{\"fill_alpha\":{\"value\":0.2},\"fill_color\":{\"field\":\"labels\",\"transform\":{\"id\":\"5712\"}},\"hatch_alpha\":{\"value\":0.2},\"hatch_color\":{\"field\":\"labels\",\"transform\":{\"id\":\"5712\"}},\"height\":{\"value\":0.8},\"left\":{\"field\":\"bottom\"},\"line_alpha\":{\"value\":0.2},\"right\":{\"field\":\"top\"},\"y\":{\"field\":\"index\"}},\"id\":\"5718\",\"type\":\"HBar\"},{\"attributes\":{\"below\":[{\"id\":\"5692\"}],\"center\":[{\"id\":\"5695\"},{\"id\":\"5698\"},{\"id\":\"5731\"}],\"height\":100,\"left\":[{\"id\":\"5696\"}],\"margin\":null,\"min_border_bottom\":10,\"min_border_left\":10,\"min_border_right\":10,\"min_border_top\":10,\"renderers\":[{\"id\":\"5719\"}],\"right\":[{\"id\":\"5731\"}],\"sizing_mode\":\"fixed\",\"title\":{\"id\":\"5684\"},\"toolbar\":{\"id\":\"5705\"},\"toolbar_location\":null,\"width\":700,\"x_range\":{\"id\":\"4910\"},\"x_scale\":{\"id\":\"5688\"},\"y_range\":{\"id\":\"4911\"},\"y_scale\":{\"id\":\"5690\"}},\"id\":\"5683\",\"subtype\":\"Figure\",\"type\":\"Plot\"},{\"attributes\":{\"axis_label\":\"\",\"coordinates\":null,\"formatter\":{\"id\":\"5142\"},\"group\":null,\"major_label_policy\":{\"id\":\"5143\"},\"ticker\":{\"id\":\"5150\"}},\"id\":\"5108\",\"type\":\"LinearAxis\"},{\"attributes\":{\"source\":{\"id\":\"5651\"}},\"id\":\"5658\",\"type\":\"CDSView\"},{\"attributes\":{},\"id\":\"5542\",\"type\":\"UnionRenderers\"},{\"attributes\":{\"callback\":null,\"renderers\":[{\"id\":\"5073\"}],\"tags\":[\"hv_created\"],\"tooltips\":[[\"index\",\"@{index}\"],[\"labels\",\"@{labels}\"],[\"value\",\"@{value}\"]]},\"id\":\"5036\",\"type\":\"HoverTool\"},{\"attributes\":{\"label\":{\"field\":\"labels\"},\"renderers\":[{\"id\":\"5011\"}]},\"id\":\"5024\",\"type\":\"LegendItem\"},{\"attributes\":{\"fill_color\":{\"field\":\"labels\",\"transform\":{\"id\":\"5526\"}},\"hatch_color\":{\"field\":\"labels\",\"transform\":{\"id\":\"5526\"}},\"height\":{\"value\":0.8},\"left\":{\"field\":\"bottom\"},\"right\":{\"field\":\"top\"},\"y\":{\"field\":\"index\"}},\"id\":\"5530\",\"type\":\"HBar\"},{\"attributes\":{\"axis\":{\"id\":\"5506\"},\"coordinates\":null,\"grid_line_color\":null,\"group\":null,\"ticker\":null},\"id\":\"5509\",\"type\":\"Grid\"},{\"attributes\":{},\"id\":\"5635\",\"type\":\"CategoricalTicker\"},{\"attributes\":{\"coordinates\":null,\"data_source\":{\"id\":\"5589\"},\"glyph\":{\"id\":\"5592\"},\"group\":null,\"hover_glyph\":null,\"muted_glyph\":{\"id\":\"5594\"},\"nonselection_glyph\":{\"id\":\"5593\"},\"selection_glyph\":{\"id\":\"5609\"},\"view\":{\"id\":\"5596\"}},\"id\":\"5595\",\"type\":\"GlyphRenderer\"},{\"attributes\":{},\"id\":\"5641\",\"type\":\"ResetTool\"},{\"attributes\":{\"coordinates\":null,\"group\":null,\"text\":\"Missing Values\",\"text_color\":\"black\",\"text_font_size\":\"12pt\"},\"id\":\"4976\",\"type\":\"Title\"},{\"attributes\":{\"label\":{\"field\":\"labels\"},\"renderers\":[{\"id\":\"5719\"}]},\"id\":\"5732\",\"type\":\"LegendItem\"},{\"attributes\":{\"callback\":null,\"renderers\":[{\"id\":\"5011\"}],\"tags\":[\"hv_created\"],\"tooltips\":[[\"index\",\"@{index}\"],[\"labels\",\"@{labels}\"],[\"value\",\"@{value}\"]]},\"id\":\"4974\",\"type\":\"HoverTool\"},{\"attributes\":{\"factors\":[\"Unique\",\"Duplicate\"],\"palette\":[\"#30a2da\",\"#fc4f30\"]},\"id\":\"5650\",\"type\":\"CategoricalColorMapper\"},{\"attributes\":{\"axis\":{\"id\":\"5692\"},\"coordinates\":null,\"grid_line_color\":null,\"group\":null,\"ticker\":null},\"id\":\"5695\",\"type\":\"Grid\"},{\"attributes\":{},\"id\":\"5714\",\"type\":\"Selection\"},{\"attributes\":{},\"id\":\"5666\",\"type\":\"UnionRenderers\"},{\"attributes\":{},\"id\":\"5575\",\"type\":\"SaveTool\"},{\"attributes\":{\"axis_label\":\"\",\"coordinates\":null,\"formatter\":{\"id\":\"5661\"},\"group\":null,\"major_label_policy\":{\"id\":\"5662\"},\"ticker\":{\"id\":\"5635\"}},\"id\":\"5634\",\"type\":\"CategoricalAxis\"},{\"attributes\":{},\"id\":\"4954\",\"type\":\"AllLabels\"},{\"attributes\":{},\"id\":\"5015\",\"type\":\"CategoricalTickFormatter\"},{\"attributes\":{\"below\":[{\"id\":\"4922\"}],\"center\":[{\"id\":\"4925\"},{\"id\":\"4928\"},{\"id\":\"4961\"}],\"height\":100,\"left\":[{\"id\":\"4926\"}],\"margin\":null,\"min_border_bottom\":10,\"min_border_left\":10,\"min_border_right\":10,\"min_border_top\":10,\"renderers\":[{\"id\":\"4949\"}],\"right\":[{\"id\":\"4961\"}],\"sizing_mode\":\"fixed\",\"title\":{\"id\":\"4914\"},\"toolbar\":{\"id\":\"4935\"},\"toolbar_location\":null,\"width\":700,\"x_range\":{\"id\":\"4910\"},\"x_scale\":{\"id\":\"4918\"},\"y_range\":{\"id\":\"4911\"},\"y_scale\":{\"id\":\"4920\"}},\"id\":\"4913\",\"subtype\":\"Figure\",\"type\":\"Plot\"},{\"attributes\":{},\"id\":\"5051\",\"type\":\"CategoricalTicker\"},{\"attributes\":{\"tools\":[{\"id\":\"5558\"},{\"id\":\"5575\"},{\"id\":\"5576\"},{\"id\":\"5577\"},{\"id\":\"5578\"},{\"id\":\"5579\"}]},\"id\":\"5581\",\"type\":\"Toolbar\"},{\"attributes\":{},\"id\":\"5078\",\"type\":\"AllLabels\"},{\"attributes\":{\"data\":{\"bottom\":{\"__ndarray__\":\"AAAAAAAAAAAAAAAAAABZQA==\",\"dtype\":\"float64\",\"order\":\"little\",\"shape\":[2]},\"index\":[\"values\",\"values\"],\"labels\":[\"Unique\",\"Duplicate\"],\"top\":{\"__ndarray__\":\"AAAAAAAAWUAAAAAAAABZQA==\",\"dtype\":\"float64\",\"order\":\"little\",\"shape\":[2]},\"value\":{\"__ndarray__\":\"AAAAAAAAWUAAAAAAAAAAAA==\",\"dtype\":\"float64\",\"order\":\"little\",\"shape\":[2]}},\"selected\":{\"id\":\"5130\"},\"selection_policy\":{\"id\":\"5144\"}},\"id\":\"5129\",\"type\":\"ColumnDataSource\"},{\"attributes\":{\"axis\":{\"id\":\"5572\"},\"coordinates\":null,\"dimension\":1,\"grid_line_color\":null,\"group\":null,\"ticker\":null},\"id\":\"5574\",\"type\":\"Grid\"},{\"attributes\":{},\"id\":\"5576\",\"type\":\"PanTool\"},{\"attributes\":{},\"id\":\"4993\",\"type\":\"WheelZoomTool\"},{\"attributes\":{},\"id\":\"5662\",\"type\":\"AllLabels\"},{\"attributes\":{\"fill_alpha\":{\"value\":0.2},\"fill_color\":{\"field\":\"labels\",\"transform\":{\"id\":\"5588\"}},\"hatch_alpha\":{\"value\":0.2},\"hatch_color\":{\"field\":\"labels\",\"transform\":{\"id\":\"5588\"}},\"height\":{\"value\":0.8},\"left\":{\"field\":\"bottom\"},\"line_alpha\":{\"value\":0.2},\"right\":{\"field\":\"top\"},\"y\":{\"field\":\"index\"}},\"id\":\"5594\",\"type\":\"HBar\"},{\"attributes\":{},\"id\":\"5665\",\"type\":\"AllLabels\"},{\"attributes\":{},\"id\":\"4989\",\"type\":\"CategoricalTicker\"},{\"attributes\":{},\"id\":\"5661\",\"type\":\"CategoricalTickFormatter\"},{\"attributes\":{},\"id\":\"5006\",\"type\":\"Selection\"},{\"attributes\":{\"child\":{\"id\":\"5204\"},\"name\":\"orders\",\"title\":\"orders\"},\"id\":\"5493\",\"type\":\"Panel\"},{\"attributes\":{},\"id\":\"4953\",\"type\":\"CategoricalTickFormatter\"},{\"attributes\":{\"source\":{\"id\":\"5129\"}},\"id\":\"5136\",\"type\":\"CDSView\"},{\"attributes\":{\"toolbars\":[{\"id\":\"4935\"},{\"id\":\"4997\"},{\"id\":\"5059\"},{\"id\":\"5121\"}],\"tools\":[{\"id\":\"4912\"},{\"id\":\"4929\"},{\"id\":\"4930\"},{\"id\":\"4931\"},{\"id\":\"4932\"},{\"id\":\"4933\"},{\"id\":\"4974\"},{\"id\":\"4991\"},{\"id\":\"4992\"},{\"id\":\"4993\"},{\"id\":\"4994\"},{\"id\":\"4995\"},{\"id\":\"5036\"},{\"id\":\"5053\"},{\"id\":\"5054\"},{\"id\":\"5055\"},{\"id\":\"5056\"},{\"id\":\"5057\"},{\"id\":\"5098\"},{\"id\":\"5115\"},{\"id\":\"5116\"},{\"id\":\"5117\"},{\"id\":\"5118\"},{\"id\":\"5119\"}]},\"id\":\"5200\",\"type\":\"ProxyToolbar\"},{\"attributes\":{\"callback\":null,\"renderers\":[{\"id\":\"5595\"}],\"tags\":[\"hv_created\"],\"tooltips\":[[\"index\",\"@{index}\"],[\"labels\",\"@{labels}\"],[\"value\",\"@{value}\"]]},\"id\":\"5558\",\"type\":\"HoverTool\"},{\"attributes\":{},\"id\":\"5728\",\"type\":\"UnionRenderers\"},{\"attributes\":{},\"id\":\"5564\",\"type\":\"LinearScale\"},{\"attributes\":{\"fill_alpha\":{\"value\":0.2},\"fill_color\":{\"field\":\"labels\",\"transform\":{\"id\":\"5066\"}},\"hatch_alpha\":{\"value\":0.2},\"hatch_color\":{\"field\":\"labels\",\"transform\":{\"id\":\"5066\"}},\"height\":{\"value\":0.8},\"left\":{\"field\":\"bottom\"},\"line_alpha\":{\"value\":0.2},\"right\":{\"field\":\"top\"},\"y\":{\"field\":\"index\"}},\"id\":\"5072\",\"type\":\"HBar\"},{\"attributes\":{\"source\":{\"id\":\"5005\"}},\"id\":\"5012\",\"type\":\"CDSView\"},{\"attributes\":{},\"id\":\"4957\",\"type\":\"AllLabels\"},{\"attributes\":{},\"id\":\"5577\",\"type\":\"WheelZoomTool\"},{\"attributes\":{\"axis_label\":\"\",\"coordinates\":null,\"formatter\":{\"id\":\"5080\"},\"group\":null,\"major_label_policy\":{\"id\":\"5081\"},\"ticker\":{\"id\":\"5088\"}},\"id\":\"5046\",\"type\":\"LinearAxis\"},{\"attributes\":{},\"id\":\"5579\",\"type\":\"ResetTool\"},{\"attributes\":{\"bottom_units\":\"screen\",\"coordinates\":null,\"fill_alpha\":0.5,\"fill_color\":\"lightgrey\",\"group\":null,\"left_units\":\"screen\",\"level\":\"overlay\",\"line_alpha\":1.0,\"line_color\":\"black\",\"line_dash\":[4,4],\"line_width\":2,\"right_units\":\"screen\",\"syncable\":false,\"top_units\":\"screen\"},\"id\":\"5580\",\"type\":\"BoxAnnotation\"},{\"attributes\":{},\"id\":\"5018\",\"type\":\"BasicTickFormatter\"},{\"attributes\":{\"style\":{\"white-space\":\"nowrap\"},\"text\":\"<span style=\\\"color:black;font-family:Arial;font-style:bold;font-weight:bold;font-size:12pt\\\">Data Shape:(174813, 25)</span>\",\"width\":450},\"id\":\"5203\",\"type\":\"Div\"},{\"attributes\":{\"fill_alpha\":{\"value\":1.0},\"fill_color\":{\"field\":\"labels\",\"transform\":{\"id\":\"4942\"}},\"hatch_alpha\":{\"value\":1.0},\"hatch_color\":{\"field\":\"labels\",\"transform\":{\"id\":\"4942\"}},\"hatch_scale\":{\"value\":12.0},\"hatch_weight\":{\"value\":1.0},\"height\":{\"value\":0.8},\"left\":{\"field\":\"bottom\"},\"line_alpha\":{\"value\":1.0},\"line_cap\":{\"value\":\"butt\"},\"line_color\":{\"value\":\"black\"},\"line_dash\":{\"value\":[]},\"line_dash_offset\":{\"value\":0},\"line_join\":{\"value\":\"bevel\"},\"line_width\":{\"value\":1},\"right\":{\"field\":\"top\"},\"y\":{\"field\":\"index\"}},\"id\":\"4963\",\"type\":\"HBar\"},{\"attributes\":{},\"id\":\"5144\",\"type\":\"UnionRenderers\"},{\"attributes\":{},\"id\":\"5106\",\"type\":\"CategoricalScale\"},{\"attributes\":{},\"id\":\"5016\",\"type\":\"AllLabels\"},{\"attributes\":{},\"id\":\"5566\",\"type\":\"CategoricalScale\"}],\"root_ids\":[\"4909\",\"6294\"]},\"title\":\"Bokeh Application\",\"version\":\"2.4.3\"}};\n",
       "    var render_items = [{\"docid\":\"4a517daa-0152-4199-9c0d-562941b3d8c3\",\"root_ids\":[\"4909\"],\"roots\":{\"4909\":\"aabdfc83-95b7-4616-b731-bb7936bbbdf8\"}}];\n",
       "    root.Bokeh.embed.embed_items_notebook(docs_json, render_items);\n",
       "  }\n",
       "  if (root.Bokeh !== undefined && root.Bokeh.Panel !== undefined) {\n",
       "    embed_document(root);\n",
       "  } else {\n",
       "    var attempts = 0;\n",
       "    var timer = setInterval(function(root) {\n",
       "      if (root.Bokeh !== undefined && root.Bokeh.Panel !== undefined) {\n",
       "        clearInterval(timer);\n",
       "        embed_document(root);\n",
       "      } else if (document.readyState == \"complete\") {\n",
       "        attempts++;\n",
       "        if (attempts > 200) {\n",
       "          clearInterval(timer);\n",
       "          console.log(\"Bokeh: ERROR: Unable to run BokehJS code because BokehJS library is missing\");\n",
       "        }\n",
       "      }\n",
       "    }, 25, root)\n",
       "  }\n",
       "})(window);</script>"
      ],
      "text/plain": [
       "Tabs\n",
       "    [0] HoloViews(Layout, name='orders')\n",
       "    [1] HoloViews(Layout, name='product')"
      ]
     },
     "execution_count": 49,
     "metadata": {
      "application/vnd.holoviews_exec.v0+json": {
       "id": "4909"
      }
     },
     "output_type": "execute_result"
    }
   ],
   "source": [
    "sum1, plot1 = eda.get_data_health_summary(orders_df, return_plot=True)\n",
    "sum2, plot2 = eda.get_data_health_summary(prod_df, return_plot=True)\n",
    "\n",
    "display_as_tabs([('orders', plot1), ('product', plot2)]) # type: ignore"
   ]
  },
  {
   "attachments": {},
   "cell_type": "markdown",
   "metadata": {},
   "source": [
    "**Dev NOTES**\n",
    "\n",
    "<details>\n",
    "1. Datatypes : We have both numeric and other types. The bulk of them seem to be numeric. `Numeric` is defined to be one of [float|int|date] and the rest are categorized as `Others`. A column is assumed to have `date` values if it has the string `date` in the column name.\n",
    "\n",
    "2. The missing value plot seems to indicate missing values are not present but we do have them. \n",
    "\n",
    "3. We are looking for duplicate observations (rows in the data). The plot shows the % of rows that are an exact replica of another row (using `df.duplicated`)\n",
    "\n",
    "4. We are looking for duplicate features (columns in the data).\n",
    "\n",
    "</details>"
   ]
  },
  {
   "attachments": {},
   "cell_type": "markdown",
   "metadata": {},
   "source": [
    "### Missing Values summary\n",
    "\n",
    "This provides an overall view focussing on amount of missing values in the dataset.\n",
    "\n",
    "**Watch out for:**\n",
    "* A few columns have significant number of missing values \n",
    "* Most columns have significant number of missing values\n"
   ]
  },
  {
   "cell_type": "code",
   "execution_count": null,
   "metadata": {},
   "outputs": [
    {
     "name": "stderr",
     "output_type": "stream",
     "text": [
      "tzname GB identified but not understood.  Pass `tzinfos` argument in order to correctly return a timezone-aware datetime.  In a future version, this will raise an exception.\n",
      "\n"
     ]
    },
    {
     "data": {},
     "metadata": {},
     "output_type": "display_data"
    },
    {
     "data": {},
     "metadata": {},
     "output_type": "display_data"
    },
    {
     "data": {
      "application/vnd.holoviews_exec.v0+json": "",
      "text/html": [
       "<div id='2961'>\n",
       "  <div class=\"bk-root\" id=\"d6326094-9e0d-4067-94cc-fa5d4296ad72\" data-root-id=\"2961\"></div>\n",
       "</div>\n",
       "<script type=\"application/javascript\">(function(root) {\n",
       "  function embed_document(root) {\n",
       "    var docs_json = {\"9303a782-8001-4c0f-8bcf-f06e16b19bb4\":{\"defs\":[{\"extends\":null,\"module\":null,\"name\":\"ReactiveHTML1\",\"overrides\":[],\"properties\":[]},{\"extends\":null,\"module\":null,\"name\":\"FlexBox1\",\"overrides\":[],\"properties\":[{\"default\":\"flex-start\",\"kind\":null,\"name\":\"align_content\"},{\"default\":\"flex-start\",\"kind\":null,\"name\":\"align_items\"},{\"default\":\"row\",\"kind\":null,\"name\":\"flex_direction\"},{\"default\":\"wrap\",\"kind\":null,\"name\":\"flex_wrap\"},{\"default\":\"flex-start\",\"kind\":null,\"name\":\"justify_content\"}]},{\"extends\":null,\"module\":null,\"name\":\"GridStack1\",\"overrides\":[],\"properties\":[{\"default\":\"warn\",\"kind\":null,\"name\":\"mode\"},{\"default\":null,\"kind\":null,\"name\":\"ncols\"},{\"default\":null,\"kind\":null,\"name\":\"nrows\"},{\"default\":true,\"kind\":null,\"name\":\"allow_resize\"},{\"default\":true,\"kind\":null,\"name\":\"allow_drag\"},{\"default\":[],\"kind\":null,\"name\":\"state\"}]},{\"extends\":null,\"module\":null,\"name\":\"click1\",\"overrides\":[],\"properties\":[{\"default\":\"\",\"kind\":null,\"name\":\"terminal_output\"},{\"default\":\"\",\"kind\":null,\"name\":\"debug_name\"},{\"default\":0,\"kind\":null,\"name\":\"clears\"}]},{\"extends\":null,\"module\":null,\"name\":\"NotificationAreaBase1\",\"overrides\":[],\"properties\":[{\"default\":\"bottom-right\",\"kind\":null,\"name\":\"position\"},{\"default\":0,\"kind\":null,\"name\":\"_clear\"}]},{\"extends\":null,\"module\":null,\"name\":\"NotificationArea1\",\"overrides\":[],\"properties\":[{\"default\":[],\"kind\":null,\"name\":\"notifications\"},{\"default\":\"bottom-right\",\"kind\":null,\"name\":\"position\"},{\"default\":0,\"kind\":null,\"name\":\"_clear\"},{\"default\":[{\"background\":\"#ffc107\",\"icon\":{\"className\":\"fas fa-exclamation-triangle\",\"color\":\"white\",\"tagName\":\"i\"},\"type\":\"warning\"},{\"background\":\"#007bff\",\"icon\":{\"className\":\"fas fa-info-circle\",\"color\":\"white\",\"tagName\":\"i\"},\"type\":\"info\"}],\"kind\":null,\"name\":\"types\"}]},{\"extends\":null,\"module\":null,\"name\":\"Notification\",\"overrides\":[],\"properties\":[{\"default\":null,\"kind\":null,\"name\":\"background\"},{\"default\":3000,\"kind\":null,\"name\":\"duration\"},{\"default\":null,\"kind\":null,\"name\":\"icon\"},{\"default\":\"\",\"kind\":null,\"name\":\"message\"},{\"default\":null,\"kind\":null,\"name\":\"notification_type\"},{\"default\":false,\"kind\":null,\"name\":\"_destroyed\"}]},{\"extends\":null,\"module\":null,\"name\":\"TemplateActions1\",\"overrides\":[],\"properties\":[{\"default\":0,\"kind\":null,\"name\":\"open_modal\"},{\"default\":0,\"kind\":null,\"name\":\"close_modal\"}]},{\"extends\":null,\"module\":null,\"name\":\"MaterialTemplateActions1\",\"overrides\":[],\"properties\":[{\"default\":0,\"kind\":null,\"name\":\"open_modal\"},{\"default\":0,\"kind\":null,\"name\":\"close_modal\"}]}],\"roots\":{\"references\":[{\"attributes\":{\"fill_color\":{\"value\":\"#30a2da\"},\"hatch_color\":{\"value\":\"#30a2da\"},\"top\":{\"field\":\"A_0\"},\"width\":{\"value\":0.8},\"x\":{\"field\":\"index\"}},\"id\":\"3055\",\"type\":\"VBar\"},{\"attributes\":{\"callback\":null,\"renderers\":[{\"id\":\"3058\"}],\"tags\":[\"hv_created\"],\"tooltips\":[[\"index\",\"@{index}\"],[\"0\",\"@{A_0}\"]]},\"id\":\"3022\",\"type\":\"HoverTool\"},{\"attributes\":{},\"id\":\"3040\",\"type\":\"PanTool\"},{\"attributes\":{\"axis\":{\"id\":\"3035\"},\"coordinates\":null,\"dimension\":1,\"grid_line_color\":null,\"group\":null,\"ticker\":null},\"id\":\"3038\",\"type\":\"Grid\"},{\"attributes\":{\"end\":25.3,\"reset_end\":25.3,\"reset_start\":0.0,\"tags\":[[[\"0\",\"0\",null]]]},\"id\":\"2963\",\"type\":\"Range1d\"},{\"attributes\":{\"bottom\":{\"value\":0},\"fill_alpha\":{\"value\":1.0},\"fill_color\":{\"value\":\"#30a2da\"},\"hatch_alpha\":{\"value\":1.0},\"hatch_color\":{\"value\":\"#30a2da\"},\"hatch_scale\":{\"value\":12.0},\"hatch_weight\":{\"value\":1.0},\"line_alpha\":{\"value\":1.0},\"line_cap\":{\"value\":\"butt\"},\"line_color\":{\"value\":\"black\"},\"line_dash\":{\"value\":[]},\"line_dash_offset\":{\"value\":0},\"line_join\":{\"value\":\"bevel\"},\"line_width\":{\"value\":1},\"top\":{\"field\":\"A_0\"},\"width\":{\"value\":0.8},\"x\":{\"field\":\"index\"}},\"id\":\"3060\",\"type\":\"VBar\"},{\"attributes\":{},\"id\":\"3063\",\"type\":\"AllLabels\"},{\"attributes\":{\"axis_label\":\"# of variables\",\"coordinates\":null,\"formatter\":{\"id\":\"3007\"},\"group\":null,\"major_label_policy\":{\"id\":\"3008\"},\"ticker\":{\"id\":\"2978\"}},\"id\":\"2977\",\"type\":\"LinearAxis\"},{\"attributes\":{\"coordinates\":null,\"data_source\":{\"id\":\"2994\"},\"glyph\":{\"id\":\"2997\"},\"group\":null,\"hover_glyph\":null,\"muted_glyph\":{\"id\":\"2999\"},\"nonselection_glyph\":{\"id\":\"2998\"},\"selection_glyph\":{\"id\":\"3002\"},\"view\":{\"id\":\"3001\"}},\"id\":\"3000\",\"type\":\"GlyphRenderer\"},{\"attributes\":{},\"id\":\"2970\",\"type\":\"CategoricalScale\"},{\"attributes\":{\"below\":[{\"id\":\"3032\"}],\"center\":[{\"id\":\"3034\"},{\"id\":\"3038\"}],\"height\":300,\"left\":[{\"id\":\"3035\"}],\"margin\":[5,5,5,5],\"min_border_bottom\":10,\"min_border_left\":10,\"min_border_right\":10,\"min_border_top\":10,\"renderers\":[{\"id\":\"3058\"}],\"sizing_mode\":\"fixed\",\"title\":{\"id\":\"3024\"},\"toolbar\":{\"id\":\"3045\"},\"width\":700,\"x_range\":{\"id\":\"2962\"},\"x_scale\":{\"id\":\"3028\"},\"y_range\":{\"id\":\"2963\"},\"y_scale\":{\"id\":\"3030\"}},\"id\":\"3023\",\"subtype\":\"Figure\",\"type\":\"Plot\"},{\"attributes\":{\"coordinates\":null,\"data_source\":{\"id\":\"3052\"},\"glyph\":{\"id\":\"3055\"},\"group\":null,\"hover_glyph\":null,\"muted_glyph\":{\"id\":\"3057\"},\"nonselection_glyph\":{\"id\":\"3056\"},\"selection_glyph\":{\"id\":\"3060\"},\"view\":{\"id\":\"3059\"}},\"id\":\"3058\",\"type\":\"GlyphRenderer\"},{\"attributes\":{},\"id\":\"3036\",\"type\":\"BasicTicker\"},{\"attributes\":{\"factors\":[\"No Missing\",\"0-5%\",\"5-10%\",\"10-20%\",\"20-30%\",\"30-40%\",\"40-50%\",\"50-100%\"],\"tags\":[[[\"index\",\"index\",null]]]},\"id\":\"2962\",\"type\":\"FactorRange\"},{\"attributes\":{},\"id\":\"3066\",\"type\":\"AllLabels\"},{\"attributes\":{},\"id\":\"3039\",\"type\":\"SaveTool\"},{\"attributes\":{},\"id\":\"3007\",\"type\":\"BasicTickFormatter\"},{\"attributes\":{\"axis_label\":\"# of missing observations\",\"coordinates\":null,\"formatter\":{\"id\":\"3004\"},\"group\":null,\"major_label_policy\":{\"id\":\"3005\"},\"ticker\":{\"id\":\"2975\"}},\"id\":\"2974\",\"type\":\"CategoricalAxis\"},{\"attributes\":{\"axis\":{\"id\":\"2977\"},\"coordinates\":null,\"dimension\":1,\"grid_line_color\":null,\"group\":null,\"ticker\":null},\"id\":\"2980\",\"type\":\"Grid\"},{\"attributes\":{\"margin\":[0,0,0,0],\"tabs\":[{\"id\":\"3019\"},{\"id\":\"3077\"}]},\"id\":\"2961\",\"type\":\"panel.models.tabs.Tabs\"},{\"attributes\":{\"source\":{\"id\":\"2994\"}},\"id\":\"3001\",\"type\":\"CDSView\"},{\"attributes\":{},\"id\":\"3062\",\"type\":\"CategoricalTickFormatter\"},{\"attributes\":{},\"id\":\"3016\",\"type\":\"UnionRenderers\"},{\"attributes\":{},\"id\":\"2995\",\"type\":\"Selection\"},{\"attributes\":{\"fill_color\":{\"value\":\"#30a2da\"},\"hatch_color\":{\"value\":\"#30a2da\"},\"top\":{\"field\":\"A_0\"},\"width\":{\"value\":0.8},\"x\":{\"field\":\"index\"}},\"id\":\"2997\",\"type\":\"VBar\"},{\"attributes\":{},\"id\":\"3005\",\"type\":\"AllLabels\"},{\"attributes\":{\"fill_alpha\":{\"value\":0.1},\"fill_color\":{\"value\":\"#30a2da\"},\"hatch_alpha\":{\"value\":0.1},\"hatch_color\":{\"value\":\"#30a2da\"},\"line_alpha\":{\"value\":0.1},\"top\":{\"field\":\"A_0\"},\"width\":{\"value\":0.8},\"x\":{\"field\":\"index\"}},\"id\":\"3056\",\"type\":\"VBar\"},{\"attributes\":{\"fill_alpha\":{\"value\":0.2},\"fill_color\":{\"value\":\"#30a2da\"},\"hatch_alpha\":{\"value\":0.2},\"hatch_color\":{\"value\":\"#30a2da\"},\"line_alpha\":{\"value\":0.2},\"top\":{\"field\":\"A_0\"},\"width\":{\"value\":0.8},\"x\":{\"field\":\"index\"}},\"id\":\"2999\",\"type\":\"VBar\"},{\"attributes\":{\"client_comm_id\":\"8ff7f56ce9714308b46e6966c50d908d\",\"comm_id\":\"80440953b4354fb39589359983739e90\",\"plot_id\":\"2961\"},\"id\":\"3138\",\"type\":\"panel.models.comm_manager.CommManager\"},{\"attributes\":{\"tools\":[{\"id\":\"2964\"},{\"id\":\"2981\"},{\"id\":\"2982\"},{\"id\":\"2983\"},{\"id\":\"2984\"},{\"id\":\"2985\"}]},\"id\":\"2987\",\"type\":\"Toolbar\"},{\"attributes\":{\"callback\":null,\"renderers\":[{\"id\":\"3000\"}],\"tags\":[\"hv_created\"],\"tooltips\":[[\"index\",\"@{index}\"],[\"0\",\"@{A_0}\"]]},\"id\":\"2964\",\"type\":\"HoverTool\"},{\"attributes\":{},\"id\":\"3030\",\"type\":\"LinearScale\"},{\"attributes\":{},\"id\":\"3028\",\"type\":\"CategoricalScale\"},{\"attributes\":{},\"id\":\"3065\",\"type\":\"BasicTickFormatter\"},{\"attributes\":{\"data\":{\"A_0\":[23,2,0,0,0,0,0,0],\"index\":[\"No Missing\",\"0-5%\",\"5-10%\",\"10-20%\",\"20-30%\",\"30-40%\",\"40-50%\",\"50-100%\"]},\"selected\":{\"id\":\"2995\"},\"selection_policy\":{\"id\":\"3016\"}},\"id\":\"2994\",\"type\":\"ColumnDataSource\"},{\"attributes\":{\"fill_alpha\":{\"value\":0.1},\"fill_color\":{\"value\":\"#30a2da\"},\"hatch_alpha\":{\"value\":0.1},\"hatch_color\":{\"value\":\"#30a2da\"},\"line_alpha\":{\"value\":0.1},\"top\":{\"field\":\"A_0\"},\"width\":{\"value\":0.8},\"x\":{\"field\":\"index\"}},\"id\":\"2998\",\"type\":\"VBar\"},{\"attributes\":{},\"id\":\"2983\",\"type\":\"WheelZoomTool\"},{\"attributes\":{},\"id\":\"3008\",\"type\":\"AllLabels\"},{\"attributes\":{\"tools\":[{\"id\":\"3022\"},{\"id\":\"3039\"},{\"id\":\"3040\"},{\"id\":\"3041\"},{\"id\":\"3042\"},{\"id\":\"3043\"}]},\"id\":\"3045\",\"type\":\"Toolbar\"},{\"attributes\":{\"coordinates\":null,\"group\":null,\"text\":\"Missing Variables - Data Shape:(13544, 9)\",\"text_color\":\"black\",\"text_font_size\":\"12pt\"},\"id\":\"3024\",\"type\":\"Title\"},{\"attributes\":{\"fill_alpha\":{\"value\":0.2},\"fill_color\":{\"value\":\"#30a2da\"},\"hatch_alpha\":{\"value\":0.2},\"hatch_color\":{\"value\":\"#30a2da\"},\"line_alpha\":{\"value\":0.2},\"top\":{\"field\":\"A_0\"},\"width\":{\"value\":0.8},\"x\":{\"field\":\"index\"}},\"id\":\"3057\",\"type\":\"VBar\"},{\"attributes\":{\"bottom_units\":\"screen\",\"coordinates\":null,\"fill_alpha\":0.5,\"fill_color\":\"lightgrey\",\"group\":null,\"left_units\":\"screen\",\"level\":\"overlay\",\"line_alpha\":1.0,\"line_color\":\"black\",\"line_dash\":[4,4],\"line_width\":2,\"right_units\":\"screen\",\"syncable\":false,\"top_units\":\"screen\"},\"id\":\"3044\",\"type\":\"BoxAnnotation\"},{\"attributes\":{\"child\":{\"id\":\"3023\"},\"name\":\"product\",\"title\":\"product\"},\"id\":\"3077\",\"type\":\"Panel\"},{\"attributes\":{\"bottom_units\":\"screen\",\"coordinates\":null,\"fill_alpha\":0.5,\"fill_color\":\"lightgrey\",\"group\":null,\"left_units\":\"screen\",\"level\":\"overlay\",\"line_alpha\":1.0,\"line_color\":\"black\",\"line_dash\":[4,4],\"line_width\":2,\"right_units\":\"screen\",\"syncable\":false,\"top_units\":\"screen\"},\"id\":\"2986\",\"type\":\"BoxAnnotation\"},{\"attributes\":{},\"id\":\"2985\",\"type\":\"ResetTool\"},{\"attributes\":{},\"id\":\"2975\",\"type\":\"CategoricalTicker\"},{\"attributes\":{},\"id\":\"2981\",\"type\":\"SaveTool\"},{\"attributes\":{\"coordinates\":null,\"group\":null,\"text\":\"Missing Variables - Data Shape:(174813, 25)\",\"text_color\":\"black\",\"text_font_size\":\"12pt\"},\"id\":\"2966\",\"type\":\"Title\"},{\"attributes\":{\"bottom\":{\"value\":0},\"fill_alpha\":{\"value\":1.0},\"fill_color\":{\"value\":\"#30a2da\"},\"hatch_alpha\":{\"value\":1.0},\"hatch_color\":{\"value\":\"#30a2da\"},\"hatch_scale\":{\"value\":12.0},\"hatch_weight\":{\"value\":1.0},\"line_alpha\":{\"value\":1.0},\"line_cap\":{\"value\":\"butt\"},\"line_color\":{\"value\":\"black\"},\"line_dash\":{\"value\":[]},\"line_dash_offset\":{\"value\":0},\"line_join\":{\"value\":\"bevel\"},\"line_width\":{\"value\":1},\"top\":{\"field\":\"A_0\"},\"width\":{\"value\":0.8},\"x\":{\"field\":\"index\"}},\"id\":\"3002\",\"type\":\"VBar\"},{\"attributes\":{\"overlay\":{\"id\":\"2986\"}},\"id\":\"2984\",\"type\":\"BoxZoomTool\"},{\"attributes\":{\"child\":{\"id\":\"2965\"},\"name\":\"orders\",\"title\":\"orders\"},\"id\":\"3019\",\"type\":\"Panel\"},{\"attributes\":{\"source\":{\"id\":\"3052\"}},\"id\":\"3059\",\"type\":\"CDSView\"},{\"attributes\":{\"axis\":{\"id\":\"3032\"},\"coordinates\":null,\"grid_line_color\":null,\"group\":null,\"ticker\":null},\"id\":\"3034\",\"type\":\"Grid\"},{\"attributes\":{},\"id\":\"3033\",\"type\":\"CategoricalTicker\"},{\"attributes\":{},\"id\":\"3041\",\"type\":\"WheelZoomTool\"},{\"attributes\":{\"below\":[{\"id\":\"2974\"}],\"center\":[{\"id\":\"2976\"},{\"id\":\"2980\"}],\"height\":300,\"left\":[{\"id\":\"2977\"}],\"margin\":[5,5,5,5],\"min_border_bottom\":10,\"min_border_left\":10,\"min_border_right\":10,\"min_border_top\":10,\"renderers\":[{\"id\":\"3000\"}],\"sizing_mode\":\"fixed\",\"title\":{\"id\":\"2966\"},\"toolbar\":{\"id\":\"2987\"},\"width\":700,\"x_range\":{\"id\":\"2962\"},\"x_scale\":{\"id\":\"2970\"},\"y_range\":{\"id\":\"2963\"},\"y_scale\":{\"id\":\"2972\"}},\"id\":\"2965\",\"subtype\":\"Figure\",\"type\":\"Plot\"},{\"attributes\":{},\"id\":\"2972\",\"type\":\"LinearScale\"},{\"attributes\":{},\"id\":\"3043\",\"type\":\"ResetTool\"},{\"attributes\":{\"overlay\":{\"id\":\"3044\"}},\"id\":\"3042\",\"type\":\"BoxZoomTool\"},{\"attributes\":{},\"id\":\"3004\",\"type\":\"CategoricalTickFormatter\"},{\"attributes\":{\"axis\":{\"id\":\"2974\"},\"coordinates\":null,\"grid_line_color\":null,\"group\":null,\"ticker\":null},\"id\":\"2976\",\"type\":\"Grid\"},{\"attributes\":{},\"id\":\"2978\",\"type\":\"BasicTicker\"},{\"attributes\":{},\"id\":\"3074\",\"type\":\"UnionRenderers\"},{\"attributes\":{\"data\":{\"A_0\":[5,4,0,0,0,0,0,0],\"index\":[\"No Missing\",\"0-5%\",\"5-10%\",\"10-20%\",\"20-30%\",\"30-40%\",\"40-50%\",\"50-100%\"]},\"selected\":{\"id\":\"3053\"},\"selection_policy\":{\"id\":\"3074\"}},\"id\":\"3052\",\"type\":\"ColumnDataSource\"},{\"attributes\":{},\"id\":\"2982\",\"type\":\"PanTool\"},{\"attributes\":{\"axis_label\":\"# of variables\",\"coordinates\":null,\"formatter\":{\"id\":\"3065\"},\"group\":null,\"major_label_policy\":{\"id\":\"3066\"},\"ticker\":{\"id\":\"3036\"}},\"id\":\"3035\",\"type\":\"LinearAxis\"},{\"attributes\":{},\"id\":\"3053\",\"type\":\"Selection\"},{\"attributes\":{\"axis_label\":\"# of missing observations\",\"coordinates\":null,\"formatter\":{\"id\":\"3062\"},\"group\":null,\"major_label_policy\":{\"id\":\"3063\"},\"ticker\":{\"id\":\"3033\"}},\"id\":\"3032\",\"type\":\"CategoricalAxis\"}],\"root_ids\":[\"2961\",\"3138\"]},\"title\":\"Bokeh Application\",\"version\":\"2.4.3\"}};\n",
       "    var render_items = [{\"docid\":\"9303a782-8001-4c0f-8bcf-f06e16b19bb4\",\"root_ids\":[\"2961\"],\"roots\":{\"2961\":\"d6326094-9e0d-4067-94cc-fa5d4296ad72\"}}];\n",
       "    root.Bokeh.embed.embed_items_notebook(docs_json, render_items);\n",
       "  }\n",
       "  if (root.Bokeh !== undefined && root.Bokeh.Panel !== undefined) {\n",
       "    embed_document(root);\n",
       "  } else {\n",
       "    var attempts = 0;\n",
       "    var timer = setInterval(function(root) {\n",
       "      if (root.Bokeh !== undefined && root.Bokeh.Panel !== undefined) {\n",
       "        clearInterval(timer);\n",
       "        embed_document(root);\n",
       "      } else if (document.readyState == \"complete\") {\n",
       "        attempts++;\n",
       "        if (attempts > 200) {\n",
       "          clearInterval(timer);\n",
       "          console.log(\"Bokeh: ERROR: Unable to run BokehJS code because BokehJS library is missing\");\n",
       "        }\n",
       "      }\n",
       "    }, 25, root)\n",
       "  }\n",
       "})(window);</script>"
      ],
      "text/plain": [
       "Tabs\n",
       "    [0] HoloViews(Bars, name='orders')\n",
       "    [1] HoloViews(Bars, name='product')"
      ]
     },
     "execution_count": 45,
     "metadata": {
      "application/vnd.holoviews_exec.v0+json": {
       "id": "2961"
      }
     },
     "output_type": "execute_result"
    }
   ],
   "source": [
    "sum1, plot1 = eda.get_missing_values_summary(orders_df, return_plot=True)\n",
    "sum2, plot2 = eda.get_missing_values_summary(prod_df, return_plot=True)\n",
    "\n",
    "display_as_tabs([('orders', plot1), ('product', plot2)]) # type: ignore"
   ]
  },
  {
   "attachments": {},
   "cell_type": "markdown",
   "metadata": {},
   "source": [
    "**Dev notes:**\n",
    "\n",
    "<details>\n",
    "    \n",
    "    * By default, the following are considered missing/NA values : `[np.Nan, pd.NaT, 'NA', None]`\n",
    "    * additional values can be passed to tigerml (add_additional_na_values)\n",
    "    * these are applied to all columns.\n",
    "    \n",
    "    * some of the above information can be learnt from the data discovery step (see discussion below)\n",
    "    \n",
    "</details>"
   ]
  },
  {
   "cell_type": "code",
   "execution_count": 46,
   "metadata": {},
   "outputs": [
    {
     "name": "stderr",
     "output_type": "stream",
     "text": [
      "tzname GB identified but not understood.  Pass `tzinfos` argument in order to correctly return a timezone-aware datetime.  In a future version, this will raise an exception.\n",
      "\n"
     ]
    },
    {
     "data": {},
     "metadata": {},
     "output_type": "display_data"
    },
    {
     "data": {
      "application/vnd.holoviews_exec.v0+json": "",
      "text/html": [
       "<div id='3239'>\n",
       "  <div class=\"bk-root\" id=\"2b758d27-74da-4d3e-a530-a8762877924c\" data-root-id=\"3239\"></div>\n",
       "</div>\n",
       "<script type=\"application/javascript\">(function(root) {\n",
       "  function embed_document(root) {\n",
       "    var docs_json = {\"766ff7fd-e654-4b35-bdcb-5fc9b7b59f33\":{\"defs\":[{\"extends\":null,\"module\":null,\"name\":\"ReactiveHTML1\",\"overrides\":[],\"properties\":[]},{\"extends\":null,\"module\":null,\"name\":\"FlexBox1\",\"overrides\":[],\"properties\":[{\"default\":\"flex-start\",\"kind\":null,\"name\":\"align_content\"},{\"default\":\"flex-start\",\"kind\":null,\"name\":\"align_items\"},{\"default\":\"row\",\"kind\":null,\"name\":\"flex_direction\"},{\"default\":\"wrap\",\"kind\":null,\"name\":\"flex_wrap\"},{\"default\":\"flex-start\",\"kind\":null,\"name\":\"justify_content\"}]},{\"extends\":null,\"module\":null,\"name\":\"GridStack1\",\"overrides\":[],\"properties\":[{\"default\":\"warn\",\"kind\":null,\"name\":\"mode\"},{\"default\":null,\"kind\":null,\"name\":\"ncols\"},{\"default\":null,\"kind\":null,\"name\":\"nrows\"},{\"default\":true,\"kind\":null,\"name\":\"allow_resize\"},{\"default\":true,\"kind\":null,\"name\":\"allow_drag\"},{\"default\":[],\"kind\":null,\"name\":\"state\"}]},{\"extends\":null,\"module\":null,\"name\":\"click1\",\"overrides\":[],\"properties\":[{\"default\":\"\",\"kind\":null,\"name\":\"terminal_output\"},{\"default\":\"\",\"kind\":null,\"name\":\"debug_name\"},{\"default\":0,\"kind\":null,\"name\":\"clears\"}]},{\"extends\":null,\"module\":null,\"name\":\"NotificationAreaBase1\",\"overrides\":[],\"properties\":[{\"default\":\"bottom-right\",\"kind\":null,\"name\":\"position\"},{\"default\":0,\"kind\":null,\"name\":\"_clear\"}]},{\"extends\":null,\"module\":null,\"name\":\"NotificationArea1\",\"overrides\":[],\"properties\":[{\"default\":[],\"kind\":null,\"name\":\"notifications\"},{\"default\":\"bottom-right\",\"kind\":null,\"name\":\"position\"},{\"default\":0,\"kind\":null,\"name\":\"_clear\"},{\"default\":[{\"background\":\"#ffc107\",\"icon\":{\"className\":\"fas fa-exclamation-triangle\",\"color\":\"white\",\"tagName\":\"i\"},\"type\":\"warning\"},{\"background\":\"#007bff\",\"icon\":{\"className\":\"fas fa-info-circle\",\"color\":\"white\",\"tagName\":\"i\"},\"type\":\"info\"}],\"kind\":null,\"name\":\"types\"}]},{\"extends\":null,\"module\":null,\"name\":\"Notification\",\"overrides\":[],\"properties\":[{\"default\":null,\"kind\":null,\"name\":\"background\"},{\"default\":3000,\"kind\":null,\"name\":\"duration\"},{\"default\":null,\"kind\":null,\"name\":\"icon\"},{\"default\":\"\",\"kind\":null,\"name\":\"message\"},{\"default\":null,\"kind\":null,\"name\":\"notification_type\"},{\"default\":false,\"kind\":null,\"name\":\"_destroyed\"}]},{\"extends\":null,\"module\":null,\"name\":\"TemplateActions1\",\"overrides\":[],\"properties\":[{\"default\":0,\"kind\":null,\"name\":\"open_modal\"},{\"default\":0,\"kind\":null,\"name\":\"close_modal\"}]},{\"extends\":null,\"module\":null,\"name\":\"MaterialTemplateActions1\",\"overrides\":[],\"properties\":[{\"default\":0,\"kind\":null,\"name\":\"open_modal\"},{\"default\":0,\"kind\":null,\"name\":\"close_modal\"}]}],\"roots\":{\"references\":[{\"attributes\":{\"margin\":[0,0,0,0],\"tabs\":[{\"id\":\"3241\"},{\"id\":\"3243\"}]},\"id\":\"3239\",\"type\":\"panel.models.tabs.Tabs\"},{\"attributes\":{\"css_classes\":[\"markdown\"],\"margin\":[5,5,5,5],\"name\":\"product\",\"text\":\"&lt;p&gt;No duplicate variables&lt;/p&gt;\"},\"id\":\"3242\",\"type\":\"panel.models.markup.HTML\"},{\"attributes\":{\"child\":{\"id\":\"3242\"},\"name\":\"product\",\"title\":\"product\"},\"id\":\"3243\",\"type\":\"Panel\"},{\"attributes\":{\"css_classes\":[\"markdown\"],\"margin\":[5,5,5,5],\"name\":\"orders\",\"text\":\"&lt;p&gt;No duplicate variables&lt;/p&gt;\"},\"id\":\"3240\",\"type\":\"panel.models.markup.HTML\"},{\"attributes\":{\"client_comm_id\":\"952a848b1df7441f9198c94320d5c6f4\",\"comm_id\":\"e2885ef5988c445fabd664e06414e2a6\",\"plot_id\":\"3239\"},\"id\":\"3244\",\"type\":\"panel.models.comm_manager.CommManager\"},{\"attributes\":{\"child\":{\"id\":\"3240\"},\"name\":\"orders\",\"title\":\"orders\"},\"id\":\"3241\",\"type\":\"Panel\"}],\"root_ids\":[\"3239\",\"3244\"]},\"title\":\"Bokeh Application\",\"version\":\"2.4.3\"}};\n",
       "    var render_items = [{\"docid\":\"766ff7fd-e654-4b35-bdcb-5fc9b7b59f33\",\"root_ids\":[\"3239\"],\"roots\":{\"3239\":\"2b758d27-74da-4d3e-a530-a8762877924c\"}}];\n",
       "    root.Bokeh.embed.embed_items_notebook(docs_json, render_items);\n",
       "  }\n",
       "  if (root.Bokeh !== undefined && root.Bokeh.Panel !== undefined) {\n",
       "    embed_document(root);\n",
       "  } else {\n",
       "    var attempts = 0;\n",
       "    var timer = setInterval(function(root) {\n",
       "      if (root.Bokeh !== undefined && root.Bokeh.Panel !== undefined) {\n",
       "        clearInterval(timer);\n",
       "        embed_document(root);\n",
       "      } else if (document.readyState == \"complete\") {\n",
       "        attempts++;\n",
       "        if (attempts > 200) {\n",
       "          clearInterval(timer);\n",
       "          console.log(\"Bokeh: ERROR: Unable to run BokehJS code because BokehJS library is missing\");\n",
       "        }\n",
       "      }\n",
       "    }, 25, root)\n",
       "  }\n",
       "})(window);</script>"
      ],
      "text/plain": [
       "Tabs\n",
       "    [0] Markdown(str, name='orders')\n",
       "    [1] Markdown(str, name='product')"
      ]
     },
     "execution_count": 46,
     "metadata": {
      "application/vnd.holoviews_exec.v0+json": {
       "id": "3239"
      }
     },
     "output_type": "execute_result"
    }
   ],
   "source": [
    "sum1 = eda.get_duplicate_columns(orders_df)\n",
    "sum2 = eda.get_duplicate_columns(prod_df)\n",
    "\n",
    "display_as_tabs([('orders', sum1), ('product', sum2)])"
   ]
  },
  {
   "cell_type": "code",
   "execution_count": 47,
   "metadata": {},
   "outputs": [
    {
     "name": "stderr",
     "output_type": "stream",
     "text": [
      "tzname GB identified but not understood.  Pass `tzinfos` argument in order to correctly return a timezone-aware datetime.  In a future version, this will raise an exception.\n",
      "\n"
     ]
    },
    {
     "data": {},
     "metadata": {},
     "output_type": "display_data"
    },
    {
     "data": {
      "application/vnd.holoviews_exec.v0+json": "",
      "text/html": [
       "<div id='3245'>\n",
       "  <div class=\"bk-root\" id=\"3eb8283c-2186-4dde-ac50-8b6f7721befc\" data-root-id=\"3245\"></div>\n",
       "</div>\n",
       "<script type=\"application/javascript\">(function(root) {\n",
       "  function embed_document(root) {\n",
       "    var docs_json = {\"c9c478ce-35af-4d05-9c1a-4eb790ee000a\":{\"defs\":[{\"extends\":null,\"module\":null,\"name\":\"ReactiveHTML1\",\"overrides\":[],\"properties\":[]},{\"extends\":null,\"module\":null,\"name\":\"FlexBox1\",\"overrides\":[],\"properties\":[{\"default\":\"flex-start\",\"kind\":null,\"name\":\"align_content\"},{\"default\":\"flex-start\",\"kind\":null,\"name\":\"align_items\"},{\"default\":\"row\",\"kind\":null,\"name\":\"flex_direction\"},{\"default\":\"wrap\",\"kind\":null,\"name\":\"flex_wrap\"},{\"default\":\"flex-start\",\"kind\":null,\"name\":\"justify_content\"}]},{\"extends\":null,\"module\":null,\"name\":\"GridStack1\",\"overrides\":[],\"properties\":[{\"default\":\"warn\",\"kind\":null,\"name\":\"mode\"},{\"default\":null,\"kind\":null,\"name\":\"ncols\"},{\"default\":null,\"kind\":null,\"name\":\"nrows\"},{\"default\":true,\"kind\":null,\"name\":\"allow_resize\"},{\"default\":true,\"kind\":null,\"name\":\"allow_drag\"},{\"default\":[],\"kind\":null,\"name\":\"state\"}]},{\"extends\":null,\"module\":null,\"name\":\"click1\",\"overrides\":[],\"properties\":[{\"default\":\"\",\"kind\":null,\"name\":\"terminal_output\"},{\"default\":\"\",\"kind\":null,\"name\":\"debug_name\"},{\"default\":0,\"kind\":null,\"name\":\"clears\"}]},{\"extends\":null,\"module\":null,\"name\":\"NotificationAreaBase1\",\"overrides\":[],\"properties\":[{\"default\":\"bottom-right\",\"kind\":null,\"name\":\"position\"},{\"default\":0,\"kind\":null,\"name\":\"_clear\"}]},{\"extends\":null,\"module\":null,\"name\":\"NotificationArea1\",\"overrides\":[],\"properties\":[{\"default\":[],\"kind\":null,\"name\":\"notifications\"},{\"default\":\"bottom-right\",\"kind\":null,\"name\":\"position\"},{\"default\":0,\"kind\":null,\"name\":\"_clear\"},{\"default\":[{\"background\":\"#ffc107\",\"icon\":{\"className\":\"fas fa-exclamation-triangle\",\"color\":\"white\",\"tagName\":\"i\"},\"type\":\"warning\"},{\"background\":\"#007bff\",\"icon\":{\"className\":\"fas fa-info-circle\",\"color\":\"white\",\"tagName\":\"i\"},\"type\":\"info\"}],\"kind\":null,\"name\":\"types\"}]},{\"extends\":null,\"module\":null,\"name\":\"Notification\",\"overrides\":[],\"properties\":[{\"default\":null,\"kind\":null,\"name\":\"background\"},{\"default\":3000,\"kind\":null,\"name\":\"duration\"},{\"default\":null,\"kind\":null,\"name\":\"icon\"},{\"default\":\"\",\"kind\":null,\"name\":\"message\"},{\"default\":null,\"kind\":null,\"name\":\"notification_type\"},{\"default\":false,\"kind\":null,\"name\":\"_destroyed\"}]},{\"extends\":null,\"module\":null,\"name\":\"TemplateActions1\",\"overrides\":[],\"properties\":[{\"default\":0,\"kind\":null,\"name\":\"open_modal\"},{\"default\":0,\"kind\":null,\"name\":\"close_modal\"}]},{\"extends\":null,\"module\":null,\"name\":\"MaterialTemplateActions1\",\"overrides\":[],\"properties\":[{\"default\":0,\"kind\":null,\"name\":\"open_modal\"},{\"default\":0,\"kind\":null,\"name\":\"close_modal\"}]}],\"roots\":{\"references\":[{\"attributes\":{\"editor\":{\"id\":\"3260\"},\"field\":\"< (mean-3*std)\",\"formatter\":{\"id\":\"3259\"},\"title\":\"< (mean-3*std)\",\"width\":0},\"id\":\"3261\",\"type\":\"TableColumn\"},{\"attributes\":{\"text_align\":\"right\"},\"id\":\"3279\",\"type\":\"NumberFormatter\"},{\"attributes\":{\"child\":{\"id\":\"3289\"},\"name\":\"orders\",\"title\":\"orders\"},\"id\":\"3293\",\"type\":\"Panel\"},{\"attributes\":{},\"id\":\"3280\",\"type\":\"IntEditor\"},{\"attributes\":{\"editor\":{\"id\":\"3275\"},\"field\":\"> (3rdQ + 1.5 * IQR)\",\"formatter\":{\"id\":\"3274\"},\"title\":\"> (3rdQ + 1.5 * IQR)\",\"width\":0},\"id\":\"3276\",\"type\":\"TableColumn\"},{\"attributes\":{\"indices\":[]},\"id\":\"3247\",\"type\":\"Selection\"},{\"attributes\":{\"editor\":{\"id\":\"3285\"},\"field\":\"+inf\",\"formatter\":{\"id\":\"3284\"},\"title\":\"+inf\",\"width\":0},\"id\":\"3286\",\"type\":\"TableColumn\"},{\"attributes\":{\"editor\":{\"id\":\"3265\"},\"field\":\"> (mean+3*std)\",\"formatter\":{\"id\":\"3264\"},\"title\":\"> (mean+3*std)\",\"width\":0},\"id\":\"3266\",\"type\":\"TableColumn\"},{\"attributes\":{},\"id\":\"3296\",\"type\":\"UnionRenderers\"},{\"attributes\":{},\"id\":\"3265\",\"type\":\"IntEditor\"},{\"attributes\":{},\"id\":\"3270\",\"type\":\"IntEditor\"},{\"attributes\":{},\"id\":\"3260\",\"type\":\"IntEditor\"},{\"attributes\":{\"source\":{\"id\":\"3246\"}},\"id\":\"3291\",\"type\":\"CDSView\"},{\"attributes\":{},\"id\":\"3255\",\"type\":\"IntEditor\"},{\"attributes\":{\"data\":{\"+inf\":[0,0,0,0,0,0,0,0,0],\"-inf\":[0,0,0,0,0,0,0,0,0],\"< (1stQ - 1.5 * IQR)\":[174,10552,0,226,0,0,546,397,8791],\"< (mean-3*std)\":[340,8988,0,1,0,0,1,1,270],\"> (3rdQ + 1.5 * IQR)\":[0,11010,16279,19070,10675,13028,21995,22465,20290],\"> (mean+3*std)\":[0,0,5150,1067,3283,3572,646,582,231],\"Feature\":[\"Orderno\",\"BusinessUnit\",\"Line\",\"Quantity\",\"UnitCost\",\"UnitPrice\",\"SellingPrice\",\"SellingCost\",\"GP\"],\"N\":[174813,174813,174813,174813,174813,174813,174813,174813,174813]},\"selected\":{\"id\":\"3247\"},\"selection_policy\":{\"id\":\"3296\"}},\"id\":\"3246\",\"type\":\"ColumnDataSource\"},{\"attributes\":{\"editor\":{\"id\":\"3270\"},\"field\":\"< (1stQ - 1.5 * IQR)\",\"formatter\":{\"id\":\"3269\"},\"title\":\"< (1stQ - 1.5 * IQR)\",\"width\":0},\"id\":\"3271\",\"type\":\"TableColumn\"},{\"attributes\":{\"text_align\":\"right\"},\"id\":\"3254\",\"type\":\"NumberFormatter\"},{\"attributes\":{\"columns\":[{\"id\":\"3251\"},{\"id\":\"3256\"},{\"id\":\"3261\"},{\"id\":\"3266\"},{\"id\":\"3271\"},{\"id\":\"3276\"},{\"id\":\"3281\"},{\"id\":\"3286\"}],\"editable\":true,\"height\":300,\"index_position\":null,\"margin\":[5,10,5,10],\"name\":\"orders\",\"row_height\":40,\"sizing_mode\":\"fixed\",\"source\":{\"id\":\"3246\"},\"view\":{\"id\":\"3291\"},\"width\":800},\"id\":\"3289\",\"type\":\"DataTable\"},{\"attributes\":{\"child\":{\"id\":\"3294\"},\"name\":\"product\",\"title\":\"product\"},\"id\":\"3295\",\"type\":\"Panel\"},{\"attributes\":{\"editor\":{\"id\":\"3250\"},\"field\":\"Feature\",\"formatter\":{\"id\":\"3248\"},\"title\":\"Feature\",\"width\":0},\"id\":\"3251\",\"type\":\"TableColumn\"},{\"attributes\":{},\"id\":\"3275\",\"type\":\"IntEditor\"},{\"attributes\":{\"editor\":{\"id\":\"3280\"},\"field\":\"-inf\",\"formatter\":{\"id\":\"3279\"},\"title\":\"-inf\",\"width\":0},\"id\":\"3281\",\"type\":\"TableColumn\"},{\"attributes\":{\"client_comm_id\":\"f2b065f561b14397bc43db8d4846a5c9\",\"comm_id\":\"ee827be94d254a63abedb95060a43fc6\",\"plot_id\":\"3245\"},\"id\":\"3302\",\"type\":\"panel.models.comm_manager.CommManager\"},{\"attributes\":{\"text_align\":\"right\"},\"id\":\"3269\",\"type\":\"NumberFormatter\"},{\"attributes\":{},\"id\":\"3248\",\"type\":\"StringFormatter\"},{\"attributes\":{\"text_align\":\"right\"},\"id\":\"3274\",\"type\":\"NumberFormatter\"},{\"attributes\":{\"css_classes\":[\"markdown\"],\"margin\":[5,5,5,5],\"name\":\"product\",\"text\":\"&lt;p&gt;No Outlier Values&lt;/p&gt;\"},\"id\":\"3294\",\"type\":\"panel.models.markup.HTML\"},{\"attributes\":{\"text_align\":\"right\"},\"id\":\"3259\",\"type\":\"NumberFormatter\"},{\"attributes\":{\"margin\":[0,0,0,0],\"tabs\":[{\"id\":\"3293\"},{\"id\":\"3295\"}]},\"id\":\"3245\",\"type\":\"panel.models.tabs.Tabs\"},{\"attributes\":{\"text_align\":\"right\"},\"id\":\"3284\",\"type\":\"NumberFormatter\"},{\"attributes\":{\"text_align\":\"right\"},\"id\":\"3264\",\"type\":\"NumberFormatter\"},{\"attributes\":{},\"id\":\"3285\",\"type\":\"IntEditor\"},{\"attributes\":{\"editor\":{\"id\":\"3255\"},\"field\":\"N\",\"formatter\":{\"id\":\"3254\"},\"title\":\"N\",\"width\":0},\"id\":\"3256\",\"type\":\"TableColumn\"},{\"attributes\":{},\"id\":\"3250\",\"type\":\"CellEditor\"}],\"root_ids\":[\"3245\",\"3302\"]},\"title\":\"Bokeh Application\",\"version\":\"2.4.3\"}};\n",
       "    var render_items = [{\"docid\":\"c9c478ce-35af-4d05-9c1a-4eb790ee000a\",\"root_ids\":[\"3245\"],\"roots\":{\"3245\":\"3eb8283c-2186-4dde-ac50-8b6f7721befc\"}}];\n",
       "    root.Bokeh.embed.embed_items_notebook(docs_json, render_items);\n",
       "  }\n",
       "  if (root.Bokeh !== undefined && root.Bokeh.Panel !== undefined) {\n",
       "    embed_document(root);\n",
       "  } else {\n",
       "    var attempts = 0;\n",
       "    var timer = setInterval(function(root) {\n",
       "      if (root.Bokeh !== undefined && root.Bokeh.Panel !== undefined) {\n",
       "        clearInterval(timer);\n",
       "        embed_document(root);\n",
       "      } else if (document.readyState == \"complete\") {\n",
       "        attempts++;\n",
       "        if (attempts > 200) {\n",
       "          clearInterval(timer);\n",
       "          console.log(\"Bokeh: ERROR: Unable to run BokehJS code because BokehJS library is missing\");\n",
       "        }\n",
       "      }\n",
       "    }, 25, root)\n",
       "  }\n",
       "})(window);</script>"
      ],
      "text/plain": [
       "Tabs\n",
       "    [0] DataFrame(height=300, name='orders', sizing_mode='fixed', value=              ..., width=800)\n",
       "    [1] Markdown(str, name='product')"
      ]
     },
     "execution_count": 47,
     "metadata": {
      "application/vnd.holoviews_exec.v0+json": {
       "id": "3245"
      }
     },
     "output_type": "execute_result"
    }
   ],
   "source": [
    "sum1 = eda.get_outliers(orders_df)\n",
    "sum2 = eda.get_outliers(prod_df)\n",
    "\n",
    "display_as_tabs([('orders', sum1), ('product', sum2)])"
   ]
  },
  {
   "attachments": {},
   "cell_type": "markdown",
   "metadata": {},
   "source": [
    "## Health Analysis report\n",
    "\n",
    "Generate a report that has all the above data in a single html. This could be useful to submit to a client"
   ]
  },
  {
   "cell_type": "code",
   "execution_count": 50,
   "metadata": {},
   "outputs": [
    {
     "name": "stderr",
     "output_type": "stream",
     "text": [
      "`np.bool` is a deprecated alias for the builtin `bool`. To silence this warning, use `bool` by itself. Doing this will not modify any behavior and is safe. If you specifically wanted the numpy scalar type, use `np.bool_` here.\n",
      "Deprecated in NumPy 1.20; for more details and guidance: https://numpy.org/devdocs/release/1.20.0-notes.html#deprecations\n",
      "\n",
      "`np.bool` is a deprecated alias for the builtin `bool`. To silence this warning, use `bool` by itself. Doing this will not modify any behavior and is safe. If you specifically wanted the numpy scalar type, use `np.bool_` here.\n",
      "Deprecated in NumPy 1.20; for more details and guidance: https://numpy.org/devdocs/release/1.20.0-notes.html#deprecations\n",
      "\n",
      "`np.bool` is a deprecated alias for the builtin `bool`. To silence this warning, use `bool` by itself. Doing this will not modify any behavior and is safe. If you specifically wanted the numpy scalar type, use `np.bool_` here.\n",
      "Deprecated in NumPy 1.20; for more details and guidance: https://numpy.org/devdocs/release/1.20.0-notes.html#deprecations\n",
      "\n",
      "`np.bool` is a deprecated alias for the builtin `bool`. To silence this warning, use `bool` by itself. Doing this will not modify any behavior and is safe. If you specifically wanted the numpy scalar type, use `np.bool_` here.\n",
      "Deprecated in NumPy 1.20; for more details and guidance: https://numpy.org/devdocs/release/1.20.0-notes.html#deprecations\n",
      "\n",
      "`np.bool` is a deprecated alias for the builtin `bool`. To silence this warning, use `bool` by itself. Doing this will not modify any behavior and is safe. If you specifically wanted the numpy scalar type, use `np.bool_` here.\n",
      "Deprecated in NumPy 1.20; for more details and guidance: https://numpy.org/devdocs/release/1.20.0-notes.html#deprecations\n",
      "\n",
      "`np.bool` is a deprecated alias for the builtin `bool`. To silence this warning, use `bool` by itself. Doing this will not modify any behavior and is safe. If you specifically wanted the numpy scalar type, use `np.bool_` here.\n",
      "Deprecated in NumPy 1.20; for more details and guidance: https://numpy.org/devdocs/release/1.20.0-notes.html#deprecations\n",
      "\n",
      "`np.bool` is a deprecated alias for the builtin `bool`. To silence this warning, use `bool` by itself. Doing this will not modify any behavior and is safe. If you specifically wanted the numpy scalar type, use `np.bool_` here.\n",
      "Deprecated in NumPy 1.20; for more details and guidance: https://numpy.org/devdocs/release/1.20.0-notes.html#deprecations\n",
      "\n",
      "`np.bool` is a deprecated alias for the builtin `bool`. To silence this warning, use `bool` by itself. Doing this will not modify any behavior and is safe. If you specifically wanted the numpy scalar type, use `np.bool_` here.\n",
      "Deprecated in NumPy 1.20; for more details and guidance: https://numpy.org/devdocs/release/1.20.0-notes.html#deprecations\n",
      "\n",
      "`np.bool` is a deprecated alias for the builtin `bool`. To silence this warning, use `bool` by itself. Doing this will not modify any behavior and is safe. If you specifically wanted the numpy scalar type, use `np.bool_` here.\n",
      "Deprecated in NumPy 1.20; for more details and guidance: https://numpy.org/devdocs/release/1.20.0-notes.html#deprecations\n",
      "\n",
      "`np.bool` is a deprecated alias for the builtin `bool`. To silence this warning, use `bool` by itself. Doing this will not modify any behavior and is safe. If you specifically wanted the numpy scalar type, use `np.bool_` here.\n",
      "Deprecated in NumPy 1.20; for more details and guidance: https://numpy.org/devdocs/release/1.20.0-notes.html#deprecations\n",
      "\n",
      "`np.bool` is a deprecated alias for the builtin `bool`. To silence this warning, use `bool` by itself. Doing this will not modify any behavior and is safe. If you specifically wanted the numpy scalar type, use `np.bool_` here.\n",
      "Deprecated in NumPy 1.20; for more details and guidance: https://numpy.org/devdocs/release/1.20.0-notes.html#deprecations\n",
      "\n",
      "`np.bool` is a deprecated alias for the builtin `bool`. To silence this warning, use `bool` by itself. Doing this will not modify any behavior and is safe. If you specifically wanted the numpy scalar type, use `np.bool_` here.\n",
      "Deprecated in NumPy 1.20; for more details and guidance: https://numpy.org/devdocs/release/1.20.0-notes.html#deprecations\n",
      "\n",
      "`np.bool` is a deprecated alias for the builtin `bool`. To silence this warning, use `bool` by itself. Doing this will not modify any behavior and is safe. If you specifically wanted the numpy scalar type, use `np.bool_` here.\n",
      "Deprecated in NumPy 1.20; for more details and guidance: https://numpy.org/devdocs/release/1.20.0-notes.html#deprecations\n",
      "\n",
      "`np.bool` is a deprecated alias for the builtin `bool`. To silence this warning, use `bool` by itself. Doing this will not modify any behavior and is safe. If you specifically wanted the numpy scalar type, use `np.bool_` here.\n",
      "Deprecated in NumPy 1.20; for more details and guidance: https://numpy.org/devdocs/release/1.20.0-notes.html#deprecations\n",
      "\n",
      "`np.bool` is a deprecated alias for the builtin `bool`. To silence this warning, use `bool` by itself. Doing this will not modify any behavior and is safe. If you specifically wanted the numpy scalar type, use `np.bool_` here.\n",
      "Deprecated in NumPy 1.20; for more details and guidance: https://numpy.org/devdocs/release/1.20.0-notes.html#deprecations\n",
      "\n",
      "`np.bool` is a deprecated alias for the builtin `bool`. To silence this warning, use `bool` by itself. Doing this will not modify any behavior and is safe. If you specifically wanted the numpy scalar type, use `np.bool_` here.\n",
      "Deprecated in NumPy 1.20; for more details and guidance: https://numpy.org/devdocs/release/1.20.0-notes.html#deprecations\n",
      "\n",
      "`np.bool` is a deprecated alias for the builtin `bool`. To silence this warning, use `bool` by itself. Doing this will not modify any behavior and is safe. If you specifically wanted the numpy scalar type, use `np.bool_` here.\n",
      "Deprecated in NumPy 1.20; for more details and guidance: https://numpy.org/devdocs/release/1.20.0-notes.html#deprecations\n",
      "\n",
      "`np.bool` is a deprecated alias for the builtin `bool`. To silence this warning, use `bool` by itself. Doing this will not modify any behavior and is safe. If you specifically wanted the numpy scalar type, use `np.bool_` here.\n",
      "Deprecated in NumPy 1.20; for more details and guidance: https://numpy.org/devdocs/release/1.20.0-notes.html#deprecations\n",
      "\n",
      "`np.bool` is a deprecated alias for the builtin `bool`. To silence this warning, use `bool` by itself. Doing this will not modify any behavior and is safe. If you specifically wanted the numpy scalar type, use `np.bool_` here.\n",
      "Deprecated in NumPy 1.20; for more details and guidance: https://numpy.org/devdocs/release/1.20.0-notes.html#deprecations\n",
      "\n",
      "`np.bool` is a deprecated alias for the builtin `bool`. To silence this warning, use `bool` by itself. Doing this will not modify any behavior and is safe. If you specifically wanted the numpy scalar type, use `np.bool_` here.\n",
      "Deprecated in NumPy 1.20; for more details and guidance: https://numpy.org/devdocs/release/1.20.0-notes.html#deprecations\n",
      "\n",
      "`np.bool` is a deprecated alias for the builtin `bool`. To silence this warning, use `bool` by itself. Doing this will not modify any behavior and is safe. If you specifically wanted the numpy scalar type, use `np.bool_` here.\n",
      "Deprecated in NumPy 1.20; for more details and guidance: https://numpy.org/devdocs/release/1.20.0-notes.html#deprecations\n",
      "\n",
      "`np.bool` is a deprecated alias for the builtin `bool`. To silence this warning, use `bool` by itself. Doing this will not modify any behavior and is safe. If you specifically wanted the numpy scalar type, use `np.bool_` here.\n",
      "Deprecated in NumPy 1.20; for more details and guidance: https://numpy.org/devdocs/release/1.20.0-notes.html#deprecations\n",
      "\n",
      "`np.bool` is a deprecated alias for the builtin `bool`. To silence this warning, use `bool` by itself. Doing this will not modify any behavior and is safe. If you specifically wanted the numpy scalar type, use `np.bool_` here.\n",
      "Deprecated in NumPy 1.20; for more details and guidance: https://numpy.org/devdocs/release/1.20.0-notes.html#deprecations\n",
      "\n",
      "`np.bool` is a deprecated alias for the builtin `bool`. To silence this warning, use `bool` by itself. Doing this will not modify any behavior and is safe. If you specifically wanted the numpy scalar type, use `np.bool_` here.\n",
      "Deprecated in NumPy 1.20; for more details and guidance: https://numpy.org/devdocs/release/1.20.0-notes.html#deprecations\n",
      "\n",
      "tzname GB identified but not understood.  Pass `tzinfos` argument in order to correctly return a timezone-aware datetime.  In a future version, this will raise an exception.\n",
      "\n",
      "`np.bool` is a deprecated alias for the builtin `bool`. To silence this warning, use `bool` by itself. Doing this will not modify any behavior and is safe. If you specifically wanted the numpy scalar type, use `np.bool_` here.\n",
      "Deprecated in NumPy 1.20; for more details and guidance: https://numpy.org/devdocs/release/1.20.0-notes.html#deprecations\n",
      "\n",
      "`np.bool` is a deprecated alias for the builtin `bool`. To silence this warning, use `bool` by itself. Doing this will not modify any behavior and is safe. If you specifically wanted the numpy scalar type, use `np.bool_` here.\n",
      "Deprecated in NumPy 1.20; for more details and guidance: https://numpy.org/devdocs/release/1.20.0-notes.html#deprecations\n",
      "\n",
      "`np.bool` is a deprecated alias for the builtin `bool`. To silence this warning, use `bool` by itself. Doing this will not modify any behavior and is safe. If you specifically wanted the numpy scalar type, use `np.bool_` here.\n",
      "Deprecated in NumPy 1.20; for more details and guidance: https://numpy.org/devdocs/release/1.20.0-notes.html#deprecations\n",
      "\n",
      "`np.bool` is a deprecated alias for the builtin `bool`. To silence this warning, use `bool` by itself. Doing this will not modify any behavior and is safe. If you specifically wanted the numpy scalar type, use `np.bool_` here.\n",
      "Deprecated in NumPy 1.20; for more details and guidance: https://numpy.org/devdocs/release/1.20.0-notes.html#deprecations\n",
      "\n",
      "`np.bool` is a deprecated alias for the builtin `bool`. To silence this warning, use `bool` by itself. Doing this will not modify any behavior and is safe. If you specifically wanted the numpy scalar type, use `np.bool_` here.\n",
      "Deprecated in NumPy 1.20; for more details and guidance: https://numpy.org/devdocs/release/1.20.0-notes.html#deprecations\n",
      "\n",
      "`np.bool` is a deprecated alias for the builtin `bool`. To silence this warning, use `bool` by itself. Doing this will not modify any behavior and is safe. If you specifically wanted the numpy scalar type, use `np.bool_` here.\n",
      "Deprecated in NumPy 1.20; for more details and guidance: https://numpy.org/devdocs/release/1.20.0-notes.html#deprecations\n",
      "\n",
      "`np.bool` is a deprecated alias for the builtin `bool`. To silence this warning, use `bool` by itself. Doing this will not modify any behavior and is safe. If you specifically wanted the numpy scalar type, use `np.bool_` here.\n",
      "Deprecated in NumPy 1.20; for more details and guidance: https://numpy.org/devdocs/release/1.20.0-notes.html#deprecations\n",
      "\n",
      "`np.bool` is a deprecated alias for the builtin `bool`. To silence this warning, use `bool` by itself. Doing this will not modify any behavior and is safe. If you specifically wanted the numpy scalar type, use `np.bool_` here.\n",
      "Deprecated in NumPy 1.20; for more details and guidance: https://numpy.org/devdocs/release/1.20.0-notes.html#deprecations\n",
      "\n",
      "`np.bool` is a deprecated alias for the builtin `bool`. To silence this warning, use `bool` by itself. Doing this will not modify any behavior and is safe. If you specifically wanted the numpy scalar type, use `np.bool_` here.\n",
      "Deprecated in NumPy 1.20; for more details and guidance: https://numpy.org/devdocs/release/1.20.0-notes.html#deprecations\n",
      "\n",
      "`np.bool` is a deprecated alias for the builtin `bool`. To silence this warning, use `bool` by itself. Doing this will not modify any behavior and is safe. If you specifically wanted the numpy scalar type, use `np.bool_` here.\n",
      "Deprecated in NumPy 1.20; for more details and guidance: https://numpy.org/devdocs/release/1.20.0-notes.html#deprecations\n",
      "\n",
      "`np.bool` is a deprecated alias for the builtin `bool`. To silence this warning, use `bool` by itself. Doing this will not modify any behavior and is safe. If you specifically wanted the numpy scalar type, use `np.bool_` here.\n",
      "Deprecated in NumPy 1.20; for more details and guidance: https://numpy.org/devdocs/release/1.20.0-notes.html#deprecations\n",
      "\n",
      "`np.bool` is a deprecated alias for the builtin `bool`. To silence this warning, use `bool` by itself. Doing this will not modify any behavior and is safe. If you specifically wanted the numpy scalar type, use `np.bool_` here.\n",
      "Deprecated in NumPy 1.20; for more details and guidance: https://numpy.org/devdocs/release/1.20.0-notes.html#deprecations\n",
      "\n",
      "`np.bool` is a deprecated alias for the builtin `bool`. To silence this warning, use `bool` by itself. Doing this will not modify any behavior and is safe. If you specifically wanted the numpy scalar type, use `np.bool_` here.\n",
      "Deprecated in NumPy 1.20; for more details and guidance: https://numpy.org/devdocs/release/1.20.0-notes.html#deprecations\n",
      "\n",
      "`np.bool` is a deprecated alias for the builtin `bool`. To silence this warning, use `bool` by itself. Doing this will not modify any behavior and is safe. If you specifically wanted the numpy scalar type, use `np.bool_` here.\n",
      "Deprecated in NumPy 1.20; for more details and guidance: https://numpy.org/devdocs/release/1.20.0-notes.html#deprecations\n",
      "\n",
      "`np.bool` is a deprecated alias for the builtin `bool`. To silence this warning, use `bool` by itself. Doing this will not modify any behavior and is safe. If you specifically wanted the numpy scalar type, use `np.bool_` here.\n",
      "Deprecated in NumPy 1.20; for more details and guidance: https://numpy.org/devdocs/release/1.20.0-notes.html#deprecations\n",
      "\n",
      "`np.bool` is a deprecated alias for the builtin `bool`. To silence this warning, use `bool` by itself. Doing this will not modify any behavior and is safe. If you specifically wanted the numpy scalar type, use `np.bool_` here.\n",
      "Deprecated in NumPy 1.20; for more details and guidance: https://numpy.org/devdocs/release/1.20.0-notes.html#deprecations\n",
      "\n",
      "`np.bool` is a deprecated alias for the builtin `bool`. To silence this warning, use `bool` by itself. Doing this will not modify any behavior and is safe. If you specifically wanted the numpy scalar type, use `np.bool_` here.\n",
      "Deprecated in NumPy 1.20; for more details and guidance: https://numpy.org/devdocs/release/1.20.0-notes.html#deprecations\n",
      "\n",
      "`np.bool` is a deprecated alias for the builtin `bool`. To silence this warning, use `bool` by itself. Doing this will not modify any behavior and is safe. If you specifically wanted the numpy scalar type, use `np.bool_` here.\n",
      "Deprecated in NumPy 1.20; for more details and guidance: https://numpy.org/devdocs/release/1.20.0-notes.html#deprecations\n",
      "\n",
      "`np.bool` is a deprecated alias for the builtin `bool`. To silence this warning, use `bool` by itself. Doing this will not modify any behavior and is safe. If you specifically wanted the numpy scalar type, use `np.bool_` here.\n",
      "Deprecated in NumPy 1.20; for more details and guidance: https://numpy.org/devdocs/release/1.20.0-notes.html#deprecations\n",
      "\n",
      "`np.bool` is a deprecated alias for the builtin `bool`. To silence this warning, use `bool` by itself. Doing this will not modify any behavior and is safe. If you specifically wanted the numpy scalar type, use `np.bool_` here.\n",
      "Deprecated in NumPy 1.20; for more details and guidance: https://numpy.org/devdocs/release/1.20.0-notes.html#deprecations\n",
      "\n",
      "`np.bool` is a deprecated alias for the builtin `bool`. To silence this warning, use `bool` by itself. Doing this will not modify any behavior and is safe. If you specifically wanted the numpy scalar type, use `np.bool_` here.\n",
      "Deprecated in NumPy 1.20; for more details and guidance: https://numpy.org/devdocs/release/1.20.0-notes.html#deprecations\n",
      "\n",
      "`np.bool` is a deprecated alias for the builtin `bool`. To silence this warning, use `bool` by itself. Doing this will not modify any behavior and is safe. If you specifically wanted the numpy scalar type, use `np.bool_` here.\n",
      "Deprecated in NumPy 1.20; for more details and guidance: https://numpy.org/devdocs/release/1.20.0-notes.html#deprecations\n",
      "\n",
      "`np.bool` is a deprecated alias for the builtin `bool`. To silence this warning, use `bool` by itself. Doing this will not modify any behavior and is safe. If you specifically wanted the numpy scalar type, use `np.bool_` here.\n",
      "Deprecated in NumPy 1.20; for more details and guidance: https://numpy.org/devdocs/release/1.20.0-notes.html#deprecations\n",
      "\n",
      "`np.bool` is a deprecated alias for the builtin `bool`. To silence this warning, use `bool` by itself. Doing this will not modify any behavior and is safe. If you specifically wanted the numpy scalar type, use `np.bool_` here.\n",
      "Deprecated in NumPy 1.20; for more details and guidance: https://numpy.org/devdocs/release/1.20.0-notes.html#deprecations\n",
      "\n"
     ]
    }
   ],
   "source": [
    "from ta_lib.reports.api import summary_report\n",
    "\n",
    "summary_report(orders_df, 'reports/orders.html')\n",
    "summary_report(prod_df, 'reports/prod.html')"
   ]
  },
  {
   "attachments": {},
   "cell_type": "markdown",
   "metadata": {},
   "source": [
    "prod: https://drive.google.com/file/d/1TM-T5HzAYpT8_1ugM5L6Bnfxp8r3uMem/view?usp=sharing\n",
    "\n",
    "orders: https://drive.google.com/file/d/1uvehi90v1HFtScZrtWg3pW2zpi-DFQ1Y/view?usp=sharing\n",
    "    "
   ]
  },
  {
   "cell_type": "code",
   "execution_count": null,
   "metadata": {},
   "outputs": [],
   "source": []
  }
 ],
 "metadata": {
  "kernelspec": {
   "display_name": "ta-lib-dev",
   "language": "python",
   "name": "python3"
  },
  "language_info": {
   "codemirror_mode": {
    "name": "ipython",
    "version": 3
   },
   "file_extension": ".py",
   "mimetype": "text/x-python",
   "name": "python",
   "nbconvert_exporter": "python",
   "pygments_lexer": "ipython3",
   "version": "3.10.16"
  }
 },
 "nbformat": 4,
 "nbformat_minor": 4
}
