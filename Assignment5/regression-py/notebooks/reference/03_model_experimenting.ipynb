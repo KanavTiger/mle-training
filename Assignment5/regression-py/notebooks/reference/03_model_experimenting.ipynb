{
 "cells": [
  {
   "attachments": {},
   "cell_type": "markdown",
   "metadata": {},
   "source": [
    "# Purpose"
   ]
  },
  {
   "attachments": {},
   "cell_type": "markdown",
   "metadata": {},
   "source": [
    "This notebook demonstrates the model experimentation and finalization. It covers EDA, outlier treatment, transformation, training, model evaluation and comparison across models."
   ]
  },
  {
   "attachments": {},
   "cell_type": "markdown",
   "metadata": {},
   "source": [
    "## Imports"
   ]
  },
  {
   "cell_type": "code",
   "execution_count": 44,
   "metadata": {},
   "outputs": [],
   "source": [
    "import os\n",
    "import os.path as op\n",
    "import shutil\n",
    "\n",
    "# standard third party imports\n",
    "import numpy as np\n",
    "import pandas as pd\n",
    "from matplotlib import pyplot as plt\n",
    "from sklearn.pipeline import Pipeline\n",
    "from sklearn.feature_selection import SelectFromModel\n",
    "from sklearn.model_selection import GridSearchCV\n",
    "from sklearn.preprocessing import FunctionTransformer\n",
    "from sklearn.compose import ColumnTransformer\n",
    "\n",
    "# impute missing values\n",
    "from sklearn.experimental import enable_iterative_imputer  # noqa\n",
    "from sklearn.impute import KNNImputer, IterativeImputer, SimpleImputer\n",
    "from sklearn.tree import DecisionTreeRegressor\n",
    "from category_encoders import TargetEncoder\n"
   ]
  },
  {
   "cell_type": "code",
   "execution_count": 45,
   "metadata": {},
   "outputs": [
    {
     "name": "stdout",
     "output_type": "stream",
     "text": [
      "The autoreload extension is already loaded. To reload it, use:\n",
      "  %reload_ext autoreload\n"
     ]
    }
   ],
   "source": [
    "%load_ext autoreload\n",
    "%autoreload 2"
   ]
  },
  {
   "cell_type": "code",
   "execution_count": 46,
   "metadata": {},
   "outputs": [],
   "source": [
    "import warnings\n",
    "from numba import NumbaDeprecationWarning\n",
    "\n",
    "warnings.filterwarnings(\n",
    "    \"ignore\",\n",
    "    message=\"pandas.Int64Index is deprecated and will be removed from pandas in a future version. Use pandas.Index with the appropriate dtype instead.\",\n",
    "    category=FutureWarning,\n",
    ")\n",
    "warnings.filterwarnings(\n",
    "    \"ignore\",\n",
    "    message=\"pandas.Float64Index is deprecated and will be removed from pandas in a future version. Use pandas.Index with the appropriate dtype instead.\",\n",
    "    category=FutureWarning,\n",
    ")\n",
    "warnings.filterwarnings(\"ignore\", category=NumbaDeprecationWarning)"
   ]
  },
  {
   "cell_type": "code",
   "execution_count": 47,
   "metadata": {},
   "outputs": [],
   "source": [
    "# standard code-template imports\n",
    "from ta_lib.core.api import (\n",
    "    create_context, get_dataframe, get_feature_names_from_column_transformer, string_cleaning,\n",
    "    get_package_path, display_as_tabs, save_pipeline, load_pipeline, initialize_environment,\n",
    "    load_dataset, save_dataset, DEFAULT_ARTIFACTS_PATH\n",
    ")\n",
    "\n",
    "import ta_lib.eda.api as eda\n",
    "from xgboost import XGBRegressor\n",
    "from ta_lib.regression.api import SKLStatsmodelOLS\n",
    "from ta_lib.regression.api import RegressionComparison, RegressionReport\n",
    "import ta_lib.reports.api as reports\n",
    "from ta_lib.data_processing.api import Outlier\n",
    "\n",
    "initialize_environment(debug=False, hide_warnings=True)"
   ]
  },
  {
   "attachments": {},
   "cell_type": "markdown",
   "metadata": {},
   "source": [
    "# Initialization"
   ]
  },
  {
   "cell_type": "code",
   "execution_count": 48,
   "metadata": {},
   "outputs": [],
   "source": [
    "artifacts_folder = DEFAULT_ARTIFACTS_PATH"
   ]
  },
  {
   "cell_type": "code",
   "execution_count": 49,
   "metadata": {},
   "outputs": [],
   "source": [
    "config_path = op.join('conf', 'config.yml')\n",
    "context = create_context(config_path)"
   ]
  },
  {
   "attachments": {},
   "cell_type": "markdown",
   "metadata": {},
   "source": [
    "# 3 Feature Engineering\n",
    "\n",
    "The focus here is the `Pipeline` and not the model. Though the model would inform the pipeline that is needed to train the model, our focus is to set it up in such a way that it can be saved/loaded, tweaked for different model choices and so on."
   ]
  },
  {
   "attachments": {},
   "cell_type": "markdown",
   "metadata": {},
   "source": [
    "## 3.1 Read the Train and Test Data"
   ]
  },
  {
   "cell_type": "code",
   "execution_count": 50,
   "metadata": {},
   "outputs": [
    {
     "name": "stdout",
     "output_type": "stream",
     "text": [
      "(139847, 32) (139847, 1)\n",
      "(34962, 32) (34962, 1)\n"
     ]
    }
   ],
   "source": [
    "train_X = load_dataset(context, 'train/sales/features')\n",
    "train_y = load_dataset(context, 'train/sales/target')\n",
    "print(train_X.shape, train_y.shape)\n",
    "\n",
    "test_X = load_dataset(context, 'test/sales/features')\n",
    "test_y = load_dataset(context, 'test/sales/target')\n",
    "print(test_X.shape, test_y.shape)"
   ]
  },
  {
   "cell_type": "markdown",
   "metadata": {},
   "source": [
    "## 3.2 Feature Engineering Pipelines\n"
   ]
  },
  {
   "cell_type": "markdown",
   "metadata": {},
   "source": [
    "**Dev NOTES**\n",
    "\n",
    "For Feature Engineering and Model Building sklearn.pipeline.Pipeline are leveraged because of the following advantages\n",
    "<details>\n",
    "    \n",
    "1. It helps in automating workflows and are easier to read and comprehend.\n",
    "2. Right Sequence can be ensured and (for example always encodes before imputing)\n",
    "3. Reproducibility is very convenient with pipelines\n",
    "4. Pipelines help you prevent data leakage in your test data\n",
    "5. Code is near implementation ready"
   ]
  },
  {
   "cell_type": "markdown",
   "metadata": {},
   "source": [
    "#### General Steps in the Feature Transformation are as follows\n",
    " - Outlier Treatment\n",
    " - Encoding of Categorical Columns\n",
    " - Missing Values Imputation"
   ]
  },
  {
   "cell_type": "code",
   "execution_count": 51,
   "metadata": {},
   "outputs": [],
   "source": [
    "# collecting different types of columns for transformations\n",
    "cat_columns = train_X.select_dtypes('object').columns\n",
    "num_columns = train_X.select_dtypes('number').columns"
   ]
  },
  {
   "attachments": {},
   "cell_type": "markdown",
   "metadata": {},
   "source": [
    "#### Outlier Handling\n",
    "- A Custom Transformer is used to handle outliers. It is not included as part of the pipeline as outliers handling are optional for test data\n",
    "- An option to either drop or cap the outliers can be passed during the transform call\n",
    "- If we want to treat outliers for some columns them we can pass cols argument to the Transformer\n",
    "- This will go into production code"
   ]
  },
  {
   "cell_type": "code",
   "execution_count": 52,
   "metadata": {},
   "outputs": [
    {
     "name": "stdout",
     "output_type": "stream",
     "text": [
      "(139847, 32)\n",
      "(139847, 32)\n"
     ]
    }
   ],
   "source": [
    "outlier_transformer = Outlier(method='mean')\n",
    "print(train_X.shape)\n",
    "train_X = outlier_transformer.fit_transform(train_X)\n",
    "print(train_X.shape)"
   ]
  },
  {
   "cell_type": "markdown",
   "metadata": {},
   "source": [
    "#### Encoding\n"
   ]
  },
  {
   "cell_type": "markdown",
   "metadata": {},
   "source": [
    "Some sample pipelines showcasing how to create column specific pipelines and integrating them overall is presented below\n",
    "\n",
    "- Commonly target encoding is done for categorical variables with too many levels.\n",
    "- We also group sparse levels. For fewer levels one hot encoding/label encoding is preferred.\n",
    "- If there is one dominant level, we can use binary encoding.\n",
    "- This will go into production code"
   ]
  },
  {
   "cell_type": "code",
   "execution_count": 53,
   "metadata": {},
   "outputs": [],
   "source": [
    "tgt_enc_simple_impt = Pipeline([\n",
    "    ('target_encoding', TargetEncoder(return_df=False)),\n",
    "    ('simple_impute', SimpleImputer(strategy='most_frequent')),\n",
    "])\n",
    "\n",
    "\n",
    "# NOTE: the list of transformations here are not sequential but weighted\n",
    "# (if multiple transforms are specified for a particular column)\n",
    "# for sequential transforms use a pipeline as shown above.\n",
    "features_transformer = ColumnTransformer([\n",
    "\n",
    "    ## categorical columns\n",
    "    ('tgt_enc', TargetEncoder(return_df=False),\n",
    "     list(set(cat_columns) - set(['technology', 'functional_status', 'platforms']))),\n",
    "\n",
    "    # NOTE: if the same column gets repeated, then they are weighed in the final output\n",
    "    # If we want a sequence of operations, then we use a pipeline but that doesen't YET support\n",
    "    # get_feature_names.\n",
    "    ('tgt_enc_sim_impt', tgt_enc_simple_impt, ['technology', 'functional_status', 'platforms']),\n",
    "\n",
    "    ## numeric columns\n",
    "    ('med_enc', SimpleImputer(strategy='median'), num_columns),\n",
    "\n",
    "])\n"
   ]
  },
  {
   "attachments": {},
   "cell_type": "markdown",
   "metadata": {},
   "source": [
    "**Dev notes(Encoding):**\n",
    "<details>\n",
    "\n",
    "    Some common practices followed in Categorical Feature Encoding are\n",
    "    * For categorical variables with too many levels, target encoding can be done.\n",
    "    * For fewer levels, one hot encoding can be done.\n",
    "    * If one very dominant level is observed, binary encoding can be used.\n",
    "    \n",
    "    \n",
    "</details>"
   ]
  },
  {
   "attachments": {},
   "cell_type": "markdown",
   "metadata": {},
   "source": [
    "## 3.2 Feature analysis\n",
    "\n",
    "Using the pipeline above analyze the features and decide on additional features to add/remove from the pipeline. This section will not be part of the production code, unless input data drifts etc. are explicitly demanded in the project.\n",
    "\n",
    "Here we are primarily focused on feature selection/elimination based on business rules, prior knowledge, data analysis.\n",
    "\n",
    "**We are not building any models at this point.**\n"
   ]
  },
  {
   "attachments": {},
   "cell_type": "markdown",
   "metadata": {},
   "source": [
    "- we create some sample data to analyze that we assume represent the population\n",
    "- train the features transformer and do the analysis as below"
   ]
  },
  {
   "cell_type": "code",
   "execution_count": 54,
   "metadata": {},
   "outputs": [],
   "source": [
    "sample_X = train_X.sample(frac=0.1, random_state=context.random_seed)\n",
    "sample_y = train_y.loc[sample_X.index]\n",
    "\n",
    "sample_train_X = get_dataframe(\n",
    "    features_transformer.fit_transform(sample_X, sample_y),\n",
    "    get_feature_names_from_column_transformer(features_transformer)\n",
    ")\n",
    "\n",
    "# nothing to do for target\n",
    "sample_train_y = sample_y"
   ]
  },
  {
   "attachments": {},
   "cell_type": "markdown",
   "metadata": {},
   "source": [
    "Running the features transformer on the complete data"
   ]
  },
  {
   "cell_type": "code",
   "execution_count": 55,
   "metadata": {},
   "outputs": [],
   "source": [
    "train_X = get_dataframe(\n",
    "    features_transformer.fit_transform(train_X, train_y),\n",
    "    get_feature_names_from_column_transformer(features_transformer)\n",
    ")"
   ]
  },
  {
   "attachments": {},
   "cell_type": "markdown",
   "metadata": {},
   "source": [
    "### 3.2.1 Univariate\n",
    "\n",
    "\n",
    "- Look at each variable independently. This is useful if your models have assumptions on the distribution and/or bounds on the features/target"
   ]
  },
  {
   "cell_type": "code",
   "execution_count": 56,
   "metadata": {},
   "outputs": [
    {
     "data": {},
     "metadata": {},
     "output_type": "display_data"
    },
    {
     "data": {
      "application/vnd.holoviews_exec.v0+json": "",
      "text/html": [
       "<div id='89025'>\n",
       "  <div class=\"bk-root\" id=\"afb60d40-8ca6-4b9c-a909-24f08911bde2\" data-root-id=\"89025\"></div>\n",
       "</div>\n",
       "<script type=\"application/javascript\">(function(root) {\n",
       "  function embed_document(root) {\n",
       "    var docs_json = {\"262896a6-f50a-4a6d-b114-8b5156296420\":{\"defs\":[{\"extends\":null,\"module\":null,\"name\":\"ReactiveHTML1\",\"overrides\":[],\"properties\":[]},{\"extends\":null,\"module\":null,\"name\":\"FlexBox1\",\"overrides\":[],\"properties\":[{\"default\":\"flex-start\",\"kind\":null,\"name\":\"align_content\"},{\"default\":\"flex-start\",\"kind\":null,\"name\":\"align_items\"},{\"default\":\"row\",\"kind\":null,\"name\":\"flex_direction\"},{\"default\":\"wrap\",\"kind\":null,\"name\":\"flex_wrap\"},{\"default\":\"flex-start\",\"kind\":null,\"name\":\"justify_content\"}]},{\"extends\":null,\"module\":null,\"name\":\"GridStack1\",\"overrides\":[],\"properties\":[{\"default\":\"warn\",\"kind\":null,\"name\":\"mode\"},{\"default\":null,\"kind\":null,\"name\":\"ncols\"},{\"default\":null,\"kind\":null,\"name\":\"nrows\"},{\"default\":true,\"kind\":null,\"name\":\"allow_resize\"},{\"default\":true,\"kind\":null,\"name\":\"allow_drag\"},{\"default\":[],\"kind\":null,\"name\":\"state\"}]},{\"extends\":null,\"module\":null,\"name\":\"click1\",\"overrides\":[],\"properties\":[{\"default\":\"\",\"kind\":null,\"name\":\"terminal_output\"},{\"default\":\"\",\"kind\":null,\"name\":\"debug_name\"},{\"default\":0,\"kind\":null,\"name\":\"clears\"}]},{\"extends\":null,\"module\":null,\"name\":\"NotificationAreaBase1\",\"overrides\":[],\"properties\":[{\"default\":\"bottom-right\",\"kind\":null,\"name\":\"position\"},{\"default\":0,\"kind\":null,\"name\":\"_clear\"}]},{\"extends\":null,\"module\":null,\"name\":\"NotificationArea1\",\"overrides\":[],\"properties\":[{\"default\":[],\"kind\":null,\"name\":\"notifications\"},{\"default\":\"bottom-right\",\"kind\":null,\"name\":\"position\"},{\"default\":0,\"kind\":null,\"name\":\"_clear\"},{\"default\":[{\"background\":\"#ffc107\",\"icon\":{\"className\":\"fas fa-exclamation-triangle\",\"color\":\"white\",\"tagName\":\"i\"},\"type\":\"warning\"},{\"background\":\"#007bff\",\"icon\":{\"className\":\"fas fa-info-circle\",\"color\":\"white\",\"tagName\":\"i\"},\"type\":\"info\"}],\"kind\":null,\"name\":\"types\"}]},{\"extends\":null,\"module\":null,\"name\":\"Notification\",\"overrides\":[],\"properties\":[{\"default\":null,\"kind\":null,\"name\":\"background\"},{\"default\":3000,\"kind\":null,\"name\":\"duration\"},{\"default\":null,\"kind\":null,\"name\":\"icon\"},{\"default\":\"\",\"kind\":null,\"name\":\"message\"},{\"default\":null,\"kind\":null,\"name\":\"notification_type\"},{\"default\":false,\"kind\":null,\"name\":\"_destroyed\"}]},{\"extends\":null,\"module\":null,\"name\":\"TemplateActions1\",\"overrides\":[],\"properties\":[{\"default\":0,\"kind\":null,\"name\":\"open_modal\"},{\"default\":0,\"kind\":null,\"name\":\"close_modal\"}]},{\"extends\":null,\"module\":null,\"name\":\"MaterialTemplateActions1\",\"overrides\":[],\"properties\":[{\"default\":0,\"kind\":null,\"name\":\"open_modal\"},{\"default\":0,\"kind\":null,\"name\":\"close_modal\"}]}],\"roots\":{\"references\":[{\"attributes\":{\"coordinates\":null,\"data_source\":{\"id\":\"89069\"},\"glyph\":{\"id\":\"89072\"},\"group\":null,\"hover_glyph\":null,\"muted_glyph\":{\"id\":\"89074\"},\"nonselection_glyph\":{\"id\":\"89073\"},\"selection_glyph\":{\"id\":\"89077\"},\"view\":{\"id\":\"89076\"}},\"id\":\"89075\",\"type\":\"GlyphRenderer\"},{\"attributes\":{\"margin\":[5,5,5,5],\"name\":\"HSpacer212818\",\"sizing_mode\":\"stretch_width\"},\"id\":\"89451\",\"type\":\"Spacer\"},{\"attributes\":{},\"id\":\"89079\",\"type\":\"Selection\"},{\"attributes\":{\"editor\":{\"id\":\"89389\"},\"field\":\"count\",\"formatter\":{\"id\":\"89388\"},\"title\":\"count\"},\"id\":\"89390\",\"type\":\"TableColumn\"},{\"attributes\":{\"source\":{\"id\":\"89069\"}},\"id\":\"89076\",\"type\":\"CDSView\"},{\"attributes\":{\"bottom\":{\"value\":0},\"fill_alpha\":{\"value\":1.0},\"fill_color\":{\"value\":\"#00fff0\"},\"hatch_alpha\":{\"value\":1.0},\"hatch_color\":{\"value\":\"#00fff0\"},\"hatch_scale\":{\"value\":12.0},\"hatch_weight\":{\"value\":1.0},\"left\":{\"field\":\"left\"},\"line_alpha\":{\"value\":1.0},\"line_cap\":{\"value\":\"butt\"},\"line_color\":{\"value\":\"black\"},\"line_dash\":{\"value\":[]},\"line_dash_offset\":{\"value\":0},\"line_join\":{\"value\":\"bevel\"},\"line_width\":{\"value\":1},\"right\":{\"field\":\"right\"},\"top\":{\"field\":\"top\"}},\"id\":\"89077\",\"type\":\"Quad\"},{\"attributes\":{},\"id\":\"89419\",\"type\":\"NumberEditor\"},{\"attributes\":{\"margin\":[5,5,5,5],\"name\":\"HSpacer212810\",\"sizing_mode\":\"stretch_width\"},\"id\":\"89447\",\"type\":\"Spacer\"},{\"attributes\":{\"bottom\":{\"value\":0},\"fill_color\":{\"value\":\"#00fff0\"},\"hatch_color\":{\"value\":\"#00fff0\"},\"left\":{\"field\":\"left\"},\"right\":{\"field\":\"right\"},\"top\":{\"field\":\"top\"}},\"id\":\"89072\",\"type\":\"Quad\"},{\"attributes\":{\"bottom\":{\"value\":0},\"fill_alpha\":{\"value\":0.2},\"fill_color\":{\"value\":\"#00fff0\"},\"hatch_alpha\":{\"value\":0.2},\"hatch_color\":{\"value\":\"#00fff0\"},\"left\":{\"field\":\"left\"},\"line_alpha\":{\"value\":0.2},\"right\":{\"field\":\"right\"},\"top\":{\"field\":\"top\"}},\"id\":\"89074\",\"type\":\"Quad\"},{\"attributes\":{\"children\":[{\"id\":\"89449\"}],\"css_classes\":[\"panel-widget-box\"],\"margin\":[5,5,5,5],\"name\":\"WidgetBox212805\"},\"id\":\"89448\",\"type\":\"Column\"},{\"attributes\":{},\"id\":\"89070\",\"type\":\"Selection\"},{\"attributes\":{\"margin\":[20,20,20,20],\"min_width\":250,\"options\":[\"brand\",\"condition\"],\"title\":\"col\",\"value\":\"brand\",\"width\":250},\"id\":\"89449\",\"type\":\"panel.models.widgets.CustomSelect\"},{\"attributes\":{},\"id\":\"89094\",\"type\":\"BasicTickFormatter\"},{\"attributes\":{},\"id\":\"89409\",\"type\":\"NumberEditor\"},{\"attributes\":{},\"id\":\"89093\",\"type\":\"BasicTicker\"},{\"attributes\":{\"editor\":{\"id\":\"89419\"},\"field\":\"A_75_percent\",\"formatter\":{\"id\":\"89418\"},\"title\":\"75%\"},\"id\":\"89420\",\"type\":\"TableColumn\"},{\"attributes\":{\"client_comm_id\":\"ef16428b14014e13af09c56f3ebf3e71\",\"comm_id\":\"c9d1f1e562e44d33a38bee355cbe3e08\",\"plot_id\":\"89025\"},\"id\":\"89503\",\"type\":\"panel.models.comm_manager.CommManager\"},{\"attributes\":{},\"id\":\"89095\",\"type\":\"AllLabels\"},{\"attributes\":{\"format\":\"0,0.0[00000]\"},\"id\":\"89423\",\"type\":\"NumberFormatter\"},{\"attributes\":{\"margin\":[5,5,5,5],\"name\":\"HSpacer212811\",\"sizing_mode\":\"stretch_width\"},\"id\":\"89450\",\"type\":\"Spacer\"},{\"attributes\":{},\"id\":\"89404\",\"type\":\"NumberEditor\"},{\"attributes\":{\"editor\":{\"id\":\"89409\"},\"field\":\"A_25_percent\",\"formatter\":{\"id\":\"89408\"},\"title\":\"25%\"},\"id\":\"89410\",\"type\":\"TableColumn\"},{\"attributes\":{\"columns\":[{\"id\":\"89390\"},{\"id\":\"89395\"},{\"id\":\"89400\"},{\"id\":\"89405\"},{\"id\":\"89410\"},{\"id\":\"89415\"},{\"id\":\"89420\"},{\"id\":\"89425\"}],\"height\":60,\"reorderable\":false,\"source\":{\"id\":\"89194\"},\"view\":{\"id\":\"89238\"}},\"id\":\"89236\",\"type\":\"DataTable\"},{\"attributes\":{\"fill_alpha\":0.5,\"fill_color\":\"#30a2da\",\"hatch_alpha\":0.1,\"hatch_color\":\"#30a2da\",\"line_alpha\":1,\"x\":{\"field\":\"x\"},\"y\":{\"field\":\"y\"}},\"id\":\"89082\",\"type\":\"Patch\"},{\"attributes\":{},\"id\":\"89424\",\"type\":\"NumberEditor\"},{\"attributes\":{\"callback\":null,\"renderers\":[{\"id\":\"89084\"}],\"tags\":[\"hv_created\"],\"tooltips\":[[\"brand\",\"@{brand}\"],[\"Density\",\"@{brand_density}\"]]},\"id\":\"89032\",\"type\":\"HoverTool\"},{\"attributes\":{\"format\":\"0,0.0[00000]\"},\"id\":\"89418\",\"type\":\"NumberFormatter\"},{\"attributes\":{},\"id\":\"89043\",\"type\":\"BasicTicker\"},{\"attributes\":{\"margin\":[5,5,5,5],\"name\":\"HSpacer212813\",\"sizing_mode\":\"stretch_width\"},\"id\":\"89026\",\"type\":\"Spacer\"},{\"attributes\":{\"format\":\"0,0.0[00000]\"},\"id\":\"89413\",\"type\":\"NumberFormatter\"},{\"attributes\":{\"toolbars\":[{\"id\":\"89056\"}],\"tools\":[{\"id\":\"89032\"},{\"id\":\"89050\"},{\"id\":\"89051\"},{\"id\":\"89052\"},{\"id\":\"89053\"},{\"id\":\"89054\"}]},\"id\":\"89258\",\"type\":\"ProxyToolbar\"},{\"attributes\":{\"editor\":{\"id\":\"89404\"},\"field\":\"min\",\"formatter\":{\"id\":\"89403\"},\"title\":\"min\"},\"id\":\"89405\",\"type\":\"TableColumn\"},{\"attributes\":{\"source\":{\"id\":\"89078\"}},\"id\":\"89085\",\"type\":\"CDSView\"},{\"attributes\":{},\"id\":\"89414\",\"type\":\"NumberEditor\"},{\"attributes\":{},\"id\":\"89389\",\"type\":\"NumberEditor\"},{\"attributes\":{},\"id\":\"89099\",\"type\":\"UnionRenderers\"},{\"attributes\":{\"editor\":{\"id\":\"89424\"},\"field\":\"max\",\"formatter\":{\"id\":\"89423\"},\"title\":\"max\"},\"id\":\"89425\",\"type\":\"TableColumn\"},{\"attributes\":{\"format\":\"0,0.0[00000]\"},\"id\":\"89393\",\"type\":\"NumberFormatter\"},{\"attributes\":{\"editor\":{\"id\":\"89399\"},\"field\":\"std\",\"formatter\":{\"id\":\"89398\"},\"title\":\"std\"},\"id\":\"89400\",\"type\":\"TableColumn\"},{\"attributes\":{\"data\":{\"A_25_percent\":{\"__ndarray__\":\"XI/C9ShEYUA=\",\"dtype\":\"float64\",\"order\":\"little\",\"shape\":[1]},\"A_50_percent\":{\"__ndarray__\":\"XI/C9ShEYUA=\",\"dtype\":\"float64\",\"order\":\"little\",\"shape\":[1]},\"A_75_percent\":{\"__ndarray__\":\"XI/C9ShEYUA=\",\"dtype\":\"float64\",\"order\":\"little\",\"shape\":[1]},\"count\":{\"__ndarray__\":\"AAAAADgSAUE=\",\"dtype\":\"float64\",\"order\":\"little\",\"shape\":[1]},\"max\":{\"__ndarray__\":\"XI/C9ShEYUA=\",\"dtype\":\"float64\",\"order\":\"little\",\"shape\":[1]},\"mean\":{\"__ndarray__\":\"SOF6FK7nYEA=\",\"dtype\":\"float64\",\"order\":\"little\",\"shape\":[1]},\"min\":{\"__ndarray__\":\"uB6F61E4K0A=\",\"dtype\":\"float64\",\"order\":\"little\",\"shape\":[1]},\"std\":{\"__ndarray__\":\"AAAAAACALkA=\",\"dtype\":\"float64\",\"order\":\"little\",\"shape\":[1]}},\"selected\":{\"id\":\"89195\"},\"selection_policy\":{\"id\":\"89255\"}},\"id\":\"89194\",\"type\":\"ColumnDataSource\"},{\"attributes\":{},\"id\":\"89052\",\"type\":\"WheelZoomTool\"},{\"attributes\":{\"editor\":{\"id\":\"89414\"},\"field\":\"A_50_percent\",\"formatter\":{\"id\":\"89413\"},\"title\":\"50%\"},\"id\":\"89415\",\"type\":\"TableColumn\"},{\"attributes\":{},\"id\":\"89399\",\"type\":\"NumberEditor\"},{\"attributes\":{},\"id\":\"89394\",\"type\":\"NumberEditor\"},{\"attributes\":{\"axis_label\":\"brand_density, y\",\"coordinates\":null,\"formatter\":{\"id\":\"89094\"},\"group\":null,\"major_label_policy\":{\"id\":\"89095\"},\"ticker\":{\"id\":\"89093\"},\"y_range_name\":\"twiny\"},\"id\":\"89088\",\"type\":\"LinearAxis\"},{\"attributes\":{\"below\":[{\"id\":\"89042\"}],\"center\":[{\"id\":\"89045\"},{\"id\":\"89049\"}],\"extra_y_ranges\":{\"twiny\":{\"id\":\"89087\"}},\"height\":300,\"left\":[{\"id\":\"89046\"}],\"margin\":null,\"min_border_bottom\":10,\"min_border_left\":10,\"min_border_right\":10,\"min_border_top\":10,\"renderers\":[{\"id\":\"89075\"},{\"id\":\"89084\"}],\"right\":[{\"id\":\"89088\"}],\"sizing_mode\":\"fixed\",\"title\":{\"id\":\"89034\"},\"toolbar\":{\"id\":\"89056\"},\"toolbar_location\":null,\"x_range\":{\"id\":\"89030\"},\"x_scale\":{\"id\":\"89038\"},\"y_range\":{\"id\":\"89031\"},\"y_scale\":{\"id\":\"89040\"}},\"id\":\"89033\",\"subtype\":\"Figure\",\"type\":\"Plot\"},{\"attributes\":{\"coordinates\":null,\"group\":null,\"text\":\"Density Plot for brand\",\"text_color\":\"black\",\"text_font_size\":\"12pt\"},\"id\":\"89034\",\"type\":\"Title\"},{\"attributes\":{\"axis_label\":\"brand\",\"coordinates\":null,\"formatter\":{\"id\":\"89064\"},\"group\":null,\"major_label_policy\":{\"id\":\"89065\"},\"ticker\":{\"id\":\"89043\"}},\"id\":\"89042\",\"type\":\"LinearAxis\"},{\"attributes\":{\"format\":\"0,0.0[00000]\"},\"id\":\"89388\",\"type\":\"NumberFormatter\"},{\"attributes\":{\"fill_alpha\":0.5,\"fill_color\":\"#30a2da\",\"hatch_color\":\"#30a2da\",\"x\":{\"field\":\"x\"},\"y\":{\"field\":\"y\"}},\"id\":\"89081\",\"type\":\"Patch\"},{\"attributes\":{},\"id\":\"89065\",\"type\":\"AllLabels\"},{\"attributes\":{\"format\":\"0,0.0[00000]\"},\"id\":\"89408\",\"type\":\"NumberFormatter\"},{\"attributes\":{},\"id\":\"89051\",\"type\":\"PanTool\"},{\"attributes\":{\"end\":0.2672390648855462},\"id\":\"89087\",\"type\":\"Range1d\"},{\"attributes\":{\"format\":\"0,0.0[00000]\"},\"id\":\"89403\",\"type\":\"NumberFormatter\"},{\"attributes\":{},\"id\":\"89101\",\"type\":\"UnionRenderers\"},{\"attributes\":{},\"id\":\"89038\",\"type\":\"LinearScale\"},{\"attributes\":{},\"id\":\"89047\",\"type\":\"BasicTicker\"},{\"attributes\":{\"source\":{\"id\":\"89194\"}},\"id\":\"89238\",\"type\":\"CDSView\"},{\"attributes\":{},\"id\":\"89040\",\"type\":\"LinearScale\"},{\"attributes\":{\"margin\":[5,5,5,5],\"name\":\"HSpacer212814\",\"sizing_mode\":\"stretch_width\"},\"id\":\"89029\",\"type\":\"Spacer\"},{\"attributes\":{\"axis\":{\"id\":\"89042\"},\"coordinates\":null,\"grid_line_color\":null,\"group\":null,\"ticker\":null},\"id\":\"89045\",\"type\":\"Grid\"},{\"attributes\":{\"axis_label\":\"Frequency\",\"coordinates\":null,\"formatter\":{\"id\":\"89067\"},\"group\":null,\"major_label_policy\":{\"id\":\"89068\"},\"ticker\":{\"id\":\"89047\"}},\"id\":\"89046\",\"type\":\"LinearAxis\"},{\"attributes\":{\"fill_alpha\":0.2,\"fill_color\":\"#30a2da\",\"hatch_alpha\":0.2,\"hatch_color\":\"#30a2da\",\"line_alpha\":0.2,\"x\":{\"field\":\"x\"},\"y\":{\"field\":\"y\"}},\"id\":\"89083\",\"type\":\"Patch\"},{\"attributes\":{\"fill_alpha\":0.5,\"fill_color\":\"#30a2da\",\"hatch_color\":\"#30a2da\",\"x\":{\"field\":\"x\"},\"y\":{\"field\":\"y\"}},\"id\":\"89086\",\"type\":\"Patch\"},{\"attributes\":{\"axis\":{\"id\":\"89046\"},\"coordinates\":null,\"dimension\":1,\"grid_line_color\":null,\"group\":null,\"ticker\":null},\"id\":\"89049\",\"type\":\"Grid\"},{\"attributes\":{\"end\":149.06024072505184,\"reset_end\":149.06024072505184,\"reset_start\":2.6741101149784354,\"start\":2.6741101149784354,\"tags\":[[[\"x\",\"x\",null]]]},\"id\":\"89030\",\"type\":\"Range1d\"},{\"attributes\":{\"toolbar\":{\"id\":\"89258\"},\"toolbar_location\":\"above\"},\"id\":\"89259\",\"type\":\"ToolbarBox\"},{\"attributes\":{},\"id\":\"89050\",\"type\":\"SaveTool\"},{\"attributes\":{\"coordinates\":null,\"data_source\":{\"id\":\"89078\"},\"glyph\":{\"id\":\"89081\"},\"group\":null,\"hover_glyph\":null,\"muted_glyph\":{\"id\":\"89083\"},\"nonselection_glyph\":{\"id\":\"89082\"},\"selection_glyph\":{\"id\":\"89086\"},\"view\":{\"id\":\"89085\"},\"y_range_name\":\"twiny\"},\"id\":\"89084\",\"type\":\"GlyphRenderer\"},{\"attributes\":{\"data\":{\"left\":{\"__ndarray__\":\"nAqZdl02K0CXJxphENUzQODJ5wbyDjpAFbZa1mkkQEA6h0GpWkFDQF5YKHxLXkZAgykPTzx7SUCn+vUhLZhMQMzL3PQdtU9AeM7hYwdpUUAKN1XNf/dSQJyfyDb4hVRAMAg8oHAUVkDCcK8J6aJXQFTZInNhMVlA5kGW3Nm/WkB4qglGUk5cQAoTfa/K3F1AnnvwGENrX0AY8jHB3XxgQA==\",\"dtype\":\"float64\",\"order\":\"little\",\"shape\":[20]},\"right\":{\"__ndarray__\":\"lycaYRDVM0DgyecG8g46QBW2WtZpJEBAOodBqVpBQ0BeWCh8S15GQIMpD088e0lAp/r1IS2YTEDMy9z0HbVPQHjO4WMHaVFACjdVzX/3UkCcn8g2+IVUQDAIPKBwFFZAwnCvCemiV0BU2SJzYTFZQOZBltzZv1pAeKoJRlJOXEAKE32vytxdQJ578BhDa19AGPIxwd18YEBhpuv1GURhQA==\",\"dtype\":\"float64\",\"order\":\"little\",\"shape\":[20]},\"top\":[1302,0,11,0,2,0,2,657,0,0,0,3630,0,0,0,0,0,0,0,134243]},\"selected\":{\"id\":\"89070\"},\"selection_policy\":{\"id\":\"89099\"}},\"id\":\"89069\",\"type\":\"ColumnDataSource\"},{\"attributes\":{\"overlay\":{\"id\":\"89055\"}},\"id\":\"89053\",\"type\":\"BoxZoomTool\"},{\"attributes\":{\"children\":[{\"id\":\"89259\"},{\"id\":\"89257\"}]},\"id\":\"89260\",\"type\":\"Column\"},{\"attributes\":{},\"id\":\"89054\",\"type\":\"ResetTool\"},{\"attributes\":{\"style\":{\"white-space\":\"nowrap\"},\"text\":\"<span style=\\\"color:black;font-family:Arial;font-style:bold;font-weight:bold;font-size:12pt\\\">col: brand</span>\",\"width\":450},\"id\":\"89261\",\"type\":\"Div\"},{\"attributes\":{\"children\":[{\"id\":\"89447\"},{\"id\":\"89448\"},{\"id\":\"89450\"}],\"margin\":[0,0,0,0],\"name\":\"Row212812\"},\"id\":\"89446\",\"type\":\"Row\"},{\"attributes\":{\"bottom_units\":\"screen\",\"coordinates\":null,\"fill_alpha\":0.5,\"fill_color\":\"lightgrey\",\"group\":null,\"left_units\":\"screen\",\"level\":\"overlay\",\"line_alpha\":1.0,\"line_color\":\"black\",\"line_dash\":[4,4],\"line_width\":2,\"right_units\":\"screen\",\"syncable\":false,\"top_units\":\"screen\"},\"id\":\"89055\",\"type\":\"BoxAnnotation\"},{\"attributes\":{\"children\":[[{\"id\":\"89033\"},0,0],[{\"id\":\"89236\"},1,0]]},\"id\":\"89257\",\"type\":\"GridBox\"},{\"attributes\":{\"children\":[{\"id\":\"89261\"},{\"id\":\"89260\"}]},\"id\":\"89262\",\"type\":\"Column\"},{\"attributes\":{\"tools\":[{\"id\":\"89032\"},{\"id\":\"89050\"},{\"id\":\"89051\"},{\"id\":\"89052\"},{\"id\":\"89053\"},{\"id\":\"89054\"}]},\"id\":\"89056\",\"type\":\"Toolbar\"},{\"attributes\":{},\"id\":\"89195\",\"type\":\"Selection\"},{\"attributes\":{\"margin\":[5,5,5,5],\"name\":\"HSpacer212815\",\"sizing_mode\":\"stretch_width\"},\"id\":\"89445\",\"type\":\"Spacer\"},{\"attributes\":{},\"id\":\"89064\",\"type\":\"BasicTickFormatter\"},{\"attributes\":{\"children\":[{\"id\":\"89028\"},{\"id\":\"89446\"}],\"margin\":[0,0,0,0],\"name\":\"Column212817\"},\"id\":\"89027\",\"type\":\"Column\"},{\"attributes\":{\"bottom\":{\"value\":0},\"fill_alpha\":{\"value\":0.1},\"fill_color\":{\"value\":\"#00fff0\"},\"hatch_alpha\":{\"value\":0.1},\"hatch_color\":{\"value\":\"#00fff0\"},\"left\":{\"field\":\"left\"},\"line_alpha\":{\"value\":0.1},\"right\":{\"field\":\"right\"},\"top\":{\"field\":\"top\"}},\"id\":\"89073\",\"type\":\"Quad\"},{\"attributes\":{\"format\":\"0,0.0[00000]\"},\"id\":\"89398\",\"type\":\"NumberFormatter\"},{\"attributes\":{},\"id\":\"89068\",\"type\":\"AllLabels\"},{\"attributes\":{\"editor\":{\"id\":\"89394\"},\"field\":\"mean\",\"formatter\":{\"id\":\"89393\"},\"title\":\"mean\"},\"id\":\"89395\",\"type\":\"TableColumn\"},{\"attributes\":{},\"id\":\"89255\",\"type\":\"UnionRenderers\"},{\"attributes\":{},\"id\":\"89067\",\"type\":\"BasicTickFormatter\"},{\"attributes\":{\"children\":[{\"id\":\"89026\"},{\"id\":\"89027\"},{\"id\":\"89451\"}],\"margin\":[0,0,0,0],\"name\":\"Row212804\"},\"id\":\"89025\",\"type\":\"Row\"},{\"attributes\":{\"end\":135585.43,\"reset_end\":147667.3,\"reset_start\":0.0,\"tags\":[[[\"Frequency\",\"Frequency\",null]]]},\"id\":\"89031\",\"type\":\"Range1d\"},{\"attributes\":{\"children\":[{\"id\":\"89029\"},{\"id\":\"89262\"},{\"id\":\"89445\"}],\"margin\":[0,0,0,0],\"name\":\"Row212816\"},\"id\":\"89028\",\"type\":\"Row\"},{\"attributes\":{\"data\":{\"x\":{\"__ndarray__\":\"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\",\"dtype\":\"float64\",\"order\":\"little\",\"shape\":[200]},\"y\":{\"__ndarray__\":\"AAAAAAAAAAAAAAAAAAAAAAAAAAAAAAAAAAAAAAAAAAAAAAAAAAAAAAAAAAAAAAAAAAAAAAAAAAAAAAAAAAAAAAAAAAAAAAAAAAAAAAAAAAAAAAAAAAAAAAAAAAAAAAAAAAAAAAAAAAAAAAAAAAAAAAAAAAAAAAAAAAAAAAAAAAAAAAAAAAAAAAAAAAAAAAAAAAAAAAAAAAAAAAAAAAAAAAAAAAAAAAAAAAAAAAAAAAAAAAAAAAAAAAAAAAAAAAAAAAAAAAAAAAAAAAAAAAAAAAAAAAAAAAAAAAAAAAAAAAAAAAAAAAAAAAAAAAAAAAAAAAAAAAAAAAAAAAAAAAAAAAAAAAAAAAAAAAAAAAAAAAAAAAAAAAAAAAAAAAAAAAAAAAAAAAAAAAAAAAAAAAAAAAAAAAAAAAAAAAAAAAAAAAAAAAAAAAAAAAAAAAAAAAAAAAAAAAAAAAAAAAAAAAAAAAAAAAAAAAAAAAAAAAAAAAAAAAAAAAAAAAAAAAAAAAAAAAAAAAAAAAAAAAAAAAAAAAAAAAAAAAAAAAAAAAAAAAAAAAAAAAAAAAAAAAAAAAAAAAAAAAAAAAAAAAAAAAAAAAAAAAAAAAAAAAAAAAAAAAAAAAAAAAAAAAAAAAAAAAAAAAAAAAAAAAAAAAAAAAAAAAAAAAAAAAAAAAAAAAAAAAAAAAAAAAAAAAAAAAAAAAAAAAAAAAAAAAAAAAAAAAAAAAAAAAAAAAAAAAAAAAAAAAAAAAAAAAAAAAAAAAAAAAAAAAAAAAAAAAAAAAAAAAAAAAAAAAAAAAAAAAAAAAAAAAAAAAAAAAAAAAAAAAAAAAAAAAAAAAAAAAAAAAAAAAAAAAAAAAAAAAAAAAAAAAAAAAAAAAAAAAAAAAAAAAAAAAAAAAAAAAAAAAAAAAAAAAAAAAAAAAAAAAAAAAAAAAAAAAAAAAAAAAAAAAAAAAAAAAAAAAAAAAAAAAAAAAAAAAAAAAAAAAAAAAAAAAAAAAAAAAAAAAAAAAAAAAAAAAAAAAAAAAAAAAAAAAAAAAAAAAAAAAAAAAAAAAAAAAAAAAAAAAArb1fsTXBoP803efohkKA/luX7nlV3wj+o/dUJGO/QP2MihBqsi8k/tCJIpHGyrz+pLG+3uiyAP8dGDObYJzs//30YZfm/4j6hG9R39kt1PrLoXYpz5fM9saqSLO2TXj1+cFqLn1OzPNRHxC8/GPQ7b1IlXGMvITuKkvobQC04OvcnbB7q+Ts5zYTeXpCgKjiWiRevYtgEN/+RbidV2Mo1ivVUB5VvfDTT0fLnZ8YYM23ajeUiwaExUSrt/HUNODBFHp0OGee4MWZBu81lGiszNqL2+jdDiDQISU7sZ93RNV2R9zaYowU3i79dpAOPJTh0Tfdgn6oxOWX2ZPGx0Cc6wrQa4vRnCjvqZtwxFBXYO/vYcdulEJI8cHpEVtFKNj3osMcKWaDGPV4R+Km240I+g0NmjCDxqT5eb0tg2U39PrG9tVEeOjs/a8bkObDOZD+t5VhLhyh6PwKHgg18DHs/z6W8bmQBZz8CvcLkAxhAP26tlNBahQI/kF03H/yHsT6559GRXUxLPqpkllA6e9E9nCOnQ3BqQj3zeZSb9umfPJ7j0SID0uY7+muZPxJ0JDwtKWcQudTRPEXVetFnkmk99UGBYx8q7j2OozONT0RdPnqblPIoW7c+RJuhHnap/j7bw+/B8I0wP/Ja5iTsZ00/JdhIi1d7VT+bhZAMydBJP7kv822VhCk/aqdBc33S9D7sUnZ7bCG5PtqbX4EPjcU+t5va7vHH0D6y278Ed57FPnZgQ50tl6c+1k++JQ/rlz7kYwy6Oqm6PnIfo9Kswc4+lbxw/4I+zT7N6EVvGN+2Pq/kU7ztbI0+rUH/K0InTz4MZun7APUTPk2lsDIV6WI+LHEWgylPpj4WVSB0gabVPjdc1u8uSPE+dKiJc3Sx9j5RGq0ojoLoPgt13BkdxsU+dincf/7Rjz678+CrMS1DPkcZ0b9/SjM+G56/ECJNlj7e9EJWiZ3mPkyyUhaycyM/HOrUR39KTD/ZhRuItFxhP3thrWssLGI/RahnVFOxUT89891S7yI3P23kLWKkpRw/gpu19xhS9j4VWmhPWnm/Pg==\",\"dtype\":\"float64\",\"order\":\"little\",\"shape\":[200]}},\"selected\":{\"id\":\"89079\"},\"selection_policy\":{\"id\":\"89101\"}},\"id\":\"89078\",\"type\":\"ColumnDataSource\"}],\"root_ids\":[\"89025\",\"89503\"]},\"title\":\"Bokeh Application\",\"version\":\"2.4.3\"}};\n",
       "    var render_items = [{\"docid\":\"262896a6-f50a-4a6d-b114-8b5156296420\",\"root_ids\":[\"89025\"],\"roots\":{\"89025\":\"afb60d40-8ca6-4b9c-a909-24f08911bde2\"}}];\n",
       "    root.Bokeh.embed.embed_items_notebook(docs_json, render_items);\n",
       "  }\n",
       "  if (root.Bokeh !== undefined && root.Bokeh.Panel !== undefined) {\n",
       "    embed_document(root);\n",
       "  } else {\n",
       "    var attempts = 0;\n",
       "    var timer = setInterval(function(root) {\n",
       "      if (root.Bokeh !== undefined && root.Bokeh.Panel !== undefined) {\n",
       "        clearInterval(timer);\n",
       "        embed_document(root);\n",
       "      } else if (document.readyState == \"complete\") {\n",
       "        attempts++;\n",
       "        if (attempts > 200) {\n",
       "          clearInterval(timer);\n",
       "          console.log(\"Bokeh: ERROR: Unable to run BokehJS code because BokehJS library is missing\");\n",
       "        }\n",
       "      }\n",
       "    }, 25, root)\n",
       "  }\n",
       "})(window);</script>"
      ],
      "text/plain": [
       ":DynamicMap   [col]\n",
       "   :Layout\n",
       "      .Overlay.I :Overlay\n",
       "         .Histogram.I    :Histogram   [x]   (Frequency)\n",
       "         .Distribution.I :Distribution   [brand]   (Density)\n",
       "      .Table.I   :Table   [count,mean,std,min,25%,50%,75%,max]"
      ]
     },
     "execution_count": 56,
     "metadata": {
      "application/vnd.holoviews_exec.v0+json": {
       "id": "89025"
      }
     },
     "output_type": "execute_result"
    }
   ],
   "source": [
    "out = eda.get_density_plots(train_X, cols=['brand', 'condition'])\n",
    "out"
   ]
  },
  {
   "cell_type": "code",
   "execution_count": 57,
   "metadata": {},
   "outputs": [],
   "source": [
    "# save the plots are html\n",
    "reports.create_report({'univariate': out}, name='reports/feature_analysis_univariate')"
   ]
  },
  {
   "attachments": {},
   "cell_type": "markdown",
   "metadata": {},
   "source": [
    "A report containing the above plot is available [here](https://drive.google.com/file/d/16ntqUc_zvpg0at5pTtO-ljBjw5UVGFnp/view?usp=sharing)\n"
   ]
  },
  {
   "attachments": {},
   "cell_type": "markdown",
   "metadata": {},
   "source": [
    "Alternatively, the above plots can be generated as a single html as below. The output from this is available [here](https://drive.google.com/file/d/1vUaCcs1PJ4IYo1em9-eZIEj9WuDsnFKT/view?usp=sharing)"
   ]
  },
  {
   "cell_type": "code",
   "execution_count": 58,
   "metadata": {},
   "outputs": [
    {
     "name": "stderr",
     "output_type": "stream",
     "text": [
      "p-value may not be accurate for N > 5000.\n"
     ]
    }
   ],
   "source": [
    "reports.feature_analysis(train_X,'reports/feature_analysis_report.html')"
   ]
  },
  {
   "attachments": {},
   "cell_type": "markdown",
   "metadata": {},
   "source": [
    "### 3.2.2 Bivariate - mutual interactions"
   ]
  },
  {
   "attachments": {},
   "cell_type": "markdown",
   "metadata": {},
   "source": [
    "- Find columns with high correlations and drop them"
   ]
  },
  {
   "cell_type": "code",
   "execution_count": 59,
   "metadata": {},
   "outputs": [
    {
     "data": {
      "text/html": [
       "<div>\n",
       "<style scoped>\n",
       "    .dataframe tbody tr th:only-of-type {\n",
       "        vertical-align: middle;\n",
       "    }\n",
       "\n",
       "    .dataframe tbody tr th {\n",
       "        vertical-align: top;\n",
       "    }\n",
       "\n",
       "    .dataframe thead th {\n",
       "        text-align: right;\n",
       "    }\n",
       "</style>\n",
       "<table border=\"1\" class=\"dataframe\">\n",
       "  <thead>\n",
       "    <tr style=\"text-align: right;\">\n",
       "      <th></th>\n",
       "      <th>Variable 1</th>\n",
       "      <th>Variable 2</th>\n",
       "      <th>Corr Coef</th>\n",
       "      <th>Abs Corr Coef</th>\n",
       "    </tr>\n",
       "  </thead>\n",
       "  <tbody>\n",
       "    <tr>\n",
       "      <th>0</th>\n",
       "      <td>brand</td>\n",
       "      <td>manufacturer</td>\n",
       "      <td>0.999720</td>\n",
       "      <td>0.999720</td>\n",
       "    </tr>\n",
       "    <tr>\n",
       "      <th>1</th>\n",
       "      <td>selling_cost</td>\n",
       "      <td>selling_price</td>\n",
       "      <td>0.989539</td>\n",
       "      <td>0.989539</td>\n",
       "    </tr>\n",
       "    <tr>\n",
       "      <th>2</th>\n",
       "      <td>inventory_id</td>\n",
       "      <td>sku</td>\n",
       "      <td>0.988895</td>\n",
       "      <td>0.988895</td>\n",
       "    </tr>\n",
       "    <tr>\n",
       "      <th>3</th>\n",
       "      <td>invoice_no</td>\n",
       "      <td>order_no</td>\n",
       "      <td>0.988130</td>\n",
       "      <td>0.988130</td>\n",
       "    </tr>\n",
       "    <tr>\n",
       "      <th>4</th>\n",
       "      <td>ext_model_family</td>\n",
       "      <td>model_family</td>\n",
       "      <td>0.983545</td>\n",
       "      <td>0.983545</td>\n",
       "    </tr>\n",
       "    <tr>\n",
       "      <th>5</th>\n",
       "      <td>channel</td>\n",
       "      <td>source_channel</td>\n",
       "      <td>0.967496</td>\n",
       "      <td>0.967496</td>\n",
       "    </tr>\n",
       "    <tr>\n",
       "      <th>6</th>\n",
       "      <td>condition</td>\n",
       "      <td>ext_grade</td>\n",
       "      <td>0.959041</td>\n",
       "      <td>0.959041</td>\n",
       "    </tr>\n",
       "    <tr>\n",
       "      <th>7</th>\n",
       "      <td>ext_model_family</td>\n",
       "      <td>tgt_enc_sim_impt_x2</td>\n",
       "      <td>0.949098</td>\n",
       "      <td>0.949098</td>\n",
       "    </tr>\n",
       "    <tr>\n",
       "      <th>8</th>\n",
       "      <td>model_family</td>\n",
       "      <td>tgt_enc_sim_impt_x2</td>\n",
       "      <td>0.947178</td>\n",
       "      <td>0.947178</td>\n",
       "    </tr>\n",
       "    <tr>\n",
       "      <th>9</th>\n",
       "      <td>inventory_id</td>\n",
       "      <td>model_family</td>\n",
       "      <td>0.924122</td>\n",
       "      <td>0.924122</td>\n",
       "    </tr>\n",
       "    <tr>\n",
       "      <th>10</th>\n",
       "      <td>model_family</td>\n",
       "      <td>sku</td>\n",
       "      <td>0.917067</td>\n",
       "      <td>0.917067</td>\n",
       "    </tr>\n",
       "    <tr>\n",
       "      <th>11</th>\n",
       "      <td>ext_model_family</td>\n",
       "      <td>inventory_id</td>\n",
       "      <td>0.909772</td>\n",
       "      <td>0.909772</td>\n",
       "    </tr>\n",
       "    <tr>\n",
       "      <th>12</th>\n",
       "      <td>ext_model_family</td>\n",
       "      <td>sku</td>\n",
       "      <td>0.902652</td>\n",
       "      <td>0.902652</td>\n",
       "    </tr>\n",
       "    <tr>\n",
       "      <th>13</th>\n",
       "      <td>inventory_id</td>\n",
       "      <td>tgt_enc_sim_impt_x2</td>\n",
       "      <td>0.894981</td>\n",
       "      <td>0.894981</td>\n",
       "    </tr>\n",
       "    <tr>\n",
       "      <th>14</th>\n",
       "      <td>quantity</td>\n",
       "      <td>selling_price</td>\n",
       "      <td>0.889678</td>\n",
       "      <td>0.889678</td>\n",
       "    </tr>\n",
       "    <tr>\n",
       "      <th>15</th>\n",
       "      <td>sku</td>\n",
       "      <td>tgt_enc_sim_impt_x2</td>\n",
       "      <td>0.885265</td>\n",
       "      <td>0.885265</td>\n",
       "    </tr>\n",
       "    <tr>\n",
       "      <th>16</th>\n",
       "      <td>quantity</td>\n",
       "      <td>selling_cost</td>\n",
       "      <td>0.871403</td>\n",
       "      <td>0.871403</td>\n",
       "    </tr>\n",
       "    <tr>\n",
       "      <th>17</th>\n",
       "      <td>inventory_id</td>\n",
       "      <td>unit_cost</td>\n",
       "      <td>0.859735</td>\n",
       "      <td>0.859735</td>\n",
       "    </tr>\n",
       "    <tr>\n",
       "      <th>18</th>\n",
       "      <td>model_family</td>\n",
       "      <td>unit_cost</td>\n",
       "      <td>0.858565</td>\n",
       "      <td>0.858565</td>\n",
       "    </tr>\n",
       "    <tr>\n",
       "      <th>19</th>\n",
       "      <td>sku</td>\n",
       "      <td>unit_cost</td>\n",
       "      <td>0.856862</td>\n",
       "      <td>0.856862</td>\n",
       "    </tr>\n",
       "    <tr>\n",
       "      <th>20</th>\n",
       "      <td>ext_model_family</td>\n",
       "      <td>unit_cost</td>\n",
       "      <td>0.853177</td>\n",
       "      <td>0.853177</td>\n",
       "    </tr>\n",
       "    <tr>\n",
       "      <th>21</th>\n",
       "      <td>tgt_enc_sim_impt_x2</td>\n",
       "      <td>unit_cost</td>\n",
       "      <td>0.824691</td>\n",
       "      <td>0.824691</td>\n",
       "    </tr>\n",
       "    <tr>\n",
       "      <th>22</th>\n",
       "      <td>memory_size</td>\n",
       "      <td>model_family</td>\n",
       "      <td>0.636147</td>\n",
       "      <td>0.636147</td>\n",
       "    </tr>\n",
       "  </tbody>\n",
       "</table>\n",
       "</div>"
      ],
      "text/plain": [
       "             Variable 1           Variable 2  Corr Coef  Abs Corr Coef\n",
       "0                 brand         manufacturer   0.999720       0.999720\n",
       "1          selling_cost        selling_price   0.989539       0.989539\n",
       "2          inventory_id                  sku   0.988895       0.988895\n",
       "3            invoice_no             order_no   0.988130       0.988130\n",
       "4      ext_model_family         model_family   0.983545       0.983545\n",
       "5               channel       source_channel   0.967496       0.967496\n",
       "6             condition            ext_grade   0.959041       0.959041\n",
       "7      ext_model_family  tgt_enc_sim_impt_x2   0.949098       0.949098\n",
       "8          model_family  tgt_enc_sim_impt_x2   0.947178       0.947178\n",
       "9          inventory_id         model_family   0.924122       0.924122\n",
       "10         model_family                  sku   0.917067       0.917067\n",
       "11     ext_model_family         inventory_id   0.909772       0.909772\n",
       "12     ext_model_family                  sku   0.902652       0.902652\n",
       "13         inventory_id  tgt_enc_sim_impt_x2   0.894981       0.894981\n",
       "14             quantity        selling_price   0.889678       0.889678\n",
       "15                  sku  tgt_enc_sim_impt_x2   0.885265       0.885265\n",
       "16             quantity         selling_cost   0.871403       0.871403\n",
       "17         inventory_id            unit_cost   0.859735       0.859735\n",
       "18         model_family            unit_cost   0.858565       0.858565\n",
       "19                  sku            unit_cost   0.856862       0.856862\n",
       "20     ext_model_family            unit_cost   0.853177       0.853177\n",
       "21  tgt_enc_sim_impt_x2            unit_cost   0.824691       0.824691\n",
       "22          memory_size         model_family   0.636147       0.636147"
      ]
     },
     "execution_count": 59,
     "metadata": {},
     "output_type": "execute_result"
    }
   ],
   "source": [
    "out = eda.get_correlation_table(train_X)\n",
    "out[out[\"Abs Corr Coef\"] > 0.6]"
   ]
  },
  {
   "cell_type": "code",
   "execution_count": 60,
   "metadata": {},
   "outputs": [
    {
     "data": {
      "text/html": [
       "<div>\n",
       "<style scoped>\n",
       "    .dataframe tbody tr th:only-of-type {\n",
       "        vertical-align: middle;\n",
       "    }\n",
       "\n",
       "    .dataframe tbody tr th {\n",
       "        vertical-align: top;\n",
       "    }\n",
       "\n",
       "    .dataframe thead th {\n",
       "        text-align: right;\n",
       "    }\n",
       "</style>\n",
       "<table border=\"1\" class=\"dataframe\">\n",
       "  <thead>\n",
       "    <tr style=\"text-align: right;\">\n",
       "      <th></th>\n",
       "      <th>Variable 1</th>\n",
       "      <th>Variable 2</th>\n",
       "      <th>Corr Coef</th>\n",
       "      <th>Abs Corr Coef</th>\n",
       "    </tr>\n",
       "  </thead>\n",
       "  <tbody>\n",
       "    <tr>\n",
       "      <th>0</th>\n",
       "      <td>model_family</td>\n",
       "      <td>tgt_enc_sim_impt_x2</td>\n",
       "      <td>0.947178</td>\n",
       "      <td>0.947178</td>\n",
       "    </tr>\n",
       "    <tr>\n",
       "      <th>1</th>\n",
       "      <td>model_family</td>\n",
       "      <td>sku</td>\n",
       "      <td>0.917067</td>\n",
       "      <td>0.917067</td>\n",
       "    </tr>\n",
       "    <tr>\n",
       "      <th>2</th>\n",
       "      <td>sku</td>\n",
       "      <td>tgt_enc_sim_impt_x2</td>\n",
       "      <td>0.885265</td>\n",
       "      <td>0.885265</td>\n",
       "    </tr>\n",
       "    <tr>\n",
       "      <th>3</th>\n",
       "      <td>model_family</td>\n",
       "      <td>unit_cost</td>\n",
       "      <td>0.858565</td>\n",
       "      <td>0.858565</td>\n",
       "    </tr>\n",
       "    <tr>\n",
       "      <th>4</th>\n",
       "      <td>sku</td>\n",
       "      <td>unit_cost</td>\n",
       "      <td>0.856862</td>\n",
       "      <td>0.856862</td>\n",
       "    </tr>\n",
       "    <tr>\n",
       "      <th>5</th>\n",
       "      <td>tgt_enc_sim_impt_x2</td>\n",
       "      <td>unit_cost</td>\n",
       "      <td>0.824691</td>\n",
       "      <td>0.824691</td>\n",
       "    </tr>\n",
       "    <tr>\n",
       "      <th>6</th>\n",
       "      <td>memory_size</td>\n",
       "      <td>model_family</td>\n",
       "      <td>0.636147</td>\n",
       "      <td>0.636147</td>\n",
       "    </tr>\n",
       "  </tbody>\n",
       "</table>\n",
       "</div>"
      ],
      "text/plain": [
       "            Variable 1           Variable 2  Corr Coef  Abs Corr Coef\n",
       "0         model_family  tgt_enc_sim_impt_x2   0.947178       0.947178\n",
       "1         model_family                  sku   0.917067       0.917067\n",
       "2                  sku  tgt_enc_sim_impt_x2   0.885265       0.885265\n",
       "3         model_family            unit_cost   0.858565       0.858565\n",
       "4                  sku            unit_cost   0.856862       0.856862\n",
       "5  tgt_enc_sim_impt_x2            unit_cost   0.824691       0.824691\n",
       "6          memory_size         model_family   0.636147       0.636147"
      ]
     },
     "execution_count": 60,
     "metadata": {},
     "output_type": "execute_result"
    }
   ],
   "source": [
    "# channel and source_channel highly correlated. So discarding source_channel\n",
    "# brand and manufacturer are almost same so discarding manufacturer.\n",
    "# Similarly keeping sku between inventory and sku\n",
    "# Similarly keeping condition between conditions and ext_grade\n",
    "# Similarly keeping model_family between platforms, ext_model_family and model_family\n",
    "# Discarding selling price & selling cost as they are multiples of unit price/cost & quantity.\n",
    "# Discarding gp as it is the of selling price and selling cost\n",
    "# order_no, line, invoice_no & customername cannot be IDVs\n",
    "curated_columns = list(\n",
    "    set(train_X.columns.to_list())\n",
    "    - set(['manufacturer', 'inventory_id', 'ext_grade', 'source_channel',\n",
    "           'tgt_enc_iter_impt_platforms', 'ext_model_family',\n",
    "           'order_no', 'line', 'inventory_id',\n",
    "           'gp', 'selling_price', 'selling_cost','invoice_no','customername'])\n",
    ")\n",
    "\n",
    "train_X = train_X[curated_columns]\n",
    "\n",
    "out = eda.get_correlation_table(train_X)\n",
    "out[out[\"Abs Corr Coef\"] > 0.6]"
   ]
  },
  {
   "cell_type": "code",
   "execution_count": 61,
   "metadata": {},
   "outputs": [
    {
     "data": {},
     "metadata": {},
     "output_type": "display_data"
    },
    {
     "data": {
      "application/vnd.holoviews_exec.v0+json": "",
      "text/html": [
       "<div id='112441'>\n",
       "  <div class=\"bk-root\" id=\"9ee2d3d8-e0f6-4542-883c-3b67af35087f\" data-root-id=\"112441\"></div>\n",
       "</div>\n",
       "<script type=\"application/javascript\">(function(root) {\n",
       "  function embed_document(root) {\n",
       "    var docs_json = {\"fccde24d-532c-4979-87e7-f36902bd2c35\":{\"defs\":[{\"extends\":null,\"module\":null,\"name\":\"ReactiveHTML1\",\"overrides\":[],\"properties\":[]},{\"extends\":null,\"module\":null,\"name\":\"FlexBox1\",\"overrides\":[],\"properties\":[{\"default\":\"flex-start\",\"kind\":null,\"name\":\"align_content\"},{\"default\":\"flex-start\",\"kind\":null,\"name\":\"align_items\"},{\"default\":\"row\",\"kind\":null,\"name\":\"flex_direction\"},{\"default\":\"wrap\",\"kind\":null,\"name\":\"flex_wrap\"},{\"default\":\"flex-start\",\"kind\":null,\"name\":\"justify_content\"}]},{\"extends\":null,\"module\":null,\"name\":\"GridStack1\",\"overrides\":[],\"properties\":[{\"default\":\"warn\",\"kind\":null,\"name\":\"mode\"},{\"default\":null,\"kind\":null,\"name\":\"ncols\"},{\"default\":null,\"kind\":null,\"name\":\"nrows\"},{\"default\":true,\"kind\":null,\"name\":\"allow_resize\"},{\"default\":true,\"kind\":null,\"name\":\"allow_drag\"},{\"default\":[],\"kind\":null,\"name\":\"state\"}]},{\"extends\":null,\"module\":null,\"name\":\"click1\",\"overrides\":[],\"properties\":[{\"default\":\"\",\"kind\":null,\"name\":\"terminal_output\"},{\"default\":\"\",\"kind\":null,\"name\":\"debug_name\"},{\"default\":0,\"kind\":null,\"name\":\"clears\"}]},{\"extends\":null,\"module\":null,\"name\":\"NotificationAreaBase1\",\"overrides\":[],\"properties\":[{\"default\":\"bottom-right\",\"kind\":null,\"name\":\"position\"},{\"default\":0,\"kind\":null,\"name\":\"_clear\"}]},{\"extends\":null,\"module\":null,\"name\":\"NotificationArea1\",\"overrides\":[],\"properties\":[{\"default\":[],\"kind\":null,\"name\":\"notifications\"},{\"default\":\"bottom-right\",\"kind\":null,\"name\":\"position\"},{\"default\":0,\"kind\":null,\"name\":\"_clear\"},{\"default\":[{\"background\":\"#ffc107\",\"icon\":{\"className\":\"fas fa-exclamation-triangle\",\"color\":\"white\",\"tagName\":\"i\"},\"type\":\"warning\"},{\"background\":\"#007bff\",\"icon\":{\"className\":\"fas fa-info-circle\",\"color\":\"white\",\"tagName\":\"i\"},\"type\":\"info\"}],\"kind\":null,\"name\":\"types\"}]},{\"extends\":null,\"module\":null,\"name\":\"Notification\",\"overrides\":[],\"properties\":[{\"default\":null,\"kind\":null,\"name\":\"background\"},{\"default\":3000,\"kind\":null,\"name\":\"duration\"},{\"default\":null,\"kind\":null,\"name\":\"icon\"},{\"default\":\"\",\"kind\":null,\"name\":\"message\"},{\"default\":null,\"kind\":null,\"name\":\"notification_type\"},{\"default\":false,\"kind\":null,\"name\":\"_destroyed\"}]},{\"extends\":null,\"module\":null,\"name\":\"TemplateActions1\",\"overrides\":[],\"properties\":[{\"default\":0,\"kind\":null,\"name\":\"open_modal\"},{\"default\":0,\"kind\":null,\"name\":\"close_modal\"}]},{\"extends\":null,\"module\":null,\"name\":\"MaterialTemplateActions1\",\"overrides\":[],\"properties\":[{\"default\":0,\"kind\":null,\"name\":\"open_modal\"},{\"default\":0,\"kind\":null,\"name\":\"close_modal\"}]}],\"roots\":{\"references\":[{\"attributes\":{\"aspect_scale\":3.963378582216073,\"fill_alpha\":{\"value\":0.1},\"fill_color\":{\"field\":\"Count\",\"transform\":{\"id\":\"112476\"}},\"hatch_alpha\":{\"value\":0.1},\"hatch_color\":{\"field\":\"Count\",\"transform\":{\"id\":\"112476\"}},\"line_alpha\":{\"value\":0.1},\"line_color\":{\"field\":\"Count\",\"transform\":{\"id\":\"112476\"}},\"q\":{\"field\":\"q\"},\"r\":{\"field\":\"r\"},\"size\":6.580370361306615},\"id\":\"112481\",\"type\":\"HexTile\"},{\"attributes\":{\"coordinates\":null,\"group\":null,\"text\":\"Correlation: 0.198\",\"text_color\":\"black\",\"text_font_size\":\"12pt\"},\"id\":\"112447\",\"type\":\"Title\"},{\"attributes\":{\"below\":[{\"id\":\"112455\"}],\"center\":[{\"id\":\"112458\"},{\"id\":\"112462\"}],\"height\":300,\"left\":[{\"id\":\"112459\"}],\"margin\":[5,5,5,5],\"min_border_bottom\":10,\"min_border_left\":10,\"min_border_right\":10,\"min_border_top\":10,\"renderers\":[{\"id\":\"112483\"}],\"right\":[{\"id\":\"112486\"}],\"sizing_mode\":\"fixed\",\"title\":{\"id\":\"112447\"},\"toolbar\":{\"id\":\"112469\"},\"x_range\":{\"id\":\"112443\"},\"x_scale\":{\"id\":\"112451\"},\"y_range\":{\"id\":\"112444\"},\"y_scale\":{\"id\":\"112453\"}},\"id\":\"112446\",\"subtype\":\"Figure\",\"type\":\"Plot\"},{\"attributes\":{\"data\":{\"Count\":[46541,23566,8479,17548,28115,2557,532,391,1680,1647,1016,665,60,375,2096,719,352,742,257,867,45,111,83,412,117,236,20,1,162,7,90,26,19,73,36,20,15,27,29,2,1,1,12,6,2,15,12,2,10,8,1,2,3,2,2,7,1,3,3,1,3,2,1,3,2,3,1,1,1],\"q\":[55,56,51,53,56,63,11,33,35,54,53,37,10,34,58,50,7,52,52,54,25,24,33,26,41,13,41,50,32,7,31,34,9,28,57,12,10,74,74,18,16,19,31,13,20,24,14,11,14,12,7,23,38,8,14,9,23,6,8,15,19,12,10,44,15,37,13,22,10],\"r\":[-14,-16,-6,-10,-15,-29,-10,-6,-11,-12,-9,-15,-11,-8,-20,-3,-2,-8,-7,-11,-8,-6,-7,-11,-22,-15,-23,-4,-5,-3,-2,-9,-8,-15,-18,-12,-8,-52,-51,-15,-10,-8,-3,-14,-29,-7,-16,-11,-15,-15,-4,-11,-16,-6,-6,-6,-15,-3,-3,-8,-16,-3,-10,-29,-20,-14,-16,-3,-9]},\"selected\":{\"id\":\"112478\"},\"selection_policy\":{\"id\":\"112502\"}},\"id\":\"112477\",\"type\":\"ColumnDataSource\"},{\"attributes\":{\"children\":[{\"id\":\"112442\"},{\"id\":\"112446\"},{\"id\":\"112505\"}],\"margin\":[0,0,0,0],\"name\":\"Row261870\",\"tags\":[\"embedded\"]},\"id\":\"112441\",\"type\":\"Row\"},{\"attributes\":{\"axis\":{\"id\":\"112455\"},\"coordinates\":null,\"grid_line_color\":null,\"group\":null,\"ticker\":null},\"id\":\"112458\",\"type\":\"Grid\"},{\"attributes\":{},\"id\":\"112490\",\"type\":\"AllLabels\"},{\"attributes\":{\"axis_label\":\"color\",\"coordinates\":null,\"formatter\":{\"id\":\"112492\"},\"group\":null,\"major_label_policy\":{\"id\":\"112493\"},\"ticker\":{\"id\":\"112460\"}},\"id\":\"112459\",\"type\":\"LinearAxis\"},{\"attributes\":{},\"id\":\"112456\",\"type\":\"BasicTicker\"},{\"attributes\":{},\"id\":\"112463\",\"type\":\"SaveTool\"},{\"attributes\":{\"axis\":{\"id\":\"112459\"},\"coordinates\":null,\"dimension\":1,\"grid_line_color\":null,\"group\":null,\"ticker\":null},\"id\":\"112462\",\"type\":\"Grid\"},{\"attributes\":{},\"id\":\"112485\",\"type\":\"BasicTicker\"},{\"attributes\":{},\"id\":\"112498\",\"type\":\"NoOverlap\"},{\"attributes\":{\"end\":138.12816902184844,\"reset_end\":138.12816902184844,\"reset_start\":13.606181818181817,\"start\":13.606181818181817,\"tags\":[[[\"brand\",\"brand\",null]]]},\"id\":\"112443\",\"type\":\"Range1d\"},{\"attributes\":{\"axis_label\":\"brand\",\"coordinates\":null,\"formatter\":{\"id\":\"112489\"},\"group\":null,\"major_label_policy\":{\"id\":\"112490\"},\"ticker\":{\"id\":\"112456\"}},\"id\":\"112455\",\"type\":\"LinearAxis\"},{\"attributes\":{\"bar_line_color\":\"black\",\"color_mapper\":{\"id\":\"112476\"},\"coordinates\":null,\"group\":null,\"label_standoff\":8,\"location\":[0,0],\"major_label_policy\":{\"id\":\"112498\"},\"major_tick_line_color\":\"black\",\"ticker\":{\"id\":\"112485\"}},\"id\":\"112486\",\"type\":\"ColorBar\"},{\"attributes\":{},\"id\":\"112489\",\"type\":\"BasicTickFormatter\"},{\"attributes\":{\"aspect_scale\":3.963378582216073,\"fill_color\":{\"field\":\"Count\",\"transform\":{\"id\":\"112476\"}},\"hatch_color\":{\"field\":\"Count\",\"transform\":{\"id\":\"112476\"}},\"line_color\":{\"field\":\"Count\",\"transform\":{\"id\":\"112476\"}},\"q\":{\"field\":\"q\"},\"r\":{\"field\":\"r\"},\"size\":6.580370361306615},\"id\":\"112480\",\"type\":\"HexTile\"},{\"attributes\":{\"aspect_scale\":3.963378582216073,\"fill_alpha\":{\"value\":0.2},\"fill_color\":{\"field\":\"Count\",\"transform\":{\"id\":\"112476\"}},\"hatch_alpha\":{\"value\":0.2},\"hatch_color\":{\"field\":\"Count\",\"transform\":{\"id\":\"112476\"}},\"line_alpha\":{\"value\":0.2},\"line_color\":{\"field\":\"Count\",\"transform\":{\"id\":\"112476\"}},\"q\":{\"field\":\"q\"},\"r\":{\"field\":\"r\"},\"size\":6.580370361306615},\"id\":\"112482\",\"type\":\"HexTile\"},{\"attributes\":{\"coordinates\":null,\"data_source\":{\"id\":\"112477\"},\"glyph\":{\"id\":\"112480\"},\"group\":null,\"hover_glyph\":null,\"muted_glyph\":{\"id\":\"112482\"},\"nonselection_glyph\":{\"id\":\"112481\"},\"selection_glyph\":{\"id\":\"112487\"},\"view\":{\"id\":\"112484\"}},\"id\":\"112483\",\"type\":\"GlyphRenderer\"},{\"attributes\":{\"high\":46541,\"low\":1,\"palette\":[\"#b3fef5\",\"#b0fef5\",\"#adfdf5\",\"#a9fcf5\",\"#a6fbf6\",\"#a3faf6\",\"#a0faf6\",\"#9df9f6\",\"#9af8f6\",\"#97f7f6\",\"#93f7f6\",\"#90f6f6\",\"#8df5f6\",\"#8af4f7\",\"#87f3f7\",\"#83f2f7\",\"#80f2f7\",\"#7df1f7\",\"#79f0f7\",\"#76eff7\",\"#73eef7\",\"#6fedf8\",\"#6cecf8\",\"#68ecf8\",\"#65ebf8\",\"#61eaf8\",\"#5ee9f8\",\"#5ae8f8\",\"#57e7f8\",\"#53e6f8\",\"#50e5f9\",\"#4ce4f9\",\"#49e3f9\",\"#45e2f9\",\"#42e1f9\",\"#3ee0f9\",\"#3bdff9\",\"#38def9\",\"#35ddf9\",\"#32dcf9\",\"#30dbfa\",\"#2ed9fa\",\"#2dd8fa\",\"#2cd7fa\",\"#2bd6fa\",\"#2bd5fa\",\"#2ad3fa\",\"#2ad2fa\",\"#29d1fa\",\"#29d0fb\",\"#29cffb\",\"#28cdfb\",\"#28ccfb\",\"#28cbfb\",\"#28cafb\",\"#28c8fb\",\"#28c7fb\",\"#29c6fb\",\"#29c5fb\",\"#29c4fb\",\"#29c2fb\",\"#2ac1fb\",\"#2ac0fb\",\"#2bbffb\",\"#2bbdfc\",\"#2cbcfc\",\"#2dbbfc\",\"#2db9fc\",\"#2eb8fc\",\"#2fb7fc\",\"#2fb6fc\",\"#30b4fc\",\"#31b3fc\",\"#32b2fc\",\"#32b0fc\",\"#33affc\",\"#33aefc\",\"#34adfc\",\"#34abfc\",\"#34aafc\",\"#35a9fc\",\"#35a8fc\",\"#35a6fc\",\"#35a5fc\",\"#35a4fc\",\"#35a3fc\",\"#35a1fc\",\"#35a0fc\",\"#359ffc\",\"#359dfc\",\"#359cfc\",\"#359bfc\",\"#349afd\",\"#3498fd\",\"#3497fd\",\"#3396fd\",\"#3395fd\",\"#3293fd\",\"#3292fd\",\"#3191fd\",\"#3090fd\",\"#308ffd\",\"#2f8dfd\",\"#2f8cfd\",\"#2e8bfd\",\"#2e8afd\",\"#2d88fd\",\"#2d87fd\",\"#2c86fd\",\"#2c84fd\",\"#2c83fd\",\"#2c82fd\",\"#2b81fd\",\"#2b7ffd\",\"#2b7efd\",\"#2b7dfd\",\"#2b7bfd\",\"#2b7afd\",\"#2b79fd\",\"#2b77fd\",\"#2b76fd\",\"#2b75fd\",\"#2b73fd\",\"#2c72fd\",\"#2c71fd\",\"#2c6ffd\",\"#2c6efd\",\"#2d6cfd\",\"#2d6bfd\",\"#2d6afc\",\"#2e68fc\",\"#2e67fc\",\"#2e65fc\",\"#2e64fc\",\"#2f62fc\",\"#2f61fc\",\"#2f5ffc\",\"#2f5efc\",\"#2f5dfc\",\"#2f5bfc\",\"#2f5afc\",\"#2f58fb\",\"#2f57fb\",\"#2f55fb\",\"#2f53fb\",\"#2f52fb\",\"#2f50fb\",\"#2f4ffb\",\"#2f4dfb\",\"#2e4cfb\",\"#2e4afb\",\"#2e48fb\",\"#2e47fa\",\"#2d45fa\",\"#2d43fa\",\"#2d42fa\",\"#2d40fa\",\"#2c3efa\",\"#2c3dfa\",\"#2b3bf9\",\"#2b39f9\",\"#2a37f9\",\"#2a36f8\",\"#2934f8\",\"#2832f7\",\"#2831f7\",\"#272ff6\",\"#262ef5\",\"#252cf5\",\"#252af4\",\"#2429f3\",\"#2327f2\",\"#2226f1\",\"#2124f0\",\"#2023ef\",\"#1f22ee\",\"#1e20ed\",\"#1d1feb\",\"#1c1eea\",\"#1b1ce9\",\"#1a1be7\",\"#181ae6\",\"#1719e5\",\"#1618e3\",\"#1417e1\",\"#1316e0\",\"#1215de\",\"#1014dc\",\"#0f13db\",\"#0e12d9\",\"#0d11d7\",\"#0c10d5\",\"#0b0fd3\",\"#0a0ed1\",\"#090dd0\",\"#080dce\",\"#080ccc\",\"#070bca\",\"#070ac8\",\"#0709c6\",\"#0708c4\",\"#0707c2\",\"#0707bf\",\"#0806bd\",\"#0806bb\",\"#0905b9\",\"#0904b7\",\"#0a04b5\",\"#0a04b2\",\"#0b03b0\",\"#0c03ae\",\"#0d02ab\",\"#0e02a9\",\"#0e02a7\",\"#0f02a4\",\"#0f01a2\",\"#1001a0\",\"#10019d\",\"#10019b\",\"#100199\",\"#100197\",\"#100194\",\"#0f0192\",\"#0f0190\",\"#0f018e\",\"#0e018b\",\"#0e0189\",\"#0d0187\",\"#0d0185\",\"#0c0183\",\"#0b0181\",\"#0b017e\",\"#0a017c\",\"#09017a\",\"#090178\",\"#080276\",\"#070274\",\"#060272\",\"#060270\",\"#05026e\",\"#04026c\",\"#030269\",\"#030267\",\"#020265\",\"#010263\",\"#010261\",\"#00025f\",\"#00025d\",\"#00025b\",\"#000259\",\"#000257\",\"#000255\",\"#000154\",\"#000152\",\"#000150\",\"#00004e\"]},\"id\":\"112476\",\"type\":\"LinearColorMapper\"},{\"attributes\":{},\"id\":\"112502\",\"type\":\"UnionRenderers\"},{\"attributes\":{\"source\":{\"id\":\"112477\"}},\"id\":\"112484\",\"type\":\"CDSView\"},{\"attributes\":{\"margin\":[5,5,5,5],\"name\":\"HSpacer261875\",\"sizing_mode\":\"stretch_width\"},\"id\":\"112505\",\"type\":\"Spacer\"},{\"attributes\":{},\"id\":\"112478\",\"type\":\"Selection\"},{\"attributes\":{\"overlay\":{\"id\":\"112468\"}},\"id\":\"112466\",\"type\":\"BoxZoomTool\"},{\"attributes\":{},\"id\":\"112493\",\"type\":\"AllLabels\"},{\"attributes\":{\"margin\":[5,5,5,5],\"name\":\"HSpacer261874\",\"sizing_mode\":\"stretch_width\"},\"id\":\"112442\",\"type\":\"Spacer\"},{\"attributes\":{\"aspect_scale\":3.963378582216073,\"fill_alpha\":{\"value\":1.0},\"fill_color\":{\"field\":\"Count\",\"transform\":{\"id\":\"112476\"}},\"hatch_alpha\":{\"value\":1.0},\"hatch_color\":{\"field\":\"Count\",\"transform\":{\"id\":\"112476\"}},\"hatch_scale\":{\"value\":12.0},\"hatch_weight\":{\"value\":1.0},\"line_alpha\":{\"value\":1.0},\"line_cap\":{\"value\":\"butt\"},\"line_color\":{\"field\":\"Count\",\"transform\":{\"id\":\"112476\"}},\"line_dash\":{\"value\":[]},\"line_dash_offset\":{\"value\":0},\"line_join\":{\"value\":\"bevel\"},\"line_width\":{\"value\":1},\"q\":{\"field\":\"q\"},\"r\":{\"field\":\"r\"},\"scale\":{\"value\":1.0},\"size\":6.580370361306615},\"id\":\"112487\",\"type\":\"HexTile\"},{\"attributes\":{},\"id\":\"112453\",\"type\":\"LinearScale\"},{\"attributes\":{\"callback\":null,\"renderers\":[{\"id\":\"112483\"}],\"tags\":[\"hv_created\"],\"tooltips\":[[\"Count\",\"@{Count}\"]]},\"id\":\"112445\",\"type\":\"HoverTool\"},{\"attributes\":{\"end\":557.130555485674,\"reset_end\":557.130555485674,\"reset_start\":-35.10277703192141,\"start\":-35.10277703192141,\"tags\":[[[\"color\",\"color\",null]]]},\"id\":\"112444\",\"type\":\"Range1d\"},{\"attributes\":{\"bottom_units\":\"screen\",\"coordinates\":null,\"fill_alpha\":0.5,\"fill_color\":\"lightgrey\",\"group\":null,\"left_units\":\"screen\",\"level\":\"overlay\",\"line_alpha\":1.0,\"line_color\":\"black\",\"line_dash\":[4,4],\"line_width\":2,\"right_units\":\"screen\",\"syncable\":false,\"top_units\":\"screen\"},\"id\":\"112468\",\"type\":\"BoxAnnotation\"},{\"attributes\":{},\"id\":\"112451\",\"type\":\"LinearScale\"},{\"attributes\":{},\"id\":\"112464\",\"type\":\"PanTool\"},{\"attributes\":{\"tools\":[{\"id\":\"112445\"},{\"id\":\"112463\"},{\"id\":\"112464\"},{\"id\":\"112465\"},{\"id\":\"112466\"},{\"id\":\"112467\"}]},\"id\":\"112469\",\"type\":\"Toolbar\"},{\"attributes\":{},\"id\":\"112467\",\"type\":\"ResetTool\"},{\"attributes\":{},\"id\":\"112492\",\"type\":\"BasicTickFormatter\"},{\"attributes\":{},\"id\":\"112465\",\"type\":\"WheelZoomTool\"},{\"attributes\":{},\"id\":\"112460\",\"type\":\"BasicTicker\"}],\"root_ids\":[\"112441\"]},\"title\":\"Bokeh Application\",\"version\":\"2.4.3\"}};\n",
       "    var render_items = [{\"docid\":\"fccde24d-532c-4979-87e7-f36902bd2c35\",\"root_ids\":[\"112441\"],\"roots\":{\"112441\":\"9ee2d3d8-e0f6-4542-883c-3b67af35087f\"}}];\n",
       "    root.Bokeh.embed.embed_items_notebook(docs_json, render_items);\n",
       "  }\n",
       "  if (root.Bokeh !== undefined && root.Bokeh.Panel !== undefined) {\n",
       "    embed_document(root);\n",
       "  } else {\n",
       "    var attempts = 0;\n",
       "    var timer = setInterval(function(root) {\n",
       "      if (root.Bokeh !== undefined && root.Bokeh.Panel !== undefined) {\n",
       "        clearInterval(timer);\n",
       "        embed_document(root);\n",
       "      } else if (document.readyState == \"complete\") {\n",
       "        attempts++;\n",
       "        if (attempts > 200) {\n",
       "          clearInterval(timer);\n",
       "          console.log(\"Bokeh: ERROR: Unable to run BokehJS code because BokehJS library is missing\");\n",
       "        }\n",
       "      }\n",
       "    }, 25, root)\n",
       "  }\n",
       "})(window);</script>"
      ],
      "text/plain": [
       ":HexTiles   [brand,color]"
      ]
     },
     "execution_count": 61,
     "metadata": {
      "application/vnd.holoviews_exec.v0+json": {
       "id": "112441"
      }
     },
     "output_type": "execute_result"
    }
   ],
   "source": [
    "out = eda.get_bivariate_plots(train_X, x_cols=['brand'], y_cols=['color'])\n",
    "out"
   ]
  },
  {
   "cell_type": "code",
   "execution_count": 62,
   "metadata": {},
   "outputs": [
    {
     "name": "stdout",
     "output_type": "stream",
     "text": [
      "CPU times: user 36.4 s, sys: 5.91 s, total: 42.3 s\n",
      "Wall time: 42.3 s\n"
     ]
    }
   ],
   "source": [
    "%%time\n",
    "# create reports as needed\n",
    "cols = train_X.columns.to_list()\n",
    "all_plots = {}\n",
    "for ii, col1 in enumerate(cols):\n",
    "    for jj in range(ii+1, len(cols)):\n",
    "        col2 = cols[jj]\n",
    "        out = eda.get_bivariate_plots(train_X, x_cols=[col1], y_cols=[col2])\n",
    "        all_plots.update({f'{col2} vs {col1}': out})\n",
    "\n",
    "reports.create_report(all_plots, name='reports/feature_analysis_bivariate')"
   ]
  },
  {
   "attachments": {},
   "cell_type": "markdown",
   "metadata": {},
   "source": [
    "A report containing the bivariate plot is available [here](https://drive.google.com/file/d/1WSGT3586tY-rOmZ57xGILbmL5ll9cSVT/view?usp=sharing)\n",
    "\n",
    "Alternatively, the above plots can be generated as a single html as below. The output from this is available [here](https://drive.google.com/file/d/1A2fz_bjYv8I3iaFDT75JQSDKeJEXxCtp/view?usp=sharing)"
   ]
  },
  {
   "cell_type": "code",
   "execution_count": 63,
   "metadata": {},
   "outputs": [],
   "source": [
    "reports.feature_interactions(train_X,'reports/feature_interaction_report.html')"
   ]
  },
  {
   "attachments": {},
   "cell_type": "markdown",
   "metadata": {},
   "source": [
    "### 3.2.3 Key Drivers - Interaction with Target variable"
   ]
  },
  {
   "cell_type": "code",
   "execution_count": 64,
   "metadata": {},
   "outputs": [
    {
     "data": {},
     "metadata": {},
     "output_type": "display_data"
    },
    {
     "data": {},
     "metadata": {},
     "output_type": "display_data"
    },
    {
     "data": {
      "application/vnd.holoviews_exec.v0+json": "",
      "text/html": [
       "<div id='134635'>\n",
       "  <div class=\"bk-root\" id=\"7e9a542c-5329-4267-9db2-a0de5358994a\" data-root-id=\"134635\"></div>\n",
       "</div>\n",
       "<script type=\"application/javascript\">(function(root) {\n",
       "  function embed_document(root) {\n",
       "    var docs_json = {\"d22358e6-bda9-4c49-9f5a-3bb4fba99fd0\":{\"defs\":[{\"extends\":null,\"module\":null,\"name\":\"ReactiveHTML1\",\"overrides\":[],\"properties\":[]},{\"extends\":null,\"module\":null,\"name\":\"FlexBox1\",\"overrides\":[],\"properties\":[{\"default\":\"flex-start\",\"kind\":null,\"name\":\"align_content\"},{\"default\":\"flex-start\",\"kind\":null,\"name\":\"align_items\"},{\"default\":\"row\",\"kind\":null,\"name\":\"flex_direction\"},{\"default\":\"wrap\",\"kind\":null,\"name\":\"flex_wrap\"},{\"default\":\"flex-start\",\"kind\":null,\"name\":\"justify_content\"}]},{\"extends\":null,\"module\":null,\"name\":\"GridStack1\",\"overrides\":[],\"properties\":[{\"default\":\"warn\",\"kind\":null,\"name\":\"mode\"},{\"default\":null,\"kind\":null,\"name\":\"ncols\"},{\"default\":null,\"kind\":null,\"name\":\"nrows\"},{\"default\":true,\"kind\":null,\"name\":\"allow_resize\"},{\"default\":true,\"kind\":null,\"name\":\"allow_drag\"},{\"default\":[],\"kind\":null,\"name\":\"state\"}]},{\"extends\":null,\"module\":null,\"name\":\"click1\",\"overrides\":[],\"properties\":[{\"default\":\"\",\"kind\":null,\"name\":\"terminal_output\"},{\"default\":\"\",\"kind\":null,\"name\":\"debug_name\"},{\"default\":0,\"kind\":null,\"name\":\"clears\"}]},{\"extends\":null,\"module\":null,\"name\":\"NotificationAreaBase1\",\"overrides\":[],\"properties\":[{\"default\":\"bottom-right\",\"kind\":null,\"name\":\"position\"},{\"default\":0,\"kind\":null,\"name\":\"_clear\"}]},{\"extends\":null,\"module\":null,\"name\":\"NotificationArea1\",\"overrides\":[],\"properties\":[{\"default\":[],\"kind\":null,\"name\":\"notifications\"},{\"default\":\"bottom-right\",\"kind\":null,\"name\":\"position\"},{\"default\":0,\"kind\":null,\"name\":\"_clear\"},{\"default\":[{\"background\":\"#ffc107\",\"icon\":{\"className\":\"fas fa-exclamation-triangle\",\"color\":\"white\",\"tagName\":\"i\"},\"type\":\"warning\"},{\"background\":\"#007bff\",\"icon\":{\"className\":\"fas fa-info-circle\",\"color\":\"white\",\"tagName\":\"i\"},\"type\":\"info\"}],\"kind\":null,\"name\":\"types\"}]},{\"extends\":null,\"module\":null,\"name\":\"Notification\",\"overrides\":[],\"properties\":[{\"default\":null,\"kind\":null,\"name\":\"background\"},{\"default\":3000,\"kind\":null,\"name\":\"duration\"},{\"default\":null,\"kind\":null,\"name\":\"icon\"},{\"default\":\"\",\"kind\":null,\"name\":\"message\"},{\"default\":null,\"kind\":null,\"name\":\"notification_type\"},{\"default\":false,\"kind\":null,\"name\":\"_destroyed\"}]},{\"extends\":null,\"module\":null,\"name\":\"TemplateActions1\",\"overrides\":[],\"properties\":[{\"default\":0,\"kind\":null,\"name\":\"open_modal\"},{\"default\":0,\"kind\":null,\"name\":\"close_modal\"}]},{\"extends\":null,\"module\":null,\"name\":\"MaterialTemplateActions1\",\"overrides\":[],\"properties\":[{\"default\":0,\"kind\":null,\"name\":\"open_modal\"},{\"default\":0,\"kind\":null,\"name\":\"close_modal\"}]}],\"roots\":{\"references\":[{\"attributes\":{\"bottom_units\":\"screen\",\"coordinates\":null,\"fill_alpha\":0.5,\"fill_color\":\"lightgrey\",\"group\":null,\"left_units\":\"screen\",\"level\":\"overlay\",\"line_alpha\":1.0,\"line_color\":\"black\",\"line_dash\":[4,4],\"line_width\":2,\"right_units\":\"screen\",\"syncable\":false,\"top_units\":\"screen\"},\"id\":\"134660\",\"type\":\"BoxAnnotation\"},{\"attributes\":{\"tools\":[{\"id\":\"134638\"},{\"id\":\"134655\"},{\"id\":\"134656\"},{\"id\":\"134657\"},{\"id\":\"134658\"},{\"id\":\"134659\"}]},\"id\":\"134661\",\"type\":\"Toolbar\"},{\"attributes\":{\"below\":[{\"id\":\"134648\"}],\"center\":[{\"id\":\"134651\"},{\"id\":\"134654\"}],\"height\":300,\"left\":[{\"id\":\"134652\"}],\"margin\":[5,5,5,5],\"min_border_bottom\":10,\"min_border_left\":10,\"min_border_right\":10,\"min_border_top\":10,\"renderers\":[{\"id\":\"134674\"}],\"sizing_mode\":\"fixed\",\"title\":{\"id\":\"134640\"},\"toolbar\":{\"id\":\"134661\"},\"width\":700,\"x_range\":{\"id\":\"134636\"},\"x_scale\":{\"id\":\"134644\"},\"y_range\":{\"id\":\"134637\"},\"y_scale\":{\"id\":\"134646\"}},\"id\":\"134639\",\"subtype\":\"Figure\",\"type\":\"Plot\"},{\"attributes\":{},\"id\":\"134644\",\"type\":\"LinearScale\"},{\"attributes\":{\"coordinates\":null,\"group\":null,\"text\":\"Feature Correlation with Target Function\",\"text_color\":\"black\",\"text_font_size\":\"12pt\"},\"id\":\"134640\",\"type\":\"Title\"},{\"attributes\":{\"coordinates\":null,\"data_source\":{\"id\":\"134668\"},\"glyph\":{\"id\":\"134671\"},\"group\":null,\"hover_glyph\":null,\"muted_glyph\":{\"id\":\"134673\"},\"nonselection_glyph\":{\"id\":\"134672\"},\"selection_glyph\":{\"id\":\"134676\"},\"view\":{\"id\":\"134675\"}},\"id\":\"134674\",\"type\":\"GlyphRenderer\"},{\"attributes\":{},\"id\":\"134678\",\"type\":\"BasicTickFormatter\"},{\"attributes\":{},\"id\":\"134653\",\"type\":\"CategoricalTicker\"},{\"attributes\":{\"factors\":[\"business_unit\",\"lock_status\",\"days_since_last_purchase\",\"first_time_customer\",\"order_type\",\"carrier\",\"brand\",\"quantity\",\"tgt_enc_sim_impt_x1\",\"tgt_enc_sim_impt_x0\",\"sales_person\",\"color\",\"channel\",\"condition\",\"memory_size\",\"unit_cost\",\"tgt_enc_sim_impt_x2\",\"model_family\",\"sku\"],\"tags\":[[[\"index\",\"index\",null]]]},\"id\":\"134637\",\"type\":\"FactorRange\"},{\"attributes\":{\"fill_alpha\":{\"value\":0.1},\"fill_color\":{\"value\":\"#30a2da\"},\"hatch_alpha\":{\"value\":0.1},\"hatch_color\":{\"value\":\"#30a2da\"},\"height\":{\"value\":0.8},\"line_alpha\":{\"value\":0.1},\"right\":{\"field\":\"Pearson_correlation_with_Target\"},\"y\":{\"field\":\"index\"}},\"id\":\"134672\",\"type\":\"HBar\"},{\"attributes\":{},\"id\":\"134669\",\"type\":\"Selection\"},{\"attributes\":{\"callback\":null,\"renderers\":[{\"id\":\"134674\"}],\"tags\":[\"hv_created\"],\"tooltips\":[[\"index\",\"@{index}\"],[\"Pearson_correlation_with_Target\",\"@{Pearson_correlation_with_Target}\"]]},\"id\":\"134638\",\"type\":\"HoverTool\"},{\"attributes\":{},\"id\":\"134656\",\"type\":\"PanTool\"},{\"attributes\":{\"fill_alpha\":{\"value\":0.2},\"fill_color\":{\"value\":\"#30a2da\"},\"hatch_alpha\":{\"value\":0.2},\"hatch_color\":{\"value\":\"#30a2da\"},\"height\":{\"value\":0.8},\"line_alpha\":{\"value\":0.2},\"right\":{\"field\":\"Pearson_correlation_with_Target\"},\"y\":{\"field\":\"index\"}},\"id\":\"134673\",\"type\":\"HBar\"},{\"attributes\":{\"axis\":{\"id\":\"134648\"},\"coordinates\":null,\"grid_line_color\":null,\"group\":null,\"ticker\":null},\"id\":\"134651\",\"type\":\"Grid\"},{\"attributes\":{},\"id\":\"134657\",\"type\":\"WheelZoomTool\"},{\"attributes\":{\"client_comm_id\":\"189b950cf74a4bdba15ba6c282d4a3e4\",\"comm_id\":\"de14c922ef474f2296ec9596185254e3\",\"plot_id\":\"134635\"},\"id\":\"134724\",\"type\":\"panel.models.comm_manager.CommManager\"},{\"attributes\":{\"fill_alpha\":{\"value\":1.0},\"fill_color\":{\"value\":\"#30a2da\"},\"hatch_alpha\":{\"value\":1.0},\"hatch_color\":{\"value\":\"#30a2da\"},\"hatch_scale\":{\"value\":12.0},\"hatch_weight\":{\"value\":1.0},\"height\":{\"value\":0.8},\"left\":{\"value\":0},\"line_alpha\":{\"value\":1.0},\"line_cap\":{\"value\":\"butt\"},\"line_color\":{\"value\":\"black\"},\"line_dash\":{\"value\":[]},\"line_dash_offset\":{\"value\":0},\"line_join\":{\"value\":\"bevel\"},\"line_width\":{\"value\":1},\"right\":{\"field\":\"Pearson_correlation_with_Target\"},\"y\":{\"field\":\"index\"}},\"id\":\"134676\",\"type\":\"HBar\"},{\"attributes\":{\"overlay\":{\"id\":\"134660\"}},\"id\":\"134658\",\"type\":\"BoxZoomTool\"},{\"attributes\":{\"source\":{\"id\":\"134668\"}},\"id\":\"134675\",\"type\":\"CDSView\"},{\"attributes\":{\"axis\":{\"id\":\"134652\"},\"coordinates\":null,\"dimension\":1,\"grid_line_color\":null,\"group\":null,\"ticker\":null},\"id\":\"134654\",\"type\":\"Grid\"},{\"attributes\":{},\"id\":\"134682\",\"type\":\"AllLabels\"},{\"attributes\":{},\"id\":\"134659\",\"type\":\"ResetTool\"},{\"attributes\":{},\"id\":\"134679\",\"type\":\"AllLabels\"},{\"attributes\":{\"fill_color\":{\"value\":\"#30a2da\"},\"hatch_color\":{\"value\":\"#30a2da\"},\"height\":{\"value\":0.8},\"right\":{\"field\":\"Pearson_correlation_with_Target\"},\"y\":{\"field\":\"index\"}},\"id\":\"134671\",\"type\":\"HBar\"},{\"attributes\":{\"data\":{\"Pearson_correlation_with_Target\":{\"__ndarray__\":\"2sja87vNuL/Ob7ZpU9KPP6iMFrt4jq4/8C3LKxwcsj8Unoh1DiK4P0aK8flF+r8/8v5P5ktbwT9gjX5aS1zBPwI3VT2MF8Q/uqInOEJnzj8c9CMIY2rQP4oCg7F2wNQ/1Wx/3p9f1j/UE9A1Z+/ZPzyjSDTcUOM/RN6MIqAA7D8P1EuRMaTsP6zzyjRAA+4/xCnhv4E17j8=\",\"dtype\":\"float64\",\"order\":\"little\",\"shape\":[19]},\"index\":[\"business_unit\",\"lock_status\",\"days_since_last_purchase\",\"first_time_customer\",\"order_type\",\"carrier\",\"brand\",\"quantity\",\"tgt_enc_sim_impt_x1\",\"tgt_enc_sim_impt_x0\",\"sales_person\",\"color\",\"channel\",\"condition\",\"memory_size\",\"unit_cost\",\"tgt_enc_sim_impt_x2\",\"model_family\",\"sku\"]},\"selected\":{\"id\":\"134669\"},\"selection_policy\":{\"id\":\"134690\"}},\"id\":\"134668\",\"type\":\"ColumnDataSource\"},{\"attributes\":{\"margin\":[0,0,0,0],\"tabs\":[{\"id\":\"134693\"}]},\"id\":\"134635\",\"type\":\"panel.models.tabs.Tabs\"},{\"attributes\":{},\"id\":\"134649\",\"type\":\"BasicTicker\"},{\"attributes\":{\"end\":1.0481236810156718,\"reset_end\":1.0481236810156718,\"reset_start\":-0.2009813396594778,\"start\":-0.2009813396594778,\"tags\":[[[\"Pearson_correlation_with_Target\",\"Pearson_correlation_with_Target\",null]]]},\"id\":\"134636\",\"type\":\"Range1d\"},{\"attributes\":{},\"id\":\"134655\",\"type\":\"SaveTool\"},{\"attributes\":{},\"id\":\"134681\",\"type\":\"CategoricalTickFormatter\"},{\"attributes\":{\"axis_label\":\"Pearson_correlation_with_Target\",\"coordinates\":null,\"formatter\":{\"id\":\"134678\"},\"group\":null,\"major_label_policy\":{\"id\":\"134679\"},\"ticker\":{\"id\":\"134649\"}},\"id\":\"134648\",\"type\":\"LinearAxis\"},{\"attributes\":{\"child\":{\"id\":\"134639\"},\"name\":\"feature_correlation\",\"title\":\"feature_correlation\"},\"id\":\"134693\",\"type\":\"Panel\"},{\"attributes\":{\"axis_label\":\"\",\"coordinates\":null,\"formatter\":{\"id\":\"134681\"},\"group\":null,\"major_label_policy\":{\"id\":\"134682\"},\"ticker\":{\"id\":\"134653\"}},\"id\":\"134652\",\"type\":\"CategoricalAxis\"},{\"attributes\":{},\"id\":\"134690\",\"type\":\"UnionRenderers\"},{\"attributes\":{},\"id\":\"134646\",\"type\":\"CategoricalScale\"}],\"root_ids\":[\"134635\",\"134724\"]},\"title\":\"Bokeh Application\",\"version\":\"2.4.3\"}};\n",
       "    var render_items = [{\"docid\":\"d22358e6-bda9-4c49-9f5a-3bb4fba99fd0\",\"root_ids\":[\"134635\"],\"roots\":{\"134635\":\"7e9a542c-5329-4267-9db2-a0de5358994a\"}}];\n",
       "    root.Bokeh.embed.embed_items_notebook(docs_json, render_items);\n",
       "  }\n",
       "  if (root.Bokeh !== undefined && root.Bokeh.Panel !== undefined) {\n",
       "    embed_document(root);\n",
       "  } else {\n",
       "    var attempts = 0;\n",
       "    var timer = setInterval(function(root) {\n",
       "      if (root.Bokeh !== undefined && root.Bokeh.Panel !== undefined) {\n",
       "        clearInterval(timer);\n",
       "        embed_document(root);\n",
       "      } else if (document.readyState == \"complete\") {\n",
       "        attempts++;\n",
       "        if (attempts > 200) {\n",
       "          clearInterval(timer);\n",
       "          console.log(\"Bokeh: ERROR: Unable to run BokehJS code because BokehJS library is missing\");\n",
       "        }\n",
       "      }\n",
       "    }, 25, root)\n",
       "  }\n",
       "})(window);</script>"
      ],
      "text/plain": [
       "Tabs\n",
       "    [0] HoloViews(Bars, name='feature_correlation')"
      ]
     },
     "execution_count": 64,
     "metadata": {
      "application/vnd.holoviews_exec.v0+json": {
       "id": "134635"
      }
     },
     "output_type": "execute_result"
    }
   ],
   "source": [
    "out = eda.get_target_correlation(train_X, train_y, y_continuous=True)\n",
    "display_as_tabs([(k, v) for k,v in out.items()])"
   ]
  },
  {
   "cell_type": "code",
   "execution_count": 65,
   "metadata": {},
   "outputs": [
    {
     "data": {
      "text/plain": [
       "0         170.0\n",
       "1          55.0\n",
       "2         110.0\n",
       "3          88.0\n",
       "4          51.0\n",
       "          ...  \n",
       "139842    160.0\n",
       "139843    130.0\n",
       "139844     90.0\n",
       "139845     35.0\n",
       "139846    105.0\n",
       "Name: unit_price, Length: 139847, dtype: float64"
      ]
     },
     "execution_count": 65,
     "metadata": {},
     "output_type": "execute_result"
    }
   ],
   "source": [
    "train_y['unit_price']"
   ]
  },
  {
   "cell_type": "code",
   "execution_count": 66,
   "metadata": {},
   "outputs": [
    {
     "data": {},
     "metadata": {},
     "output_type": "display_data"
    },
    {
     "data": {},
     "metadata": {},
     "output_type": "display_data"
    },
    {
     "data": {
      "application/vnd.holoviews_exec.v0+json": "",
      "text/html": [
       "<div id='134775'>\n",
       "  <div class=\"bk-root\" id=\"d79a368f-ae29-4979-a4dc-6bc3d82e58f7\" data-root-id=\"134775\"></div>\n",
       "</div>\n",
       "<script type=\"application/javascript\">(function(root) {\n",
       "  function embed_document(root) {\n",
       "    var docs_json = {\"98819518-def5-4bf9-802b-498b16d8bc67\":{\"defs\":[{\"extends\":null,\"module\":null,\"name\":\"ReactiveHTML1\",\"overrides\":[],\"properties\":[]},{\"extends\":null,\"module\":null,\"name\":\"FlexBox1\",\"overrides\":[],\"properties\":[{\"default\":\"flex-start\",\"kind\":null,\"name\":\"align_content\"},{\"default\":\"flex-start\",\"kind\":null,\"name\":\"align_items\"},{\"default\":\"row\",\"kind\":null,\"name\":\"flex_direction\"},{\"default\":\"wrap\",\"kind\":null,\"name\":\"flex_wrap\"},{\"default\":\"flex-start\",\"kind\":null,\"name\":\"justify_content\"}]},{\"extends\":null,\"module\":null,\"name\":\"GridStack1\",\"overrides\":[],\"properties\":[{\"default\":\"warn\",\"kind\":null,\"name\":\"mode\"},{\"default\":null,\"kind\":null,\"name\":\"ncols\"},{\"default\":null,\"kind\":null,\"name\":\"nrows\"},{\"default\":true,\"kind\":null,\"name\":\"allow_resize\"},{\"default\":true,\"kind\":null,\"name\":\"allow_drag\"},{\"default\":[],\"kind\":null,\"name\":\"state\"}]},{\"extends\":null,\"module\":null,\"name\":\"click1\",\"overrides\":[],\"properties\":[{\"default\":\"\",\"kind\":null,\"name\":\"terminal_output\"},{\"default\":\"\",\"kind\":null,\"name\":\"debug_name\"},{\"default\":0,\"kind\":null,\"name\":\"clears\"}]},{\"extends\":null,\"module\":null,\"name\":\"NotificationAreaBase1\",\"overrides\":[],\"properties\":[{\"default\":\"bottom-right\",\"kind\":null,\"name\":\"position\"},{\"default\":0,\"kind\":null,\"name\":\"_clear\"}]},{\"extends\":null,\"module\":null,\"name\":\"NotificationArea1\",\"overrides\":[],\"properties\":[{\"default\":[],\"kind\":null,\"name\":\"notifications\"},{\"default\":\"bottom-right\",\"kind\":null,\"name\":\"position\"},{\"default\":0,\"kind\":null,\"name\":\"_clear\"},{\"default\":[{\"background\":\"#ffc107\",\"icon\":{\"className\":\"fas fa-exclamation-triangle\",\"color\":\"white\",\"tagName\":\"i\"},\"type\":\"warning\"},{\"background\":\"#007bff\",\"icon\":{\"className\":\"fas fa-info-circle\",\"color\":\"white\",\"tagName\":\"i\"},\"type\":\"info\"}],\"kind\":null,\"name\":\"types\"}]},{\"extends\":null,\"module\":null,\"name\":\"Notification\",\"overrides\":[],\"properties\":[{\"default\":null,\"kind\":null,\"name\":\"background\"},{\"default\":3000,\"kind\":null,\"name\":\"duration\"},{\"default\":null,\"kind\":null,\"name\":\"icon\"},{\"default\":\"\",\"kind\":null,\"name\":\"message\"},{\"default\":null,\"kind\":null,\"name\":\"notification_type\"},{\"default\":false,\"kind\":null,\"name\":\"_destroyed\"}]},{\"extends\":null,\"module\":null,\"name\":\"TemplateActions1\",\"overrides\":[],\"properties\":[{\"default\":0,\"kind\":null,\"name\":\"open_modal\"},{\"default\":0,\"kind\":null,\"name\":\"close_modal\"}]},{\"extends\":null,\"module\":null,\"name\":\"MaterialTemplateActions1\",\"overrides\":[],\"properties\":[{\"default\":0,\"kind\":null,\"name\":\"open_modal\"},{\"default\":0,\"kind\":null,\"name\":\"close_modal\"}]}],\"roots\":{\"references\":[{\"attributes\":{},\"id\":\"134797\",\"type\":\"WheelZoomTool\"},{\"attributes\":{\"source\":{\"id\":\"134808\"}},\"id\":\"134815\",\"type\":\"CDSView\"},{\"attributes\":{\"below\":[{\"id\":\"134788\"}],\"center\":[{\"id\":\"134791\"},{\"id\":\"134794\"}],\"height\":300,\"left\":[{\"id\":\"134792\"}],\"margin\":[5,5,5,5],\"min_border_bottom\":10,\"min_border_left\":10,\"min_border_right\":10,\"min_border_top\":10,\"renderers\":[{\"id\":\"134814\"}],\"sizing_mode\":\"fixed\",\"title\":{\"id\":\"134780\"},\"toolbar\":{\"id\":\"134801\"},\"width\":700,\"x_range\":{\"id\":\"134776\"},\"x_scale\":{\"id\":\"134784\"},\"y_range\":{\"id\":\"134777\"},\"y_scale\":{\"id\":\"134786\"}},\"id\":\"134779\",\"subtype\":\"Figure\",\"type\":\"Plot\"},{\"attributes\":{\"callback\":null,\"renderers\":[{\"id\":\"134814\"}],\"tags\":[\"hv_created\"],\"tooltips\":[[\"index\",\"@{index}\"],[\"importance\",\"@{importance}\"]]},\"id\":\"134778\",\"type\":\"HoverTool\"},{\"attributes\":{},\"id\":\"134796\",\"type\":\"PanTool\"},{\"attributes\":{\"factors\":[\"tgt_enc_sim_impt_x1\",\"color\",\"tgt_enc_sim_impt_x0\",\"carrier\",\"first_time_customer\",\"lock_status\",\"tgt_enc_sim_impt_x2\",\"days_since_last_purchase\",\"quantity\",\"memory_size\",\"channel\",\"brand\",\"unit_cost\",\"sales_person\",\"order_type\",\"condition\",\"business_unit\",\"sku\",\"model_family\"],\"tags\":[[[\"index\",\"index\",null]]]},\"id\":\"134777\",\"type\":\"FactorRange\"},{\"attributes\":{\"fill_alpha\":{\"value\":0.2},\"fill_color\":{\"value\":\"#30a2da\"},\"hatch_alpha\":{\"value\":0.2},\"hatch_color\":{\"value\":\"#30a2da\"},\"height\":{\"value\":0.8},\"line_alpha\":{\"value\":0.2},\"right\":{\"field\":\"importance\"},\"y\":{\"field\":\"index\"}},\"id\":\"134813\",\"type\":\"HBar\"},{\"attributes\":{\"client_comm_id\":\"c3f275420ef64dd9955f9fce8ca8a790\",\"comm_id\":\"60065589734444ceaa2e76c5d89a6ab9\",\"plot_id\":\"134775\"},\"id\":\"134866\",\"type\":\"panel.models.comm_manager.CommManager\"},{\"attributes\":{\"height\":910,\"margin\":[5,5,5,5],\"name\":\"shap_values\",\"text\":\"&lt;img src=&quot;data:image/png;base64,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&quot; width=&quot;800px&quot; height=&quot;910px&quot; alt=&quot;&quot;&gt;&lt;/img&gt;\",\"width\":800},\"id\":\"134834\",\"type\":\"panel.models.markup.HTML\"},{\"attributes\":{\"axis\":{\"id\":\"134788\"},\"coordinates\":null,\"grid_line_color\":null,\"group\":null,\"ticker\":null},\"id\":\"134791\",\"type\":\"Grid\"},{\"attributes\":{},\"id\":\"134821\",\"type\":\"CategoricalTickFormatter\"},{\"attributes\":{\"tools\":[{\"id\":\"134778\"},{\"id\":\"134795\"},{\"id\":\"134796\"},{\"id\":\"134797\"},{\"id\":\"134798\"},{\"id\":\"134799\"}]},\"id\":\"134801\",\"type\":\"Toolbar\"},{\"attributes\":{\"coordinates\":null,\"group\":null,\"text\":\"Feature Importances from LassoCV\",\"text_color\":\"black\",\"text_font_size\":\"12pt\"},\"id\":\"134780\",\"type\":\"Title\"},{\"attributes\":{},\"id\":\"134809\",\"type\":\"Selection\"},{\"attributes\":{\"data\":{\"importance\":{\"__ndarray__\":\"WCoVO5JzpsAXSVPcJzp2wLYwdAsg2W3AAAAAAAAAAIAAAAAAAAAAAAAAAAAAAAAAAAAAAAAAAIAAAAAAAAAAABQIgFM5Oj1A3IySFgJSVEAXCeLymOaYQGCNl/I2taFACIWV65sLp0CKOBBkZrmrQEjicHJ3xrBAZodUDGWEuUCgs/Bj9Fu+QL0WNAnxJMRAzdjzUchrykA=\",\"dtype\":\"float64\",\"order\":\"little\",\"shape\":[19]},\"index\":[\"tgt_enc_sim_impt_x1\",\"color\",\"tgt_enc_sim_impt_x0\",\"carrier\",\"first_time_customer\",\"lock_status\",\"tgt_enc_sim_impt_x2\",\"days_since_last_purchase\",\"quantity\",\"memory_size\",\"channel\",\"brand\",\"unit_cost\",\"sales_person\",\"order_type\",\"condition\",\"business_unit\",\"sku\",\"model_family\"]},\"selected\":{\"id\":\"134809\"},\"selection_policy\":{\"id\":\"134830\"}},\"id\":\"134808\",\"type\":\"ColumnDataSource\"},{\"attributes\":{\"axis_label\":\"Feature Importance [determined by coeff * mean(x)]\",\"coordinates\":null,\"formatter\":{\"id\":\"134818\"},\"group\":null,\"major_label_policy\":{\"id\":\"134819\"},\"ticker\":{\"id\":\"134789\"}},\"id\":\"134788\",\"type\":\"LinearAxis\"},{\"attributes\":{},\"id\":\"134818\",\"type\":\"BasicTickFormatter\"},{\"attributes\":{},\"id\":\"134795\",\"type\":\"SaveTool\"},{\"attributes\":{},\"id\":\"134784\",\"type\":\"LinearScale\"},{\"attributes\":{\"end\":15167.700061793412,\"reset_end\":15167.700061793412,\"reset_start\":-4513.920667815825,\"start\":-4513.920667815825,\"tags\":[[[\"importance\",\"importance\",null]]]},\"id\":\"134776\",\"type\":\"Range1d\"},{\"attributes\":{\"axis\":{\"id\":\"134792\"},\"coordinates\":null,\"dimension\":1,\"grid_line_color\":null,\"group\":null,\"ticker\":null},\"id\":\"134794\",\"type\":\"Grid\"},{\"attributes\":{},\"id\":\"134789\",\"type\":\"BasicTicker\"},{\"attributes\":{\"bottom_units\":\"screen\",\"coordinates\":null,\"fill_alpha\":0.5,\"fill_color\":\"lightgrey\",\"group\":null,\"left_units\":\"screen\",\"level\":\"overlay\",\"line_alpha\":1.0,\"line_color\":\"black\",\"line_dash\":[4,4],\"line_width\":2,\"right_units\":\"screen\",\"syncable\":false,\"top_units\":\"screen\"},\"id\":\"134800\",\"type\":\"BoxAnnotation\"},{\"attributes\":{},\"id\":\"134786\",\"type\":\"CategoricalScale\"},{\"attributes\":{\"axis_label\":\"Features\",\"coordinates\":null,\"formatter\":{\"id\":\"134821\"},\"group\":null,\"major_label_policy\":{\"id\":\"134822\"},\"ticker\":{\"id\":\"134793\"}},\"id\":\"134792\",\"type\":\"CategoricalAxis\"},{\"attributes\":{},\"id\":\"134822\",\"type\":\"AllLabels\"},{\"attributes\":{\"fill_alpha\":{\"value\":0.1},\"fill_color\":{\"value\":\"#30a2da\"},\"hatch_alpha\":{\"value\":0.1},\"hatch_color\":{\"value\":\"#30a2da\"},\"height\":{\"value\":0.8},\"line_alpha\":{\"value\":0.1},\"right\":{\"field\":\"importance\"},\"y\":{\"field\":\"index\"}},\"id\":\"134812\",\"type\":\"HBar\"},{\"attributes\":{},\"id\":\"134819\",\"type\":\"AllLabels\"},{\"attributes\":{},\"id\":\"134830\",\"type\":\"UnionRenderers\"},{\"attributes\":{\"child\":{\"id\":\"134834\"},\"name\":\"shap_values\",\"title\":\"shap_values\"},\"id\":\"134835\",\"type\":\"Panel\"},{\"attributes\":{\"coordinates\":null,\"data_source\":{\"id\":\"134808\"},\"glyph\":{\"id\":\"134811\"},\"group\":null,\"hover_glyph\":null,\"muted_glyph\":{\"id\":\"134813\"},\"nonselection_glyph\":{\"id\":\"134812\"},\"selection_glyph\":{\"id\":\"134816\"},\"view\":{\"id\":\"134815\"}},\"id\":\"134814\",\"type\":\"GlyphRenderer\"},{\"attributes\":{\"margin\":[0,0,0,0],\"tabs\":[{\"id\":\"134833\"},{\"id\":\"134835\"}]},\"id\":\"134775\",\"type\":\"panel.models.tabs.Tabs\"},{\"attributes\":{},\"id\":\"134793\",\"type\":\"CategoricalTicker\"},{\"attributes\":{},\"id\":\"134799\",\"type\":\"ResetTool\"},{\"attributes\":{\"overlay\":{\"id\":\"134800\"}},\"id\":\"134798\",\"type\":\"BoxZoomTool\"},{\"attributes\":{\"fill_alpha\":{\"value\":1.0},\"fill_color\":{\"value\":\"#30a2da\"},\"hatch_alpha\":{\"value\":1.0},\"hatch_color\":{\"value\":\"#30a2da\"},\"hatch_scale\":{\"value\":12.0},\"hatch_weight\":{\"value\":1.0},\"height\":{\"value\":0.8},\"left\":{\"value\":0},\"line_alpha\":{\"value\":1.0},\"line_cap\":{\"value\":\"butt\"},\"line_color\":{\"value\":\"black\"},\"line_dash\":{\"value\":[]},\"line_dash_offset\":{\"value\":0},\"line_join\":{\"value\":\"bevel\"},\"line_width\":{\"value\":1},\"right\":{\"field\":\"importance\"},\"y\":{\"field\":\"index\"}},\"id\":\"134816\",\"type\":\"HBar\"},{\"attributes\":{\"child\":{\"id\":\"134779\"},\"name\":\"from_model\",\"title\":\"from_model\"},\"id\":\"134833\",\"type\":\"Panel\"},{\"attributes\":{\"fill_color\":{\"value\":\"#30a2da\"},\"hatch_color\":{\"value\":\"#30a2da\"},\"height\":{\"value\":0.8},\"right\":{\"field\":\"importance\"},\"y\":{\"field\":\"index\"}},\"id\":\"134811\",\"type\":\"HBar\"}],\"root_ids\":[\"134775\",\"134866\"]},\"title\":\"Bokeh Application\",\"version\":\"2.4.3\"}};\n",
       "    var render_items = [{\"docid\":\"98819518-def5-4bf9-802b-498b16d8bc67\",\"root_ids\":[\"134775\"],\"roots\":{\"134775\":\"d79a368f-ae29-4979-a4dc-6bc3d82e58f7\"}}];\n",
       "    root.Bokeh.embed.embed_items_notebook(docs_json, render_items);\n",
       "  }\n",
       "  if (root.Bokeh !== undefined && root.Bokeh.Panel !== undefined) {\n",
       "    embed_document(root);\n",
       "  } else {\n",
       "    var attempts = 0;\n",
       "    var timer = setInterval(function(root) {\n",
       "      if (root.Bokeh !== undefined && root.Bokeh.Panel !== undefined) {\n",
       "        clearInterval(timer);\n",
       "        embed_document(root);\n",
       "      } else if (document.readyState == \"complete\") {\n",
       "        attempts++;\n",
       "        if (attempts > 200) {\n",
       "          clearInterval(timer);\n",
       "          console.log(\"Bokeh: ERROR: Unable to run BokehJS code because BokehJS library is missing\");\n",
       "        }\n",
       "      }\n",
       "    }, 25, root)\n",
       "  }\n",
       "})(window);</script>"
      ],
      "text/plain": [
       "Tabs\n",
       "    [0] HoloViews(Bars, name='from_model')\n",
       "    [1] Matplotlib(Figure, name='shap_values')"
      ]
     },
     "execution_count": 66,
     "metadata": {
      "application/vnd.holoviews_exec.v0+json": {
       "id": "134775"
      }
     },
     "output_type": "execute_result"
    }
   ],
   "source": [
    "out = eda.get_feature_importances(train_X, train_y, y_continuous=True)\n",
    "display_as_tabs([(k, v) for k,v in out.items()])"
   ]
  },
  {
   "attachments": {},
   "cell_type": "markdown",
   "metadata": {},
   "source": [
    "Key drivers report like feature importance, bivariate plots can be obtained as below"
   ]
  },
  {
   "cell_type": "code",
   "execution_count": 67,
   "metadata": {},
   "outputs": [],
   "source": [
    "reports.key_drivers(train_X,train_y, 'reports/key_drivers_report.html', y_continuous=True)"
   ]
  },
  {
   "attachments": {},
   "cell_type": "markdown",
   "metadata": {},
   "source": [
    "**Dev Notes**\n",
    "<details>\n",
    "    \n",
    "- The SHAP plots and bivariate plots in key drivers reports can be obtained by including quick=False as a parameter to key_drivers function call. \n",
    "- SHAP plots and bivariate plots often take long depending on data shape.\n",
    "- The plot with shap is present [here](https://drive.google.com/file/d/1JOTMBLiv3LEqZ-kxZz0RokW9v5UyiGva/view?usp=sharing)\n",
    "\n",
    "</details>"
   ]
  },
  {
   "attachments": {},
   "cell_type": "markdown",
   "metadata": {},
   "source": [
    "\n",
    "All the plots like feature analysis, interaction, key drivers can be obtained as a single plot using data exploration method as shown below. The output from this is available [here](https://drive.google.com/file/d/1209MzmSSEhiTYuPfHpaVXFXUVbkaJm0B/view?usp=sharing)"
   ]
  },
  {
   "cell_type": "code",
   "execution_count": 68,
   "metadata": {},
   "outputs": [
    {
     "name": "stderr",
     "output_type": "stream",
     "text": [
      "p-value may not be accurate for N > 5000.\n"
     ]
    }
   ],
   "source": [
    "reports.data_exploration(train_X,train_y,'reports/data_exploration_report.html', y_continuous=True)"
   ]
  },
  {
   "cell_type": "code",
   "execution_count": 69,
   "metadata": {},
   "outputs": [],
   "source": [
    "# saving the list of relevant columns\n",
    "save_pipeline(curated_columns, op.abspath(op.join(artifacts_folder, 'curated_columns.joblib')))\n",
    "\n",
    "# save the feature pipeline\n",
    "save_pipeline(features_transformer, op.abspath(op.join(artifacts_folder, 'features.joblib')))"
   ]
  },
  {
   "cell_type": "markdown",
   "metadata": {},
   "source": [
    "# 4 Modelling"
   ]
  },
  {
   "cell_type": "markdown",
   "metadata": {},
   "source": [
    "## 4.1 Modelling - Linear Regression"
   ]
  },
  {
   "cell_type": "markdown",
   "metadata": {},
   "source": [
    "### 4.1.1 Feature Selection(Specific to Regression)\n",
    "\n",
    "- Selecting Features specific to regression\n",
    "- VIF : measure of the amount of multi-collinearity in a set of multiple regressor variables. \n",
    "- On a case to case basis VIF thresholds change. Generally 5 or 10 are acceptable levels.\n",
    "- Usually on a recursive basis when removing the most collinear variable, there can be shuffle in VIF. \n",
    "- Often this section will not be part of the production code."
   ]
  },
  {
   "cell_type": "code",
   "execution_count": 70,
   "metadata": {},
   "outputs": [],
   "source": [
    "cols = list(train_X.columns)\n",
    "vif = eda.calc_vif(train_X)\n",
    "while max(vif.VIF) > 15:\n",
    "    #removing the largest variable from VIF\n",
    "    cols.remove(vif[(vif.VIF==vif.VIF.max())].variables.tolist()[0])\n",
    "    vif = eda.calc_vif(train_X[cols])"
   ]
  },
  {
   "cell_type": "code",
   "execution_count": 71,
   "metadata": {},
   "outputs": [],
   "source": [
    "reg_vars = vif.query('VIF < 15').variables\n",
    "reg_vars = list(reg_vars)"
   ]
  },
  {
   "cell_type": "markdown",
   "metadata": {},
   "source": [
    "### 4.1.2 Data transformations"
   ]
  },
  {
   "cell_type": "code",
   "execution_count": 72,
   "metadata": {},
   "outputs": [],
   "source": [
    "# Custom Transformations like these can be utilised\n",
    "def _custom_data_transform(df, cols2keep=None):\n",
    "    \"\"\"Transformation to drop some columns in the data\n",
    "\n",
    "    Parameters\n",
    "    ----------\n",
    "        df - pd.DataFrame\n",
    "        cols2keep - columns to keep in the dataframe\n",
    "    \"\"\"\n",
    "    cols2keep = cols2keep or []\n",
    "    if len(cols2keep):\n",
    "        return (df\n",
    "                .select_columns(cols2keep))\n",
    "    else:\n",
    "        return df"
   ]
  },
  {
   "cell_type": "markdown",
   "metadata": {},
   "source": [
    "### 4.1.3 Model training pipeline\n",
    "\n",
    "- Here we focus on creating a collection of pipelines that can be used for training respective models.\n",
    "- Each model pipeline will essentially be of the form\n",
    "```\n",
    "[\n",
    "('preprocessing', preprocessing_pipeline),\n",
    "('feature_selection', feature_selection_pipeline),\n",
    "('estimator', estimator),\n",
    "]\n",
    "```"
   ]
  },
  {
   "cell_type": "markdown",
   "metadata": {},
   "source": [
    "### 4.1.4 Model Pipeline Build\n",
    "\n",
    "- This will be part of the production code (training only)."
   ]
  },
  {
   "cell_type": "code",
   "execution_count": 73,
   "metadata": {},
   "outputs": [
    {
     "data": {
      "text/html": [
       "<style>#sk-container-id-4 {color: black;background-color: white;}#sk-container-id-4 pre{padding: 0;}#sk-container-id-4 div.sk-toggleable {background-color: white;}#sk-container-id-4 label.sk-toggleable__label {cursor: pointer;display: block;width: 100%;margin-bottom: 0;padding: 0.3em;box-sizing: border-box;text-align: center;}#sk-container-id-4 label.sk-toggleable__label-arrow:before {content: \"▸\";float: left;margin-right: 0.25em;color: #696969;}#sk-container-id-4 label.sk-toggleable__label-arrow:hover:before {color: black;}#sk-container-id-4 div.sk-estimator:hover label.sk-toggleable__label-arrow:before {color: black;}#sk-container-id-4 div.sk-toggleable__content {max-height: 0;max-width: 0;overflow: hidden;text-align: left;background-color: #f0f8ff;}#sk-container-id-4 div.sk-toggleable__content pre {margin: 0.2em;color: black;border-radius: 0.25em;background-color: #f0f8ff;}#sk-container-id-4 input.sk-toggleable__control:checked~div.sk-toggleable__content {max-height: 200px;max-width: 100%;overflow: auto;}#sk-container-id-4 input.sk-toggleable__control:checked~label.sk-toggleable__label-arrow:before {content: \"▾\";}#sk-container-id-4 div.sk-estimator input.sk-toggleable__control:checked~label.sk-toggleable__label {background-color: #d4ebff;}#sk-container-id-4 div.sk-label input.sk-toggleable__control:checked~label.sk-toggleable__label {background-color: #d4ebff;}#sk-container-id-4 input.sk-hidden--visually {border: 0;clip: rect(1px 1px 1px 1px);clip: rect(1px, 1px, 1px, 1px);height: 1px;margin: -1px;overflow: hidden;padding: 0;position: absolute;width: 1px;}#sk-container-id-4 div.sk-estimator {font-family: monospace;background-color: #f0f8ff;border: 1px dotted black;border-radius: 0.25em;box-sizing: border-box;margin-bottom: 0.5em;}#sk-container-id-4 div.sk-estimator:hover {background-color: #d4ebff;}#sk-container-id-4 div.sk-parallel-item::after {content: \"\";width: 100%;border-bottom: 1px solid gray;flex-grow: 1;}#sk-container-id-4 div.sk-label:hover label.sk-toggleable__label {background-color: #d4ebff;}#sk-container-id-4 div.sk-serial::before {content: \"\";position: absolute;border-left: 1px solid gray;box-sizing: border-box;top: 0;bottom: 0;left: 50%;z-index: 0;}#sk-container-id-4 div.sk-serial {display: flex;flex-direction: column;align-items: center;background-color: white;padding-right: 0.2em;padding-left: 0.2em;position: relative;}#sk-container-id-4 div.sk-item {position: relative;z-index: 1;}#sk-container-id-4 div.sk-parallel {display: flex;align-items: stretch;justify-content: center;background-color: white;position: relative;}#sk-container-id-4 div.sk-item::before, #sk-container-id-4 div.sk-parallel-item::before {content: \"\";position: absolute;border-left: 1px solid gray;box-sizing: border-box;top: 0;bottom: 0;left: 50%;z-index: -1;}#sk-container-id-4 div.sk-parallel-item {display: flex;flex-direction: column;z-index: 1;position: relative;background-color: white;}#sk-container-id-4 div.sk-parallel-item:first-child::after {align-self: flex-end;width: 50%;}#sk-container-id-4 div.sk-parallel-item:last-child::after {align-self: flex-start;width: 50%;}#sk-container-id-4 div.sk-parallel-item:only-child::after {width: 0;}#sk-container-id-4 div.sk-dashed-wrapped {border: 1px dashed gray;margin: 0 0.4em 0.5em 0.4em;box-sizing: border-box;padding-bottom: 0.4em;background-color: white;}#sk-container-id-4 div.sk-label label {font-family: monospace;font-weight: bold;display: inline-block;line-height: 1.2em;}#sk-container-id-4 div.sk-label-container {text-align: center;}#sk-container-id-4 div.sk-container {/* jupyter's `normalize.less` sets `[hidden] { display: none; }` but bootstrap.min.css set `[hidden] { display: none !important; }` so we also need the `!important` here to be able to override the default hidden behavior on the sphinx rendered scikit-learn.org. See: https://github.com/scikit-learn/scikit-learn/issues/21755 */display: inline-block !important;position: relative;}#sk-container-id-4 div.sk-text-repr-fallback {display: none;}</style><div id=\"sk-container-id-4\" class=\"sk-top-container\"><div class=\"sk-text-repr-fallback\"><pre>Pipeline(steps=[(&#x27;&#x27;,\n",
       "                 FunctionTransformer(func=&lt;function _custom_data_transform at 0x7f2fbbfade10&gt;,\n",
       "                                     kw_args={&#x27;cols2keep&#x27;: [&#x27;unit_cost&#x27;,\n",
       "                                                            &#x27;memory_size&#x27;,\n",
       "                                                            &#x27;tgt_enc_sim_impt_x2&#x27;,\n",
       "                                                            &#x27;days_since_last_purchase&#x27;,\n",
       "                                                            &#x27;first_time_customer&#x27;,\n",
       "                                                            &#x27;color&#x27;,\n",
       "                                                            &#x27;condition&#x27;,\n",
       "                                                            &#x27;quantity&#x27;,\n",
       "                                                            &#x27;channel&#x27;]})),\n",
       "                (&#x27;estimator&#x27;, SKLStatsmodelOLS())])</pre><b>In a Jupyter environment, please rerun this cell to show the HTML representation or trust the notebook. <br />On GitHub, the HTML representation is unable to render, please try loading this page with nbviewer.org.</b></div><div class=\"sk-container\" hidden><div class=\"sk-item sk-dashed-wrapped\"><div class=\"sk-label-container\"><div class=\"sk-label sk-toggleable\"><input class=\"sk-toggleable__control sk-hidden--visually\" id=\"sk-estimator-id-9\" type=\"checkbox\" ><label for=\"sk-estimator-id-9\" class=\"sk-toggleable__label sk-toggleable__label-arrow\">Pipeline</label><div class=\"sk-toggleable__content\"><pre>Pipeline(steps=[(&#x27;&#x27;,\n",
       "                 FunctionTransformer(func=&lt;function _custom_data_transform at 0x7f2fbbfade10&gt;,\n",
       "                                     kw_args={&#x27;cols2keep&#x27;: [&#x27;unit_cost&#x27;,\n",
       "                                                            &#x27;memory_size&#x27;,\n",
       "                                                            &#x27;tgt_enc_sim_impt_x2&#x27;,\n",
       "                                                            &#x27;days_since_last_purchase&#x27;,\n",
       "                                                            &#x27;first_time_customer&#x27;,\n",
       "                                                            &#x27;color&#x27;,\n",
       "                                                            &#x27;condition&#x27;,\n",
       "                                                            &#x27;quantity&#x27;,\n",
       "                                                            &#x27;channel&#x27;]})),\n",
       "                (&#x27;estimator&#x27;, SKLStatsmodelOLS())])</pre></div></div></div><div class=\"sk-serial\"><div class=\"sk-item\"><div class=\"sk-estimator sk-toggleable\"><input class=\"sk-toggleable__control sk-hidden--visually\" id=\"sk-estimator-id-10\" type=\"checkbox\" ><label for=\"sk-estimator-id-10\" class=\"sk-toggleable__label sk-toggleable__label-arrow\">FunctionTransformer</label><div class=\"sk-toggleable__content\"><pre>FunctionTransformer(func=&lt;function _custom_data_transform at 0x7f2fbbfade10&gt;,\n",
       "                    kw_args={&#x27;cols2keep&#x27;: [&#x27;unit_cost&#x27;, &#x27;memory_size&#x27;,\n",
       "                                           &#x27;tgt_enc_sim_impt_x2&#x27;,\n",
       "                                           &#x27;days_since_last_purchase&#x27;,\n",
       "                                           &#x27;first_time_customer&#x27;, &#x27;color&#x27;,\n",
       "                                           &#x27;condition&#x27;, &#x27;quantity&#x27;,\n",
       "                                           &#x27;channel&#x27;]})</pre></div></div></div><div class=\"sk-item\"><div class=\"sk-estimator sk-toggleable\"><input class=\"sk-toggleable__control sk-hidden--visually\" id=\"sk-estimator-id-11\" type=\"checkbox\" ><label for=\"sk-estimator-id-11\" class=\"sk-toggleable__label sk-toggleable__label-arrow\">SKLStatsmodelOLS</label><div class=\"sk-toggleable__content\"><pre>SKLStatsmodelOLS()</pre></div></div></div></div></div></div></div>"
      ],
      "text/plain": [
       "Pipeline(steps=[('',\n",
       "                 FunctionTransformer(func=<function _custom_data_transform at 0x7f2fbbfade10>,\n",
       "                                     kw_args={'cols2keep': ['unit_cost',\n",
       "                                                            'memory_size',\n",
       "                                                            'tgt_enc_sim_impt_x2',\n",
       "                                                            'days_since_last_purchase',\n",
       "                                                            'first_time_customer',\n",
       "                                                            'color',\n",
       "                                                            'condition',\n",
       "                                                            'quantity',\n",
       "                                                            'channel']})),\n",
       "                ('estimator', SKLStatsmodelOLS())])"
      ]
     },
     "execution_count": 73,
     "metadata": {},
     "output_type": "execute_result"
    }
   ],
   "source": [
    "reg_ppln_ols = Pipeline([\n",
    "    ('',FunctionTransformer(_custom_data_transform, kw_args={'cols2keep':reg_vars})),\n",
    "    ('estimator', SKLStatsmodelOLS())\n",
    "])\n",
    "reg_ppln_ols.fit(train_X, train_y.values.ravel())\n"
   ]
  },
  {
   "cell_type": "code",
   "execution_count": 74,
   "metadata": {},
   "outputs": [
    {
     "data": {
      "text/html": [
       "<table class=\"simpletable\">\n",
       "<caption>OLS Regression Results</caption>\n",
       "<tr>\n",
       "  <th>Dep. Variable:</th>            <td>y</td>        <th>  R-squared:         </th>  <td>   0.886</td>  \n",
       "</tr>\n",
       "<tr>\n",
       "  <th>Model:</th>                   <td>OLS</td>       <th>  Adj. R-squared:    </th>  <td>   0.886</td>  \n",
       "</tr>\n",
       "<tr>\n",
       "  <th>Method:</th>             <td>Least Squares</td>  <th>  F-statistic:       </th>  <td>1.205e+05</td> \n",
       "</tr>\n",
       "<tr>\n",
       "  <th>Date:</th>             <td>Fri, 03 Jan 2025</td> <th>  Prob (F-statistic):</th>   <td>  0.00</td>   \n",
       "</tr>\n",
       "<tr>\n",
       "  <th>Time:</th>                 <td>17:37:24</td>     <th>  Log-Likelihood:    </th> <td>-7.0720e+05</td>\n",
       "</tr>\n",
       "<tr>\n",
       "  <th>No. Observations:</th>      <td>139847</td>      <th>  AIC:               </th>  <td>1.414e+06</td> \n",
       "</tr>\n",
       "<tr>\n",
       "  <th>Df Residuals:</th>          <td>139837</td>      <th>  BIC:               </th>  <td>1.415e+06</td> \n",
       "</tr>\n",
       "<tr>\n",
       "  <th>Df Model:</th>              <td>     9</td>      <th>                     </th>      <td> </td>     \n",
       "</tr>\n",
       "<tr>\n",
       "  <th>Covariance Type:</th>      <td>nonrobust</td>    <th>                     </th>      <td> </td>     \n",
       "</tr>\n",
       "</table>\n",
       "<table class=\"simpletable\">\n",
       "<tr>\n",
       "              <td></td>                <th>coef</th>     <th>std err</th>      <th>t</th>      <th>P>|t|</th>  <th>[0.025</th>    <th>0.975]</th>  \n",
       "</tr>\n",
       "<tr>\n",
       "  <th>intercept</th>                <td>  -66.3704</td> <td>    0.572</td> <td> -115.991</td> <td> 0.000</td> <td>  -67.492</td> <td>  -65.249</td>\n",
       "</tr>\n",
       "<tr>\n",
       "  <th>unit_cost</th>                <td>    0.4018</td> <td>    0.002</td> <td>  176.506</td> <td> 0.000</td> <td>    0.397</td> <td>    0.406</td>\n",
       "</tr>\n",
       "<tr>\n",
       "  <th>memory_size</th>              <td>    0.2001</td> <td>    0.002</td> <td>  109.690</td> <td> 0.000</td> <td>    0.197</td> <td>    0.204</td>\n",
       "</tr>\n",
       "<tr>\n",
       "  <th>tgt_enc_sim_impt_x2</th>      <td>    0.6000</td> <td>    0.002</td> <td>  329.261</td> <td> 0.000</td> <td>    0.596</td> <td>    0.604</td>\n",
       "</tr>\n",
       "<tr>\n",
       "  <th>days_since_last_purchase</th> <td>    3.2138</td> <td>    0.167</td> <td>   19.201</td> <td> 0.000</td> <td>    2.886</td> <td>    3.542</td>\n",
       "</tr>\n",
       "<tr>\n",
       "  <th>first_time_customer</th>      <td>   34.4731</td> <td>    1.085</td> <td>   31.786</td> <td> 0.000</td> <td>   32.347</td> <td>   36.599</td>\n",
       "</tr>\n",
       "<tr>\n",
       "  <th>color</th>                    <td>    0.0247</td> <td>    0.003</td> <td>    8.307</td> <td> 0.000</td> <td>    0.019</td> <td>    0.031</td>\n",
       "</tr>\n",
       "<tr>\n",
       "  <th>condition</th>                <td>    0.3240</td> <td>    0.003</td> <td>  129.540</td> <td> 0.000</td> <td>    0.319</td> <td>    0.329</td>\n",
       "</tr>\n",
       "<tr>\n",
       "  <th>quantity</th>                 <td>   -0.0194</td> <td>    0.003</td> <td>   -7.185</td> <td> 0.000</td> <td>   -0.025</td> <td>   -0.014</td>\n",
       "</tr>\n",
       "<tr>\n",
       "  <th>channel</th>                  <td>    0.0133</td> <td>    0.003</td> <td>    4.478</td> <td> 0.000</td> <td>    0.007</td> <td>    0.019</td>\n",
       "</tr>\n",
       "</table>\n",
       "<table class=\"simpletable\">\n",
       "<tr>\n",
       "  <th>Omnibus:</th>       <td>39540.139</td> <th>  Durbin-Watson:     </th>  <td>   2.006</td>  \n",
       "</tr>\n",
       "<tr>\n",
       "  <th>Prob(Omnibus):</th>  <td> 0.000</td>   <th>  Jarque-Bera (JB):  </th> <td>2389066.457</td>\n",
       "</tr>\n",
       "<tr>\n",
       "  <th>Skew:</th>           <td> 0.512</td>   <th>  Prob(JB):          </th>  <td>    0.00</td>  \n",
       "</tr>\n",
       "<tr>\n",
       "  <th>Kurtosis:</th>       <td>23.223</td>   <th>  Cond. No.          </th>  <td>3.63e+03</td>  \n",
       "</tr>\n",
       "</table><br/><br/>Notes:<br/>[1] Standard Errors assume that the covariance matrix of the errors is correctly specified.<br/>[2] The condition number is large, 3.63e+03. This might indicate that there are<br/>strong multicollinearity or other numerical problems."
      ],
      "text/plain": [
       "<class 'statsmodels.iolib.summary.Summary'>\n",
       "\"\"\"\n",
       "                            OLS Regression Results                            \n",
       "==============================================================================\n",
       "Dep. Variable:                      y   R-squared:                       0.886\n",
       "Model:                            OLS   Adj. R-squared:                  0.886\n",
       "Method:                 Least Squares   F-statistic:                 1.205e+05\n",
       "Date:                Fri, 03 Jan 2025   Prob (F-statistic):               0.00\n",
       "Time:                        17:37:24   Log-Likelihood:            -7.0720e+05\n",
       "No. Observations:              139847   AIC:                         1.414e+06\n",
       "Df Residuals:                  139837   BIC:                         1.415e+06\n",
       "Df Model:                           9                                         \n",
       "Covariance Type:            nonrobust                                         \n",
       "============================================================================================\n",
       "                               coef    std err          t      P>|t|      [0.025      0.975]\n",
       "--------------------------------------------------------------------------------------------\n",
       "intercept                  -66.3704      0.572   -115.991      0.000     -67.492     -65.249\n",
       "unit_cost                    0.4018      0.002    176.506      0.000       0.397       0.406\n",
       "memory_size                  0.2001      0.002    109.690      0.000       0.197       0.204\n",
       "tgt_enc_sim_impt_x2          0.6000      0.002    329.261      0.000       0.596       0.604\n",
       "days_since_last_purchase     3.2138      0.167     19.201      0.000       2.886       3.542\n",
       "first_time_customer         34.4731      1.085     31.786      0.000      32.347      36.599\n",
       "color                        0.0247      0.003      8.307      0.000       0.019       0.031\n",
       "condition                    0.3240      0.003    129.540      0.000       0.319       0.329\n",
       "quantity                    -0.0194      0.003     -7.185      0.000      -0.025      -0.014\n",
       "channel                      0.0133      0.003      4.478      0.000       0.007       0.019\n",
       "==============================================================================\n",
       "Omnibus:                    39540.139   Durbin-Watson:                   2.006\n",
       "Prob(Omnibus):                  0.000   Jarque-Bera (JB):          2389066.457\n",
       "Skew:                           0.512   Prob(JB):                         0.00\n",
       "Kurtosis:                      23.223   Cond. No.                     3.63e+03\n",
       "==============================================================================\n",
       "\n",
       "Notes:\n",
       "[1] Standard Errors assume that the covariance matrix of the errors is correctly specified.\n",
       "[2] The condition number is large, 3.63e+03. This might indicate that there are\n",
       "strong multicollinearity or other numerical problems.\n",
       "\"\"\""
      ]
     },
     "execution_count": 74,
     "metadata": {},
     "output_type": "execute_result"
    }
   ],
   "source": [
    "reg_ppln_ols['estimator'].summary()"
   ]
  },
  {
   "cell_type": "markdown",
   "metadata": {},
   "source": [
    "### 4.1.5 Model Evaluation(Linear Model)\n",
    "\n",
    "This will be part of the production code."
   ]
  },
  {
   "cell_type": "code",
   "execution_count": 75,
   "metadata": {},
   "outputs": [],
   "source": [
    "reg_ppln = Pipeline([\n",
    "    ('', FunctionTransformer(_custom_data_transform, kw_args={'cols2keep':reg_vars})),\n",
    "    ('Linear Regression', SKLStatsmodelOLS())\n",
    "])\n",
    "test_X = get_dataframe(\n",
    "    features_transformer.transform(test_X),\n",
    "    get_feature_names_from_column_transformer(features_transformer)\n",
    ")\n",
    "test_X = test_X[curated_columns]"
   ]
  },
  {
   "cell_type": "code",
   "execution_count": 76,
   "metadata": {},
   "outputs": [
    {
     "name": "stderr",
     "output_type": "stream",
     "text": [
      "divide by zero encountered in true_divide\n",
      "divide by zero encountered in true_divide\n",
      "Residual Analysis: Ignoring 17 observations in train data for error analysis where y=0\n",
      "Residual Analysis: Ignoring 17 observations in train data for error analysis where y=0\n",
      "Residual Analysis: Ignoring 7 observations in test data for error analysis where y=0\n",
      "Residual Analysis: Ignoring 7 observations in test data for error analysis where y=0\n"
     ]
    }
   ],
   "source": [
    "reg_linear_report = RegressionReport(model=reg_ppln, x_train=train_X, y_train=train_y, x_test= test_X, y_test= test_y, refit=True)\n",
    "reg_linear_report.get_report(include_shap=False, file_path='reports/regression_linear_model_report')"
   ]
  },
  {
   "cell_type": "markdown",
   "metadata": {},
   "source": [
    "**Dev Notes**\n",
    "Use SHAP for variable interpretability.\n",
    "<details>\n",
    "\n",
    "    1. Use SHAP=True to generate variable interpretability plots in the report\n",
    "    2. SHAP is recommended for non parameteric models such as RF, xgboost.\n",
    "    3. However, SHAP reports are time consuming depending on no.of records and model complexity.\n",
    "    \n",
    "A sample of regerssion report with SHAP can be found [here](https://drive.google.com/file/d/18RlQTsT1ze09Cgz-qpb4ha_cvyWbN5F5/view?usp=sharing).\n",
    "</details>"
   ]
  },
  {
   "cell_type": "markdown",
   "metadata": {},
   "source": [
    "### 4.1.6 Residual Analysis\n",
    "- After scoring the model, it is recommended to do a residual analysis to know the distribution of errors\n",
    "- we took a threshold of 30% above which it is marked as over prediction or underprediction\n",
    "- This will not be part of the production code."
   ]
  },
  {
   "cell_type": "code",
   "execution_count": 77,
   "metadata": {},
   "outputs": [],
   "source": [
    "threshold=0.3\n",
    "residual_analysis = test_X.copy()\n",
    "residual_analysis['prediction'] = reg_ppln_ols.predict(test_X)\n",
    "residual_analysis['actuals'] = test_y.reset_index(drop = True).iloc[:,0].values\n",
    "residual_analysis['forecast_flag'] = 'good'\n",
    "residual_analysis.loc[((residual_analysis['prediction'] > (1+threshold) * residual_analysis['actuals'])\\\n",
    "                       & (residual_analysis['actuals']>100)),'forecast_flag'] = 'over predict'\n",
    "residual_analysis.loc[((residual_analysis['prediction'] < (1-threshold) * residual_analysis['actuals'])\\\n",
    "                       & (residual_analysis['actuals']>100)),'forecast_flag'] = 'under predict'"
   ]
  },
  {
   "cell_type": "code",
   "execution_count": 78,
   "metadata": {},
   "outputs": [
    {
     "data": {},
     "metadata": {},
     "output_type": "display_data"
    },
    {
     "data": {
      "application/vnd.holoviews_exec.v0+json": "",
      "text/html": [
       "<div id='168352'>\n",
       "  <div class=\"bk-root\" id=\"14eb5b12-d410-4501-8508-9ac9b62405ad\" data-root-id=\"168352\"></div>\n",
       "</div>\n",
       "<script type=\"application/javascript\">(function(root) {\n",
       "  function embed_document(root) {\n",
       "    var docs_json = {\"1ee34b9c-f60c-4ca2-b3ae-6d80b952a110\":{\"defs\":[{\"extends\":null,\"module\":null,\"name\":\"ReactiveHTML1\",\"overrides\":[],\"properties\":[]},{\"extends\":null,\"module\":null,\"name\":\"FlexBox1\",\"overrides\":[],\"properties\":[{\"default\":\"flex-start\",\"kind\":null,\"name\":\"align_content\"},{\"default\":\"flex-start\",\"kind\":null,\"name\":\"align_items\"},{\"default\":\"row\",\"kind\":null,\"name\":\"flex_direction\"},{\"default\":\"wrap\",\"kind\":null,\"name\":\"flex_wrap\"},{\"default\":\"flex-start\",\"kind\":null,\"name\":\"justify_content\"}]},{\"extends\":null,\"module\":null,\"name\":\"GridStack1\",\"overrides\":[],\"properties\":[{\"default\":\"warn\",\"kind\":null,\"name\":\"mode\"},{\"default\":null,\"kind\":null,\"name\":\"ncols\"},{\"default\":null,\"kind\":null,\"name\":\"nrows\"},{\"default\":true,\"kind\":null,\"name\":\"allow_resize\"},{\"default\":true,\"kind\":null,\"name\":\"allow_drag\"},{\"default\":[],\"kind\":null,\"name\":\"state\"}]},{\"extends\":null,\"module\":null,\"name\":\"click1\",\"overrides\":[],\"properties\":[{\"default\":\"\",\"kind\":null,\"name\":\"terminal_output\"},{\"default\":\"\",\"kind\":null,\"name\":\"debug_name\"},{\"default\":0,\"kind\":null,\"name\":\"clears\"}]},{\"extends\":null,\"module\":null,\"name\":\"NotificationAreaBase1\",\"overrides\":[],\"properties\":[{\"default\":\"bottom-right\",\"kind\":null,\"name\":\"position\"},{\"default\":0,\"kind\":null,\"name\":\"_clear\"}]},{\"extends\":null,\"module\":null,\"name\":\"NotificationArea1\",\"overrides\":[],\"properties\":[{\"default\":[],\"kind\":null,\"name\":\"notifications\"},{\"default\":\"bottom-right\",\"kind\":null,\"name\":\"position\"},{\"default\":0,\"kind\":null,\"name\":\"_clear\"},{\"default\":[{\"background\":\"#ffc107\",\"icon\":{\"className\":\"fas fa-exclamation-triangle\",\"color\":\"white\",\"tagName\":\"i\"},\"type\":\"warning\"},{\"background\":\"#007bff\",\"icon\":{\"className\":\"fas fa-info-circle\",\"color\":\"white\",\"tagName\":\"i\"},\"type\":\"info\"}],\"kind\":null,\"name\":\"types\"}]},{\"extends\":null,\"module\":null,\"name\":\"Notification\",\"overrides\":[],\"properties\":[{\"default\":null,\"kind\":null,\"name\":\"background\"},{\"default\":3000,\"kind\":null,\"name\":\"duration\"},{\"default\":null,\"kind\":null,\"name\":\"icon\"},{\"default\":\"\",\"kind\":null,\"name\":\"message\"},{\"default\":null,\"kind\":null,\"name\":\"notification_type\"},{\"default\":false,\"kind\":null,\"name\":\"_destroyed\"}]},{\"extends\":null,\"module\":null,\"name\":\"TemplateActions1\",\"overrides\":[],\"properties\":[{\"default\":0,\"kind\":null,\"name\":\"open_modal\"},{\"default\":0,\"kind\":null,\"name\":\"close_modal\"}]},{\"extends\":null,\"module\":null,\"name\":\"MaterialTemplateActions1\",\"overrides\":[],\"properties\":[{\"default\":0,\"kind\":null,\"name\":\"open_modal\"},{\"default\":0,\"kind\":null,\"name\":\"close_modal\"}]}],\"roots\":{\"references\":[{\"attributes\":{\"fill_alpha\":0.5,\"fill_color\":\"#fc4f30\",\"hatch_alpha\":0.7,\"hatch_color\":\"#fc4f30\",\"line_alpha\":0.7,\"x\":{\"field\":\"x\"},\"y\":{\"field\":\"y\"}},\"id\":\"168437\",\"type\":\"Patch\"},{\"attributes\":{},\"id\":\"168439\",\"type\":\"Selection\"},{\"attributes\":{},\"id\":\"168364\",\"type\":\"LinearScale\"},{\"attributes\":{\"axis\":{\"id\":\"168368\"},\"coordinates\":null,\"grid_line_color\":null,\"group\":null,\"ticker\":null},\"id\":\"168371\",\"type\":\"Grid\"},{\"attributes\":{\"coordinates\":null,\"group\":null,\"text\":\"unit cost(density)\",\"text_color\":\"black\",\"text_font_size\":\"12pt\"},\"id\":\"168360\",\"type\":\"Title\"},{\"attributes\":{\"fill_alpha\":0.5,\"fill_color\":\"#e5ae38\",\"hatch_alpha\":0.7,\"hatch_color\":\"#e5ae38\",\"line_alpha\":0.7,\"x\":{\"field\":\"x\"},\"y\":{\"field\":\"y\"}},\"id\":\"168461\",\"type\":\"Patch\"},{\"attributes\":{\"source\":{\"id\":\"168438\"}},\"id\":\"168445\",\"type\":\"CDSView\"},{\"attributes\":{},\"id\":\"168417\",\"type\":\"Selection\"},{\"attributes\":{\"fill_alpha\":0.5,\"fill_color\":\"#30a2da\",\"hatch_alpha\":0.1,\"hatch_color\":\"#30a2da\",\"line_alpha\":0.7,\"x\":{\"field\":\"x\"},\"y\":{\"field\":\"y\"}},\"id\":\"168399\",\"type\":\"Patch\"},{\"attributes\":{},\"id\":\"168457\",\"type\":\"UnionRenderers\"},{\"attributes\":{\"click_policy\":\"mute\",\"coordinates\":null,\"group\":null,\"items\":[{\"id\":\"168414\"},{\"id\":\"168436\"},{\"id\":\"168460\"}],\"title\":\"forecast_flag\"},\"id\":\"168413\",\"type\":\"Legend\"},{\"attributes\":{},\"id\":\"168377\",\"type\":\"PanTool\"},{\"attributes\":{\"fill_alpha\":0.5,\"fill_color\":\"#30a2da\",\"hatch_alpha\":0.7,\"hatch_color\":\"#30a2da\",\"line_alpha\":0.7,\"x\":{\"field\":\"x\"},\"y\":{\"field\":\"y\"}},\"id\":\"168415\",\"type\":\"Patch\"},{\"attributes\":{\"fill_alpha\":0.5,\"fill_color\":\"#fc4f30\",\"hatch_alpha\":0.1,\"hatch_color\":\"#fc4f30\",\"line_alpha\":0.7,\"x\":{\"field\":\"x\"},\"y\":{\"field\":\"y\"}},\"id\":\"168420\",\"type\":\"Patch\"},{\"attributes\":{\"data\":{\"x\":{\"__ndarray__\":\"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\",\"dtype\":\"float64\",\"order\":\"little\",\"shape\":[200]},\"y\":{\"__ndarray__\":\"AAAAAAAAAAAAAAAAAAAAAAAAAAAAAAAAAAAAAAAAAAAAAAAAAAAAAAAAAAAAAAAAAAAAAAAAAAAAAAAAAAAAAAAAAAAAAAAAAAAAAAAAAAAAAAAAAAAAAAAAAAAAAAAAAAAAAAAAAAAAAAAAAAAAAAAAAAAAAAAAAAAAAAAAAAAAAAAAAAAAAAAAAAAAAAAAAAAAAAAAAAAAAAAAAAAAAAAAAAAAAAAAAAAAAAAAAAAAAAAAAAAAAAAAAAAAAAAAAAAAAAAAAAAAAAAAAAAAAAAAAAAAAAAAAAAAAAAAAAAAAAAAAAAAAAAAAAAAAAAAAAAAAAAAAAAAAAAAAAAAAAAAAAAAAAAAAAAAAAAAAAAAAAAAAAAAAAAAAAAAAAAAAAAAAAAAAAAAAAAAAAAAAAAAAAAAAAAAAAAAAAAAAAAAAAAAAAAAAAAAAAAAAAAAAAAAAAAAAAAAAAAAAAAAAAAAAAAAAAAAAAAAAAAAAAAAAAAAAAAAAAAAAAAAAAAAAAAAAAAAAAAAAAAAAAAAAAAAAAAAAAAAAAAAAAAAAAAAAAAAAAAAAAAAAAAAAAAAAAAAAAAAAAAAAAAAAAAAAAAAAAAAAAAAAAAAAAAAAAAAAAAAAAAAAAAAAAAAAAAAAAAAAAAAAAAAAAAAAAAAAAAAAAAAAAAAAAAAAAAAAAAAAAAAAAAAAAAAAAAAAAAAAAAAAAAAAAAAAAAAAAAAAAAAAAAAAAAAAAAAAAAAAAAAAAAAAAAAAAAAAAAAAAAAAAAAAAAAAAAAAAAAAAAAAAAAAAAAAAAAAAAAAAAAAAAAAAAAAAAAAAAAAAAAAAAAAAAAAAAAAAAAAAAAAAAAAAAAAAAAAAAAAAAAAAAAAAAAAAAAAAAAAAAAAAAAAAAAAAAAAAAAAAAAAAAAAAAAAAAAAAAAAAAAAAAAAAAAAAAAAAAAAAAAAAAAAAAAAAAAAAAAAAAAAAAAAAAAAAAAAAAAAAAAAAAAAAAAAAAAAAAAAAAAAAAAAAAAAAAAAAAAAAAAAAAAAAAAAAAAAAAAAAAAAAAAAAAAAAAAAAAAAACE7svSKlh0PrfEsN9P2qs+puEzcvcTzz70FLd1/kLcPnw9MVo38tQ+7kN+ab9OuT7W0cWklCOKPnoE9bOgbos+lT6MHYmHvD6sFBtchFTZPpr7iuvLVOI+peVQe9qg1T5hVexNyZ+1PnXPsnrAZLI+7NGaDCBW4D4aGziDvY/6PqduTUAFnAE/mInYrZoH8z5DdCs0XMTQPnJOAlQqRZw+5hPvVfijsD7Jccsd4ibaPr8elpq1FfE+AUmHoQzf8j6C0pAy8tjnPoMi/nZleus+r2SK1One8T7T1I8FLbbmPloWlB+4p9E+T/oqLPKu0T6SlDFzZMfcPtrsbWbbO+Y+rjLQKXge9T4sGwofq5P3Ph1/SwNnI+c+D5QNZ0Ci0D4v8nZWnPnXPhnckOaEEug+jVtH62uK8T6Wd/yR8CbwPl/dYWRVM+4+BZFYdYJW8j6En+scOkLuPs4RQVvhKOs+fbAQuUdr9T7M/H5GEzL6Po1ZfHMw5vo+N0uxXdEQAD9P9h0OwAD8PjWmw/XVBOs+AYqBbQ1+3D4UiGAAGxfpPicIEDzdTQI/8pWJ1yRbFz/uC8lIk3cgP5snxKV1Mhw/Po5N4EqxFz8LpYzAl1QcP5JMttX7ViE/KkPDCBF6Hj9OuXN7XZkXP4u8I4y0PRo/eLOf1oC9ID+PB1EJONwjP25QkqqMDCw/WcSWtro1Mj8oOYD9ZYUxP4SLVcUlgTA/o/tpixMwND+WxcqamYg3P2YTNU8pDTg/woRm2vSWPD+OirTHEP1CP+L8s9lAIkg/OjhU/0luST8TzC0iF+5JP8xN1wUOw0w/88Qx2ExiSz/T7tpIl0ZHP6Gd75sGYk0/HqtHTCpCWD/r4i4UJiNfP/NJ2TaY52A/UgK572VYZD9s3d1BwOBpP5vNH6Ya9G8/e4W08TsHcj/tZJgCQzZzPwZfbacQQ3U/t3v9d74iej9mpZuNfr9+P7SL7eQ+jH8/3CFPlwE5fj+iiF1aV5p7Py6TN2HEM3Q/z1yIMy+FZD+h7ovlWVdQP8te/tf0YjQ/3PwH0Uj8DD+7R2UGIu7SPg==\",\"dtype\":\"float64\",\"order\":\"little\",\"shape\":[200]}},\"selected\":{\"id\":\"168396\"},\"selection_policy\":{\"id\":\"168410\"}},\"id\":\"168395\",\"type\":\"ColumnDataSource\"},{\"attributes\":{\"coordinates\":null,\"data_source\":{\"id\":\"168416\"},\"glyph\":{\"id\":\"168419\"},\"group\":null,\"hover_glyph\":null,\"muted_glyph\":{\"id\":\"168421\"},\"nonselection_glyph\":{\"id\":\"168420\"},\"selection_glyph\":{\"id\":\"168437\"},\"view\":{\"id\":\"168423\"}},\"id\":\"168422\",\"type\":\"GlyphRenderer\"},{\"attributes\":{\"coordinates\":null,\"data_source\":{\"id\":\"168438\"},\"glyph\":{\"id\":\"168441\"},\"group\":null,\"hover_glyph\":null,\"muted_glyph\":{\"id\":\"168443\"},\"nonselection_glyph\":{\"id\":\"168442\"},\"selection_glyph\":{\"id\":\"168461\"},\"view\":{\"id\":\"168445\"}},\"id\":\"168444\",\"type\":\"GlyphRenderer\"},{\"attributes\":{\"fill_alpha\":0.5,\"fill_color\":\"#fc4f30\",\"hatch_alpha\":0.7,\"hatch_color\":\"#fc4f30\",\"line_alpha\":0.7,\"x\":{\"field\":\"x\"},\"y\":{\"field\":\"y\"}},\"id\":\"168419\",\"type\":\"Patch\"},{\"attributes\":{\"overlay\":{\"id\":\"168381\"}},\"id\":\"168379\",\"type\":\"BoxZoomTool\"},{\"attributes\":{},\"id\":\"168390\",\"type\":\"BasicTickFormatter\"},{\"attributes\":{\"children\":[{\"id\":\"168353\"},{\"id\":\"168359\"},{\"id\":\"168574\"}],\"margin\":[0,0,0,0],\"name\":\"Row397315\",\"tags\":[\"embedded\"]},\"id\":\"168352\",\"type\":\"Row\"},{\"attributes\":{\"fill_alpha\":0.2,\"fill_color\":\"#30a2da\",\"hatch_alpha\":0.2,\"hatch_color\":\"#30a2da\",\"line_alpha\":0.2,\"x\":{\"field\":\"x\"},\"y\":{\"field\":\"y\"}},\"id\":\"168400\",\"type\":\"Patch\"},{\"attributes\":{\"fill_alpha\":0.2,\"fill_color\":\"#fc4f30\",\"hatch_alpha\":0.2,\"hatch_color\":\"#fc4f30\",\"line_alpha\":0.2,\"x\":{\"field\":\"x\"},\"y\":{\"field\":\"y\"}},\"id\":\"168421\",\"type\":\"Patch\"},{\"attributes\":{},\"id\":\"168394\",\"type\":\"AllLabels\"},{\"attributes\":{\"fill_alpha\":0.5,\"fill_color\":\"#30a2da\",\"hatch_alpha\":0.7,\"hatch_color\":\"#30a2da\",\"line_alpha\":0.7,\"x\":{\"field\":\"x\"},\"y\":{\"field\":\"y\"}},\"id\":\"168398\",\"type\":\"Patch\"},{\"attributes\":{},\"id\":\"168366\",\"type\":\"LinearScale\"},{\"attributes\":{\"tools\":[{\"id\":\"168356\"},{\"id\":\"168376\"},{\"id\":\"168377\"},{\"id\":\"168378\"},{\"id\":\"168379\"},{\"id\":\"168380\"}]},\"id\":\"168382\",\"type\":\"Toolbar\"},{\"attributes\":{},\"id\":\"168376\",\"type\":\"SaveTool\"},{\"attributes\":{},\"id\":\"168378\",\"type\":\"WheelZoomTool\"},{\"attributes\":{\"margin\":[5,5,5,5],\"name\":\"HSpacer397320\",\"sizing_mode\":\"stretch_width\"},\"id\":\"168574\",\"type\":\"Spacer\"},{\"attributes\":{\"label\":{\"value\":\"good\"},\"renderers\":[{\"id\":\"168401\"}]},\"id\":\"168414\",\"type\":\"LegendItem\"},{\"attributes\":{},\"id\":\"168393\",\"type\":\"BasicTickFormatter\"},{\"attributes\":{\"margin\":[5,5,5,5],\"name\":\"HSpacer397319\",\"sizing_mode\":\"stretch_width\"},\"id\":\"168353\",\"type\":\"Spacer\"},{\"attributes\":{},\"id\":\"168391\",\"type\":\"AllLabels\"},{\"attributes\":{},\"id\":\"168369\",\"type\":\"BasicTicker\"},{\"attributes\":{\"fill_alpha\":0.2,\"fill_color\":\"#e5ae38\",\"hatch_alpha\":0.2,\"hatch_color\":\"#e5ae38\",\"line_alpha\":0.2,\"x\":{\"field\":\"x\"},\"y\":{\"field\":\"y\"}},\"id\":\"168443\",\"type\":\"Patch\"},{\"attributes\":{},\"id\":\"168380\",\"type\":\"ResetTool\"},{\"attributes\":{\"data\":{\"x\":{\"__ndarray__\":\"t86Uc7yTZMDMLPBcsARZwFR4baXPw0HA4NEK3oIDPUAaJbxBqWNXQN3K+uU4w2NAL4MXK53Ua0DAHRq4APNxQOh5qNqy+3VAENY2/WQEekA4MsUfFw1+QDHHKaHkCoFARfVwsj0Pg0BZI7jDlhOFQG5R/9TvF4dAgn9G5kgciUCWrY33oSCLQKrb1Aj7JI1AvgkcGlQpj0Dpm7GV1paQQPMyVR4DmZFA/sn4pi+bkkAIYZwvXJ2TQBL4P7iIn5RAHI/jQLWhlUAmJofJ4aOWQDC9KlIOppdAOlTO2jqomEBF63FjZ6qZQE+CFeyTrJpAWRm5dMCum0BjsFz97LCcQG1HAIYZs51Ad96jDka1nkCBdUeXcrefQEaG9Y/PXKBAy1FH1OXdoEBQHZkY/F6hQNXo6lwS4KFAWrQ8oShhokDff47lPuKiQGVL4ClVY6NA6hYybmvko0Bv4oOygWWkQPSt1faX5qRAeXknO65npUD+RHl/xOilQIMQy8PaaaZACNwcCPHqpkCNp25MB2ynQBJzwJAd7adAlz4S1TNuqEAcCmQZSu+oQKHVtV1gcKlAJqEHonbxqUCrbFnmjHKqQDE4qyqj86pAtgP9brl0q0A7z06zz/WrQMCaoPfldqxARWbyO/z3rEDKMUSAEnmtQE/9lcQo+q1A1MjnCD97rkBZlDlNVfyuQN9fi5Frfa9AYyvd1YH+r0B0excNzD+wQDZhQC9XgLBA+UZpUeLAsEC7LJJzbQGxQH4Su5X4QbFAQPjjt4OCsUAD3gzaDsOxQMXDNfyZA7JAiKleHiVEskBKj4dAsISyQA11sGI7xbJAz1rZhMYFs0CSQAKnUUazQFQmK8nchrNAFwxU62fHs0Da8XwN8we0QJzXpS9+SLRAX73OUQmJtEAho/dzlMm0QOSIIJYfCrVApm5JuKpKtUBpVHLaNYu1QCs6m/zAy7VA7h/EHkwMtkCwBe1A10y2QHPrFWNijbZANdE+he3NtkD4tmeneA63QLqckMkDT7dAfYK5646Pt0BAaOINGtC3QAJOCzClELhAxTM0UjBRuEDFMzRSMFG4QAJOCzClELhAQGjiDRrQt0B9grnrjo+3QLqckMkDT7dA+LZnp3gOt0A10T6F7c22QHPrFWNijbZAsAXtQNdMtkDuH8QeTAy2QCs6m/zAy7VAaVRy2jWLtUCmbkm4qkq1QOSIIJYfCrVAIaP3c5TJtEBfvc5RCYm0QJzXpS9+SLRA2vF8DfMHtEAXDFTrZ8ezQFQmK8nchrNAkkACp1FGs0DPWtmExgWzQA11sGI7xbJASo+HQLCEskCIqV4eJUSyQMXDNfyZA7JAA94M2g7DsUBA+OO3g4KxQH4Su5X4QbFAuyySc20BsUD5RmlR4sCwQDZhQC9XgLBAdHsXDcw/sEBjK93Vgf6vQN9fi5Frfa9AWZQ5TVX8rkDUyOcIP3uuQE/9lcQo+q1AyjFEgBJ5rUBFZvI7/PesQMCaoPfldqxAO89Os8/1q0C2A/1uuXSrQDE4qyqj86pAq2xZ5oxyqkAmoQeidvGpQKHVtV1gcKlAHApkGUrvqECXPhLVM26oQBJzwJAd7adAjaduTAdsp0AI3BwI8eqmQIMQy8PaaaZA/kR5f8TopUB5eSc7rmelQPSt1faX5qRAb+KDsoFlpEDqFjJua+SjQGVL4ClVY6NA33+O5T7iokBatDyhKGGiQNXo6lwS4KFAUB2ZGPxeoUDLUUfU5d2gQEaG9Y/PXKBAgXVHl3K3n0B33qMORrWeQG1HAIYZs51AY7Bc/eywnEBZGbl0wK6bQE+CFeyTrJpARetxY2eqmUA6VM7aOqiYQDC9KlIOppdAJiaHyeGjlkAcj+NAtaGVQBL4P7iIn5RACGGcL1ydk0D+yfimL5uSQPMyVR4DmZFA6ZuxldaWkEC+CRwaVCmPQKrb1Aj7JI1Alq2N96Egi0CCf0bmSByJQG5R/9TvF4dAWSO4w5YThUBF9XCyPQ+DQDHHKaHkCoFAODLFHxcNfkAQ1jb9ZAR6QOh5qNqy+3VAwB0auADzcUAvgxcrndRrQN3K+uU4w2NAGiW8QaljV0Dg0QreggM9QFR4baXPw0HAzCzwXLAEWcC3zpRzvJNkwA==\",\"dtype\":\"float64\",\"order\":\"little\",\"shape\":[200]},\"y\":{\"__ndarray__\":\"AAAAAAAAAAAAAAAAAAAAAAAAAAAAAAAAAAAAAAAAAAAAAAAAAAAAAAAAAAAAAAAAAAAAAAAAAAAAAAAAAAAAAAAAAAAAAAAAAAAAAAAAAAAAAAAAAAAAAAAAAAAAAAAAAAAAAAAAAAAAAAAAAAAAAAAAAAAAAAAAAAAAAAAAAAAAAAAAAAAAAAAAAAAAAAAAAAAAAAAAAAAAAAAAAAAAAAAAAAAAAAAAAAAAAAAAAAAAAAAAAAAAAAAAAAAAAAAAAAAAAAAAAAAAAAAAAAAAAAAAAAAAAAAAAAAAAAAAAAAAAAAAAAAAAAAAAAAAAAAAAAAAAAAAAAAAAAAAAAAAAAAAAAAAAAAAAAAAAAAAAAAAAAAAAAAAAAAAAAAAAAAAAAAAAAAAAAAAAAAAAAAAAAAAAAAAAAAAAAAAAAAAAAAAAAAAAAAAAAAAAAAAAAAAAAAAAAAAAAAAAAAAAAAAAAAAAAAAAAAAAAAAAAAAAAAAAAAAAAAAAAAAAAAAAAAAAAAAAAAAAAAAAAAAAAAAAAAAAAAAAAAAAAAAAAAAAAAAAAAAAAAAAAAAAAAAAAAAAAAAAAAAAAAAAAAAAAAAAAAAAAAAAAAAAAAAAAAAAAAAAAAAAAAAAAAAAAAAAAAAAAAAAAAAAAAAAAAAAAAAAAAAAAAAAAAAAAAAAAAAAAAAAAAAAAAAAAAAAAAAAAAAAAAAAAAAAAAAAAAAAAAAAAAAAAAAAAAAAAAAAAAAAAAAAAAAAAAAAAAAAAAAAAAAAAAAAAAAAAAAAAAAAAAAAAAAAAAAAAAAAAAAAAAAAAAAAAAAAAAAAAAAAAAAAAAAAAAAAAAAAAAAAAAAAAAAAAAAAAAAAAAAAAAAAAAAAAAAAAAAAAAAAAAAAAAAAAAAAAAAAAAAAAAAAAAAAAAAAAAAAAAAAAAAAAAAAAAAAAAAAAAAAAAAAAAAAAAAAAAAAAAAAAAAAAAAAAAAAAAAAAAAAAAAAAAAAAAAAAAAAAAAAAAAAAAAAAAAAAAAAAAAAAAAAAAAAAAAAAAAAAAAAAAAAAAAAAAAAAAAAAAAAADZNtYDF8hzPk2mUhzWGLU+k4ZV67iP1j7Xi8MdhDHYPv/USDiwA7o+HgWVfIYMfD689iDnQlMePjfIDR4ecKA9iMD3pYneAT3hKShqdXpDPHX3I9ZUSmU7slWooaRVZzriUWd0GaVJOd9iZGvXQgw4uzUfT7Q6rzYgh/1WQ00xNWXCukRCOZMzpBcmbtpq1TF7SED9O+33L6nQcNmVzfotoDCWm3gb3isFEmUMp/SgKfaGbgl1JkMnHDZY1xywxSS5Rn9SDKEoIimRgmWqC2wfmtEBqfoCkByjFKERIlWSGa2oAckZDHUWty92V+Q6OBNdVHgfa/jbD5JXcT4tMGAM8VsMvxjKwgi4viv/SN4FBbA2yJ1whSkBPAAAAAAAAAAAAAAAAAAAAAAAAAAAAAAAAAAAAAAAAAAAAAAAAAAAAAAAAAAAAAAAAAAAAAAAAAAAAAAAAAAAAAAAAAAAAAAAAAAAAAAAAAAAAAAAAAAAAAAAAAAAAAAAywAAAAAAAABCYnko+uVEARDcLSxsPiEFCB0GpNqI3Ag+3zAtc6x3DP5KhJjHsfMPEAOymMxtUBMMxUaiDHyLFhXs8qaIDacZFPwy0HtjoxzSES0H81mAHy7razC8pzsioQvW6WBz1yRY/2jRlPBTJ3gjN6w2ALEpLiphysMR7SscytJPqOsILnuCgKoWbAUw3bWMZSB34jGIJXW3kuufM8eYc+Y5qjs1za96RuEKuDZYr7pulfMUOMsXCkjMTlI5sg3LfpsKcDouJFkJKjBsO5ugCnyI1Ug8hZq2m57wBT0MTT1ay3CjPcfsjbq3SyE+Cg3lgYkVfz6Yz4Zn6CG9PmjCUI5NkuA+7LMPXgGd8T6CqA5msa/5PivE+AFJofs+pSP7+3l7+j4C77EyiIwFP0IUWINJPAs/nJPOIxrWBz/Xs0ePUJISPwIbpNHhaCs/TQhgwY4KQT9bVAT3gHhIP9HzAfrCC0w/2xc1KaTMVT/4uEUqxF1lPxSYN+s1t3E/6cLNBfADbD/qpmCF4stQPwQdZSVVPB8/bWp6U00I3j7KhTrLOA6RPg==\",\"dtype\":\"float64\",\"order\":\"little\",\"shape\":[200]}},\"selected\":{\"id\":\"168417\"},\"selection_policy\":{\"id\":\"168433\"}},\"id\":\"168416\",\"type\":\"ColumnDataSource\"},{\"attributes\":{},\"id\":\"168410\",\"type\":\"UnionRenderers\"},{\"attributes\":{\"end\":6225.188754332198,\"reset_end\":6225.188754332198,\"reset_start\":-164.61675433219872,\"start\":-164.61675433219872,\"tags\":[[[\"unit_cost\",\"unit_cost\",null]]]},\"id\":\"168354\",\"type\":\"Range1d\"},{\"attributes\":{\"fill_alpha\":0.5,\"fill_color\":\"#e5ae38\",\"hatch_alpha\":0.7,\"hatch_color\":\"#e5ae38\",\"line_alpha\":0.7,\"x\":{\"field\":\"x\"},\"y\":{\"field\":\"y\"}},\"id\":\"168441\",\"type\":\"Patch\"},{\"attributes\":{\"bottom_units\":\"screen\",\"coordinates\":null,\"fill_alpha\":0.5,\"fill_color\":\"lightgrey\",\"group\":null,\"left_units\":\"screen\",\"level\":\"overlay\",\"line_alpha\":1.0,\"line_color\":\"black\",\"line_dash\":[4,4],\"line_width\":2,\"right_units\":\"screen\",\"syncable\":false,\"top_units\":\"screen\"},\"id\":\"168381\",\"type\":\"BoxAnnotation\"},{\"attributes\":{\"data\":{\"x\":{\"__ndarray__\":\"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\",\"dtype\":\"float64\",\"order\":\"little\",\"shape\":[200]},\"y\":{\"__ndarray__\":\"AAAAAAAAAAAAAAAAAAAAAAAAAAAAAAAAAAAAAAAAAAAAAAAAAAAAAAAAAAAAAAAAAAAAAAAAAAAAAAAAAAAAAAAAAAAAAAAAAAAAAAAAAAAAAAAAAAAAAAAAAAAAAAAAAAAAAAAAAAAAAAAAAAAAAAAAAAAAAAAAAAAAAAAAAAAAAAAAAAAAAAAAAAAAAAAAAAAAAAAAAAAAAAAAAAAAAAAAAAAAAAAAAAAAAAAAAAAAAAAAAAAAAAAAAAAAAAAAAAAAAAAAAAAAAAAAAAAAAAAAAAAAAAAAAAAAAAAAAAAAAAAAAAAAAAAAAAAAAAAAAAAAAAAAAAAAAAAAAAAAAAAAAAAAAAAAAAAAAAAAAAAAAAAAAAAAAAAAAAAAAAAAAAAAAAAAAAAAAAAAAAAAAAAAAAAAAAAAAAAAAAAAAAAAAAAAAAAAAAAAAAAAAAAAAAAAAAAAAAAAAAAAAAAAAAAAAAAAAAAAAAAAAAAAAAAAAAAAAAAAAAAAAAAAAAAAAAAAAAAAAAAAAAAAAAAAAAAAAAAAAAAAAAAAAAAAAAAAAAAAAAAAAAAAAAAAAAAAAAAAAAAAAAAAAAAAAAAAAAAAAAAAAAAAAAAAAAAAAAAAAAAAAAAAAAAAAAAAAAAAAAAAAAAAAAAAAAAAAAAAAAAAAAAAAAAAAAAAAAAAAAAAAAAAAAAAAAAAAAAAAAAAAAAAAAAAAAAAAAAAAAAAAAAAAAAAAAAAAAAAAAAAAAAAAAAAAAAAAAAAAAAAAAAAAAAAAAAAAAAAAAAAAAAAAAAAAAAAAAAAAAAAAAAAAAAAAAAAAAAAAAAAAAAAAAAAAAAAAAAAAAAAAAAAAAAAAAAAAAAAAAAAAAAAAAAAAAAAAAAAAAAAAAAAAAAAAAAAAAAAAAAAAAAAAAAAAAAAAAAAAAAAAAAAAAAAAAAAAAAAAAAAAAAAAAAAAAAAAAAAAAAAAAAAAAAAAAAAAAAAAAAAAAAAAAAAAAAAAAAAAAAAAAAAAAAAAAAAAAAAAAAAAAAAAAAAAAAAAAAAAAAAAAAAAAAAAAAAAAAAAAAAAAALHmEnr0aHPtBxYBursZw+gV3X3KgosD6xPoK9mqnAPoGVUE1rjM8+FFAJ+BqE2z6WD5eggTTmPpMuLyp7qfA+qX0vB5Zf9z77ax6zr8z+PrOzNWukIgM/fSGtSCl4Bj8Ustwf3/EIP1GaJ5j7LAo/H0Bwjpz/CT+uLqwfbJ0IP0unzyFPogY/p8/hI6LxBD85Sz3MfXAEP7hhyQ4AvAU/O+9lsv4ECT+m3evMhiYOP6enAA/zchI/VcXRsPqVFj9DiGuU94QbP0Wf6kTyoCA/HJ8cOI7SIz/RtCJoeScnP6rfJ4ryXCo/iQe17XwvLT/LjU1qMmkvP0hliBvocjA/oS9SbqjIMD9NlUuGCrUwP/L/SpitRDA/tKRp5YkrLz/SpVvw2K4tP8SPNGnlgyw/sqqVzXUTLD+cRAUTOaIsPzID2LC9PS4/zKgu3HpeMD80moQA5OsxP3GBKkz5pTM/O7HNYOx8NT/Y0YtPQnM3P2wQYsoukjk/ojYjIkvdOz+EcRAq51I+Py+ElvUzfUA/fabnAZv5QT8tsBhOXrlDP2jKvCbh1UU/nXjJFv1VSD9aBdlfiiNLP16RPv3xD04/ObOmNghzUD/j3YNjIL9RPzU1J4ES5FI/H0/pRS/jUz8qsN5mFcJUP2TlAV7GiFU/zMw5bARGVj+loDZUARdXPzrX2/UdLFg/E9Eu/3zGWT+TfYYoCy9cP/rw4Dmuql8/NlWLpR83Yj+5oNf09UhlP+DuIGltAWk/LNsWW9U6bT9eBDnXhNhwP+YM9zdgBHM/jrQbHrfwdD/jPmTFtnV2PwzeO/FYe3c/qxKHiMf4dz9YpzGmlu13P+QKNsxRXHc/2DX1d0tNdj+xQHwsGtl0P1hKpEzWMXM/VVxtOFagcT/qp4HhA3FwPwMI4d/eq28/5JAFxxeXbz/4/T8lWQ9wP9R2LsT5MXA/wbOR6LKCbz+r3zUvwPFsP/JLC14evmg/Ayq9BhqBYz+mABIxTzJcP3fQidCxn1I/ICpIqYZuRj9r/UG9xJk4P+j7wDwGiyg/K9xIIuZCFj/YFXydpFkCPw==\",\"dtype\":\"float64\",\"order\":\"little\",\"shape\":[200]}},\"selected\":{\"id\":\"168439\"},\"selection_policy\":{\"id\":\"168457\"}},\"id\":\"168438\",\"type\":\"ColumnDataSource\"},{\"attributes\":{\"coordinates\":null,\"data_source\":{\"id\":\"168395\"},\"glyph\":{\"id\":\"168398\"},\"group\":null,\"hover_glyph\":null,\"muted_glyph\":{\"id\":\"168400\"},\"nonselection_glyph\":{\"id\":\"168399\"},\"selection_glyph\":{\"id\":\"168415\"},\"view\":{\"id\":\"168402\"}},\"id\":\"168401\",\"type\":\"GlyphRenderer\"},{\"attributes\":{},\"id\":\"168373\",\"type\":\"BasicTicker\"},{\"attributes\":{\"source\":{\"id\":\"168395\"}},\"id\":\"168402\",\"type\":\"CDSView\"},{\"attributes\":{},\"id\":\"168396\",\"type\":\"Selection\"},{\"attributes\":{\"below\":[{\"id\":\"168368\"}],\"center\":[{\"id\":\"168371\"},{\"id\":\"168375\"},{\"id\":\"168413\"}],\"height\":400,\"left\":[{\"id\":\"168372\"}],\"margin\":[5,5,5,5],\"min_border_bottom\":10,\"min_border_left\":10,\"min_border_right\":10,\"min_border_top\":10,\"renderers\":[{\"id\":\"168401\"},{\"id\":\"168422\"},{\"id\":\"168444\"}],\"sizing_mode\":\"fixed\",\"title\":{\"id\":\"168360\"},\"toolbar\":{\"id\":\"168382\"},\"width\":800,\"x_range\":{\"id\":\"168354\"},\"x_scale\":{\"id\":\"168364\"},\"y_range\":{\"id\":\"168355\"},\"y_scale\":{\"id\":\"168366\"}},\"id\":\"168359\",\"subtype\":\"Figure\",\"type\":\"Plot\"},{\"attributes\":{\"label\":{\"value\":\"over predict\"},\"renderers\":[{\"id\":\"168422\"}]},\"id\":\"168436\",\"type\":\"LegendItem\"},{\"attributes\":{\"axis_label\":\"density\",\"coordinates\":null,\"formatter\":{\"id\":\"168393\"},\"group\":null,\"major_label_policy\":{\"id\":\"168394\"},\"ticker\":{\"id\":\"168373\"}},\"id\":\"168372\",\"type\":\"LinearAxis\"},{\"attributes\":{\"label\":{\"value\":\"under predict\"},\"renderers\":[{\"id\":\"168444\"}]},\"id\":\"168460\",\"type\":\"LegendItem\"},{\"attributes\":{\"end\":0.00847231888649846,\"reset_end\":0.00847231888649846,\"reset_start\":0.0,\"tags\":[[[\"unit_cost_density\",\"Density\",null]]]},\"id\":\"168355\",\"type\":\"Range1d\"},{\"attributes\":{\"axis_label\":\"unit_cost\",\"coordinates\":null,\"formatter\":{\"id\":\"168390\"},\"group\":null,\"major_label_policy\":{\"id\":\"168391\"},\"ticker\":{\"id\":\"168369\"}},\"id\":\"168368\",\"type\":\"LinearAxis\"},{\"attributes\":{\"fill_alpha\":0.5,\"fill_color\":\"#e5ae38\",\"hatch_alpha\":0.1,\"hatch_color\":\"#e5ae38\",\"line_alpha\":0.7,\"x\":{\"field\":\"x\"},\"y\":{\"field\":\"y\"}},\"id\":\"168442\",\"type\":\"Patch\"},{\"attributes\":{\"axis\":{\"id\":\"168372\"},\"coordinates\":null,\"dimension\":1,\"grid_line_color\":null,\"group\":null,\"ticker\":null},\"id\":\"168375\",\"type\":\"Grid\"},{\"attributes\":{\"source\":{\"id\":\"168416\"}},\"id\":\"168423\",\"type\":\"CDSView\"},{\"attributes\":{\"callback\":null,\"renderers\":[{\"id\":\"168401\"},{\"id\":\"168422\"},{\"id\":\"168444\"}],\"tags\":[\"hv_created\"],\"tooltips\":[[\"forecast_flag\",\"@{forecast_flag}\"],[\"unit_cost\",\"@{unit_cost}\"],[\"Density\",\"@{unit_cost_density}\"]]},\"id\":\"168356\",\"type\":\"HoverTool\"},{\"attributes\":{},\"id\":\"168433\",\"type\":\"UnionRenderers\"}],\"root_ids\":[\"168352\"]},\"title\":\"Bokeh Application\",\"version\":\"2.4.3\"}};\n",
       "    var render_items = [{\"docid\":\"1ee34b9c-f60c-4ca2-b3ae-6d80b952a110\",\"root_ids\":[\"168352\"],\"roots\":{\"168352\":\"14eb5b12-d410-4501-8508-9ac9b62405ad\"}}];\n",
       "    root.Bokeh.embed.embed_items_notebook(docs_json, render_items);\n",
       "  }\n",
       "  if (root.Bokeh !== undefined && root.Bokeh.Panel !== undefined) {\n",
       "    embed_document(root);\n",
       "  } else {\n",
       "    var attempts = 0;\n",
       "    var timer = setInterval(function(root) {\n",
       "      if (root.Bokeh !== undefined && root.Bokeh.Panel !== undefined) {\n",
       "        clearInterval(timer);\n",
       "        embed_document(root);\n",
       "      } else if (document.readyState == \"complete\") {\n",
       "        attempts++;\n",
       "        if (attempts > 200) {\n",
       "          clearInterval(timer);\n",
       "          console.log(\"Bokeh: ERROR: Unable to run BokehJS code because BokehJS library is missing\");\n",
       "        }\n",
       "      }\n",
       "    }, 25, root)\n",
       "  }\n",
       "})(window);</script>"
      ],
      "text/plain": [
       ":NdOverlay   [forecast_flag]\n",
       "   :Distribution   [unit_cost]   (Density)"
      ]
     },
     "execution_count": 78,
     "metadata": {
      "application/vnd.holoviews_exec.v0+json": {
       "id": "168352"
      }
     },
     "output_type": "execute_result"
    }
   ],
   "source": [
    "residual_analysis.hvplot.kde(y=\"unit_cost\",by=\"forecast_flag\", ## Grouping by Predictions\n",
    "                                width=800, height=400,\n",
    "                                alpha=0.7,\n",
    "                                ylabel=\"density\",\n",
    "                                xlabel=\"unit_cost\",\n",
    "                                title=f'unit cost(density)',legend='top_right')"
   ]
  },
  {
   "cell_type": "markdown",
   "metadata": {},
   "source": [
    "- From the above plot we can infer that the higher \"over predictions\" are happening for unit_cost > 200.\n",
    "- similarly, the higher \"under predictions\" are happening for unit_cost is zero.\n",
    "\n",
    "This can help us tune the model by a separate model for unit_cost > 200\n"
   ]
  },
  {
   "cell_type": "markdown",
   "metadata": {},
   "source": [
    "# 4.2 Modelling - XGBoost"
   ]
  },
  {
   "cell_type": "markdown",
   "metadata": {},
   "source": [
    "## 4.2.1 Model training pipeline\n",
    "\n",
    "Here we focus on creating a collection of pipelines that can be used for tranining respective models.\n",
    "\n",
    "Each model pipeline will essentially be of the form\n",
    "```\n",
    "[\n",
    "('preprocessing', preprocessing_pipeline),\n",
    "('feature_selection', feature_selection_pipeline),\n",
    "('estimator', estimator),\n",
    "]\n",
    "```"
   ]
  },
  {
   "cell_type": "markdown",
   "metadata": {},
   "source": [
    "### 4.2.2 Model Pipeline Build"
   ]
  },
  {
   "cell_type": "code",
   "execution_count": 79,
   "metadata": {},
   "outputs": [
    {
     "data": {
      "text/html": [
       "<style>#sk-container-id-5 {color: black;background-color: white;}#sk-container-id-5 pre{padding: 0;}#sk-container-id-5 div.sk-toggleable {background-color: white;}#sk-container-id-5 label.sk-toggleable__label {cursor: pointer;display: block;width: 100%;margin-bottom: 0;padding: 0.3em;box-sizing: border-box;text-align: center;}#sk-container-id-5 label.sk-toggleable__label-arrow:before {content: \"▸\";float: left;margin-right: 0.25em;color: #696969;}#sk-container-id-5 label.sk-toggleable__label-arrow:hover:before {color: black;}#sk-container-id-5 div.sk-estimator:hover label.sk-toggleable__label-arrow:before {color: black;}#sk-container-id-5 div.sk-toggleable__content {max-height: 0;max-width: 0;overflow: hidden;text-align: left;background-color: #f0f8ff;}#sk-container-id-5 div.sk-toggleable__content pre {margin: 0.2em;color: black;border-radius: 0.25em;background-color: #f0f8ff;}#sk-container-id-5 input.sk-toggleable__control:checked~div.sk-toggleable__content {max-height: 200px;max-width: 100%;overflow: auto;}#sk-container-id-5 input.sk-toggleable__control:checked~label.sk-toggleable__label-arrow:before {content: \"▾\";}#sk-container-id-5 div.sk-estimator input.sk-toggleable__control:checked~label.sk-toggleable__label {background-color: #d4ebff;}#sk-container-id-5 div.sk-label input.sk-toggleable__control:checked~label.sk-toggleable__label {background-color: #d4ebff;}#sk-container-id-5 input.sk-hidden--visually {border: 0;clip: rect(1px 1px 1px 1px);clip: rect(1px, 1px, 1px, 1px);height: 1px;margin: -1px;overflow: hidden;padding: 0;position: absolute;width: 1px;}#sk-container-id-5 div.sk-estimator {font-family: monospace;background-color: #f0f8ff;border: 1px dotted black;border-radius: 0.25em;box-sizing: border-box;margin-bottom: 0.5em;}#sk-container-id-5 div.sk-estimator:hover {background-color: #d4ebff;}#sk-container-id-5 div.sk-parallel-item::after {content: \"\";width: 100%;border-bottom: 1px solid gray;flex-grow: 1;}#sk-container-id-5 div.sk-label:hover label.sk-toggleable__label {background-color: #d4ebff;}#sk-container-id-5 div.sk-serial::before {content: \"\";position: absolute;border-left: 1px solid gray;box-sizing: border-box;top: 0;bottom: 0;left: 50%;z-index: 0;}#sk-container-id-5 div.sk-serial {display: flex;flex-direction: column;align-items: center;background-color: white;padding-right: 0.2em;padding-left: 0.2em;position: relative;}#sk-container-id-5 div.sk-item {position: relative;z-index: 1;}#sk-container-id-5 div.sk-parallel {display: flex;align-items: stretch;justify-content: center;background-color: white;position: relative;}#sk-container-id-5 div.sk-item::before, #sk-container-id-5 div.sk-parallel-item::before {content: \"\";position: absolute;border-left: 1px solid gray;box-sizing: border-box;top: 0;bottom: 0;left: 50%;z-index: -1;}#sk-container-id-5 div.sk-parallel-item {display: flex;flex-direction: column;z-index: 1;position: relative;background-color: white;}#sk-container-id-5 div.sk-parallel-item:first-child::after {align-self: flex-end;width: 50%;}#sk-container-id-5 div.sk-parallel-item:last-child::after {align-self: flex-start;width: 50%;}#sk-container-id-5 div.sk-parallel-item:only-child::after {width: 0;}#sk-container-id-5 div.sk-dashed-wrapped {border: 1px dashed gray;margin: 0 0.4em 0.5em 0.4em;box-sizing: border-box;padding-bottom: 0.4em;background-color: white;}#sk-container-id-5 div.sk-label label {font-family: monospace;font-weight: bold;display: inline-block;line-height: 1.2em;}#sk-container-id-5 div.sk-label-container {text-align: center;}#sk-container-id-5 div.sk-container {/* jupyter's `normalize.less` sets `[hidden] { display: none; }` but bootstrap.min.css set `[hidden] { display: none !important; }` so we also need the `!important` here to be able to override the default hidden behavior on the sphinx rendered scikit-learn.org. See: https://github.com/scikit-learn/scikit-learn/issues/21755 */display: inline-block !important;position: relative;}#sk-container-id-5 div.sk-text-repr-fallback {display: none;}</style><div id=\"sk-container-id-5\" class=\"sk-top-container\"><div class=\"sk-text-repr-fallback\"><pre>Pipeline(steps=[(&#x27;XGBoost&#x27;,\n",
       "                 XGBRegressor(base_score=0.5, booster=&#x27;gbtree&#x27;,\n",
       "                              colsample_bylevel=1, colsample_bynode=1,\n",
       "                              colsample_bytree=1, enable_categorical=False,\n",
       "                              gamma=0, gpu_id=-1, importance_type=None,\n",
       "                              interaction_constraints=&#x27;&#x27;,\n",
       "                              learning_rate=0.300000012, max_delta_step=0,\n",
       "                              max_depth=6, min_child_weight=1, missing=nan,\n",
       "                              monotone_constraints=&#x27;()&#x27;, n_estimators=100,\n",
       "                              n_jobs=12, num_parallel_tree=1, predictor=&#x27;auto&#x27;,\n",
       "                              random_state=0, reg_alpha=0, reg_lambda=1,\n",
       "                              scale_pos_weight=1, subsample=1,\n",
       "                              tree_method=&#x27;exact&#x27;, validate_parameters=1,\n",
       "                              verbosity=None))])</pre><b>In a Jupyter environment, please rerun this cell to show the HTML representation or trust the notebook. <br />On GitHub, the HTML representation is unable to render, please try loading this page with nbviewer.org.</b></div><div class=\"sk-container\" hidden><div class=\"sk-item sk-dashed-wrapped\"><div class=\"sk-label-container\"><div class=\"sk-label sk-toggleable\"><input class=\"sk-toggleable__control sk-hidden--visually\" id=\"sk-estimator-id-12\" type=\"checkbox\" ><label for=\"sk-estimator-id-12\" class=\"sk-toggleable__label sk-toggleable__label-arrow\">Pipeline</label><div class=\"sk-toggleable__content\"><pre>Pipeline(steps=[(&#x27;XGBoost&#x27;,\n",
       "                 XGBRegressor(base_score=0.5, booster=&#x27;gbtree&#x27;,\n",
       "                              colsample_bylevel=1, colsample_bynode=1,\n",
       "                              colsample_bytree=1, enable_categorical=False,\n",
       "                              gamma=0, gpu_id=-1, importance_type=None,\n",
       "                              interaction_constraints=&#x27;&#x27;,\n",
       "                              learning_rate=0.300000012, max_delta_step=0,\n",
       "                              max_depth=6, min_child_weight=1, missing=nan,\n",
       "                              monotone_constraints=&#x27;()&#x27;, n_estimators=100,\n",
       "                              n_jobs=12, num_parallel_tree=1, predictor=&#x27;auto&#x27;,\n",
       "                              random_state=0, reg_alpha=0, reg_lambda=1,\n",
       "                              scale_pos_weight=1, subsample=1,\n",
       "                              tree_method=&#x27;exact&#x27;, validate_parameters=1,\n",
       "                              verbosity=None))])</pre></div></div></div><div class=\"sk-serial\"><div class=\"sk-item\"><div class=\"sk-estimator sk-toggleable\"><input class=\"sk-toggleable__control sk-hidden--visually\" id=\"sk-estimator-id-13\" type=\"checkbox\" ><label for=\"sk-estimator-id-13\" class=\"sk-toggleable__label sk-toggleable__label-arrow\">XGBRegressor</label><div class=\"sk-toggleable__content\"><pre>XGBRegressor(base_score=0.5, booster=&#x27;gbtree&#x27;, colsample_bylevel=1,\n",
       "             colsample_bynode=1, colsample_bytree=1, enable_categorical=False,\n",
       "             gamma=0, gpu_id=-1, importance_type=None,\n",
       "             interaction_constraints=&#x27;&#x27;, learning_rate=0.300000012,\n",
       "             max_delta_step=0, max_depth=6, min_child_weight=1, missing=nan,\n",
       "             monotone_constraints=&#x27;()&#x27;, n_estimators=100, n_jobs=12,\n",
       "             num_parallel_tree=1, predictor=&#x27;auto&#x27;, random_state=0, reg_alpha=0,\n",
       "             reg_lambda=1, scale_pos_weight=1, subsample=1, tree_method=&#x27;exact&#x27;,\n",
       "             validate_parameters=1, verbosity=None)</pre></div></div></div></div></div></div></div>"
      ],
      "text/plain": [
       "Pipeline(steps=[('XGBoost',\n",
       "                 XGBRegressor(base_score=0.5, booster='gbtree',\n",
       "                              colsample_bylevel=1, colsample_bynode=1,\n",
       "                              colsample_bytree=1, enable_categorical=False,\n",
       "                              gamma=0, gpu_id=-1, importance_type=None,\n",
       "                              interaction_constraints='',\n",
       "                              learning_rate=0.300000012, max_delta_step=0,\n",
       "                              max_depth=6, min_child_weight=1, missing=nan,\n",
       "                              monotone_constraints='()', n_estimators=100,\n",
       "                              n_jobs=12, num_parallel_tree=1, predictor='auto',\n",
       "                              random_state=0, reg_alpha=0, reg_lambda=1,\n",
       "                              scale_pos_weight=1, subsample=1,\n",
       "                              tree_method='exact', validate_parameters=1,\n",
       "                              verbosity=None))])"
      ]
     },
     "execution_count": 79,
     "metadata": {},
     "output_type": "execute_result"
    }
   ],
   "source": [
    "# let's find features for some decent defaults\n",
    "estimator = XGBRegressor()\n",
    "xgb_training_pipe_init = Pipeline([\n",
    "    ('XGBoost', XGBRegressor())\n",
    "])\n",
    "xgb_training_pipe_init.fit(train_X, train_y)"
   ]
  },
  {
   "attachments": {},
   "cell_type": "markdown",
   "metadata": {},
   "source": [
    "### 4.2.3 Model Tuning"
   ]
  },
  {
   "cell_type": "code",
   "execution_count": 80,
   "metadata": {},
   "outputs": [
    {
     "data": {
      "text/plain": [
       "<AxesSubplot:>"
      ]
     },
     "execution_count": 80,
     "metadata": {},
     "output_type": "execute_result"
    },
    {
     "data": {
      "image/png": "[encoded data removed]",
      "text/plain": [
       "<Figure size 640x480 with 1 Axes>"
      ]
     },
     "metadata": {},
     "output_type": "display_data"
    }
   ],
   "source": [
    "# Understanding the Feature Importance\n",
    "%matplotlib inline\n",
    "imp = pd.DataFrame({'importance': xgb_training_pipe_init['XGBoost'].feature_importances_})\n",
    "imp.index = train_X.columns\n",
    "imp.sort_values('importance',inplace=True)\n",
    "imp.plot(kind='barh')"
   ]
  },
  {
   "attachments": {},
   "cell_type": "markdown",
   "metadata": {},
   "source": [
    "'condition','model_family','days_since_last_purchase','first_time_customer','sales_person', are considered to be important and in grid search"
   ]
  },
  {
   "attachments": {},
   "cell_type": "markdown",
   "metadata": {},
   "source": [
    "##### Pipeline build based on new importance features"
   ]
  },
  {
   "cell_type": "code",
   "execution_count": 81,
   "metadata": {},
   "outputs": [],
   "source": [
    "# let's find features for some decent defaults\n",
    "imp_features = ['model_family','sku','unit_cost','condition','brand','business_unit']\n",
    "\n",
    "estimator = XGBRegressor()\n",
    "xgb_training_pipe2 = Pipeline([\n",
    "    ('', FunctionTransformer(_custom_data_transform, kw_args={'cols2keep':imp_features})),\n",
    "    ('XGBoost', XGBRegressor())\n",
    "])"
   ]
  },
  {
   "attachments": {},
   "cell_type": "markdown",
   "metadata": {},
   "source": [
    "#### Grid Search of the Estimator"
   ]
  },
  {
   "cell_type": "code",
   "execution_count": 82,
   "metadata": {},
   "outputs": [
    {
     "name": "stdout",
     "output_type": "stream",
     "text": [
      "Fitting 2 folds for each of 1 candidates, totalling 2 fits\n"
     ]
    },
    {
     "name": "stderr",
     "output_type": "stream",
     "text": [
      "/home/kanav/.local/lib/python3.10/site-packages/xgboost/compat.py:36: FutureWarning: pandas.Int64Index is deprecated and will be removed from pandas in a future version. Use pandas.Index with the appropriate dtype instead.\n",
      "  from pandas import MultiIndex, Int64Index\n",
      "/home/kanav/.local/lib/python3.10/site-packages/xgboost/compat.py:36: FutureWarning: pandas.Int64Index is deprecated and will be removed from pandas in a future version. Use pandas.Index with the appropriate dtype instead.\n",
      "  from pandas import MultiIndex, Int64Index\n",
      "/home/kanav/.local/lib/python3.10/site-packages/xgboost/data.py:262: FutureWarning: pandas.Int64Index is deprecated and will be removed from pandas in a future version. Use pandas.Index with the appropriate dtype instead.\n",
      "  elif isinstance(data.columns, (pd.Int64Index, pd.RangeIndex)):\n",
      "/home/kanav/.local/lib/python3.10/site-packages/xgboost/data.py:262: FutureWarning: pandas.Int64Index is deprecated and will be removed from pandas in a future version. Use pandas.Index with the appropriate dtype instead.\n",
      "  elif isinstance(data.columns, (pd.Int64Index, pd.RangeIndex)):\n"
     ]
    },
    {
     "name": "stdout",
     "output_type": "stream",
     "text": [
      "0.9764956527883484\n",
      "{'gamma': 0.03, 'learning_rate': 0.1, 'max_depth': 3, 'min_child_weight': 6, 'n_estimators': 500}\n",
      "CPU times: user 3min 23s, sys: 2.49 s, total: 3min 26s\n",
      "Wall time: 5min 42s\n"
     ]
    }
   ],
   "source": [
    "%%time\n",
    "parameters = {\n",
    "   'gamma':[0.03],\n",
    "   'min_child_weight':[6],\n",
    "   'learning_rate':[0.1],\n",
    "   'max_depth':[3],\n",
    "   'n_estimators':[500],\n",
    "}\n",
    "est = XGBRegressor()\n",
    "xgb_grid = GridSearchCV(est,\n",
    "                        parameters,\n",
    "                        cv = 2,\n",
    "                        n_jobs = 4,\n",
    "                        verbose=True)\n",
    "\n",
    "xgb_grid.fit(train_X, train_y)\n",
    "\n",
    "print(xgb_grid.best_score_)\n",
    "print(xgb_grid.best_params_)"
   ]
  },
  {
   "attachments": {},
   "cell_type": "markdown",
   "metadata": {},
   "source": [
    "#### Pipeline Build using the best estimator"
   ]
  },
  {
   "cell_type": "code",
   "execution_count": 83,
   "metadata": {},
   "outputs": [
    {
     "data": {
      "text/html": [
       "<style>#sk-container-id-6 {color: black;background-color: white;}#sk-container-id-6 pre{padding: 0;}#sk-container-id-6 div.sk-toggleable {background-color: white;}#sk-container-id-6 label.sk-toggleable__label {cursor: pointer;display: block;width: 100%;margin-bottom: 0;padding: 0.3em;box-sizing: border-box;text-align: center;}#sk-container-id-6 label.sk-toggleable__label-arrow:before {content: \"▸\";float: left;margin-right: 0.25em;color: #696969;}#sk-container-id-6 label.sk-toggleable__label-arrow:hover:before {color: black;}#sk-container-id-6 div.sk-estimator:hover label.sk-toggleable__label-arrow:before {color: black;}#sk-container-id-6 div.sk-toggleable__content {max-height: 0;max-width: 0;overflow: hidden;text-align: left;background-color: #f0f8ff;}#sk-container-id-6 div.sk-toggleable__content pre {margin: 0.2em;color: black;border-radius: 0.25em;background-color: #f0f8ff;}#sk-container-id-6 input.sk-toggleable__control:checked~div.sk-toggleable__content {max-height: 200px;max-width: 100%;overflow: auto;}#sk-container-id-6 input.sk-toggleable__control:checked~label.sk-toggleable__label-arrow:before {content: \"▾\";}#sk-container-id-6 div.sk-estimator input.sk-toggleable__control:checked~label.sk-toggleable__label {background-color: #d4ebff;}#sk-container-id-6 div.sk-label input.sk-toggleable__control:checked~label.sk-toggleable__label {background-color: #d4ebff;}#sk-container-id-6 input.sk-hidden--visually {border: 0;clip: rect(1px 1px 1px 1px);clip: rect(1px, 1px, 1px, 1px);height: 1px;margin: -1px;overflow: hidden;padding: 0;position: absolute;width: 1px;}#sk-container-id-6 div.sk-estimator {font-family: monospace;background-color: #f0f8ff;border: 1px dotted black;border-radius: 0.25em;box-sizing: border-box;margin-bottom: 0.5em;}#sk-container-id-6 div.sk-estimator:hover {background-color: #d4ebff;}#sk-container-id-6 div.sk-parallel-item::after {content: \"\";width: 100%;border-bottom: 1px solid gray;flex-grow: 1;}#sk-container-id-6 div.sk-label:hover label.sk-toggleable__label {background-color: #d4ebff;}#sk-container-id-6 div.sk-serial::before {content: \"\";position: absolute;border-left: 1px solid gray;box-sizing: border-box;top: 0;bottom: 0;left: 50%;z-index: 0;}#sk-container-id-6 div.sk-serial {display: flex;flex-direction: column;align-items: center;background-color: white;padding-right: 0.2em;padding-left: 0.2em;position: relative;}#sk-container-id-6 div.sk-item {position: relative;z-index: 1;}#sk-container-id-6 div.sk-parallel {display: flex;align-items: stretch;justify-content: center;background-color: white;position: relative;}#sk-container-id-6 div.sk-item::before, #sk-container-id-6 div.sk-parallel-item::before {content: \"\";position: absolute;border-left: 1px solid gray;box-sizing: border-box;top: 0;bottom: 0;left: 50%;z-index: -1;}#sk-container-id-6 div.sk-parallel-item {display: flex;flex-direction: column;z-index: 1;position: relative;background-color: white;}#sk-container-id-6 div.sk-parallel-item:first-child::after {align-self: flex-end;width: 50%;}#sk-container-id-6 div.sk-parallel-item:last-child::after {align-self: flex-start;width: 50%;}#sk-container-id-6 div.sk-parallel-item:only-child::after {width: 0;}#sk-container-id-6 div.sk-dashed-wrapped {border: 1px dashed gray;margin: 0 0.4em 0.5em 0.4em;box-sizing: border-box;padding-bottom: 0.4em;background-color: white;}#sk-container-id-6 div.sk-label label {font-family: monospace;font-weight: bold;display: inline-block;line-height: 1.2em;}#sk-container-id-6 div.sk-label-container {text-align: center;}#sk-container-id-6 div.sk-container {/* jupyter's `normalize.less` sets `[hidden] { display: none; }` but bootstrap.min.css set `[hidden] { display: none !important; }` so we also need the `!important` here to be able to override the default hidden behavior on the sphinx rendered scikit-learn.org. See: https://github.com/scikit-learn/scikit-learn/issues/21755 */display: inline-block !important;position: relative;}#sk-container-id-6 div.sk-text-repr-fallback {display: none;}</style><div id=\"sk-container-id-6\" class=\"sk-top-container\"><div class=\"sk-text-repr-fallback\"><pre>Pipeline(steps=[(&#x27;&#x27;,\n",
       "                 FunctionTransformer(func=&lt;function _custom_data_transform at 0x7f2fbbfade10&gt;,\n",
       "                                     kw_args={&#x27;cols2keep&#x27;: [&#x27;model_family&#x27;,\n",
       "                                                            &#x27;sku&#x27;, &#x27;unit_cost&#x27;,\n",
       "                                                            &#x27;condition&#x27;,\n",
       "                                                            &#x27;brand&#x27;,\n",
       "                                                            &#x27;business_unit&#x27;]})),\n",
       "                (&#x27;XGBoost&#x27;,\n",
       "                 XGBRegressor(base_score=0.5, booster=&#x27;gbtree&#x27;,\n",
       "                              colsample_bylevel=1, colsample_bynode=1,\n",
       "                              colsample_bytree=1, enable_categorical=False,\n",
       "                              gamma=0.03, gpu_id=-1, importance_type=None,\n",
       "                              interaction_constraints=&#x27;&#x27;, learning_rate=0.1,\n",
       "                              max_delta_step=0, max_depth=3, min_child_weight=6,\n",
       "                              missing=nan, monotone_constraints=&#x27;()&#x27;,\n",
       "                              n_estimators=500, n_jobs=12, num_parallel_tree=1,\n",
       "                              predictor=&#x27;auto&#x27;, random_state=0, reg_alpha=0,\n",
       "                              reg_lambda=1, scale_pos_weight=1, subsample=1,\n",
       "                              tree_method=&#x27;exact&#x27;, validate_parameters=1,\n",
       "                              verbosity=None))])</pre><b>In a Jupyter environment, please rerun this cell to show the HTML representation or trust the notebook. <br />On GitHub, the HTML representation is unable to render, please try loading this page with nbviewer.org.</b></div><div class=\"sk-container\" hidden><div class=\"sk-item sk-dashed-wrapped\"><div class=\"sk-label-container\"><div class=\"sk-label sk-toggleable\"><input class=\"sk-toggleable__control sk-hidden--visually\" id=\"sk-estimator-id-14\" type=\"checkbox\" ><label for=\"sk-estimator-id-14\" class=\"sk-toggleable__label sk-toggleable__label-arrow\">Pipeline</label><div class=\"sk-toggleable__content\"><pre>Pipeline(steps=[(&#x27;&#x27;,\n",
       "                 FunctionTransformer(func=&lt;function _custom_data_transform at 0x7f2fbbfade10&gt;,\n",
       "                                     kw_args={&#x27;cols2keep&#x27;: [&#x27;model_family&#x27;,\n",
       "                                                            &#x27;sku&#x27;, &#x27;unit_cost&#x27;,\n",
       "                                                            &#x27;condition&#x27;,\n",
       "                                                            &#x27;brand&#x27;,\n",
       "                                                            &#x27;business_unit&#x27;]})),\n",
       "                (&#x27;XGBoost&#x27;,\n",
       "                 XGBRegressor(base_score=0.5, booster=&#x27;gbtree&#x27;,\n",
       "                              colsample_bylevel=1, colsample_bynode=1,\n",
       "                              colsample_bytree=1, enable_categorical=False,\n",
       "                              gamma=0.03, gpu_id=-1, importance_type=None,\n",
       "                              interaction_constraints=&#x27;&#x27;, learning_rate=0.1,\n",
       "                              max_delta_step=0, max_depth=3, min_child_weight=6,\n",
       "                              missing=nan, monotone_constraints=&#x27;()&#x27;,\n",
       "                              n_estimators=500, n_jobs=12, num_parallel_tree=1,\n",
       "                              predictor=&#x27;auto&#x27;, random_state=0, reg_alpha=0,\n",
       "                              reg_lambda=1, scale_pos_weight=1, subsample=1,\n",
       "                              tree_method=&#x27;exact&#x27;, validate_parameters=1,\n",
       "                              verbosity=None))])</pre></div></div></div><div class=\"sk-serial\"><div class=\"sk-item\"><div class=\"sk-estimator sk-toggleable\"><input class=\"sk-toggleable__control sk-hidden--visually\" id=\"sk-estimator-id-15\" type=\"checkbox\" ><label for=\"sk-estimator-id-15\" class=\"sk-toggleable__label sk-toggleable__label-arrow\">FunctionTransformer</label><div class=\"sk-toggleable__content\"><pre>FunctionTransformer(func=&lt;function _custom_data_transform at 0x7f2fbbfade10&gt;,\n",
       "                    kw_args={&#x27;cols2keep&#x27;: [&#x27;model_family&#x27;, &#x27;sku&#x27;, &#x27;unit_cost&#x27;,\n",
       "                                           &#x27;condition&#x27;, &#x27;brand&#x27;,\n",
       "                                           &#x27;business_unit&#x27;]})</pre></div></div></div><div class=\"sk-item\"><div class=\"sk-estimator sk-toggleable\"><input class=\"sk-toggleable__control sk-hidden--visually\" id=\"sk-estimator-id-16\" type=\"checkbox\" ><label for=\"sk-estimator-id-16\" class=\"sk-toggleable__label sk-toggleable__label-arrow\">XGBRegressor</label><div class=\"sk-toggleable__content\"><pre>XGBRegressor(base_score=0.5, booster=&#x27;gbtree&#x27;, colsample_bylevel=1,\n",
       "             colsample_bynode=1, colsample_bytree=1, enable_categorical=False,\n",
       "             gamma=0.03, gpu_id=-1, importance_type=None,\n",
       "             interaction_constraints=&#x27;&#x27;, learning_rate=0.1, max_delta_step=0,\n",
       "             max_depth=3, min_child_weight=6, missing=nan,\n",
       "             monotone_constraints=&#x27;()&#x27;, n_estimators=500, n_jobs=12,\n",
       "             num_parallel_tree=1, predictor=&#x27;auto&#x27;, random_state=0, reg_alpha=0,\n",
       "             reg_lambda=1, scale_pos_weight=1, subsample=1, tree_method=&#x27;exact&#x27;,\n",
       "             validate_parameters=1, verbosity=None)</pre></div></div></div></div></div></div></div>"
      ],
      "text/plain": [
       "Pipeline(steps=[('',\n",
       "                 FunctionTransformer(func=<function _custom_data_transform at 0x7f2fbbfade10>,\n",
       "                                     kw_args={'cols2keep': ['model_family',\n",
       "                                                            'sku', 'unit_cost',\n",
       "                                                            'condition',\n",
       "                                                            'brand',\n",
       "                                                            'business_unit']})),\n",
       "                ('XGBoost',\n",
       "                 XGBRegressor(base_score=0.5, booster='gbtree',\n",
       "                              colsample_bylevel=1, colsample_bynode=1,\n",
       "                              colsample_bytree=1, enable_categorical=False,\n",
       "                              gamma=0.03, gpu_id=-1, importance_type=None,\n",
       "                              interaction_constraints='', learning_rate=0.1,\n",
       "                              max_delta_step=0, max_depth=3, min_child_weight=6,\n",
       "                              missing=nan, monotone_constraints='()',\n",
       "                              n_estimators=500, n_jobs=12, num_parallel_tree=1,\n",
       "                              predictor='auto', random_state=0, reg_alpha=0,\n",
       "                              reg_lambda=1, scale_pos_weight=1, subsample=1,\n",
       "                              tree_method='exact', validate_parameters=1,\n",
       "                              verbosity=None))])"
      ]
     },
     "execution_count": 83,
     "metadata": {},
     "output_type": "execute_result"
    }
   ],
   "source": [
    "xgb_pipeline_final = Pipeline([\n",
    "    ('', FunctionTransformer(_custom_data_transform, kw_args={'cols2keep':imp_features})),\n",
    "    ('XGBoost', xgb_grid.best_estimator_) # type: ignore\n",
    "])\n",
    "xgb_pipeline_final.fit(train_X, train_y)"
   ]
  },
  {
   "cell_type": "code",
   "execution_count": 84,
   "metadata": {},
   "outputs": [
    {
     "name": "stderr",
     "output_type": "stream",
     "text": [
      "divide by zero encountered in true_divide\n",
      "divide by zero encountered in true_divide\n",
      "Residual Analysis: Ignoring 17 observations in train data for error analysis where y=0\n",
      "Residual Analysis: Ignoring 17 observations in train data for error analysis where y=0\n",
      "Residual Analysis: Ignoring 7 observations in test data for error analysis where y=0\n",
      "Residual Analysis: Ignoring 7 observations in test data for error analysis where y=0\n"
     ]
    }
   ],
   "source": [
    "reg_tree_report = RegressionReport(model=xgb_pipeline_final, x_train=train_X, y_train=train_y, x_test= test_X, y_test= test_y)\n",
    "reg_tree_report.get_report(include_shap=False, file_path='reports/regression_tree_model_report')"
   ]
  },
  {
   "attachments": {},
   "cell_type": "markdown",
   "metadata": {},
   "source": [
    "The Regression report containing the feature importances are available [here](https://drive.google.com/file/d/1JBfL3uxPcxBfl0amweXBFmLr7CSHFBUO/view?usp=sharing)"
   ]
  },
  {
   "attachments": {},
   "cell_type": "markdown",
   "metadata": {},
   "source": [
    "# 5 Model Comparison"
   ]
  },
  {
   "attachments": {},
   "cell_type": "markdown",
   "metadata": {},
   "source": [
    "Now, a comparison report of the  linear (vs) tree -based model  approach can be generated as follows.\n",
    "\n",
    "This code will not be part of the production code."
   ]
  },
  {
   "cell_type": "code",
   "execution_count": 85,
   "metadata": {},
   "outputs": [],
   "source": [
    "model_pipelines = [reg_ppln, xgb_pipeline_final]\n",
    "model_comparison_report = RegressionComparison(models=model_pipelines,x=train_X, y=train_y)\n",
    "metrics = model_comparison_report.get_report(file_path='reports/regression_comparison')"
   ]
  },
  {
   "cell_type": "code",
   "execution_count": 86,
   "metadata": {},
   "outputs": [
    {
     "data": {
      "text/html": [
       "<div>\n",
       "<style scoped>\n",
       "    .dataframe tbody tr th:only-of-type {\n",
       "        vertical-align: middle;\n",
       "    }\n",
       "\n",
       "    .dataframe tbody tr th {\n",
       "        vertical-align: top;\n",
       "    }\n",
       "\n",
       "    .dataframe thead th {\n",
       "        text-align: right;\n",
       "    }\n",
       "</style>\n",
       "<table border=\"1\" class=\"dataframe\">\n",
       "  <thead>\n",
       "    <tr style=\"text-align: right;\">\n",
       "      <th>metric</th>\n",
       "      <th>MAPE</th>\n",
       "      <th>WMAPE</th>\n",
       "      <th>MAE</th>\n",
       "      <th>RMSE</th>\n",
       "      <th>R^2</th>\n",
       "    </tr>\n",
       "  </thead>\n",
       "  <tbody>\n",
       "    <tr>\n",
       "      <th>, Linear Regression</th>\n",
       "      <td>0.2986</td>\n",
       "      <td>0.1794</td>\n",
       "      <td>24.2561</td>\n",
       "      <td>38.0160</td>\n",
       "      <td>0.8858</td>\n",
       "    </tr>\n",
       "    <tr>\n",
       "      <th>, XGBoost</th>\n",
       "      <td>0.1092</td>\n",
       "      <td>0.0776</td>\n",
       "      <td>10.4958</td>\n",
       "      <td>17.0143</td>\n",
       "      <td>0.9771</td>\n",
       "    </tr>\n",
       "  </tbody>\n",
       "</table>\n",
       "</div>"
      ],
      "text/plain": [
       "metric                 MAPE   WMAPE      MAE     RMSE     R^2\n",
       ", Linear Regression  0.2986  0.1794  24.2561  38.0160  0.8858\n",
       ", XGBoost            0.1092  0.0776  10.4958  17.0143  0.9771"
      ]
     },
     "execution_count": 86,
     "metadata": {},
     "output_type": "execute_result"
    }
   ],
   "source": [
    "model_comparison_report.performance_metrics"
   ]
  },
  {
   "attachments": {},
   "cell_type": "markdown",
   "metadata": {},
   "source": [
    "A report comparing the performance, metrics between Linear model and Tree model are available [here](https://drive.google.com/file/d/1LDibiFap9K4DKME-Y0S0mtI_05lTdaJF/view?usp=sharing)"
   ]
  },
  {
   "attachments": {},
   "cell_type": "markdown",
   "metadata": {},
   "source": [
    "**Dev NOTES**\n",
    "<details>\n",
    "\n",
    "the above metrics are absolute nos and not %ges"
   ]
  },
  {
   "attachments": {},
   "cell_type": "markdown",
   "metadata": {},
   "source": [
    "In this example we are choosing LM model for pipelining. General criteria for choosing production models is:\n",
    "\n",
    "- Parametric models (aka whitebox models) such as Linear Regression are easier to explain to non-technical audience.\n",
    "- Generally these are accepted fast and adoption is quicker.\n",
    "- If the downstream calls for optimization using these models parametric models are easier to implement.\n",
    "- When accuracy is primary goal without explainability, the above two takes a backseat"
   ]
  },
  {
   "cell_type": "code",
   "execution_count": null,
   "metadata": {},
   "outputs": [],
   "source": []
  }
 ],
 "metadata": {
  "kernelspec": {
   "display_name": "ta-lib-dev",
   "language": "python",
   "name": "python3"
  },
  "language_info": {
   "codemirror_mode": {
    "name": "ipython",
    "version": 3
   },
   "file_extension": ".py",
   "mimetype": "text/x-python",
   "name": "python",
   "nbconvert_exporter": "python",
   "pygments_lexer": "ipython3",
   "version": "3.10.16"
  }
 },
 "nbformat": 4,
 "nbformat_minor": 4
}
