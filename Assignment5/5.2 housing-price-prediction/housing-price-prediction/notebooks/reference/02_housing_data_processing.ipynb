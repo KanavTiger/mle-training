{
 "cells": [
  {
   "cell_type": "markdown",
   "metadata": {},
   "source": [
    "# Purpose"
   ]
  },
  {
   "cell_type": "markdown",
   "metadata": {},
   "source": [
    "\n",
    "This notebook demonstrates the data pipeline from raw tables to analytical datasets. At the end of this activity, train & test data sets are created from raw data.\n",
    "\n"
   ]
  },
  {
   "cell_type": "markdown",
   "metadata": {},
   "source": [
    "## Imports"
   ]
  },
  {
   "cell_type": "code",
   "execution_count": 75,
   "metadata": {},
   "outputs": [],
   "source": [
    "from pprint import pprint\n",
    "import os\n",
    "import os.path as op\n",
    "import shutil\n",
    "\n",
    "# standard third party imports\n",
    "import numpy as np\n",
    "import pandas as pd\n",
    "from sklearn.model_selection import train_test_split\n",
    "pd.options.mode.use_inf_as_na = True\n"
   ]
  },
  {
   "cell_type": "code",
   "execution_count": 76,
   "metadata": {},
   "outputs": [
    {
     "name": "stdout",
     "output_type": "stream",
     "text": [
      "The autoreload extension is already loaded. To reload it, use:\n",
      "  %reload_ext autoreload\n"
     ]
    }
   ],
   "source": [
    "%load_ext autoreload\n",
    "%autoreload 2"
   ]
  },
  {
   "cell_type": "code",
   "execution_count": 77,
   "metadata": {},
   "outputs": [],
   "source": [
    "# standard code-template imports\n",
    "from ta_lib.core.api import (\n",
    "    create_context, get_dataframe, get_feature_names_from_column_transformer, get_package_path,\n",
    "    display_as_tabs, string_cleaning, merge_info, initialize_environment,\n",
    "    list_datasets, load_dataset, save_dataset\n",
    ")\n",
    "import ta_lib.eda.api as eda"
   ]
  },
  {
   "cell_type": "code",
   "execution_count": 78,
   "metadata": {},
   "outputs": [],
   "source": [
    "import warnings\n",
    "\n",
    "warnings.filterwarnings('ignore', message=\"The default value of regex will change from True to False in a future version.\", \n",
    "                        category=FutureWarning)"
   ]
  },
  {
   "cell_type": "code",
   "execution_count": 79,
   "metadata": {},
   "outputs": [],
   "source": [
    "initialize_environment(debug=False, hide_warnings=True)"
   ]
  },
  {
   "cell_type": "markdown",
   "metadata": {},
   "source": [
    "## Utility functions"
   ]
  },
  {
   "cell_type": "markdown",
   "metadata": {},
   "source": [
    "# 1. Initialization"
   ]
  },
  {
   "cell_type": "code",
   "execution_count": 80,
   "metadata": {},
   "outputs": [
    {
     "name": "stdout",
     "output_type": "stream",
     "text": [
      "['/raw/housing',\n",
      " '/raw/orders',\n",
      " '/raw/product',\n",
      " '/cleaned/housing',\n",
      " '/cleaned/orders',\n",
      " '/cleaned/product',\n",
      " '/cleaned/sales',\n",
      " '/processed/housing',\n",
      " '/processed/sales',\n",
      " '/train/housing/features',\n",
      " '/train/housing/target',\n",
      " '/train/sales/features',\n",
      " '/train/sales/target',\n",
      " '/test/housing/features',\n",
      " '/test/housing/target',\n",
      " '/test/sales/features',\n",
      " '/test/sales/target',\n",
      " '/score/housing/output',\n",
      " '/score/sales/output']\n"
     ]
    }
   ],
   "source": [
    "config_path = op.join('conf', 'config.yml')\n",
    "context = create_context(config_path)\n",
    "pprint(list_datasets(context))\n",
    "\n",
    "housing_df = load_dataset(context, 'raw/housing')"
   ]
  },
  {
   "cell_type": "markdown",
   "metadata": {},
   "source": [
    "# 2. Data cleaning and consolidation"
   ]
  },
  {
   "cell_type": "markdown",
   "metadata": {},
   "source": [
    "**<u>NOTES</u>**\n",
    "\n",
    "The focus here is to create a cleaned dataset that is appropriate for solving the DS problem at hand from the raw data.\n",
    "\n",
    "**1. Do**\n",
    "* clean dataframe column names\n",
    "* ensure dtypes are set properly\n",
    "* join with other tables etc to create features\n",
    "* transform, if appropriate, datetime like columns to generate additional features (weekday etc)\n",
    "* transform, if appropriate, string columns to generate additional features\n",
    "* discard cols that are not useful for training the model (IDs, constant cols, duplicate cols etc)\n",
    "* additional features generated from existing columns\n",
    "\n",
    "\n",
    "**2. Don't**\n",
    "* handle missing values or outliers here. mark them and leave them for processing downstream.\n"
   ]
  },
  {
   "cell_type": "markdown",
   "metadata": {},
   "source": [
    "## 2.1 Clean individual tables "
   ]
  },
  {
   "attachments": {},
   "cell_type": "markdown",
   "metadata": {},
   "source": [
    "### Housing Table"
   ]
  },
  {
   "cell_type": "code",
   "execution_count": 81,
   "metadata": {},
   "outputs": [
    {
     "data": {
      "text/html": [
       "<div>\n",
       "<style scoped>\n",
       "    .dataframe tbody tr th:only-of-type {\n",
       "        vertical-align: middle;\n",
       "    }\n",
       "\n",
       "    .dataframe tbody tr th {\n",
       "        vertical-align: top;\n",
       "    }\n",
       "\n",
       "    .dataframe thead th {\n",
       "        text-align: right;\n",
       "    }\n",
       "</style>\n",
       "<table border=\"1\" class=\"dataframe\">\n",
       "  <thead>\n",
       "    <tr style=\"text-align: right;\">\n",
       "      <th></th>\n",
       "      <th>Variable Name</th>\n",
       "      <th>Datatype</th>\n",
       "      <th>No of Unique</th>\n",
       "      <th>Samples</th>\n",
       "    </tr>\n",
       "  </thead>\n",
       "  <tbody>\n",
       "    <tr>\n",
       "      <th>longitude</th>\n",
       "      <td>longitude</td>\n",
       "      <td>float64</td>\n",
       "      <td>844</td>\n",
       "      <td>[-122.23, -122.22, -122.24, -122.25, -122.26]</td>\n",
       "    </tr>\n",
       "    <tr>\n",
       "      <th>latitude</th>\n",
       "      <td>latitude</td>\n",
       "      <td>float64</td>\n",
       "      <td>862</td>\n",
       "      <td>[37.88, 37.86, 37.85, 37.84, 37.83]</td>\n",
       "    </tr>\n",
       "    <tr>\n",
       "      <th>housing_median_age</th>\n",
       "      <td>housing_median_age</td>\n",
       "      <td>float64</td>\n",
       "      <td>52</td>\n",
       "      <td>[41.0, 21.0, 52.0, 42.0, 50.0]</td>\n",
       "    </tr>\n",
       "    <tr>\n",
       "      <th>total_rooms</th>\n",
       "      <td>total_rooms</td>\n",
       "      <td>float64</td>\n",
       "      <td>5926</td>\n",
       "      <td>[880.0, 7099.0, 1467.0, 1274.0, 1627.0]</td>\n",
       "    </tr>\n",
       "    <tr>\n",
       "      <th>total_bedrooms</th>\n",
       "      <td>total_bedrooms</td>\n",
       "      <td>float64</td>\n",
       "      <td>1923</td>\n",
       "      <td>[129.0, 1106.0, 190.0, 235.0, 280.0]</td>\n",
       "    </tr>\n",
       "    <tr>\n",
       "      <th>population</th>\n",
       "      <td>population</td>\n",
       "      <td>float64</td>\n",
       "      <td>3888</td>\n",
       "      <td>[322.0, 2401.0, 496.0, 558.0, 565.0]</td>\n",
       "    </tr>\n",
       "    <tr>\n",
       "      <th>households</th>\n",
       "      <td>households</td>\n",
       "      <td>float64</td>\n",
       "      <td>1815</td>\n",
       "      <td>[126.0, 1138.0, 177.0, 219.0, 259.0]</td>\n",
       "    </tr>\n",
       "    <tr>\n",
       "      <th>median_income</th>\n",
       "      <td>median_income</td>\n",
       "      <td>float64</td>\n",
       "      <td>12928</td>\n",
       "      <td>[8.3252, 8.3014, 7.2574, 5.6431, 3.8462]</td>\n",
       "    </tr>\n",
       "    <tr>\n",
       "      <th>median_house_value</th>\n",
       "      <td>median_house_value</td>\n",
       "      <td>float64</td>\n",
       "      <td>3842</td>\n",
       "      <td>[452600.0, 358500.0, 352100.0, 341300.0, 34220...</td>\n",
       "    </tr>\n",
       "    <tr>\n",
       "      <th>ocean_proximity</th>\n",
       "      <td>ocean_proximity</td>\n",
       "      <td>object</td>\n",
       "      <td>5</td>\n",
       "      <td>[NEAR BAY, &lt;1H OCEAN, INLAND, NEAR OCEAN, ISLAND]</td>\n",
       "    </tr>\n",
       "  </tbody>\n",
       "</table>\n",
       "</div>"
      ],
      "text/plain": [
       "                         Variable Name Datatype No of Unique  \\\n",
       "longitude                    longitude  float64          844   \n",
       "latitude                      latitude  float64          862   \n",
       "housing_median_age  housing_median_age  float64           52   \n",
       "total_rooms                total_rooms  float64         5926   \n",
       "total_bedrooms          total_bedrooms  float64         1923   \n",
       "population                  population  float64         3888   \n",
       "households                  households  float64         1815   \n",
       "median_income            median_income  float64        12928   \n",
       "median_house_value  median_house_value  float64         3842   \n",
       "ocean_proximity        ocean_proximity   object            5   \n",
       "\n",
       "                                                              Samples  \n",
       "longitude               [-122.23, -122.22, -122.24, -122.25, -122.26]  \n",
       "latitude                          [37.88, 37.86, 37.85, 37.84, 37.83]  \n",
       "housing_median_age                     [41.0, 21.0, 52.0, 42.0, 50.0]  \n",
       "total_rooms                   [880.0, 7099.0, 1467.0, 1274.0, 1627.0]  \n",
       "total_bedrooms                   [129.0, 1106.0, 190.0, 235.0, 280.0]  \n",
       "population                       [322.0, 2401.0, 496.0, 558.0, 565.0]  \n",
       "households                       [126.0, 1138.0, 177.0, 219.0, 259.0]  \n",
       "median_income                [8.3252, 8.3014, 7.2574, 5.6431, 3.8462]  \n",
       "median_house_value  [452600.0, 358500.0, 352100.0, 341300.0, 34220...  \n",
       "ocean_proximity     [NEAR BAY, <1H OCEAN, INLAND, NEAR OCEAN, ISLAND]  "
      ]
     },
     "execution_count": 81,
     "metadata": {},
     "output_type": "execute_result"
    }
   ],
   "source": [
    "eda.get_variable_summary(housing_df)"
   ]
  },
  {
   "cell_type": "code",
   "execution_count": 82,
   "metadata": {},
   "outputs": [
    {
     "data": {
      "text/html": [
       "<div>\n",
       "<style scoped>\n",
       "    .dataframe tbody tr th:only-of-type {\n",
       "        vertical-align: middle;\n",
       "    }\n",
       "\n",
       "    .dataframe tbody tr th {\n",
       "        vertical-align: top;\n",
       "    }\n",
       "\n",
       "    .dataframe thead th {\n",
       "        text-align: right;\n",
       "    }\n",
       "</style>\n",
       "<table border=\"1\" class=\"dataframe\">\n",
       "  <thead>\n",
       "    <tr style=\"text-align: right;\">\n",
       "      <th></th>\n",
       "      <th>0</th>\n",
       "      <th>1</th>\n",
       "      <th>2</th>\n",
       "      <th>3</th>\n",
       "      <th>4</th>\n",
       "    </tr>\n",
       "  </thead>\n",
       "  <tbody>\n",
       "    <tr>\n",
       "      <th>longitude</th>\n",
       "      <td>-122.23</td>\n",
       "      <td>-122.22</td>\n",
       "      <td>-122.24</td>\n",
       "      <td>-122.25</td>\n",
       "      <td>-122.25</td>\n",
       "    </tr>\n",
       "    <tr>\n",
       "      <th>latitude</th>\n",
       "      <td>37.88</td>\n",
       "      <td>37.86</td>\n",
       "      <td>37.85</td>\n",
       "      <td>37.85</td>\n",
       "      <td>37.85</td>\n",
       "    </tr>\n",
       "    <tr>\n",
       "      <th>housing_median_age</th>\n",
       "      <td>41</td>\n",
       "      <td>21</td>\n",
       "      <td>52</td>\n",
       "      <td>52</td>\n",
       "      <td>52</td>\n",
       "    </tr>\n",
       "    <tr>\n",
       "      <th>total_rooms</th>\n",
       "      <td>880</td>\n",
       "      <td>7099</td>\n",
       "      <td>1467</td>\n",
       "      <td>1274</td>\n",
       "      <td>1627</td>\n",
       "    </tr>\n",
       "    <tr>\n",
       "      <th>total_bedrooms</th>\n",
       "      <td>129.0</td>\n",
       "      <td>1106.0</td>\n",
       "      <td>190.0</td>\n",
       "      <td>235.0</td>\n",
       "      <td>280.0</td>\n",
       "    </tr>\n",
       "    <tr>\n",
       "      <th>population</th>\n",
       "      <td>322</td>\n",
       "      <td>2401</td>\n",
       "      <td>496</td>\n",
       "      <td>558</td>\n",
       "      <td>565</td>\n",
       "    </tr>\n",
       "    <tr>\n",
       "      <th>households</th>\n",
       "      <td>126</td>\n",
       "      <td>1138</td>\n",
       "      <td>177</td>\n",
       "      <td>219</td>\n",
       "      <td>259</td>\n",
       "    </tr>\n",
       "    <tr>\n",
       "      <th>median_income</th>\n",
       "      <td>8.3252</td>\n",
       "      <td>8.3014</td>\n",
       "      <td>7.2574</td>\n",
       "      <td>5.6431</td>\n",
       "      <td>3.8462</td>\n",
       "    </tr>\n",
       "    <tr>\n",
       "      <th>median_house_value</th>\n",
       "      <td>452600.0</td>\n",
       "      <td>358500.0</td>\n",
       "      <td>352100.0</td>\n",
       "      <td>341300.0</td>\n",
       "      <td>342200.0</td>\n",
       "    </tr>\n",
       "    <tr>\n",
       "      <th>ocean_proximity</th>\n",
       "      <td>NEAR BAY</td>\n",
       "      <td>NEAR BAY</td>\n",
       "      <td>NEAR BAY</td>\n",
       "      <td>NEAR BAY</td>\n",
       "      <td>NEAR BAY</td>\n",
       "    </tr>\n",
       "  </tbody>\n",
       "</table>\n",
       "</div>"
      ],
      "text/plain": [
       "                           0         1         2         3         4\n",
       "longitude            -122.23   -122.22   -122.24   -122.25   -122.25\n",
       "latitude               37.88     37.86     37.85     37.85     37.85\n",
       "housing_median_age        41        21        52        52        52\n",
       "total_rooms              880      7099      1467      1274      1627\n",
       "total_bedrooms         129.0    1106.0     190.0     235.0     280.0\n",
       "population               322      2401       496       558       565\n",
       "households               126      1138       177       219       259\n",
       "median_income         8.3252    8.3014    7.2574    5.6431    3.8462\n",
       "median_house_value  452600.0  358500.0  352100.0  341300.0  342200.0\n",
       "ocean_proximity     NEAR BAY  NEAR BAY  NEAR BAY  NEAR BAY  NEAR BAY"
      ]
     },
     "execution_count": 82,
     "metadata": {},
     "output_type": "execute_result"
    }
   ],
   "source": [
    "# column names after cleaning\n",
    "\n",
    "str_cols = list(\n",
    "    set(housing_df.select_dtypes('object').columns.to_list()) \n",
    ")\n",
    "housing_df_clean = (\n",
    "    housing_df\n",
    "    \n",
    "    .copy()\n",
    "\n",
    "    # set dtypes\n",
    "    .change_type(['housing_median_age', 'total_rooms', 'population', 'households'], np.int64)\n",
    "    \n",
    "    # clean string columns\n",
    "    .transform_columns(str_cols, string_cleaning, elementwise=False)\n",
    "\n",
    "    # clean column names                                                                                                                                   \n",
    "    .clean_names(case_type='snake')\n",
    ")\n",
    "housing_df_clean.head().T\n"
   ]
  },
  {
   "cell_type": "code",
   "execution_count": 83,
   "metadata": {},
   "outputs": [],
   "source": [
    "save_dataset(context, housing_df_clean, 'cleaned/housing')"
   ]
  },
  {
   "attachments": {},
   "cell_type": "markdown",
   "metadata": {},
   "source": [
    "## 2.2 Process tables "
   ]
  },
  {
   "cell_type": "code",
   "execution_count": 84,
   "metadata": {},
   "outputs": [],
   "source": [
    "# create a sample dataframe with minimal processing\n",
    "\n",
    "\n",
    "# from sklearn.impute import SimpleImputer\n",
    "# imputer = SimpleImputer(strategy=\"median\")\n",
    "\n",
    "# housing_num = housing_df_clean.drop(\"ocean_proximity\", axis=1)\n",
    "\n",
    "# imputer.fit(housing_num)\n",
    "# X = imputer.transform(housing_num)\n",
    "\n",
    "# housing_tr = pd.DataFrame(X, columns=housing_num.columns, index=housing_df_clean.index)\n",
    "# housing_tr[\"rooms_per_household\"] = (\n",
    "#     housing_tr[\"total_rooms\"] / housing_tr[\"households\"]\n",
    "# )\n",
    "# housing_tr[\"bedrooms_per_room\"] = (\n",
    "#     housing_tr[\"total_bedrooms\"] / housing_tr[\"total_rooms\"]\n",
    "# )\n",
    "# housing_tr[\"population_per_household\"] = (\n",
    "#     housing_tr[\"population\"] / housing_tr[\"households\"]\n",
    "# )\n",
    "\n",
    "# housing_cat = housing_df_clean[[\"ocean_proximity\"]]\n",
    "# housing_df_processed = housing_tr.join(\n",
    "#     pd.get_dummies(housing_cat, drop_first=True)\n",
    "# )"
   ]
  },
  {
   "cell_type": "code",
   "execution_count": 85,
   "metadata": {},
   "outputs": [],
   "source": [
    "housing_df_processed=housing_df_clean"
   ]
  },
  {
   "cell_type": "code",
   "execution_count": 86,
   "metadata": {},
   "outputs": [
    {
     "name": "stderr",
     "output_type": "stream",
     "text": [
      "tzname OCEAN identified but not understood.  Pass `tzinfos` argument in order to correctly return a timezone-aware datetime.  In a future version, this will raise an exception.\n"
     ]
    },
    {
     "data": {},
     "metadata": {},
     "output_type": "display_data"
    },
    {
     "data": {
      "application/vnd.holoviews_exec.v0+json": "",
      "text/html": [
       "<div id='1653'>\n",
       "  <div class=\"bk-root\" id=\"aa733634-e3ea-49d9-b040-7a3549da35fc\" data-root-id=\"1653\"></div>\n",
       "</div>\n",
       "<script type=\"application/javascript\">(function(root) {\n",
       "  function embed_document(root) {\n",
       "    var docs_json = {\"4bdbc699-f835-4fd1-9c8e-c3659b6bb4a5\":{\"defs\":[{\"extends\":null,\"module\":null,\"name\":\"ReactiveHTML1\",\"overrides\":[],\"properties\":[]},{\"extends\":null,\"module\":null,\"name\":\"FlexBox1\",\"overrides\":[],\"properties\":[{\"default\":\"flex-start\",\"kind\":null,\"name\":\"align_content\"},{\"default\":\"flex-start\",\"kind\":null,\"name\":\"align_items\"},{\"default\":\"row\",\"kind\":null,\"name\":\"flex_direction\"},{\"default\":\"wrap\",\"kind\":null,\"name\":\"flex_wrap\"},{\"default\":\"flex-start\",\"kind\":null,\"name\":\"justify_content\"}]},{\"extends\":null,\"module\":null,\"name\":\"GridStack1\",\"overrides\":[],\"properties\":[{\"default\":\"warn\",\"kind\":null,\"name\":\"mode\"},{\"default\":null,\"kind\":null,\"name\":\"ncols\"},{\"default\":null,\"kind\":null,\"name\":\"nrows\"},{\"default\":true,\"kind\":null,\"name\":\"allow_resize\"},{\"default\":true,\"kind\":null,\"name\":\"allow_drag\"},{\"default\":[],\"kind\":null,\"name\":\"state\"}]},{\"extends\":null,\"module\":null,\"name\":\"click1\",\"overrides\":[],\"properties\":[{\"default\":\"\",\"kind\":null,\"name\":\"terminal_output\"},{\"default\":\"\",\"kind\":null,\"name\":\"debug_name\"},{\"default\":0,\"kind\":null,\"name\":\"clears\"}]},{\"extends\":null,\"module\":null,\"name\":\"NotificationAreaBase1\",\"overrides\":[],\"properties\":[{\"default\":\"bottom-right\",\"kind\":null,\"name\":\"position\"},{\"default\":0,\"kind\":null,\"name\":\"_clear\"}]},{\"extends\":null,\"module\":null,\"name\":\"NotificationArea1\",\"overrides\":[],\"properties\":[{\"default\":[],\"kind\":null,\"name\":\"notifications\"},{\"default\":\"bottom-right\",\"kind\":null,\"name\":\"position\"},{\"default\":0,\"kind\":null,\"name\":\"_clear\"},{\"default\":[{\"background\":\"#ffc107\",\"icon\":{\"className\":\"fas fa-exclamation-triangle\",\"color\":\"white\",\"tagName\":\"i\"},\"type\":\"warning\"},{\"background\":\"#007bff\",\"icon\":{\"className\":\"fas fa-info-circle\",\"color\":\"white\",\"tagName\":\"i\"},\"type\":\"info\"}],\"kind\":null,\"name\":\"types\"}]},{\"extends\":null,\"module\":null,\"name\":\"Notification\",\"overrides\":[],\"properties\":[{\"default\":null,\"kind\":null,\"name\":\"background\"},{\"default\":3000,\"kind\":null,\"name\":\"duration\"},{\"default\":null,\"kind\":null,\"name\":\"icon\"},{\"default\":\"\",\"kind\":null,\"name\":\"message\"},{\"default\":null,\"kind\":null,\"name\":\"notification_type\"},{\"default\":false,\"kind\":null,\"name\":\"_destroyed\"}]},{\"extends\":null,\"module\":null,\"name\":\"TemplateActions1\",\"overrides\":[],\"properties\":[{\"default\":0,\"kind\":null,\"name\":\"open_modal\"},{\"default\":0,\"kind\":null,\"name\":\"close_modal\"}]},{\"extends\":null,\"module\":null,\"name\":\"MaterialTemplateActions1\",\"overrides\":[],\"properties\":[{\"default\":0,\"kind\":null,\"name\":\"open_modal\"},{\"default\":0,\"kind\":null,\"name\":\"close_modal\"}]}],\"roots\":{\"references\":[{\"attributes\":{},\"id\":\"1675\",\"type\":\"StringEditor\"},{\"attributes\":{\"editor\":{\"id\":\"1675\"},\"field\":\"No of Unique\",\"formatter\":{\"id\":\"1674\"},\"title\":\"No of Unique\",\"width\":0},\"id\":\"1676\",\"type\":\"TableColumn\"},{\"attributes\":{},\"id\":\"1736\",\"type\":\"StringEditor\"},{\"attributes\":{},\"id\":\"1679\",\"type\":\"StringFormatter\"},{\"attributes\":{},\"id\":\"1680\",\"type\":\"StringEditor\"},{\"attributes\":{\"editor\":{\"id\":\"1680\"},\"field\":\"Samples\",\"formatter\":{\"id\":\"1679\"},\"title\":\"Samples\",\"width\":0},\"id\":\"1681\",\"type\":\"TableColumn\"},{\"attributes\":{\"indices\":[]},\"id\":\"1690\",\"type\":\"Selection\"},{\"attributes\":{},\"id\":\"1713\",\"type\":\"StringEditor\"},{\"attributes\":{\"data\":{\"0\":[\"-122.23\",\"37.88\",\"41\",\"880\",\"129.0\",\"322\",\"126\",\"8.3252\",\"452600.0\",\"NEAR BAY\"],\"1\":[\"-122.22\",\"37.86\",\"21\",\"7099\",\"1106.0\",\"2401\",\"1138\",\"8.3014\",\"358500.0\",\"NEAR BAY\"],\"2\":[\"-122.24\",\"37.85\",\"52\",\"1467\",\"190.0\",\"496\",\"177\",\"7.2574\",\"352100.0\",\"NEAR BAY\"],\"3\":[\"-122.25\",\"37.85\",\"52\",\"1274\",\"235.0\",\"558\",\"219\",\"5.6431\",\"341300.0\",\"NEAR BAY\"],\"4\":[\"-122.25\",\"37.85\",\"52\",\"1627\",\"280.0\",\"565\",\"259\",\"3.8462\",\"342200.0\",\"NEAR BAY\"],\"index\":[\"longitude\",\"latitude\",\"housing_median_age\",\"total_rooms\",\"total_bedrooms\",\"population\",\"households\",\"median_income\",\"median_house_value\",\"ocean_proximity\"]},\"selected\":{\"id\":\"1690\"},\"selection_policy\":{\"id\":\"1767\"}},\"id\":\"1689\",\"type\":\"ColumnDataSource\"},{\"attributes\":{},\"id\":\"1691\",\"type\":\"StringFormatter\"},{\"attributes\":{\"data\":{\"20635\":[\"-121.09\",\"39.48\",\"25\",\"1665\",\"374.0\",\"845\",\"330\",\"1.5603\",\"78100.0\",\"INLAND\"],\"20636\":[\"-121.21\",\"39.49\",\"18\",\"697\",\"150.0\",\"356\",\"114\",\"2.5568\",\"77100.0\",\"INLAND\"],\"20637\":[\"-121.22\",\"39.43\",\"17\",\"2254\",\"485.0\",\"1007\",\"433\",\"1.7\",\"92300.0\",\"INLAND\"],\"20638\":[\"-121.32\",\"39.43\",\"18\",\"1860\",\"409.0\",\"741\",\"349\",\"1.8672\",\"84700.0\",\"INLAND\"],\"20639\":[\"-121.24\",\"39.37\",\"16\",\"2785\",\"616.0\",\"1387\",\"530\",\"2.3886\",\"89400.0\",\"INLAND\"],\"index\":[\"longitude\",\"latitude\",\"housing_median_age\",\"total_rooms\",\"total_bedrooms\",\"population\",\"households\",\"median_income\",\"median_house_value\",\"ocean_proximity\"]},\"selected\":{\"id\":\"1728\"},\"selection_policy\":{\"id\":\"1769\"}},\"id\":\"1727\",\"type\":\"ColumnDataSource\"},{\"attributes\":{\"editor\":{\"id\":\"1693\"},\"field\":\"index\",\"formatter\":{\"id\":\"1691\"},\"title\":\"index\",\"width\":0},\"id\":\"1694\",\"type\":\"TableColumn\"},{\"attributes\":{\"child\":{\"id\":\"1684\"},\"name\":\"Variable summary\",\"title\":\"Variable summary\"},\"id\":\"1688\",\"type\":\"Panel\"},{\"attributes\":{\"child\":{\"id\":\"1760\"},\"name\":\"tail\",\"title\":\"tail\"},\"id\":\"1764\",\"type\":\"Panel\"},{\"attributes\":{},\"id\":\"1693\",\"type\":\"CellEditor\"},{\"attributes\":{},\"id\":\"1717\",\"type\":\"StringFormatter\"},{\"attributes\":{\"editor\":{\"id\":\"1718\"},\"field\":\"4\",\"formatter\":{\"id\":\"1717\"},\"title\":\"4\",\"width\":0},\"id\":\"1719\",\"type\":\"TableColumn\"},{\"attributes\":{},\"id\":\"1765\",\"type\":\"UnionRenderers\"},{\"attributes\":{},\"id\":\"1735\",\"type\":\"StringFormatter\"},{\"attributes\":{\"editor\":{\"id\":\"1736\"},\"field\":\"20635\",\"formatter\":{\"id\":\"1735\"},\"title\":\"20635\",\"width\":0},\"id\":\"1737\",\"type\":\"TableColumn\"},{\"attributes\":{},\"id\":\"1697\",\"type\":\"StringFormatter\"},{\"attributes\":{},\"id\":\"1698\",\"type\":\"StringEditor\"},{\"attributes\":{\"editor\":{\"id\":\"1698\"},\"field\":\"0\",\"formatter\":{\"id\":\"1697\"},\"title\":\"0\",\"width\":0},\"id\":\"1699\",\"type\":\"TableColumn\"},{\"attributes\":{\"source\":{\"id\":\"1727\"}},\"id\":\"1762\",\"type\":\"CDSView\"},{\"attributes\":{\"columns\":[{\"id\":\"1732\"},{\"id\":\"1737\"},{\"id\":\"1742\"},{\"id\":\"1747\"},{\"id\":\"1752\"},{\"id\":\"1757\"}],\"editable\":true,\"height\":300,\"index_position\":null,\"margin\":[5,10,5,10],\"name\":\"tail\",\"row_height\":40,\"sizing_mode\":\"fixed\",\"source\":{\"id\":\"1727\"},\"view\":{\"id\":\"1762\"},\"width\":800},\"id\":\"1760\",\"type\":\"DataTable\"},{\"attributes\":{},\"id\":\"1702\",\"type\":\"StringFormatter\"},{\"attributes\":{},\"id\":\"1703\",\"type\":\"StringEditor\"},{\"attributes\":{\"editor\":{\"id\":\"1703\"},\"field\":\"1\",\"formatter\":{\"id\":\"1702\"},\"title\":\"1\",\"width\":0},\"id\":\"1704\",\"type\":\"TableColumn\"},{\"attributes\":{},\"id\":\"1756\",\"type\":\"StringEditor\"},{\"attributes\":{\"client_comm_id\":\"4a31a29a310440eeb537bb34cbed3760\",\"comm_id\":\"6d4a41f62eab48adb11671fdd7496773\",\"plot_id\":\"1653\"},\"id\":\"1783\",\"type\":\"panel.models.comm_manager.CommManager\"},{\"attributes\":{\"data\":{\"Datatype\":[\"float64\",\"float64\",\"int64\",\"int64\",\"float64\",\"int64\",\"int64\",\"float64\",\"float64\",\"object\"],\"No of Unique\":[\"844\",\"862\",\"52\",\"5926\",\"1923\",\"3888\",\"1815\",\"12928\",\"3842\",\"5\"],\"Samples\":[\"[-122.23, -122.22, -122.24, -122.25, -122.26]\",\"[37.88, 37.86, 37.85, 37.84, 37.83]\",\"[41, 21, 52, 42, 50]\",\"[880, 7099, 1467, 1274, 1627]\",\"[129.0, 1106.0, 190.0, 235.0, 280.0]\",\"[322, 2401, 496, 558, 565]\",\"[126, 1138, 177, 219, 259]\",\"[8.3252, 8.3014, 7.2574, 5.6431, 3.8462]\",\"[452600.0, 358500.0, 352100.0, 341300.0, 342200.0]\",\"['NEAR BAY', '1H OCEAN', 'INLAND', 'NEAR OCEAN', 'ISLAND']\"],\"Variable Name\":[\"longitude\",\"latitude\",\"housing_median_age\",\"total_rooms\",\"total_bedrooms\",\"population\",\"households\",\"median_income\",\"median_house_value\",\"ocean_proximity\"],\"index\":[\"longitude\",\"latitude\",\"housing_median_age\",\"total_rooms\",\"total_bedrooms\",\"population\",\"households\",\"median_income\",\"median_house_value\",\"ocean_proximity\"]},\"selected\":{\"id\":\"1657\"},\"selection_policy\":{\"id\":\"1765\"}},\"id\":\"1656\",\"type\":\"ColumnDataSource\"},{\"attributes\":{},\"id\":\"1707\",\"type\":\"StringFormatter\"},{\"attributes\":{\"editor\":{\"id\":\"1756\"},\"field\":\"20639\",\"formatter\":{\"id\":\"1755\"},\"title\":\"20639\",\"width\":0},\"id\":\"1757\",\"type\":\"TableColumn\"},{\"attributes\":{},\"id\":\"1708\",\"type\":\"StringEditor\"},{\"attributes\":{\"source\":{\"id\":\"1656\"}},\"id\":\"1686\",\"type\":\"CDSView\"},{\"attributes\":{\"editor\":{\"id\":\"1708\"},\"field\":\"2\",\"formatter\":{\"id\":\"1707\"},\"title\":\"2\",\"width\":0},\"id\":\"1709\",\"type\":\"TableColumn\"},{\"attributes\":{\"source\":{\"id\":\"1689\"}},\"id\":\"1724\",\"type\":\"CDSView\"},{\"attributes\":{\"columns\":[{\"id\":\"1694\"},{\"id\":\"1699\"},{\"id\":\"1704\"},{\"id\":\"1709\"},{\"id\":\"1714\"},{\"id\":\"1719\"}],\"editable\":true,\"height\":300,\"index_position\":null,\"margin\":[5,10,5,10],\"name\":\"head\",\"row_height\":40,\"sizing_mode\":\"fixed\",\"source\":{\"id\":\"1689\"},\"view\":{\"id\":\"1724\"},\"width\":800},\"id\":\"1722\",\"type\":\"DataTable\"},{\"attributes\":{\"editor\":{\"id\":\"1660\"},\"field\":\"index\",\"formatter\":{\"id\":\"1658\"},\"title\":\"index\",\"width\":0},\"id\":\"1661\",\"type\":\"TableColumn\"},{\"attributes\":{\"indices\":[]},\"id\":\"1657\",\"type\":\"Selection\"},{\"attributes\":{\"child\":{\"id\":\"1654\"},\"name\":\"Summary\",\"title\":\"Summary\"},\"id\":\"1655\",\"type\":\"Panel\"},{\"attributes\":{\"columns\":[{\"id\":\"1661\"},{\"id\":\"1666\"},{\"id\":\"1671\"},{\"id\":\"1676\"},{\"id\":\"1681\"}],\"editable\":true,\"height\":300,\"index_position\":null,\"margin\":[5,10,5,10],\"name\":\"Variable summary\",\"row_height\":40,\"sizing_mode\":\"fixed\",\"source\":{\"id\":\"1656\"},\"view\":{\"id\":\"1686\"},\"width\":800},\"id\":\"1684\",\"type\":\"DataTable\"},{\"attributes\":{},\"id\":\"1767\",\"type\":\"UnionRenderers\"},{\"attributes\":{\"editor\":{\"id\":\"1731\"},\"field\":\"index\",\"formatter\":{\"id\":\"1729\"},\"title\":\"index\",\"width\":0},\"id\":\"1732\",\"type\":\"TableColumn\"},{\"attributes\":{},\"id\":\"1660\",\"type\":\"CellEditor\"},{\"attributes\":{},\"id\":\"1755\",\"type\":\"StringFormatter\"},{\"attributes\":{\"indices\":[]},\"id\":\"1728\",\"type\":\"Selection\"},{\"attributes\":{\"child\":{\"id\":\"1722\"},\"name\":\"head\",\"title\":\"head\"},\"id\":\"1726\",\"type\":\"Panel\"},{\"attributes\":{},\"id\":\"1658\",\"type\":\"StringFormatter\"},{\"attributes\":{},\"id\":\"1750\",\"type\":\"StringFormatter\"},{\"attributes\":{},\"id\":\"1751\",\"type\":\"StringEditor\"},{\"attributes\":{},\"id\":\"1746\",\"type\":\"StringEditor\"},{\"attributes\":{},\"id\":\"1664\",\"type\":\"StringFormatter\"},{\"attributes\":{},\"id\":\"1718\",\"type\":\"StringEditor\"},{\"attributes\":{},\"id\":\"1665\",\"type\":\"StringEditor\"},{\"attributes\":{\"editor\":{\"id\":\"1665\"},\"field\":\"Variable Name\",\"formatter\":{\"id\":\"1664\"},\"title\":\"Variable Name\",\"width\":0},\"id\":\"1666\",\"type\":\"TableColumn\"},{\"attributes\":{\"editor\":{\"id\":\"1746\"},\"field\":\"20637\",\"formatter\":{\"id\":\"1745\"},\"title\":\"20637\",\"width\":0},\"id\":\"1747\",\"type\":\"TableColumn\"},{\"attributes\":{\"css_classes\":[\"markdown\"],\"margin\":[5,5,5,5],\"name\":\"Summary\",\"text\":\"&lt;p&gt;Length: 20640, Columns: 10&lt;/p&gt;\"},\"id\":\"1654\",\"type\":\"panel.models.markup.HTML\"},{\"attributes\":{},\"id\":\"1741\",\"type\":\"StringEditor\"},{\"attributes\":{},\"id\":\"1729\",\"type\":\"StringFormatter\"},{\"attributes\":{},\"id\":\"1745\",\"type\":\"StringFormatter\"},{\"attributes\":{\"editor\":{\"id\":\"1751\"},\"field\":\"20638\",\"formatter\":{\"id\":\"1750\"},\"title\":\"20638\",\"width\":0},\"id\":\"1752\",\"type\":\"TableColumn\"},{\"attributes\":{\"margin\":[0,0,0,0],\"tabs\":[{\"id\":\"1655\"},{\"id\":\"1688\"},{\"id\":\"1726\"},{\"id\":\"1764\"}]},\"id\":\"1653\",\"type\":\"panel.models.tabs.Tabs\"},{\"attributes\":{\"editor\":{\"id\":\"1741\"},\"field\":\"20636\",\"formatter\":{\"id\":\"1740\"},\"title\":\"20636\",\"width\":0},\"id\":\"1742\",\"type\":\"TableColumn\"},{\"attributes\":{},\"id\":\"1669\",\"type\":\"StringFormatter\"},{\"attributes\":{},\"id\":\"1712\",\"type\":\"StringFormatter\"},{\"attributes\":{},\"id\":\"1670\",\"type\":\"StringEditor\"},{\"attributes\":{\"editor\":{\"id\":\"1670\"},\"field\":\"Datatype\",\"formatter\":{\"id\":\"1669\"},\"title\":\"Datatype\",\"width\":0},\"id\":\"1671\",\"type\":\"TableColumn\"},{\"attributes\":{\"editor\":{\"id\":\"1713\"},\"field\":\"3\",\"formatter\":{\"id\":\"1712\"},\"title\":\"3\",\"width\":0},\"id\":\"1714\",\"type\":\"TableColumn\"},{\"attributes\":{},\"id\":\"1731\",\"type\":\"CellEditor\"},{\"attributes\":{},\"id\":\"1740\",\"type\":\"StringFormatter\"},{\"attributes\":{},\"id\":\"1674\",\"type\":\"StringFormatter\"},{\"attributes\":{},\"id\":\"1769\",\"type\":\"UnionRenderers\"}],\"root_ids\":[\"1653\",\"1783\"]},\"title\":\"Bokeh Application\",\"version\":\"2.4.3\"}};\n",
       "    var render_items = [{\"docid\":\"4bdbc699-f835-4fd1-9c8e-c3659b6bb4a5\",\"root_ids\":[\"1653\"],\"roots\":{\"1653\":\"aa733634-e3ea-49d9-b040-7a3549da35fc\"}}];\n",
       "    root.Bokeh.embed.embed_items_notebook(docs_json, render_items);\n",
       "  }\n",
       "  if (root.Bokeh !== undefined && root.Bokeh.Panel !== undefined) {\n",
       "    embed_document(root);\n",
       "  } else {\n",
       "    var attempts = 0;\n",
       "    var timer = setInterval(function(root) {\n",
       "      if (root.Bokeh !== undefined && root.Bokeh.Panel !== undefined) {\n",
       "        clearInterval(timer);\n",
       "        embed_document(root);\n",
       "      } else if (document.readyState == \"complete\") {\n",
       "        attempts++;\n",
       "        if (attempts > 200) {\n",
       "          clearInterval(timer);\n",
       "          console.log(\"Bokeh: ERROR: Unable to run BokehJS code because BokehJS library is missing\");\n",
       "        }\n",
       "      }\n",
       "    }, 25, root)\n",
       "  }\n",
       "})(window);</script>"
      ],
      "text/plain": [
       "Tabs\n",
       "    [0] Markdown(str, name='Summary')\n",
       "    [1] DataFrame(height=300, name='Variable summary', sizing_mode='fixed', value=                         V..., width=800)\n",
       "    [2] DataFrame(height=300, name='head', sizing_mode='fixed', value=              ..., width=800)\n",
       "    [3] DataFrame(height=300, name='tail', sizing_mode='fixed', value=              ..., width=800)"
      ]
     },
     "execution_count": 86,
     "metadata": {
      "application/vnd.holoviews_exec.v0+json": {
       "id": "1653"
      }
     },
     "output_type": "execute_result"
    }
   ],
   "source": [
    "# Any verifications on the data\n",
    "from ta_lib.eda.api import get_variable_summary\n",
    "display_as_tabs([\n",
    "    (\"Summary\", f\"Length: {len(housing_df_processed)}, Columns: {len(housing_df_processed.columns)}\"),\n",
    "    (\"Variable summary\", get_variable_summary(housing_df_processed)),\n",
    "    (\"head\", housing_df_clean.head(5).T),\n",
    "    (\"tail\", housing_df_clean.tail(5).T),\n",
    "])"
   ]
  },
  {
   "cell_type": "code",
   "execution_count": 87,
   "metadata": {},
   "outputs": [],
   "source": [
    "save_dataset(context, housing_df_processed, 'cleaned/housing')"
   ]
  },
  {
   "cell_type": "markdown",
   "metadata": {},
   "source": [
    "# 3. Generate Train, Validation and Test datasets\n",
    "\n"
   ]
  },
  {
   "cell_type": "markdown",
   "metadata": {},
   "source": [
    "- We split the data into train, test (optionally, also a validation dataset)\n",
    "- In this example, we are binning the target into 10 quantiles and then use a Stratified Shuffle to split the data.\n",
    "- See sklearn documentation on the various available splitters\n",
    "- https://scikit-learn.org/stable/modules/classes.html#splitter-classes\n",
    "- This will go into production code (training only)"
   ]
  },
  {
   "cell_type": "code",
   "execution_count": 88,
   "metadata": {},
   "outputs": [
    {
     "data": {
      "text/html": [
       "<div>\n",
       "<style scoped>\n",
       "    .dataframe tbody tr th:only-of-type {\n",
       "        vertical-align: middle;\n",
       "    }\n",
       "\n",
       "    .dataframe tbody tr th {\n",
       "        vertical-align: top;\n",
       "    }\n",
       "\n",
       "    .dataframe thead th {\n",
       "        text-align: right;\n",
       "    }\n",
       "</style>\n",
       "<table border=\"1\" class=\"dataframe\">\n",
       "  <thead>\n",
       "    <tr style=\"text-align: right;\">\n",
       "      <th></th>\n",
       "      <th>longitude</th>\n",
       "      <th>latitude</th>\n",
       "      <th>housing_median_age</th>\n",
       "      <th>total_rooms</th>\n",
       "      <th>total_bedrooms</th>\n",
       "      <th>population</th>\n",
       "      <th>households</th>\n",
       "      <th>median_income</th>\n",
       "      <th>median_house_value</th>\n",
       "      <th>ocean_proximity</th>\n",
       "    </tr>\n",
       "  </thead>\n",
       "  <tbody>\n",
       "    <tr>\n",
       "      <th>0</th>\n",
       "      <td>-122.23</td>\n",
       "      <td>37.88</td>\n",
       "      <td>41</td>\n",
       "      <td>880</td>\n",
       "      <td>129.0</td>\n",
       "      <td>322</td>\n",
       "      <td>126</td>\n",
       "      <td>8.3252</td>\n",
       "      <td>452600.0</td>\n",
       "      <td>NEAR BAY</td>\n",
       "    </tr>\n",
       "    <tr>\n",
       "      <th>1</th>\n",
       "      <td>-122.22</td>\n",
       "      <td>37.86</td>\n",
       "      <td>21</td>\n",
       "      <td>7099</td>\n",
       "      <td>1106.0</td>\n",
       "      <td>2401</td>\n",
       "      <td>1138</td>\n",
       "      <td>8.3014</td>\n",
       "      <td>358500.0</td>\n",
       "      <td>NEAR BAY</td>\n",
       "    </tr>\n",
       "    <tr>\n",
       "      <th>2</th>\n",
       "      <td>-122.24</td>\n",
       "      <td>37.85</td>\n",
       "      <td>52</td>\n",
       "      <td>1467</td>\n",
       "      <td>190.0</td>\n",
       "      <td>496</td>\n",
       "      <td>177</td>\n",
       "      <td>7.2574</td>\n",
       "      <td>352100.0</td>\n",
       "      <td>NEAR BAY</td>\n",
       "    </tr>\n",
       "    <tr>\n",
       "      <th>3</th>\n",
       "      <td>-122.25</td>\n",
       "      <td>37.85</td>\n",
       "      <td>52</td>\n",
       "      <td>1274</td>\n",
       "      <td>235.0</td>\n",
       "      <td>558</td>\n",
       "      <td>219</td>\n",
       "      <td>5.6431</td>\n",
       "      <td>341300.0</td>\n",
       "      <td>NEAR BAY</td>\n",
       "    </tr>\n",
       "    <tr>\n",
       "      <th>4</th>\n",
       "      <td>-122.25</td>\n",
       "      <td>37.85</td>\n",
       "      <td>52</td>\n",
       "      <td>1627</td>\n",
       "      <td>280.0</td>\n",
       "      <td>565</td>\n",
       "      <td>259</td>\n",
       "      <td>3.8462</td>\n",
       "      <td>342200.0</td>\n",
       "      <td>NEAR BAY</td>\n",
       "    </tr>\n",
       "  </tbody>\n",
       "</table>\n",
       "</div>"
      ],
      "text/plain": [
       "   longitude  latitude  housing_median_age  total_rooms  total_bedrooms  \\\n",
       "0    -122.23     37.88                  41          880           129.0   \n",
       "1    -122.22     37.86                  21         7099          1106.0   \n",
       "2    -122.24     37.85                  52         1467           190.0   \n",
       "3    -122.25     37.85                  52         1274           235.0   \n",
       "4    -122.25     37.85                  52         1627           280.0   \n",
       "\n",
       "   population  households  median_income  median_house_value ocean_proximity  \n",
       "0         322         126         8.3252            452600.0        NEAR BAY  \n",
       "1        2401        1138         8.3014            358500.0        NEAR BAY  \n",
       "2         496         177         7.2574            352100.0        NEAR BAY  \n",
       "3         558         219         5.6431            341300.0        NEAR BAY  \n",
       "4         565         259         3.8462            342200.0        NEAR BAY  "
      ]
     },
     "execution_count": 88,
     "metadata": {},
     "output_type": "execute_result"
    }
   ],
   "source": [
    "housing_df_processed.head()"
   ]
  },
  {
   "cell_type": "code",
   "execution_count": 89,
   "metadata": {},
   "outputs": [],
   "source": [
    "from sklearn.model_selection import StratifiedShuffleSplit\n",
    "from ta_lib.core.api import custom_train_test_split  # helper function to customize splitting\n",
    "from scripts import *\n",
    "\n",
    "splitter = StratifiedShuffleSplit(n_splits=1, test_size=0.2, random_state=context.random_seed)\n",
    "housing_df_train, housing_df_test = custom_train_test_split(housing_df_processed, splitter, by=binned_median_house_value)"
   ]
  },
  {
   "cell_type": "code",
   "execution_count": 90,
   "metadata": {},
   "outputs": [],
   "source": [
    "target_col = \"median_house_value\"\n",
    "\n",
    "train_X, train_y = (\n",
    "    housing_df_train\n",
    "    \n",
    "    # split the dataset to train and test\n",
    "    .get_features_targets(target_column_names=target_col)\n",
    ")\n",
    "save_dataset(context, train_X, 'train/housing/features')\n",
    "save_dataset(context, train_y, 'train/housing/target')\n",
    "\n",
    "\n",
    "test_X, test_y = (\n",
    "    housing_df_test\n",
    "    \n",
    "    # split the dataset to train and test\n",
    "    .get_features_targets(target_column_names=target_col)\n",
    ")\n",
    "save_dataset(context, test_X, 'test/housing/features')\n",
    "save_dataset(context, test_y, 'test/housing/target')"
   ]
  }
 ],
 "metadata": {
  "kernelspec": {
   "display_name": "Python 3 (ipykernel)",
   "language": "python",
   "name": "python3"
  },
  "language_info": {
   "codemirror_mode": {
    "name": "ipython",
    "version": 3
   },
   "file_extension": ".py",
   "mimetype": "text/x-python",
   "name": "python",
   "nbconvert_exporter": "python",
   "pygments_lexer": "ipython3",
   "version": "3.9.16"
  }
 },
 "nbformat": 4,
 "nbformat_minor": 4
}
