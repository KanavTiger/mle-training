{
 "cells": [
  {
   "cell_type": "markdown",
   "metadata": {},
   "source": [
    "# Purpose"
   ]
  },
  {
   "cell_type": "markdown",
   "metadata": {},
   "source": [
    "This notebook demonstrates the model experimentation and finalization. It covers EDA, outlier treatment, transformation, training, model evaluation and comparison across models."
   ]
  },
  {
   "cell_type": "markdown",
   "metadata": {},
   "source": [
    "## Imports"
   ]
  },
  {
   "cell_type": "code",
   "execution_count": 293,
   "metadata": {},
   "outputs": [],
   "source": [
    "import os\n",
    "import os.path as op\n",
    "import shutil\n",
    "\n",
    "# standard third party imports\n",
    "import numpy as np\n",
    "import pandas as pd\n",
    "from matplotlib import pyplot as plt\n",
    "from sklearn.pipeline import Pipeline\n",
    "from sklearn.feature_selection import SelectFromModel\n",
    "from sklearn.model_selection import GridSearchCV\n",
    "from sklearn.preprocessing import FunctionTransformer\n",
    "from sklearn.compose import ColumnTransformer\n",
    "\n",
    "# impute missing values\n",
    "from sklearn.experimental import enable_iterative_imputer  # noqa\n",
    "from sklearn.impute import KNNImputer, IterativeImputer, SimpleImputer\n",
    "from sklearn.tree import DecisionTreeRegressor\n",
    "from category_encoders import TargetEncoder\n"
   ]
  },
  {
   "cell_type": "code",
   "execution_count": 294,
   "metadata": {},
   "outputs": [
    {
     "name": "stdout",
     "output_type": "stream",
     "text": [
      "The autoreload extension is already loaded. To reload it, use:\n",
      "  %reload_ext autoreload\n"
     ]
    }
   ],
   "source": [
    "%load_ext autoreload\n",
    "%autoreload 2"
   ]
  },
  {
   "cell_type": "code",
   "execution_count": 295,
   "metadata": {},
   "outputs": [],
   "source": [
    "import warnings\n",
    "\n",
    "warnings.filterwarnings('ignore', message=\"pandas.Int64Index is deprecated and will be removed from pandas in a future version. Use pandas.Index with the appropriate dtype instead.\", \n",
    "                        category=FutureWarning)\n",
    "warnings.filterwarnings('ignore', message=\"pandas.Float64Index is deprecated and will be removed from pandas in a future version. Use pandas.Index with the appropriate dtype instead.\",\n",
    "                        category=FutureWarning)"
   ]
  },
  {
   "cell_type": "code",
   "execution_count": 296,
   "metadata": {},
   "outputs": [],
   "source": [
    "# standard code-template imports\n",
    "from ta_lib.core.api import (\n",
    "    create_context, get_dataframe, get_feature_names_from_column_transformer, string_cleaning,\n",
    "    get_package_path, display_as_tabs, save_pipeline, load_pipeline, initialize_environment,\n",
    "    load_dataset, save_dataset, DEFAULT_ARTIFACTS_PATH\n",
    ")\n",
    "\n",
    "import ta_lib.eda.api as eda\n",
    "from xgboost import XGBRegressor\n",
    "from ta_lib.regression.api import SKLStatsmodelOLS\n",
    "from ta_lib.regression.api import RegressionComparison, RegressionReport\n",
    "import ta_lib.reports.api as reports\n",
    "from ta_lib.data_processing.api import Outlier\n",
    "\n",
    "initialize_environment(debug=False, hide_warnings=True)"
   ]
  },
  {
   "cell_type": "markdown",
   "metadata": {},
   "source": [
    "# Initialization"
   ]
  },
  {
   "cell_type": "code",
   "execution_count": 297,
   "metadata": {},
   "outputs": [],
   "source": [
    "artifacts_folder = DEFAULT_ARTIFACTS_PATH"
   ]
  },
  {
   "cell_type": "code",
   "execution_count": 298,
   "metadata": {},
   "outputs": [],
   "source": [
    "config_path = op.join('conf', 'config.yml')\n",
    "context = create_context(config_path)"
   ]
  },
  {
   "cell_type": "markdown",
   "metadata": {},
   "source": [
    "# 3 Feature Engineering\n",
    "\n",
    "The focus here is the `Pipeline` and not the model. Though the model would inform the pipeline that is needed to train the model, our focus is to set it up in such a way that it can be saved/loaded, tweaked for different model choices and so on."
   ]
  },
  {
   "cell_type": "markdown",
   "metadata": {},
   "source": [
    "## 3.1 Read the Train and Test Data"
   ]
  },
  {
   "cell_type": "code",
   "execution_count": 299,
   "metadata": {},
   "outputs": [
    {
     "name": "stdout",
     "output_type": "stream",
     "text": [
      "(16512, 9) (16512, 1)\n",
      "(4128, 9) (4128, 1)\n"
     ]
    }
   ],
   "source": [
    "train_X = load_dataset(context, 'train/housing/features')\n",
    "train_y = load_dataset(context, 'train/housing/target')\n",
    "print(train_X.shape, train_y.shape)\n",
    "\n",
    "test_X = load_dataset(context, 'test/housing/features')\n",
    "test_y = load_dataset(context, 'test/housing/target')\n",
    "print(test_X.shape, test_y.shape)"
   ]
  },
  {
   "cell_type": "markdown",
   "metadata": {},
   "source": [
    "## 3.2 Feature Engineering Pipelines\n"
   ]
  },
  {
   "cell_type": "markdown",
   "metadata": {},
   "source": [
    "**Dev NOTES**\n",
    "\n",
    "For Feature Engineering and Model Building sklearn.pipeline.Pipeline are leveraged because of the following advantages\n",
    "<details>\n",
    "    \n",
    "1. It helps in automating workflows and are easier to read and comprehend.\n",
    "2. Right Sequence can be ensured and (for example always encodes before imputing)\n",
    "3. Reproducibility is very convenient with pipelines\n",
    "4. Pipelines help you prevent data leakage in your test data\n",
    "5. Code is near implementation ready"
   ]
  },
  {
   "cell_type": "markdown",
   "metadata": {},
   "source": [
    "#### General Steps in the Feature Transformation are as follows\n",
    " - Outlier Treatment\n",
    " - Encoding of Categorical Columns\n",
    " - Missing Values Imputation"
   ]
  },
  {
   "cell_type": "code",
   "execution_count": 300,
   "metadata": {},
   "outputs": [],
   "source": [
    "# collecting different types of columns for transformations\n",
    "cat_columns = train_X.select_dtypes('object').columns\n",
    "num_columns = train_X.select_dtypes('number').columns"
   ]
  },
  {
   "cell_type": "code",
   "execution_count": 301,
   "metadata": {},
   "outputs": [
    {
     "data": {
      "text/plain": [
       "Index(['ocean_proximity'], dtype='object')"
      ]
     },
     "execution_count": 301,
     "metadata": {},
     "output_type": "execute_result"
    }
   ],
   "source": [
    "cat_columns"
   ]
  },
  {
   "cell_type": "code",
   "execution_count": 302,
   "metadata": {},
   "outputs": [
    {
     "data": {
      "text/plain": [
       "Index(['longitude', 'latitude', 'housing_median_age', 'total_rooms',\n",
       "       'total_bedrooms', 'population', 'households', 'median_income'],\n",
       "      dtype='object')"
      ]
     },
     "execution_count": 302,
     "metadata": {},
     "output_type": "execute_result"
    }
   ],
   "source": [
    "num_columns"
   ]
  },
  {
   "cell_type": "markdown",
   "metadata": {},
   "source": [
    "#### Outlier Handling\n",
    "- A Custom Transformer is used to handle outliers. It is not included as part of the pipeline as outliers handling are optional for test data\n",
    "- An option to either drop or cap the outliers can be passed during the transform call\n",
    "- If we want to treat outliers for some columns them we can pass cols argument to the Transformer\n",
    "- This will go into production code"
   ]
  },
  {
   "cell_type": "code",
   "execution_count": 303,
   "metadata": {},
   "outputs": [
    {
     "name": "stdout",
     "output_type": "stream",
     "text": [
      "(16512, 9)\n",
      "(16512, 9)\n"
     ]
    }
   ],
   "source": [
    "outlier_transformer = Outlier(method='mean')\n",
    "print(train_X.shape)\n",
    "train_X = outlier_transformer.fit_transform(train_X)\n",
    "print(train_X.shape)"
   ]
  },
  {
   "cell_type": "markdown",
   "metadata": {},
   "source": [
    "#### Encoding\n"
   ]
  },
  {
   "cell_type": "markdown",
   "metadata": {},
   "source": [
    "Some sample pipelines showcasing how to create column specific pipelines and integrating them overall is presented below\n",
    "\n",
    "- Commonly target encoding is done for categorical variables with too many levels.\n",
    "- We also group sparse levels. For fewer levels one hot encoding/label encoding is preferred.\n",
    "- If there is one dominant level, we can use binary encoding.\n",
    "- This will go into production code"
   ]
  },
  {
   "cell_type": "code",
   "execution_count": 304,
   "metadata": {},
   "outputs": [],
   "source": [
    "from sklearn.base import BaseEstimator, TransformerMixin\n",
    "class CombinedAttributesAdder(BaseEstimator, TransformerMixin):\n",
    "    def __init__(self, add_bedrooms_per_room=True):  # no *args or **kargs\n",
    "        self.add_bedrooms_per_room = add_bedrooms_per_room\n",
    "\n",
    "    def fit(self, X, y=None):\n",
    "        return self  # nothing else to do\n",
    "\n",
    "    def transform(self, X):\n",
    "        rooms_per_household = X[:, rooms_ix] / X[:, households_ix]\n",
    "        population_per_household = X[:, population_ix] / X[:, households_ix]\n",
    "        if self.add_bedrooms_per_room:\n",
    "            bedrooms_per_room = X[:, bedrooms_ix] / X[:, rooms_ix]\n",
    "            return np.c_[X, rooms_per_household, population_per_household,\n",
    "                         bedrooms_per_room]\n",
    "        else:\n",
    "            return np.c_[X, rooms_per_household, population_per_household]\n",
    "\n",
    "    def inverse_transform(self, X_transformed):\n",
    "        X_original = X_transformed.copy()\n",
    "        if self.add_bedrooms_per_room:\n",
    "            bedrooms_per_room = X_transformed[:, -1]\n",
    "            X_original[:, bedrooms_ix] = X_transformed[:, rooms_ix] * bedrooms_per_room\n",
    "            X_transformed = np.delete(X_transformed, -1, axis=1)\n",
    "        \n",
    "        population_per_household = X_transformed[:, -1]\n",
    "        X_original[:, population_ix] = X_transformed[:, households_ix] * population_per_household\n",
    "        X_transformed = np.delete(X_transformed, -1, axis=1)\n",
    "\n",
    "        rooms_per_household = X_transformed[:, -1]\n",
    "        X_original[:, rooms_ix] = X_transformed[:, households_ix] * rooms_per_household\n",
    "        X_transformed = np.delete(X_transformed, -1, axis=1)\n",
    "\n",
    "        return X_original\n"
   ]
  },
  {
   "cell_type": "code",
   "execution_count": 305,
   "metadata": {},
   "outputs": [],
   "source": [
    "\n",
    "attr_adder = CombinedAttributesAdder(add_bedrooms_per_room=False)\n",
    "housing_extra_attribs = attr_adder.transform(train_X.values)"
   ]
  },
  {
   "cell_type": "code",
   "execution_count": 306,
   "metadata": {},
   "outputs": [],
   "source": [
    "col_names = \"total_rooms\", \"total_bedrooms\", \"population\", \"households\"\n",
    "rooms_ix, bedrooms_ix, population_ix, households_ix = [\n",
    "    train_X.columns.get_loc(c) for c in col_names] # get the column indices"
   ]
  },
  {
   "cell_type": "code",
   "execution_count": 307,
   "metadata": {},
   "outputs": [
    {
     "data": {
      "text/html": [
       "<div>\n",
       "<style scoped>\n",
       "    .dataframe tbody tr th:only-of-type {\n",
       "        vertical-align: middle;\n",
       "    }\n",
       "\n",
       "    .dataframe tbody tr th {\n",
       "        vertical-align: top;\n",
       "    }\n",
       "\n",
       "    .dataframe thead th {\n",
       "        text-align: right;\n",
       "    }\n",
       "</style>\n",
       "<table border=\"1\" class=\"dataframe\">\n",
       "  <thead>\n",
       "    <tr style=\"text-align: right;\">\n",
       "      <th></th>\n",
       "      <th>longitude</th>\n",
       "      <th>latitude</th>\n",
       "      <th>housing_median_age</th>\n",
       "      <th>total_rooms</th>\n",
       "      <th>total_bedrooms</th>\n",
       "      <th>population</th>\n",
       "      <th>households</th>\n",
       "      <th>median_income</th>\n",
       "      <th>ocean_proximity</th>\n",
       "      <th>rooms_per_household</th>\n",
       "      <th>population_per_household</th>\n",
       "    </tr>\n",
       "  </thead>\n",
       "  <tbody>\n",
       "    <tr>\n",
       "      <th>0</th>\n",
       "      <td>-118.04</td>\n",
       "      <td>33.99</td>\n",
       "      <td>47.0</td>\n",
       "      <td>2530.0</td>\n",
       "      <td>565.0</td>\n",
       "      <td>1262.0</td>\n",
       "      <td>509.0</td>\n",
       "      <td>3.6475</td>\n",
       "      <td>1H OCEAN</td>\n",
       "      <td>4.97053</td>\n",
       "      <td>2.479371</td>\n",
       "    </tr>\n",
       "    <tr>\n",
       "      <th>1</th>\n",
       "      <td>-122.2</td>\n",
       "      <td>37.82</td>\n",
       "      <td>37.0</td>\n",
       "      <td>1229.0</td>\n",
       "      <td>181.0</td>\n",
       "      <td>420.0</td>\n",
       "      <td>176.0</td>\n",
       "      <td>7.0175</td>\n",
       "      <td>NEAR BAY</td>\n",
       "      <td>6.982955</td>\n",
       "      <td>2.386364</td>\n",
       "    </tr>\n",
       "    <tr>\n",
       "      <th>2</th>\n",
       "      <td>-118.25</td>\n",
       "      <td>34.09</td>\n",
       "      <td>52.0</td>\n",
       "      <td>3142.0</td>\n",
       "      <td>765.0</td>\n",
       "      <td>1728.0</td>\n",
       "      <td>682.0</td>\n",
       "      <td>3.1864</td>\n",
       "      <td>1H OCEAN</td>\n",
       "      <td>4.607038</td>\n",
       "      <td>2.533724</td>\n",
       "    </tr>\n",
       "    <tr>\n",
       "      <th>3</th>\n",
       "      <td>-117.99</td>\n",
       "      <td>33.7</td>\n",
       "      <td>25.0</td>\n",
       "      <td>2017.0</td>\n",
       "      <td>357.0</td>\n",
       "      <td>1063.0</td>\n",
       "      <td>369.0</td>\n",
       "      <td>4.0345</td>\n",
       "      <td>1H OCEAN</td>\n",
       "      <td>5.466125</td>\n",
       "      <td>2.880759</td>\n",
       "    </tr>\n",
       "    <tr>\n",
       "      <th>4</th>\n",
       "      <td>-120.88</td>\n",
       "      <td>37.52</td>\n",
       "      <td>2.0</td>\n",
       "      <td>1871.0</td>\n",
       "      <td>409.0</td>\n",
       "      <td>707.0</td>\n",
       "      <td>256.0</td>\n",
       "      <td>2.6103</td>\n",
       "      <td>INLAND</td>\n",
       "      <td>7.308594</td>\n",
       "      <td>2.761719</td>\n",
       "    </tr>\n",
       "  </tbody>\n",
       "</table>\n",
       "</div>"
      ],
      "text/plain": [
       "  longitude latitude housing_median_age total_rooms total_bedrooms population  \\\n",
       "0   -118.04    33.99               47.0      2530.0          565.0     1262.0   \n",
       "1    -122.2    37.82               37.0      1229.0          181.0      420.0   \n",
       "2   -118.25    34.09               52.0      3142.0          765.0     1728.0   \n",
       "3   -117.99     33.7               25.0      2017.0          357.0     1063.0   \n",
       "4   -120.88    37.52                2.0      1871.0          409.0      707.0   \n",
       "\n",
       "  households median_income ocean_proximity rooms_per_household  \\\n",
       "0      509.0        3.6475        1H OCEAN             4.97053   \n",
       "1      176.0        7.0175        NEAR BAY            6.982955   \n",
       "2      682.0        3.1864        1H OCEAN            4.607038   \n",
       "3      369.0        4.0345        1H OCEAN            5.466125   \n",
       "4      256.0        2.6103          INLAND            7.308594   \n",
       "\n",
       "  population_per_household  \n",
       "0                 2.479371  \n",
       "1                 2.386364  \n",
       "2                 2.533724  \n",
       "3                 2.880759  \n",
       "4                 2.761719  "
      ]
     },
     "execution_count": 307,
     "metadata": {},
     "output_type": "execute_result"
    }
   ],
   "source": [
    "housing_extra_attribs = pd.DataFrame(\n",
    "    housing_extra_attribs,\n",
    "    columns=list(train_X.columns)+[\"rooms_per_household\", \"population_per_household\"],\n",
    "    index=train_X.index)\n",
    "housing_extra_attribs.head()"
   ]
  },
  {
   "cell_type": "code",
   "execution_count": 308,
   "metadata": {},
   "outputs": [
    {
     "data": {
      "text/html": [
       "<div>\n",
       "<style scoped>\n",
       "    .dataframe tbody tr th:only-of-type {\n",
       "        vertical-align: middle;\n",
       "    }\n",
       "\n",
       "    .dataframe tbody tr th {\n",
       "        vertical-align: top;\n",
       "    }\n",
       "\n",
       "    .dataframe thead th {\n",
       "        text-align: right;\n",
       "    }\n",
       "</style>\n",
       "<table border=\"1\" class=\"dataframe\">\n",
       "  <thead>\n",
       "    <tr style=\"text-align: right;\">\n",
       "      <th></th>\n",
       "      <th>longitude</th>\n",
       "      <th>latitude</th>\n",
       "      <th>housing_median_age</th>\n",
       "      <th>total_rooms</th>\n",
       "      <th>total_bedrooms</th>\n",
       "      <th>population</th>\n",
       "      <th>households</th>\n",
       "      <th>median_income</th>\n",
       "      <th>ocean_proximity</th>\n",
       "    </tr>\n",
       "  </thead>\n",
       "  <tbody>\n",
       "    <tr>\n",
       "      <th>0</th>\n",
       "      <td>-118.04</td>\n",
       "      <td>33.99</td>\n",
       "      <td>47.0</td>\n",
       "      <td>2530.0</td>\n",
       "      <td>565.0</td>\n",
       "      <td>1262.0</td>\n",
       "      <td>509.0</td>\n",
       "      <td>3.6475</td>\n",
       "      <td>1H OCEAN</td>\n",
       "    </tr>\n",
       "    <tr>\n",
       "      <th>1</th>\n",
       "      <td>-122.20</td>\n",
       "      <td>37.82</td>\n",
       "      <td>37.0</td>\n",
       "      <td>1229.0</td>\n",
       "      <td>181.0</td>\n",
       "      <td>420.0</td>\n",
       "      <td>176.0</td>\n",
       "      <td>7.0175</td>\n",
       "      <td>NEAR BAY</td>\n",
       "    </tr>\n",
       "    <tr>\n",
       "      <th>2</th>\n",
       "      <td>-118.25</td>\n",
       "      <td>34.09</td>\n",
       "      <td>52.0</td>\n",
       "      <td>3142.0</td>\n",
       "      <td>765.0</td>\n",
       "      <td>1728.0</td>\n",
       "      <td>682.0</td>\n",
       "      <td>3.1864</td>\n",
       "      <td>1H OCEAN</td>\n",
       "    </tr>\n",
       "    <tr>\n",
       "      <th>3</th>\n",
       "      <td>-117.99</td>\n",
       "      <td>33.70</td>\n",
       "      <td>25.0</td>\n",
       "      <td>2017.0</td>\n",
       "      <td>357.0</td>\n",
       "      <td>1063.0</td>\n",
       "      <td>369.0</td>\n",
       "      <td>4.0345</td>\n",
       "      <td>1H OCEAN</td>\n",
       "    </tr>\n",
       "    <tr>\n",
       "      <th>4</th>\n",
       "      <td>-120.88</td>\n",
       "      <td>37.52</td>\n",
       "      <td>2.0</td>\n",
       "      <td>1871.0</td>\n",
       "      <td>409.0</td>\n",
       "      <td>707.0</td>\n",
       "      <td>256.0</td>\n",
       "      <td>2.6103</td>\n",
       "      <td>INLAND</td>\n",
       "    </tr>\n",
       "  </tbody>\n",
       "</table>\n",
       "</div>"
      ],
      "text/plain": [
       "   longitude  latitude  housing_median_age  total_rooms  total_bedrooms  \\\n",
       "0    -118.04     33.99                47.0       2530.0           565.0   \n",
       "1    -122.20     37.82                37.0       1229.0           181.0   \n",
       "2    -118.25     34.09                52.0       3142.0           765.0   \n",
       "3    -117.99     33.70                25.0       2017.0           357.0   \n",
       "4    -120.88     37.52                 2.0       1871.0           409.0   \n",
       "\n",
       "   population  households  median_income ocean_proximity  \n",
       "0      1262.0       509.0         3.6475        1H OCEAN  \n",
       "1       420.0       176.0         7.0175        NEAR BAY  \n",
       "2      1728.0       682.0         3.1864        1H OCEAN  \n",
       "3      1063.0       369.0         4.0345        1H OCEAN  \n",
       "4       707.0       256.0         2.6103          INLAND  "
      ]
     },
     "execution_count": 308,
     "metadata": {},
     "output_type": "execute_result"
    }
   ],
   "source": [
    "train_X.head()"
   ]
  },
  {
   "cell_type": "code",
   "execution_count": 309,
   "metadata": {},
   "outputs": [
    {
     "data": {
      "text/plain": [
       "array([[ 0.76042634, -0.76677882,  1.45527675, ..., -0.17865878,\n",
       "        -0.06830011,  0.14522294],\n",
       "       [-1.31569045,  1.02780974,  0.66033925, ...,  0.60567428,\n",
       "        -0.07922436, -1.01387342],\n",
       "       [ 0.65562237, -0.71992272,  1.8527455 , ..., -0.32032825,\n",
       "        -0.06191606,  0.45243162],\n",
       "       ...,\n",
       "       [-1.2508118 ,  0.9153551 , -1.0090295 , ...,  0.21966371,\n",
       "         0.13002783, -0.98086836],\n",
       "       [-1.43047575,  1.0090673 ,  1.8527455 , ..., -0.79509632,\n",
       "        -0.09768799,  1.64505846],\n",
       "       [-1.07114785,  0.59673363, -1.0090295 , ...,  0.26508994,\n",
       "         0.11158718, -0.67292928]])"
      ]
     },
     "execution_count": 309,
     "metadata": {},
     "output_type": "execute_result"
    }
   ],
   "source": [
    "## Transformation Pipelines(exercise 3)\n",
    "from sklearn.pipeline import Pipeline\n",
    "from sklearn.preprocessing import StandardScaler\n",
    "\n",
    "housing_num = train_X.drop(\"ocean_proximity\", axis=1)\n",
    "num_pipeline = Pipeline([\n",
    "        ('imputer', SimpleImputer(strategy=\"median\")),\n",
    "        ('attribs_adder', CombinedAttributesAdder()),\n",
    "        ('std_scaler', StandardScaler()),\n",
    "    ])\n",
    "\n",
    "housing_num_tr = num_pipeline.fit_transform(housing_num)\n",
    "housing_num_tr"
   ]
  },
  {
   "cell_type": "code",
   "execution_count": 310,
   "metadata": {},
   "outputs": [
    {
     "data": {
      "text/html": [
       "<div>\n",
       "<style scoped>\n",
       "    .dataframe tbody tr th:only-of-type {\n",
       "        vertical-align: middle;\n",
       "    }\n",
       "\n",
       "    .dataframe tbody tr th {\n",
       "        vertical-align: top;\n",
       "    }\n",
       "\n",
       "    .dataframe thead th {\n",
       "        text-align: right;\n",
       "    }\n",
       "</style>\n",
       "<table border=\"1\" class=\"dataframe\">\n",
       "  <thead>\n",
       "    <tr style=\"text-align: right;\">\n",
       "      <th></th>\n",
       "      <th>longitude</th>\n",
       "      <th>latitude</th>\n",
       "      <th>housing_median_age</th>\n",
       "      <th>total_rooms</th>\n",
       "      <th>total_bedrooms</th>\n",
       "      <th>population</th>\n",
       "      <th>households</th>\n",
       "      <th>median_income</th>\n",
       "      <th>rooms_per_household</th>\n",
       "      <th>population_per_household</th>\n",
       "      <th>bedrooms_per_room</th>\n",
       "    </tr>\n",
       "  </thead>\n",
       "  <tbody>\n",
       "    <tr>\n",
       "      <th>0</th>\n",
       "      <td>0.760426</td>\n",
       "      <td>-0.766779</td>\n",
       "      <td>1.455277</td>\n",
       "      <td>-0.015030</td>\n",
       "      <td>0.120537</td>\n",
       "      <td>-0.137216</td>\n",
       "      <td>0.069540</td>\n",
       "      <td>-0.107653</td>\n",
       "      <td>-0.178659</td>\n",
       "      <td>-0.068300</td>\n",
       "      <td>0.145223</td>\n",
       "    </tr>\n",
       "    <tr>\n",
       "      <th>1</th>\n",
       "      <td>-1.315690</td>\n",
       "      <td>1.027810</td>\n",
       "      <td>0.660339</td>\n",
       "      <td>-0.761706</td>\n",
       "      <td>-0.982981</td>\n",
       "      <td>-1.050893</td>\n",
       "      <td>-0.976725</td>\n",
       "      <td>1.804227</td>\n",
       "      <td>0.605674</td>\n",
       "      <td>-0.079224</td>\n",
       "      <td>-1.013873</td>\n",
       "    </tr>\n",
       "    <tr>\n",
       "      <th>2</th>\n",
       "      <td>0.655622</td>\n",
       "      <td>-0.719923</td>\n",
       "      <td>1.852746</td>\n",
       "      <td>0.336212</td>\n",
       "      <td>0.695285</td>\n",
       "      <td>0.368454</td>\n",
       "      <td>0.613095</td>\n",
       "      <td>-0.369245</td>\n",
       "      <td>-0.320328</td>\n",
       "      <td>-0.061916</td>\n",
       "      <td>0.452432</td>\n",
       "    </tr>\n",
       "    <tr>\n",
       "      <th>3</th>\n",
       "      <td>0.785380</td>\n",
       "      <td>-0.902662</td>\n",
       "      <td>-0.293586</td>\n",
       "      <td>-0.309454</td>\n",
       "      <td>-0.477202</td>\n",
       "      <td>-0.353156</td>\n",
       "      <td>-0.370331</td>\n",
       "      <td>0.111902</td>\n",
       "      <td>0.014497</td>\n",
       "      <td>-0.021155</td>\n",
       "      <td>-0.560859</td>\n",
       "    </tr>\n",
       "    <tr>\n",
       "      <th>4</th>\n",
       "      <td>-0.656923</td>\n",
       "      <td>0.887241</td>\n",
       "      <td>-2.121942</td>\n",
       "      <td>-0.393247</td>\n",
       "      <td>-0.327768</td>\n",
       "      <td>-0.739461</td>\n",
       "      <td>-0.725370</td>\n",
       "      <td>-0.696080</td>\n",
       "      <td>0.732591</td>\n",
       "      <td>-0.035137</td>\n",
       "      <td>0.073273</td>\n",
       "    </tr>\n",
       "  </tbody>\n",
       "</table>\n",
       "</div>"
      ],
      "text/plain": [
       "   longitude  latitude  housing_median_age  total_rooms  total_bedrooms  \\\n",
       "0   0.760426 -0.766779            1.455277    -0.015030        0.120537   \n",
       "1  -1.315690  1.027810            0.660339    -0.761706       -0.982981   \n",
       "2   0.655622 -0.719923            1.852746     0.336212        0.695285   \n",
       "3   0.785380 -0.902662           -0.293586    -0.309454       -0.477202   \n",
       "4  -0.656923  0.887241           -2.121942    -0.393247       -0.327768   \n",
       "\n",
       "   population  households  median_income  rooms_per_household  \\\n",
       "0   -0.137216    0.069540      -0.107653            -0.178659   \n",
       "1   -1.050893   -0.976725       1.804227             0.605674   \n",
       "2    0.368454    0.613095      -0.369245            -0.320328   \n",
       "3   -0.353156   -0.370331       0.111902             0.014497   \n",
       "4   -0.739461   -0.725370      -0.696080             0.732591   \n",
       "\n",
       "   population_per_household  bedrooms_per_room  \n",
       "0                 -0.068300           0.145223  \n",
       "1                 -0.079224          -1.013873  \n",
       "2                 -0.061916           0.452432  \n",
       "3                 -0.021155          -0.560859  \n",
       "4                 -0.035137           0.073273  "
      ]
     },
     "execution_count": 310,
     "metadata": {},
     "output_type": "execute_result"
    }
   ],
   "source": [
    "# Get the original column names from the numerical DataFrame\n",
    "original_column_names = list(housing_num.columns)\n",
    "\n",
    "# Add the new column names created by the CombinedAttributesAdder\n",
    "new_columns = ['rooms_per_household', 'population_per_household']\n",
    "if num_pipeline.named_steps['attribs_adder'].add_bedrooms_per_room:\n",
    "    new_columns.append('bedrooms_per_room')\n",
    "\n",
    "# Combine the original and new column names\n",
    "column_names = original_column_names + new_columns\n",
    "\n",
    "# Convert the transformed data back to a DataFrame\n",
    "housing_num_tr_df = pd.DataFrame(housing_num_tr, columns=column_names)\n",
    "\n",
    "housing_num_tr_df.head()"
   ]
  },
  {
   "cell_type": "code",
   "execution_count": 311,
   "metadata": {},
   "outputs": [
    {
     "data": {
      "text/plain": [
       "array([[ 0.76042634, -0.76677882,  1.45527675, ...,  0.        ,\n",
       "         0.        ,  0.        ],\n",
       "       [-1.31569045,  1.02780974,  0.66033925, ...,  0.        ,\n",
       "         1.        ,  0.        ],\n",
       "       [ 0.65562237, -0.71992272,  1.8527455 , ...,  0.        ,\n",
       "         0.        ,  0.        ],\n",
       "       ...,\n",
       "       [-1.2508118 ,  0.9153551 , -1.0090295 , ...,  0.        ,\n",
       "         1.        ,  0.        ],\n",
       "       [-1.43047575,  1.0090673 ,  1.8527455 , ...,  0.        ,\n",
       "         1.        ,  0.        ],\n",
       "       [-1.07114785,  0.59673363, -1.0090295 , ...,  0.        ,\n",
       "         0.        ,  0.        ]])"
      ]
     },
     "execution_count": 311,
     "metadata": {},
     "output_type": "execute_result"
    }
   ],
   "source": [
    "from sklearn.compose import ColumnTransformer\n",
    "from sklearn.preprocessing import OneHotEncoder\n",
    "\n",
    "num_attribs = list(housing_num)\n",
    "cat_attribs = [\"ocean_proximity\"]\n",
    "\n",
    "features_transformer = ColumnTransformer([\n",
    "        (\"num\", num_pipeline, num_attribs),\n",
    "        (\"cat\", OneHotEncoder(), cat_attribs),\n",
    "    ])\n",
    "\n",
    "housing_prepared = features_transformer.fit_transform(train_X)\n",
    "housing_prepared"
   ]
  },
  {
   "cell_type": "code",
   "execution_count": 312,
   "metadata": {},
   "outputs": [
    {
     "data": {
      "text/html": [
       "<div>\n",
       "<style scoped>\n",
       "    .dataframe tbody tr th:only-of-type {\n",
       "        vertical-align: middle;\n",
       "    }\n",
       "\n",
       "    .dataframe tbody tr th {\n",
       "        vertical-align: top;\n",
       "    }\n",
       "\n",
       "    .dataframe thead th {\n",
       "        text-align: right;\n",
       "    }\n",
       "</style>\n",
       "<table border=\"1\" class=\"dataframe\">\n",
       "  <thead>\n",
       "    <tr style=\"text-align: right;\">\n",
       "      <th></th>\n",
       "      <th>longitude</th>\n",
       "      <th>latitude</th>\n",
       "      <th>housing_median_age</th>\n",
       "      <th>total_rooms</th>\n",
       "      <th>total_bedrooms</th>\n",
       "      <th>population</th>\n",
       "      <th>households</th>\n",
       "      <th>median_income</th>\n",
       "      <th>rooms_per_household</th>\n",
       "      <th>population_per_household</th>\n",
       "      <th>bedrooms_per_room</th>\n",
       "      <th>ocean_proximity_1H OCEAN</th>\n",
       "      <th>ocean_proximity_INLAND</th>\n",
       "      <th>ocean_proximity_ISLAND</th>\n",
       "      <th>ocean_proximity_NEAR BAY</th>\n",
       "      <th>ocean_proximity_NEAR OCEAN</th>\n",
       "    </tr>\n",
       "  </thead>\n",
       "  <tbody>\n",
       "    <tr>\n",
       "      <th>0</th>\n",
       "      <td>0.760426</td>\n",
       "      <td>-0.766779</td>\n",
       "      <td>1.455277</td>\n",
       "      <td>-0.015030</td>\n",
       "      <td>0.120537</td>\n",
       "      <td>-0.137216</td>\n",
       "      <td>0.069540</td>\n",
       "      <td>-0.107653</td>\n",
       "      <td>-0.178659</td>\n",
       "      <td>-0.068300</td>\n",
       "      <td>0.145223</td>\n",
       "      <td>1.0</td>\n",
       "      <td>0.0</td>\n",
       "      <td>0.0</td>\n",
       "      <td>0.0</td>\n",
       "      <td>0.0</td>\n",
       "    </tr>\n",
       "    <tr>\n",
       "      <th>1</th>\n",
       "      <td>-1.315690</td>\n",
       "      <td>1.027810</td>\n",
       "      <td>0.660339</td>\n",
       "      <td>-0.761706</td>\n",
       "      <td>-0.982981</td>\n",
       "      <td>-1.050893</td>\n",
       "      <td>-0.976725</td>\n",
       "      <td>1.804227</td>\n",
       "      <td>0.605674</td>\n",
       "      <td>-0.079224</td>\n",
       "      <td>-1.013873</td>\n",
       "      <td>0.0</td>\n",
       "      <td>0.0</td>\n",
       "      <td>0.0</td>\n",
       "      <td>1.0</td>\n",
       "      <td>0.0</td>\n",
       "    </tr>\n",
       "    <tr>\n",
       "      <th>2</th>\n",
       "      <td>0.655622</td>\n",
       "      <td>-0.719923</td>\n",
       "      <td>1.852746</td>\n",
       "      <td>0.336212</td>\n",
       "      <td>0.695285</td>\n",
       "      <td>0.368454</td>\n",
       "      <td>0.613095</td>\n",
       "      <td>-0.369245</td>\n",
       "      <td>-0.320328</td>\n",
       "      <td>-0.061916</td>\n",
       "      <td>0.452432</td>\n",
       "      <td>1.0</td>\n",
       "      <td>0.0</td>\n",
       "      <td>0.0</td>\n",
       "      <td>0.0</td>\n",
       "      <td>0.0</td>\n",
       "    </tr>\n",
       "    <tr>\n",
       "      <th>3</th>\n",
       "      <td>0.785380</td>\n",
       "      <td>-0.902662</td>\n",
       "      <td>-0.293586</td>\n",
       "      <td>-0.309454</td>\n",
       "      <td>-0.477202</td>\n",
       "      <td>-0.353156</td>\n",
       "      <td>-0.370331</td>\n",
       "      <td>0.111902</td>\n",
       "      <td>0.014497</td>\n",
       "      <td>-0.021155</td>\n",
       "      <td>-0.560859</td>\n",
       "      <td>1.0</td>\n",
       "      <td>0.0</td>\n",
       "      <td>0.0</td>\n",
       "      <td>0.0</td>\n",
       "      <td>0.0</td>\n",
       "    </tr>\n",
       "    <tr>\n",
       "      <th>4</th>\n",
       "      <td>-0.656923</td>\n",
       "      <td>0.887241</td>\n",
       "      <td>-2.121942</td>\n",
       "      <td>-0.393247</td>\n",
       "      <td>-0.327768</td>\n",
       "      <td>-0.739461</td>\n",
       "      <td>-0.725370</td>\n",
       "      <td>-0.696080</td>\n",
       "      <td>0.732591</td>\n",
       "      <td>-0.035137</td>\n",
       "      <td>0.073273</td>\n",
       "      <td>0.0</td>\n",
       "      <td>1.0</td>\n",
       "      <td>0.0</td>\n",
       "      <td>0.0</td>\n",
       "      <td>0.0</td>\n",
       "    </tr>\n",
       "  </tbody>\n",
       "</table>\n",
       "</div>"
      ],
      "text/plain": [
       "   longitude  latitude  housing_median_age  total_rooms  total_bedrooms  \\\n",
       "0   0.760426 -0.766779            1.455277    -0.015030        0.120537   \n",
       "1  -1.315690  1.027810            0.660339    -0.761706       -0.982981   \n",
       "2   0.655622 -0.719923            1.852746     0.336212        0.695285   \n",
       "3   0.785380 -0.902662           -0.293586    -0.309454       -0.477202   \n",
       "4  -0.656923  0.887241           -2.121942    -0.393247       -0.327768   \n",
       "\n",
       "   population  households  median_income  rooms_per_household  \\\n",
       "0   -0.137216    0.069540      -0.107653            -0.178659   \n",
       "1   -1.050893   -0.976725       1.804227             0.605674   \n",
       "2    0.368454    0.613095      -0.369245            -0.320328   \n",
       "3   -0.353156   -0.370331       0.111902             0.014497   \n",
       "4   -0.739461   -0.725370      -0.696080             0.732591   \n",
       "\n",
       "   population_per_household  bedrooms_per_room  ocean_proximity_1H OCEAN  \\\n",
       "0                 -0.068300           0.145223                       1.0   \n",
       "1                 -0.079224          -1.013873                       0.0   \n",
       "2                 -0.061916           0.452432                       1.0   \n",
       "3                 -0.021155          -0.560859                       1.0   \n",
       "4                 -0.035137           0.073273                       0.0   \n",
       "\n",
       "   ocean_proximity_INLAND  ocean_proximity_ISLAND  ocean_proximity_NEAR BAY  \\\n",
       "0                     0.0                     0.0                       0.0   \n",
       "1                     0.0                     0.0                       1.0   \n",
       "2                     0.0                     0.0                       0.0   \n",
       "3                     0.0                     0.0                       0.0   \n",
       "4                     1.0                     0.0                       0.0   \n",
       "\n",
       "   ocean_proximity_NEAR OCEAN  \n",
       "0                         0.0  \n",
       "1                         0.0  \n",
       "2                         0.0  \n",
       "3                         0.0  \n",
       "4                         0.0  "
      ]
     },
     "execution_count": 312,
     "metadata": {},
     "output_type": "execute_result"
    }
   ],
   "source": [
    "# Get the column names from the numerical part\n",
    "num_columns = column_names\n",
    "\n",
    "# Get the column names from the categorical part\n",
    "cat_columns = features_transformer.named_transformers_['cat'].get_feature_names_out(cat_attribs)\n",
    "\n",
    "# Combine the column names\n",
    "all_columns = np.concatenate((num_columns, cat_columns))\n",
    "\n",
    "# Convert the transformed data back to a DataFrame\n",
    "housing_prepared_df = pd.DataFrame(housing_prepared, columns=all_columns)\n",
    "\n",
    "housing_prepared_df.head()"
   ]
  },
  {
   "cell_type": "code",
   "execution_count": 313,
   "metadata": {},
   "outputs": [
    {
     "data": {
      "text/plain": [
       "(16512, 16)"
      ]
     },
     "execution_count": 313,
     "metadata": {},
     "output_type": "execute_result"
    }
   ],
   "source": [
    "housing_prepared_df.shape"
   ]
  },
  {
   "cell_type": "markdown",
   "metadata": {},
   "source": [
    "**Dev notes(Encoding):**\n",
    "<details>\n",
    "\n",
    "    Some common practices followed in Categorical Feature Encoding are\n",
    "    * For categorical variables with too many levels, target encoding can be done.\n",
    "    * For fewer levels, one hot encoding can be done.\n",
    "    * If one very dominant level is observed, binary encoding can be used.\n",
    "    \n",
    "    \n",
    "</details>"
   ]
  },
  {
   "cell_type": "markdown",
   "metadata": {},
   "source": [
    "## 3.2 Feature analysis\n",
    "\n",
    "Using the pipeline above analyze the features and decide on additional features to add/remove from the pipeline. This section will not be part of the production code, unless input data drifts etc. are explicitly demanded in the project.\n",
    "\n",
    "Here we are primarily focused on feature selection/elimination based on business rules, prior knowledge, data analysis.\n",
    "\n",
    "**We are not building any models at this point.**\n"
   ]
  },
  {
   "cell_type": "markdown",
   "metadata": {},
   "source": [
    "- we create some sample data to analyze that we assume represent the population\n",
    "- train the features transformer and do the analysis as below"
   ]
  },
  {
   "cell_type": "markdown",
   "metadata": {},
   "source": [
    "Running the features transformer on the complete data"
   ]
  },
  {
   "cell_type": "code",
   "execution_count": 314,
   "metadata": {},
   "outputs": [
    {
     "data": {
      "text/html": [
       "<div>\n",
       "<style scoped>\n",
       "    .dataframe tbody tr th:only-of-type {\n",
       "        vertical-align: middle;\n",
       "    }\n",
       "\n",
       "    .dataframe tbody tr th {\n",
       "        vertical-align: top;\n",
       "    }\n",
       "\n",
       "    .dataframe thead th {\n",
       "        text-align: right;\n",
       "    }\n",
       "</style>\n",
       "<table border=\"1\" class=\"dataframe\">\n",
       "  <thead>\n",
       "    <tr style=\"text-align: right;\">\n",
       "      <th></th>\n",
       "      <th>longitude</th>\n",
       "      <th>latitude</th>\n",
       "      <th>housing_median_age</th>\n",
       "      <th>total_rooms</th>\n",
       "      <th>total_bedrooms</th>\n",
       "      <th>population</th>\n",
       "      <th>households</th>\n",
       "      <th>median_income</th>\n",
       "      <th>rooms_per_household</th>\n",
       "      <th>population_per_household</th>\n",
       "      <th>bedrooms_per_room</th>\n",
       "      <th>ocean_proximity_1H OCEAN</th>\n",
       "      <th>ocean_proximity_INLAND</th>\n",
       "      <th>ocean_proximity_ISLAND</th>\n",
       "      <th>ocean_proximity_NEAR BAY</th>\n",
       "      <th>ocean_proximity_NEAR OCEAN</th>\n",
       "    </tr>\n",
       "  </thead>\n",
       "  <tbody>\n",
       "    <tr>\n",
       "      <th>0</th>\n",
       "      <td>0.760426</td>\n",
       "      <td>-0.766779</td>\n",
       "      <td>1.455277</td>\n",
       "      <td>-0.015030</td>\n",
       "      <td>0.120537</td>\n",
       "      <td>-0.137216</td>\n",
       "      <td>0.069540</td>\n",
       "      <td>-0.107653</td>\n",
       "      <td>-0.178659</td>\n",
       "      <td>-0.068300</td>\n",
       "      <td>0.145223</td>\n",
       "      <td>1.0</td>\n",
       "      <td>0.0</td>\n",
       "      <td>0.0</td>\n",
       "      <td>0.0</td>\n",
       "      <td>0.0</td>\n",
       "    </tr>\n",
       "    <tr>\n",
       "      <th>1</th>\n",
       "      <td>-1.315690</td>\n",
       "      <td>1.027810</td>\n",
       "      <td>0.660339</td>\n",
       "      <td>-0.761706</td>\n",
       "      <td>-0.982981</td>\n",
       "      <td>-1.050893</td>\n",
       "      <td>-0.976725</td>\n",
       "      <td>1.804227</td>\n",
       "      <td>0.605674</td>\n",
       "      <td>-0.079224</td>\n",
       "      <td>-1.013873</td>\n",
       "      <td>0.0</td>\n",
       "      <td>0.0</td>\n",
       "      <td>0.0</td>\n",
       "      <td>1.0</td>\n",
       "      <td>0.0</td>\n",
       "    </tr>\n",
       "    <tr>\n",
       "      <th>2</th>\n",
       "      <td>0.655622</td>\n",
       "      <td>-0.719923</td>\n",
       "      <td>1.852746</td>\n",
       "      <td>0.336212</td>\n",
       "      <td>0.695285</td>\n",
       "      <td>0.368454</td>\n",
       "      <td>0.613095</td>\n",
       "      <td>-0.369245</td>\n",
       "      <td>-0.320328</td>\n",
       "      <td>-0.061916</td>\n",
       "      <td>0.452432</td>\n",
       "      <td>1.0</td>\n",
       "      <td>0.0</td>\n",
       "      <td>0.0</td>\n",
       "      <td>0.0</td>\n",
       "      <td>0.0</td>\n",
       "    </tr>\n",
       "    <tr>\n",
       "      <th>3</th>\n",
       "      <td>0.785380</td>\n",
       "      <td>-0.902662</td>\n",
       "      <td>-0.293586</td>\n",
       "      <td>-0.309454</td>\n",
       "      <td>-0.477202</td>\n",
       "      <td>-0.353156</td>\n",
       "      <td>-0.370331</td>\n",
       "      <td>0.111902</td>\n",
       "      <td>0.014497</td>\n",
       "      <td>-0.021155</td>\n",
       "      <td>-0.560859</td>\n",
       "      <td>1.0</td>\n",
       "      <td>0.0</td>\n",
       "      <td>0.0</td>\n",
       "      <td>0.0</td>\n",
       "      <td>0.0</td>\n",
       "    </tr>\n",
       "    <tr>\n",
       "      <th>4</th>\n",
       "      <td>-0.656923</td>\n",
       "      <td>0.887241</td>\n",
       "      <td>-2.121942</td>\n",
       "      <td>-0.393247</td>\n",
       "      <td>-0.327768</td>\n",
       "      <td>-0.739461</td>\n",
       "      <td>-0.725370</td>\n",
       "      <td>-0.696080</td>\n",
       "      <td>0.732591</td>\n",
       "      <td>-0.035137</td>\n",
       "      <td>0.073273</td>\n",
       "      <td>0.0</td>\n",
       "      <td>1.0</td>\n",
       "      <td>0.0</td>\n",
       "      <td>0.0</td>\n",
       "      <td>0.0</td>\n",
       "    </tr>\n",
       "  </tbody>\n",
       "</table>\n",
       "</div>"
      ],
      "text/plain": [
       "   longitude  latitude  housing_median_age  total_rooms  total_bedrooms  \\\n",
       "0   0.760426 -0.766779            1.455277    -0.015030        0.120537   \n",
       "1  -1.315690  1.027810            0.660339    -0.761706       -0.982981   \n",
       "2   0.655622 -0.719923            1.852746     0.336212        0.695285   \n",
       "3   0.785380 -0.902662           -0.293586    -0.309454       -0.477202   \n",
       "4  -0.656923  0.887241           -2.121942    -0.393247       -0.327768   \n",
       "\n",
       "   population  households  median_income  rooms_per_household  \\\n",
       "0   -0.137216    0.069540      -0.107653            -0.178659   \n",
       "1   -1.050893   -0.976725       1.804227             0.605674   \n",
       "2    0.368454    0.613095      -0.369245            -0.320328   \n",
       "3   -0.353156   -0.370331       0.111902             0.014497   \n",
       "4   -0.739461   -0.725370      -0.696080             0.732591   \n",
       "\n",
       "   population_per_household  bedrooms_per_room  ocean_proximity_1H OCEAN  \\\n",
       "0                 -0.068300           0.145223                       1.0   \n",
       "1                 -0.079224          -1.013873                       0.0   \n",
       "2                 -0.061916           0.452432                       1.0   \n",
       "3                 -0.021155          -0.560859                       1.0   \n",
       "4                 -0.035137           0.073273                       0.0   \n",
       "\n",
       "   ocean_proximity_INLAND  ocean_proximity_ISLAND  ocean_proximity_NEAR BAY  \\\n",
       "0                     0.0                     0.0                       0.0   \n",
       "1                     0.0                     0.0                       1.0   \n",
       "2                     0.0                     0.0                       0.0   \n",
       "3                     0.0                     0.0                       0.0   \n",
       "4                     1.0                     0.0                       0.0   \n",
       "\n",
       "   ocean_proximity_NEAR OCEAN  \n",
       "0                         0.0  \n",
       "1                         0.0  \n",
       "2                         0.0  \n",
       "3                         0.0  \n",
       "4                         0.0  "
      ]
     },
     "execution_count": 314,
     "metadata": {},
     "output_type": "execute_result"
    }
   ],
   "source": [
    "train_X = pd.DataFrame(\n",
    "    features_transformer.fit_transform(train_X), \n",
    "    columns=all_columns\n",
    ")\n",
    "\n",
    "train_X.head()"
   ]
  },
  {
   "cell_type": "markdown",
   "metadata": {},
   "source": [
    "### 3.2.1 Univariate\n",
    "\n",
    "\n",
    "- Look at each variable independently. This is useful if your models have assumptions on the distribution and/or bounds on the features/target"
   ]
  },
  {
   "cell_type": "code",
   "execution_count": 315,
   "metadata": {},
   "outputs": [
    {
     "data": {
      "text/html": [
       "<div>\n",
       "<style scoped>\n",
       "    .dataframe tbody tr th:only-of-type {\n",
       "        vertical-align: middle;\n",
       "    }\n",
       "\n",
       "    .dataframe tbody tr th {\n",
       "        vertical-align: top;\n",
       "    }\n",
       "\n",
       "    .dataframe thead th {\n",
       "        text-align: right;\n",
       "    }\n",
       "</style>\n",
       "<table border=\"1\" class=\"dataframe\">\n",
       "  <thead>\n",
       "    <tr style=\"text-align: right;\">\n",
       "      <th></th>\n",
       "      <th>longitude</th>\n",
       "      <th>latitude</th>\n",
       "      <th>housing_median_age</th>\n",
       "      <th>total_rooms</th>\n",
       "      <th>total_bedrooms</th>\n",
       "      <th>population</th>\n",
       "      <th>households</th>\n",
       "      <th>median_income</th>\n",
       "      <th>rooms_per_household</th>\n",
       "      <th>population_per_household</th>\n",
       "      <th>bedrooms_per_room</th>\n",
       "      <th>ocean_proximity_1H OCEAN</th>\n",
       "      <th>ocean_proximity_INLAND</th>\n",
       "      <th>ocean_proximity_ISLAND</th>\n",
       "      <th>ocean_proximity_NEAR BAY</th>\n",
       "      <th>ocean_proximity_NEAR OCEAN</th>\n",
       "    </tr>\n",
       "  </thead>\n",
       "  <tbody>\n",
       "    <tr>\n",
       "      <th>0</th>\n",
       "      <td>0.760426</td>\n",
       "      <td>-0.766779</td>\n",
       "      <td>1.455277</td>\n",
       "      <td>-0.015030</td>\n",
       "      <td>0.120537</td>\n",
       "      <td>-0.137216</td>\n",
       "      <td>0.069540</td>\n",
       "      <td>-0.107653</td>\n",
       "      <td>-0.178659</td>\n",
       "      <td>-0.068300</td>\n",
       "      <td>0.145223</td>\n",
       "      <td>1.0</td>\n",
       "      <td>0.0</td>\n",
       "      <td>0.0</td>\n",
       "      <td>0.0</td>\n",
       "      <td>0.0</td>\n",
       "    </tr>\n",
       "    <tr>\n",
       "      <th>1</th>\n",
       "      <td>-1.315690</td>\n",
       "      <td>1.027810</td>\n",
       "      <td>0.660339</td>\n",
       "      <td>-0.761706</td>\n",
       "      <td>-0.982981</td>\n",
       "      <td>-1.050893</td>\n",
       "      <td>-0.976725</td>\n",
       "      <td>1.804227</td>\n",
       "      <td>0.605674</td>\n",
       "      <td>-0.079224</td>\n",
       "      <td>-1.013873</td>\n",
       "      <td>0.0</td>\n",
       "      <td>0.0</td>\n",
       "      <td>0.0</td>\n",
       "      <td>1.0</td>\n",
       "      <td>0.0</td>\n",
       "    </tr>\n",
       "    <tr>\n",
       "      <th>2</th>\n",
       "      <td>0.655622</td>\n",
       "      <td>-0.719923</td>\n",
       "      <td>1.852746</td>\n",
       "      <td>0.336212</td>\n",
       "      <td>0.695285</td>\n",
       "      <td>0.368454</td>\n",
       "      <td>0.613095</td>\n",
       "      <td>-0.369245</td>\n",
       "      <td>-0.320328</td>\n",
       "      <td>-0.061916</td>\n",
       "      <td>0.452432</td>\n",
       "      <td>1.0</td>\n",
       "      <td>0.0</td>\n",
       "      <td>0.0</td>\n",
       "      <td>0.0</td>\n",
       "      <td>0.0</td>\n",
       "    </tr>\n",
       "    <tr>\n",
       "      <th>3</th>\n",
       "      <td>0.785380</td>\n",
       "      <td>-0.902662</td>\n",
       "      <td>-0.293586</td>\n",
       "      <td>-0.309454</td>\n",
       "      <td>-0.477202</td>\n",
       "      <td>-0.353156</td>\n",
       "      <td>-0.370331</td>\n",
       "      <td>0.111902</td>\n",
       "      <td>0.014497</td>\n",
       "      <td>-0.021155</td>\n",
       "      <td>-0.560859</td>\n",
       "      <td>1.0</td>\n",
       "      <td>0.0</td>\n",
       "      <td>0.0</td>\n",
       "      <td>0.0</td>\n",
       "      <td>0.0</td>\n",
       "    </tr>\n",
       "    <tr>\n",
       "      <th>4</th>\n",
       "      <td>-0.656923</td>\n",
       "      <td>0.887241</td>\n",
       "      <td>-2.121942</td>\n",
       "      <td>-0.393247</td>\n",
       "      <td>-0.327768</td>\n",
       "      <td>-0.739461</td>\n",
       "      <td>-0.725370</td>\n",
       "      <td>-0.696080</td>\n",
       "      <td>0.732591</td>\n",
       "      <td>-0.035137</td>\n",
       "      <td>0.073273</td>\n",
       "      <td>0.0</td>\n",
       "      <td>1.0</td>\n",
       "      <td>0.0</td>\n",
       "      <td>0.0</td>\n",
       "      <td>0.0</td>\n",
       "    </tr>\n",
       "  </tbody>\n",
       "</table>\n",
       "</div>"
      ],
      "text/plain": [
       "   longitude  latitude  housing_median_age  total_rooms  total_bedrooms  \\\n",
       "0   0.760426 -0.766779            1.455277    -0.015030        0.120537   \n",
       "1  -1.315690  1.027810            0.660339    -0.761706       -0.982981   \n",
       "2   0.655622 -0.719923            1.852746     0.336212        0.695285   \n",
       "3   0.785380 -0.902662           -0.293586    -0.309454       -0.477202   \n",
       "4  -0.656923  0.887241           -2.121942    -0.393247       -0.327768   \n",
       "\n",
       "   population  households  median_income  rooms_per_household  \\\n",
       "0   -0.137216    0.069540      -0.107653            -0.178659   \n",
       "1   -1.050893   -0.976725       1.804227             0.605674   \n",
       "2    0.368454    0.613095      -0.369245            -0.320328   \n",
       "3   -0.353156   -0.370331       0.111902             0.014497   \n",
       "4   -0.739461   -0.725370      -0.696080             0.732591   \n",
       "\n",
       "   population_per_household  bedrooms_per_room  ocean_proximity_1H OCEAN  \\\n",
       "0                 -0.068300           0.145223                       1.0   \n",
       "1                 -0.079224          -1.013873                       0.0   \n",
       "2                 -0.061916           0.452432                       1.0   \n",
       "3                 -0.021155          -0.560859                       1.0   \n",
       "4                 -0.035137           0.073273                       0.0   \n",
       "\n",
       "   ocean_proximity_INLAND  ocean_proximity_ISLAND  ocean_proximity_NEAR BAY  \\\n",
       "0                     0.0                     0.0                       0.0   \n",
       "1                     0.0                     0.0                       1.0   \n",
       "2                     0.0                     0.0                       0.0   \n",
       "3                     0.0                     0.0                       0.0   \n",
       "4                     1.0                     0.0                       0.0   \n",
       "\n",
       "   ocean_proximity_NEAR OCEAN  \n",
       "0                         0.0  \n",
       "1                         0.0  \n",
       "2                         0.0  \n",
       "3                         0.0  \n",
       "4                         0.0  "
      ]
     },
     "execution_count": 315,
     "metadata": {},
     "output_type": "execute_result"
    }
   ],
   "source": [
    "train_X.head()"
   ]
  },
  {
   "cell_type": "code",
   "execution_count": 316,
   "metadata": {},
   "outputs": [
    {
     "data": {},
     "metadata": {},
     "output_type": "display_data"
    },
    {
     "data": {
      "application/vnd.holoviews_exec.v0+json": "",
      "text/html": [
       "<div id='235639'>\n",
       "  <div class=\"bk-root\" id=\"4399f5d4-b583-4e13-9270-3446f89a3e3c\" data-root-id=\"235639\"></div>\n",
       "</div>\n",
       "<script type=\"application/javascript\">(function(root) {\n",
       "  function embed_document(root) {\n",
       "    var docs_json = {\"fc28ea66-8138-448d-8c12-a487bed57a43\":{\"defs\":[{\"extends\":null,\"module\":null,\"name\":\"ReactiveHTML1\",\"overrides\":[],\"properties\":[]},{\"extends\":null,\"module\":null,\"name\":\"FlexBox1\",\"overrides\":[],\"properties\":[{\"default\":\"flex-start\",\"kind\":null,\"name\":\"align_content\"},{\"default\":\"flex-start\",\"kind\":null,\"name\":\"align_items\"},{\"default\":\"row\",\"kind\":null,\"name\":\"flex_direction\"},{\"default\":\"wrap\",\"kind\":null,\"name\":\"flex_wrap\"},{\"default\":\"flex-start\",\"kind\":null,\"name\":\"justify_content\"}]},{\"extends\":null,\"module\":null,\"name\":\"GridStack1\",\"overrides\":[],\"properties\":[{\"default\":\"warn\",\"kind\":null,\"name\":\"mode\"},{\"default\":null,\"kind\":null,\"name\":\"ncols\"},{\"default\":null,\"kind\":null,\"name\":\"nrows\"},{\"default\":true,\"kind\":null,\"name\":\"allow_resize\"},{\"default\":true,\"kind\":null,\"name\":\"allow_drag\"},{\"default\":[],\"kind\":null,\"name\":\"state\"}]},{\"extends\":null,\"module\":null,\"name\":\"click1\",\"overrides\":[],\"properties\":[{\"default\":\"\",\"kind\":null,\"name\":\"terminal_output\"},{\"default\":\"\",\"kind\":null,\"name\":\"debug_name\"},{\"default\":0,\"kind\":null,\"name\":\"clears\"}]},{\"extends\":null,\"module\":null,\"name\":\"NotificationAreaBase1\",\"overrides\":[],\"properties\":[{\"default\":\"bottom-right\",\"kind\":null,\"name\":\"position\"},{\"default\":0,\"kind\":null,\"name\":\"_clear\"}]},{\"extends\":null,\"module\":null,\"name\":\"NotificationArea1\",\"overrides\":[],\"properties\":[{\"default\":[],\"kind\":null,\"name\":\"notifications\"},{\"default\":\"bottom-right\",\"kind\":null,\"name\":\"position\"},{\"default\":0,\"kind\":null,\"name\":\"_clear\"},{\"default\":[{\"background\":\"#ffc107\",\"icon\":{\"className\":\"fas fa-exclamation-triangle\",\"color\":\"white\",\"tagName\":\"i\"},\"type\":\"warning\"},{\"background\":\"#007bff\",\"icon\":{\"className\":\"fas fa-info-circle\",\"color\":\"white\",\"tagName\":\"i\"},\"type\":\"info\"}],\"kind\":null,\"name\":\"types\"}]},{\"extends\":null,\"module\":null,\"name\":\"Notification\",\"overrides\":[],\"properties\":[{\"default\":null,\"kind\":null,\"name\":\"background\"},{\"default\":3000,\"kind\":null,\"name\":\"duration\"},{\"default\":null,\"kind\":null,\"name\":\"icon\"},{\"default\":\"\",\"kind\":null,\"name\":\"message\"},{\"default\":null,\"kind\":null,\"name\":\"notification_type\"},{\"default\":false,\"kind\":null,\"name\":\"_destroyed\"}]},{\"extends\":null,\"module\":null,\"name\":\"TemplateActions1\",\"overrides\":[],\"properties\":[{\"default\":0,\"kind\":null,\"name\":\"open_modal\"},{\"default\":0,\"kind\":null,\"name\":\"close_modal\"}]},{\"extends\":null,\"module\":null,\"name\":\"MaterialTemplateActions1\",\"overrides\":[],\"properties\":[{\"default\":0,\"kind\":null,\"name\":\"open_modal\"},{\"default\":0,\"kind\":null,\"name\":\"close_modal\"}]}],\"roots\":{\"references\":[{\"attributes\":{\"bottom\":{\"value\":0},\"fill_alpha\":{\"value\":0.2},\"fill_color\":{\"value\":\"#00fff0\"},\"hatch_alpha\":{\"value\":0.2},\"hatch_color\":{\"value\":\"#00fff0\"},\"left\":{\"field\":\"left\"},\"line_alpha\":{\"value\":0.2},\"right\":{\"field\":\"right\"},\"top\":{\"field\":\"top\"}},\"id\":\"235688\",\"type\":\"Quad\"},{\"attributes\":{},\"id\":\"236013\",\"type\":\"NumberEditor\"},{\"attributes\":{\"columns\":[{\"id\":\"236004\"},{\"id\":\"236009\"},{\"id\":\"236014\"},{\"id\":\"236019\"},{\"id\":\"236024\"},{\"id\":\"236029\"},{\"id\":\"236034\"},{\"id\":\"236039\"}],\"height\":60,\"reorderable\":false,\"source\":{\"id\":\"235808\"},\"view\":{\"id\":\"235852\"}},\"id\":\"235850\",\"type\":\"DataTable\"},{\"attributes\":{\"data\":{\"x\":{\"__ndarray__\":\"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\",\"dtype\":\"float64\",\"order\":\"little\",\"shape\":[200]},\"y\":{\"__ndarray__\":\"AAAAAAAAAAAAAAAAAAAAAAAAAAAAAAAAAAAAAAAAAAAAAAAAAAAAAAAAAAAAAAAAAAAAAAAAAAAAAAAAAAAAAAAAAAAAAAAAAAAAAAAAAAAAAAAAAAAAAAAAAAAAAAAAAAAAAAAAAAAAAAAAAAAAAAAAAAAAAAAAAAAAAAAAAAAAAAAAAAAAAAAAAAAAAAAAAAAAAAAAAAAAAAAAAAAAAAAAAAAAAAAAAAAAAAAAAAAAAAAAAAAAAAAAAAAAAAAAAAAAAAAAAAAAAAAAAAAAAAAAAAAAAAAAAAAAAAAAAAAAAAAAAAAAAAAAAAAAAAAAAAAAAAAAAAAAAAAAAAAAAAAAAAAAAAAAAAAAAAAAAAAAAAAAAAAAAAAAAAAAAAAAAAAAAAAAAAAAAAAAAAAAAAAAAAAAAAAAAAAAAAAAAAAAAAAAAAAAAAAAAAAAAAAAAAAAAAAAAAAAAAAAAAAAAAAAAAAAAAAAAAAAAAAAAAAAAAAAAAAAAAAAAAAAAAAAAAAAAAAAAAAAAAAAAAAAAAAAAAAAAAAAAAAAAAAAAAAAAAAAAAAAAAAAAAAAAAAAAAAAAAAAAAAAAAAAAAAAAAAAAAAAAAAAAAAAAAAAAAAAAAAAAAAAAAAAAAAAAAAAAAAAAAAAAAAAAAAAAAAAAAAAAAAAAAAAAAAAAAAAAAAAAAAAAAAAAAAAAAAAAAAAAAAAAAAAAAAAAAAAAAAAAAAAAAAAAAAAAAAAAAAAAAAAAAAAAAAAAAAAAAAAAAAAAAAAAAAAAAAAAAAAAAAAAAAAAAAAAAAAAAAAAAAAAAAAAAAAAAAAAAAAAAAAAAAAAAAAAAAAAAAAAAAAAAAAAAAAAAAAAAAAAAAAAAAAAAAAAAAAAAAAAAAAAAAAAAAAAAAAAAAAAAAAAAAAAAAAAAAAAAAAAAAAAAAAAAAAAAAAAAAAAAAAAAAAAAAAAAAAAAAAAAAAAAAAAAAAAAAAAAAAAAAAAAAAAAAAAAAAAAAAAAAAAAAAAAAAAAAAAAAAAAAAAAAAAAAAAAAAAAAAAAAAAAAAAAAAAAAAAAAAAAC/3vVu5cZfP7R79xaBMHU/bdnfJTsWiT8e3OonXmCaP5SxE75IpKg/vMK1uzF5tD/sfVYFS0y+P2FgXZEdA8Q/pJkY+C+xxz/lXKn4Jk/JPzdraoP7r8g/H2Qy5Vpwxj8JsW1oN6DDPxusxnvLP8E/92n60h7Ivz/Nm4aouVG/P/sK/EbfWsA/ZNWSs1OrwT/y7miRiU/DP+alkYiXCcU/eXqygLSmxj/FrNUcv/7HP8kFdLGg+Mg/orcgg9uQyT/HPPvnqt3JP2f52feaDco/X9YTIlBgyj9kNUGMrBvLP8RzXHUtgMw/5w6MvoG9zj/sqK8a2vLQPy2JTEcC79I/mnPjiGYp1T9Yu25ZQV3XPxYZ6Qu5ONk/Ex/u3qR02j99QAv5hevaP/4kFHeTo9o/tE9lF1jH2T9LkTP28ZLYP4aM1rAQQdc/J2Hv7Jn/1T8Il1LS7ezUP6ZZ12k6GtQ/R92nARGP0z/31GMsHkzTP5PH6tb9S9M/tQGaeuGB0z+FArQCcdfTP9XM5shILdQ/k3dr0hZh1D80HNjihljUPz4DKI6sC9Q/kxK5N7eI0z/7VlJnqe7SP9p1fA5HYtI/QCVXkSgD0j9dusu0f+XRP4XdZAyDEdI/mmnFtj6G0j+lJ/beLzzTPwrjyQ/pJNQ/VD3T858n1T+FoMPbuB3WP5R4dNoq1NY/L4E6XhEV1z+qD9Mb17fWP6szZDPysNU/PIucdZcY1D9+c7XgLiTSP6lIv025FdA/1Ml4rUlSzD9UntZczA3JP3UwqsUhfsY/CD2QlYuYxD97J9Y5fjfDP4RpIc8CLsI/L9RPppVXwT8m3HkPzZ/AP0bvinmrAMA//x+DScHzvj/En/nA1gq+P9GJGFKYHr0/4TZ0qorruz/OdcEcXCi6P93x51uAp7c/bjQgoRBxtD+ZYd8qPcSwP7w8tOx0/6k/SkoOPd4Aoz9q++6TeiGaP6RbWc6615A/ZyO/uaNChD8csr61WZx2P9G473XgQ2c/rfwlwFvwVT//JpBEbNxCP7UwYFuXcC0/p2iJxQPKFD8EBCLVWID6Pg==\",\"dtype\":\"float64\",\"order\":\"little\",\"shape\":[200]}},\"selected\":{\"id\":\"235693\"},\"selection_policy\":{\"id\":\"235715\"}},\"id\":\"235692\",\"type\":\"ColumnDataSource\"},{\"attributes\":{\"bottom\":{\"value\":0},\"fill_color\":{\"value\":\"#00fff0\"},\"hatch_color\":{\"value\":\"#00fff0\"},\"left\":{\"field\":\"left\"},\"right\":{\"field\":\"right\"},\"top\":{\"field\":\"top\"}},\"id\":\"235686\",\"type\":\"Quad\"},{\"attributes\":{},\"id\":\"236028\",\"type\":\"NumberEditor\"},{\"attributes\":{\"editor\":{\"id\":\"236028\"},\"field\":\"A_50_percent\",\"formatter\":{\"id\":\"236027\"},\"title\":\"50%\"},\"id\":\"236029\",\"type\":\"TableColumn\"},{\"attributes\":{},\"id\":\"235715\",\"type\":\"UnionRenderers\"},{\"attributes\":{\"editor\":{\"id\":\"236018\"},\"field\":\"min\",\"formatter\":{\"id\":\"236017\"},\"title\":\"min\"},\"id\":\"236019\",\"type\":\"TableColumn\"},{\"attributes\":{\"axis\":{\"id\":\"235660\"},\"coordinates\":null,\"dimension\":1,\"grid_line_color\":null,\"group\":null,\"ticker\":null},\"id\":\"235663\",\"type\":\"Grid\"},{\"attributes\":{},\"id\":\"235682\",\"type\":\"AllLabels\"},{\"attributes\":{},\"id\":\"236008\",\"type\":\"NumberEditor\"},{\"attributes\":{\"fill_alpha\":0.5,\"fill_color\":\"#30a2da\",\"hatch_color\":\"#30a2da\",\"x\":{\"field\":\"x\"},\"y\":{\"field\":\"y\"}},\"id\":\"235700\",\"type\":\"Patch\"},{\"attributes\":{},\"id\":\"235681\",\"type\":\"BasicTickFormatter\"},{\"attributes\":{},\"id\":\"235668\",\"type\":\"ResetTool\"},{\"attributes\":{\"toolbars\":[{\"id\":\"235670\"}],\"tools\":[{\"id\":\"235646\"},{\"id\":\"235664\"},{\"id\":\"235665\"},{\"id\":\"235666\"},{\"id\":\"235667\"},{\"id\":\"235668\"}]},\"id\":\"235872\",\"type\":\"ProxyToolbar\"},{\"attributes\":{\"format\":\"0,0.0[00000]\"},\"id\":\"236017\",\"type\":\"NumberFormatter\"},{\"attributes\":{\"format\":\"0,0.0[00000]\"},\"id\":\"236027\",\"type\":\"NumberFormatter\"},{\"attributes\":{\"editor\":{\"id\":\"236023\"},\"field\":\"A_25_percent\",\"formatter\":{\"id\":\"236022\"},\"title\":\"25%\"},\"id\":\"236024\",\"type\":\"TableColumn\"},{\"attributes\":{\"children\":[{\"id\":\"235643\"},{\"id\":\"235876\"},{\"id\":\"236059\"}],\"margin\":[0,0,0,0],\"name\":\"Row562412\"},\"id\":\"235642\",\"type\":\"Row\"},{\"attributes\":{\"editor\":{\"id\":\"236013\"},\"field\":\"std\",\"formatter\":{\"id\":\"236012\"},\"title\":\"std\"},\"id\":\"236014\",\"type\":\"TableColumn\"},{\"attributes\":{\"format\":\"0,0.0[00000]\"},\"id\":\"236012\",\"type\":\"NumberFormatter\"},{\"attributes\":{},\"id\":\"236018\",\"type\":\"NumberEditor\"},{\"attributes\":{\"margin\":[5,5,5,5],\"name\":\"HSpacer562414\",\"sizing_mode\":\"stretch_width\"},\"id\":\"236065\",\"type\":\"Spacer\"},{\"attributes\":{\"fill_alpha\":0.2,\"fill_color\":\"#30a2da\",\"hatch_alpha\":0.2,\"hatch_color\":\"#30a2da\",\"line_alpha\":0.2,\"x\":{\"field\":\"x\"},\"y\":{\"field\":\"y\"}},\"id\":\"235697\",\"type\":\"Patch\"},{\"attributes\":{\"source\":{\"id\":\"235683\"}},\"id\":\"235690\",\"type\":\"CDSView\"},{\"attributes\":{\"editor\":{\"id\":\"236008\"},\"field\":\"mean\",\"formatter\":{\"id\":\"236007\"},\"title\":\"mean\"},\"id\":\"236009\",\"type\":\"TableColumn\"},{\"attributes\":{\"editor\":{\"id\":\"236038\"},\"field\":\"max\",\"formatter\":{\"id\":\"236037\"},\"title\":\"max\"},\"id\":\"236039\",\"type\":\"TableColumn\"},{\"attributes\":{\"data\":{\"A_25_percent\":{\"__ndarray__\":\"MzMzMzMz678=\",\"dtype\":\"float64\",\"order\":\"little\",\"shape\":[1]},\"A_50_percent\":{\"__ndarray__\":\"exSuR+F6lD8=\",\"dtype\":\"float64\",\"order\":\"little\",\"shape\":[1]},\"A_75_percent\":{\"__ndarray__\":\"H4XrUbge5T8=\",\"dtype\":\"float64\",\"order\":\"little\",\"shape\":[1]},\"count\":{\"__ndarray__\":\"AAAAAAAg0EA=\",\"dtype\":\"float64\",\"order\":\"little\",\"shape\":[1]},\"max\":{\"__ndarray__\":\"mpmZmZmZ/T8=\",\"dtype\":\"float64\",\"order\":\"little\",\"shape\":[1]},\"mean\":{\"__ndarray__\":\"AAAAAAAAAAA=\",\"dtype\":\"float64\",\"order\":\"little\",\"shape\":[1]},\"min\":{\"__ndarray__\":\"mpmZmZmZAcA=\",\"dtype\":\"float64\",\"order\":\"little\",\"shape\":[1]},\"std\":{\"__ndarray__\":\"AAAAAAAA8D8=\",\"dtype\":\"float64\",\"order\":\"little\",\"shape\":[1]}},\"selected\":{\"id\":\"235809\"},\"selection_policy\":{\"id\":\"235869\"}},\"id\":\"235808\",\"type\":\"ColumnDataSource\"},{\"attributes\":{\"bottom\":{\"value\":0},\"fill_alpha\":{\"value\":0.1},\"fill_color\":{\"value\":\"#00fff0\"},\"hatch_alpha\":{\"value\":0.1},\"hatch_color\":{\"value\":\"#00fff0\"},\"left\":{\"field\":\"left\"},\"line_alpha\":{\"value\":0.1},\"right\":{\"field\":\"right\"},\"top\":{\"field\":\"top\"}},\"id\":\"235687\",\"type\":\"Quad\"},{\"attributes\":{},\"id\":\"235693\",\"type\":\"Selection\"},{\"attributes\":{\"margin\":[5,5,5,5],\"name\":\"HSpacer562410\",\"sizing_mode\":\"stretch_width\"},\"id\":\"235643\",\"type\":\"Spacer\"},{\"attributes\":{\"fill_alpha\":0.5,\"fill_color\":\"#30a2da\",\"hatch_color\":\"#30a2da\",\"x\":{\"field\":\"x\"},\"y\":{\"field\":\"y\"}},\"id\":\"235695\",\"type\":\"Patch\"},{\"attributes\":{\"toolbar\":{\"id\":\"235872\"},\"toolbar_location\":\"above\"},\"id\":\"235873\",\"type\":\"ToolbarBox\"},{\"attributes\":{\"coordinates\":null,\"data_source\":{\"id\":\"235683\"},\"glyph\":{\"id\":\"235686\"},\"group\":null,\"hover_glyph\":null,\"muted_glyph\":{\"id\":\"235688\"},\"nonselection_glyph\":{\"id\":\"235687\"},\"selection_glyph\":{\"id\":\"235691\"},\"view\":{\"id\":\"235690\"}},\"id\":\"235689\",\"type\":\"GlyphRenderer\"},{\"attributes\":{},\"id\":\"235684\",\"type\":\"Selection\"},{\"attributes\":{\"format\":\"0,0.0[00000]\"},\"id\":\"236032\",\"type\":\"NumberFormatter\"},{\"attributes\":{\"format\":\"0,0.0[00000]\"},\"id\":\"236002\",\"type\":\"NumberFormatter\"},{\"attributes\":{\"data\":{\"left\":{\"__ndarray__\":\"JysgWIqcAcCSAavUyPr/v9asFfl8vPy/G1iAHTF++b9fA+tB5T/2v6OuVWaZAfO/0LOAFZuG779YClZeAwrpv+BgK6drjeK/0G4B4Kch2L/AN1jj8FDGvwBxk8pvC50/8BP91cyTzT/o3FPZFcPbP+yX1KMiXuQ/ZEH/Wrra6j9u9RQJqavwPypKquT06fM/5p4/wEAo9z+i89SbjGb6Pw==\",\"dtype\":\"float64\",\"order\":\"little\",\"shape\":[20]},\"right\":{\"__ndarray__\":\"kgGr1Mj6/7/WrBX5fLz8vxtYgB0xfvm/XwPrQeU/9r+jrlVmmQHzv9CzgBWbhu+/WApWXgMK6b/gYCuna43iv9BuAeCnIdi/wDdY4/BQxr8AcZPKbwudP/AT/dXMk80/6NxT2RXD2z/sl9SjIl7kP2RB/1q62uo/bvUUCamr8D8qSqrk9OnzP+aeP8BAKPc/ovPUm4xm+j9fSGp32KT9Pw==\",\"dtype\":\"float64\",\"order\":\"little\",\"shape\":[20]},\"top\":[103,474,308,557,421,1372,985,1139,674,1330,1140,756,1499,1356,1051,477,849,439,410,1172]},\"selected\":{\"id\":\"235684\"},\"selection_policy\":{\"id\":\"235713\"}},\"id\":\"235683\",\"type\":\"ColumnDataSource\"},{\"attributes\":{},\"id\":\"235666\",\"type\":\"WheelZoomTool\"},{\"attributes\":{},\"id\":\"235809\",\"type\":\"Selection\"},{\"attributes\":{\"end\":1513.99,\"reset_end\":1648.899997472634,\"reset_start\":0.0,\"tags\":[[[\"Frequency\",\"Frequency\",null]]]},\"id\":\"235645\",\"type\":\"Range1d\"},{\"attributes\":{\"tools\":[{\"id\":\"235646\"},{\"id\":\"235664\"},{\"id\":\"235665\"},{\"id\":\"235666\"},{\"id\":\"235667\"},{\"id\":\"235668\"}]},\"id\":\"235670\",\"type\":\"Toolbar\"},{\"attributes\":{\"axis_label\":\"Frequency\",\"coordinates\":null,\"formatter\":{\"id\":\"235681\"},\"group\":null,\"major_label_policy\":{\"id\":\"235682\"},\"ticker\":{\"id\":\"235661\"}},\"id\":\"235660\",\"type\":\"LinearAxis\"},{\"attributes\":{},\"id\":\"235657\",\"type\":\"BasicTicker\"},{\"attributes\":{\"bottom_units\":\"screen\",\"coordinates\":null,\"fill_alpha\":0.5,\"fill_color\":\"lightgrey\",\"group\":null,\"left_units\":\"screen\",\"level\":\"overlay\",\"line_alpha\":1.0,\"line_color\":\"black\",\"line_dash\":[4,4],\"line_width\":2,\"right_units\":\"screen\",\"syncable\":false,\"top_units\":\"screen\"},\"id\":\"235669\",\"type\":\"BoxAnnotation\"},{\"attributes\":{},\"id\":\"235708\",\"type\":\"BasicTickFormatter\"},{\"attributes\":{},\"id\":\"235869\",\"type\":\"UnionRenderers\"},{\"attributes\":{\"bottom\":{\"value\":0},\"fill_alpha\":{\"value\":1.0},\"fill_color\":{\"value\":\"#00fff0\"},\"hatch_alpha\":{\"value\":1.0},\"hatch_color\":{\"value\":\"#00fff0\"},\"hatch_scale\":{\"value\":12.0},\"hatch_weight\":{\"value\":1.0},\"left\":{\"field\":\"left\"},\"line_alpha\":{\"value\":1.0},\"line_cap\":{\"value\":\"butt\"},\"line_color\":{\"value\":\"black\"},\"line_dash\":{\"value\":[]},\"line_dash_offset\":{\"value\":0},\"line_join\":{\"value\":\"bevel\"},\"line_width\":{\"value\":1},\"right\":{\"field\":\"right\"},\"top\":{\"field\":\"top\"}},\"id\":\"235691\",\"type\":\"Quad\"},{\"attributes\":{\"overlay\":{\"id\":\"235669\"}},\"id\":\"235667\",\"type\":\"BoxZoomTool\"},{\"attributes\":{\"children\":[{\"id\":\"235640\"},{\"id\":\"235641\"},{\"id\":\"236065\"}],\"margin\":[0,0,0,0],\"name\":\"Row562400\"},\"id\":\"235639\",\"type\":\"Row\"},{\"attributes\":{},\"id\":\"235679\",\"type\":\"AllLabels\"},{\"attributes\":{\"format\":\"0,0.0[00000]\"},\"id\":\"236007\",\"type\":\"NumberFormatter\"},{\"attributes\":{},\"id\":\"235661\",\"type\":\"BasicTicker\"},{\"attributes\":{\"children\":[{\"id\":\"235875\"},{\"id\":\"235874\"}]},\"id\":\"235876\",\"type\":\"Column\"},{\"attributes\":{},\"id\":\"235664\",\"type\":\"SaveTool\"},{\"attributes\":{\"callback\":null,\"renderers\":[{\"id\":\"235698\"}],\"tags\":[\"hv_created\"],\"tooltips\":[[\"housing_median_age\",\"@{housing_median_age}\"],[\"Density\",\"@{housing_median_age_density}\"]]},\"id\":\"235646\",\"type\":\"HoverTool\"},{\"attributes\":{},\"id\":\"236003\",\"type\":\"NumberEditor\"},{\"attributes\":{\"end\":2.528570040157968,\"reset_end\":2.528570040157968,\"reset_start\":-2.8772602848481106,\"start\":-2.8772602848481106,\"tags\":[[[\"x\",\"x\",null]]]},\"id\":\"235644\",\"type\":\"Range1d\"},{\"attributes\":{\"source\":{\"id\":\"235692\"}},\"id\":\"235699\",\"type\":\"CDSView\"},{\"attributes\":{},\"id\":\"236023\",\"type\":\"NumberEditor\"},{\"attributes\":{\"end\":0.42483145536332606},\"id\":\"235701\",\"type\":\"Range1d\"},{\"attributes\":{\"coordinates\":null,\"group\":null,\"text\":\"Density Plot for housing_median_age\",\"text_color\":\"black\",\"text_font_size\":\"12pt\"},\"id\":\"235648\",\"type\":\"Title\"},{\"attributes\":{},\"id\":\"235665\",\"type\":\"PanTool\"},{\"attributes\":{\"fill_alpha\":0.5,\"fill_color\":\"#30a2da\",\"hatch_alpha\":0.1,\"hatch_color\":\"#30a2da\",\"line_alpha\":1,\"x\":{\"field\":\"x\"},\"y\":{\"field\":\"y\"}},\"id\":\"235696\",\"type\":\"Patch\"},{\"attributes\":{\"children\":[{\"id\":\"235642\"},{\"id\":\"236060\"}],\"margin\":[0,0,0,0],\"name\":\"Column562413\"},\"id\":\"235641\",\"type\":\"Column\"},{\"attributes\":{\"margin\":[5,5,5,5],\"name\":\"HSpacer562411\",\"sizing_mode\":\"stretch_width\"},\"id\":\"236059\",\"type\":\"Spacer\"},{\"attributes\":{\"below\":[{\"id\":\"235656\"}],\"center\":[{\"id\":\"235659\"},{\"id\":\"235663\"}],\"extra_y_ranges\":{\"twiny\":{\"id\":\"235701\"}},\"height\":300,\"left\":[{\"id\":\"235660\"}],\"margin\":null,\"min_border_bottom\":10,\"min_border_left\":10,\"min_border_right\":10,\"min_border_top\":10,\"renderers\":[{\"id\":\"235689\"},{\"id\":\"235698\"}],\"right\":[{\"id\":\"235702\"}],\"sizing_mode\":\"fixed\",\"title\":{\"id\":\"235648\"},\"toolbar\":{\"id\":\"235670\"},\"toolbar_location\":null,\"x_range\":{\"id\":\"235644\"},\"x_scale\":{\"id\":\"235652\"},\"y_range\":{\"id\":\"235645\"},\"y_scale\":{\"id\":\"235654\"}},\"id\":\"235647\",\"subtype\":\"Figure\",\"type\":\"Plot\"},{\"attributes\":{},\"id\":\"235678\",\"type\":\"BasicTickFormatter\"},{\"attributes\":{\"format\":\"0,0.0[00000]\"},\"id\":\"236022\",\"type\":\"NumberFormatter\"},{\"attributes\":{\"source\":{\"id\":\"235808\"}},\"id\":\"235852\",\"type\":\"CDSView\"},{\"attributes\":{\"coordinates\":null,\"data_source\":{\"id\":\"235692\"},\"glyph\":{\"id\":\"235695\"},\"group\":null,\"hover_glyph\":null,\"muted_glyph\":{\"id\":\"235697\"},\"nonselection_glyph\":{\"id\":\"235696\"},\"selection_glyph\":{\"id\":\"235700\"},\"view\":{\"id\":\"235699\"},\"y_range_name\":\"twiny\"},\"id\":\"235698\",\"type\":\"GlyphRenderer\"},{\"attributes\":{},\"id\":\"236038\",\"type\":\"NumberEditor\"},{\"attributes\":{\"axis_label\":\"y, housing_median_age_density\",\"coordinates\":null,\"formatter\":{\"id\":\"235708\"},\"group\":null,\"major_label_policy\":{\"id\":\"235709\"},\"ticker\":{\"id\":\"235707\"},\"y_range_name\":\"twiny\"},\"id\":\"235702\",\"type\":\"LinearAxis\"},{\"attributes\":{\"axis_label\":\"housing_median_age\",\"coordinates\":null,\"formatter\":{\"id\":\"235678\"},\"group\":null,\"major_label_policy\":{\"id\":\"235679\"},\"ticker\":{\"id\":\"235657\"}},\"id\":\"235656\",\"type\":\"LinearAxis\"},{\"attributes\":{\"children\":[{\"id\":\"235873\"},{\"id\":\"235871\"}]},\"id\":\"235874\",\"type\":\"Column\"},{\"attributes\":{},\"id\":\"235654\",\"type\":\"LinearScale\"},{\"attributes\":{\"margin\":[5,5,5,5],\"name\":\"HSpacer562409\",\"sizing_mode\":\"stretch_width\"},\"id\":\"235640\",\"type\":\"Spacer\"},{\"attributes\":{},\"id\":\"236033\",\"type\":\"NumberEditor\"},{\"attributes\":{\"style\":{\"white-space\":\"nowrap\"},\"text\":\"<span style=\\\"color:black;font-family:Arial;font-style:bold;font-weight:bold;font-size:12pt\\\">col: housing_median_age</span>\",\"width\":450},\"id\":\"235875\",\"type\":\"Div\"},{\"attributes\":{},\"id\":\"235713\",\"type\":\"UnionRenderers\"},{\"attributes\":{},\"id\":\"235707\",\"type\":\"BasicTicker\"},{\"attributes\":{\"margin\":[5,5,5,5],\"name\":\"HSpacer562407\",\"sizing_mode\":\"stretch_width\"},\"id\":\"236064\",\"type\":\"Spacer\"},{\"attributes\":{\"editor\":{\"id\":\"236033\"},\"field\":\"A_75_percent\",\"formatter\":{\"id\":\"236032\"},\"title\":\"75%\"},\"id\":\"236034\",\"type\":\"TableColumn\"},{\"attributes\":{\"children\":[[{\"id\":\"235647\"},0,0],[{\"id\":\"235850\"},1,0]]},\"id\":\"235871\",\"type\":\"GridBox\"},{\"attributes\":{\"axis\":{\"id\":\"235656\"},\"coordinates\":null,\"grid_line_color\":null,\"group\":null,\"ticker\":null},\"id\":\"235659\",\"type\":\"Grid\"},{\"attributes\":{\"children\":[{\"id\":\"236061\"},{\"id\":\"236062\"},{\"id\":\"236064\"}],\"margin\":[0,0,0,0],\"name\":\"Row562408\"},\"id\":\"236060\",\"type\":\"Row\"},{\"attributes\":{},\"id\":\"235709\",\"type\":\"AllLabels\"},{\"attributes\":{\"margin\":[5,5,5,5],\"name\":\"HSpacer562406\",\"sizing_mode\":\"stretch_width\"},\"id\":\"236061\",\"type\":\"Spacer\"},{\"attributes\":{\"editor\":{\"id\":\"236003\"},\"field\":\"count\",\"formatter\":{\"id\":\"236002\"},\"title\":\"count\"},\"id\":\"236004\",\"type\":\"TableColumn\"},{\"attributes\":{\"margin\":[20,20,20,20],\"min_width\":250,\"options\":[\"housing_median_age\",\"population\"],\"title\":\"col\",\"value\":\"housing_median_age\",\"width\":250},\"id\":\"236063\",\"type\":\"panel.models.widgets.CustomSelect\"},{\"attributes\":{\"client_comm_id\":\"78cb1fc4f650412fbae71c82171b6ffb\",\"comm_id\":\"8b7c915967064617a23083a75efb955d\",\"plot_id\":\"235639\"},\"id\":\"236117\",\"type\":\"panel.models.comm_manager.CommManager\"},{\"attributes\":{\"children\":[{\"id\":\"236063\"}],\"css_classes\":[\"panel-widget-box\"],\"margin\":[5,5,5,5],\"name\":\"WidgetBox562401\"},\"id\":\"236062\",\"type\":\"Column\"},{\"attributes\":{},\"id\":\"235652\",\"type\":\"LinearScale\"},{\"attributes\":{\"format\":\"0,0.0[00000]\"},\"id\":\"236037\",\"type\":\"NumberFormatter\"}],\"root_ids\":[\"235639\",\"236117\"]},\"title\":\"Bokeh Application\",\"version\":\"2.4.3\"}};\n",
       "    var render_items = [{\"docid\":\"fc28ea66-8138-448d-8c12-a487bed57a43\",\"root_ids\":[\"235639\"],\"roots\":{\"235639\":\"4399f5d4-b583-4e13-9270-3446f89a3e3c\"}}];\n",
       "    root.Bokeh.embed.embed_items_notebook(docs_json, render_items);\n",
       "  }\n",
       "  if (root.Bokeh !== undefined && root.Bokeh.Panel !== undefined) {\n",
       "    embed_document(root);\n",
       "  } else {\n",
       "    var attempts = 0;\n",
       "    var timer = setInterval(function(root) {\n",
       "      if (root.Bokeh !== undefined && root.Bokeh.Panel !== undefined) {\n",
       "        clearInterval(timer);\n",
       "        embed_document(root);\n",
       "      } else if (document.readyState == \"complete\") {\n",
       "        attempts++;\n",
       "        if (attempts > 200) {\n",
       "          clearInterval(timer);\n",
       "          console.log(\"Bokeh: ERROR: Unable to run BokehJS code because BokehJS library is missing\");\n",
       "        }\n",
       "      }\n",
       "    }, 25, root)\n",
       "  }\n",
       "})(window);</script>"
      ],
      "text/plain": [
       ":DynamicMap   [col]\n",
       "   :Layout\n",
       "      .Overlay.I :Overlay\n",
       "         .Histogram.I    :Histogram   [x]   (Frequency)\n",
       "         .Distribution.I :Distribution   [housing_median_age]   (Density)\n",
       "      .Table.I   :Table   [count,mean,std,min,25%,50%,75%,max]"
      ]
     },
     "execution_count": 316,
     "metadata": {
      "application/vnd.holoviews_exec.v0+json": {
       "id": "235639"
      }
     },
     "output_type": "execute_result"
    }
   ],
   "source": [
    "out = eda.get_density_plots(train_X, cols=['housing_median_age', 'population'])\n",
    "out"
   ]
  },
  {
   "cell_type": "code",
   "execution_count": 317,
   "metadata": {},
   "outputs": [],
   "source": [
    "# save the plots are html\n",
    "reports.create_report({'univariate': out}, name='feature_analysis_univariate')"
   ]
  },
  {
   "cell_type": "code",
   "execution_count": 318,
   "metadata": {},
   "outputs": [
    {
     "name": "stderr",
     "output_type": "stream",
     "text": [
      "p-value may not be accurate for N > 5000.\n"
     ]
    }
   ],
   "source": [
    "reports.feature_analysis(train_X,'./feature_analysis_report.html')"
   ]
  },
  {
   "cell_type": "markdown",
   "metadata": {},
   "source": [
    "### 3.2.2 Bivariate - mutual interactions"
   ]
  },
  {
   "cell_type": "markdown",
   "metadata": {},
   "source": [
    "- Find columns with high correlations and drop them"
   ]
  },
  {
   "cell_type": "code",
   "execution_count": 319,
   "metadata": {},
   "outputs": [
    {
     "data": {
      "text/html": [
       "<div>\n",
       "<style scoped>\n",
       "    .dataframe tbody tr th:only-of-type {\n",
       "        vertical-align: middle;\n",
       "    }\n",
       "\n",
       "    .dataframe tbody tr th {\n",
       "        vertical-align: top;\n",
       "    }\n",
       "\n",
       "    .dataframe thead th {\n",
       "        text-align: right;\n",
       "    }\n",
       "</style>\n",
       "<table border=\"1\" class=\"dataframe\">\n",
       "  <thead>\n",
       "    <tr style=\"text-align: right;\">\n",
       "      <th></th>\n",
       "      <th>Variable 1</th>\n",
       "      <th>Variable 2</th>\n",
       "      <th>Corr Coef</th>\n",
       "      <th>Abs Corr Coef</th>\n",
       "    </tr>\n",
       "  </thead>\n",
       "  <tbody>\n",
       "    <tr>\n",
       "      <th>0</th>\n",
       "      <td>households</td>\n",
       "      <td>total_bedrooms</td>\n",
       "      <td>0.972044</td>\n",
       "      <td>0.972044</td>\n",
       "    </tr>\n",
       "    <tr>\n",
       "      <th>1</th>\n",
       "      <td>latitude</td>\n",
       "      <td>longitude</td>\n",
       "      <td>-0.925628</td>\n",
       "      <td>0.925628</td>\n",
       "    </tr>\n",
       "    <tr>\n",
       "      <th>2</th>\n",
       "      <td>total_bedrooms</td>\n",
       "      <td>total_rooms</td>\n",
       "      <td>0.920203</td>\n",
       "      <td>0.920203</td>\n",
       "    </tr>\n",
       "    <tr>\n",
       "      <th>3</th>\n",
       "      <td>households</td>\n",
       "      <td>total_rooms</td>\n",
       "      <td>0.912943</td>\n",
       "      <td>0.912943</td>\n",
       "    </tr>\n",
       "    <tr>\n",
       "      <th>4</th>\n",
       "      <td>households</td>\n",
       "      <td>population</td>\n",
       "      <td>0.908202</td>\n",
       "      <td>0.908202</td>\n",
       "    </tr>\n",
       "    <tr>\n",
       "      <th>5</th>\n",
       "      <td>population</td>\n",
       "      <td>total_bedrooms</td>\n",
       "      <td>0.872036</td>\n",
       "      <td>0.872036</td>\n",
       "    </tr>\n",
       "    <tr>\n",
       "      <th>6</th>\n",
       "      <td>population</td>\n",
       "      <td>total_rooms</td>\n",
       "      <td>0.841843</td>\n",
       "      <td>0.841843</td>\n",
       "    </tr>\n",
       "    <tr>\n",
       "      <th>7</th>\n",
       "      <td>ocean_proximity_1H OCEAN</td>\n",
       "      <td>ocean_proximity_INLAND</td>\n",
       "      <td>-0.608116</td>\n",
       "      <td>0.608116</td>\n",
       "    </tr>\n",
       "  </tbody>\n",
       "</table>\n",
       "</div>"
      ],
      "text/plain": [
       "                 Variable 1              Variable 2  Corr Coef  Abs Corr Coef\n",
       "0                households          total_bedrooms   0.972044       0.972044\n",
       "1                  latitude               longitude  -0.925628       0.925628\n",
       "2            total_bedrooms             total_rooms   0.920203       0.920203\n",
       "3                households             total_rooms   0.912943       0.912943\n",
       "4                households              population   0.908202       0.908202\n",
       "5                population          total_bedrooms   0.872036       0.872036\n",
       "6                population             total_rooms   0.841843       0.841843\n",
       "7  ocean_proximity_1H OCEAN  ocean_proximity_INLAND  -0.608116       0.608116"
      ]
     },
     "execution_count": 319,
     "metadata": {},
     "output_type": "execute_result"
    }
   ],
   "source": [
    "out = eda.get_correlation_table(train_X)\n",
    "out[out[\"Abs Corr Coef\"] > 0.6]"
   ]
  },
  {
   "cell_type": "code",
   "execution_count": 320,
   "metadata": {},
   "outputs": [
    {
     "data": {
      "text/html": [
       "<div>\n",
       "<style scoped>\n",
       "    .dataframe tbody tr th:only-of-type {\n",
       "        vertical-align: middle;\n",
       "    }\n",
       "\n",
       "    .dataframe tbody tr th {\n",
       "        vertical-align: top;\n",
       "    }\n",
       "\n",
       "    .dataframe thead th {\n",
       "        text-align: right;\n",
       "    }\n",
       "</style>\n",
       "<table border=\"1\" class=\"dataframe\">\n",
       "  <thead>\n",
       "    <tr style=\"text-align: right;\">\n",
       "      <th></th>\n",
       "      <th>Variable 1</th>\n",
       "      <th>Variable 2</th>\n",
       "      <th>Corr Coef</th>\n",
       "      <th>Abs Corr Coef</th>\n",
       "    </tr>\n",
       "  </thead>\n",
       "  <tbody>\n",
       "    <tr>\n",
       "      <th>0</th>\n",
       "      <td>households</td>\n",
       "      <td>total_bedrooms</td>\n",
       "      <td>0.972044</td>\n",
       "      <td>0.972044</td>\n",
       "    </tr>\n",
       "    <tr>\n",
       "      <th>1</th>\n",
       "      <td>latitude</td>\n",
       "      <td>longitude</td>\n",
       "      <td>-0.925628</td>\n",
       "      <td>0.925628</td>\n",
       "    </tr>\n",
       "    <tr>\n",
       "      <th>2</th>\n",
       "      <td>total_bedrooms</td>\n",
       "      <td>total_rooms</td>\n",
       "      <td>0.920203</td>\n",
       "      <td>0.920203</td>\n",
       "    </tr>\n",
       "    <tr>\n",
       "      <th>3</th>\n",
       "      <td>households</td>\n",
       "      <td>total_rooms</td>\n",
       "      <td>0.912943</td>\n",
       "      <td>0.912943</td>\n",
       "    </tr>\n",
       "    <tr>\n",
       "      <th>4</th>\n",
       "      <td>households</td>\n",
       "      <td>population</td>\n",
       "      <td>0.908202</td>\n",
       "      <td>0.908202</td>\n",
       "    </tr>\n",
       "    <tr>\n",
       "      <th>5</th>\n",
       "      <td>population</td>\n",
       "      <td>total_bedrooms</td>\n",
       "      <td>0.872036</td>\n",
       "      <td>0.872036</td>\n",
       "    </tr>\n",
       "    <tr>\n",
       "      <th>6</th>\n",
       "      <td>population</td>\n",
       "      <td>total_rooms</td>\n",
       "      <td>0.841843</td>\n",
       "      <td>0.841843</td>\n",
       "    </tr>\n",
       "    <tr>\n",
       "      <th>7</th>\n",
       "      <td>ocean_proximity_1H OCEAN</td>\n",
       "      <td>ocean_proximity_INLAND</td>\n",
       "      <td>-0.608116</td>\n",
       "      <td>0.608116</td>\n",
       "    </tr>\n",
       "  </tbody>\n",
       "</table>\n",
       "</div>"
      ],
      "text/plain": [
       "                 Variable 1              Variable 2  Corr Coef  Abs Corr Coef\n",
       "0                households          total_bedrooms   0.972044       0.972044\n",
       "1                  latitude               longitude  -0.925628       0.925628\n",
       "2            total_bedrooms             total_rooms   0.920203       0.920203\n",
       "3                households             total_rooms   0.912943       0.912943\n",
       "4                households              population   0.908202       0.908202\n",
       "5                population          total_bedrooms   0.872036       0.872036\n",
       "6                population             total_rooms   0.841843       0.841843\n",
       "7  ocean_proximity_1H OCEAN  ocean_proximity_INLAND  -0.608116       0.608116"
      ]
     },
     "execution_count": 320,
     "metadata": {},
     "output_type": "execute_result"
    }
   ],
   "source": [
    "# have hight correlation , but it is not causation\n",
    "curated_columns = list(\n",
    "    set(train_X.columns.to_list()) \n",
    "    - set([])\n",
    ")\n",
    "\n",
    "train_X = train_X[curated_columns]\n",
    "\n",
    "out = eda.get_correlation_table(train_X)\n",
    "out[out[\"Abs Corr Coef\"] > 0.6]"
   ]
  },
  {
   "cell_type": "code",
   "execution_count": 321,
   "metadata": {},
   "outputs": [
    {
     "data": {},
     "metadata": {},
     "output_type": "display_data"
    },
    {
     "data": {
      "application/vnd.holoviews_exec.v0+json": "",
      "text/html": [
       "<div id='248450'>\n",
       "  <div class=\"bk-root\" id=\"3d468d33-da7d-4f0f-95f8-908cdf029b2f\" data-root-id=\"248450\"></div>\n",
       "</div>\n",
       "<script type=\"application/javascript\">(function(root) {\n",
       "  function embed_document(root) {\n",
       "    var docs_json = {\"88459c32-1398-494f-94c8-9692247c4ae1\":{\"defs\":[{\"extends\":null,\"module\":null,\"name\":\"ReactiveHTML1\",\"overrides\":[],\"properties\":[]},{\"extends\":null,\"module\":null,\"name\":\"FlexBox1\",\"overrides\":[],\"properties\":[{\"default\":\"flex-start\",\"kind\":null,\"name\":\"align_content\"},{\"default\":\"flex-start\",\"kind\":null,\"name\":\"align_items\"},{\"default\":\"row\",\"kind\":null,\"name\":\"flex_direction\"},{\"default\":\"wrap\",\"kind\":null,\"name\":\"flex_wrap\"},{\"default\":\"flex-start\",\"kind\":null,\"name\":\"justify_content\"}]},{\"extends\":null,\"module\":null,\"name\":\"GridStack1\",\"overrides\":[],\"properties\":[{\"default\":\"warn\",\"kind\":null,\"name\":\"mode\"},{\"default\":null,\"kind\":null,\"name\":\"ncols\"},{\"default\":null,\"kind\":null,\"name\":\"nrows\"},{\"default\":true,\"kind\":null,\"name\":\"allow_resize\"},{\"default\":true,\"kind\":null,\"name\":\"allow_drag\"},{\"default\":[],\"kind\":null,\"name\":\"state\"}]},{\"extends\":null,\"module\":null,\"name\":\"click1\",\"overrides\":[],\"properties\":[{\"default\":\"\",\"kind\":null,\"name\":\"terminal_output\"},{\"default\":\"\",\"kind\":null,\"name\":\"debug_name\"},{\"default\":0,\"kind\":null,\"name\":\"clears\"}]},{\"extends\":null,\"module\":null,\"name\":\"NotificationAreaBase1\",\"overrides\":[],\"properties\":[{\"default\":\"bottom-right\",\"kind\":null,\"name\":\"position\"},{\"default\":0,\"kind\":null,\"name\":\"_clear\"}]},{\"extends\":null,\"module\":null,\"name\":\"NotificationArea1\",\"overrides\":[],\"properties\":[{\"default\":[],\"kind\":null,\"name\":\"notifications\"},{\"default\":\"bottom-right\",\"kind\":null,\"name\":\"position\"},{\"default\":0,\"kind\":null,\"name\":\"_clear\"},{\"default\":[{\"background\":\"#ffc107\",\"icon\":{\"className\":\"fas fa-exclamation-triangle\",\"color\":\"white\",\"tagName\":\"i\"},\"type\":\"warning\"},{\"background\":\"#007bff\",\"icon\":{\"className\":\"fas fa-info-circle\",\"color\":\"white\",\"tagName\":\"i\"},\"type\":\"info\"}],\"kind\":null,\"name\":\"types\"}]},{\"extends\":null,\"module\":null,\"name\":\"Notification\",\"overrides\":[],\"properties\":[{\"default\":null,\"kind\":null,\"name\":\"background\"},{\"default\":3000,\"kind\":null,\"name\":\"duration\"},{\"default\":null,\"kind\":null,\"name\":\"icon\"},{\"default\":\"\",\"kind\":null,\"name\":\"message\"},{\"default\":null,\"kind\":null,\"name\":\"notification_type\"},{\"default\":false,\"kind\":null,\"name\":\"_destroyed\"}]},{\"extends\":null,\"module\":null,\"name\":\"TemplateActions1\",\"overrides\":[],\"properties\":[{\"default\":0,\"kind\":null,\"name\":\"open_modal\"},{\"default\":0,\"kind\":null,\"name\":\"close_modal\"}]},{\"extends\":null,\"module\":null,\"name\":\"MaterialTemplateActions1\",\"overrides\":[],\"properties\":[{\"default\":0,\"kind\":null,\"name\":\"open_modal\"},{\"default\":0,\"kind\":null,\"name\":\"close_modal\"}]}],\"roots\":{\"references\":[{\"attributes\":{\"data\":{\"Count\":[125,80,31,127,151,76,109,7,146,250,231,43,48,134,162,109,61,34,88,53,194,158,29,188,52,209,7,34,90,129,3,117,36,97,49,50,35,179,101,31,82,3,6,1,176,2,96,196,12,83,10,36,29,40,13,67,169,60,70,216,5,2,193,11,2,7,68,7,169,27,7,19,29,120,93,2,39,172,52,11,29,13,47,95,58,1,147,3,26,63,23,1,32,52,7,17,51,65,61,31,2,4,1,15,13,57,76,12,25,18,22,130,36,2,1,44,76,38,123,8,3,3,18,91,1,93,2,27,90,62,20,74,109,18,58,78,12,50,91,41,36,18,5,70,2,9,17,4,30,9,36,46,13,25,6,30,36,54,6,43,5,22,58,115,124,7,61,3,21,21,66,17,3,28,29,35,21,63,14,30,211,47,9,88,1,76,52,3,24,36,51,5,15,5,31,45,66,161,159,132,1,20,114,1,19,5,25,60,35,66,4,10,3,69,66,3,45,24,3,26,3,19,1,56,56,15,5,19,6,4,2,1,112,1,5,6,33,8,32,25,87,25,18,2,5,3,1,6,15,7,3,4,5,76,4,5,15,11,31,45,19,28,14,2,9,9,3,34,20,39,20,18,5,55,20,4,67,2,3,13,12,2,9,6,36,5,7,21,1,13,18,6,2,6,11,16,5,8,3,1,15,17,7,4,15,3,20,6,4,1,12,3,4,16,1,3,15,19,25,11,14,39,12,5,5,11,7,6,1,5,12,35,23,6,15,6,10,8,6,1,26,17,10,7,1,2,6,2,4,3,8,2,14,21,5,14,1,6,20,5,3,8,7,2,8,28,17,5,6,1,18,24,4,2,13,42,2,5,1,50,8,19,2,15,8,28,5,17,53,17,4,5,6,3,4,1,1,14,6,10,6,4,9,1,11,24,2,2,6,6,2,2,1,1,3,4,14,1,12,27,1,4,9,1,1,12,5,12,8,8,3,3,1,3,1,2,19,4,9,30,2,1,2,3,2,2,2,6,1,3,3,8,3,5,3,5,2,3,1,35,17,6,8,7,9,6,1,1,1,3,2,4,3,2,1,1,8,5,4,1,4,7,12,8,8,9,4,1,2,1,3,2,1,3,12,5,5,6,24,1,3,4,1,9,9,7,8,8,14,2,1,2,7,4,4,2,3,1,9,1,3,1,2,4,1,7,3,2,15,11,6,9,1,3,2,11,5,2,2,1,1,2,2,9,7,7,2,4,3,9,1,3,2,5,10,1,7,3,4,7,4,7,2,4,2,9,5,2,2,8,2,11,1,2,1,3,1,4,5,2,1,1,4,4,3,31,12,3,1,1,10,3,6,10,11,11,2,4,6,1,1,7,4,3,1,9,21,3,2,6,1,7,1,5,5,3,6,3,1,3,2,1,1,2,2,1,2,3,4,3,1,2,5,1,16,3,6,9,1,2,1,2,11,1,9,4,8,1,1,5,3,5,8,2,4,2,9,5,1,1,3,28,1,9,1,3,1,1,1,3,2,2,1,1,5,9,4,8,3,3,1,2,3,2,1,2,1,2,1,2,12,4,1,7,6,3,4,8,1,4,2,12,9,1,1,7,5,6,1,1,3,2,4,4,1,2,5,2,8,1,2,4,1,7,1,3,2,2,1,5,1,2,2,1,2,5,1,1,7,2,2,2,1,2,2,2,2,2,7,1,1,14,2,1,5,3,4,1,8,2,4,2,3,1,2,3,1,2,2,2,1,3,4,5,2,1,3,1,5,2,1,8,1,5,1,7,9,1,1,1,1,3,1,1,2,4,1,2,3,1,1,1,5,3,3,1,1,1,2,1,4,3,1,1,2,2,1,2,2,2,4,3,1,5,1,1,4,3,3,14,1,1,1,2,4,3,1,1,2,1,2,1,2,7,1,2,1,1,3,1,1,1,2,1,6,2,1,1,3,1,2,1,1,3,2,1,1,1,1,2,1,2,2,2,5,1,1,1,1,1,3,1,1,3,2,2,1,1,1,1,3,4,2,1,4,2,5,2,1,1,1,1,1,1,5,2,4,2,3,2,1,2,2,3,1,2,1,3,1,3,2,1,1,1,1,3,2,2,1,1,4,1,1,2,1,1,1,1,2,3,1,1,1,1,1,1,6,2,2,2,1,3,3,1,2,1,1,1,3,1,1,1,2,1,2,1,3,1,2,5,1,1,2,1,1,1,1,3,2,1,4,1,1,1,1,2,2,2,1,1,1,2,2,1,3,1,1,2,4,1,1,1,3,1,2,1,2,1,2,2,1,1,1,1,1,2,1,1,1,2,1,1,1,1,4,2,1,1,1,1,1,1,2,1,1,1,1,1,1,1,1,1,1,1,2,1,1,1,1,1,1,1,1,1,1,1,1,1,1,1,1,1,1,2,1,1,1,1,1,1,2,2,1,1,1,2,1,1,1,1,1,1,1,1,1,2,1,1,1,1,1,1,1,1,1,1,1,1,1,1,1,1,1,1,1,1,1,1,1,1,1,1,1,1,1,1,1,1,2,1,1,1,1,1,1,1,1,1,1,1,1,1,1,1,1,1,1,1,1,1,1,1,1,1,1,2,1,1,1,1,1,2,1,1,1,1,1,1,1,1],\"q\":[-1,-12,5,-4,-8,-14,-3,16,-13,-9,-7,-2,4,-3,-9,-12,1,-7,-4,-2,-6,-11,11,-5,6,-10,13,-9,-5,-2,44,-14,0,-1,-7,-14,-2,-6,0,8,-2,12,38,28,-11,29,-8,-12,45,1,10,6,-3,4,17,-5,-9,3,-11,-7,8,29,49,21,42,15,-1,19,-5,-13,-7,10,4,-7,-16,15,-11,-8,-1,11,5,14,5,-6,-19,-15,-3,-14,3,-10,8,25,7,2,14,12,0,2,-13,-8,17,23,9,8,16,-13,-5,14,10,2,4,-6,7,-5,21,-3,0,5,-5,5,17,2,13,-6,15,-2,35,0,-3,-4,0,-15,-7,-7,2,-15,5,-8,-2,-1,8,4,45,0,29,15,-14,5,3,9,-2,4,6,9,16,1,2,-6,32,-5,15,11,-3,-10,-2,22,-1,10,3,10,-11,13,-6,-15,6,2,11,-4,11,9,-8,1,-17,1,16,-4,1,7,-4,6,0,-12,11,-16,-5,1,-7,-10,-4,-4,39,-2,-17,27,2,12,8,-3,7,-16,27,4,11,2,-9,32,-9,-3,16,-17,26,1,-1,-10,4,1,47,-12,17,27,35,0,-18,18,26,16,7,18,-10,7,-1,2,-4,47,8,33,8,22,12,41,31,17,-12,3,21,9,2,7,1,3,1,-1,9,26,13,17,31,-1,5,-12,6,8,22,5,11,20,3,5,20,-1,8,1,12,-8,4,1,19,0,32,7,12,5,28,15,12,10,22,7,24,-7,15,-9,-8,17,-3,27,2,7,12,26,3,-12,8,11,36,28,0,10,-4,11,6,3,21,-4,31,16,27,18,40,11,-13,8,9,12,7,9,14,-1,14,27,3,1,7,9,25,-11,15,35,26,25,9,24,6,4,-10,2,13,19,5,21,17,47,-4,18,15,6,5,39,3,-3,4,10,28,39,11,6,-8,9,14,-8,24,-19,28,3,18,-6,26,9,0,10,25,28,14,-14,23,4,6,5,15,48,22,-6,-3,-14,13,9,17,36,-11,23,34,38,-3,21,21,12,13,-13,20,6,26,14,12,6,38,19,21,4,7,44,21,31,33,26,30,5,5,28,16,5,33,0,19,45,28,32,-13,21,-9,28,25,14,17,15,34,-4,19,29,44,4,7,-2,15,11,46,9,32,24,27,2,34,11,3,44,11,16,14,17,23,29,14,13,-6,18,24,1,11,-10,17,11,19,26,35,29,-18,14,-11,13,-5,-8,-4,17,40,-13,18,2,14,-6,6,-12,33,27,13,22,21,41,-7,-6,15,17,-9,17,37,10,38,13,18,10,8,8,25,14,-4,18,23,5,6,25,13,-6,12,24,34,-5,10,12,32,20,24,-2,33,-13,32,30,8,40,12,26,21,25,11,20,36,19,14,9,16,33,18,15,34,3,8,31,34,22,43,4,31,13,-14,11,23,15,0,0,3,20,-9,19,16,14,-16,9,8,10,33,9,0,-7,1,4,14,16,1,-11,-2,19,22,12,20,10,26,26,14,18,37,32,34,10,27,39,32,21,13,4,3,8,22,26,34,-8,13,40,7,40,19,12,30,-14,32,13,43,2,24,29,40,38,27,39,26,16,42,17,10,-6,-1,13,30,35,-9,-6,25,-14,37,17,33,18,24,22,29,-9,1,23,23,16,15,20,33,20,14,23,27,27,22,21,18,22,36,-13,6,-7,32,10,17,20,18,17,0,-12,13,13,-15,27,22,-3,17,16,37,41,22,22,-7,24,37,19,11,15,8,36,18,21,45,13,27,13,28,36,19,19,38,37,40,40,-10,24,34,-5,3,27,25,30,21,19,35,24,18,29,12,-8,4,12,18,2,14,-1,17,18,16,43,24,35,-15,24,13,25,12,31,-1,21,8,-1,19,-11,-10,5,30,32,30,39,45,12,10,15,32,20,-16,19,18,16,13,23,22,34,28,16,37,28,20,39,24,34,48,-10,-1,39,13,37,25,-9,26,-9,8,43,10,7,29,21,-5,46,17,2,-8,17,38,24,25,9,25,11,41,23,28,31,18,33,14,16,7,28,-4,43,36,6,17,39,23,20,22,30,23,-9,7,18,41,24,17,1,42,32,18,10,25,9,15,36,30,39,37,22,26,23,6,29,24,2,33,14,32,35,38,11,36,22,34,27,6,18,18,21,27,14,21,33,20,15,-5,28,24,-2,0,25,24,-2,46,18,48,16,20,26,25,31,31,36,6,-8,-11,16,6,12,43,32,12,24,33,22,27,24,27,12,23,37,29,28,34,20,30,-10,13,15,4,-10,-15,14,38,-2,23,39,27,21,41,8,21,27,-10,25,2,20,31,5,16,-4,32,22,41,14,10,28,42,4,7,-3,15,27,31,36,31,-1,20,27,27,47,-3,15,10,35,18,6,-11,1,19,2,7,-5,5,24,22,45,22,33,10,30,20,26,0,29,38,-2,4,37,36,36,24,26,-8,-3,21,21,4,19,33,-15,28,44,25,37,31,25,38,-7,34,23,-18,43,8,-7,21,15,28,-16,25,33,27,36,25,9,14,21,36,31,31,-5,32,20,33,22,41,35,34,19,42,35,19,28,44,35,-1,23,16,-1,37,8,10,20,29,43,34,29,33,31,34,-11,26,42,32,9,30,18,21,-8,18,20,5,11,43,11,34,35,-12,13,33,-2,0,34,10,23,24,35,25,35,22,-5,35,17,18,5,25,22,32,-3,40,32,-7,40,3,2,38,28,37,35,16,16,23,42,0,3,4,21,32,39,29,-6,40,42,19,36,42,-2,6,33,22,30,10,10,37,39,44,17,36,-2],\"r\":[0,7,-3,3,4,9,0,-13,9,6,5,5,-3,2,7,9,-3,2,4,4,4,8,-9,3,-6,7,-5,9,5,0,-27,10,3,-1,8,11,6,3,-1,-8,3,2,-36,-6,7,-28,7,8,-36,-2,-6,-4,6,-6,-13,6,5,-2,9,4,2,-13,-36,-19,-30,-10,-2,-13,2,11,1,-5,0,3,11,-19,10,6,3,-4,-2,-10,-6,2,14,6,1,5,1,5,-3,-27,-4,-4,-8,-10,-3,-2,8,9,-19,-18,-15,-2,-12,10,1,-11,-8,3,2,5,-5,10,-7,-1,0,-4,4,-9,-11,-7,-11,6,-18,2,-26,5,3,6,6,10,6,9,-1,11,3,8,-1,4,-7,3,-29,-2,-31,-14,12,6,0,-3,-2,-4,1,-10,-16,4,1,7,-26,7,-6,-10,4,8,1,-16,2,-1,2,-10,6,-9,10,12,-2,0,-8,5,-5,-9,5,0,11,-1,-18,0,1,-12,7,-7,1,5,-12,10,0,-4,7,6,2,1,-19,-3,12,-29,4,-4,-9,5,-7,12,-16,-8,2,-3,8,-23,4,7,0,13,-14,3,-18,9,-5,5,-32,11,-9,-19,-28,-9,13,-36,-20,-8,-6,-13,10,-8,1,-5,8,-33,4,-23,-20,-18,-11,-36,-15,-6,6,-3,-4,-13,5,1,2,-1,-5,5,-6,-21,-10,-14,-20,-3,-1,10,-1,-4,-15,-5,-7,-9,-4,-12,-8,6,-1,-7,-9,10,-1,7,-15,-4,-30,-9,-7,5,-27,-16,-12,-7,-19,-1,-23,-3,-11,10,2,-4,-2,-27,2,-11,-16,-13,5,4,3,-13,-33,-29,7,-4,-1,0,-10,-5,-16,-3,-28,-11,-21,-20,-35,-2,7,-6,-7,0,-3,-4,-13,7,-6,-31,-6,6,2,-1,11,2,-15,-32,-18,-23,1,-18,0,-7,4,-6,8,-16,-8,-17,-22,-36,9,-7,-8,-8,2,-17,6,-9,1,-9,-24,-35,-11,-5,-3,2,3,3,-17,13,-25,3,-17,8,-19,-5,2,-11,-8,-23,-1,13,-16,-11,-11,0,-9,-36,-21,-1,8,7,-12,-8,0,-16,5,-23,-25,-25,-8,-23,-21,1,-7,13,-17,-3,-17,-3,-5,-26,-29,-17,-9,4,0,-36,-2,-22,-7,-25,1,-16,1,-18,-15,-7,-28,9,-18,-35,-19,-36,4,-13,11,-17,-6,-12,-17,-2,-24,-2,-1,-25,-32,-2,-2,-4,-12,-3,-36,-11,-22,-15,-8,7,-36,-15,7,-26,-29,-2,-14,-8,-14,-20,-17,-15,9,-16,-19,-6,-1,0,2,3,-4,-15,-22,-15,12,-4,4,-16,8,0,-5,-20,-22,12,-11,6,1,0,-9,2,-9,-9,-4,-2,-12,-30,11,-4,-5,-35,2,-7,-23,1,-14,-1,-14,-15,-10,1,-19,-9,-12,-5,-12,4,4,-20,-20,-2,-34,-9,-31,9,-3,-1,-2,-6,-16,8,-17,6,-25,-17,-5,-33,-2,-27,-18,-24,1,-18,-36,-20,-18,0,1,-26,-3,-13,-28,4,-15,-18,-23,-7,-26,-10,-24,-2,3,-16,-13,-1,8,4,-7,-21,-1,-22,-14,-7,9,-2,-11,-12,-25,3,-5,-7,-15,5,-2,-5,10,11,7,-10,-3,-15,-3,-13,-11,-24,-16,-8,-36,-17,-21,0,-36,-18,-27,1,-3,-15,-10,-14,-17,-16,-18,1,1,-24,-10,-34,-14,-6,-29,6,-28,-19,-36,-13,-20,-19,-36,-35,-7,-36,-26,-9,-36,-2,2,-3,-4,-14,-36,-27,3,1,-12,8,-18,-1,-30,-1,-4,-13,-23,-2,-9,-8,-17,-7,-17,-16,-29,-13,-22,-20,-20,-14,-33,-3,-19,-22,-13,5,3,0,-3,-2,-16,-12,-15,-18,-14,12,2,-13,9,-25,-8,-3,-12,-17,-21,-21,-25,-6,10,-14,-33,-6,-14,1,0,-14,-2,-15,-28,-6,-30,0,-28,-29,-24,-12,-28,-12,-18,-19,12,-21,-19,11,-8,-26,-17,-22,-8,0,-29,-6,-10,-26,-13,12,-18,-8,-12,-12,-5,-6,-5,-24,-10,-28,-3,-8,13,-1,-8,-9,-18,-36,9,-22,-16,-7,-11,3,2,-17,-23,-15,-21,-32,-34,-3,4,0,-33,-15,13,-9,-23,4,5,-5,-11,-32,-36,-6,-26,-22,-14,-33,14,-13,-35,1,8,-24,-18,-20,-14,-3,-22,0,-13,-31,5,4,-30,-20,-2,-31,-10,-8,13,-15,-17,-25,-22,4,-25,-6,-23,0,-32,-31,-9,-36,11,-3,-13,-10,-4,-25,-19,2,-21,-23,-22,-11,-14,-28,-33,13,3,14,-20,-28,-26,-10,-22,-29,-6,-19,12,-12,2,-17,-10,-21,-29,-9,-2,-7,11,-21,-22,-10,-10,6,-13,-30,-31,-27,-25,-5,-29,-17,-15,5,-26,-27,-18,-15,-36,-21,-19,-7,-1,-12,1,-5,-10,-36,-24,-7,-30,-4,-34,-19,-2,-23,-11,-26,-25,-11,-13,11,-1,-1,-14,-14,-24,-18,-36,-7,-24,-23,-22,-5,-4,-30,-21,-30,-2,-20,-35,0,-20,-2,-17,-4,8,3,5,4,-34,-13,-19,-28,-23,-24,-25,-12,-14,5,11,-13,8,-23,-21,-11,-34,10,-21,-24,-29,-21,3,-16,-29,-9,6,-12,-3,-28,-23,-12,-9,-5,-20,7,-24,-35,9,5,6,-34,2,-12,13,-12,-8,-9,5,-9,-10,-26,-4,-32,-12,-32,-29,-31,-10,-12,-7,-27,-22,-10,6,-25,-20,-23,-11,-7,-2,-4,-35,0,7,-19,-5,8,-13,-34,-18,-32,-7,4,-33,-4,-7,-25,14,-33,6,-2,-10,-20,-14,8,-7,-4,-5,-27,-26,7,2,-11,-24,-13,0,13,-9,-5,-31,1,-28,-36,-11,-7,-26,-12,-21,-26,-29,-25,-15,-27,-20,-11,-13,5,-14,-27,-10,-35,-27,-4,-18,-5,-22,12,-8,-24,-19,-14,-24,0,2,-4,-18,-29,-13,7,-30,-31,-17,-20,3,3,-19,-9,-8,-12,-24,-24,13,-35,-2,-19,-20,-8,-24,-24,3,7,-21,-10,-24,-6,-23,-20,-5,-32,-24,-18,-30,-11,-14,-15,-4,-36,-11,-32,-6,-18,-19,-1,-35,-16,-6,11,-21,-33,-23,-26,-23,-8,-28,-16,0,-27,-16,-21,-35,-20,-28,-3,-31,9]},\"selected\":{\"id\":\"248487\"},\"selection_policy\":{\"id\":\"248511\"}},\"id\":\"248486\",\"type\":\"ColumnDataSource\"},{\"attributes\":{\"children\":[{\"id\":\"248451\"},{\"id\":\"248455\"},{\"id\":\"248514\"}],\"margin\":[0,0,0,0],\"name\":\"Row589296\",\"tags\":[\"embedded\"]},\"id\":\"248450\",\"type\":\"Row\"},{\"attributes\":{\"high\":250,\"low\":1,\"palette\":[\"#b3fef5\",\"#b0fef5\",\"#adfdf5\",\"#a9fcf5\",\"#a6fbf6\",\"#a3faf6\",\"#a0faf6\",\"#9df9f6\",\"#9af8f6\",\"#97f7f6\",\"#93f7f6\",\"#90f6f6\",\"#8df5f6\",\"#8af4f7\",\"#87f3f7\",\"#83f2f7\",\"#80f2f7\",\"#7df1f7\",\"#79f0f7\",\"#76eff7\",\"#73eef7\",\"#6fedf8\",\"#6cecf8\",\"#68ecf8\",\"#65ebf8\",\"#61eaf8\",\"#5ee9f8\",\"#5ae8f8\",\"#57e7f8\",\"#53e6f8\",\"#50e5f9\",\"#4ce4f9\",\"#49e3f9\",\"#45e2f9\",\"#42e1f9\",\"#3ee0f9\",\"#3bdff9\",\"#38def9\",\"#35ddf9\",\"#32dcf9\",\"#30dbfa\",\"#2ed9fa\",\"#2dd8fa\",\"#2cd7fa\",\"#2bd6fa\",\"#2bd5fa\",\"#2ad3fa\",\"#2ad2fa\",\"#29d1fa\",\"#29d0fb\",\"#29cffb\",\"#28cdfb\",\"#28ccfb\",\"#28cbfb\",\"#28cafb\",\"#28c8fb\",\"#28c7fb\",\"#29c6fb\",\"#29c5fb\",\"#29c4fb\",\"#29c2fb\",\"#2ac1fb\",\"#2ac0fb\",\"#2bbffb\",\"#2bbdfc\",\"#2cbcfc\",\"#2dbbfc\",\"#2db9fc\",\"#2eb8fc\",\"#2fb7fc\",\"#2fb6fc\",\"#30b4fc\",\"#31b3fc\",\"#32b2fc\",\"#32b0fc\",\"#33affc\",\"#33aefc\",\"#34adfc\",\"#34abfc\",\"#34aafc\",\"#35a9fc\",\"#35a8fc\",\"#35a6fc\",\"#35a5fc\",\"#35a4fc\",\"#35a3fc\",\"#35a1fc\",\"#35a0fc\",\"#359ffc\",\"#359dfc\",\"#359cfc\",\"#359bfc\",\"#349afd\",\"#3498fd\",\"#3497fd\",\"#3396fd\",\"#3395fd\",\"#3293fd\",\"#3292fd\",\"#3191fd\",\"#3090fd\",\"#308ffd\",\"#2f8dfd\",\"#2f8cfd\",\"#2e8bfd\",\"#2e8afd\",\"#2d88fd\",\"#2d87fd\",\"#2c86fd\",\"#2c84fd\",\"#2c83fd\",\"#2c82fd\",\"#2b81fd\",\"#2b7ffd\",\"#2b7efd\",\"#2b7dfd\",\"#2b7bfd\",\"#2b7afd\",\"#2b79fd\",\"#2b77fd\",\"#2b76fd\",\"#2b75fd\",\"#2b73fd\",\"#2c72fd\",\"#2c71fd\",\"#2c6ffd\",\"#2c6efd\",\"#2d6cfd\",\"#2d6bfd\",\"#2d6afc\",\"#2e68fc\",\"#2e67fc\",\"#2e65fc\",\"#2e64fc\",\"#2f62fc\",\"#2f61fc\",\"#2f5ffc\",\"#2f5efc\",\"#2f5dfc\",\"#2f5bfc\",\"#2f5afc\",\"#2f58fb\",\"#2f57fb\",\"#2f55fb\",\"#2f53fb\",\"#2f52fb\",\"#2f50fb\",\"#2f4ffb\",\"#2f4dfb\",\"#2e4cfb\",\"#2e4afb\",\"#2e48fb\",\"#2e47fa\",\"#2d45fa\",\"#2d43fa\",\"#2d42fa\",\"#2d40fa\",\"#2c3efa\",\"#2c3dfa\",\"#2b3bf9\",\"#2b39f9\",\"#2a37f9\",\"#2a36f8\",\"#2934f8\",\"#2832f7\",\"#2831f7\",\"#272ff6\",\"#262ef5\",\"#252cf5\",\"#252af4\",\"#2429f3\",\"#2327f2\",\"#2226f1\",\"#2124f0\",\"#2023ef\",\"#1f22ee\",\"#1e20ed\",\"#1d1feb\",\"#1c1eea\",\"#1b1ce9\",\"#1a1be7\",\"#181ae6\",\"#1719e5\",\"#1618e3\",\"#1417e1\",\"#1316e0\",\"#1215de\",\"#1014dc\",\"#0f13db\",\"#0e12d9\",\"#0d11d7\",\"#0c10d5\",\"#0b0fd3\",\"#0a0ed1\",\"#090dd0\",\"#080dce\",\"#080ccc\",\"#070bca\",\"#070ac8\",\"#0709c6\",\"#0708c4\",\"#0707c2\",\"#0707bf\",\"#0806bd\",\"#0806bb\",\"#0905b9\",\"#0904b7\",\"#0a04b5\",\"#0a04b2\",\"#0b03b0\",\"#0c03ae\",\"#0d02ab\",\"#0e02a9\",\"#0e02a7\",\"#0f02a4\",\"#0f01a2\",\"#1001a0\",\"#10019d\",\"#10019b\",\"#100199\",\"#100197\",\"#100194\",\"#0f0192\",\"#0f0190\",\"#0f018e\",\"#0e018b\",\"#0e0189\",\"#0d0187\",\"#0d0185\",\"#0c0183\",\"#0b0181\",\"#0b017e\",\"#0a017c\",\"#09017a\",\"#090178\",\"#080276\",\"#070274\",\"#060272\",\"#060270\",\"#05026e\",\"#04026c\",\"#030269\",\"#030267\",\"#020265\",\"#010263\",\"#010261\",\"#00025f\",\"#00025d\",\"#00025b\",\"#000259\",\"#000257\",\"#000255\",\"#000154\",\"#000152\",\"#000150\",\"#00004e\"]},\"id\":\"248485\",\"type\":\"LinearColorMapper\"},{\"attributes\":{},\"id\":\"248465\",\"type\":\"BasicTicker\"},{\"attributes\":{},\"id\":\"248469\",\"type\":\"BasicTicker\"},{\"attributes\":{\"overlay\":{\"id\":\"248477\"}},\"id\":\"248475\",\"type\":\"BoxZoomTool\"},{\"attributes\":{},\"id\":\"248487\",\"type\":\"Selection\"},{\"attributes\":{\"end\":4.378855892168344,\"reset_end\":4.378855892168344,\"reset_start\":-1.997254042767048,\"start\":-1.997254042767048,\"tags\":[[[\"total_rooms\",\"total_rooms\",null]]]},\"id\":\"248453\",\"type\":\"Range1d\"},{\"attributes\":{\"tools\":[{\"id\":\"248454\"},{\"id\":\"248472\"},{\"id\":\"248473\"},{\"id\":\"248474\"},{\"id\":\"248475\"},{\"id\":\"248476\"}]},\"id\":\"248478\",\"type\":\"Toolbar\"},{\"attributes\":{},\"id\":\"248460\",\"type\":\"LinearScale\"},{\"attributes\":{\"coordinates\":null,\"group\":null,\"text\":\"Correlation: 0.842\",\"text_color\":\"black\",\"text_font_size\":\"12pt\"},\"id\":\"248456\",\"type\":\"Title\"},{\"attributes\":{\"axis\":{\"id\":\"248468\"},\"coordinates\":null,\"dimension\":1,\"grid_line_color\":null,\"group\":null,\"ticker\":null},\"id\":\"248471\",\"type\":\"Grid\"},{\"attributes\":{\"callback\":null,\"renderers\":[{\"id\":\"248492\"}],\"tags\":[\"hv_created\"],\"tooltips\":[[\"Count\",\"@{Count}\"]]},\"id\":\"248454\",\"type\":\"HoverTool\"},{\"attributes\":{\"axis_label\":\"total_rooms\",\"coordinates\":null,\"formatter\":{\"id\":\"248501\"},\"group\":null,\"major_label_policy\":{\"id\":\"248502\"},\"ticker\":{\"id\":\"248469\"}},\"id\":\"248468\",\"type\":\"LinearAxis\"},{\"attributes\":{},\"id\":\"248502\",\"type\":\"AllLabels\"},{\"attributes\":{\"axis\":{\"id\":\"248464\"},\"coordinates\":null,\"grid_line_color\":null,\"group\":null,\"ticker\":null},\"id\":\"248467\",\"type\":\"Grid\"},{\"attributes\":{\"coordinates\":null,\"data_source\":{\"id\":\"248486\"},\"glyph\":{\"id\":\"248489\"},\"group\":null,\"hover_glyph\":null,\"muted_glyph\":{\"id\":\"248491\"},\"nonselection_glyph\":{\"id\":\"248490\"},\"selection_glyph\":{\"id\":\"248496\"},\"view\":{\"id\":\"248493\"}},\"id\":\"248492\",\"type\":\"GlyphRenderer\"},{\"attributes\":{},\"id\":\"248511\",\"type\":\"UnionRenderers\"},{\"attributes\":{},\"id\":\"248498\",\"type\":\"BasicTickFormatter\"},{\"attributes\":{},\"id\":\"248499\",\"type\":\"AllLabels\"},{\"attributes\":{},\"id\":\"248462\",\"type\":\"LinearScale\"},{\"attributes\":{},\"id\":\"248501\",\"type\":\"BasicTickFormatter\"},{\"attributes\":{\"margin\":[5,5,5,5],\"name\":\"HSpacer589300\",\"sizing_mode\":\"stretch_width\"},\"id\":\"248451\",\"type\":\"Spacer\"},{\"attributes\":{},\"id\":\"248507\",\"type\":\"NoOverlap\"},{\"attributes\":{\"aspect_scale\":1.0061876940777383,\"fill_alpha\":{\"value\":0.2},\"fill_color\":{\"field\":\"Count\",\"transform\":{\"id\":\"248485\"}},\"hatch_alpha\":{\"value\":0.2},\"hatch_color\":{\"field\":\"Count\",\"transform\":{\"id\":\"248485\"}},\"line_alpha\":{\"value\":0.2},\"line_color\":{\"field\":\"Count\",\"transform\":{\"id\":\"248485\"}},\"q\":{\"field\":\"q\"},\"r\":{\"field\":\"r\"},\"size\":0.07084566594372657},\"id\":\"248491\",\"type\":\"HexTile\"},{\"attributes\":{\"end\":3.777358734045334,\"reset_end\":3.777358734045334,\"reset_start\":-1.503390550659172,\"start\":-1.503390550659172,\"tags\":[[[\"population\",\"population\",null]]]},\"id\":\"248452\",\"type\":\"Range1d\"},{\"attributes\":{\"axis_label\":\"population\",\"coordinates\":null,\"formatter\":{\"id\":\"248498\"},\"group\":null,\"major_label_policy\":{\"id\":\"248499\"},\"ticker\":{\"id\":\"248465\"}},\"id\":\"248464\",\"type\":\"LinearAxis\"},{\"attributes\":{\"margin\":[5,5,5,5],\"name\":\"HSpacer589301\",\"sizing_mode\":\"stretch_width\"},\"id\":\"248514\",\"type\":\"Spacer\"},{\"attributes\":{\"source\":{\"id\":\"248486\"}},\"id\":\"248493\",\"type\":\"CDSView\"},{\"attributes\":{\"bar_line_color\":\"black\",\"color_mapper\":{\"id\":\"248485\"},\"coordinates\":null,\"group\":null,\"label_standoff\":8,\"location\":[0,0],\"major_label_policy\":{\"id\":\"248507\"},\"major_tick_line_color\":\"black\",\"ticker\":{\"id\":\"248494\"}},\"id\":\"248495\",\"type\":\"ColorBar\"},{\"attributes\":{\"aspect_scale\":1.0061876940777383,\"fill_color\":{\"field\":\"Count\",\"transform\":{\"id\":\"248485\"}},\"hatch_color\":{\"field\":\"Count\",\"transform\":{\"id\":\"248485\"}},\"line_color\":{\"field\":\"Count\",\"transform\":{\"id\":\"248485\"}},\"q\":{\"field\":\"q\"},\"r\":{\"field\":\"r\"},\"size\":0.07084566594372657},\"id\":\"248489\",\"type\":\"HexTile\"},{\"attributes\":{\"below\":[{\"id\":\"248464\"}],\"center\":[{\"id\":\"248467\"},{\"id\":\"248471\"}],\"height\":300,\"left\":[{\"id\":\"248468\"}],\"margin\":[5,5,5,5],\"min_border_bottom\":10,\"min_border_left\":10,\"min_border_right\":10,\"min_border_top\":10,\"renderers\":[{\"id\":\"248492\"}],\"right\":[{\"id\":\"248495\"}],\"sizing_mode\":\"fixed\",\"title\":{\"id\":\"248456\"},\"toolbar\":{\"id\":\"248478\"},\"x_range\":{\"id\":\"248452\"},\"x_scale\":{\"id\":\"248460\"},\"y_range\":{\"id\":\"248453\"},\"y_scale\":{\"id\":\"248462\"}},\"id\":\"248455\",\"subtype\":\"Figure\",\"type\":\"Plot\"},{\"attributes\":{},\"id\":\"248473\",\"type\":\"PanTool\"},{\"attributes\":{},\"id\":\"248474\",\"type\":\"WheelZoomTool\"},{\"attributes\":{},\"id\":\"248476\",\"type\":\"ResetTool\"},{\"attributes\":{},\"id\":\"248472\",\"type\":\"SaveTool\"},{\"attributes\":{},\"id\":\"248494\",\"type\":\"BasicTicker\"},{\"attributes\":{\"bottom_units\":\"screen\",\"coordinates\":null,\"fill_alpha\":0.5,\"fill_color\":\"lightgrey\",\"group\":null,\"left_units\":\"screen\",\"level\":\"overlay\",\"line_alpha\":1.0,\"line_color\":\"black\",\"line_dash\":[4,4],\"line_width\":2,\"right_units\":\"screen\",\"syncable\":false,\"top_units\":\"screen\"},\"id\":\"248477\",\"type\":\"BoxAnnotation\"},{\"attributes\":{\"aspect_scale\":1.0061876940777383,\"fill_alpha\":{\"value\":0.1},\"fill_color\":{\"field\":\"Count\",\"transform\":{\"id\":\"248485\"}},\"hatch_alpha\":{\"value\":0.1},\"hatch_color\":{\"field\":\"Count\",\"transform\":{\"id\":\"248485\"}},\"line_alpha\":{\"value\":0.1},\"line_color\":{\"field\":\"Count\",\"transform\":{\"id\":\"248485\"}},\"q\":{\"field\":\"q\"},\"r\":{\"field\":\"r\"},\"size\":0.07084566594372657},\"id\":\"248490\",\"type\":\"HexTile\"},{\"attributes\":{\"aspect_scale\":1.0061876940777383,\"fill_alpha\":{\"value\":1.0},\"fill_color\":{\"field\":\"Count\",\"transform\":{\"id\":\"248485\"}},\"hatch_alpha\":{\"value\":1.0},\"hatch_color\":{\"field\":\"Count\",\"transform\":{\"id\":\"248485\"}},\"hatch_scale\":{\"value\":12.0},\"hatch_weight\":{\"value\":1.0},\"line_alpha\":{\"value\":1.0},\"line_cap\":{\"value\":\"butt\"},\"line_color\":{\"field\":\"Count\",\"transform\":{\"id\":\"248485\"}},\"line_dash\":{\"value\":[]},\"line_dash_offset\":{\"value\":0},\"line_join\":{\"value\":\"bevel\"},\"line_width\":{\"value\":1},\"q\":{\"field\":\"q\"},\"r\":{\"field\":\"r\"},\"scale\":{\"value\":1.0},\"size\":0.07084566594372657},\"id\":\"248496\",\"type\":\"HexTile\"}],\"root_ids\":[\"248450\"]},\"title\":\"Bokeh Application\",\"version\":\"2.4.3\"}};\n",
       "    var render_items = [{\"docid\":\"88459c32-1398-494f-94c8-9692247c4ae1\",\"root_ids\":[\"248450\"],\"roots\":{\"248450\":\"3d468d33-da7d-4f0f-95f8-908cdf029b2f\"}}];\n",
       "    root.Bokeh.embed.embed_items_notebook(docs_json, render_items);\n",
       "  }\n",
       "  if (root.Bokeh !== undefined && root.Bokeh.Panel !== undefined) {\n",
       "    embed_document(root);\n",
       "  } else {\n",
       "    var attempts = 0;\n",
       "    var timer = setInterval(function(root) {\n",
       "      if (root.Bokeh !== undefined && root.Bokeh.Panel !== undefined) {\n",
       "        clearInterval(timer);\n",
       "        embed_document(root);\n",
       "      } else if (document.readyState == \"complete\") {\n",
       "        attempts++;\n",
       "        if (attempts > 200) {\n",
       "          clearInterval(timer);\n",
       "          console.log(\"Bokeh: ERROR: Unable to run BokehJS code because BokehJS library is missing\");\n",
       "        }\n",
       "      }\n",
       "    }, 25, root)\n",
       "  }\n",
       "})(window);</script>"
      ],
      "text/plain": [
       ":HexTiles   [population,total_rooms]"
      ]
     },
     "execution_count": 321,
     "metadata": {
      "application/vnd.holoviews_exec.v0+json": {
       "id": "248450"
      }
     },
     "output_type": "execute_result"
    }
   ],
   "source": [
    "out = eda.get_bivariate_plots(train_X, x_cols=['population'], y_cols=['total_rooms'])\n",
    "out"
   ]
  },
  {
   "cell_type": "code",
   "execution_count": 322,
   "metadata": {},
   "outputs": [
    {
     "name": "stdout",
     "output_type": "stream",
     "text": [
      "CPU times: user 34.6 s, sys: 40.1 s, total: 1min 14s\n",
      "Wall time: 21.7 s\n"
     ]
    }
   ],
   "source": [
    "%%time\n",
    "# create reports as needed\n",
    "cols = train_X.columns.to_list()\n",
    "all_plots = {}\n",
    "for ii, col1 in enumerate(cols): \n",
    "    for jj in range(ii+1, len(cols)):\n",
    "        col2 = cols[jj]\n",
    "        out = eda.get_bivariate_plots(train_X, x_cols=[col1], y_cols=[col2])\n",
    "        all_plots.update({f'{col2} vs {col1}': out})\n",
    "\n",
    "reports.create_report(all_plots, name='feature_analysis_bivariate')"
   ]
  },
  {
   "cell_type": "code",
   "execution_count": 323,
   "metadata": {},
   "outputs": [],
   "source": [
    "reports.feature_interactions(train_X,'./feature_interaction_report.html')"
   ]
  },
  {
   "cell_type": "markdown",
   "metadata": {},
   "source": [
    "### 3.2.3 Key Drivers - Interaction with Target variable"
   ]
  },
  {
   "cell_type": "code",
   "execution_count": 324,
   "metadata": {},
   "outputs": [
    {
     "data": {},
     "metadata": {},
     "output_type": "display_data"
    },
    {
     "data": {},
     "metadata": {},
     "output_type": "display_data"
    },
    {
     "data": {
      "application/vnd.holoviews_exec.v0+json": "",
      "text/html": [
       "<div id='269885'>\n",
       "  <div class=\"bk-root\" id=\"19d2ca35-b7e3-4532-967f-7c9fe89e2ee7\" data-root-id=\"269885\"></div>\n",
       "</div>\n",
       "<script type=\"application/javascript\">(function(root) {\n",
       "  function embed_document(root) {\n",
       "    var docs_json = {\"8299b8c6-47b4-4770-8948-5d6a4cb53eb9\":{\"defs\":[{\"extends\":null,\"module\":null,\"name\":\"ReactiveHTML1\",\"overrides\":[],\"properties\":[]},{\"extends\":null,\"module\":null,\"name\":\"FlexBox1\",\"overrides\":[],\"properties\":[{\"default\":\"flex-start\",\"kind\":null,\"name\":\"align_content\"},{\"default\":\"flex-start\",\"kind\":null,\"name\":\"align_items\"},{\"default\":\"row\",\"kind\":null,\"name\":\"flex_direction\"},{\"default\":\"wrap\",\"kind\":null,\"name\":\"flex_wrap\"},{\"default\":\"flex-start\",\"kind\":null,\"name\":\"justify_content\"}]},{\"extends\":null,\"module\":null,\"name\":\"GridStack1\",\"overrides\":[],\"properties\":[{\"default\":\"warn\",\"kind\":null,\"name\":\"mode\"},{\"default\":null,\"kind\":null,\"name\":\"ncols\"},{\"default\":null,\"kind\":null,\"name\":\"nrows\"},{\"default\":true,\"kind\":null,\"name\":\"allow_resize\"},{\"default\":true,\"kind\":null,\"name\":\"allow_drag\"},{\"default\":[],\"kind\":null,\"name\":\"state\"}]},{\"extends\":null,\"module\":null,\"name\":\"click1\",\"overrides\":[],\"properties\":[{\"default\":\"\",\"kind\":null,\"name\":\"terminal_output\"},{\"default\":\"\",\"kind\":null,\"name\":\"debug_name\"},{\"default\":0,\"kind\":null,\"name\":\"clears\"}]},{\"extends\":null,\"module\":null,\"name\":\"NotificationAreaBase1\",\"overrides\":[],\"properties\":[{\"default\":\"bottom-right\",\"kind\":null,\"name\":\"position\"},{\"default\":0,\"kind\":null,\"name\":\"_clear\"}]},{\"extends\":null,\"module\":null,\"name\":\"NotificationArea1\",\"overrides\":[],\"properties\":[{\"default\":[],\"kind\":null,\"name\":\"notifications\"},{\"default\":\"bottom-right\",\"kind\":null,\"name\":\"position\"},{\"default\":0,\"kind\":null,\"name\":\"_clear\"},{\"default\":[{\"background\":\"#ffc107\",\"icon\":{\"className\":\"fas fa-exclamation-triangle\",\"color\":\"white\",\"tagName\":\"i\"},\"type\":\"warning\"},{\"background\":\"#007bff\",\"icon\":{\"className\":\"fas fa-info-circle\",\"color\":\"white\",\"tagName\":\"i\"},\"type\":\"info\"}],\"kind\":null,\"name\":\"types\"}]},{\"extends\":null,\"module\":null,\"name\":\"Notification\",\"overrides\":[],\"properties\":[{\"default\":null,\"kind\":null,\"name\":\"background\"},{\"default\":3000,\"kind\":null,\"name\":\"duration\"},{\"default\":null,\"kind\":null,\"name\":\"icon\"},{\"default\":\"\",\"kind\":null,\"name\":\"message\"},{\"default\":null,\"kind\":null,\"name\":\"notification_type\"},{\"default\":false,\"kind\":null,\"name\":\"_destroyed\"}]},{\"extends\":null,\"module\":null,\"name\":\"TemplateActions1\",\"overrides\":[],\"properties\":[{\"default\":0,\"kind\":null,\"name\":\"open_modal\"},{\"default\":0,\"kind\":null,\"name\":\"close_modal\"}]},{\"extends\":null,\"module\":null,\"name\":\"MaterialTemplateActions1\",\"overrides\":[],\"properties\":[{\"default\":0,\"kind\":null,\"name\":\"open_modal\"},{\"default\":0,\"kind\":null,\"name\":\"close_modal\"}]}],\"roots\":{\"references\":[{\"attributes\":{},\"id\":\"269907\",\"type\":\"WheelZoomTool\"},{\"attributes\":{},\"id\":\"269929\",\"type\":\"AllLabels\"},{\"attributes\":{},\"id\":\"269899\",\"type\":\"BasicTicker\"},{\"attributes\":{\"overlay\":{\"id\":\"269910\"}},\"id\":\"269908\",\"type\":\"BoxZoomTool\"},{\"attributes\":{},\"id\":\"269903\",\"type\":\"CategoricalTicker\"},{\"attributes\":{},\"id\":\"269932\",\"type\":\"AllLabels\"},{\"attributes\":{},\"id\":\"269894\",\"type\":\"LinearScale\"},{\"attributes\":{},\"id\":\"269896\",\"type\":\"CategoricalScale\"},{\"attributes\":{},\"id\":\"269928\",\"type\":\"BasicTickFormatter\"},{\"attributes\":{},\"id\":\"269905\",\"type\":\"SaveTool\"},{\"attributes\":{\"callback\":null,\"renderers\":[{\"id\":\"269924\"}],\"tags\":[\"hv_created\"],\"tooltips\":[[\"index\",\"@{index}\"],[\"Pearson_correlation_with_Target\",\"@{Pearson_correlation_with_Target}\"]]},\"id\":\"269888\",\"type\":\"HoverTool\"},{\"attributes\":{\"coordinates\":null,\"group\":null,\"text\":\"Feature Correlation with Target Function\",\"text_color\":\"black\",\"text_font_size\":\"12pt\"},\"id\":\"269890\",\"type\":\"Title\"},{\"attributes\":{},\"id\":\"269931\",\"type\":\"CategoricalTickFormatter\"},{\"attributes\":{\"fill_alpha\":{\"value\":1.0},\"fill_color\":{\"value\":\"#30a2da\"},\"hatch_alpha\":{\"value\":1.0},\"hatch_color\":{\"value\":\"#30a2da\"},\"hatch_scale\":{\"value\":12.0},\"hatch_weight\":{\"value\":1.0},\"height\":{\"value\":0.8},\"left\":{\"value\":0},\"line_alpha\":{\"value\":1.0},\"line_cap\":{\"value\":\"butt\"},\"line_color\":{\"value\":\"black\"},\"line_dash\":{\"value\":[]},\"line_dash_offset\":{\"value\":0},\"line_join\":{\"value\":\"bevel\"},\"line_width\":{\"value\":1},\"right\":{\"field\":\"Pearson_correlation_with_Target\"},\"y\":{\"field\":\"index\"}},\"id\":\"269926\",\"type\":\"HBar\"},{\"attributes\":{},\"id\":\"269909\",\"type\":\"ResetTool\"},{\"attributes\":{\"below\":[{\"id\":\"269898\"}],\"center\":[{\"id\":\"269901\"},{\"id\":\"269904\"}],\"height\":300,\"left\":[{\"id\":\"269902\"}],\"margin\":[5,5,5,5],\"min_border_bottom\":10,\"min_border_left\":10,\"min_border_right\":10,\"min_border_top\":10,\"renderers\":[{\"id\":\"269924\"}],\"sizing_mode\":\"fixed\",\"title\":{\"id\":\"269890\"},\"toolbar\":{\"id\":\"269911\"},\"width\":700,\"x_range\":{\"id\":\"269886\"},\"x_scale\":{\"id\":\"269894\"},\"y_range\":{\"id\":\"269887\"},\"y_scale\":{\"id\":\"269896\"}},\"id\":\"269889\",\"subtype\":\"Figure\",\"type\":\"Plot\"},{\"attributes\":{\"fill_alpha\":{\"value\":0.2},\"fill_color\":{\"value\":\"#30a2da\"},\"hatch_alpha\":{\"value\":0.2},\"hatch_color\":{\"value\":\"#30a2da\"},\"height\":{\"value\":0.8},\"line_alpha\":{\"value\":0.2},\"right\":{\"field\":\"Pearson_correlation_with_Target\"},\"y\":{\"field\":\"index\"}},\"id\":\"269923\",\"type\":\"HBar\"},{\"attributes\":{},\"id\":\"269919\",\"type\":\"Selection\"},{\"attributes\":{},\"id\":\"269906\",\"type\":\"PanTool\"},{\"attributes\":{\"fill_alpha\":{\"value\":0.1},\"fill_color\":{\"value\":\"#30a2da\"},\"hatch_alpha\":{\"value\":0.1},\"hatch_color\":{\"value\":\"#30a2da\"},\"height\":{\"value\":0.8},\"line_alpha\":{\"value\":0.1},\"right\":{\"field\":\"Pearson_correlation_with_Target\"},\"y\":{\"field\":\"index\"}},\"id\":\"269922\",\"type\":\"HBar\"},{\"attributes\":{\"fill_color\":{\"value\":\"#30a2da\"},\"hatch_color\":{\"value\":\"#30a2da\"},\"height\":{\"value\":0.8},\"right\":{\"field\":\"Pearson_correlation_with_Target\"},\"y\":{\"field\":\"index\"}},\"id\":\"269921\",\"type\":\"HBar\"},{\"attributes\":{\"coordinates\":null,\"data_source\":{\"id\":\"269918\"},\"glyph\":{\"id\":\"269921\"},\"group\":null,\"hover_glyph\":null,\"muted_glyph\":{\"id\":\"269923\"},\"nonselection_glyph\":{\"id\":\"269922\"},\"selection_glyph\":{\"id\":\"269926\"},\"view\":{\"id\":\"269925\"}},\"id\":\"269924\",\"type\":\"GlyphRenderer\"},{\"attributes\":{\"axis\":{\"id\":\"269898\"},\"coordinates\":null,\"grid_line_color\":null,\"group\":null,\"ticker\":null},\"id\":\"269901\",\"type\":\"Grid\"},{\"attributes\":{\"client_comm_id\":\"50952ecb5ad041bfaaf18e3903f5f2b4\",\"comm_id\":\"9dd14c7a4ca647548291fdf38946648d\",\"plot_id\":\"269885\"},\"id\":\"269974\",\"type\":\"panel.models.comm_manager.CommManager\"},{\"attributes\":{\"child\":{\"id\":\"269889\"},\"name\":\"feature_correlation\",\"title\":\"feature_correlation\"},\"id\":\"269943\",\"type\":\"Panel\"},{\"attributes\":{\"end\":0.8170519441712922,\"reset_end\":0.8170519441712922,\"reset_start\":-0.6032590185755395,\"start\":-0.6032590185755395,\"tags\":[[[\"Pearson_correlation_with_Target\",\"Pearson_correlation_with_Target\",null]]]},\"id\":\"269886\",\"type\":\"Range1d\"},{\"attributes\":{\"axis\":{\"id\":\"269902\"},\"coordinates\":null,\"dimension\":1,\"grid_line_color\":null,\"group\":null,\"ticker\":null},\"id\":\"269904\",\"type\":\"Grid\"},{\"attributes\":{\"bottom_units\":\"screen\",\"coordinates\":null,\"fill_alpha\":0.5,\"fill_color\":\"lightgrey\",\"group\":null,\"left_units\":\"screen\",\"level\":\"overlay\",\"line_alpha\":1.0,\"line_color\":\"black\",\"line_dash\":[4,4],\"line_width\":2,\"right_units\":\"screen\",\"syncable\":false,\"top_units\":\"screen\"},\"id\":\"269910\",\"type\":\"BoxAnnotation\"},{\"attributes\":{\"source\":{\"id\":\"269918\"}},\"id\":\"269925\",\"type\":\"CDSView\"},{\"attributes\":{\"tools\":[{\"id\":\"269888\"},{\"id\":\"269905\"},{\"id\":\"269906\"},{\"id\":\"269907\"},{\"id\":\"269908\"},{\"id\":\"269909\"}]},\"id\":\"269911\",\"type\":\"Toolbar\"},{\"attributes\":{\"factors\":[\"ocean_proximity_INLAND\",\"bedrooms_per_room\",\"latitude\",\"longitude\",\"population\",\"population_per_household\",\"ocean_proximity_ISLAND\",\"total_bedrooms\",\"households\",\"housing_median_age\",\"ocean_proximity_NEAR OCEAN\",\"rooms_per_household\",\"total_rooms\",\"ocean_proximity_NEAR BAY\",\"ocean_proximity_1H OCEAN\",\"median_income\"],\"tags\":[[[\"index\",\"index\",null]]]},\"id\":\"269887\",\"type\":\"FactorRange\"},{\"attributes\":{\"data\":{\"Pearson_correlation_with_Target\":{\"__ndarray__\":\"gQNNDZkI378XD9nOc53Nvyd8nUBpQMK/dNdX1KoeqL8sAdHqsuCgv39VRhPTjJ2/Os7N4y2QlT+AtvHSpHGqPyPbc8qYjrE/zA/20UQ3uj/EblN+hYjCPybIUpQ+DcM/e9Ci5/Z6wz8u8WNlvVPEP95/8wC/YNA/sRqYybBb5j8=\",\"dtype\":\"float64\",\"order\":\"little\",\"shape\":[16]},\"index\":[\"ocean_proximity_INLAND\",\"bedrooms_per_room\",\"latitude\",\"longitude\",\"population\",\"population_per_household\",\"ocean_proximity_ISLAND\",\"total_bedrooms\",\"households\",\"housing_median_age\",\"ocean_proximity_NEAR OCEAN\",\"rooms_per_household\",\"total_rooms\",\"ocean_proximity_NEAR BAY\",\"ocean_proximity_1H OCEAN\",\"median_income\"]},\"selected\":{\"id\":\"269919\"},\"selection_policy\":{\"id\":\"269940\"}},\"id\":\"269918\",\"type\":\"ColumnDataSource\"},{\"attributes\":{\"axis_label\":\"\",\"coordinates\":null,\"formatter\":{\"id\":\"269931\"},\"group\":null,\"major_label_policy\":{\"id\":\"269932\"},\"ticker\":{\"id\":\"269903\"}},\"id\":\"269902\",\"type\":\"CategoricalAxis\"},{\"attributes\":{\"axis_label\":\"Pearson_correlation_with_Target\",\"coordinates\":null,\"formatter\":{\"id\":\"269928\"},\"group\":null,\"major_label_policy\":{\"id\":\"269929\"},\"ticker\":{\"id\":\"269899\"}},\"id\":\"269898\",\"type\":\"LinearAxis\"},{\"attributes\":{},\"id\":\"269940\",\"type\":\"UnionRenderers\"},{\"attributes\":{\"margin\":[0,0,0,0],\"tabs\":[{\"id\":\"269943\"}]},\"id\":\"269885\",\"type\":\"panel.models.tabs.Tabs\"}],\"root_ids\":[\"269885\",\"269974\"]},\"title\":\"Bokeh Application\",\"version\":\"2.4.3\"}};\n",
       "    var render_items = [{\"docid\":\"8299b8c6-47b4-4770-8948-5d6a4cb53eb9\",\"root_ids\":[\"269885\"],\"roots\":{\"269885\":\"19d2ca35-b7e3-4532-967f-7c9fe89e2ee7\"}}];\n",
       "    root.Bokeh.embed.embed_items_notebook(docs_json, render_items);\n",
       "  }\n",
       "  if (root.Bokeh !== undefined && root.Bokeh.Panel !== undefined) {\n",
       "    embed_document(root);\n",
       "  } else {\n",
       "    var attempts = 0;\n",
       "    var timer = setInterval(function(root) {\n",
       "      if (root.Bokeh !== undefined && root.Bokeh.Panel !== undefined) {\n",
       "        clearInterval(timer);\n",
       "        embed_document(root);\n",
       "      } else if (document.readyState == \"complete\") {\n",
       "        attempts++;\n",
       "        if (attempts > 200) {\n",
       "          clearInterval(timer);\n",
       "          console.log(\"Bokeh: ERROR: Unable to run BokehJS code because BokehJS library is missing\");\n",
       "        }\n",
       "      }\n",
       "    }, 25, root)\n",
       "  }\n",
       "})(window);</script>"
      ],
      "text/plain": [
       "Tabs\n",
       "    [0] HoloViews(Bars, name='feature_correlation')"
      ]
     },
     "execution_count": 324,
     "metadata": {
      "application/vnd.holoviews_exec.v0+json": {
       "id": "269885"
      }
     },
     "output_type": "execute_result"
    }
   ],
   "source": [
    "out = eda.get_target_correlation(train_X, train_y, y_continuous=True)\n",
    "display_as_tabs([(k, v) for k,v in out.items()])"
   ]
  },
  {
   "cell_type": "code",
   "execution_count": 325,
   "metadata": {},
   "outputs": [
    {
     "data": {
      "text/plain": [
       "0        197100.0\n",
       "1        366700.0\n",
       "2        189800.0\n",
       "3        229400.0\n",
       "4        133600.0\n",
       "           ...   \n",
       "16507    175000.0\n",
       "16508     83000.0\n",
       "16509    247000.0\n",
       "16510    316700.0\n",
       "16511    253800.0\n",
       "Name: median_house_value, Length: 16512, dtype: float64"
      ]
     },
     "execution_count": 325,
     "metadata": {},
     "output_type": "execute_result"
    }
   ],
   "source": [
    "train_y['median_house_value']"
   ]
  },
  {
   "cell_type": "code",
   "execution_count": 326,
   "metadata": {},
   "outputs": [
    {
     "data": {},
     "metadata": {},
     "output_type": "display_data"
    },
    {
     "data": {},
     "metadata": {},
     "output_type": "display_data"
    },
    {
     "data": {
      "application/vnd.holoviews_exec.v0+json": "",
      "text/html": [
       "<div id='270025'>\n",
       "  <div class=\"bk-root\" id=\"e343039a-9549-41de-8845-171e84bfaffe\" data-root-id=\"270025\"></div>\n",
       "</div>\n",
       "<script type=\"application/javascript\">(function(root) {\n",
       "  function embed_document(root) {\n",
       "    var docs_json = {\"4a4af1df-4359-4bfc-acee-19cd72305486\":{\"defs\":[{\"extends\":null,\"module\":null,\"name\":\"ReactiveHTML1\",\"overrides\":[],\"properties\":[]},{\"extends\":null,\"module\":null,\"name\":\"FlexBox1\",\"overrides\":[],\"properties\":[{\"default\":\"flex-start\",\"kind\":null,\"name\":\"align_content\"},{\"default\":\"flex-start\",\"kind\":null,\"name\":\"align_items\"},{\"default\":\"row\",\"kind\":null,\"name\":\"flex_direction\"},{\"default\":\"wrap\",\"kind\":null,\"name\":\"flex_wrap\"},{\"default\":\"flex-start\",\"kind\":null,\"name\":\"justify_content\"}]},{\"extends\":null,\"module\":null,\"name\":\"GridStack1\",\"overrides\":[],\"properties\":[{\"default\":\"warn\",\"kind\":null,\"name\":\"mode\"},{\"default\":null,\"kind\":null,\"name\":\"ncols\"},{\"default\":null,\"kind\":null,\"name\":\"nrows\"},{\"default\":true,\"kind\":null,\"name\":\"allow_resize\"},{\"default\":true,\"kind\":null,\"name\":\"allow_drag\"},{\"default\":[],\"kind\":null,\"name\":\"state\"}]},{\"extends\":null,\"module\":null,\"name\":\"click1\",\"overrides\":[],\"properties\":[{\"default\":\"\",\"kind\":null,\"name\":\"terminal_output\"},{\"default\":\"\",\"kind\":null,\"name\":\"debug_name\"},{\"default\":0,\"kind\":null,\"name\":\"clears\"}]},{\"extends\":null,\"module\":null,\"name\":\"NotificationAreaBase1\",\"overrides\":[],\"properties\":[{\"default\":\"bottom-right\",\"kind\":null,\"name\":\"position\"},{\"default\":0,\"kind\":null,\"name\":\"_clear\"}]},{\"extends\":null,\"module\":null,\"name\":\"NotificationArea1\",\"overrides\":[],\"properties\":[{\"default\":[],\"kind\":null,\"name\":\"notifications\"},{\"default\":\"bottom-right\",\"kind\":null,\"name\":\"position\"},{\"default\":0,\"kind\":null,\"name\":\"_clear\"},{\"default\":[{\"background\":\"#ffc107\",\"icon\":{\"className\":\"fas fa-exclamation-triangle\",\"color\":\"white\",\"tagName\":\"i\"},\"type\":\"warning\"},{\"background\":\"#007bff\",\"icon\":{\"className\":\"fas fa-info-circle\",\"color\":\"white\",\"tagName\":\"i\"},\"type\":\"info\"}],\"kind\":null,\"name\":\"types\"}]},{\"extends\":null,\"module\":null,\"name\":\"Notification\",\"overrides\":[],\"properties\":[{\"default\":null,\"kind\":null,\"name\":\"background\"},{\"default\":3000,\"kind\":null,\"name\":\"duration\"},{\"default\":null,\"kind\":null,\"name\":\"icon\"},{\"default\":\"\",\"kind\":null,\"name\":\"message\"},{\"default\":null,\"kind\":null,\"name\":\"notification_type\"},{\"default\":false,\"kind\":null,\"name\":\"_destroyed\"}]},{\"extends\":null,\"module\":null,\"name\":\"TemplateActions1\",\"overrides\":[],\"properties\":[{\"default\":0,\"kind\":null,\"name\":\"open_modal\"},{\"default\":0,\"kind\":null,\"name\":\"close_modal\"}]},{\"extends\":null,\"module\":null,\"name\":\"MaterialTemplateActions1\",\"overrides\":[],\"properties\":[{\"default\":0,\"kind\":null,\"name\":\"open_modal\"},{\"default\":0,\"kind\":null,\"name\":\"close_modal\"}]}],\"roots\":{\"references\":[{\"attributes\":{},\"id\":\"270039\",\"type\":\"BasicTicker\"},{\"attributes\":{\"fill_color\":{\"value\":\"#30a2da\"},\"hatch_color\":{\"value\":\"#30a2da\"},\"height\":{\"value\":0.8},\"right\":{\"field\":\"importance\"},\"y\":{\"field\":\"index\"}},\"id\":\"270061\",\"type\":\"HBar\"},{\"attributes\":{\"tools\":[{\"id\":\"270028\"},{\"id\":\"270045\"},{\"id\":\"270046\"},{\"id\":\"270047\"},{\"id\":\"270048\"},{\"id\":\"270049\"}]},\"id\":\"270051\",\"type\":\"Toolbar\"},{\"attributes\":{\"axis_label\":\"Feature Importance [determined by coeff * mean(x)]\",\"coordinates\":null,\"formatter\":{\"id\":\"270068\"},\"group\":null,\"major_label_policy\":{\"id\":\"270069\"},\"ticker\":{\"id\":\"270039\"}},\"id\":\"270038\",\"type\":\"LinearAxis\"},{\"attributes\":{\"fill_alpha\":{\"value\":0.1},\"fill_color\":{\"value\":\"#30a2da\"},\"hatch_alpha\":{\"value\":0.1},\"hatch_color\":{\"value\":\"#30a2da\"},\"height\":{\"value\":0.8},\"line_alpha\":{\"value\":0.1},\"right\":{\"field\":\"importance\"},\"y\":{\"field\":\"index\"}},\"id\":\"270062\",\"type\":\"HBar\"},{\"attributes\":{\"factors\":[\"latitude\",\"longitude\",\"population\",\"ocean_proximity_INLAND\",\"total_rooms\",\"ocean_proximity_NEAR BAY\",\"ocean_proximity_1H OCEAN\",\"ocean_proximity_ISLAND\",\"population_per_household\",\"ocean_proximity_NEAR OCEAN\",\"rooms_per_household\",\"bedrooms_per_room\",\"housing_median_age\",\"total_bedrooms\",\"households\",\"median_income\"],\"tags\":[[[\"index\",\"index\",null]]]},\"id\":\"270027\",\"type\":\"FactorRange\"},{\"attributes\":{\"coordinates\":null,\"group\":null,\"text\":\"Feature Importances from LassoCV\",\"text_color\":\"black\",\"text_font_size\":\"12pt\"},\"id\":\"270030\",\"type\":\"Title\"},{\"attributes\":{\"client_comm_id\":\"e280193c74f543c6a77172464db2badb\",\"comm_id\":\"1f7fd3fb125b45848a79742f9be46aba\",\"plot_id\":\"270025\"},\"id\":\"270116\",\"type\":\"panel.models.comm_manager.CommManager\"},{\"attributes\":{\"below\":[{\"id\":\"270038\"}],\"center\":[{\"id\":\"270041\"},{\"id\":\"270044\"}],\"height\":300,\"left\":[{\"id\":\"270042\"}],\"margin\":[5,5,5,5],\"min_border_bottom\":10,\"min_border_left\":10,\"min_border_right\":10,\"min_border_top\":10,\"renderers\":[{\"id\":\"270064\"}],\"sizing_mode\":\"fixed\",\"title\":{\"id\":\"270030\"},\"toolbar\":{\"id\":\"270051\"},\"width\":700,\"x_range\":{\"id\":\"270026\"},\"x_scale\":{\"id\":\"270034\"},\"y_range\":{\"id\":\"270027\"},\"y_scale\":{\"id\":\"270036\"}},\"id\":\"270029\",\"subtype\":\"Figure\",\"type\":\"Plot\"},{\"attributes\":{\"child\":{\"id\":\"270084\"},\"name\":\"shap_values\",\"title\":\"shap_values\"},\"id\":\"270085\",\"type\":\"Panel\"},{\"attributes\":{\"axis\":{\"id\":\"270038\"},\"coordinates\":null,\"grid_line_color\":null,\"group\":null,\"ticker\":null},\"id\":\"270041\",\"type\":\"Grid\"},{\"attributes\":{\"fill_alpha\":{\"value\":1.0},\"fill_color\":{\"value\":\"#30a2da\"},\"hatch_alpha\":{\"value\":1.0},\"hatch_color\":{\"value\":\"#30a2da\"},\"hatch_scale\":{\"value\":12.0},\"hatch_weight\":{\"value\":1.0},\"height\":{\"value\":0.8},\"left\":{\"value\":0},\"line_alpha\":{\"value\":1.0},\"line_cap\":{\"value\":\"butt\"},\"line_color\":{\"value\":\"black\"},\"line_dash\":{\"value\":[]},\"line_dash_offset\":{\"value\":0},\"line_join\":{\"value\":\"bevel\"},\"line_width\":{\"value\":1},\"right\":{\"field\":\"importance\"},\"y\":{\"field\":\"index\"}},\"id\":\"270066\",\"type\":\"HBar\"},{\"attributes\":{},\"id\":\"270036\",\"type\":\"CategoricalScale\"},{\"attributes\":{},\"id\":\"270047\",\"type\":\"WheelZoomTool\"},{\"attributes\":{},\"id\":\"270049\",\"type\":\"ResetTool\"},{\"attributes\":{},\"id\":\"270046\",\"type\":\"PanTool\"},{\"attributes\":{\"coordinates\":null,\"data_source\":{\"id\":\"270058\"},\"glyph\":{\"id\":\"270061\"},\"group\":null,\"hover_glyph\":null,\"muted_glyph\":{\"id\":\"270063\"},\"nonselection_glyph\":{\"id\":\"270062\"},\"selection_glyph\":{\"id\":\"270066\"},\"view\":{\"id\":\"270065\"}},\"id\":\"270064\",\"type\":\"GlyphRenderer\"},{\"attributes\":{},\"id\":\"270045\",\"type\":\"SaveTool\"},{\"attributes\":{\"fill_alpha\":{\"value\":0.2},\"fill_color\":{\"value\":\"#30a2da\"},\"hatch_alpha\":{\"value\":0.2},\"hatch_color\":{\"value\":\"#30a2da\"},\"height\":{\"value\":0.8},\"line_alpha\":{\"value\":0.2},\"right\":{\"field\":\"importance\"},\"y\":{\"field\":\"index\"}},\"id\":\"270063\",\"type\":\"HBar\"},{\"attributes\":{},\"id\":\"270068\",\"type\":\"BasicTickFormatter\"},{\"attributes\":{\"end\":91.26375845846147,\"reset_end\":91.26375845846147,\"reset_start\":-74.13042620170748,\"start\":-74.13042620170748,\"tags\":[[[\"importance\",\"importance\",null]]]},\"id\":\"270026\",\"type\":\"Range1d\"},{\"attributes\":{\"margin\":[0,0,0,0],\"tabs\":[{\"id\":\"270083\"},{\"id\":\"270085\"}]},\"id\":\"270025\",\"type\":\"panel.models.tabs.Tabs\"},{\"attributes\":{\"height\":790,\"margin\":[5,5,5,5],\"name\":\"shap_values\",\"text\":\"&lt;img src=&quot;data:image/png;base64,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&quot; width=&quot;800px&quot; height=&quot;790px&quot; alt=&quot;&quot;&gt;&lt;/img&gt;\",\"width\":800},\"id\":\"270084\",\"type\":\"panel.models.markup.HTML\"},{\"attributes\":{\"axis\":{\"id\":\"270042\"},\"coordinates\":null,\"dimension\":1,\"grid_line_color\":null,\"group\":null,\"ticker\":null},\"id\":\"270044\",\"type\":\"Grid\"},{\"attributes\":{},\"id\":\"270059\",\"type\":\"Selection\"},{\"attributes\":{\"child\":{\"id\":\"270029\"},\"name\":\"from_model\",\"title\":\"from_model\"},\"id\":\"270083\",\"type\":\"Panel\"},{\"attributes\":{\"axis_label\":\"Features\",\"coordinates\":null,\"formatter\":{\"id\":\"270071\"},\"group\":null,\"major_label_policy\":{\"id\":\"270072\"},\"ticker\":{\"id\":\"270043\"}},\"id\":\"270042\",\"type\":\"CategoricalAxis\"},{\"attributes\":{},\"id\":\"270071\",\"type\":\"CategoricalTickFormatter\"},{\"attributes\":{\"source\":{\"id\":\"270058\"}},\"id\":\"270065\",\"type\":\"CDSView\"},{\"attributes\":{},\"id\":\"270034\",\"type\":\"LinearScale\"},{\"attributes\":{\"overlay\":{\"id\":\"270050\"}},\"id\":\"270048\",\"type\":\"BoxZoomTool\"},{\"attributes\":{},\"id\":\"270072\",\"type\":\"AllLabels\"},{\"attributes\":{\"data\":{\"importance\":{\"__ndarray__\":\"PMU6a30sTsBI2Pq2aCBNwCSna/cx0kbAeXe2AjhPK8AxvqPey8omwNygXjLSFOO/AAAAAAAAAAAAAAAAAAAAAIN8qq1vcrw/hGGCEKYR6j9eHjlg0ksJQBYPwDp08h9A8nShnCmELkC8H9TG5/QyQAWKwwe7P0VARvOhOcdeU0A=\",\"dtype\":\"float64\",\"order\":\"little\",\"shape\":[16]},\"index\":[\"latitude\",\"longitude\",\"population\",\"ocean_proximity_INLAND\",\"total_rooms\",\"ocean_proximity_NEAR BAY\",\"ocean_proximity_1H OCEAN\",\"ocean_proximity_ISLAND\",\"population_per_household\",\"ocean_proximity_NEAR OCEAN\",\"rooms_per_household\",\"bedrooms_per_room\",\"housing_median_age\",\"total_bedrooms\",\"households\",\"median_income\"]},\"selected\":{\"id\":\"270059\"},\"selection_policy\":{\"id\":\"270080\"}},\"id\":\"270058\",\"type\":\"ColumnDataSource\"},{\"attributes\":{},\"id\":\"270043\",\"type\":\"CategoricalTicker\"},{\"attributes\":{\"bottom_units\":\"screen\",\"coordinates\":null,\"fill_alpha\":0.5,\"fill_color\":\"lightgrey\",\"group\":null,\"left_units\":\"screen\",\"level\":\"overlay\",\"line_alpha\":1.0,\"line_color\":\"black\",\"line_dash\":[4,4],\"line_width\":2,\"right_units\":\"screen\",\"syncable\":false,\"top_units\":\"screen\"},\"id\":\"270050\",\"type\":\"BoxAnnotation\"},{\"attributes\":{\"callback\":null,\"renderers\":[{\"id\":\"270064\"}],\"tags\":[\"hv_created\"],\"tooltips\":[[\"index\",\"@{index}\"],[\"importance\",\"@{importance}\"]]},\"id\":\"270028\",\"type\":\"HoverTool\"},{\"attributes\":{},\"id\":\"270069\",\"type\":\"AllLabels\"},{\"attributes\":{},\"id\":\"270080\",\"type\":\"UnionRenderers\"}],\"root_ids\":[\"270025\",\"270116\"]},\"title\":\"Bokeh Application\",\"version\":\"2.4.3\"}};\n",
       "    var render_items = [{\"docid\":\"4a4af1df-4359-4bfc-acee-19cd72305486\",\"root_ids\":[\"270025\"],\"roots\":{\"270025\":\"e343039a-9549-41de-8845-171e84bfaffe\"}}];\n",
       "    root.Bokeh.embed.embed_items_notebook(docs_json, render_items);\n",
       "  }\n",
       "  if (root.Bokeh !== undefined && root.Bokeh.Panel !== undefined) {\n",
       "    embed_document(root);\n",
       "  } else {\n",
       "    var attempts = 0;\n",
       "    var timer = setInterval(function(root) {\n",
       "      if (root.Bokeh !== undefined && root.Bokeh.Panel !== undefined) {\n",
       "        clearInterval(timer);\n",
       "        embed_document(root);\n",
       "      } else if (document.readyState == \"complete\") {\n",
       "        attempts++;\n",
       "        if (attempts > 200) {\n",
       "          clearInterval(timer);\n",
       "          console.log(\"Bokeh: ERROR: Unable to run BokehJS code because BokehJS library is missing\");\n",
       "        }\n",
       "      }\n",
       "    }, 25, root)\n",
       "  }\n",
       "})(window);</script>"
      ],
      "text/plain": [
       "Tabs\n",
       "    [0] HoloViews(Bars, name='from_model')\n",
       "    [1] Matplotlib(Figure, name='shap_values')"
      ]
     },
     "execution_count": 326,
     "metadata": {
      "application/vnd.holoviews_exec.v0+json": {
       "id": "270025"
      }
     },
     "output_type": "execute_result"
    }
   ],
   "source": [
    "out = eda.get_feature_importances(train_X, train_y, y_continuous=True)\n",
    "display_as_tabs([(k, v) for k,v in out.items()])"
   ]
  },
  {
   "cell_type": "markdown",
   "metadata": {},
   "source": [
    "Key drivers report like feature importance, bivariate plots can be obtained as below"
   ]
  },
  {
   "cell_type": "code",
   "execution_count": 327,
   "metadata": {},
   "outputs": [],
   "source": [
    "reports.key_drivers(train_X,train_y, './key_drivers_report.html', y_continuous=True, quick=False)"
   ]
  },
  {
   "attachments": {},
   "cell_type": "markdown",
   "metadata": {},
   "source": [
    "**Dev Notes**\n",
    "<details>\n",
    "    \n",
    "- The SHAP plots and bivariate plots in key drivers reports can be obtained by including quick=False as a parameter to key_drivers function call. \n",
    "- SHAP plots and bivariate plots often take long depending on data shape."
   ]
  },
  {
   "cell_type": "code",
   "execution_count": 328,
   "metadata": {},
   "outputs": [
    {
     "name": "stderr",
     "output_type": "stream",
     "text": [
      "p-value may not be accurate for N > 5000.\n"
     ]
    }
   ],
   "source": [
    "reports.data_exploration(train_X,train_y,'./data_exploration_report.html', y_continuous=True)"
   ]
  },
  {
   "cell_type": "code",
   "execution_count": 329,
   "metadata": {},
   "outputs": [],
   "source": [
    "# saving the list of relevant columns\n",
    "save_pipeline(curated_columns, op.abspath(op.join(artifacts_folder, 'curated_columns.joblib')))\n",
    "\n",
    "# save the feature pipeline\n",
    "save_pipeline(features_transformer, op.abspath(op.join(artifacts_folder, 'features.joblib')))"
   ]
  },
  {
   "cell_type": "markdown",
   "metadata": {},
   "source": [
    "# 4 Modelling"
   ]
  },
  {
   "cell_type": "markdown",
   "metadata": {},
   "source": [
    "## 4.1 Modelling - Linear Regression"
   ]
  },
  {
   "cell_type": "markdown",
   "metadata": {},
   "source": [
    "### 4.1.1 Feature Selection(Specific to Regression)\n",
    "\n",
    "- Selecting Features specific to regression\n",
    "- VIF : measure of the amount of multi-collinearity in a set of multiple regressor variables. \n",
    "- On a case to case basis VIF thresholds change. Generally 5 or 10 are acceptable levels.\n",
    "- Usually on a recursive basis when removing the most collinear variable, there can be shuffle in VIF. \n",
    "- Often this section will not be part of the production code."
   ]
  },
  {
   "cell_type": "code",
   "execution_count": 330,
   "metadata": {},
   "outputs": [],
   "source": [
    "cols = list(train_X.columns)\n",
    "vif = eda.calc_vif(train_X)\n",
    "while max(vif.VIF) > 15:\n",
    "    #removing the largest variable from VIF\n",
    "    cols.remove(vif[(vif.VIF==vif.VIF.max())].variables.tolist()[0])\n",
    "    vif = eda.calc_vif(train_X[cols])"
   ]
  },
  {
   "cell_type": "code",
   "execution_count": 331,
   "metadata": {},
   "outputs": [],
   "source": [
    "reg_vars = vif.query('VIF < 15').variables\n",
    "reg_vars = list(reg_vars)"
   ]
  },
  {
   "cell_type": "markdown",
   "metadata": {},
   "source": [
    "### 4.1.2 Data transformations"
   ]
  },
  {
   "cell_type": "code",
   "execution_count": 332,
   "metadata": {},
   "outputs": [],
   "source": [
    "# Custom Transformations like these can be utilised\n",
    "def _custom_data_transform(df, cols2keep=None):\n",
    "    \"\"\"Transformation to drop some columns in the data\n",
    "    \n",
    "    Parameters\n",
    "    ----------\n",
    "        df - pd.DataFrame\n",
    "        cols2keep - columns to keep in the dataframe\n",
    "    \"\"\"\n",
    "    cols2keep = cols2keep or []\n",
    "    if len(cols2keep):\n",
    "        return (df\n",
    "                .select_columns(cols2keep))\n",
    "    else:\n",
    "        return df"
   ]
  },
  {
   "cell_type": "markdown",
   "metadata": {},
   "source": [
    "### 4.1.3 Model training pipeline\n",
    "\n",
    "- Here we focus on creating a collection of pipelines that can be used for training respective models.\n",
    "- Each model pipeline will essentially be of the form\n",
    "```\n",
    "[\n",
    "('preprocessing', preprocessing_pipeline),\n",
    "('feature_selection', feature_selection_pipeline),\n",
    "('estimator', estimator),\n",
    "]\n",
    "```"
   ]
  },
  {
   "cell_type": "markdown",
   "metadata": {},
   "source": [
    "### 4.1.4 Model Pipeline Build\n",
    "\n",
    "- This will be part of the production code (training only)."
   ]
  },
  {
   "cell_type": "code",
   "execution_count": 333,
   "metadata": {},
   "outputs": [
    {
     "data": {
      "text/html": [
       "<style>#sk-container-id-10 {color: black;background-color: white;}#sk-container-id-10 pre{padding: 0;}#sk-container-id-10 div.sk-toggleable {background-color: white;}#sk-container-id-10 label.sk-toggleable__label {cursor: pointer;display: block;width: 100%;margin-bottom: 0;padding: 0.3em;box-sizing: border-box;text-align: center;}#sk-container-id-10 label.sk-toggleable__label-arrow:before {content: \"▸\";float: left;margin-right: 0.25em;color: #696969;}#sk-container-id-10 label.sk-toggleable__label-arrow:hover:before {color: black;}#sk-container-id-10 div.sk-estimator:hover label.sk-toggleable__label-arrow:before {color: black;}#sk-container-id-10 div.sk-toggleable__content {max-height: 0;max-width: 0;overflow: hidden;text-align: left;background-color: #f0f8ff;}#sk-container-id-10 div.sk-toggleable__content pre {margin: 0.2em;color: black;border-radius: 0.25em;background-color: #f0f8ff;}#sk-container-id-10 input.sk-toggleable__control:checked~div.sk-toggleable__content {max-height: 200px;max-width: 100%;overflow: auto;}#sk-container-id-10 input.sk-toggleable__control:checked~label.sk-toggleable__label-arrow:before {content: \"▾\";}#sk-container-id-10 div.sk-estimator input.sk-toggleable__control:checked~label.sk-toggleable__label {background-color: #d4ebff;}#sk-container-id-10 div.sk-label input.sk-toggleable__control:checked~label.sk-toggleable__label {background-color: #d4ebff;}#sk-container-id-10 input.sk-hidden--visually {border: 0;clip: rect(1px 1px 1px 1px);clip: rect(1px, 1px, 1px, 1px);height: 1px;margin: -1px;overflow: hidden;padding: 0;position: absolute;width: 1px;}#sk-container-id-10 div.sk-estimator {font-family: monospace;background-color: #f0f8ff;border: 1px dotted black;border-radius: 0.25em;box-sizing: border-box;margin-bottom: 0.5em;}#sk-container-id-10 div.sk-estimator:hover {background-color: #d4ebff;}#sk-container-id-10 div.sk-parallel-item::after {content: \"\";width: 100%;border-bottom: 1px solid gray;flex-grow: 1;}#sk-container-id-10 div.sk-label:hover label.sk-toggleable__label {background-color: #d4ebff;}#sk-container-id-10 div.sk-serial::before {content: \"\";position: absolute;border-left: 1px solid gray;box-sizing: border-box;top: 0;bottom: 0;left: 50%;z-index: 0;}#sk-container-id-10 div.sk-serial {display: flex;flex-direction: column;align-items: center;background-color: white;padding-right: 0.2em;padding-left: 0.2em;position: relative;}#sk-container-id-10 div.sk-item {position: relative;z-index: 1;}#sk-container-id-10 div.sk-parallel {display: flex;align-items: stretch;justify-content: center;background-color: white;position: relative;}#sk-container-id-10 div.sk-item::before, #sk-container-id-10 div.sk-parallel-item::before {content: \"\";position: absolute;border-left: 1px solid gray;box-sizing: border-box;top: 0;bottom: 0;left: 50%;z-index: -1;}#sk-container-id-10 div.sk-parallel-item {display: flex;flex-direction: column;z-index: 1;position: relative;background-color: white;}#sk-container-id-10 div.sk-parallel-item:first-child::after {align-self: flex-end;width: 50%;}#sk-container-id-10 div.sk-parallel-item:last-child::after {align-self: flex-start;width: 50%;}#sk-container-id-10 div.sk-parallel-item:only-child::after {width: 0;}#sk-container-id-10 div.sk-dashed-wrapped {border: 1px dashed gray;margin: 0 0.4em 0.5em 0.4em;box-sizing: border-box;padding-bottom: 0.4em;background-color: white;}#sk-container-id-10 div.sk-label label {font-family: monospace;font-weight: bold;display: inline-block;line-height: 1.2em;}#sk-container-id-10 div.sk-label-container {text-align: center;}#sk-container-id-10 div.sk-container {/* jupyter's `normalize.less` sets `[hidden] { display: none; }` but bootstrap.min.css set `[hidden] { display: none !important; }` so we also need the `!important` here to be able to override the default hidden behavior on the sphinx rendered scikit-learn.org. See: https://github.com/scikit-learn/scikit-learn/issues/21755 */display: inline-block !important;position: relative;}#sk-container-id-10 div.sk-text-repr-fallback {display: none;}</style><div id=\"sk-container-id-10\" class=\"sk-top-container\"><div class=\"sk-text-repr-fallback\"><pre>Pipeline(steps=[(&#x27;&#x27;,\n",
       "                 FunctionTransformer(func=&lt;function _custom_data_transform at 0x7f1a25caaee0&gt;,\n",
       "                                     kw_args={&#x27;cols2keep&#x27;: [&#x27;bedrooms_per_room&#x27;,\n",
       "                                                            &#x27;ocean_proximity_1H &#x27;\n",
       "                                                            &#x27;OCEAN&#x27;,\n",
       "                                                            &#x27;ocean_proximity_INLAND&#x27;,\n",
       "                                                            &#x27;median_income&#x27;,\n",
       "                                                            &#x27;rooms_per_household&#x27;,\n",
       "                                                            &#x27;ocean_proximity_NEAR &#x27;\n",
       "                                                            &#x27;OCEAN&#x27;,\n",
       "                                                            &#x27;population_per_household&#x27;,\n",
       "                                                            &#x27;total_rooms&#x27;,\n",
       "                                                            &#x27;population&#x27;,\n",
       "                                                            &#x27;longitude&#x27;,\n",
       "                                                            &#x27;ocean_proximity_NEAR &#x27;\n",
       "                                                            &#x27;BAY&#x27;,\n",
       "                                                            &#x27;ocean_proximity_ISLAND&#x27;,\n",
       "                                                            &#x27;housing_median_age&#x27;]})),\n",
       "                (&#x27;estimator&#x27;, SKLStatsmodelOLS())])</pre><b>In a Jupyter environment, please rerun this cell to show the HTML representation or trust the notebook. <br />On GitHub, the HTML representation is unable to render, please try loading this page with nbviewer.org.</b></div><div class=\"sk-container\" hidden><div class=\"sk-item sk-dashed-wrapped\"><div class=\"sk-label-container\"><div class=\"sk-label sk-toggleable\"><input class=\"sk-toggleable__control sk-hidden--visually\" id=\"sk-estimator-id-25\" type=\"checkbox\" ><label for=\"sk-estimator-id-25\" class=\"sk-toggleable__label sk-toggleable__label-arrow\">Pipeline</label><div class=\"sk-toggleable__content\"><pre>Pipeline(steps=[(&#x27;&#x27;,\n",
       "                 FunctionTransformer(func=&lt;function _custom_data_transform at 0x7f1a25caaee0&gt;,\n",
       "                                     kw_args={&#x27;cols2keep&#x27;: [&#x27;bedrooms_per_room&#x27;,\n",
       "                                                            &#x27;ocean_proximity_1H &#x27;\n",
       "                                                            &#x27;OCEAN&#x27;,\n",
       "                                                            &#x27;ocean_proximity_INLAND&#x27;,\n",
       "                                                            &#x27;median_income&#x27;,\n",
       "                                                            &#x27;rooms_per_household&#x27;,\n",
       "                                                            &#x27;ocean_proximity_NEAR &#x27;\n",
       "                                                            &#x27;OCEAN&#x27;,\n",
       "                                                            &#x27;population_per_household&#x27;,\n",
       "                                                            &#x27;total_rooms&#x27;,\n",
       "                                                            &#x27;population&#x27;,\n",
       "                                                            &#x27;longitude&#x27;,\n",
       "                                                            &#x27;ocean_proximity_NEAR &#x27;\n",
       "                                                            &#x27;BAY&#x27;,\n",
       "                                                            &#x27;ocean_proximity_ISLAND&#x27;,\n",
       "                                                            &#x27;housing_median_age&#x27;]})),\n",
       "                (&#x27;estimator&#x27;, SKLStatsmodelOLS())])</pre></div></div></div><div class=\"sk-serial\"><div class=\"sk-item\"><div class=\"sk-estimator sk-toggleable\"><input class=\"sk-toggleable__control sk-hidden--visually\" id=\"sk-estimator-id-26\" type=\"checkbox\" ><label for=\"sk-estimator-id-26\" class=\"sk-toggleable__label sk-toggleable__label-arrow\">FunctionTransformer</label><div class=\"sk-toggleable__content\"><pre>FunctionTransformer(func=&lt;function _custom_data_transform at 0x7f1a25caaee0&gt;,\n",
       "                    kw_args={&#x27;cols2keep&#x27;: [&#x27;bedrooms_per_room&#x27;,\n",
       "                                           &#x27;ocean_proximity_1H OCEAN&#x27;,\n",
       "                                           &#x27;ocean_proximity_INLAND&#x27;,\n",
       "                                           &#x27;median_income&#x27;,\n",
       "                                           &#x27;rooms_per_household&#x27;,\n",
       "                                           &#x27;ocean_proximity_NEAR OCEAN&#x27;,\n",
       "                                           &#x27;population_per_household&#x27;,\n",
       "                                           &#x27;total_rooms&#x27;, &#x27;population&#x27;,\n",
       "                                           &#x27;longitude&#x27;,\n",
       "                                           &#x27;ocean_proximity_NEAR BAY&#x27;,\n",
       "                                           &#x27;ocean_proximity_ISLAND&#x27;,\n",
       "                                           &#x27;housing_median_age&#x27;]})</pre></div></div></div><div class=\"sk-item\"><div class=\"sk-estimator sk-toggleable\"><input class=\"sk-toggleable__control sk-hidden--visually\" id=\"sk-estimator-id-27\" type=\"checkbox\" ><label for=\"sk-estimator-id-27\" class=\"sk-toggleable__label sk-toggleable__label-arrow\">SKLStatsmodelOLS</label><div class=\"sk-toggleable__content\"><pre>SKLStatsmodelOLS()</pre></div></div></div></div></div></div></div>"
      ],
      "text/plain": [
       "Pipeline(steps=[('',\n",
       "                 FunctionTransformer(func=<function _custom_data_transform at 0x7f1a25caaee0>,\n",
       "                                     kw_args={'cols2keep': ['bedrooms_per_room',\n",
       "                                                            'ocean_proximity_1H '\n",
       "                                                            'OCEAN',\n",
       "                                                            'ocean_proximity_INLAND',\n",
       "                                                            'median_income',\n",
       "                                                            'rooms_per_household',\n",
       "                                                            'ocean_proximity_NEAR '\n",
       "                                                            'OCEAN',\n",
       "                                                            'population_per_household',\n",
       "                                                            'total_rooms',\n",
       "                                                            'population',\n",
       "                                                            'longitude',\n",
       "                                                            'ocean_proximity_NEAR '\n",
       "                                                            'BAY',\n",
       "                                                            'ocean_proximity_ISLAND',\n",
       "                                                            'housing_median_age']})),\n",
       "                ('estimator', SKLStatsmodelOLS())])"
      ]
     },
     "execution_count": 333,
     "metadata": {},
     "output_type": "execute_result"
    }
   ],
   "source": [
    "reg_ppln_ols = Pipeline([\n",
    "    ('',FunctionTransformer(_custom_data_transform, kw_args={'cols2keep':reg_vars})),\n",
    "    ('estimator', SKLStatsmodelOLS())\n",
    "])\n",
    "reg_ppln_ols.fit(train_X, train_y.values.ravel())\n"
   ]
  },
  {
   "cell_type": "code",
   "execution_count": 334,
   "metadata": {},
   "outputs": [
    {
     "data": {
      "text/html": [
       "<table class=\"simpletable\">\n",
       "<caption>OLS Regression Results</caption>\n",
       "<tr>\n",
       "  <th>Dep. Variable:</th>            <td>y</td>        <th>  R-squared:         </th>  <td>   0.641</td>  \n",
       "</tr>\n",
       "<tr>\n",
       "  <th>Model:</th>                   <td>OLS</td>       <th>  Adj. R-squared:    </th>  <td>   0.641</td>  \n",
       "</tr>\n",
       "<tr>\n",
       "  <th>Method:</th>             <td>Least Squares</td>  <th>  F-statistic:       </th>  <td>   2455.</td>  \n",
       "</tr>\n",
       "<tr>\n",
       "  <th>Date:</th>             <td>Mon, 24 Apr 2023</td> <th>  Prob (F-statistic):</th>   <td>  0.00</td>   \n",
       "</tr>\n",
       "<tr>\n",
       "  <th>Time:</th>                 <td>17:49:19</td>     <th>  Log-Likelihood:    </th> <td>-2.0744e+05</td>\n",
       "</tr>\n",
       "<tr>\n",
       "  <th>No. Observations:</th>      <td> 16512</td>      <th>  AIC:               </th>  <td>4.149e+05</td> \n",
       "</tr>\n",
       "<tr>\n",
       "  <th>Df Residuals:</th>          <td> 16499</td>      <th>  BIC:               </th>  <td>4.150e+05</td> \n",
       "</tr>\n",
       "<tr>\n",
       "  <th>Df Model:</th>              <td>    12</td>      <th>                     </th>      <td> </td>     \n",
       "</tr>\n",
       "<tr>\n",
       "  <th>Covariance Type:</th>      <td>nonrobust</td>    <th>                     </th>      <td> </td>     \n",
       "</tr>\n",
       "</table>\n",
       "<table class=\"simpletable\">\n",
       "<tr>\n",
       "               <td></td>                 <th>coef</th>     <th>std err</th>      <th>t</th>      <th>P>|t|</th>  <th>[0.025</th>    <th>0.975]</th>  \n",
       "</tr>\n",
       "<tr>\n",
       "  <th>intercept</th>                  <td>  2.05e+05</td> <td> 5782.972</td> <td>   35.443</td> <td> 0.000</td> <td> 1.94e+05</td> <td> 2.16e+05</td>\n",
       "</tr>\n",
       "<tr>\n",
       "  <th>bedrooms_per_room</th>          <td> 1.892e+04</td> <td>  689.386</td> <td>   27.442</td> <td> 0.000</td> <td> 1.76e+04</td> <td> 2.03e+04</td>\n",
       "</tr>\n",
       "<tr>\n",
       "  <th>ocean_proximity_1H OCEAN</th>   <td> 2.223e+04</td> <td> 5832.070</td> <td>    3.812</td> <td> 0.000</td> <td> 1.08e+04</td> <td> 3.37e+04</td>\n",
       "</tr>\n",
       "<tr>\n",
       "  <th>ocean_proximity_INLAND</th>     <td>-4.685e+04</td> <td> 5855.580</td> <td>   -8.001</td> <td> 0.000</td> <td>-5.83e+04</td> <td>-3.54e+04</td>\n",
       "</tr>\n",
       "<tr>\n",
       "  <th>median_income</th>              <td> 7.701e+04</td> <td>  741.364</td> <td>  103.872</td> <td> 0.000</td> <td> 7.56e+04</td> <td> 7.85e+04</td>\n",
       "</tr>\n",
       "<tr>\n",
       "  <th>rooms_per_household</th>        <td>-1471.8784</td> <td>  617.671</td> <td>   -2.383</td> <td> 0.017</td> <td>-2682.581</td> <td> -261.176</td>\n",
       "</tr>\n",
       "<tr>\n",
       "  <th>ocean_proximity_NEAR OCEAN</th> <td> 3.649e+04</td> <td> 5911.259</td> <td>    6.173</td> <td> 0.000</td> <td> 2.49e+04</td> <td> 4.81e+04</td>\n",
       "</tr>\n",
       "<tr>\n",
       "  <th>population_per_household</th>   <td>-1046.5837</td> <td>  553.467</td> <td>   -1.891</td> <td> 0.059</td> <td>-2131.439</td> <td>   38.272</td>\n",
       "</tr>\n",
       "<tr>\n",
       "  <th>total_rooms</th>                <td> 3.706e+04</td> <td> 1249.720</td> <td>   29.654</td> <td> 0.000</td> <td> 3.46e+04</td> <td> 3.95e+04</td>\n",
       "</tr>\n",
       "<tr>\n",
       "  <th>population</th>                 <td>  -3.1e+04</td> <td> 1211.603</td> <td>  -25.590</td> <td> 0.000</td> <td>-3.34e+04</td> <td>-2.86e+04</td>\n",
       "</tr>\n",
       "<tr>\n",
       "  <th>longitude</th>                  <td>-4384.2270</td> <td>  631.608</td> <td>   -6.941</td> <td> 0.000</td> <td>-5622.247</td> <td>-3146.207</td>\n",
       "</tr>\n",
       "<tr>\n",
       "  <th>ocean_proximity_NEAR BAY</th>   <td> 2.045e+04</td> <td> 5994.335</td> <td>    3.412</td> <td> 0.001</td> <td> 8701.937</td> <td> 3.22e+04</td>\n",
       "</tr>\n",
       "<tr>\n",
       "  <th>ocean_proximity_ISLAND</th>     <td> 1.726e+05</td> <td> 2.88e+04</td> <td>    5.987</td> <td> 0.000</td> <td> 1.16e+05</td> <td> 2.29e+05</td>\n",
       "</tr>\n",
       "<tr>\n",
       "  <th>housing_median_age</th>         <td> 1.587e+04</td> <td>  624.020</td> <td>   25.435</td> <td> 0.000</td> <td> 1.46e+04</td> <td> 1.71e+04</td>\n",
       "</tr>\n",
       "</table>\n",
       "<table class=\"simpletable\">\n",
       "<tr>\n",
       "  <th>Omnibus:</th>       <td>3839.465</td> <th>  Durbin-Watson:     </th> <td>   2.008</td> \n",
       "</tr>\n",
       "<tr>\n",
       "  <th>Prob(Omnibus):</th>  <td> 0.000</td>  <th>  Jarque-Bera (JB):  </th> <td>24044.413</td>\n",
       "</tr>\n",
       "<tr>\n",
       "  <th>Skew:</th>           <td> 0.970</td>  <th>  Prob(JB):          </th> <td>    0.00</td> \n",
       "</tr>\n",
       "<tr>\n",
       "  <th>Kurtosis:</th>       <td> 8.584</td>  <th>  Cond. No.          </th> <td>1.77e+15</td> \n",
       "</tr>\n",
       "</table><br/><br/>Notes:<br/>[1] Standard Errors assume that the covariance matrix of the errors is correctly specified.<br/>[2] The smallest eigenvalue is 1.2e-26. This might indicate that there are<br/>strong multicollinearity problems or that the design matrix is singular."
      ],
      "text/plain": [
       "<class 'statsmodels.iolib.summary.Summary'>\n",
       "\"\"\"\n",
       "                            OLS Regression Results                            \n",
       "==============================================================================\n",
       "Dep. Variable:                      y   R-squared:                       0.641\n",
       "Model:                            OLS   Adj. R-squared:                  0.641\n",
       "Method:                 Least Squares   F-statistic:                     2455.\n",
       "Date:                Mon, 24 Apr 2023   Prob (F-statistic):               0.00\n",
       "Time:                        17:49:19   Log-Likelihood:            -2.0744e+05\n",
       "No. Observations:               16512   AIC:                         4.149e+05\n",
       "Df Residuals:                   16499   BIC:                         4.150e+05\n",
       "Df Model:                          12                                         \n",
       "Covariance Type:            nonrobust                                         \n",
       "==============================================================================================\n",
       "                                 coef    std err          t      P>|t|      [0.025      0.975]\n",
       "----------------------------------------------------------------------------------------------\n",
       "intercept                    2.05e+05   5782.972     35.443      0.000    1.94e+05    2.16e+05\n",
       "bedrooms_per_room           1.892e+04    689.386     27.442      0.000    1.76e+04    2.03e+04\n",
       "ocean_proximity_1H OCEAN    2.223e+04   5832.070      3.812      0.000    1.08e+04    3.37e+04\n",
       "ocean_proximity_INLAND     -4.685e+04   5855.580     -8.001      0.000   -5.83e+04   -3.54e+04\n",
       "median_income               7.701e+04    741.364    103.872      0.000    7.56e+04    7.85e+04\n",
       "rooms_per_household        -1471.8784    617.671     -2.383      0.017   -2682.581    -261.176\n",
       "ocean_proximity_NEAR OCEAN  3.649e+04   5911.259      6.173      0.000    2.49e+04    4.81e+04\n",
       "population_per_household   -1046.5837    553.467     -1.891      0.059   -2131.439      38.272\n",
       "total_rooms                 3.706e+04   1249.720     29.654      0.000    3.46e+04    3.95e+04\n",
       "population                   -3.1e+04   1211.603    -25.590      0.000   -3.34e+04   -2.86e+04\n",
       "longitude                  -4384.2270    631.608     -6.941      0.000   -5622.247   -3146.207\n",
       "ocean_proximity_NEAR BAY    2.045e+04   5994.335      3.412      0.001    8701.937    3.22e+04\n",
       "ocean_proximity_ISLAND      1.726e+05   2.88e+04      5.987      0.000    1.16e+05    2.29e+05\n",
       "housing_median_age          1.587e+04    624.020     25.435      0.000    1.46e+04    1.71e+04\n",
       "==============================================================================\n",
       "Omnibus:                     3839.465   Durbin-Watson:                   2.008\n",
       "Prob(Omnibus):                  0.000   Jarque-Bera (JB):            24044.413\n",
       "Skew:                           0.970   Prob(JB):                         0.00\n",
       "Kurtosis:                       8.584   Cond. No.                     1.77e+15\n",
       "==============================================================================\n",
       "\n",
       "Notes:\n",
       "[1] Standard Errors assume that the covariance matrix of the errors is correctly specified.\n",
       "[2] The smallest eigenvalue is 1.2e-26. This might indicate that there are\n",
       "strong multicollinearity problems or that the design matrix is singular.\n",
       "\"\"\""
      ]
     },
     "execution_count": 334,
     "metadata": {},
     "output_type": "execute_result"
    }
   ],
   "source": [
    "reg_ppln_ols['estimator'].summary()"
   ]
  },
  {
   "cell_type": "markdown",
   "metadata": {},
   "source": [
    "### 4.1.5 Model Evaluation(Linear Model)\n",
    "\n",
    "This will be part of the production code."
   ]
  },
  {
   "cell_type": "code",
   "execution_count": 340,
   "metadata": {},
   "outputs": [],
   "source": [
    "reg_ppln = Pipeline([\n",
    "    ('', FunctionTransformer(_custom_data_transform, kw_args={'cols2keep':reg_vars})),\n",
    "    ('Linear Regression', SKLStatsmodelOLS())\n",
    "])\n",
    "\n",
    "test_X = pd.DataFrame(\n",
    "    features_transformer.transform(test_X), \n",
    "    columns=all_columns\n",
    ")\n",
    "test_X = test_X[curated_columns]"
   ]
  },
  {
   "cell_type": "code",
   "execution_count": 341,
   "metadata": {},
   "outputs": [
    {
     "data": {
      "text/plain": [
       "array(['longitude', 'latitude', 'housing_median_age', 'total_rooms',\n",
       "       'total_bedrooms', 'population', 'households', 'median_income',\n",
       "       'rooms_per_household', 'population_per_household',\n",
       "       'bedrooms_per_room', 'ocean_proximity_1H OCEAN',\n",
       "       'ocean_proximity_INLAND', 'ocean_proximity_ISLAND',\n",
       "       'ocean_proximity_NEAR BAY', 'ocean_proximity_NEAR OCEAN'],\n",
       "      dtype=object)"
      ]
     },
     "execution_count": 341,
     "metadata": {},
     "output_type": "execute_result"
    }
   ],
   "source": [
    "all_columns"
   ]
  },
  {
   "cell_type": "code",
   "execution_count": 342,
   "metadata": {},
   "outputs": [],
   "source": [
    "reg_linear_report = RegressionReport(model=reg_ppln, x_train=train_X, y_train=train_y, x_test= test_X, y_test= test_y, refit=True)\n",
    "reg_linear_report.get_report(include_shap=False, file_path='regression_linear_model_report')"
   ]
  },
  {
   "cell_type": "markdown",
   "metadata": {},
   "source": [
    "**Dev Notes**\n",
    "Use SHAP for variable interpretability.\n",
    "<details>\n",
    "\n",
    "    1. Use SHAP=True to generate variable interpretability plots in the report\n",
    "    2. SHAP is recommended for non parameteric models such as RF, xgboost.\n",
    "    3. However, SHAP reports are time consuming depending on no.of records and model complexity.\n",
    "    \n",
    "A sample of regerssion report with SHAP can be found [here](https://drive.google.com/file/d/18RlQTsT1ze09Cgz-qpb4ha_cvyWbN5F5/view?usp=sharing).\n",
    "</details>"
   ]
  },
  {
   "cell_type": "markdown",
   "metadata": {},
   "source": [
    "### 4.1.6 Residual Analysis\n",
    "- After scoring the model, it is recommended to do a residual analysis to know the distribution of errors\n",
    "- we took a threshold of 30% above which it is marked as over prediction or underprediction\n",
    "- This will not be part of the production code."
   ]
  },
  {
   "cell_type": "code",
   "execution_count": 343,
   "metadata": {},
   "outputs": [],
   "source": [
    "threshold=0.3\n",
    "residual_analysis = test_X.copy()\n",
    "residual_analysis['prediction'] = reg_ppln_ols.predict(test_X)\n",
    "residual_analysis['actuals'] = test_y.reset_index(drop = True).iloc[:,0].values\n",
    "residual_analysis['forecast_flag'] = 'good'\n",
    "residual_analysis.loc[((residual_analysis['prediction'] > (1+threshold) * residual_analysis['actuals'])\\\n",
    "                       & (residual_analysis['actuals']>100)),'forecast_flag'] = 'over predict'\n",
    "residual_analysis.loc[((residual_analysis['prediction'] < (1-threshold) * residual_analysis['actuals'])\\\n",
    "                       & (residual_analysis['actuals']>100)),'forecast_flag'] = 'under predict'"
   ]
  },
  {
   "cell_type": "code",
   "execution_count": 344,
   "metadata": {},
   "outputs": [
    {
     "data": {
      "text/html": [
       "<div>\n",
       "<style scoped>\n",
       "    .dataframe tbody tr th:only-of-type {\n",
       "        vertical-align: middle;\n",
       "    }\n",
       "\n",
       "    .dataframe tbody tr th {\n",
       "        vertical-align: top;\n",
       "    }\n",
       "\n",
       "    .dataframe thead th {\n",
       "        text-align: right;\n",
       "    }\n",
       "</style>\n",
       "<table border=\"1\" class=\"dataframe\">\n",
       "  <thead>\n",
       "    <tr style=\"text-align: right;\">\n",
       "      <th></th>\n",
       "      <th>bedrooms_per_room</th>\n",
       "      <th>ocean_proximity_1H OCEAN</th>\n",
       "      <th>ocean_proximity_INLAND</th>\n",
       "      <th>median_income</th>\n",
       "      <th>rooms_per_household</th>\n",
       "      <th>ocean_proximity_NEAR OCEAN</th>\n",
       "      <th>latitude</th>\n",
       "      <th>households</th>\n",
       "      <th>total_bedrooms</th>\n",
       "      <th>population_per_household</th>\n",
       "      <th>total_rooms</th>\n",
       "      <th>population</th>\n",
       "      <th>longitude</th>\n",
       "      <th>ocean_proximity_NEAR BAY</th>\n",
       "      <th>ocean_proximity_ISLAND</th>\n",
       "      <th>housing_median_age</th>\n",
       "      <th>prediction</th>\n",
       "      <th>actuals</th>\n",
       "      <th>forecast_flag</th>\n",
       "    </tr>\n",
       "  </thead>\n",
       "  <tbody>\n",
       "    <tr>\n",
       "      <th>0</th>\n",
       "      <td>-0.214494</td>\n",
       "      <td>1.0</td>\n",
       "      <td>0.0</td>\n",
       "      <td>0.142367</td>\n",
       "      <td>-0.026724</td>\n",
       "      <td>0.0</td>\n",
       "      <td>-1.300938</td>\n",
       "      <td>0.562824</td>\n",
       "      <td>0.545851</td>\n",
       "      <td>0.226174</td>\n",
       "      <td>0.581851</td>\n",
       "      <td>2.097061</td>\n",
       "      <td>1.289437</td>\n",
       "      <td>0.0</td>\n",
       "      <td>0.0</td>\n",
       "      <td>-1.327004</td>\n",
       "      <td>163734.750652</td>\n",
       "      <td>134500.0</td>\n",
       "      <td>good</td>\n",
       "    </tr>\n",
       "    <tr>\n",
       "      <th>1</th>\n",
       "      <td>-0.569788</td>\n",
       "      <td>1.0</td>\n",
       "      <td>0.0</td>\n",
       "      <td>0.360786</td>\n",
       "      <td>0.132989</td>\n",
       "      <td>0.0</td>\n",
       "      <td>-0.780836</td>\n",
       "      <td>-0.477157</td>\n",
       "      <td>-0.523182</td>\n",
       "      <td>-0.023628</td>\n",
       "      <td>-0.357663</td>\n",
       "      <td>-0.467094</td>\n",
       "      <td>0.715510</td>\n",
       "      <td>0.0</td>\n",
       "      <td>0.0</td>\n",
       "      <td>0.580846</td>\n",
       "      <td>251341.702212</td>\n",
       "      <td>266000.0</td>\n",
       "      <td>good</td>\n",
       "    </tr>\n",
       "    <tr>\n",
       "      <th>2</th>\n",
       "      <td>-0.277384</td>\n",
       "      <td>1.0</td>\n",
       "      <td>0.0</td>\n",
       "      <td>-0.297706</td>\n",
       "      <td>-0.117784</td>\n",
       "      <td>0.0</td>\n",
       "      <td>-0.059252</td>\n",
       "      <td>-0.389183</td>\n",
       "      <td>-0.457086</td>\n",
       "      <td>-0.023004</td>\n",
       "      <td>-0.398986</td>\n",
       "      <td>-0.378114</td>\n",
       "      <td>-0.547128</td>\n",
       "      <td>0.0</td>\n",
       "      <td>0.0</td>\n",
       "      <td>-0.770548</td>\n",
       "      <td>186329.450664</td>\n",
       "      <td>163900.0</td>\n",
       "      <td>good</td>\n",
       "    </tr>\n",
       "    <tr>\n",
       "      <th>3</th>\n",
       "      <td>1.473676</td>\n",
       "      <td>0.0</td>\n",
       "      <td>1.0</td>\n",
       "      <td>-1.470647</td>\n",
       "      <td>-0.703364</td>\n",
       "      <td>0.0</td>\n",
       "      <td>1.383916</td>\n",
       "      <td>0.050689</td>\n",
       "      <td>0.123410</td>\n",
       "      <td>-0.181815</td>\n",
       "      <td>-0.420795</td>\n",
       "      <td>-0.680864</td>\n",
       "      <td>-0.956363</td>\n",
       "      <td>0.0</td>\n",
       "      <td>0.0</td>\n",
       "      <td>1.057808</td>\n",
       "      <td>100472.807677</td>\n",
       "      <td>137500.0</td>\n",
       "      <td>good</td>\n",
       "    </tr>\n",
       "    <tr>\n",
       "      <th>4</th>\n",
       "      <td>-0.465152</td>\n",
       "      <td>1.0</td>\n",
       "      <td>0.0</td>\n",
       "      <td>0.408215</td>\n",
       "      <td>0.125355</td>\n",
       "      <td>0.0</td>\n",
       "      <td>-0.668381</td>\n",
       "      <td>-0.131544</td>\n",
       "      <td>-0.155343</td>\n",
       "      <td>-0.001079</td>\n",
       "      <td>0.001614</td>\n",
       "      <td>-0.033043</td>\n",
       "      <td>0.495921</td>\n",
       "      <td>0.0</td>\n",
       "      <td>0.0</td>\n",
       "      <td>0.580846</td>\n",
       "      <td>257780.472374</td>\n",
       "      <td>201500.0</td>\n",
       "      <td>good</td>\n",
       "    </tr>\n",
       "  </tbody>\n",
       "</table>\n",
       "</div>"
      ],
      "text/plain": [
       "   bedrooms_per_room  ocean_proximity_1H OCEAN  ocean_proximity_INLAND  \\\n",
       "0          -0.214494                       1.0                     0.0   \n",
       "1          -0.569788                       1.0                     0.0   \n",
       "2          -0.277384                       1.0                     0.0   \n",
       "3           1.473676                       0.0                     1.0   \n",
       "4          -0.465152                       1.0                     0.0   \n",
       "\n",
       "   median_income  rooms_per_household  ocean_proximity_NEAR OCEAN  latitude  \\\n",
       "0       0.142367            -0.026724                         0.0 -1.300938   \n",
       "1       0.360786             0.132989                         0.0 -0.780836   \n",
       "2      -0.297706            -0.117784                         0.0 -0.059252   \n",
       "3      -1.470647            -0.703364                         0.0  1.383916   \n",
       "4       0.408215             0.125355                         0.0 -0.668381   \n",
       "\n",
       "   households  total_bedrooms  population_per_household  total_rooms  \\\n",
       "0    0.562824        0.545851                  0.226174     0.581851   \n",
       "1   -0.477157       -0.523182                 -0.023628    -0.357663   \n",
       "2   -0.389183       -0.457086                 -0.023004    -0.398986   \n",
       "3    0.050689        0.123410                 -0.181815    -0.420795   \n",
       "4   -0.131544       -0.155343                 -0.001079     0.001614   \n",
       "\n",
       "   population  longitude  ocean_proximity_NEAR BAY  ocean_proximity_ISLAND  \\\n",
       "0    2.097061   1.289437                       0.0                     0.0   \n",
       "1   -0.467094   0.715510                       0.0                     0.0   \n",
       "2   -0.378114  -0.547128                       0.0                     0.0   \n",
       "3   -0.680864  -0.956363                       0.0                     0.0   \n",
       "4   -0.033043   0.495921                       0.0                     0.0   \n",
       "\n",
       "   housing_median_age     prediction   actuals forecast_flag  \n",
       "0           -1.327004  163734.750652  134500.0          good  \n",
       "1            0.580846  251341.702212  266000.0          good  \n",
       "2           -0.770548  186329.450664  163900.0          good  \n",
       "3            1.057808  100472.807677  137500.0          good  \n",
       "4            0.580846  257780.472374  201500.0          good  "
      ]
     },
     "execution_count": 344,
     "metadata": {},
     "output_type": "execute_result"
    }
   ],
   "source": [
    "residual_analysis.head()"
   ]
  },
  {
   "cell_type": "code",
   "execution_count": 345,
   "metadata": {},
   "outputs": [
    {
     "data": {},
     "metadata": {},
     "output_type": "display_data"
    },
    {
     "data": {
      "application/vnd.holoviews_exec.v0+json": "",
      "text/html": [
       "<div id='300686'>\n",
       "  <div class=\"bk-root\" id=\"eb057178-fcc2-432c-b5cf-d70e1ce0f50b\" data-root-id=\"300686\"></div>\n",
       "</div>\n",
       "<script type=\"application/javascript\">(function(root) {\n",
       "  function embed_document(root) {\n",
       "    var docs_json = {\"dbd88133-5a0f-4bee-94a4-80832792ca64\":{\"defs\":[{\"extends\":null,\"module\":null,\"name\":\"ReactiveHTML1\",\"overrides\":[],\"properties\":[]},{\"extends\":null,\"module\":null,\"name\":\"FlexBox1\",\"overrides\":[],\"properties\":[{\"default\":\"flex-start\",\"kind\":null,\"name\":\"align_content\"},{\"default\":\"flex-start\",\"kind\":null,\"name\":\"align_items\"},{\"default\":\"row\",\"kind\":null,\"name\":\"flex_direction\"},{\"default\":\"wrap\",\"kind\":null,\"name\":\"flex_wrap\"},{\"default\":\"flex-start\",\"kind\":null,\"name\":\"justify_content\"}]},{\"extends\":null,\"module\":null,\"name\":\"GridStack1\",\"overrides\":[],\"properties\":[{\"default\":\"warn\",\"kind\":null,\"name\":\"mode\"},{\"default\":null,\"kind\":null,\"name\":\"ncols\"},{\"default\":null,\"kind\":null,\"name\":\"nrows\"},{\"default\":true,\"kind\":null,\"name\":\"allow_resize\"},{\"default\":true,\"kind\":null,\"name\":\"allow_drag\"},{\"default\":[],\"kind\":null,\"name\":\"state\"}]},{\"extends\":null,\"module\":null,\"name\":\"click1\",\"overrides\":[],\"properties\":[{\"default\":\"\",\"kind\":null,\"name\":\"terminal_output\"},{\"default\":\"\",\"kind\":null,\"name\":\"debug_name\"},{\"default\":0,\"kind\":null,\"name\":\"clears\"}]},{\"extends\":null,\"module\":null,\"name\":\"NotificationAreaBase1\",\"overrides\":[],\"properties\":[{\"default\":\"bottom-right\",\"kind\":null,\"name\":\"position\"},{\"default\":0,\"kind\":null,\"name\":\"_clear\"}]},{\"extends\":null,\"module\":null,\"name\":\"NotificationArea1\",\"overrides\":[],\"properties\":[{\"default\":[],\"kind\":null,\"name\":\"notifications\"},{\"default\":\"bottom-right\",\"kind\":null,\"name\":\"position\"},{\"default\":0,\"kind\":null,\"name\":\"_clear\"},{\"default\":[{\"background\":\"#ffc107\",\"icon\":{\"className\":\"fas fa-exclamation-triangle\",\"color\":\"white\",\"tagName\":\"i\"},\"type\":\"warning\"},{\"background\":\"#007bff\",\"icon\":{\"className\":\"fas fa-info-circle\",\"color\":\"white\",\"tagName\":\"i\"},\"type\":\"info\"}],\"kind\":null,\"name\":\"types\"}]},{\"extends\":null,\"module\":null,\"name\":\"Notification\",\"overrides\":[],\"properties\":[{\"default\":null,\"kind\":null,\"name\":\"background\"},{\"default\":3000,\"kind\":null,\"name\":\"duration\"},{\"default\":null,\"kind\":null,\"name\":\"icon\"},{\"default\":\"\",\"kind\":null,\"name\":\"message\"},{\"default\":null,\"kind\":null,\"name\":\"notification_type\"},{\"default\":false,\"kind\":null,\"name\":\"_destroyed\"}]},{\"extends\":null,\"module\":null,\"name\":\"TemplateActions1\",\"overrides\":[],\"properties\":[{\"default\":0,\"kind\":null,\"name\":\"open_modal\"},{\"default\":0,\"kind\":null,\"name\":\"close_modal\"}]},{\"extends\":null,\"module\":null,\"name\":\"MaterialTemplateActions1\",\"overrides\":[],\"properties\":[{\"default\":0,\"kind\":null,\"name\":\"open_modal\"},{\"default\":0,\"kind\":null,\"name\":\"close_modal\"}]}],\"roots\":{\"references\":[{\"attributes\":{\"fill_alpha\":0.5,\"fill_color\":\"#30a2da\",\"hatch_alpha\":0.7,\"hatch_color\":\"#30a2da\",\"line_alpha\":0.7,\"x\":{\"field\":\"x\"},\"y\":{\"field\":\"y\"}},\"id\":\"300732\",\"type\":\"Patch\"},{\"attributes\":{\"data\":{\"x\":{\"__ndarray__\":\"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\",\"dtype\":\"float64\",\"order\":\"little\",\"shape\":[200]},\"y\":{\"__ndarray__\":\"AAAAAAAAAAAAAAAAAAAAAAAAAAAAAAAAAAAAAAAAAAAAAAAAAAAAAAAAAAAAAAAAAAAAAAAAAAAAAAAAAAAAAAAAAAAAAAAAAAAAAAAAAAAAAAAAAAAAAAAAAAAAAAAAAAAAAAAAAAAAAAAAAAAAAAAAAAAAAAAAAAAAAAAAAAAAAAAAAAAAAAAAAAAAAAAAAAAAAAAAAAAAAAAAAAAAAAAAAAAAAAAAAAAAAAAAAAAAAAAAAAAAAAAAAAAAAAAAAAAAAAAAAAAAAAAAAAAAAAAAAAAAAAAAAAAAAAAAAAAAAAAAAAAAAAAAAAAAAAAAAAAAAAAAAAAAAAAAAAAAAAAAAAAAAAAAAAAAAAAAAAAAAAAAAAAAAAAAAAAAAAAAAAAAAAAAAAAAAAAAAAAAAAAAAAAAAAAAAAAAAAAAAAAAAAAAAAAAAAAAAAAAAAAAAAAAAAAAAAAAAAAAAAAAAAAAAAAAAAAAAAAAAAAAAAAAAAAAAAAAAAAAAAAAAAAAAAAAAAAAAAAAAAAAAAAAAAAAAAAAAAAAAAAAAAAAAAAAAAAAAAAAAAAAAAAAAAAAAAAAAAAAAAAAAAAAAAAAAAAAAAAAAAAAAAAAAAAAAAAAAAAAAAAAAAAAAAAAAAAAAAAAAAAAAAAAAAAAAAAAAAAAAAAAAAAAAAAAAAAAAAAAAAAAAAAAAAAAAAAAAAAAAAAAAAAAAAAAAAAAAAAAAAAAAAAAAAAAAAAAAAAAAAAAAAAAAAAAAAAAAAAAAAAAAAAAAAAAAAAAAAAAAAAAAAAAAAAAAAAAAAAAAAAAAAAAAAAAAAAAAAAAAAAAAAAAAAAAAAAAAAAAAAAAAAAAAAAAAAAAAAAAAAAAAAAAAAAAAAAAAAAAAAAAAAAAAAAAAAAAAAAAAAAAAAAAAAAAAAAAAAAAAAAAAAAAAAAAAAAAAAAAAAAAAAAAAAAAAAAAAAAAAAAAAAAAAAAAAAAAAAAAAAAAAAAAAAAAAAAAAAAAAAAAAAAAAAAAAAAAAAAAAAAAAAAAAAAAAAAAAAAAAAAAAAAAAAAAAAAAAAAAAAAJrc1sQm0hP91K80rvljk/hmHg9rQ7UD+X9+lv3M1hP0n+av0e5XA/vcqjaL/Iez90G47G+tiDP+04q476vog/q6r7jXwiiz8xT+4x24KKPzy+gfBJkYc/4stAFlWpgz9QkZvRrQOAP0bnYZzngno/vu/gbK3odj9+p3SIp7h0P5KHV0FEN3M/L99U1eK4cT+GL/6I0MlvPyN0wvorn2s/7iUMYOGNZz/t9ET12PVjP+EjPP0hrmA/Ch7hi4OuWj8YYvVuerNTP2zM8vLGGko/ockYSNB7Pj8gGN4WOA8vP0VBdrHLdxs/koQE5usHBT9SYjTs8+brPkTV0s13p9A+6beBgAy5vT7X0qRSCVrOPmM0pvbebuk+WpV00h5eAz9JAbbmnI4ZP0WEqem1Ky0/Zmhl9/TaPD92lDadItpIP6I5GbBx1FI/2zzr5tuoWT8i28QqZ2RgP0Ej4d0l4mQ/i1JeZWv2az9r91KicbFzP6gz6v/F5Xs/AxlKMNH+gj9JHM876VWIP3wm8iiKVY0/FfKwf77ekD/rFzExjOmSPyCapnTtIZU/CMHfKCr4lz/p3pOlQd6bP/cQktFUmaA/G8u7yH4cpD+/PwrZAp+oP8rOcWo+cK4/+z+nD20Ksz9mQ3ws4Aa4P64DyYglN74/P18T8Nanwj9KUpbFK2fGP1sop1IjI8o/dnUETuTNzT+FZ35zEsDQPxDsTSu8rdI/hGEt6Tq11D+hjbkSjcrWP3e1ONv+1dg/mGzQkMu92j/+G00gPmvcP5c7c+BGyd0/RMLwvLzC3j/83K3f40ffP4Cvo/XvWd8/7SsBWVIQ3z/TUH/CeozePybt6g4W4N0/BjAiAC/53D/IDSJY9aXbP2vWHFTqr9k/Jjk76Rz91j8bne3zJKTTP611BNRh1M8/rpOpJ5pcyD/kN9Mq5ZfBPzosOti/Bbg/E199ysgkrz9E1o24CkOjP9TKP2OnypY/MIS63N68iT+gJhqNS4Z7P8TeJdLyjWs/Xixj/qR9WT8urCALAYdFP1P9bP8HbDA/cFXmaktvFj9r0NMN0j/7Pg==\",\"dtype\":\"float64\",\"order\":\"little\",\"shape\":[200]}},\"selected\":{\"id\":\"300751\"},\"selection_policy\":{\"id\":\"300767\"}},\"id\":\"300750\",\"type\":\"ColumnDataSource\"},{\"attributes\":{},\"id\":\"300698\",\"type\":\"LinearScale\"},{\"attributes\":{\"axis\":{\"id\":\"300702\"},\"coordinates\":null,\"grid_line_color\":null,\"group\":null,\"ticker\":null},\"id\":\"300705\",\"type\":\"Grid\"},{\"attributes\":{\"label\":{\"value\":\"under predict\"},\"renderers\":[{\"id\":\"300778\"}]},\"id\":\"300794\",\"type\":\"LegendItem\"},{\"attributes\":{\"fill_alpha\":0.2,\"fill_color\":\"#30a2da\",\"hatch_alpha\":0.2,\"hatch_color\":\"#30a2da\",\"line_alpha\":0.2,\"x\":{\"field\":\"x\"},\"y\":{\"field\":\"y\"}},\"id\":\"300734\",\"type\":\"Patch\"},{\"attributes\":{\"margin\":[5,5,5,5],\"name\":\"HSpacer711409\",\"sizing_mode\":\"stretch_width\"},\"id\":\"300687\",\"type\":\"Spacer\"},{\"attributes\":{\"end\":0.5564642206251382,\"reset_end\":0.5564642206251382,\"reset_start\":0.0,\"tags\":[[[\"median_income_density\",\"Density\",null]]]},\"id\":\"300689\",\"type\":\"Range1d\"},{\"attributes\":{\"callback\":null,\"renderers\":[{\"id\":\"300735\"},{\"id\":\"300756\"},{\"id\":\"300778\"}],\"tags\":[\"hv_created\"],\"tooltips\":[[\"forecast_flag\",\"@{forecast_flag}\"],[\"median_income\",\"@{median_income}\"],[\"Density\",\"@{median_income_density}\"]]},\"id\":\"300690\",\"type\":\"HoverTool\"},{\"attributes\":{},\"id\":\"300700\",\"type\":\"LinearScale\"},{\"attributes\":{},\"id\":\"300712\",\"type\":\"WheelZoomTool\"},{\"attributes\":{\"coordinates\":null,\"data_source\":{\"id\":\"300772\"},\"glyph\":{\"id\":\"300775\"},\"group\":null,\"hover_glyph\":null,\"muted_glyph\":{\"id\":\"300777\"},\"nonselection_glyph\":{\"id\":\"300776\"},\"selection_glyph\":{\"id\":\"300795\"},\"view\":{\"id\":\"300779\"}},\"id\":\"300778\",\"type\":\"GlyphRenderer\"},{\"attributes\":{\"axis_label\":\"median_income\",\"coordinates\":null,\"formatter\":{\"id\":\"300724\"},\"group\":null,\"major_label_policy\":{\"id\":\"300725\"},\"ticker\":{\"id\":\"300703\"}},\"id\":\"300702\",\"type\":\"LinearAxis\"},{\"attributes\":{\"fill_alpha\":0.5,\"fill_color\":\"#fc4f30\",\"hatch_alpha\":0.7,\"hatch_color\":\"#fc4f30\",\"line_alpha\":0.7,\"x\":{\"field\":\"x\"},\"y\":{\"field\":\"y\"}},\"id\":\"300753\",\"type\":\"Patch\"},{\"attributes\":{},\"id\":\"300744\",\"type\":\"UnionRenderers\"},{\"attributes\":{},\"id\":\"300751\",\"type\":\"Selection\"},{\"attributes\":{\"fill_alpha\":0.5,\"fill_color\":\"#fc4f30\",\"hatch_alpha\":0.1,\"hatch_color\":\"#fc4f30\",\"line_alpha\":0.7,\"x\":{\"field\":\"x\"},\"y\":{\"field\":\"y\"}},\"id\":\"300754\",\"type\":\"Patch\"},{\"attributes\":{\"bottom_units\":\"screen\",\"coordinates\":null,\"fill_alpha\":0.5,\"fill_color\":\"lightgrey\",\"group\":null,\"left_units\":\"screen\",\"level\":\"overlay\",\"line_alpha\":1.0,\"line_color\":\"black\",\"line_dash\":[4,4],\"line_width\":2,\"right_units\":\"screen\",\"syncable\":false,\"top_units\":\"screen\"},\"id\":\"300715\",\"type\":\"BoxAnnotation\"},{\"attributes\":{\"fill_alpha\":0.5,\"fill_color\":\"#e5ae38\",\"hatch_alpha\":0.7,\"hatch_color\":\"#e5ae38\",\"line_alpha\":0.7,\"x\":{\"field\":\"x\"},\"y\":{\"field\":\"y\"}},\"id\":\"300795\",\"type\":\"Patch\"},{\"attributes\":{},\"id\":\"300710\",\"type\":\"SaveTool\"},{\"attributes\":{\"children\":[{\"id\":\"300687\"},{\"id\":\"300693\"},{\"id\":\"300908\"}],\"margin\":[0,0,0,0],\"name\":\"Row711405\",\"tags\":[\"embedded\"]},\"id\":\"300686\",\"type\":\"Row\"},{\"attributes\":{},\"id\":\"300767\",\"type\":\"UnionRenderers\"},{\"attributes\":{\"overlay\":{\"id\":\"300715\"}},\"id\":\"300713\",\"type\":\"BoxZoomTool\"},{\"attributes\":{\"margin\":[5,5,5,5],\"name\":\"HSpacer711410\",\"sizing_mode\":\"stretch_width\"},\"id\":\"300908\",\"type\":\"Spacer\"},{\"attributes\":{\"fill_alpha\":0.5,\"fill_color\":\"#30a2da\",\"hatch_alpha\":0.1,\"hatch_color\":\"#30a2da\",\"line_alpha\":0.7,\"x\":{\"field\":\"x\"},\"y\":{\"field\":\"y\"}},\"id\":\"300733\",\"type\":\"Patch\"},{\"attributes\":{\"tools\":[{\"id\":\"300690\"},{\"id\":\"300710\"},{\"id\":\"300711\"},{\"id\":\"300712\"},{\"id\":\"300713\"},{\"id\":\"300714\"}]},\"id\":\"300716\",\"type\":\"Toolbar\"},{\"attributes\":{\"fill_alpha\":0.5,\"fill_color\":\"#30a2da\",\"hatch_alpha\":0.7,\"hatch_color\":\"#30a2da\",\"line_alpha\":0.7,\"x\":{\"field\":\"x\"},\"y\":{\"field\":\"y\"}},\"id\":\"300749\",\"type\":\"Patch\"},{\"attributes\":{},\"id\":\"300724\",\"type\":\"BasicTickFormatter\"},{\"attributes\":{\"axis\":{\"id\":\"300706\"},\"coordinates\":null,\"dimension\":1,\"grid_line_color\":null,\"group\":null,\"ticker\":null},\"id\":\"300709\",\"type\":\"Grid\"},{\"attributes\":{\"coordinates\":null,\"group\":null,\"text\":\"median_income(density)\",\"text_color\":\"black\",\"text_font_size\":\"12pt\"},\"id\":\"300694\",\"type\":\"Title\"},{\"attributes\":{\"fill_alpha\":0.5,\"fill_color\":\"#e5ae38\",\"hatch_alpha\":0.1,\"hatch_color\":\"#e5ae38\",\"line_alpha\":0.7,\"x\":{\"field\":\"x\"},\"y\":{\"field\":\"y\"}},\"id\":\"300776\",\"type\":\"Patch\"},{\"attributes\":{},\"id\":\"300703\",\"type\":\"BasicTicker\"},{\"attributes\":{},\"id\":\"300727\",\"type\":\"BasicTickFormatter\"},{\"attributes\":{},\"id\":\"300728\",\"type\":\"AllLabels\"},{\"attributes\":{\"coordinates\":null,\"data_source\":{\"id\":\"300750\"},\"glyph\":{\"id\":\"300753\"},\"group\":null,\"hover_glyph\":null,\"muted_glyph\":{\"id\":\"300755\"},\"nonselection_glyph\":{\"id\":\"300754\"},\"selection_glyph\":{\"id\":\"300771\"},\"view\":{\"id\":\"300757\"}},\"id\":\"300756\",\"type\":\"GlyphRenderer\"},{\"attributes\":{\"label\":{\"value\":\"good\"},\"renderers\":[{\"id\":\"300735\"}]},\"id\":\"300748\",\"type\":\"LegendItem\"},{\"attributes\":{\"click_policy\":\"mute\",\"coordinates\":null,\"group\":null,\"items\":[{\"id\":\"300748\"},{\"id\":\"300770\"},{\"id\":\"300794\"}],\"title\":\"forecast_flag\"},\"id\":\"300747\",\"type\":\"Legend\"},{\"attributes\":{\"source\":{\"id\":\"300750\"}},\"id\":\"300757\",\"type\":\"CDSView\"},{\"attributes\":{},\"id\":\"300725\",\"type\":\"AllLabels\"},{\"attributes\":{\"label\":{\"value\":\"over predict\"},\"renderers\":[{\"id\":\"300756\"}]},\"id\":\"300770\",\"type\":\"LegendItem\"},{\"attributes\":{\"fill_alpha\":0.2,\"fill_color\":\"#fc4f30\",\"hatch_alpha\":0.2,\"hatch_color\":\"#fc4f30\",\"line_alpha\":0.2,\"x\":{\"field\":\"x\"},\"y\":{\"field\":\"y\"}},\"id\":\"300755\",\"type\":\"Patch\"},{\"attributes\":{\"fill_alpha\":0.2,\"fill_color\":\"#e5ae38\",\"hatch_alpha\":0.2,\"hatch_color\":\"#e5ae38\",\"line_alpha\":0.2,\"x\":{\"field\":\"x\"},\"y\":{\"field\":\"y\"}},\"id\":\"300777\",\"type\":\"Patch\"},{\"attributes\":{},\"id\":\"300791\",\"type\":\"UnionRenderers\"},{\"attributes\":{\"fill_alpha\":0.5,\"fill_color\":\"#e5ae38\",\"hatch_alpha\":0.7,\"hatch_color\":\"#e5ae38\",\"line_alpha\":0.7,\"x\":{\"field\":\"x\"},\"y\":{\"field\":\"y\"}},\"id\":\"300775\",\"type\":\"Patch\"},{\"attributes\":{\"fill_alpha\":0.5,\"fill_color\":\"#fc4f30\",\"hatch_alpha\":0.7,\"hatch_color\":\"#fc4f30\",\"line_alpha\":0.7,\"x\":{\"field\":\"x\"},\"y\":{\"field\":\"y\"}},\"id\":\"300771\",\"type\":\"Patch\"},{\"attributes\":{},\"id\":\"300773\",\"type\":\"Selection\"},{\"attributes\":{\"end\":7.105592948776183,\"reset_end\":7.105592948776183,\"reset_start\":-2.666009711333125,\"start\":-2.666009711333125,\"tags\":[[[\"median_income\",\"median_income\",null]]]},\"id\":\"300688\",\"type\":\"Range1d\"},{\"attributes\":{},\"id\":\"300714\",\"type\":\"ResetTool\"},{\"attributes\":{\"data\":{\"x\":{\"__ndarray__\":\"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\",\"dtype\":\"float64\",\"order\":\"little\",\"shape\":[200]},\"y\":{\"__ndarray__\":\"AAAAAAAAAAAAAAAAAAAAAAAAAAAAAAAAAAAAAAAAAAAAAAAAAAAAAAAAAAAAAAAAAAAAAAAAAAAAAAAAAAAAAAAAAAAAAAAAAAAAAAAAAAAAAAAAAAAAAAAAAAAAAAAAAAAAAAAAAAAAAAAAAAAAAAAAAAAAAAAAAAAAAAAAAAAAAAAAAAAAAAAAAAAAAAAAAAAAAAAAAAAAAAAAAAAAAAAAAAAAAAAAAAAAAAAAAAAAAAAAAAAAAAAAAAAAAAAAAAAAAAAAAAAAAAAAAAAAAAAAAAAAAAAAAAAAAAAAAAAAAAAAAAAAAAAAAAAAAAAAAAAAAAAAAAAAAAAAAAAAAAAAAAAAAAAAAAAAAAAAAAAAAAAAAAAAAAAAAAAAAAAAAAAAAAAAAAAAAAAAAAAAAAAAAAAAAAAAAAAAAAAAAAAAAAAAAAAAAAAAAAAAAAAAAAAAAAAAAAAAAAAAAAAAAAAAAAAAAAAAAAAAAAAAAAAAAAAAAAAAAAAAAAAAAAAAAAAAAAAAAAAAAAAAAAAAAAAAAAAAAAAAAAAAAAAAAAAAAAAAAAAAAAAAAAAAAAAAAAAAAAAAAAAAAAAAAAAAAAAAAAAAAAAAAAAAAAAAAAAAAAAAAAAAAAAAAAAAAAAAAAAAAAAAAAAAAAAAAAAAAAAAAAAAAAAAAAAAAAAAAAAAAAAAAAAAAAAAAAAAAAAAAAAAAAAAAAAAAAAAAAAAAAAAAAAAAAAAAAAAAAAAAAAAAAAAAAAAAAAAAAAAAAAAAAAAAAAAAAAAAAAAAAAAAAAAAAAAAAAAAAAAAAAAAAAAAAAAAAAAAAAAAAAAAAAAAAAAAAAAAAAAAAAAAAAAAAAAAAAAAAAAAAAAAAAAAAAAAAAAAAAAAAAAAAAAAAAAAAAAAAAAAAAAAAAAAAAAAAAAAAAAAAAAAAAAAAAAAAAAAAAAAAAAAAAAAAAAAAAAAAAAAAAAAAAAAAAAAAAAAAAAAAAAAAAAAAAAAAAAAAAAAAAAAAAAAAAAAAAAAAAAAAAAAAAAAAAAAAAAAAAAAAAAAAAAAAAAAAAAAAAAAAAaYyQ3Pg3gPgNSjvFJDPg+FSXd9GswDz+6+Kv1SpAhP3udFbVTQjE/PAnRz3DNPT+mWlR3G9ZGPwiBC1QzfU8/9LAelZLgUz9PPeK8e3JXP0CY18Qea1o/bHV1oIAbXT/+RH3WDRNgPxRaUynyMGI/WgBPx1RGZT+CELLI+m5pPwd8LWyha24/u39EpwHrcT8Q0HORdcd0P/iHEB5SA3g/lRWFcDj+ez9uWHF90nCAPxkp1+ANK4M/z1u14kjQhT/AJdDjsxCIPxYZFzD+4ok/tAm8C72Aiz/MMm263SyNPwAQbAu7AI8/mANjnx54kD+yNcACE3uRP1XfKq8tmJI/7PqzMcLmkz8HLFtSOHSVP1yqAphwQpc/SN/UVGxcmT/loUyzMOibP3H/MKxSFp8/2rGJmw53oT9ERq/kx4+jP1C4Nc/1hqU/7a0E4/INpz+BwbR02wSoPxBLTd0Zk6g/SubdQoodqT8Jb4HEsSWqP4YjMhpAI6w/sMm3X6thrz/zMf+Q7POxPxyGgwllubQ/xBOdFKXFtz/juSOtKtm6P9x25Yr5x70/fOFhaWFDwD9nTCb695TBP6DMhyB97cI/kFidrpFkxD9/pOrV6wvGP8dsBSt458c/2sLgncHqyT+M6PzcNP/LP9VFB5PlEc4/pMWHEKYQ0D9XMRrlXyDRP7L1zpsKRtI/cFhWkl+I0z9aUxuM/d3UP3Zzkq/2LtY/MNKXhwFi1z9kkh2niWzYP2sZScFtWNk/ecJQ48U42j9CUGznUBTbP4VTIRm11ds/GziKwkBP3D+TyZOdRFHcP4YdU2qrwts/2Ttt0w6q2j/NXPJf+CPZP5Wxu8XOUdc/CgvVkC5O1T/wjUt6ICrTP7WrVGZE79A/Qugqh9ZGzT9Fy/UFzJrIP+EmUhgb9cM/REJSYMYFvz8XO4zsZ/i2Pzt7DximJLA/X+Im0tB9pT+WLiKyGQ6bP2tlOJ+WD5A/zFnWnnjngT+RePZMJp9yPxTbvWev7mE/qQ9aIC+3Tz/om7Iii4s5P9FEBQEdmCI/0WI14ydJCD8aL+DA+UTsPg==\",\"dtype\":\"float64\",\"order\":\"little\",\"shape\":[200]}},\"selected\":{\"id\":\"300730\"},\"selection_policy\":{\"id\":\"300744\"}},\"id\":\"300729\",\"type\":\"ColumnDataSource\"},{\"attributes\":{\"source\":{\"id\":\"300772\"}},\"id\":\"300779\",\"type\":\"CDSView\"},{\"attributes\":{\"data\":{\"x\":{\"__ndarray__\":\"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\",\"dtype\":\"float64\",\"order\":\"little\",\"shape\":[200]},\"y\":{\"__ndarray__\":\"AAAAAAAAAAAAAAAAAAAAAAAAAAAAAAAAAAAAAAAAAAAAAAAAAAAAAAAAAAAAAAAAAAAAAAAAAAAAAAAAAAAAAAAAAAAAAAAAAAAAAAAAAAAAAAAAAAAAAAAAAAAAAAAAAAAAAAAAAAAAAAAAAAAAAAAAAAAAAAAAAAAAAAAAAAAAAAAAAAAAAAAAAAAAAAAAAAAAAAAAAAAAAAAAAAAAAAAAAAAAAAAAAAAAAAAAAAAAAAAAAAAAAAAAAAAAAAAAAAAAAAAAAAAAAAAAAAAAAAAAAAAAAAAAAAAAAAAAAAAAAAAAAAAAAAAAAAAAAAAAAAAAAAAAAAAAAAAAAAAAAAAAAAAAAAAAAAAAAAAAAAAAAAAAAAAAAAAAAAAAAAAAAAAAAAAAAAAAAAAAAAAAAAAAAAAAAAAAAAAAAAAAAAAAAAAAAAAAAAAAAAAAAAAAAAAAAAAAAAAAAAAAAAAAAAAAAAAAAAAAAAAAAAAAAAAAAAAAAAAAAAAAAAAAAAAAAAAAAAAAAAAAAAAAAAAAAAAAAAAAAAAAAAAAAAAAAAAAAAAAAAAAAAAAAAAAAAAAAAAAAAAAAAAAAAAAAAAAAAAAAAAAAAAAAAAAAAAAAAAAAAAAAAAAAAAAAAAAAAAAAAAAAAAAAAAAAAAAAAAAAAAAAAAAAAAAAAAAAAAAAAAAAAAAAAAAAAAAAAAAAAAAAAAAAAAAAAAAAAAAAAAAAAAAAAAAAAAAAAAAAAAAAAAAAAAAAAAAAAAAAAAAAAAAAAAAAAAAAAAAAAAAAAAAAAAAAAAAAAAAAAAAAAAAAAAAAAAAAAAAAAAAAAAAAAAAAAAAAAAAAAAAAAAAAAAAAAAAAAAAAAAAAAAAAAAAAAAAAAAAAAAAAAAAAAAAAAAAAAAAAAAAAAAAAAAAAAAAAAAAAAAAAAAAAAAAAAAAAAAAAAAAAAAAAAAAAAAAAAAAAAAAAAAAAAAAAAAAAAAAAAAAAAAAAAAAAAAAAAAAAAAAAAAAAAAAAAAAAAAAAAAAAAAAAAAAAAAAAAAAAAAAAAAAAAAAAAAAAAAAAAAAAAAsdWlWjKsWP4WtyZEHqCY/OsJrSrqINT+zpeiYnHlDP9oh7CwQxVA/DYmio3uFWz+RJ3IFUYtlP+r+biPWHHA/qtXib7gRdz8U2TF2eLF/P5zEFRy09IQ/EsIqROrHij8cYM64552QP2XEXIRoIpQ/YbS3ocD2lz9yHSfloy2cPxXJSQFJcqA/XUPNtgseoz+CLw2rWCamP8KOkqnbjak/p/Qy5i9KrT85zi4vE6KwPylK8QI+rrI/e1oqVg+6tD/3qjyAyLq2P791XXkOrrg/AGrNUfKauj+KwLOfz4+8P8wrimKonb4/wPdAe1xpwD9G0M5hK5vBP/Zn4evI48I/zgiNZmY/xD+l2AgHm6jFP84fFJU0Gsc/6XHnlmKQyD+1PdXS+gjKP02Y9h0Xg8s/Cr+pxI7+zD989ofYuHvOP2t5/MiW+88/91AKdBzA0D+y5A+5hYbRP3UhnLVjU9I/MfB5s3Mp0z9aSgQeUgvUP5N6DFrN+tQ/tK0Vxyz41T9BVXTwmwHXP9KbFT/yEtg/XOarNgIm2T9wsfkrdDPaP+0mjI78M9s/InPa8pUh3D9ay5hHX/jcP6WxtYHatt0/GzAIm3pd3j/CIK0Npu3eP2/ynah9aN8/w15tu8zN3z/kKNbwvw3gP4m9tr7rJuA/P7fZYiQw4D9HfNIEXSfgPz6fDPNNC+A/Tdu9VWq33z90/achXzLfP7upR3N5id4/DLS/SEu+3T+xgGUEGtHcP5fDDDC+wNs/aZhJCl6L2j9a3IMQwS/ZP6GfI5u4rtc/S20IvQ8M1j/jR5dyp07UP6tDW068f9I/anp7pqap0D+Xap19Ha3NP3U4P8T3Hso/Zd4Y6M+3xj+D+MR6fIPDPxOZM5oPi8A/DDxpaDuquz+Xkqf+mcu2P1REos6efbI/BxM6rwN+rT8UhR24IBWnPzSgfcSUsKE/8byk1th5mj/5AChZR0mTP1CDaqeHQos/f+/RhO+ggj/d0blO8Ip4P6NNjfq4FG8/yMSjeg3fYj/YTpnVq+1VP2J3um9JV0g/wYd0aErGOT+T/S8ktQEqPw==\",\"dtype\":\"float64\",\"order\":\"little\",\"shape\":[200]}},\"selected\":{\"id\":\"300773\"},\"selection_policy\":{\"id\":\"300791\"}},\"id\":\"300772\",\"type\":\"ColumnDataSource\"},{\"attributes\":{\"below\":[{\"id\":\"300702\"}],\"center\":[{\"id\":\"300705\"},{\"id\":\"300709\"},{\"id\":\"300747\"}],\"height\":400,\"left\":[{\"id\":\"300706\"}],\"margin\":[5,5,5,5],\"min_border_bottom\":10,\"min_border_left\":10,\"min_border_right\":10,\"min_border_top\":10,\"renderers\":[{\"id\":\"300735\"},{\"id\":\"300756\"},{\"id\":\"300778\"}],\"sizing_mode\":\"fixed\",\"title\":{\"id\":\"300694\"},\"toolbar\":{\"id\":\"300716\"},\"width\":800,\"x_range\":{\"id\":\"300688\"},\"x_scale\":{\"id\":\"300698\"},\"y_range\":{\"id\":\"300689\"},\"y_scale\":{\"id\":\"300700\"}},\"id\":\"300693\",\"subtype\":\"Figure\",\"type\":\"Plot\"},{\"attributes\":{},\"id\":\"300707\",\"type\":\"BasicTicker\"},{\"attributes\":{\"coordinates\":null,\"data_source\":{\"id\":\"300729\"},\"glyph\":{\"id\":\"300732\"},\"group\":null,\"hover_glyph\":null,\"muted_glyph\":{\"id\":\"300734\"},\"nonselection_glyph\":{\"id\":\"300733\"},\"selection_glyph\":{\"id\":\"300749\"},\"view\":{\"id\":\"300736\"}},\"id\":\"300735\",\"type\":\"GlyphRenderer\"},{\"attributes\":{\"axis_label\":\"density\",\"coordinates\":null,\"formatter\":{\"id\":\"300727\"},\"group\":null,\"major_label_policy\":{\"id\":\"300728\"},\"ticker\":{\"id\":\"300707\"}},\"id\":\"300706\",\"type\":\"LinearAxis\"},{\"attributes\":{\"source\":{\"id\":\"300729\"}},\"id\":\"300736\",\"type\":\"CDSView\"},{\"attributes\":{},\"id\":\"300730\",\"type\":\"Selection\"},{\"attributes\":{},\"id\":\"300711\",\"type\":\"PanTool\"}],\"root_ids\":[\"300686\"]},\"title\":\"Bokeh Application\",\"version\":\"2.4.3\"}};\n",
       "    var render_items = [{\"docid\":\"dbd88133-5a0f-4bee-94a4-80832792ca64\",\"root_ids\":[\"300686\"],\"roots\":{\"300686\":\"eb057178-fcc2-432c-b5cf-d70e1ce0f50b\"}}];\n",
       "    root.Bokeh.embed.embed_items_notebook(docs_json, render_items);\n",
       "  }\n",
       "  if (root.Bokeh !== undefined && root.Bokeh.Panel !== undefined) {\n",
       "    embed_document(root);\n",
       "  } else {\n",
       "    var attempts = 0;\n",
       "    var timer = setInterval(function(root) {\n",
       "      if (root.Bokeh !== undefined && root.Bokeh.Panel !== undefined) {\n",
       "        clearInterval(timer);\n",
       "        embed_document(root);\n",
       "      } else if (document.readyState == \"complete\") {\n",
       "        attempts++;\n",
       "        if (attempts > 200) {\n",
       "          clearInterval(timer);\n",
       "          console.log(\"Bokeh: ERROR: Unable to run BokehJS code because BokehJS library is missing\");\n",
       "        }\n",
       "      }\n",
       "    }, 25, root)\n",
       "  }\n",
       "})(window);</script>"
      ],
      "text/plain": [
       ":NdOverlay   [forecast_flag]\n",
       "   :Distribution   [median_income]   (Density)"
      ]
     },
     "execution_count": 345,
     "metadata": {
      "application/vnd.holoviews_exec.v0+json": {
       "id": "300686"
      }
     },
     "output_type": "execute_result"
    }
   ],
   "source": [
    "residual_analysis.hvplot.kde(y=\"median_income\",by=\"forecast_flag\", ## Grouping by Predictions\n",
    "                                width=800, height=400,\n",
    "                                alpha=0.7,\n",
    "                                ylabel=\"density\",\n",
    "                                xlabel=\"median_income\",\n",
    "                                title=f'median_income(density)',legend='top_right')"
   ]
  },
  {
   "attachments": {},
   "cell_type": "markdown",
   "metadata": {},
   "source": [
    "- From the above plot we can infer that the higher \"under predictions\" are happening for median_income <> 2."
   ]
  },
  {
   "cell_type": "markdown",
   "metadata": {},
   "source": [
    "# 4.2 Modelling - XGBoost"
   ]
  },
  {
   "cell_type": "markdown",
   "metadata": {},
   "source": [
    "## 4.2.1 Model training pipeline\n",
    "\n",
    "Here we focus on creating a collection of pipelines that can be used for tranining respective models.\n",
    "\n",
    "Each model pipeline will essentially be of the form\n",
    "```\n",
    "[\n",
    "('preprocessing', preprocessing_pipeline),\n",
    "('feature_selection', feature_selection_pipeline),\n",
    "('estimator', estimator),\n",
    "]\n",
    "```"
   ]
  },
  {
   "cell_type": "markdown",
   "metadata": {},
   "source": [
    "### 4.2.2 Model Pipeline Build"
   ]
  },
  {
   "cell_type": "code",
   "execution_count": 346,
   "metadata": {},
   "outputs": [
    {
     "data": {
      "text/html": [
       "<style>#sk-container-id-11 {color: black;background-color: white;}#sk-container-id-11 pre{padding: 0;}#sk-container-id-11 div.sk-toggleable {background-color: white;}#sk-container-id-11 label.sk-toggleable__label {cursor: pointer;display: block;width: 100%;margin-bottom: 0;padding: 0.3em;box-sizing: border-box;text-align: center;}#sk-container-id-11 label.sk-toggleable__label-arrow:before {content: \"▸\";float: left;margin-right: 0.25em;color: #696969;}#sk-container-id-11 label.sk-toggleable__label-arrow:hover:before {color: black;}#sk-container-id-11 div.sk-estimator:hover label.sk-toggleable__label-arrow:before {color: black;}#sk-container-id-11 div.sk-toggleable__content {max-height: 0;max-width: 0;overflow: hidden;text-align: left;background-color: #f0f8ff;}#sk-container-id-11 div.sk-toggleable__content pre {margin: 0.2em;color: black;border-radius: 0.25em;background-color: #f0f8ff;}#sk-container-id-11 input.sk-toggleable__control:checked~div.sk-toggleable__content {max-height: 200px;max-width: 100%;overflow: auto;}#sk-container-id-11 input.sk-toggleable__control:checked~label.sk-toggleable__label-arrow:before {content: \"▾\";}#sk-container-id-11 div.sk-estimator input.sk-toggleable__control:checked~label.sk-toggleable__label {background-color: #d4ebff;}#sk-container-id-11 div.sk-label input.sk-toggleable__control:checked~label.sk-toggleable__label {background-color: #d4ebff;}#sk-container-id-11 input.sk-hidden--visually {border: 0;clip: rect(1px 1px 1px 1px);clip: rect(1px, 1px, 1px, 1px);height: 1px;margin: -1px;overflow: hidden;padding: 0;position: absolute;width: 1px;}#sk-container-id-11 div.sk-estimator {font-family: monospace;background-color: #f0f8ff;border: 1px dotted black;border-radius: 0.25em;box-sizing: border-box;margin-bottom: 0.5em;}#sk-container-id-11 div.sk-estimator:hover {background-color: #d4ebff;}#sk-container-id-11 div.sk-parallel-item::after {content: \"\";width: 100%;border-bottom: 1px solid gray;flex-grow: 1;}#sk-container-id-11 div.sk-label:hover label.sk-toggleable__label {background-color: #d4ebff;}#sk-container-id-11 div.sk-serial::before {content: \"\";position: absolute;border-left: 1px solid gray;box-sizing: border-box;top: 0;bottom: 0;left: 50%;z-index: 0;}#sk-container-id-11 div.sk-serial {display: flex;flex-direction: column;align-items: center;background-color: white;padding-right: 0.2em;padding-left: 0.2em;position: relative;}#sk-container-id-11 div.sk-item {position: relative;z-index: 1;}#sk-container-id-11 div.sk-parallel {display: flex;align-items: stretch;justify-content: center;background-color: white;position: relative;}#sk-container-id-11 div.sk-item::before, #sk-container-id-11 div.sk-parallel-item::before {content: \"\";position: absolute;border-left: 1px solid gray;box-sizing: border-box;top: 0;bottom: 0;left: 50%;z-index: -1;}#sk-container-id-11 div.sk-parallel-item {display: flex;flex-direction: column;z-index: 1;position: relative;background-color: white;}#sk-container-id-11 div.sk-parallel-item:first-child::after {align-self: flex-end;width: 50%;}#sk-container-id-11 div.sk-parallel-item:last-child::after {align-self: flex-start;width: 50%;}#sk-container-id-11 div.sk-parallel-item:only-child::after {width: 0;}#sk-container-id-11 div.sk-dashed-wrapped {border: 1px dashed gray;margin: 0 0.4em 0.5em 0.4em;box-sizing: border-box;padding-bottom: 0.4em;background-color: white;}#sk-container-id-11 div.sk-label label {font-family: monospace;font-weight: bold;display: inline-block;line-height: 1.2em;}#sk-container-id-11 div.sk-label-container {text-align: center;}#sk-container-id-11 div.sk-container {/* jupyter's `normalize.less` sets `[hidden] { display: none; }` but bootstrap.min.css set `[hidden] { display: none !important; }` so we also need the `!important` here to be able to override the default hidden behavior on the sphinx rendered scikit-learn.org. See: https://github.com/scikit-learn/scikit-learn/issues/21755 */display: inline-block !important;position: relative;}#sk-container-id-11 div.sk-text-repr-fallback {display: none;}</style><div id=\"sk-container-id-11\" class=\"sk-top-container\"><div class=\"sk-text-repr-fallback\"><pre>Pipeline(steps=[(&#x27;XGBoost&#x27;,\n",
       "                 XGBRegressor(base_score=0.5, booster=&#x27;gbtree&#x27;,\n",
       "                              colsample_bylevel=1, colsample_bynode=1,\n",
       "                              colsample_bytree=1, enable_categorical=False,\n",
       "                              gamma=0, gpu_id=-1, importance_type=None,\n",
       "                              interaction_constraints=&#x27;&#x27;,\n",
       "                              learning_rate=0.300000012, max_delta_step=0,\n",
       "                              max_depth=6, min_child_weight=1, missing=nan,\n",
       "                              monotone_constraints=&#x27;()&#x27;, n_estimators=100,\n",
       "                              n_jobs=8, num_parallel_tree=1, predictor=&#x27;auto&#x27;,\n",
       "                              random_state=0, reg_alpha=0, reg_lambda=1,\n",
       "                              scale_pos_weight=1, subsample=1,\n",
       "                              tree_method=&#x27;exact&#x27;, validate_parameters=1,\n",
       "                              verbosity=None))])</pre><b>In a Jupyter environment, please rerun this cell to show the HTML representation or trust the notebook. <br />On GitHub, the HTML representation is unable to render, please try loading this page with nbviewer.org.</b></div><div class=\"sk-container\" hidden><div class=\"sk-item sk-dashed-wrapped\"><div class=\"sk-label-container\"><div class=\"sk-label sk-toggleable\"><input class=\"sk-toggleable__control sk-hidden--visually\" id=\"sk-estimator-id-28\" type=\"checkbox\" ><label for=\"sk-estimator-id-28\" class=\"sk-toggleable__label sk-toggleable__label-arrow\">Pipeline</label><div class=\"sk-toggleable__content\"><pre>Pipeline(steps=[(&#x27;XGBoost&#x27;,\n",
       "                 XGBRegressor(base_score=0.5, booster=&#x27;gbtree&#x27;,\n",
       "                              colsample_bylevel=1, colsample_bynode=1,\n",
       "                              colsample_bytree=1, enable_categorical=False,\n",
       "                              gamma=0, gpu_id=-1, importance_type=None,\n",
       "                              interaction_constraints=&#x27;&#x27;,\n",
       "                              learning_rate=0.300000012, max_delta_step=0,\n",
       "                              max_depth=6, min_child_weight=1, missing=nan,\n",
       "                              monotone_constraints=&#x27;()&#x27;, n_estimators=100,\n",
       "                              n_jobs=8, num_parallel_tree=1, predictor=&#x27;auto&#x27;,\n",
       "                              random_state=0, reg_alpha=0, reg_lambda=1,\n",
       "                              scale_pos_weight=1, subsample=1,\n",
       "                              tree_method=&#x27;exact&#x27;, validate_parameters=1,\n",
       "                              verbosity=None))])</pre></div></div></div><div class=\"sk-serial\"><div class=\"sk-item\"><div class=\"sk-estimator sk-toggleable\"><input class=\"sk-toggleable__control sk-hidden--visually\" id=\"sk-estimator-id-29\" type=\"checkbox\" ><label for=\"sk-estimator-id-29\" class=\"sk-toggleable__label sk-toggleable__label-arrow\">XGBRegressor</label><div class=\"sk-toggleable__content\"><pre>XGBRegressor(base_score=0.5, booster=&#x27;gbtree&#x27;, colsample_bylevel=1,\n",
       "             colsample_bynode=1, colsample_bytree=1, enable_categorical=False,\n",
       "             gamma=0, gpu_id=-1, importance_type=None,\n",
       "             interaction_constraints=&#x27;&#x27;, learning_rate=0.300000012,\n",
       "             max_delta_step=0, max_depth=6, min_child_weight=1, missing=nan,\n",
       "             monotone_constraints=&#x27;()&#x27;, n_estimators=100, n_jobs=8,\n",
       "             num_parallel_tree=1, predictor=&#x27;auto&#x27;, random_state=0, reg_alpha=0,\n",
       "             reg_lambda=1, scale_pos_weight=1, subsample=1, tree_method=&#x27;exact&#x27;,\n",
       "             validate_parameters=1, verbosity=None)</pre></div></div></div></div></div></div></div>"
      ],
      "text/plain": [
       "Pipeline(steps=[('XGBoost',\n",
       "                 XGBRegressor(base_score=0.5, booster='gbtree',\n",
       "                              colsample_bylevel=1, colsample_bynode=1,\n",
       "                              colsample_bytree=1, enable_categorical=False,\n",
       "                              gamma=0, gpu_id=-1, importance_type=None,\n",
       "                              interaction_constraints='',\n",
       "                              learning_rate=0.300000012, max_delta_step=0,\n",
       "                              max_depth=6, min_child_weight=1, missing=nan,\n",
       "                              monotone_constraints='()', n_estimators=100,\n",
       "                              n_jobs=8, num_parallel_tree=1, predictor='auto',\n",
       "                              random_state=0, reg_alpha=0, reg_lambda=1,\n",
       "                              scale_pos_weight=1, subsample=1,\n",
       "                              tree_method='exact', validate_parameters=1,\n",
       "                              verbosity=None))])"
      ]
     },
     "execution_count": 346,
     "metadata": {},
     "output_type": "execute_result"
    }
   ],
   "source": [
    "# let's find features for some decent defaults\n",
    "estimator = XGBRegressor()\n",
    "xgb_training_pipe_init = Pipeline([\n",
    "    ('XGBoost', XGBRegressor())\n",
    "])\n",
    "xgb_training_pipe_init.fit(train_X, train_y)"
   ]
  },
  {
   "cell_type": "markdown",
   "metadata": {},
   "source": [
    "### 4.2.3 Model Tuning"
   ]
  },
  {
   "cell_type": "code",
   "execution_count": 347,
   "metadata": {},
   "outputs": [
    {
     "data": {
      "text/plain": [
       "<AxesSubplot:>"
      ]
     },
     "execution_count": 347,
     "metadata": {},
     "output_type": "execute_result"
    },
    {
     "data": {
      "image/png": "[encoded data removed]",
      "text/plain": [
       "<Figure size 640x480 with 1 Axes>"
      ]
     },
     "metadata": {},
     "output_type": "display_data"
    }
   ],
   "source": [
    "# Understanding the Feature Importance\n",
    "%matplotlib inline\n",
    "imp = pd.DataFrame({'importance': xgb_training_pipe_init['XGBoost'].feature_importances_})\n",
    "imp.index = train_X.columns\n",
    "imp.sort_values('importance',inplace=True)\n",
    "imp.plot(kind='barh')"
   ]
  },
  {
   "cell_type": "code",
   "execution_count": 348,
   "metadata": {},
   "outputs": [
    {
     "data": {
      "text/plain": [
       "['ocean_proximity_ISLAND',\n",
       " 'bedrooms_per_room',\n",
       " 'population',\n",
       " 'households',\n",
       " 'ocean_proximity_1H OCEAN',\n",
       " 'total_rooms',\n",
       " 'total_bedrooms',\n",
       " 'rooms_per_household',\n",
       " 'latitude',\n",
       " 'ocean_proximity_NEAR OCEAN',\n",
       " 'housing_median_age',\n",
       " 'longitude',\n",
       " 'ocean_proximity_NEAR BAY',\n",
       " 'population_per_household',\n",
       " 'median_income',\n",
       " 'ocean_proximity_INLAND']"
      ]
     },
     "execution_count": 348,
     "metadata": {},
     "output_type": "execute_result"
    }
   ],
   "source": [
    "list(imp.index)"
   ]
  },
  {
   "cell_type": "markdown",
   "metadata": {},
   "source": [
    "##### Pipeline build based on new importance features"
   ]
  },
  {
   "cell_type": "code",
   "execution_count": 349,
   "metadata": {},
   "outputs": [],
   "source": [
    "# let's find features for some decent defaults\n",
    "imp_features = list(imp.index)\n",
    "\n",
    "estimator = XGBRegressor()\n",
    "xgb_training_pipe2 = Pipeline([\n",
    "    ('', FunctionTransformer(_custom_data_transform, kw_args={'cols2keep':imp_features})),\n",
    "    ('XGBoost', XGBRegressor())\n",
    "])"
   ]
  },
  {
   "cell_type": "markdown",
   "metadata": {},
   "source": [
    "#### Grid Search of the Estimator"
   ]
  },
  {
   "cell_type": "code",
   "execution_count": 350,
   "metadata": {},
   "outputs": [
    {
     "name": "stdout",
     "output_type": "stream",
     "text": [
      "Fitting 2 folds for each of 1 candidates, totalling 2 fits\n"
     ]
    },
    {
     "name": "stderr",
     "output_type": "stream",
     "text": [
      "/home/prabhat/miniconda3/envs/regression-dev-dev/lib/python3.9/site-packages/xgboost/compat.py:36: FutureWarning: pandas.Int64Index is deprecated and will be removed from pandas in a future version. Use pandas.Index with the appropriate dtype instead.\n",
      "  from pandas import MultiIndex, Int64Index\n",
      "/home/prabhat/miniconda3/envs/regression-dev-dev/lib/python3.9/site-packages/xgboost/compat.py:36: FutureWarning: pandas.Int64Index is deprecated and will be removed from pandas in a future version. Use pandas.Index with the appropriate dtype instead.\n",
      "  from pandas import MultiIndex, Int64Index\n",
      "/home/prabhat/miniconda3/envs/regression-dev-dev/lib/python3.9/site-packages/xgboost/data.py:262: FutureWarning: pandas.Int64Index is deprecated and will be removed from pandas in a future version. Use pandas.Index with the appropriate dtype instead.\n",
      "  elif isinstance(data.columns, (pd.Int64Index, pd.RangeIndex)):\n",
      "/home/prabhat/miniconda3/envs/regression-dev-dev/lib/python3.9/site-packages/xgboost/data.py:262: FutureWarning: pandas.Int64Index is deprecated and will be removed from pandas in a future version. Use pandas.Index with the appropriate dtype instead.\n",
      "  elif isinstance(data.columns, (pd.Int64Index, pd.RangeIndex)):\n"
     ]
    },
    {
     "name": "stdout",
     "output_type": "stream",
     "text": [
      "0.8246612506259754\n",
      "{'gamma': 0.03, 'learning_rate': 0.1, 'max_depth': 3, 'min_child_weight': 6, 'n_estimators': 500}\n",
      "CPU times: user 15.1 s, sys: 129 ms, total: 15.2 s\n",
      "Wall time: 3min 16s\n"
     ]
    }
   ],
   "source": [
    "%%time\n",
    "parameters = {\n",
    "   'gamma':[0.03],\n",
    "   'min_child_weight':[6],\n",
    "   'learning_rate':[0.1],\n",
    "   'max_depth':[3],\n",
    "   'n_estimators':[500], \n",
    "}\n",
    "est = XGBRegressor()\n",
    "xgb_grid = GridSearchCV(est,\n",
    "                        parameters,\n",
    "                        cv = 2,\n",
    "                        n_jobs = 4,\n",
    "                        verbose=True)\n",
    "\n",
    "xgb_grid.fit(train_X, train_y)\n",
    "\n",
    "print(xgb_grid.best_score_)\n",
    "print(xgb_grid.best_params_)"
   ]
  },
  {
   "cell_type": "markdown",
   "metadata": {},
   "source": [
    "#### Pipeline Build using the best estimator"
   ]
  },
  {
   "cell_type": "code",
   "execution_count": 351,
   "metadata": {},
   "outputs": [
    {
     "data": {
      "text/html": [
       "<style>#sk-container-id-12 {color: black;background-color: white;}#sk-container-id-12 pre{padding: 0;}#sk-container-id-12 div.sk-toggleable {background-color: white;}#sk-container-id-12 label.sk-toggleable__label {cursor: pointer;display: block;width: 100%;margin-bottom: 0;padding: 0.3em;box-sizing: border-box;text-align: center;}#sk-container-id-12 label.sk-toggleable__label-arrow:before {content: \"▸\";float: left;margin-right: 0.25em;color: #696969;}#sk-container-id-12 label.sk-toggleable__label-arrow:hover:before {color: black;}#sk-container-id-12 div.sk-estimator:hover label.sk-toggleable__label-arrow:before {color: black;}#sk-container-id-12 div.sk-toggleable__content {max-height: 0;max-width: 0;overflow: hidden;text-align: left;background-color: #f0f8ff;}#sk-container-id-12 div.sk-toggleable__content pre {margin: 0.2em;color: black;border-radius: 0.25em;background-color: #f0f8ff;}#sk-container-id-12 input.sk-toggleable__control:checked~div.sk-toggleable__content {max-height: 200px;max-width: 100%;overflow: auto;}#sk-container-id-12 input.sk-toggleable__control:checked~label.sk-toggleable__label-arrow:before {content: \"▾\";}#sk-container-id-12 div.sk-estimator input.sk-toggleable__control:checked~label.sk-toggleable__label {background-color: #d4ebff;}#sk-container-id-12 div.sk-label input.sk-toggleable__control:checked~label.sk-toggleable__label {background-color: #d4ebff;}#sk-container-id-12 input.sk-hidden--visually {border: 0;clip: rect(1px 1px 1px 1px);clip: rect(1px, 1px, 1px, 1px);height: 1px;margin: -1px;overflow: hidden;padding: 0;position: absolute;width: 1px;}#sk-container-id-12 div.sk-estimator {font-family: monospace;background-color: #f0f8ff;border: 1px dotted black;border-radius: 0.25em;box-sizing: border-box;margin-bottom: 0.5em;}#sk-container-id-12 div.sk-estimator:hover {background-color: #d4ebff;}#sk-container-id-12 div.sk-parallel-item::after {content: \"\";width: 100%;border-bottom: 1px solid gray;flex-grow: 1;}#sk-container-id-12 div.sk-label:hover label.sk-toggleable__label {background-color: #d4ebff;}#sk-container-id-12 div.sk-serial::before {content: \"\";position: absolute;border-left: 1px solid gray;box-sizing: border-box;top: 0;bottom: 0;left: 50%;z-index: 0;}#sk-container-id-12 div.sk-serial {display: flex;flex-direction: column;align-items: center;background-color: white;padding-right: 0.2em;padding-left: 0.2em;position: relative;}#sk-container-id-12 div.sk-item {position: relative;z-index: 1;}#sk-container-id-12 div.sk-parallel {display: flex;align-items: stretch;justify-content: center;background-color: white;position: relative;}#sk-container-id-12 div.sk-item::before, #sk-container-id-12 div.sk-parallel-item::before {content: \"\";position: absolute;border-left: 1px solid gray;box-sizing: border-box;top: 0;bottom: 0;left: 50%;z-index: -1;}#sk-container-id-12 div.sk-parallel-item {display: flex;flex-direction: column;z-index: 1;position: relative;background-color: white;}#sk-container-id-12 div.sk-parallel-item:first-child::after {align-self: flex-end;width: 50%;}#sk-container-id-12 div.sk-parallel-item:last-child::after {align-self: flex-start;width: 50%;}#sk-container-id-12 div.sk-parallel-item:only-child::after {width: 0;}#sk-container-id-12 div.sk-dashed-wrapped {border: 1px dashed gray;margin: 0 0.4em 0.5em 0.4em;box-sizing: border-box;padding-bottom: 0.4em;background-color: white;}#sk-container-id-12 div.sk-label label {font-family: monospace;font-weight: bold;display: inline-block;line-height: 1.2em;}#sk-container-id-12 div.sk-label-container {text-align: center;}#sk-container-id-12 div.sk-container {/* jupyter's `normalize.less` sets `[hidden] { display: none; }` but bootstrap.min.css set `[hidden] { display: none !important; }` so we also need the `!important` here to be able to override the default hidden behavior on the sphinx rendered scikit-learn.org. See: https://github.com/scikit-learn/scikit-learn/issues/21755 */display: inline-block !important;position: relative;}#sk-container-id-12 div.sk-text-repr-fallback {display: none;}</style><div id=\"sk-container-id-12\" class=\"sk-top-container\"><div class=\"sk-text-repr-fallback\"><pre>Pipeline(steps=[(&#x27;&#x27;,\n",
       "                 FunctionTransformer(func=&lt;function _custom_data_transform at 0x7f1a25caaee0&gt;,\n",
       "                                     kw_args={&#x27;cols2keep&#x27;: [&#x27;ocean_proximity_ISLAND&#x27;,\n",
       "                                                            &#x27;bedrooms_per_room&#x27;,\n",
       "                                                            &#x27;population&#x27;,\n",
       "                                                            &#x27;households&#x27;,\n",
       "                                                            &#x27;ocean_proximity_1H &#x27;\n",
       "                                                            &#x27;OCEAN&#x27;,\n",
       "                                                            &#x27;total_rooms&#x27;,\n",
       "                                                            &#x27;total_bedrooms&#x27;,\n",
       "                                                            &#x27;rooms_per_household&#x27;,\n",
       "                                                            &#x27;latitude&#x27;,\n",
       "                                                            &#x27;ocean_proximity_NEAR &#x27;\n",
       "                                                            &#x27;OCEAN&#x27;,\n",
       "                                                            &#x27;housing_median_age&#x27;,\n",
       "                                                            &#x27;longitude&#x27;,\n",
       "                                                            &#x27;ocean_p...\n",
       "                              gamma=0.03, gpu_id=-1, importance_type=None,\n",
       "                              interaction_constraints=&#x27;&#x27;, learning_rate=0.1,\n",
       "                              max_delta_step=0, max_depth=3, min_child_weight=6,\n",
       "                              missing=nan, monotone_constraints=&#x27;()&#x27;,\n",
       "                              n_estimators=500, n_jobs=8, num_parallel_tree=1,\n",
       "                              predictor=&#x27;auto&#x27;, random_state=0, reg_alpha=0,\n",
       "                              reg_lambda=1, scale_pos_weight=1, subsample=1,\n",
       "                              tree_method=&#x27;exact&#x27;, validate_parameters=1,\n",
       "                              verbosity=None))])</pre><b>In a Jupyter environment, please rerun this cell to show the HTML representation or trust the notebook. <br />On GitHub, the HTML representation is unable to render, please try loading this page with nbviewer.org.</b></div><div class=\"sk-container\" hidden><div class=\"sk-item sk-dashed-wrapped\"><div class=\"sk-label-container\"><div class=\"sk-label sk-toggleable\"><input class=\"sk-toggleable__control sk-hidden--visually\" id=\"sk-estimator-id-30\" type=\"checkbox\" ><label for=\"sk-estimator-id-30\" class=\"sk-toggleable__label sk-toggleable__label-arrow\">Pipeline</label><div class=\"sk-toggleable__content\"><pre>Pipeline(steps=[(&#x27;&#x27;,\n",
       "                 FunctionTransformer(func=&lt;function _custom_data_transform at 0x7f1a25caaee0&gt;,\n",
       "                                     kw_args={&#x27;cols2keep&#x27;: [&#x27;ocean_proximity_ISLAND&#x27;,\n",
       "                                                            &#x27;bedrooms_per_room&#x27;,\n",
       "                                                            &#x27;population&#x27;,\n",
       "                                                            &#x27;households&#x27;,\n",
       "                                                            &#x27;ocean_proximity_1H &#x27;\n",
       "                                                            &#x27;OCEAN&#x27;,\n",
       "                                                            &#x27;total_rooms&#x27;,\n",
       "                                                            &#x27;total_bedrooms&#x27;,\n",
       "                                                            &#x27;rooms_per_household&#x27;,\n",
       "                                                            &#x27;latitude&#x27;,\n",
       "                                                            &#x27;ocean_proximity_NEAR &#x27;\n",
       "                                                            &#x27;OCEAN&#x27;,\n",
       "                                                            &#x27;housing_median_age&#x27;,\n",
       "                                                            &#x27;longitude&#x27;,\n",
       "                                                            &#x27;ocean_p...\n",
       "                              gamma=0.03, gpu_id=-1, importance_type=None,\n",
       "                              interaction_constraints=&#x27;&#x27;, learning_rate=0.1,\n",
       "                              max_delta_step=0, max_depth=3, min_child_weight=6,\n",
       "                              missing=nan, monotone_constraints=&#x27;()&#x27;,\n",
       "                              n_estimators=500, n_jobs=8, num_parallel_tree=1,\n",
       "                              predictor=&#x27;auto&#x27;, random_state=0, reg_alpha=0,\n",
       "                              reg_lambda=1, scale_pos_weight=1, subsample=1,\n",
       "                              tree_method=&#x27;exact&#x27;, validate_parameters=1,\n",
       "                              verbosity=None))])</pre></div></div></div><div class=\"sk-serial\"><div class=\"sk-item\"><div class=\"sk-estimator sk-toggleable\"><input class=\"sk-toggleable__control sk-hidden--visually\" id=\"sk-estimator-id-31\" type=\"checkbox\" ><label for=\"sk-estimator-id-31\" class=\"sk-toggleable__label sk-toggleable__label-arrow\">FunctionTransformer</label><div class=\"sk-toggleable__content\"><pre>FunctionTransformer(func=&lt;function _custom_data_transform at 0x7f1a25caaee0&gt;,\n",
       "                    kw_args={&#x27;cols2keep&#x27;: [&#x27;ocean_proximity_ISLAND&#x27;,\n",
       "                                           &#x27;bedrooms_per_room&#x27;, &#x27;population&#x27;,\n",
       "                                           &#x27;households&#x27;,\n",
       "                                           &#x27;ocean_proximity_1H OCEAN&#x27;,\n",
       "                                           &#x27;total_rooms&#x27;, &#x27;total_bedrooms&#x27;,\n",
       "                                           &#x27;rooms_per_household&#x27;, &#x27;latitude&#x27;,\n",
       "                                           &#x27;ocean_proximity_NEAR OCEAN&#x27;,\n",
       "                                           &#x27;housing_median_age&#x27;, &#x27;longitude&#x27;,\n",
       "                                           &#x27;ocean_proximity_NEAR BAY&#x27;,\n",
       "                                           &#x27;population_per_household&#x27;,\n",
       "                                           &#x27;median_income&#x27;,\n",
       "                                           &#x27;ocean_proximity_INLAND&#x27;]})</pre></div></div></div><div class=\"sk-item\"><div class=\"sk-estimator sk-toggleable\"><input class=\"sk-toggleable__control sk-hidden--visually\" id=\"sk-estimator-id-32\" type=\"checkbox\" ><label for=\"sk-estimator-id-32\" class=\"sk-toggleable__label sk-toggleable__label-arrow\">XGBRegressor</label><div class=\"sk-toggleable__content\"><pre>XGBRegressor(base_score=0.5, booster=&#x27;gbtree&#x27;, colsample_bylevel=1,\n",
       "             colsample_bynode=1, colsample_bytree=1, enable_categorical=False,\n",
       "             gamma=0.03, gpu_id=-1, importance_type=None,\n",
       "             interaction_constraints=&#x27;&#x27;, learning_rate=0.1, max_delta_step=0,\n",
       "             max_depth=3, min_child_weight=6, missing=nan,\n",
       "             monotone_constraints=&#x27;()&#x27;, n_estimators=500, n_jobs=8,\n",
       "             num_parallel_tree=1, predictor=&#x27;auto&#x27;, random_state=0, reg_alpha=0,\n",
       "             reg_lambda=1, scale_pos_weight=1, subsample=1, tree_method=&#x27;exact&#x27;,\n",
       "             validate_parameters=1, verbosity=None)</pre></div></div></div></div></div></div></div>"
      ],
      "text/plain": [
       "Pipeline(steps=[('',\n",
       "                 FunctionTransformer(func=<function _custom_data_transform at 0x7f1a25caaee0>,\n",
       "                                     kw_args={'cols2keep': ['ocean_proximity_ISLAND',\n",
       "                                                            'bedrooms_per_room',\n",
       "                                                            'population',\n",
       "                                                            'households',\n",
       "                                                            'ocean_proximity_1H '\n",
       "                                                            'OCEAN',\n",
       "                                                            'total_rooms',\n",
       "                                                            'total_bedrooms',\n",
       "                                                            'rooms_per_household',\n",
       "                                                            'latitude',\n",
       "                                                            'ocean_proximity_NEAR '\n",
       "                                                            'OCEAN',\n",
       "                                                            'housing_median_age',\n",
       "                                                            'longitude',\n",
       "                                                            'ocean_p...\n",
       "                              gamma=0.03, gpu_id=-1, importance_type=None,\n",
       "                              interaction_constraints='', learning_rate=0.1,\n",
       "                              max_delta_step=0, max_depth=3, min_child_weight=6,\n",
       "                              missing=nan, monotone_constraints='()',\n",
       "                              n_estimators=500, n_jobs=8, num_parallel_tree=1,\n",
       "                              predictor='auto', random_state=0, reg_alpha=0,\n",
       "                              reg_lambda=1, scale_pos_weight=1, subsample=1,\n",
       "                              tree_method='exact', validate_parameters=1,\n",
       "                              verbosity=None))])"
      ]
     },
     "execution_count": 351,
     "metadata": {},
     "output_type": "execute_result"
    }
   ],
   "source": [
    "xgb_pipeline_final = Pipeline([\n",
    "    ('', FunctionTransformer(_custom_data_transform, kw_args={'cols2keep':imp_features})),\n",
    "    ('XGBoost', xgb_grid.best_estimator_)\n",
    "])\n",
    "xgb_pipeline_final.fit(train_X, train_y)"
   ]
  },
  {
   "cell_type": "code",
   "execution_count": 352,
   "metadata": {},
   "outputs": [],
   "source": [
    "reg_tree_report = RegressionReport(model=xgb_pipeline_final, x_train=train_X, y_train=train_y, x_test= test_X, y_test= test_y)\n",
    "reg_tree_report.get_report(include_shap=False, file_path='regression_tree_model_report')"
   ]
  },
  {
   "cell_type": "markdown",
   "metadata": {},
   "source": [
    "# 5 Model Comparison"
   ]
  },
  {
   "cell_type": "markdown",
   "metadata": {},
   "source": [
    "Now, a comparison report of the  linear (vs) tree -based model  approach can be generated as follows.\n",
    "\n",
    "This code will not be part of the production code."
   ]
  },
  {
   "cell_type": "code",
   "execution_count": 353,
   "metadata": {},
   "outputs": [
    {
     "data": {
      "text/html": [
       "<div>\n",
       "<style scoped>\n",
       "    .dataframe tbody tr th:only-of-type {\n",
       "        vertical-align: middle;\n",
       "    }\n",
       "\n",
       "    .dataframe tbody tr th {\n",
       "        vertical-align: top;\n",
       "    }\n",
       "\n",
       "    .dataframe thead th {\n",
       "        text-align: right;\n",
       "    }\n",
       "</style>\n",
       "<table border=\"1\" class=\"dataframe\">\n",
       "  <thead>\n",
       "    <tr style=\"text-align: right;\">\n",
       "      <th></th>\n",
       "      <th>median_house_value</th>\n",
       "    </tr>\n",
       "  </thead>\n",
       "  <tbody>\n",
       "    <tr>\n",
       "      <th>0</th>\n",
       "      <td>197100.0</td>\n",
       "    </tr>\n",
       "    <tr>\n",
       "      <th>1</th>\n",
       "      <td>366700.0</td>\n",
       "    </tr>\n",
       "    <tr>\n",
       "      <th>2</th>\n",
       "      <td>189800.0</td>\n",
       "    </tr>\n",
       "    <tr>\n",
       "      <th>3</th>\n",
       "      <td>229400.0</td>\n",
       "    </tr>\n",
       "    <tr>\n",
       "      <th>4</th>\n",
       "      <td>133600.0</td>\n",
       "    </tr>\n",
       "    <tr>\n",
       "      <th>...</th>\n",
       "      <td>...</td>\n",
       "    </tr>\n",
       "    <tr>\n",
       "      <th>16507</th>\n",
       "      <td>175000.0</td>\n",
       "    </tr>\n",
       "    <tr>\n",
       "      <th>16508</th>\n",
       "      <td>83000.0</td>\n",
       "    </tr>\n",
       "    <tr>\n",
       "      <th>16509</th>\n",
       "      <td>247000.0</td>\n",
       "    </tr>\n",
       "    <tr>\n",
       "      <th>16510</th>\n",
       "      <td>316700.0</td>\n",
       "    </tr>\n",
       "    <tr>\n",
       "      <th>16511</th>\n",
       "      <td>253800.0</td>\n",
       "    </tr>\n",
       "  </tbody>\n",
       "</table>\n",
       "<p>16512 rows × 1 columns</p>\n",
       "</div>"
      ],
      "text/plain": [
       "       median_house_value\n",
       "0                197100.0\n",
       "1                366700.0\n",
       "2                189800.0\n",
       "3                229400.0\n",
       "4                133600.0\n",
       "...                   ...\n",
       "16507            175000.0\n",
       "16508             83000.0\n",
       "16509            247000.0\n",
       "16510            316700.0\n",
       "16511            253800.0\n",
       "\n",
       "[16512 rows x 1 columns]"
      ]
     },
     "execution_count": 353,
     "metadata": {},
     "output_type": "execute_result"
    }
   ],
   "source": [
    "train_y"
   ]
  },
  {
   "cell_type": "code",
   "execution_count": 355,
   "metadata": {},
   "outputs": [],
   "source": [
    "model_pipelines = [reg_ppln, xgb_pipeline_final]\n",
    "model_comparison_report = RegressionComparison(models=model_pipelines,x=train_X, y=train_y)\n",
    "#metrics = model_comparison_report.get_report(file_path='regression_comparison')"
   ]
  },
  {
   "cell_type": "code",
   "execution_count": 358,
   "metadata": {},
   "outputs": [
    {
     "ename": "",
     "evalue": "",
     "output_type": "error",
     "traceback": [
      "\u001b[1;31mThe Kernel crashed while executing code in the the current cell or a previous cell. Please review the code in the cell(s) to identify a possible cause of the failure. Click <a href='https://aka.ms/vscodeJupyterKernelCrash'>here</a> for more info. View Jupyter <a href='command:jupyter.viewOutput'>log</a> for further details."
     ]
    }
   ],
   "source": [
    "#model_comparison_report.performance_metrics"
   ]
  },
  {
   "cell_type": "markdown",
   "metadata": {},
   "source": [
    "**Dev NOTES**\n",
    "<details>\n",
    "\n",
    "the above metrics are absolute nos and not %ges"
   ]
  },
  {
   "cell_type": "markdown",
   "metadata": {},
   "source": [
    "In this example we are choosing LM model for pipelining. General criteria for choosing production models is:\n",
    "\n",
    "- Parametric models (aka whitebox models) such as Linear Regression are easier to explain to non-technical audience.\n",
    "- Generally these are accepted fast and adoption is quicker.\n",
    "- If the downstream calls for optimization using these models parametric models are easier to implement.\n",
    "- When accuracy is primary goal without explainability, the above two takes a backseat"
   ]
  },
  {
   "cell_type": "markdown",
   "metadata": {},
   "source": []
  }
 ],
 "metadata": {
  "kernelspec": {
   "display_name": "Python 3 (ipykernel)",
   "language": "python",
   "name": "python3"
  },
  "language_info": {
   "codemirror_mode": {
    "name": "ipython",
    "version": 3
   },
   "file_extension": ".py",
   "mimetype": "text/x-python",
   "name": "python",
   "nbconvert_exporter": "python",
   "pygments_lexer": "ipython3",
   "version": "3.9.16"
  }
 },
 "nbformat": 4,
 "nbformat_minor": 4
}
