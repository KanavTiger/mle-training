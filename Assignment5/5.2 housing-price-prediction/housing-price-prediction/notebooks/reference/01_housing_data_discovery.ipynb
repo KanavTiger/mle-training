{
 "cells": [
  {
   "attachments": {},
   "cell_type": "markdown",
   "metadata": {},
   "source": [
    "# Purpose\n",
    "This notebook describes the typical activities carried out  at the beginning to a project / thread when customer shares new data. We will be trying to understand the tables, columns and information flow. Typically we also look for data issues and confirm with respective owners for resolution. At the end of this activity, the data sources and their treatment is finalized. Code in this notebook will not be part of the production code.\n",
    "\n",
    "# Initialization"
   ]
  },
  {
   "cell_type": "code",
   "execution_count": 7,
   "metadata": {},
   "outputs": [
    {
     "name": "stdout",
     "output_type": "stream",
     "text": [
      "The autoreload extension is already loaded. To reload it, use:\n",
      "  %reload_ext autoreload\n"
     ]
    }
   ],
   "source": [
    "%load_ext autoreload\n",
    "%autoreload 2"
   ]
  },
  {
   "cell_type": "code",
   "execution_count": 8,
   "metadata": {},
   "outputs": [
    {
     "name": "stdout",
     "output_type": "stream",
     "text": [
      "CPU times: user 104 µs, sys: 0 ns, total: 104 µs\n",
      "Wall time: 108 µs\n"
     ]
    }
   ],
   "source": [
    "%%time\n",
    "\n",
    "# Third-party imports\n",
    "import os.path as op\n",
    "import pandas as pd\n",
    "import great_expectations as ge\n",
    "\n",
    "# Project imports\n",
    "from ta_lib.core.api import display_as_tabs, initialize_environment\n",
    "\n",
    "# Initialization\n",
    "initialize_environment(debug=False, hide_warnings=True)"
   ]
  },
  {
   "cell_type": "markdown",
   "metadata": {},
   "source": [
    "# Data\n",
    "\n",
    "## Background\n",
    "\n",
    "Customer is a distributor of electronic devices. They partner with manufacturers, carriers and refurbishers and sell across to  retailers. The selling price is the outcome of negotiation between sales representatives and retailers. Customer wants to understand the selling price variation and determine  optimal pricing with Machine Learning."
   ]
  },
  {
   "attachments": {},
   "cell_type": "markdown",
   "metadata": {},
   "source": [
    "# Data download"
   ]
  },
  {
   "cell_type": "code",
   "execution_count": 9,
   "metadata": {},
   "outputs": [],
   "source": [
    "import os\n",
    "import tarfile\n",
    "import urllib\n",
    "\n",
    "DOWNLOAD_ROOT = \"https://raw.githubusercontent.com/ageron/handson-ml2/master/\"\n",
    "HOUSING_PATH = os.path.join(\"data/raw/\", \"housing\")\n",
    "HOUSING_URL = DOWNLOAD_ROOT + \"datasets/housing/housing.tgz\"\n",
    "\n",
    "def fetch_housing_data(housing_url=HOUSING_URL, housing_path=HOUSING_PATH):\n",
    "    if not os.path.isdir(housing_path):\n",
    "        os.makedirs(housing_path)\n",
    "    tgz_path = os.path.join(housing_path, \"housing.tgz\")\n",
    "    urllib.request.urlretrieve(housing_url, tgz_path)\n",
    "    housing_tgz = tarfile.open(tgz_path)\n",
    "    housing_tgz.extractall(path=housing_path)\n",
    "    housing_tgz.close()\n",
    "#fetch_housing_data()"
   ]
  },
  {
   "cell_type": "code",
   "execution_count": 10,
   "metadata": {},
   "outputs": [
    {
     "data": {
      "text/plain": [
       "'data/raw/housing'"
      ]
     },
     "execution_count": 10,
     "metadata": {},
     "output_type": "execute_result"
    }
   ],
   "source": [
    "HOUSING_PATH"
   ]
  },
  {
   "cell_type": "code",
   "execution_count": 11,
   "metadata": {},
   "outputs": [],
   "source": [
    "from ta_lib.core.api import create_context, list_datasets, load_dataset"
   ]
  },
  {
   "cell_type": "code",
   "execution_count": 12,
   "metadata": {},
   "outputs": [],
   "source": [
    "config_path = op.join('conf', 'config.yml')\n",
    "context = create_context(config_path)"
   ]
  },
  {
   "cell_type": "code",
   "execution_count": 13,
   "metadata": {},
   "outputs": [
    {
     "data": {
      "text/plain": [
       "['/raw/housing',\n",
       " '/raw/orders',\n",
       " '/raw/product',\n",
       " '/cleaned/housing',\n",
       " '/cleaned/orders',\n",
       " '/cleaned/product',\n",
       " '/cleaned/sales',\n",
       " '/processed/housing',\n",
       " '/processed/sales',\n",
       " '/train/housing/features',\n",
       " '/train/housing/target',\n",
       " '/train/sales/features',\n",
       " '/train/sales/target',\n",
       " '/test/housing/features',\n",
       " '/test/housing/target',\n",
       " '/test/sales/features',\n",
       " '/test/sales/target',\n",
       " '/score/housing/output',\n",
       " '/score/sales/output']"
      ]
     },
     "execution_count": 13,
     "metadata": {},
     "output_type": "execute_result"
    }
   ],
   "source": [
    "list_datasets(context)"
   ]
  },
  {
   "cell_type": "code",
   "execution_count": 14,
   "metadata": {},
   "outputs": [],
   "source": [
    "# load datasets\n",
    "housing_df = load_dataset(context, 'raw/housing')"
   ]
  },
  {
   "cell_type": "markdown",
   "metadata": {},
   "source": [
    "# Exploratory Analysis\n",
    "\n",
    "Given the raw data from data ingestion, we would now like to explore and learn more details about the data.\n",
    "\n",
    "\n",
    "The output of the step would be a summary report and discussion of any pertinent findings.\n"
   ]
  },
  {
   "cell_type": "code",
   "execution_count": 15,
   "metadata": {},
   "outputs": [],
   "source": [
    "# Import the eda API\n",
    "import ta_lib.eda.api as eda"
   ]
  },
  {
   "cell_type": "markdown",
   "metadata": {},
   "source": [
    "## Variable summary"
   ]
  },
  {
   "cell_type": "code",
   "execution_count": 16,
   "metadata": {},
   "outputs": [
    {
     "data": {},
     "metadata": {},
     "output_type": "display_data"
    },
    {
     "data": {
      "application/vnd.holoviews_exec.v0+json": "",
      "text/html": [
       "<div id='1002'>\n",
       "  <div class=\"bk-root\" id=\"09bdeecc-bd2e-4602-9dc6-292d5cdec700\" data-root-id=\"1002\"></div>\n",
       "</div>\n",
       "<script type=\"application/javascript\">(function(root) {\n",
       "  function embed_document(root) {\n",
       "    var docs_json = {\"0709ad71-9a52-4f6a-9b81-59bf11b98d06\":{\"defs\":[{\"extends\":null,\"module\":null,\"name\":\"ReactiveHTML1\",\"overrides\":[],\"properties\":[]},{\"extends\":null,\"module\":null,\"name\":\"FlexBox1\",\"overrides\":[],\"properties\":[{\"default\":\"flex-start\",\"kind\":null,\"name\":\"align_content\"},{\"default\":\"flex-start\",\"kind\":null,\"name\":\"align_items\"},{\"default\":\"row\",\"kind\":null,\"name\":\"flex_direction\"},{\"default\":\"wrap\",\"kind\":null,\"name\":\"flex_wrap\"},{\"default\":\"flex-start\",\"kind\":null,\"name\":\"justify_content\"}]},{\"extends\":null,\"module\":null,\"name\":\"GridStack1\",\"overrides\":[],\"properties\":[{\"default\":\"warn\",\"kind\":null,\"name\":\"mode\"},{\"default\":null,\"kind\":null,\"name\":\"ncols\"},{\"default\":null,\"kind\":null,\"name\":\"nrows\"},{\"default\":true,\"kind\":null,\"name\":\"allow_resize\"},{\"default\":true,\"kind\":null,\"name\":\"allow_drag\"},{\"default\":[],\"kind\":null,\"name\":\"state\"}]},{\"extends\":null,\"module\":null,\"name\":\"click1\",\"overrides\":[],\"properties\":[{\"default\":\"\",\"kind\":null,\"name\":\"terminal_output\"},{\"default\":\"\",\"kind\":null,\"name\":\"debug_name\"},{\"default\":0,\"kind\":null,\"name\":\"clears\"}]},{\"extends\":null,\"module\":null,\"name\":\"NotificationAreaBase1\",\"overrides\":[],\"properties\":[{\"default\":\"bottom-right\",\"kind\":null,\"name\":\"position\"},{\"default\":0,\"kind\":null,\"name\":\"_clear\"}]},{\"extends\":null,\"module\":null,\"name\":\"NotificationArea1\",\"overrides\":[],\"properties\":[{\"default\":[],\"kind\":null,\"name\":\"notifications\"},{\"default\":\"bottom-right\",\"kind\":null,\"name\":\"position\"},{\"default\":0,\"kind\":null,\"name\":\"_clear\"},{\"default\":[{\"background\":\"#ffc107\",\"icon\":{\"className\":\"fas fa-exclamation-triangle\",\"color\":\"white\",\"tagName\":\"i\"},\"type\":\"warning\"},{\"background\":\"#007bff\",\"icon\":{\"className\":\"fas fa-info-circle\",\"color\":\"white\",\"tagName\":\"i\"},\"type\":\"info\"}],\"kind\":null,\"name\":\"types\"}]},{\"extends\":null,\"module\":null,\"name\":\"Notification\",\"overrides\":[],\"properties\":[{\"default\":null,\"kind\":null,\"name\":\"background\"},{\"default\":3000,\"kind\":null,\"name\":\"duration\"},{\"default\":null,\"kind\":null,\"name\":\"icon\"},{\"default\":\"\",\"kind\":null,\"name\":\"message\"},{\"default\":null,\"kind\":null,\"name\":\"notification_type\"},{\"default\":false,\"kind\":null,\"name\":\"_destroyed\"}]},{\"extends\":null,\"module\":null,\"name\":\"TemplateActions1\",\"overrides\":[],\"properties\":[{\"default\":0,\"kind\":null,\"name\":\"open_modal\"},{\"default\":0,\"kind\":null,\"name\":\"close_modal\"}]},{\"extends\":null,\"module\":null,\"name\":\"MaterialTemplateActions1\",\"overrides\":[],\"properties\":[{\"default\":0,\"kind\":null,\"name\":\"open_modal\"},{\"default\":0,\"kind\":null,\"name\":\"close_modal\"}]}],\"roots\":{\"references\":[{\"attributes\":{\"margin\":[0,0,0,0],\"tabs\":[{\"id\":\"1004\"}]},\"id\":\"1002\",\"type\":\"panel.models.tabs.Tabs\"},{\"attributes\":{\"reload\":false},\"id\":\"1006\",\"type\":\"panel.models.location.Location\"},{\"attributes\":{\"child\":{\"id\":\"1003\"},\"name\":\"housing\",\"title\":\"housing\"},\"id\":\"1004\",\"type\":\"Panel\"},{\"attributes\":{\"margin\":[5,5,5,5],\"name\":\"housing\",\"text\":\"&lt;pre&gt;(20640, 10)&lt;/pre&gt;\"},\"id\":\"1003\",\"type\":\"panel.models.markup.HTML\"},{\"attributes\":{\"client_comm_id\":\"c7a72fc398f84081a23ac67024864e4b\",\"comm_id\":\"9b0f8484266a4b8dba5e3393bca72b77\",\"plot_id\":\"1002\"},\"id\":\"1005\",\"type\":\"panel.models.comm_manager.CommManager\"}],\"root_ids\":[\"1002\",\"1005\",\"1006\"]},\"title\":\"Bokeh Application\",\"version\":\"2.4.3\"}};\n",
       "    var render_items = [{\"docid\":\"0709ad71-9a52-4f6a-9b81-59bf11b98d06\",\"root_ids\":[\"1002\"],\"roots\":{\"1002\":\"09bdeecc-bd2e-4602-9dc6-292d5cdec700\"}}];\n",
       "    root.Bokeh.embed.embed_items_notebook(docs_json, render_items);\n",
       "  }\n",
       "  if (root.Bokeh !== undefined && root.Bokeh.Panel !== undefined) {\n",
       "    embed_document(root);\n",
       "  } else {\n",
       "    var attempts = 0;\n",
       "    var timer = setInterval(function(root) {\n",
       "      if (root.Bokeh !== undefined && root.Bokeh.Panel !== undefined) {\n",
       "        clearInterval(timer);\n",
       "        embed_document(root);\n",
       "      } else if (document.readyState == \"complete\") {\n",
       "        attempts++;\n",
       "        if (attempts > 200) {\n",
       "          clearInterval(timer);\n",
       "          console.log(\"Bokeh: ERROR: Unable to run BokehJS code because BokehJS library is missing\");\n",
       "        }\n",
       "      }\n",
       "    }, 25, root)\n",
       "  }\n",
       "})(window);</script>"
      ],
      "text/plain": [
       "Tabs\n",
       "    [0] Str(tuple, name='housing')"
      ]
     },
     "execution_count": 16,
     "metadata": {
      "application/vnd.holoviews_exec.v0+json": {
       "id": "1002"
      }
     },
     "output_type": "execute_result"
    }
   ],
   "source": [
    "display_as_tabs([('housing', housing_df.shape)])"
   ]
  },
  {
   "cell_type": "code",
   "execution_count": 17,
   "metadata": {},
   "outputs": [
    {
     "data": {},
     "metadata": {},
     "output_type": "display_data"
    },
    {
     "data": {
      "application/vnd.holoviews_exec.v0+json": "",
      "text/html": [
       "<div id='1007'>\n",
       "  <div class=\"bk-root\" id=\"54f068ac-89f3-4302-b1d9-c9d0281c911b\" data-root-id=\"1007\"></div>\n",
       "</div>\n",
       "<script type=\"application/javascript\">(function(root) {\n",
       "  function embed_document(root) {\n",
       "    var docs_json = {\"0bf86806-c2ae-491d-9c7a-3fae27e49bf6\":{\"defs\":[{\"extends\":null,\"module\":null,\"name\":\"ReactiveHTML1\",\"overrides\":[],\"properties\":[]},{\"extends\":null,\"module\":null,\"name\":\"FlexBox1\",\"overrides\":[],\"properties\":[{\"default\":\"flex-start\",\"kind\":null,\"name\":\"align_content\"},{\"default\":\"flex-start\",\"kind\":null,\"name\":\"align_items\"},{\"default\":\"row\",\"kind\":null,\"name\":\"flex_direction\"},{\"default\":\"wrap\",\"kind\":null,\"name\":\"flex_wrap\"},{\"default\":\"flex-start\",\"kind\":null,\"name\":\"justify_content\"}]},{\"extends\":null,\"module\":null,\"name\":\"GridStack1\",\"overrides\":[],\"properties\":[{\"default\":\"warn\",\"kind\":null,\"name\":\"mode\"},{\"default\":null,\"kind\":null,\"name\":\"ncols\"},{\"default\":null,\"kind\":null,\"name\":\"nrows\"},{\"default\":true,\"kind\":null,\"name\":\"allow_resize\"},{\"default\":true,\"kind\":null,\"name\":\"allow_drag\"},{\"default\":[],\"kind\":null,\"name\":\"state\"}]},{\"extends\":null,\"module\":null,\"name\":\"click1\",\"overrides\":[],\"properties\":[{\"default\":\"\",\"kind\":null,\"name\":\"terminal_output\"},{\"default\":\"\",\"kind\":null,\"name\":\"debug_name\"},{\"default\":0,\"kind\":null,\"name\":\"clears\"}]},{\"extends\":null,\"module\":null,\"name\":\"NotificationAreaBase1\",\"overrides\":[],\"properties\":[{\"default\":\"bottom-right\",\"kind\":null,\"name\":\"position\"},{\"default\":0,\"kind\":null,\"name\":\"_clear\"}]},{\"extends\":null,\"module\":null,\"name\":\"NotificationArea1\",\"overrides\":[],\"properties\":[{\"default\":[],\"kind\":null,\"name\":\"notifications\"},{\"default\":\"bottom-right\",\"kind\":null,\"name\":\"position\"},{\"default\":0,\"kind\":null,\"name\":\"_clear\"},{\"default\":[{\"background\":\"#ffc107\",\"icon\":{\"className\":\"fas fa-exclamation-triangle\",\"color\":\"white\",\"tagName\":\"i\"},\"type\":\"warning\"},{\"background\":\"#007bff\",\"icon\":{\"className\":\"fas fa-info-circle\",\"color\":\"white\",\"tagName\":\"i\"},\"type\":\"info\"}],\"kind\":null,\"name\":\"types\"}]},{\"extends\":null,\"module\":null,\"name\":\"Notification\",\"overrides\":[],\"properties\":[{\"default\":null,\"kind\":null,\"name\":\"background\"},{\"default\":3000,\"kind\":null,\"name\":\"duration\"},{\"default\":null,\"kind\":null,\"name\":\"icon\"},{\"default\":\"\",\"kind\":null,\"name\":\"message\"},{\"default\":null,\"kind\":null,\"name\":\"notification_type\"},{\"default\":false,\"kind\":null,\"name\":\"_destroyed\"}]},{\"extends\":null,\"module\":null,\"name\":\"TemplateActions1\",\"overrides\":[],\"properties\":[{\"default\":0,\"kind\":null,\"name\":\"open_modal\"},{\"default\":0,\"kind\":null,\"name\":\"close_modal\"}]},{\"extends\":null,\"module\":null,\"name\":\"MaterialTemplateActions1\",\"overrides\":[],\"properties\":[{\"default\":0,\"kind\":null,\"name\":\"open_modal\"},{\"default\":0,\"kind\":null,\"name\":\"close_modal\"}]}],\"roots\":{\"references\":[{\"attributes\":{},\"id\":\"1012\",\"type\":\"CellEditor\"},{\"attributes\":{\"source\":{\"id\":\"1008\"}},\"id\":\"1038\",\"type\":\"CDSView\"},{\"attributes\":{},\"id\":\"1017\",\"type\":\"StringEditor\"},{\"attributes\":{\"editor\":{\"id\":\"1012\"},\"field\":\"index\",\"formatter\":{\"id\":\"1010\"},\"title\":\"index\",\"width\":0},\"id\":\"1013\",\"type\":\"TableColumn\"},{\"attributes\":{},\"id\":\"1010\",\"type\":\"StringFormatter\"},{\"attributes\":{},\"id\":\"1016\",\"type\":\"StringFormatter\"},{\"attributes\":{\"indices\":[]},\"id\":\"1009\",\"type\":\"Selection\"},{\"attributes\":{},\"id\":\"1026\",\"type\":\"StringFormatter\"},{\"attributes\":{},\"id\":\"1032\",\"type\":\"StringEditor\"},{\"attributes\":{\"client_comm_id\":\"62088207b41548c4922aaf78a90e4268\",\"comm_id\":\"84933d9b05f149da9a9cfba104650704\",\"plot_id\":\"1007\"},\"id\":\"1047\",\"type\":\"panel.models.comm_manager.CommManager\"},{\"attributes\":{\"editor\":{\"id\":\"1022\"},\"field\":\"Datatype\",\"formatter\":{\"id\":\"1021\"},\"title\":\"Datatype\",\"width\":0},\"id\":\"1023\",\"type\":\"TableColumn\"},{\"attributes\":{\"editor\":{\"id\":\"1017\"},\"field\":\"Variable Name\",\"formatter\":{\"id\":\"1016\"},\"title\":\"Variable Name\",\"width\":0},\"id\":\"1018\",\"type\":\"TableColumn\"},{\"attributes\":{\"child\":{\"id\":\"1036\"},\"name\":\"housing\",\"title\":\"housing\"},\"id\":\"1040\",\"type\":\"Panel\"},{\"attributes\":{},\"id\":\"1041\",\"type\":\"UnionRenderers\"},{\"attributes\":{},\"id\":\"1022\",\"type\":\"StringEditor\"},{\"attributes\":{\"editor\":{\"id\":\"1027\"},\"field\":\"No of Unique\",\"formatter\":{\"id\":\"1026\"},\"title\":\"No of Unique\",\"width\":0},\"id\":\"1028\",\"type\":\"TableColumn\"},{\"attributes\":{},\"id\":\"1027\",\"type\":\"StringEditor\"},{\"attributes\":{},\"id\":\"1021\",\"type\":\"StringFormatter\"},{\"attributes\":{\"data\":{\"Datatype\":[\"float64\",\"float64\",\"float64\",\"float64\",\"float64\",\"float64\",\"float64\",\"float64\",\"float64\",\"object\"],\"No of Unique\":[\"844\",\"862\",\"52\",\"5926\",\"1923\",\"3888\",\"1815\",\"12928\",\"3842\",\"5\"],\"Samples\":[\"[-122.23, -122.22, -122.24, -122.25, -122.26]\",\"[37.88, 37.86, 37.85, 37.84, 37.83]\",\"[41.0, 21.0, 52.0, 42.0, 50.0]\",\"[880.0, 7099.0, 1467.0, 1274.0, 1627.0]\",\"[129.0, 1106.0, 190.0, 235.0, 280.0]\",\"[322.0, 2401.0, 496.0, 558.0, 565.0]\",\"[126.0, 1138.0, 177.0, 219.0, 259.0]\",\"[8.3252, 8.3014, 7.2574, 5.6431, 3.8462]\",\"[452600.0, 358500.0, 352100.0, 341300.0, 342200.0]\",\"['NEAR BAY', '<1H OCEAN', 'INLAND', 'NEAR OCEAN', 'ISLAND']\"],\"Variable Name\":[\"longitude\",\"latitude\",\"housing_median_age\",\"total_rooms\",\"total_bedrooms\",\"population\",\"households\",\"median_income\",\"median_house_value\",\"ocean_proximity\"],\"index\":[\"longitude\",\"latitude\",\"housing_median_age\",\"total_rooms\",\"total_bedrooms\",\"population\",\"households\",\"median_income\",\"median_house_value\",\"ocean_proximity\"]},\"selected\":{\"id\":\"1009\"},\"selection_policy\":{\"id\":\"1041\"}},\"id\":\"1008\",\"type\":\"ColumnDataSource\"},{\"attributes\":{\"margin\":[0,0,0,0],\"tabs\":[{\"id\":\"1040\"}]},\"id\":\"1007\",\"type\":\"panel.models.tabs.Tabs\"},{\"attributes\":{\"columns\":[{\"id\":\"1013\"},{\"id\":\"1018\"},{\"id\":\"1023\"},{\"id\":\"1028\"},{\"id\":\"1033\"}],\"editable\":true,\"height\":300,\"index_position\":null,\"margin\":[5,10,5,10],\"name\":\"housing\",\"row_height\":40,\"sizing_mode\":\"fixed\",\"source\":{\"id\":\"1008\"},\"view\":{\"id\":\"1038\"},\"width\":800},\"id\":\"1036\",\"type\":\"DataTable\"},{\"attributes\":{\"editor\":{\"id\":\"1032\"},\"field\":\"Samples\",\"formatter\":{\"id\":\"1031\"},\"title\":\"Samples\",\"width\":0},\"id\":\"1033\",\"type\":\"TableColumn\"},{\"attributes\":{},\"id\":\"1031\",\"type\":\"StringFormatter\"}],\"root_ids\":[\"1007\",\"1047\"]},\"title\":\"Bokeh Application\",\"version\":\"2.4.3\"}};\n",
       "    var render_items = [{\"docid\":\"0bf86806-c2ae-491d-9c7a-3fae27e49bf6\",\"root_ids\":[\"1007\"],\"roots\":{\"1007\":\"54f068ac-89f3-4302-b1d9-c9d0281c911b\"}}];\n",
       "    root.Bokeh.embed.embed_items_notebook(docs_json, render_items);\n",
       "  }\n",
       "  if (root.Bokeh !== undefined && root.Bokeh.Panel !== undefined) {\n",
       "    embed_document(root);\n",
       "  } else {\n",
       "    var attempts = 0;\n",
       "    var timer = setInterval(function(root) {\n",
       "      if (root.Bokeh !== undefined && root.Bokeh.Panel !== undefined) {\n",
       "        clearInterval(timer);\n",
       "        embed_document(root);\n",
       "      } else if (document.readyState == \"complete\") {\n",
       "        attempts++;\n",
       "        if (attempts > 200) {\n",
       "          clearInterval(timer);\n",
       "          console.log(\"Bokeh: ERROR: Unable to run BokehJS code because BokehJS library is missing\");\n",
       "        }\n",
       "      }\n",
       "    }, 25, root)\n",
       "  }\n",
       "})(window);</script>"
      ],
      "text/plain": [
       "Tabs\n",
       "    [0] DataFrame(height=300, name='housing', sizing_mode='fixed', value=                         V..., width=800)"
      ]
     },
     "execution_count": 17,
     "metadata": {
      "application/vnd.holoviews_exec.v0+json": {
       "id": "1007"
      }
     },
     "output_type": "execute_result"
    }
   ],
   "source": [
    "sum1 = eda.get_variable_summary(housing_df)\n",
    "\n",
    "display_as_tabs([('housing', sum1)])"
   ]
  },
  {
   "cell_type": "code",
   "execution_count": 18,
   "metadata": {},
   "outputs": [
    {
     "data": {
      "text/plain": [
       "longitude               0\n",
       "latitude                0\n",
       "housing_median_age      0\n",
       "total_rooms             0\n",
       "total_bedrooms        207\n",
       "population              0\n",
       "households              0\n",
       "median_income           0\n",
       "median_house_value      0\n",
       "ocean_proximity         0\n",
       "dtype: int64"
      ]
     },
     "execution_count": 18,
     "metadata": {},
     "output_type": "execute_result"
    }
   ],
   "source": [
    "housing_df.isna().sum()"
   ]
  },
  {
   "cell_type": "markdown",
   "metadata": {},
   "source": [
    "## Health Analysis"
   ]
  },
  {
   "cell_type": "markdown",
   "metadata": {},
   "source": [
    "Get an overview of the overall health of the dataset. This is usually quick to compute and hopefully highlights some problems to focus on.\n",
    "\n"
   ]
  },
  {
   "cell_type": "markdown",
   "metadata": {},
   "source": [
    "### Summary Plot\n",
    "\n",
    "Provides a high level summary of the dataset health.\n",
    "\n",
    "**Watch out for:**\n",
    "\n",
    "* too few numeric values\n",
    "* high % of missing values\n",
    "* high % of duplicate values\n",
    "* high % of duplicate columns "
   ]
  },
  {
   "cell_type": "code",
   "execution_count": 19,
   "metadata": {},
   "outputs": [
    {
     "data": {},
     "metadata": {},
     "output_type": "display_data"
    },
    {
     "data": {},
     "metadata": {},
     "output_type": "display_data"
    },
    {
     "data": {
      "application/vnd.holoviews_exec.v0+json": "",
      "text/html": [
       "<div id='1058'>\n",
       "  <div class=\"bk-root\" id=\"bb0589c9-63ab-4e33-bd6c-934ca06e4f93\" data-root-id=\"1058\"></div>\n",
       "</div>\n",
       "<script type=\"application/javascript\">(function(root) {\n",
       "  function embed_document(root) {\n",
       "    var docs_json = {\"469fd44c-34ca-4397-8845-785762584215\":{\"defs\":[{\"extends\":null,\"module\":null,\"name\":\"ReactiveHTML1\",\"overrides\":[],\"properties\":[]},{\"extends\":null,\"module\":null,\"name\":\"FlexBox1\",\"overrides\":[],\"properties\":[{\"default\":\"flex-start\",\"kind\":null,\"name\":\"align_content\"},{\"default\":\"flex-start\",\"kind\":null,\"name\":\"align_items\"},{\"default\":\"row\",\"kind\":null,\"name\":\"flex_direction\"},{\"default\":\"wrap\",\"kind\":null,\"name\":\"flex_wrap\"},{\"default\":\"flex-start\",\"kind\":null,\"name\":\"justify_content\"}]},{\"extends\":null,\"module\":null,\"name\":\"GridStack1\",\"overrides\":[],\"properties\":[{\"default\":\"warn\",\"kind\":null,\"name\":\"mode\"},{\"default\":null,\"kind\":null,\"name\":\"ncols\"},{\"default\":null,\"kind\":null,\"name\":\"nrows\"},{\"default\":true,\"kind\":null,\"name\":\"allow_resize\"},{\"default\":true,\"kind\":null,\"name\":\"allow_drag\"},{\"default\":[],\"kind\":null,\"name\":\"state\"}]},{\"extends\":null,\"module\":null,\"name\":\"click1\",\"overrides\":[],\"properties\":[{\"default\":\"\",\"kind\":null,\"name\":\"terminal_output\"},{\"default\":\"\",\"kind\":null,\"name\":\"debug_name\"},{\"default\":0,\"kind\":null,\"name\":\"clears\"}]},{\"extends\":null,\"module\":null,\"name\":\"NotificationAreaBase1\",\"overrides\":[],\"properties\":[{\"default\":\"bottom-right\",\"kind\":null,\"name\":\"position\"},{\"default\":0,\"kind\":null,\"name\":\"_clear\"}]},{\"extends\":null,\"module\":null,\"name\":\"NotificationArea1\",\"overrides\":[],\"properties\":[{\"default\":[],\"kind\":null,\"name\":\"notifications\"},{\"default\":\"bottom-right\",\"kind\":null,\"name\":\"position\"},{\"default\":0,\"kind\":null,\"name\":\"_clear\"},{\"default\":[{\"background\":\"#ffc107\",\"icon\":{\"className\":\"fas fa-exclamation-triangle\",\"color\":\"white\",\"tagName\":\"i\"},\"type\":\"warning\"},{\"background\":\"#007bff\",\"icon\":{\"className\":\"fas fa-info-circle\",\"color\":\"white\",\"tagName\":\"i\"},\"type\":\"info\"}],\"kind\":null,\"name\":\"types\"}]},{\"extends\":null,\"module\":null,\"name\":\"Notification\",\"overrides\":[],\"properties\":[{\"default\":null,\"kind\":null,\"name\":\"background\"},{\"default\":3000,\"kind\":null,\"name\":\"duration\"},{\"default\":null,\"kind\":null,\"name\":\"icon\"},{\"default\":\"\",\"kind\":null,\"name\":\"message\"},{\"default\":null,\"kind\":null,\"name\":\"notification_type\"},{\"default\":false,\"kind\":null,\"name\":\"_destroyed\"}]},{\"extends\":null,\"module\":null,\"name\":\"TemplateActions1\",\"overrides\":[],\"properties\":[{\"default\":0,\"kind\":null,\"name\":\"open_modal\"},{\"default\":0,\"kind\":null,\"name\":\"close_modal\"}]},{\"extends\":null,\"module\":null,\"name\":\"MaterialTemplateActions1\",\"overrides\":[],\"properties\":[{\"default\":0,\"kind\":null,\"name\":\"open_modal\"},{\"default\":0,\"kind\":null,\"name\":\"close_modal\"}]}],\"roots\":{\"references\":[{\"attributes\":{\"overlay\":{\"id\":\"1083\"}},\"id\":\"1081\",\"type\":\"BoxZoomTool\"},{\"attributes\":{\"axis_label\":\"\",\"coordinates\":null,\"formatter\":{\"id\":\"1288\"},\"group\":null,\"major_label_policy\":{\"id\":\"1289\"},\"ticker\":{\"id\":\"1262\"}},\"id\":\"1261\",\"type\":\"CategoricalAxis\"},{\"attributes\":{\"coordinates\":null,\"data_source\":{\"id\":\"1216\"},\"glyph\":{\"id\":\"1219\"},\"group\":null,\"hover_glyph\":null,\"muted_glyph\":{\"id\":\"1221\"},\"nonselection_glyph\":{\"id\":\"1220\"},\"selection_glyph\":{\"id\":\"1236\"},\"view\":{\"id\":\"1223\"}},\"id\":\"1222\",\"type\":\"GlyphRenderer\"},{\"attributes\":{\"overlay\":{\"id\":\"1269\"}},\"id\":\"1267\",\"type\":\"BoxZoomTool\"},{\"attributes\":{},\"id\":\"1288\",\"type\":\"CategoricalTickFormatter\"},{\"attributes\":{},\"id\":\"1217\",\"type\":\"Selection\"},{\"attributes\":{},\"id\":\"1262\",\"type\":\"CategoricalTicker\"},{\"attributes\":{},\"id\":\"1255\",\"type\":\"CategoricalScale\"},{\"attributes\":{},\"id\":\"1268\",\"type\":\"ResetTool\"},{\"attributes\":{\"coordinates\":null,\"group\":null,\"items\":[{\"id\":\"1235\"}],\"location\":[0,0]},\"id\":\"1234\",\"type\":\"Legend\"},{\"attributes\":{},\"id\":\"1067\",\"type\":\"LinearScale\"},{\"attributes\":{},\"id\":\"1165\",\"type\":\"AllLabels\"},{\"attributes\":{},\"id\":\"1144\",\"type\":\"ResetTool\"},{\"attributes\":{},\"id\":\"1289\",\"type\":\"AllLabels\"},{\"attributes\":{},\"id\":\"1141\",\"type\":\"PanTool\"},{\"attributes\":{\"source\":{\"id\":\"1278\"}},\"id\":\"1285\",\"type\":\"CDSView\"},{\"attributes\":{\"factors\":[\"Unique\",\"Duplicate\"],\"palette\":[\"#30a2da\",\"#fc4f30\"]},\"id\":\"1277\",\"type\":\"CategoricalColorMapper\"},{\"attributes\":{},\"id\":\"1227\",\"type\":\"AllLabels\"},{\"attributes\":{\"fill_alpha\":{\"value\":0.2},\"fill_color\":{\"field\":\"labels\",\"transform\":{\"id\":\"1277\"}},\"hatch_alpha\":{\"value\":0.2},\"hatch_color\":{\"field\":\"labels\",\"transform\":{\"id\":\"1277\"}},\"height\":{\"value\":0.8},\"left\":{\"field\":\"bottom\"},\"line_alpha\":{\"value\":0.2},\"right\":{\"field\":\"top\"},\"y\":{\"field\":\"index\"}},\"id\":\"1283\",\"type\":\"HBar\"},{\"attributes\":{},\"id\":\"1129\",\"type\":\"LinearScale\"},{\"attributes\":{\"fill_alpha\":{\"value\":0.1},\"fill_color\":{\"field\":\"labels\",\"transform\":{\"id\":\"1153\"}},\"hatch_alpha\":{\"value\":0.1},\"hatch_color\":{\"field\":\"labels\",\"transform\":{\"id\":\"1153\"}},\"height\":{\"value\":0.8},\"left\":{\"field\":\"bottom\"},\"line_alpha\":{\"value\":0.1},\"right\":{\"field\":\"top\"},\"y\":{\"field\":\"index\"}},\"id\":\"1158\",\"type\":\"HBar\"},{\"attributes\":{\"fill_alpha\":{\"value\":0.1},\"fill_color\":{\"field\":\"labels\",\"transform\":{\"id\":\"1277\"}},\"hatch_alpha\":{\"value\":0.1},\"hatch_color\":{\"field\":\"labels\",\"transform\":{\"id\":\"1277\"}},\"height\":{\"value\":0.8},\"left\":{\"field\":\"bottom\"},\"line_alpha\":{\"value\":0.1},\"right\":{\"field\":\"top\"},\"y\":{\"field\":\"index\"}},\"id\":\"1282\",\"type\":\"HBar\"},{\"attributes\":{\"children\":[[{\"id\":\"1062\"},0,0],[{\"id\":\"1124\"},1,0],[{\"id\":\"1186\"},2,0],[{\"id\":\"1248\"},3,0]]},\"id\":\"1348\",\"type\":\"GridBox\"},{\"attributes\":{\"axis\":{\"id\":\"1133\"},\"coordinates\":null,\"grid_line_color\":null,\"group\":null,\"ticker\":null},\"id\":\"1136\",\"type\":\"Grid\"},{\"attributes\":{\"coordinates\":null,\"data_source\":{\"id\":\"1278\"},\"glyph\":{\"id\":\"1281\"},\"group\":null,\"hover_glyph\":null,\"muted_glyph\":{\"id\":\"1283\"},\"nonselection_glyph\":{\"id\":\"1282\"},\"selection_glyph\":{\"id\":\"1298\"},\"view\":{\"id\":\"1285\"}},\"id\":\"1284\",\"type\":\"GlyphRenderer\"},{\"attributes\":{\"coordinates\":null,\"group\":null,\"text\":\"Missing Values\",\"text_color\":\"black\",\"text_font_size\":\"12pt\"},\"id\":\"1125\",\"type\":\"Title\"},{\"attributes\":{\"label\":{\"field\":\"labels\"},\"renderers\":[{\"id\":\"1222\"}]},\"id\":\"1235\",\"type\":\"LegendItem\"},{\"attributes\":{\"axis_label\":\"\",\"coordinates\":null,\"formatter\":{\"id\":\"1291\"},\"group\":null,\"major_label_policy\":{\"id\":\"1292\"},\"ticker\":{\"id\":\"1299\"}},\"id\":\"1257\",\"type\":\"LinearAxis\"},{\"attributes\":{},\"id\":\"1140\",\"type\":\"SaveTool\"},{\"attributes\":{},\"id\":\"1264\",\"type\":\"SaveTool\"},{\"attributes\":{},\"id\":\"1292\",\"type\":\"AllLabels\"},{\"attributes\":{\"below\":[{\"id\":\"1133\"}],\"center\":[{\"id\":\"1136\"},{\"id\":\"1139\"},{\"id\":\"1172\"}],\"height\":100,\"left\":[{\"id\":\"1137\"}],\"margin\":null,\"min_border_bottom\":10,\"min_border_left\":10,\"min_border_right\":10,\"min_border_top\":10,\"renderers\":[{\"id\":\"1160\"}],\"right\":[{\"id\":\"1172\"}],\"sizing_mode\":\"fixed\",\"title\":{\"id\":\"1125\"},\"toolbar\":{\"id\":\"1146\"},\"toolbar_location\":null,\"width\":700,\"x_range\":{\"id\":\"1059\"},\"x_scale\":{\"id\":\"1129\"},\"y_range\":{\"id\":\"1060\"},\"y_scale\":{\"id\":\"1131\"}},\"id\":\"1124\",\"subtype\":\"Figure\",\"type\":\"Plot\"},{\"attributes\":{\"overlay\":{\"id\":\"1145\"}},\"id\":\"1143\",\"type\":\"BoxZoomTool\"},{\"attributes\":{},\"id\":\"1291\",\"type\":\"BasicTickFormatter\"},{\"attributes\":{\"tools\":[{\"id\":\"1123\"},{\"id\":\"1140\"},{\"id\":\"1141\"},{\"id\":\"1142\"},{\"id\":\"1143\"},{\"id\":\"1144\"}]},\"id\":\"1146\",\"type\":\"Toolbar\"},{\"attributes\":{\"callback\":null,\"renderers\":[{\"id\":\"1160\"}],\"tags\":[\"hv_created\"],\"tooltips\":[[\"index\",\"@{index}\"],[\"labels\",\"@{labels}\"],[\"value\",\"@{value}\"]]},\"id\":\"1123\",\"type\":\"HoverTool\"},{\"attributes\":{\"axis\":{\"id\":\"1261\"},\"coordinates\":null,\"dimension\":1,\"grid_line_color\":null,\"group\":null,\"ticker\":null},\"id\":\"1263\",\"type\":\"Grid\"},{\"attributes\":{\"axis\":{\"id\":\"1257\"},\"coordinates\":null,\"grid_line_color\":null,\"group\":null,\"ticker\":null},\"id\":\"1260\",\"type\":\"Grid\"},{\"attributes\":{},\"id\":\"1080\",\"type\":\"WheelZoomTool\"},{\"attributes\":{\"bottom_units\":\"screen\",\"coordinates\":null,\"fill_alpha\":0.5,\"fill_color\":\"lightgrey\",\"group\":null,\"left_units\":\"screen\",\"level\":\"overlay\",\"line_alpha\":1.0,\"line_color\":\"black\",\"line_dash\":[4,4],\"line_width\":2,\"right_units\":\"screen\",\"syncable\":false,\"top_units\":\"screen\"},\"id\":\"1207\",\"type\":\"BoxAnnotation\"},{\"attributes\":{\"axis_label\":\"\",\"coordinates\":null,\"formatter\":{\"id\":\"1105\"},\"group\":null,\"major_label_policy\":{\"id\":\"1106\"},\"ticker\":{\"id\":\"1113\"}},\"id\":\"1071\",\"type\":\"LinearAxis\"},{\"attributes\":{\"coordinates\":null,\"group\":null,\"text\":\"Duplicate Columns\",\"text_color\":\"black\",\"text_font_size\":\"12pt\"},\"id\":\"1249\",\"type\":\"Title\"},{\"attributes\":{},\"id\":\"1155\",\"type\":\"Selection\"},{\"attributes\":{\"toolbars\":[{\"id\":\"1084\"},{\"id\":\"1146\"},{\"id\":\"1208\"},{\"id\":\"1270\"}],\"tools\":[{\"id\":\"1061\"},{\"id\":\"1078\"},{\"id\":\"1079\"},{\"id\":\"1080\"},{\"id\":\"1081\"},{\"id\":\"1082\"},{\"id\":\"1123\"},{\"id\":\"1140\"},{\"id\":\"1141\"},{\"id\":\"1142\"},{\"id\":\"1143\"},{\"id\":\"1144\"},{\"id\":\"1185\"},{\"id\":\"1202\"},{\"id\":\"1203\"},{\"id\":\"1204\"},{\"id\":\"1205\"},{\"id\":\"1206\"},{\"id\":\"1247\"},{\"id\":\"1264\"},{\"id\":\"1265\"},{\"id\":\"1266\"},{\"id\":\"1267\"},{\"id\":\"1268\"}]},\"id\":\"1349\",\"type\":\"ProxyToolbar\"},{\"attributes\":{},\"id\":\"1279\",\"type\":\"Selection\"},{\"attributes\":{\"bottom_units\":\"screen\",\"coordinates\":null,\"fill_alpha\":0.5,\"fill_color\":\"lightgrey\",\"group\":null,\"left_units\":\"screen\",\"level\":\"overlay\",\"line_alpha\":1.0,\"line_color\":\"black\",\"line_dash\":[4,4],\"line_width\":2,\"right_units\":\"screen\",\"syncable\":false,\"top_units\":\"screen\"},\"id\":\"1145\",\"type\":\"BoxAnnotation\"},{\"attributes\":{},\"id\":\"1167\",\"type\":\"BasicTickFormatter\"},{\"attributes\":{},\"id\":\"1069\",\"type\":\"CategoricalScale\"},{\"attributes\":{\"data\":{\"bottom\":{\"__ndarray__\":\"AAAAAAAAAAAAAAAAAIBWQA==\",\"dtype\":\"float64\",\"order\":\"little\",\"shape\":[2]},\"index\":[\"values\",\"values\"],\"labels\":[\"Numeric\",\"Others\"],\"top\":{\"__ndarray__\":\"AAAAAACAVkAAAAAAAABZQA==\",\"dtype\":\"float64\",\"order\":\"little\",\"shape\":[2]},\"value\":{\"__ndarray__\":\"AAAAAACAVkAAAAAAAAAkQA==\",\"dtype\":\"float64\",\"order\":\"little\",\"shape\":[2]}},\"selected\":{\"id\":\"1093\"},\"selection_policy\":{\"id\":\"1107\"}},\"id\":\"1092\",\"type\":\"ColumnDataSource\"},{\"attributes\":{},\"id\":\"1082\",\"type\":\"ResetTool\"},{\"attributes\":{},\"id\":\"1168\",\"type\":\"AllLabels\"},{\"attributes\":{},\"id\":\"1266\",\"type\":\"WheelZoomTool\"},{\"attributes\":{\"factors\":[\"Available\",\"Missing\"],\"palette\":[\"#30a2da\",\"#fc4f30\"]},\"id\":\"1153\",\"type\":\"CategoricalColorMapper\"},{\"attributes\":{},\"id\":\"1079\",\"type\":\"PanTool\"},{\"attributes\":{\"axis_label\":\"\",\"coordinates\":null,\"formatter\":{\"id\":\"1164\"},\"group\":null,\"major_label_policy\":{\"id\":\"1165\"},\"ticker\":{\"id\":\"1138\"}},\"id\":\"1137\",\"type\":\"CategoricalAxis\"},{\"attributes\":{},\"id\":\"1142\",\"type\":\"WheelZoomTool\"},{\"attributes\":{\"bottom_units\":\"screen\",\"coordinates\":null,\"fill_alpha\":0.5,\"fill_color\":\"lightgrey\",\"group\":null,\"left_units\":\"screen\",\"level\":\"overlay\",\"line_alpha\":1.0,\"line_color\":\"black\",\"line_dash\":[4,4],\"line_width\":2,\"right_units\":\"screen\",\"syncable\":false,\"top_units\":\"screen\"},\"id\":\"1269\",\"type\":\"BoxAnnotation\"},{\"attributes\":{},\"id\":\"1265\",\"type\":\"PanTool\"},{\"attributes\":{\"fill_alpha\":{\"value\":0.2},\"fill_color\":{\"field\":\"labels\",\"transform\":{\"id\":\"1153\"}},\"hatch_alpha\":{\"value\":0.2},\"hatch_color\":{\"field\":\"labels\",\"transform\":{\"id\":\"1153\"}},\"height\":{\"value\":0.8},\"left\":{\"field\":\"bottom\"},\"line_alpha\":{\"value\":0.2},\"right\":{\"field\":\"top\"},\"y\":{\"field\":\"index\"}},\"id\":\"1159\",\"type\":\"HBar\"},{\"attributes\":{\"coordinates\":null,\"group\":null,\"items\":[{\"id\":\"1173\"}],\"location\":[0,0]},\"id\":\"1172\",\"type\":\"Legend\"},{\"attributes\":{},\"id\":\"1229\",\"type\":\"BasicTickFormatter\"},{\"attributes\":{\"fill_alpha\":{\"value\":1.0},\"fill_color\":{\"field\":\"labels\",\"transform\":{\"id\":\"1277\"}},\"hatch_alpha\":{\"value\":1.0},\"hatch_color\":{\"field\":\"labels\",\"transform\":{\"id\":\"1277\"}},\"hatch_scale\":{\"value\":12.0},\"hatch_weight\":{\"value\":1.0},\"height\":{\"value\":0.8},\"left\":{\"field\":\"bottom\"},\"line_alpha\":{\"value\":1.0},\"line_cap\":{\"value\":\"butt\"},\"line_color\":{\"value\":\"black\"},\"line_dash\":{\"value\":[]},\"line_dash_offset\":{\"value\":0},\"line_join\":{\"value\":\"bevel\"},\"line_width\":{\"value\":1},\"right\":{\"field\":\"top\"},\"y\":{\"field\":\"index\"}},\"id\":\"1298\",\"type\":\"HBar\"},{\"attributes\":{\"end\":100.0,\"reset_end\":100.0,\"reset_start\":0.0,\"tags\":[[[\"value\",\"value\",null]]]},\"id\":\"1059\",\"type\":\"Range1d\"},{\"attributes\":{},\"id\":\"1164\",\"type\":\"CategoricalTickFormatter\"},{\"attributes\":{},\"id\":\"1230\",\"type\":\"AllLabels\"},{\"attributes\":{\"axis\":{\"id\":\"1071\"},\"coordinates\":null,\"grid_line_color\":null,\"group\":null,\"ticker\":null},\"id\":\"1074\",\"type\":\"Grid\"},{\"attributes\":{\"below\":[{\"id\":\"1071\"}],\"center\":[{\"id\":\"1074\"},{\"id\":\"1077\"},{\"id\":\"1110\"}],\"height\":100,\"left\":[{\"id\":\"1075\"}],\"margin\":null,\"min_border_bottom\":10,\"min_border_left\":10,\"min_border_right\":10,\"min_border_top\":10,\"renderers\":[{\"id\":\"1098\"}],\"right\":[{\"id\":\"1110\"}],\"sizing_mode\":\"fixed\",\"title\":{\"id\":\"1063\"},\"toolbar\":{\"id\":\"1084\"},\"toolbar_location\":null,\"width\":700,\"x_range\":{\"id\":\"1059\"},\"x_scale\":{\"id\":\"1067\"},\"y_range\":{\"id\":\"1060\"},\"y_scale\":{\"id\":\"1069\"}},\"id\":\"1062\",\"subtype\":\"Figure\",\"type\":\"Plot\"},{\"attributes\":{\"factors\":[\"Unique\",\"Duplicate\"],\"palette\":[\"#30a2da\",\"#fc4f30\"]},\"id\":\"1215\",\"type\":\"CategoricalColorMapper\"},{\"attributes\":{},\"id\":\"1293\",\"type\":\"UnionRenderers\"},{\"attributes\":{\"coordinates\":null,\"group\":null,\"text\":\"Datatypes\",\"text_color\":\"black\",\"text_font_size\":\"12pt\"},\"id\":\"1063\",\"type\":\"Title\"},{\"attributes\":{\"source\":{\"id\":\"1216\"}},\"id\":\"1223\",\"type\":\"CDSView\"},{\"attributes\":{\"callback\":null,\"renderers\":[{\"id\":\"1098\"}],\"tags\":[\"hv_created\"],\"tooltips\":[[\"index\",\"@{index}\"],[\"labels\",\"@{labels}\"],[\"value\",\"@{value}\"]]},\"id\":\"1061\",\"type\":\"HoverTool\"},{\"attributes\":{\"axis_label\":\"\",\"coordinates\":null,\"formatter\":{\"id\":\"1167\"},\"group\":null,\"major_label_policy\":{\"id\":\"1168\"},\"ticker\":{\"id\":\"1175\"}},\"id\":\"1133\",\"type\":\"LinearAxis\"},{\"attributes\":{\"axis\":{\"id\":\"1075\"},\"coordinates\":null,\"dimension\":1,\"grid_line_color\":null,\"group\":null,\"ticker\":null},\"id\":\"1077\",\"type\":\"Grid\"},{\"attributes\":{\"axis\":{\"id\":\"1137\"},\"coordinates\":null,\"dimension\":1,\"grid_line_color\":null,\"group\":null,\"ticker\":null},\"id\":\"1139\",\"type\":\"Grid\"},{\"attributes\":{},\"id\":\"1226\",\"type\":\"CategoricalTickFormatter\"},{\"attributes\":{},\"id\":\"1131\",\"type\":\"CategoricalScale\"},{\"attributes\":{},\"id\":\"1076\",\"type\":\"CategoricalTicker\"},{\"attributes\":{\"bottom_units\":\"screen\",\"coordinates\":null,\"fill_alpha\":0.5,\"fill_color\":\"lightgrey\",\"group\":null,\"left_units\":\"screen\",\"level\":\"overlay\",\"line_alpha\":1.0,\"line_color\":\"black\",\"line_dash\":[4,4],\"line_width\":2,\"right_units\":\"screen\",\"syncable\":false,\"top_units\":\"screen\"},\"id\":\"1083\",\"type\":\"BoxAnnotation\"},{\"attributes\":{\"data\":{\"bottom\":{\"__ndarray__\":\"AAAAAAAAAABNWVPWlPlYQA==\",\"dtype\":\"float64\",\"order\":\"little\",\"shape\":[2]},\"index\":[\"values\",\"values\"],\"labels\":[\"Available\",\"Missing\"],\"top\":{\"__ndarray__\":\"TVlT1pT5WEAAAAAAAABZQA==\",\"dtype\":\"float64\",\"order\":\"little\",\"shape\":[2]},\"value\":{\"__ndarray__\":\"TVlT1pT5WEBrypqypqy5Pw==\",\"dtype\":\"float64\",\"order\":\"little\",\"shape\":[2]}},\"selected\":{\"id\":\"1155\"},\"selection_policy\":{\"id\":\"1169\"}},\"id\":\"1154\",\"type\":\"ColumnDataSource\"},{\"attributes\":{\"tools\":[{\"id\":\"1247\"},{\"id\":\"1264\"},{\"id\":\"1265\"},{\"id\":\"1266\"},{\"id\":\"1267\"},{\"id\":\"1268\"}]},\"id\":\"1270\",\"type\":\"Toolbar\"},{\"attributes\":{\"fill_color\":{\"field\":\"labels\",\"transform\":{\"id\":\"1091\"}},\"hatch_color\":{\"field\":\"labels\",\"transform\":{\"id\":\"1091\"}},\"height\":{\"value\":0.8},\"left\":{\"field\":\"bottom\"},\"right\":{\"field\":\"top\"},\"y\":{\"field\":\"index\"}},\"id\":\"1095\",\"type\":\"HBar\"},{\"attributes\":{\"overlay\":{\"id\":\"1207\"}},\"id\":\"1205\",\"type\":\"BoxZoomTool\"},{\"attributes\":{\"factors\":[\"values\"],\"tags\":[[[\"index\",\"index\",null]]]},\"id\":\"1060\",\"type\":\"FactorRange\"},{\"attributes\":{},\"id\":\"1138\",\"type\":\"CategoricalTicker\"},{\"attributes\":{\"coordinates\":null,\"data_source\":{\"id\":\"1154\"},\"glyph\":{\"id\":\"1157\"},\"group\":null,\"hover_glyph\":null,\"muted_glyph\":{\"id\":\"1159\"},\"nonselection_glyph\":{\"id\":\"1158\"},\"selection_glyph\":{\"id\":\"1174\"},\"view\":{\"id\":\"1161\"}},\"id\":\"1160\",\"type\":\"GlyphRenderer\"},{\"attributes\":{\"margin\":[0,0,0,0],\"tabs\":[{\"id\":\"1642\"}]},\"id\":\"1058\",\"type\":\"panel.models.tabs.Tabs\"},{\"attributes\":{},\"id\":\"1169\",\"type\":\"UnionRenderers\"},{\"attributes\":{\"coordinates\":null,\"group\":null,\"items\":[{\"id\":\"1297\"}],\"location\":[0,0]},\"id\":\"1296\",\"type\":\"Legend\"},{\"attributes\":{\"tools\":[{\"id\":\"1185\"},{\"id\":\"1202\"},{\"id\":\"1203\"},{\"id\":\"1204\"},{\"id\":\"1205\"},{\"id\":\"1206\"}]},\"id\":\"1208\",\"type\":\"Toolbar\"},{\"attributes\":{\"source\":{\"id\":\"1154\"}},\"id\":\"1161\",\"type\":\"CDSView\"},{\"attributes\":{\"tools\":[{\"id\":\"1061\"},{\"id\":\"1078\"},{\"id\":\"1079\"},{\"id\":\"1080\"},{\"id\":\"1081\"},{\"id\":\"1082\"}]},\"id\":\"1084\",\"type\":\"Toolbar\"},{\"attributes\":{},\"id\":\"1191\",\"type\":\"LinearScale\"},{\"attributes\":{\"toolbar\":{\"id\":\"1349\"},\"toolbar_location\":\"above\"},\"id\":\"1350\",\"type\":\"ToolbarBox\"},{\"attributes\":{},\"id\":\"1206\",\"type\":\"ResetTool\"},{\"attributes\":{},\"id\":\"1231\",\"type\":\"UnionRenderers\"},{\"attributes\":{},\"id\":\"1078\",\"type\":\"SaveTool\"},{\"attributes\":{\"fill_color\":{\"field\":\"labels\",\"transform\":{\"id\":\"1277\"}},\"hatch_color\":{\"field\":\"labels\",\"transform\":{\"id\":\"1277\"}},\"height\":{\"value\":0.8},\"left\":{\"field\":\"bottom\"},\"right\":{\"field\":\"top\"},\"y\":{\"field\":\"index\"}},\"id\":\"1281\",\"type\":\"HBar\"},{\"attributes\":{},\"id\":\"1093\",\"type\":\"Selection\"},{\"attributes\":{\"axis_label\":\"\",\"coordinates\":null,\"formatter\":{\"id\":\"1102\"},\"group\":null,\"major_label_policy\":{\"id\":\"1103\"},\"ticker\":{\"id\":\"1076\"}},\"id\":\"1075\",\"type\":\"CategoricalAxis\"},{\"attributes\":{\"fill_color\":{\"field\":\"labels\",\"transform\":{\"id\":\"1153\"}},\"hatch_color\":{\"field\":\"labels\",\"transform\":{\"id\":\"1153\"}},\"height\":{\"value\":0.8},\"left\":{\"field\":\"bottom\"},\"right\":{\"field\":\"top\"},\"y\":{\"field\":\"index\"}},\"id\":\"1157\",\"type\":\"HBar\"},{\"attributes\":{\"label\":{\"field\":\"labels\"},\"renderers\":[{\"id\":\"1284\"}]},\"id\":\"1297\",\"type\":\"LegendItem\"},{\"attributes\":{\"fill_color\":{\"field\":\"labels\",\"transform\":{\"id\":\"1215\"}},\"hatch_color\":{\"field\":\"labels\",\"transform\":{\"id\":\"1215\"}},\"height\":{\"value\":0.8},\"left\":{\"field\":\"bottom\"},\"right\":{\"field\":\"top\"},\"y\":{\"field\":\"index\"}},\"id\":\"1219\",\"type\":\"HBar\"},{\"attributes\":{\"fill_alpha\":{\"value\":0.1},\"fill_color\":{\"field\":\"labels\",\"transform\":{\"id\":\"1091\"}},\"hatch_alpha\":{\"value\":0.1},\"hatch_color\":{\"field\":\"labels\",\"transform\":{\"id\":\"1091\"}},\"height\":{\"value\":0.8},\"left\":{\"field\":\"bottom\"},\"line_alpha\":{\"value\":0.1},\"right\":{\"field\":\"top\"},\"y\":{\"field\":\"index\"}},\"id\":\"1096\",\"type\":\"HBar\"},{\"attributes\":{},\"id\":\"1107\",\"type\":\"UnionRenderers\"},{\"attributes\":{\"fill_alpha\":{\"value\":0.2},\"fill_color\":{\"field\":\"labels\",\"transform\":{\"id\":\"1091\"}},\"hatch_alpha\":{\"value\":0.2},\"hatch_color\":{\"field\":\"labels\",\"transform\":{\"id\":\"1091\"}},\"height\":{\"value\":0.8},\"left\":{\"field\":\"bottom\"},\"line_alpha\":{\"value\":0.2},\"right\":{\"field\":\"top\"},\"y\":{\"field\":\"index\"}},\"id\":\"1097\",\"type\":\"HBar\"},{\"attributes\":{\"source\":{\"id\":\"1092\"}},\"id\":\"1099\",\"type\":\"CDSView\"},{\"attributes\":{},\"id\":\"1102\",\"type\":\"CategoricalTickFormatter\"},{\"attributes\":{\"axis\":{\"id\":\"1195\"},\"coordinates\":null,\"grid_line_color\":null,\"group\":null,\"ticker\":null},\"id\":\"1198\",\"type\":\"Grid\"},{\"attributes\":{\"ticks\":[0]},\"id\":\"1299\",\"type\":\"FixedTicker\"},{\"attributes\":{\"child\":{\"id\":\"1353\"},\"name\":\"housing\",\"title\":\"housing\"},\"id\":\"1642\",\"type\":\"Panel\"},{\"attributes\":{},\"id\":\"1202\",\"type\":\"SaveTool\"},{\"attributes\":{},\"id\":\"1103\",\"type\":\"AllLabels\"},{\"attributes\":{\"coordinates\":null,\"group\":null,\"items\":[{\"id\":\"1111\"}],\"location\":[0,0]},\"id\":\"1110\",\"type\":\"Legend\"},{\"attributes\":{\"fill_alpha\":{\"value\":1.0},\"fill_color\":{\"field\":\"labels\",\"transform\":{\"id\":\"1153\"}},\"hatch_alpha\":{\"value\":1.0},\"hatch_color\":{\"field\":\"labels\",\"transform\":{\"id\":\"1153\"}},\"hatch_scale\":{\"value\":12.0},\"hatch_weight\":{\"value\":1.0},\"height\":{\"value\":0.8},\"left\":{\"field\":\"bottom\"},\"line_alpha\":{\"value\":1.0},\"line_cap\":{\"value\":\"butt\"},\"line_color\":{\"value\":\"black\"},\"line_dash\":{\"value\":[]},\"line_dash_offset\":{\"value\":0},\"line_join\":{\"value\":\"bevel\"},\"line_width\":{\"value\":1},\"right\":{\"field\":\"top\"},\"y\":{\"field\":\"index\"}},\"id\":\"1174\",\"type\":\"HBar\"},{\"attributes\":{\"client_comm_id\":\"bda103519a50431fad5ce6c1a664ed77\",\"comm_id\":\"923b59944a174d3eb35b0d0a7ee2b8fd\",\"plot_id\":\"1058\"},\"id\":\"1751\",\"type\":\"panel.models.comm_manager.CommManager\"},{\"attributes\":{\"label\":{\"field\":\"labels\"},\"renderers\":[{\"id\":\"1098\"}]},\"id\":\"1111\",\"type\":\"LegendItem\"},{\"attributes\":{},\"id\":\"1105\",\"type\":\"BasicTickFormatter\"},{\"attributes\":{\"label\":{\"field\":\"labels\"},\"renderers\":[{\"id\":\"1160\"}]},\"id\":\"1173\",\"type\":\"LegendItem\"},{\"attributes\":{\"callback\":null,\"renderers\":[{\"id\":\"1222\"}],\"tags\":[\"hv_created\"],\"tooltips\":[[\"index\",\"@{index}\"],[\"labels\",\"@{labels}\"],[\"value\",\"@{value}\"]]},\"id\":\"1185\",\"type\":\"HoverTool\"},{\"attributes\":{},\"id\":\"1193\",\"type\":\"CategoricalScale\"},{\"attributes\":{},\"id\":\"1203\",\"type\":\"PanTool\"},{\"attributes\":{\"fill_alpha\":{\"value\":1.0},\"fill_color\":{\"field\":\"labels\",\"transform\":{\"id\":\"1215\"}},\"hatch_alpha\":{\"value\":1.0},\"hatch_color\":{\"field\":\"labels\",\"transform\":{\"id\":\"1215\"}},\"hatch_scale\":{\"value\":12.0},\"hatch_weight\":{\"value\":1.0},\"height\":{\"value\":0.8},\"left\":{\"field\":\"bottom\"},\"line_alpha\":{\"value\":1.0},\"line_cap\":{\"value\":\"butt\"},\"line_color\":{\"value\":\"black\"},\"line_dash\":{\"value\":[]},\"line_dash_offset\":{\"value\":0},\"line_join\":{\"value\":\"bevel\"},\"line_width\":{\"value\":1},\"right\":{\"field\":\"top\"},\"y\":{\"field\":\"index\"}},\"id\":\"1236\",\"type\":\"HBar\"},{\"attributes\":{\"callback\":null,\"renderers\":[{\"id\":\"1284\"}],\"tags\":[\"hv_created\"],\"tooltips\":[[\"index\",\"@{index}\"],[\"labels\",\"@{labels}\"],[\"value\",\"@{value}\"]]},\"id\":\"1247\",\"type\":\"HoverTool\"},{\"attributes\":{\"axis_label\":\"\",\"coordinates\":null,\"formatter\":{\"id\":\"1226\"},\"group\":null,\"major_label_policy\":{\"id\":\"1227\"},\"ticker\":{\"id\":\"1200\"}},\"id\":\"1199\",\"type\":\"CategoricalAxis\"},{\"attributes\":{\"data\":{\"bottom\":{\"__ndarray__\":\"AAAAAAAAAAAAAAAAAABZQA==\",\"dtype\":\"float64\",\"order\":\"little\",\"shape\":[2]},\"index\":[\"values\",\"values\"],\"labels\":[\"Unique\",\"Duplicate\"],\"top\":{\"__ndarray__\":\"AAAAAAAAWUAAAAAAAABZQA==\",\"dtype\":\"float64\",\"order\":\"little\",\"shape\":[2]},\"value\":{\"__ndarray__\":\"AAAAAAAAWUAAAAAAAAAAAA==\",\"dtype\":\"float64\",\"order\":\"little\",\"shape\":[2]}},\"selected\":{\"id\":\"1279\"},\"selection_policy\":{\"id\":\"1293\"}},\"id\":\"1278\",\"type\":\"ColumnDataSource\"},{\"attributes\":{\"children\":[{\"id\":\"1352\"},{\"id\":\"1351\"}]},\"id\":\"1353\",\"type\":\"Column\"},{\"attributes\":{\"ticks\":[0]},\"id\":\"1237\",\"type\":\"FixedTicker\"},{\"attributes\":{\"style\":{\"white-space\":\"nowrap\"},\"text\":\"<span style=\\\"color:black;font-family:Arial;font-style:bold;font-weight:bold;font-size:12pt\\\">Data Shape:(20640, 10)</span>\",\"width\":450},\"id\":\"1352\",\"type\":\"Div\"},{\"attributes\":{},\"id\":\"1204\",\"type\":\"WheelZoomTool\"},{\"attributes\":{\"axis_label\":\"\",\"coordinates\":null,\"formatter\":{\"id\":\"1229\"},\"group\":null,\"major_label_policy\":{\"id\":\"1230\"},\"ticker\":{\"id\":\"1237\"}},\"id\":\"1195\",\"type\":\"LinearAxis\"},{\"attributes\":{\"ticks\":[0]},\"id\":\"1175\",\"type\":\"FixedTicker\"},{\"attributes\":{\"fill_alpha\":{\"value\":0.1},\"fill_color\":{\"field\":\"labels\",\"transform\":{\"id\":\"1215\"}},\"hatch_alpha\":{\"value\":0.1},\"hatch_color\":{\"field\":\"labels\",\"transform\":{\"id\":\"1215\"}},\"height\":{\"value\":0.8},\"left\":{\"field\":\"bottom\"},\"line_alpha\":{\"value\":0.1},\"right\":{\"field\":\"top\"},\"y\":{\"field\":\"index\"}},\"id\":\"1220\",\"type\":\"HBar\"},{\"attributes\":{\"fill_alpha\":{\"value\":0.2},\"fill_color\":{\"field\":\"labels\",\"transform\":{\"id\":\"1215\"}},\"hatch_alpha\":{\"value\":0.2},\"hatch_color\":{\"field\":\"labels\",\"transform\":{\"id\":\"1215\"}},\"height\":{\"value\":0.8},\"left\":{\"field\":\"bottom\"},\"line_alpha\":{\"value\":0.2},\"right\":{\"field\":\"top\"},\"y\":{\"field\":\"index\"}},\"id\":\"1221\",\"type\":\"HBar\"},{\"attributes\":{\"children\":[{\"id\":\"1350\"},{\"id\":\"1348\"}]},\"id\":\"1351\",\"type\":\"Column\"},{\"attributes\":{\"factors\":[\"Numeric\",\"Others\"],\"palette\":[\"#30a2da\",\"#fc4f30\"]},\"id\":\"1091\",\"type\":\"CategoricalColorMapper\"},{\"attributes\":{},\"id\":\"1253\",\"type\":\"LinearScale\"},{\"attributes\":{\"coordinates\":null,\"data_source\":{\"id\":\"1092\"},\"glyph\":{\"id\":\"1095\"},\"group\":null,\"hover_glyph\":null,\"muted_glyph\":{\"id\":\"1097\"},\"nonselection_glyph\":{\"id\":\"1096\"},\"selection_glyph\":{\"id\":\"1112\"},\"view\":{\"id\":\"1099\"}},\"id\":\"1098\",\"type\":\"GlyphRenderer\"},{\"attributes\":{\"fill_alpha\":{\"value\":1.0},\"fill_color\":{\"field\":\"labels\",\"transform\":{\"id\":\"1091\"}},\"hatch_alpha\":{\"value\":1.0},\"hatch_color\":{\"field\":\"labels\",\"transform\":{\"id\":\"1091\"}},\"hatch_scale\":{\"value\":12.0},\"hatch_weight\":{\"value\":1.0},\"height\":{\"value\":0.8},\"left\":{\"field\":\"bottom\"},\"line_alpha\":{\"value\":1.0},\"line_cap\":{\"value\":\"butt\"},\"line_color\":{\"value\":\"black\"},\"line_dash\":{\"value\":[]},\"line_dash_offset\":{\"value\":0},\"line_join\":{\"value\":\"bevel\"},\"line_width\":{\"value\":1},\"right\":{\"field\":\"top\"},\"y\":{\"field\":\"index\"}},\"id\":\"1112\",\"type\":\"HBar\"},{\"attributes\":{\"axis\":{\"id\":\"1199\"},\"coordinates\":null,\"dimension\":1,\"grid_line_color\":null,\"group\":null,\"ticker\":null},\"id\":\"1201\",\"type\":\"Grid\"},{\"attributes\":{\"coordinates\":null,\"group\":null,\"text\":\"Duplicate Values\",\"text_color\":\"black\",\"text_font_size\":\"12pt\"},\"id\":\"1187\",\"type\":\"Title\"},{\"attributes\":{\"ticks\":[0]},\"id\":\"1113\",\"type\":\"FixedTicker\"},{\"attributes\":{\"below\":[{\"id\":\"1257\"}],\"center\":[{\"id\":\"1260\"},{\"id\":\"1263\"},{\"id\":\"1296\"}],\"height\":100,\"left\":[{\"id\":\"1261\"}],\"margin\":null,\"min_border_bottom\":10,\"min_border_left\":10,\"min_border_right\":10,\"min_border_top\":10,\"renderers\":[{\"id\":\"1284\"}],\"right\":[{\"id\":\"1296\"}],\"sizing_mode\":\"fixed\",\"title\":{\"id\":\"1249\"},\"toolbar\":{\"id\":\"1270\"},\"toolbar_location\":null,\"width\":700,\"x_range\":{\"id\":\"1059\"},\"x_scale\":{\"id\":\"1253\"},\"y_range\":{\"id\":\"1060\"},\"y_scale\":{\"id\":\"1255\"}},\"id\":\"1248\",\"subtype\":\"Figure\",\"type\":\"Plot\"},{\"attributes\":{},\"id\":\"1200\",\"type\":\"CategoricalTicker\"},{\"attributes\":{\"data\":{\"bottom\":{\"__ndarray__\":\"AAAAAAAAAAAAAAAAAABZQA==\",\"dtype\":\"float64\",\"order\":\"little\",\"shape\":[2]},\"index\":[\"values\",\"values\"],\"labels\":[\"Unique\",\"Duplicate\"],\"top\":{\"__ndarray__\":\"AAAAAAAAWUAAAAAAAABZQA==\",\"dtype\":\"float64\",\"order\":\"little\",\"shape\":[2]},\"value\":{\"__ndarray__\":\"AAAAAAAAWUAAAAAAAAAAAA==\",\"dtype\":\"float64\",\"order\":\"little\",\"shape\":[2]}},\"selected\":{\"id\":\"1217\"},\"selection_policy\":{\"id\":\"1231\"}},\"id\":\"1216\",\"type\":\"ColumnDataSource\"},{\"attributes\":{\"below\":[{\"id\":\"1195\"}],\"center\":[{\"id\":\"1198\"},{\"id\":\"1201\"},{\"id\":\"1234\"}],\"height\":100,\"left\":[{\"id\":\"1199\"}],\"margin\":null,\"min_border_bottom\":10,\"min_border_left\":10,\"min_border_right\":10,\"min_border_top\":10,\"renderers\":[{\"id\":\"1222\"}],\"right\":[{\"id\":\"1234\"}],\"sizing_mode\":\"fixed\",\"title\":{\"id\":\"1187\"},\"toolbar\":{\"id\":\"1208\"},\"toolbar_location\":null,\"width\":700,\"x_range\":{\"id\":\"1059\"},\"x_scale\":{\"id\":\"1191\"},\"y_range\":{\"id\":\"1060\"},\"y_scale\":{\"id\":\"1193\"}},\"id\":\"1186\",\"subtype\":\"Figure\",\"type\":\"Plot\"},{\"attributes\":{},\"id\":\"1106\",\"type\":\"AllLabels\"}],\"root_ids\":[\"1058\",\"1751\"]},\"title\":\"Bokeh Application\",\"version\":\"2.4.3\"}};\n",
       "    var render_items = [{\"docid\":\"469fd44c-34ca-4397-8845-785762584215\",\"root_ids\":[\"1058\"],\"roots\":{\"1058\":\"bb0589c9-63ab-4e33-bd6c-934ca06e4f93\"}}];\n",
       "    root.Bokeh.embed.embed_items_notebook(docs_json, render_items);\n",
       "  }\n",
       "  if (root.Bokeh !== undefined && root.Bokeh.Panel !== undefined) {\n",
       "    embed_document(root);\n",
       "  } else {\n",
       "    var attempts = 0;\n",
       "    var timer = setInterval(function(root) {\n",
       "      if (root.Bokeh !== undefined && root.Bokeh.Panel !== undefined) {\n",
       "        clearInterval(timer);\n",
       "        embed_document(root);\n",
       "      } else if (document.readyState == \"complete\") {\n",
       "        attempts++;\n",
       "        if (attempts > 200) {\n",
       "          clearInterval(timer);\n",
       "          console.log(\"Bokeh: ERROR: Unable to run BokehJS code because BokehJS library is missing\");\n",
       "        }\n",
       "      }\n",
       "    }, 25, root)\n",
       "  }\n",
       "})(window);</script>"
      ],
      "text/plain": [
       "Tabs\n",
       "    [0] HoloViews(Layout, name='housing')"
      ]
     },
     "execution_count": 19,
     "metadata": {
      "application/vnd.holoviews_exec.v0+json": {
       "id": "1058"
      }
     },
     "output_type": "execute_result"
    }
   ],
   "source": [
    "sum1, plot1 = eda.get_data_health_summary(housing_df, return_plot=True)\n",
    "\n",
    "display_as_tabs([('housing', plot1)])"
   ]
  },
  {
   "cell_type": "markdown",
   "metadata": {},
   "source": [
    "**Dev NOTES**\n",
    "\n",
    "<details>\n",
    "1. Datatypes : We have both numeric and other types. The bulk of them seem to be numeric. `Numeric` is defined to be one of [float|int|date] and the rest are categorized as `Others`. A column is assumed to have `date` values if it has the string `date` in the column name.\n",
    "\n",
    "2. The missing value plot seems to indicate missing values are not present but we do have them. \n",
    "\n",
    "3. We are looking for duplicate observations (rows in the data). The plot shows the % of rows that are an exact replica of another row (using `df.duplicated`)\n",
    "\n",
    "4. We are looking for duplicate features (columns in the data).\n",
    "\n",
    "</details>"
   ]
  },
  {
   "cell_type": "markdown",
   "metadata": {},
   "source": [
    "### Missing Values summary\n",
    "\n",
    "This provides an overall view focussing on amount of missing values in the dataset.\n",
    "\n",
    "**Watch out for:**\n",
    "* A few columns have significant number of missing values \n",
    "* Most columns have significant number of missing values\n"
   ]
  },
  {
   "cell_type": "code",
   "execution_count": 20,
   "metadata": {},
   "outputs": [
    {
     "data": {},
     "metadata": {},
     "output_type": "display_data"
    },
    {
     "data": {},
     "metadata": {},
     "output_type": "display_data"
    },
    {
     "data": {
      "application/vnd.holoviews_exec.v0+json": "",
      "text/html": [
       "<div id='1932'>\n",
       "  <div class=\"bk-root\" id=\"0729acf5-3f3f-4388-8cdd-14552e1383fe\" data-root-id=\"1932\"></div>\n",
       "</div>\n",
       "<script type=\"application/javascript\">(function(root) {\n",
       "  function embed_document(root) {\n",
       "    var docs_json = {\"41eb576a-35fd-49e0-9bee-83ff8bc0bf3d\":{\"defs\":[{\"extends\":null,\"module\":null,\"name\":\"ReactiveHTML1\",\"overrides\":[],\"properties\":[]},{\"extends\":null,\"module\":null,\"name\":\"FlexBox1\",\"overrides\":[],\"properties\":[{\"default\":\"flex-start\",\"kind\":null,\"name\":\"align_content\"},{\"default\":\"flex-start\",\"kind\":null,\"name\":\"align_items\"},{\"default\":\"row\",\"kind\":null,\"name\":\"flex_direction\"},{\"default\":\"wrap\",\"kind\":null,\"name\":\"flex_wrap\"},{\"default\":\"flex-start\",\"kind\":null,\"name\":\"justify_content\"}]},{\"extends\":null,\"module\":null,\"name\":\"GridStack1\",\"overrides\":[],\"properties\":[{\"default\":\"warn\",\"kind\":null,\"name\":\"mode\"},{\"default\":null,\"kind\":null,\"name\":\"ncols\"},{\"default\":null,\"kind\":null,\"name\":\"nrows\"},{\"default\":true,\"kind\":null,\"name\":\"allow_resize\"},{\"default\":true,\"kind\":null,\"name\":\"allow_drag\"},{\"default\":[],\"kind\":null,\"name\":\"state\"}]},{\"extends\":null,\"module\":null,\"name\":\"click1\",\"overrides\":[],\"properties\":[{\"default\":\"\",\"kind\":null,\"name\":\"terminal_output\"},{\"default\":\"\",\"kind\":null,\"name\":\"debug_name\"},{\"default\":0,\"kind\":null,\"name\":\"clears\"}]},{\"extends\":null,\"module\":null,\"name\":\"NotificationAreaBase1\",\"overrides\":[],\"properties\":[{\"default\":\"bottom-right\",\"kind\":null,\"name\":\"position\"},{\"default\":0,\"kind\":null,\"name\":\"_clear\"}]},{\"extends\":null,\"module\":null,\"name\":\"NotificationArea1\",\"overrides\":[],\"properties\":[{\"default\":[],\"kind\":null,\"name\":\"notifications\"},{\"default\":\"bottom-right\",\"kind\":null,\"name\":\"position\"},{\"default\":0,\"kind\":null,\"name\":\"_clear\"},{\"default\":[{\"background\":\"#ffc107\",\"icon\":{\"className\":\"fas fa-exclamation-triangle\",\"color\":\"white\",\"tagName\":\"i\"},\"type\":\"warning\"},{\"background\":\"#007bff\",\"icon\":{\"className\":\"fas fa-info-circle\",\"color\":\"white\",\"tagName\":\"i\"},\"type\":\"info\"}],\"kind\":null,\"name\":\"types\"}]},{\"extends\":null,\"module\":null,\"name\":\"Notification\",\"overrides\":[],\"properties\":[{\"default\":null,\"kind\":null,\"name\":\"background\"},{\"default\":3000,\"kind\":null,\"name\":\"duration\"},{\"default\":null,\"kind\":null,\"name\":\"icon\"},{\"default\":\"\",\"kind\":null,\"name\":\"message\"},{\"default\":null,\"kind\":null,\"name\":\"notification_type\"},{\"default\":false,\"kind\":null,\"name\":\"_destroyed\"}]},{\"extends\":null,\"module\":null,\"name\":\"TemplateActions1\",\"overrides\":[],\"properties\":[{\"default\":0,\"kind\":null,\"name\":\"open_modal\"},{\"default\":0,\"kind\":null,\"name\":\"close_modal\"}]},{\"extends\":null,\"module\":null,\"name\":\"MaterialTemplateActions1\",\"overrides\":[],\"properties\":[{\"default\":0,\"kind\":null,\"name\":\"open_modal\"},{\"default\":0,\"kind\":null,\"name\":\"close_modal\"}]}],\"roots\":{\"references\":[{\"attributes\":{\"below\":[{\"id\":\"1945\"}],\"center\":[{\"id\":\"1947\"},{\"id\":\"1951\"}],\"height\":300,\"left\":[{\"id\":\"1948\"}],\"margin\":[5,5,5,5],\"min_border_bottom\":10,\"min_border_left\":10,\"min_border_right\":10,\"min_border_top\":10,\"renderers\":[{\"id\":\"1971\"}],\"sizing_mode\":\"fixed\",\"title\":{\"id\":\"1937\"},\"toolbar\":{\"id\":\"1958\"},\"width\":700,\"x_range\":{\"id\":\"1933\"},\"x_scale\":{\"id\":\"1941\"},\"y_range\":{\"id\":\"1934\"},\"y_scale\":{\"id\":\"1943\"}},\"id\":\"1936\",\"subtype\":\"Figure\",\"type\":\"Plot\"},{\"attributes\":{},\"id\":\"1941\",\"type\":\"CategoricalScale\"},{\"attributes\":{},\"id\":\"1975\",\"type\":\"CategoricalTickFormatter\"},{\"attributes\":{\"callback\":null,\"renderers\":[{\"id\":\"1971\"}],\"tags\":[\"hv_created\"],\"tooltips\":[[\"index\",\"@{index}\"],[\"0\",\"@{A_0}\"]]},\"id\":\"1935\",\"type\":\"HoverTool\"},{\"attributes\":{},\"id\":\"1943\",\"type\":\"LinearScale\"},{\"attributes\":{\"bottom_units\":\"screen\",\"coordinates\":null,\"fill_alpha\":0.5,\"fill_color\":\"lightgrey\",\"group\":null,\"left_units\":\"screen\",\"level\":\"overlay\",\"line_alpha\":1.0,\"line_color\":\"black\",\"line_dash\":[4,4],\"line_width\":2,\"right_units\":\"screen\",\"syncable\":false,\"top_units\":\"screen\"},\"id\":\"1957\",\"type\":\"BoxAnnotation\"},{\"attributes\":{\"coordinates\":null,\"group\":null,\"text\":\"Missing Variables - Data Shape:(20640, 10)\",\"text_color\":\"black\",\"text_font_size\":\"12pt\"},\"id\":\"1937\",\"type\":\"Title\"},{\"attributes\":{\"end\":9.9,\"reset_end\":9.9,\"reset_start\":0.0,\"tags\":[[[\"0\",\"0\",null]]]},\"id\":\"1934\",\"type\":\"Range1d\"},{\"attributes\":{},\"id\":\"1966\",\"type\":\"Selection\"},{\"attributes\":{\"fill_color\":{\"value\":\"#30a2da\"},\"hatch_color\":{\"value\":\"#30a2da\"},\"top\":{\"field\":\"A_0\"},\"width\":{\"value\":0.8},\"x\":{\"field\":\"index\"}},\"id\":\"1968\",\"type\":\"VBar\"},{\"attributes\":{},\"id\":\"1946\",\"type\":\"CategoricalTicker\"},{\"attributes\":{\"axis\":{\"id\":\"1945\"},\"coordinates\":null,\"grid_line_color\":null,\"group\":null,\"ticker\":null},\"id\":\"1947\",\"type\":\"Grid\"},{\"attributes\":{},\"id\":\"1953\",\"type\":\"PanTool\"},{\"attributes\":{},\"id\":\"1987\",\"type\":\"UnionRenderers\"},{\"attributes\":{\"axis_label\":\"# of missing observations\",\"coordinates\":null,\"formatter\":{\"id\":\"1975\"},\"group\":null,\"major_label_policy\":{\"id\":\"1976\"},\"ticker\":{\"id\":\"1946\"}},\"id\":\"1945\",\"type\":\"CategoricalAxis\"},{\"attributes\":{\"tools\":[{\"id\":\"1935\"},{\"id\":\"1952\"},{\"id\":\"1953\"},{\"id\":\"1954\"},{\"id\":\"1955\"},{\"id\":\"1956\"}]},\"id\":\"1958\",\"type\":\"Toolbar\"},{\"attributes\":{\"axis\":{\"id\":\"1948\"},\"coordinates\":null,\"dimension\":1,\"grid_line_color\":null,\"group\":null,\"ticker\":null},\"id\":\"1951\",\"type\":\"Grid\"},{\"attributes\":{\"bottom\":{\"value\":0},\"fill_alpha\":{\"value\":1.0},\"fill_color\":{\"value\":\"#30a2da\"},\"hatch_alpha\":{\"value\":1.0},\"hatch_color\":{\"value\":\"#30a2da\"},\"hatch_scale\":{\"value\":12.0},\"hatch_weight\":{\"value\":1.0},\"line_alpha\":{\"value\":1.0},\"line_cap\":{\"value\":\"butt\"},\"line_color\":{\"value\":\"black\"},\"line_dash\":{\"value\":[]},\"line_dash_offset\":{\"value\":0},\"line_join\":{\"value\":\"bevel\"},\"line_width\":{\"value\":1},\"top\":{\"field\":\"A_0\"},\"width\":{\"value\":0.8},\"x\":{\"field\":\"index\"}},\"id\":\"1973\",\"type\":\"VBar\"},{\"attributes\":{},\"id\":\"1976\",\"type\":\"AllLabels\"},{\"attributes\":{\"axis_label\":\"# of variables\",\"coordinates\":null,\"formatter\":{\"id\":\"1978\"},\"group\":null,\"major_label_policy\":{\"id\":\"1979\"},\"ticker\":{\"id\":\"1949\"}},\"id\":\"1948\",\"type\":\"LinearAxis\"},{\"attributes\":{\"data\":{\"A_0\":[9,1,0,0,0,0,0,0],\"index\":[\"No Missing\",\"0-5%\",\"5-10%\",\"10-20%\",\"20-30%\",\"30-40%\",\"40-50%\",\"50-100%\"]},\"selected\":{\"id\":\"1966\"},\"selection_policy\":{\"id\":\"1987\"}},\"id\":\"1965\",\"type\":\"ColumnDataSource\"},{\"attributes\":{\"fill_alpha\":{\"value\":0.1},\"fill_color\":{\"value\":\"#30a2da\"},\"hatch_alpha\":{\"value\":0.1},\"hatch_color\":{\"value\":\"#30a2da\"},\"line_alpha\":{\"value\":0.1},\"top\":{\"field\":\"A_0\"},\"width\":{\"value\":0.8},\"x\":{\"field\":\"index\"}},\"id\":\"1969\",\"type\":\"VBar\"},{\"attributes\":{},\"id\":\"1949\",\"type\":\"BasicTicker\"},{\"attributes\":{},\"id\":\"1979\",\"type\":\"AllLabels\"},{\"attributes\":{},\"id\":\"1954\",\"type\":\"WheelZoomTool\"},{\"attributes\":{\"coordinates\":null,\"data_source\":{\"id\":\"1965\"},\"glyph\":{\"id\":\"1968\"},\"group\":null,\"hover_glyph\":null,\"muted_glyph\":{\"id\":\"1970\"},\"nonselection_glyph\":{\"id\":\"1969\"},\"selection_glyph\":{\"id\":\"1973\"},\"view\":{\"id\":\"1972\"}},\"id\":\"1971\",\"type\":\"GlyphRenderer\"},{\"attributes\":{},\"id\":\"1952\",\"type\":\"SaveTool\"},{\"attributes\":{\"source\":{\"id\":\"1965\"}},\"id\":\"1972\",\"type\":\"CDSView\"},{\"attributes\":{\"factors\":[\"No Missing\",\"0-5%\",\"5-10%\",\"10-20%\",\"20-30%\",\"30-40%\",\"40-50%\",\"50-100%\"],\"tags\":[[[\"index\",\"index\",null]]]},\"id\":\"1933\",\"type\":\"FactorRange\"},{\"attributes\":{\"child\":{\"id\":\"1936\"},\"name\":\"housing\",\"title\":\"housing\"},\"id\":\"1990\",\"type\":\"Panel\"},{\"attributes\":{\"overlay\":{\"id\":\"1957\"}},\"id\":\"1955\",\"type\":\"BoxZoomTool\"},{\"attributes\":{},\"id\":\"1956\",\"type\":\"ResetTool\"},{\"attributes\":{\"fill_alpha\":{\"value\":0.2},\"fill_color\":{\"value\":\"#30a2da\"},\"hatch_alpha\":{\"value\":0.2},\"hatch_color\":{\"value\":\"#30a2da\"},\"line_alpha\":{\"value\":0.2},\"top\":{\"field\":\"A_0\"},\"width\":{\"value\":0.8},\"x\":{\"field\":\"index\"}},\"id\":\"1970\",\"type\":\"VBar\"},{\"attributes\":{\"margin\":[0,0,0,0],\"tabs\":[{\"id\":\"1990\"}]},\"id\":\"1932\",\"type\":\"panel.models.tabs.Tabs\"},{\"attributes\":{},\"id\":\"1978\",\"type\":\"BasicTickFormatter\"},{\"attributes\":{\"client_comm_id\":\"c83a84d6232148baa9c84f1288c53d09\",\"comm_id\":\"92cbf5375761450cbc3e160d266868d0\",\"plot_id\":\"1932\"},\"id\":\"2021\",\"type\":\"panel.models.comm_manager.CommManager\"}],\"root_ids\":[\"1932\",\"2021\"]},\"title\":\"Bokeh Application\",\"version\":\"2.4.3\"}};\n",
       "    var render_items = [{\"docid\":\"41eb576a-35fd-49e0-9bee-83ff8bc0bf3d\",\"root_ids\":[\"1932\"],\"roots\":{\"1932\":\"0729acf5-3f3f-4388-8cdd-14552e1383fe\"}}];\n",
       "    root.Bokeh.embed.embed_items_notebook(docs_json, render_items);\n",
       "  }\n",
       "  if (root.Bokeh !== undefined && root.Bokeh.Panel !== undefined) {\n",
       "    embed_document(root);\n",
       "  } else {\n",
       "    var attempts = 0;\n",
       "    var timer = setInterval(function(root) {\n",
       "      if (root.Bokeh !== undefined && root.Bokeh.Panel !== undefined) {\n",
       "        clearInterval(timer);\n",
       "        embed_document(root);\n",
       "      } else if (document.readyState == \"complete\") {\n",
       "        attempts++;\n",
       "        if (attempts > 200) {\n",
       "          clearInterval(timer);\n",
       "          console.log(\"Bokeh: ERROR: Unable to run BokehJS code because BokehJS library is missing\");\n",
       "        }\n",
       "      }\n",
       "    }, 25, root)\n",
       "  }\n",
       "})(window);</script>"
      ],
      "text/plain": [
       "Tabs\n",
       "    [0] HoloViews(Bars, name='housing')"
      ]
     },
     "execution_count": 20,
     "metadata": {
      "application/vnd.holoviews_exec.v0+json": {
       "id": "1932"
      }
     },
     "output_type": "execute_result"
    }
   ],
   "source": [
    "sum1, plot1 = eda.get_missing_values_summary(housing_df, return_plot=True)\n",
    "\n",
    "display_as_tabs([('housing', plot1)])"
   ]
  },
  {
   "cell_type": "markdown",
   "metadata": {},
   "source": [
    "**Dev notes:**\n",
    "\n",
    "<details>\n",
    "    \n",
    "    * By default, the following are considered missing/NA values : `[np.Nan, pd.NaT, 'NA', None]`\n",
    "    * additional values can be passed to tigerml (add_additional_na_values)\n",
    "    * these are applied to all columns.\n",
    "    \n",
    "    * some of the above information can be learnt from the data discovery step (see discussion below)\n",
    "    \n",
    "</details>"
   ]
  },
  {
   "cell_type": "code",
   "execution_count": 21,
   "metadata": {},
   "outputs": [
    {
     "data": {},
     "metadata": {},
     "output_type": "display_data"
    },
    {
     "data": {
      "application/vnd.holoviews_exec.v0+json": "",
      "text/html": [
       "<div id='2072'>\n",
       "  <div class=\"bk-root\" id=\"a4d3e26d-9624-4928-8d9c-e51d4bfce576\" data-root-id=\"2072\"></div>\n",
       "</div>\n",
       "<script type=\"application/javascript\">(function(root) {\n",
       "  function embed_document(root) {\n",
       "    var docs_json = {\"1a28fb22-4015-4a72-a7c4-19e3e9fa4936\":{\"defs\":[{\"extends\":null,\"module\":null,\"name\":\"ReactiveHTML1\",\"overrides\":[],\"properties\":[]},{\"extends\":null,\"module\":null,\"name\":\"FlexBox1\",\"overrides\":[],\"properties\":[{\"default\":\"flex-start\",\"kind\":null,\"name\":\"align_content\"},{\"default\":\"flex-start\",\"kind\":null,\"name\":\"align_items\"},{\"default\":\"row\",\"kind\":null,\"name\":\"flex_direction\"},{\"default\":\"wrap\",\"kind\":null,\"name\":\"flex_wrap\"},{\"default\":\"flex-start\",\"kind\":null,\"name\":\"justify_content\"}]},{\"extends\":null,\"module\":null,\"name\":\"GridStack1\",\"overrides\":[],\"properties\":[{\"default\":\"warn\",\"kind\":null,\"name\":\"mode\"},{\"default\":null,\"kind\":null,\"name\":\"ncols\"},{\"default\":null,\"kind\":null,\"name\":\"nrows\"},{\"default\":true,\"kind\":null,\"name\":\"allow_resize\"},{\"default\":true,\"kind\":null,\"name\":\"allow_drag\"},{\"default\":[],\"kind\":null,\"name\":\"state\"}]},{\"extends\":null,\"module\":null,\"name\":\"click1\",\"overrides\":[],\"properties\":[{\"default\":\"\",\"kind\":null,\"name\":\"terminal_output\"},{\"default\":\"\",\"kind\":null,\"name\":\"debug_name\"},{\"default\":0,\"kind\":null,\"name\":\"clears\"}]},{\"extends\":null,\"module\":null,\"name\":\"NotificationAreaBase1\",\"overrides\":[],\"properties\":[{\"default\":\"bottom-right\",\"kind\":null,\"name\":\"position\"},{\"default\":0,\"kind\":null,\"name\":\"_clear\"}]},{\"extends\":null,\"module\":null,\"name\":\"NotificationArea1\",\"overrides\":[],\"properties\":[{\"default\":[],\"kind\":null,\"name\":\"notifications\"},{\"default\":\"bottom-right\",\"kind\":null,\"name\":\"position\"},{\"default\":0,\"kind\":null,\"name\":\"_clear\"},{\"default\":[{\"background\":\"#ffc107\",\"icon\":{\"className\":\"fas fa-exclamation-triangle\",\"color\":\"white\",\"tagName\":\"i\"},\"type\":\"warning\"},{\"background\":\"#007bff\",\"icon\":{\"className\":\"fas fa-info-circle\",\"color\":\"white\",\"tagName\":\"i\"},\"type\":\"info\"}],\"kind\":null,\"name\":\"types\"}]},{\"extends\":null,\"module\":null,\"name\":\"Notification\",\"overrides\":[],\"properties\":[{\"default\":null,\"kind\":null,\"name\":\"background\"},{\"default\":3000,\"kind\":null,\"name\":\"duration\"},{\"default\":null,\"kind\":null,\"name\":\"icon\"},{\"default\":\"\",\"kind\":null,\"name\":\"message\"},{\"default\":null,\"kind\":null,\"name\":\"notification_type\"},{\"default\":false,\"kind\":null,\"name\":\"_destroyed\"}]},{\"extends\":null,\"module\":null,\"name\":\"TemplateActions1\",\"overrides\":[],\"properties\":[{\"default\":0,\"kind\":null,\"name\":\"open_modal\"},{\"default\":0,\"kind\":null,\"name\":\"close_modal\"}]},{\"extends\":null,\"module\":null,\"name\":\"MaterialTemplateActions1\",\"overrides\":[],\"properties\":[{\"default\":0,\"kind\":null,\"name\":\"open_modal\"},{\"default\":0,\"kind\":null,\"name\":\"close_modal\"}]}],\"roots\":{\"references\":[{\"attributes\":{\"css_classes\":[\"markdown\"],\"margin\":[5,5,5,5],\"name\":\"housing\",\"text\":\"&lt;p&gt;No duplicate variables&lt;/p&gt;\"},\"id\":\"2073\",\"type\":\"panel.models.markup.HTML\"},{\"attributes\":{\"child\":{\"id\":\"2073\"},\"name\":\"housing\",\"title\":\"housing\"},\"id\":\"2074\",\"type\":\"Panel\"},{\"attributes\":{\"client_comm_id\":\"aad6e5bb5c0c4245b33466075dd1ce69\",\"comm_id\":\"242ff0c2569b41b0bf9fc969846c3ce7\",\"plot_id\":\"2072\"},\"id\":\"2075\",\"type\":\"panel.models.comm_manager.CommManager\"},{\"attributes\":{\"margin\":[0,0,0,0],\"tabs\":[{\"id\":\"2074\"}]},\"id\":\"2072\",\"type\":\"panel.models.tabs.Tabs\"}],\"root_ids\":[\"2072\",\"2075\"]},\"title\":\"Bokeh Application\",\"version\":\"2.4.3\"}};\n",
       "    var render_items = [{\"docid\":\"1a28fb22-4015-4a72-a7c4-19e3e9fa4936\",\"root_ids\":[\"2072\"],\"roots\":{\"2072\":\"a4d3e26d-9624-4928-8d9c-e51d4bfce576\"}}];\n",
       "    root.Bokeh.embed.embed_items_notebook(docs_json, render_items);\n",
       "  }\n",
       "  if (root.Bokeh !== undefined && root.Bokeh.Panel !== undefined) {\n",
       "    embed_document(root);\n",
       "  } else {\n",
       "    var attempts = 0;\n",
       "    var timer = setInterval(function(root) {\n",
       "      if (root.Bokeh !== undefined && root.Bokeh.Panel !== undefined) {\n",
       "        clearInterval(timer);\n",
       "        embed_document(root);\n",
       "      } else if (document.readyState == \"complete\") {\n",
       "        attempts++;\n",
       "        if (attempts > 200) {\n",
       "          clearInterval(timer);\n",
       "          console.log(\"Bokeh: ERROR: Unable to run BokehJS code because BokehJS library is missing\");\n",
       "        }\n",
       "      }\n",
       "    }, 25, root)\n",
       "  }\n",
       "})(window);</script>"
      ],
      "text/plain": [
       "Tabs\n",
       "    [0] Markdown(str, name='housing')"
      ]
     },
     "execution_count": 21,
     "metadata": {
      "application/vnd.holoviews_exec.v0+json": {
       "id": "2072"
      }
     },
     "output_type": "execute_result"
    }
   ],
   "source": [
    "sum1 = eda.get_duplicate_columns(housing_df)\n",
    "\n",
    "display_as_tabs([('housing', sum1)])"
   ]
  },
  {
   "cell_type": "code",
   "execution_count": 22,
   "metadata": {},
   "outputs": [
    {
     "data": {},
     "metadata": {},
     "output_type": "display_data"
    },
    {
     "data": {
      "application/vnd.holoviews_exec.v0+json": "",
      "text/html": [
       "<div id='2076'>\n",
       "  <div class=\"bk-root\" id=\"1ebec51a-adcf-4d41-a361-926558bbbaf4\" data-root-id=\"2076\"></div>\n",
       "</div>\n",
       "<script type=\"application/javascript\">(function(root) {\n",
       "  function embed_document(root) {\n",
       "    var docs_json = {\"e20e92b7-bf7d-4cf4-9002-01650a4d7d60\":{\"defs\":[{\"extends\":null,\"module\":null,\"name\":\"ReactiveHTML1\",\"overrides\":[],\"properties\":[]},{\"extends\":null,\"module\":null,\"name\":\"FlexBox1\",\"overrides\":[],\"properties\":[{\"default\":\"flex-start\",\"kind\":null,\"name\":\"align_content\"},{\"default\":\"flex-start\",\"kind\":null,\"name\":\"align_items\"},{\"default\":\"row\",\"kind\":null,\"name\":\"flex_direction\"},{\"default\":\"wrap\",\"kind\":null,\"name\":\"flex_wrap\"},{\"default\":\"flex-start\",\"kind\":null,\"name\":\"justify_content\"}]},{\"extends\":null,\"module\":null,\"name\":\"GridStack1\",\"overrides\":[],\"properties\":[{\"default\":\"warn\",\"kind\":null,\"name\":\"mode\"},{\"default\":null,\"kind\":null,\"name\":\"ncols\"},{\"default\":null,\"kind\":null,\"name\":\"nrows\"},{\"default\":true,\"kind\":null,\"name\":\"allow_resize\"},{\"default\":true,\"kind\":null,\"name\":\"allow_drag\"},{\"default\":[],\"kind\":null,\"name\":\"state\"}]},{\"extends\":null,\"module\":null,\"name\":\"click1\",\"overrides\":[],\"properties\":[{\"default\":\"\",\"kind\":null,\"name\":\"terminal_output\"},{\"default\":\"\",\"kind\":null,\"name\":\"debug_name\"},{\"default\":0,\"kind\":null,\"name\":\"clears\"}]},{\"extends\":null,\"module\":null,\"name\":\"NotificationAreaBase1\",\"overrides\":[],\"properties\":[{\"default\":\"bottom-right\",\"kind\":null,\"name\":\"position\"},{\"default\":0,\"kind\":null,\"name\":\"_clear\"}]},{\"extends\":null,\"module\":null,\"name\":\"NotificationArea1\",\"overrides\":[],\"properties\":[{\"default\":[],\"kind\":null,\"name\":\"notifications\"},{\"default\":\"bottom-right\",\"kind\":null,\"name\":\"position\"},{\"default\":0,\"kind\":null,\"name\":\"_clear\"},{\"default\":[{\"background\":\"#ffc107\",\"icon\":{\"className\":\"fas fa-exclamation-triangle\",\"color\":\"white\",\"tagName\":\"i\"},\"type\":\"warning\"},{\"background\":\"#007bff\",\"icon\":{\"className\":\"fas fa-info-circle\",\"color\":\"white\",\"tagName\":\"i\"},\"type\":\"info\"}],\"kind\":null,\"name\":\"types\"}]},{\"extends\":null,\"module\":null,\"name\":\"Notification\",\"overrides\":[],\"properties\":[{\"default\":null,\"kind\":null,\"name\":\"background\"},{\"default\":3000,\"kind\":null,\"name\":\"duration\"},{\"default\":null,\"kind\":null,\"name\":\"icon\"},{\"default\":\"\",\"kind\":null,\"name\":\"message\"},{\"default\":null,\"kind\":null,\"name\":\"notification_type\"},{\"default\":false,\"kind\":null,\"name\":\"_destroyed\"}]},{\"extends\":null,\"module\":null,\"name\":\"TemplateActions1\",\"overrides\":[],\"properties\":[{\"default\":0,\"kind\":null,\"name\":\"open_modal\"},{\"default\":0,\"kind\":null,\"name\":\"close_modal\"}]},{\"extends\":null,\"module\":null,\"name\":\"MaterialTemplateActions1\",\"overrides\":[],\"properties\":[{\"default\":0,\"kind\":null,\"name\":\"open_modal\"},{\"default\":0,\"kind\":null,\"name\":\"close_modal\"}]}],\"roots\":{\"references\":[{\"attributes\":{},\"id\":\"2096\",\"type\":\"IntEditor\"},{\"attributes\":{},\"id\":\"2086\",\"type\":\"IntEditor\"},{\"attributes\":{\"text_align\":\"right\"},\"id\":\"2115\",\"type\":\"NumberFormatter\"},{\"attributes\":{\"text_align\":\"right\"},\"id\":\"2105\",\"type\":\"NumberFormatter\"},{\"attributes\":{\"text_align\":\"right\"},\"id\":\"2090\",\"type\":\"NumberFormatter\"},{\"attributes\":{\"columns\":[{\"id\":\"2082\"},{\"id\":\"2087\"},{\"id\":\"2092\"},{\"id\":\"2097\"},{\"id\":\"2102\"},{\"id\":\"2107\"},{\"id\":\"2112\"},{\"id\":\"2117\"}],\"editable\":true,\"height\":300,\"index_position\":null,\"margin\":[5,10,5,10],\"name\":\"housing\",\"row_height\":40,\"sizing_mode\":\"fixed\",\"source\":{\"id\":\"2077\"},\"view\":{\"id\":\"2122\"},\"width\":800},\"id\":\"2120\",\"type\":\"DataTable\"},{\"attributes\":{\"editor\":{\"id\":\"2106\"},\"field\":\"> (3rdQ + 1.5 * IQR)\",\"formatter\":{\"id\":\"2105\"},\"title\":\"> (3rdQ + 1.5 * IQR)\",\"width\":0},\"id\":\"2107\",\"type\":\"TableColumn\"},{\"attributes\":{\"text_align\":\"right\"},\"id\":\"2095\",\"type\":\"NumberFormatter\"},{\"attributes\":{\"editor\":{\"id\":\"2116\"},\"field\":\"+inf\",\"formatter\":{\"id\":\"2115\"},\"title\":\"+inf\",\"width\":0},\"id\":\"2117\",\"type\":\"TableColumn\"},{\"attributes\":{\"data\":{\"+inf\":[0,0,0,0,0,0],\"-inf\":[0,0,0,0,0,0],\"< (1stQ - 1.5 * IQR)\":[0,0,0,0,0,0],\"< (mean-3*std)\":[0,0,0,0,0,0],\"> (3rdQ + 1.5 * IQR)\":[1287,1271,1196,1220,681,1071],\"> (mean+3*std)\":[373,368,342,363,345,0],\"Feature\":[\"total_rooms\",\"total_bedrooms\",\"population\",\"households\",\"median_income\",\"median_house_value\"],\"N\":[20640,20640,20640,20640,20640,20640]},\"selected\":{\"id\":\"2078\"},\"selection_policy\":{\"id\":\"2125\"}},\"id\":\"2077\",\"type\":\"ColumnDataSource\"},{\"attributes\":{},\"id\":\"2125\",\"type\":\"UnionRenderers\"},{\"attributes\":{\"source\":{\"id\":\"2077\"}},\"id\":\"2122\",\"type\":\"CDSView\"},{\"attributes\":{},\"id\":\"2111\",\"type\":\"IntEditor\"},{\"attributes\":{},\"id\":\"2106\",\"type\":\"IntEditor\"},{\"attributes\":{},\"id\":\"2101\",\"type\":\"IntEditor\"},{\"attributes\":{\"editor\":{\"id\":\"2111\"},\"field\":\"-inf\",\"formatter\":{\"id\":\"2110\"},\"title\":\"-inf\",\"width\":0},\"id\":\"2112\",\"type\":\"TableColumn\"},{\"attributes\":{\"text_align\":\"right\"},\"id\":\"2085\",\"type\":\"NumberFormatter\"},{\"attributes\":{\"editor\":{\"id\":\"2086\"},\"field\":\"N\",\"formatter\":{\"id\":\"2085\"},\"title\":\"N\",\"width\":0},\"id\":\"2087\",\"type\":\"TableColumn\"},{\"attributes\":{\"editor\":{\"id\":\"2096\"},\"field\":\"> (mean+3*std)\",\"formatter\":{\"id\":\"2095\"},\"title\":\"> (mean+3*std)\",\"width\":0},\"id\":\"2097\",\"type\":\"TableColumn\"},{\"attributes\":{\"editor\":{\"id\":\"2091\"},\"field\":\"< (mean-3*std)\",\"formatter\":{\"id\":\"2090\"},\"title\":\"< (mean-3*std)\",\"width\":0},\"id\":\"2092\",\"type\":\"TableColumn\"},{\"attributes\":{},\"id\":\"2091\",\"type\":\"IntEditor\"},{\"attributes\":{\"client_comm_id\":\"3e792c7664f747c0aee04088af393053\",\"comm_id\":\"a0a944bb1b104008893cdabeac5ccfd6\",\"plot_id\":\"2076\"},\"id\":\"2131\",\"type\":\"panel.models.comm_manager.CommManager\"},{\"attributes\":{},\"id\":\"2079\",\"type\":\"StringFormatter\"},{\"attributes\":{},\"id\":\"2116\",\"type\":\"IntEditor\"},{\"attributes\":{\"text_align\":\"right\"},\"id\":\"2100\",\"type\":\"NumberFormatter\"},{\"attributes\":{\"child\":{\"id\":\"2120\"},\"name\":\"housing\",\"title\":\"housing\"},\"id\":\"2124\",\"type\":\"Panel\"},{\"attributes\":{\"editor\":{\"id\":\"2081\"},\"field\":\"Feature\",\"formatter\":{\"id\":\"2079\"},\"title\":\"Feature\",\"width\":0},\"id\":\"2082\",\"type\":\"TableColumn\"},{\"attributes\":{\"margin\":[0,0,0,0],\"tabs\":[{\"id\":\"2124\"}]},\"id\":\"2076\",\"type\":\"panel.models.tabs.Tabs\"},{\"attributes\":{},\"id\":\"2081\",\"type\":\"CellEditor\"},{\"attributes\":{\"text_align\":\"right\"},\"id\":\"2110\",\"type\":\"NumberFormatter\"},{\"attributes\":{\"editor\":{\"id\":\"2101\"},\"field\":\"< (1stQ - 1.5 * IQR)\",\"formatter\":{\"id\":\"2100\"},\"title\":\"< (1stQ - 1.5 * IQR)\",\"width\":0},\"id\":\"2102\",\"type\":\"TableColumn\"},{\"attributes\":{\"indices\":[]},\"id\":\"2078\",\"type\":\"Selection\"}],\"root_ids\":[\"2076\",\"2131\"]},\"title\":\"Bokeh Application\",\"version\":\"2.4.3\"}};\n",
       "    var render_items = [{\"docid\":\"e20e92b7-bf7d-4cf4-9002-01650a4d7d60\",\"root_ids\":[\"2076\"],\"roots\":{\"2076\":\"1ebec51a-adcf-4d41-a361-926558bbbaf4\"}}];\n",
       "    root.Bokeh.embed.embed_items_notebook(docs_json, render_items);\n",
       "  }\n",
       "  if (root.Bokeh !== undefined && root.Bokeh.Panel !== undefined) {\n",
       "    embed_document(root);\n",
       "  } else {\n",
       "    var attempts = 0;\n",
       "    var timer = setInterval(function(root) {\n",
       "      if (root.Bokeh !== undefined && root.Bokeh.Panel !== undefined) {\n",
       "        clearInterval(timer);\n",
       "        embed_document(root);\n",
       "      } else if (document.readyState == \"complete\") {\n",
       "        attempts++;\n",
       "        if (attempts > 200) {\n",
       "          clearInterval(timer);\n",
       "          console.log(\"Bokeh: ERROR: Unable to run BokehJS code because BokehJS library is missing\");\n",
       "        }\n",
       "      }\n",
       "    }, 25, root)\n",
       "  }\n",
       "})(window);</script>"
      ],
      "text/plain": [
       "Tabs\n",
       "    [0] DataFrame(height=300, name='housing', sizing_mode='fixed', value=              ..., width=800)"
      ]
     },
     "execution_count": 22,
     "metadata": {
      "application/vnd.holoviews_exec.v0+json": {
       "id": "2076"
      }
     },
     "output_type": "execute_result"
    }
   ],
   "source": [
    "sum1 = eda.get_outliers(housing_df)\n",
    "\n",
    "display_as_tabs([('housing', sum1)])"
   ]
  },
  {
   "cell_type": "markdown",
   "metadata": {},
   "source": [
    "## Health Analysis report\n",
    "\n",
    "Generate a report that has all the above data in a single html. This could be useful to submit to a client"
   ]
  },
  {
   "cell_type": "code",
   "execution_count": 23,
   "metadata": {},
   "outputs": [],
   "source": [
    "from ta_lib.reports.api import summary_report\n",
    "\n",
    "summary_report(housing_df, './housing.html')"
   ]
  }
 ],
 "metadata": {
  "kernelspec": {
   "display_name": "Python 3 (ipykernel)",
   "language": "python",
   "name": "python3"
  },
  "language_info": {
   "codemirror_mode": {
    "name": "ipython",
    "version": 3
   },
   "file_extension": ".py",
   "mimetype": "text/x-python",
   "name": "python",
   "nbconvert_exporter": "python",
   "pygments_lexer": "ipython3",
   "version": "3.9.16"
  }
 },
 "nbformat": 4,
 "nbformat_minor": 4
}
